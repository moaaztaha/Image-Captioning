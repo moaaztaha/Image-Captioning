{
 "cells": [
  {
   "cell_type": "code",
   "execution_count": 1,
   "id": "aec1ace9",
   "metadata": {},
   "outputs": [],
   "source": [
    "import pandas as pd"
   ]
  },
  {
   "cell_type": "code",
   "execution_count": 2,
   "id": "1f8264ef",
   "metadata": {},
   "outputs": [
    {
     "data": {
      "text/html": [
       "<div>\n",
       "<style scoped>\n",
       "    .dataframe tbody tr th:only-of-type {\n",
       "        vertical-align: middle;\n",
       "    }\n",
       "\n",
       "    .dataframe tbody tr th {\n",
       "        vertical-align: top;\n",
       "    }\n",
       "\n",
       "    .dataframe thead th {\n",
       "        text-align: right;\n",
       "    }\n",
       "</style>\n",
       "<table border=\"1\" class=\"dataframe\">\n",
       "  <thead>\n",
       "    <tr style=\"text-align: right;\">\n",
       "      <th></th>\n",
       "      <th>file_name</th>\n",
       "      <th>caption</th>\n",
       "      <th>split</th>\n",
       "      <th>tok_len</th>\n",
       "      <th>tokens</th>\n",
       "    </tr>\n",
       "  </thead>\n",
       "  <tbody>\n",
       "    <tr>\n",
       "      <th>0</th>\n",
       "      <td>1000268201_693b08cb0e.jpg</td>\n",
       "      <td>طفلة صغيرة تتسلق إلى مسرح خشبي</td>\n",
       "      <td>train</td>\n",
       "      <td>10</td>\n",
       "      <td>[طفل, +, ة, صغير, +, ة, تتسلق, إلى, مسرح, خشبي]</td>\n",
       "    </tr>\n",
       "    <tr>\n",
       "      <th>1</th>\n",
       "      <td>1000268201_693b08cb0e.jpg</td>\n",
       "      <td>طفلة صغيرة تتسلق الدرج إلى منزلها</td>\n",
       "      <td>train</td>\n",
       "      <td>14</td>\n",
       "      <td>[طفل, +, ة, صغير, +, ة, تتسلق, ال, +, درج, إلى...</td>\n",
       "    </tr>\n",
       "    <tr>\n",
       "      <th>2</th>\n",
       "      <td>1000268201_693b08cb0e.jpg</td>\n",
       "      <td>فتاة صغيرة في ثوب وردي تذهب إلى المقصورة الخشبية</td>\n",
       "      <td>train</td>\n",
       "      <td>21</td>\n",
       "      <td>[فتا, +, ة, صغير, +, ة, في, ثوب, وردي, تذهب, إ...</td>\n",
       "    </tr>\n",
       "    <tr>\n",
       "      <th>3</th>\n",
       "      <td>1001773457_577c3a7d70.jpg</td>\n",
       "      <td>كلب أسود وكلب ثلاثي الألوان يلعبان مع بعضهما ا...</td>\n",
       "      <td>train</td>\n",
       "      <td>23</td>\n",
       "      <td>[كلب, أسود, و, +, كلب, ثلاثي, ال, +, ألوان, يل...</td>\n",
       "    </tr>\n",
       "    <tr>\n",
       "      <th>4</th>\n",
       "      <td>1001773457_577c3a7d70.jpg</td>\n",
       "      <td>كلب أسود وكلب أبيض ببقع بنية يحدقان في بعضهما ...</td>\n",
       "      <td>train</td>\n",
       "      <td>24</td>\n",
       "      <td>[كلب, أسود, و, +, كلب, أبيض, ب, +, بقع, بني, +...</td>\n",
       "    </tr>\n",
       "  </tbody>\n",
       "</table>\n",
       "</div>"
      ],
      "text/plain": [
       "                   file_name  \\\n",
       "0  1000268201_693b08cb0e.jpg   \n",
       "1  1000268201_693b08cb0e.jpg   \n",
       "2  1000268201_693b08cb0e.jpg   \n",
       "3  1001773457_577c3a7d70.jpg   \n",
       "4  1001773457_577c3a7d70.jpg   \n",
       "\n",
       "                                             caption  split  tok_len  \\\n",
       "0                     طفلة صغيرة تتسلق إلى مسرح خشبي  train       10   \n",
       "1                  طفلة صغيرة تتسلق الدرج إلى منزلها  train       14   \n",
       "2   فتاة صغيرة في ثوب وردي تذهب إلى المقصورة الخشبية  train       21   \n",
       "3  كلب أسود وكلب ثلاثي الألوان يلعبان مع بعضهما ا...  train       23   \n",
       "4  كلب أسود وكلب أبيض ببقع بنية يحدقان في بعضهما ...  train       24   \n",
       "\n",
       "                                              tokens  \n",
       "0    [طفل, +, ة, صغير, +, ة, تتسلق, إلى, مسرح, خشبي]  \n",
       "1  [طفل, +, ة, صغير, +, ة, تتسلق, ال, +, درج, إلى...  \n",
       "2  [فتا, +, ة, صغير, +, ة, في, ثوب, وردي, تذهب, إ...  \n",
       "3  [كلب, أسود, و, +, كلب, ثلاثي, ال, +, ألوان, يل...  \n",
       "4  [كلب, أسود, و, +, كلب, أبيض, ب, +, بقع, بني, +...  "
      ]
     },
     "execution_count": 2,
     "metadata": {},
     "output_type": "execute_result"
    }
   ],
   "source": [
    "df = pd.read_json(\"data/ar_data.json\")\n",
    "df.head()"
   ]
  },
  {
   "cell_type": "code",
   "execution_count": 3,
   "id": "18179624",
   "metadata": {},
   "outputs": [
    {
     "data": {
      "text/plain": [
       "(2, 60)"
      ]
     },
     "execution_count": 3,
     "metadata": {},
     "output_type": "execute_result"
    }
   ],
   "source": [
    "df.tok_len.min(), df.tok_len.max()"
   ]
  },
  {
   "cell_type": "code",
   "execution_count": 8,
   "id": "a7617c6d",
   "metadata": {},
   "outputs": [
    {
     "data": {
      "text/html": [
       "<div>\n",
       "<style scoped>\n",
       "    .dataframe tbody tr th:only-of-type {\n",
       "        vertical-align: middle;\n",
       "    }\n",
       "\n",
       "    .dataframe tbody tr th {\n",
       "        vertical-align: top;\n",
       "    }\n",
       "\n",
       "    .dataframe thead th {\n",
       "        text-align: right;\n",
       "    }\n",
       "</style>\n",
       "<table border=\"1\" class=\"dataframe\">\n",
       "  <thead>\n",
       "    <tr style=\"text-align: right;\">\n",
       "      <th></th>\n",
       "      <th>file_name</th>\n",
       "      <th>caption</th>\n",
       "      <th>split</th>\n",
       "      <th>tok_len</th>\n",
       "      <th>tokens</th>\n",
       "    </tr>\n",
       "  </thead>\n",
       "  <tbody>\n",
       "    <tr>\n",
       "      <th>15</th>\n",
       "      <td>1007320043_627395c3d8.jpg</td>\n",
       "      <td>طفل يلعب على حبل</td>\n",
       "      <td>train</td>\n",
       "      <td>4</td>\n",
       "      <td>[طفل, يلعب, على, حبل]</td>\n",
       "    </tr>\n",
       "    <tr>\n",
       "      <th>218</th>\n",
       "      <td>1089181217_ee1167f7af.jpg</td>\n",
       "      <td>كلب يسير في طريق</td>\n",
       "      <td>train</td>\n",
       "      <td>4</td>\n",
       "      <td>[كلب, يسير, في, طريق]</td>\n",
       "    </tr>\n",
       "    <tr>\n",
       "      <th>246</th>\n",
       "      <td>1095580424_76f0aa8a3e.jpg</td>\n",
       "      <td>كلب يخرج من نفق</td>\n",
       "      <td>train</td>\n",
       "      <td>4</td>\n",
       "      <td>[كلب, يخرج, من, نفق]</td>\n",
       "    </tr>\n",
       "    <tr>\n",
       "      <th>249</th>\n",
       "      <td>1095590286_c654f7e5a9.jpg</td>\n",
       "      <td>كلب يطارد كلب آخر</td>\n",
       "      <td>train</td>\n",
       "      <td>4</td>\n",
       "      <td>[كلب, يطارد, كلب, آخر]</td>\n",
       "    </tr>\n",
       "    <tr>\n",
       "      <th>251</th>\n",
       "      <td>1095590286_c654f7e5a9.jpg</td>\n",
       "      <td>كلبان يركضان</td>\n",
       "      <td>train</td>\n",
       "      <td>4</td>\n",
       "      <td>[كلب, +, ان, يركضان]</td>\n",
       "    </tr>\n",
       "    <tr>\n",
       "      <th>...</th>\n",
       "      <td>...</td>\n",
       "      <td>...</td>\n",
       "      <td>...</td>\n",
       "      <td>...</td>\n",
       "      <td>...</td>\n",
       "    </tr>\n",
       "    <tr>\n",
       "      <th>23850</th>\n",
       "      <td>95151149_5ca6747df6.jpg</td>\n",
       "      <td>منظر طبيعي جبلي</td>\n",
       "      <td>train</td>\n",
       "      <td>3</td>\n",
       "      <td>[منظر, طبيعي, جبلي]</td>\n",
       "    </tr>\n",
       "    <tr>\n",
       "      <th>23852</th>\n",
       "      <td>95151149_5ca6747df6.jpg</td>\n",
       "      <td>جبال صخرية</td>\n",
       "      <td>train</td>\n",
       "      <td>4</td>\n",
       "      <td>[جبال, صخري, +, ة]</td>\n",
       "    </tr>\n",
       "    <tr>\n",
       "      <th>23946</th>\n",
       "      <td>975131015_9acd25db9c.jpg</td>\n",
       "      <td>صبي أشقر يداعب نمر</td>\n",
       "      <td>train</td>\n",
       "      <td>4</td>\n",
       "      <td>[صبي, أشقر, يداعب, نمر]</td>\n",
       "    </tr>\n",
       "    <tr>\n",
       "      <th>23947</th>\n",
       "      <td>975131015_9acd25db9c.jpg</td>\n",
       "      <td>صبي يداعب نمر نائم</td>\n",
       "      <td>train</td>\n",
       "      <td>4</td>\n",
       "      <td>[صبي, يداعب, نمر, نائم]</td>\n",
       "    </tr>\n",
       "    <tr>\n",
       "      <th>23961</th>\n",
       "      <td>978580450_e862715aba.jpg</td>\n",
       "      <td>طفل شقراء يسبح</td>\n",
       "      <td>train</td>\n",
       "      <td>3</td>\n",
       "      <td>[طفل, شقراء, يسبح]</td>\n",
       "    </tr>\n",
       "  </tbody>\n",
       "</table>\n",
       "<p>319 rows × 5 columns</p>\n",
       "</div>"
      ],
      "text/plain": [
       "                       file_name             caption  split  tok_len  \\\n",
       "15     1007320043_627395c3d8.jpg    طفل يلعب على حبل  train        4   \n",
       "218    1089181217_ee1167f7af.jpg    كلب يسير في طريق  train        4   \n",
       "246    1095580424_76f0aa8a3e.jpg     كلب يخرج من نفق  train        4   \n",
       "249    1095590286_c654f7e5a9.jpg   كلب يطارد كلب آخر  train        4   \n",
       "251    1095590286_c654f7e5a9.jpg        كلبان يركضان  train        4   \n",
       "...                          ...                 ...    ...      ...   \n",
       "23850    95151149_5ca6747df6.jpg     منظر طبيعي جبلي  train        3   \n",
       "23852    95151149_5ca6747df6.jpg          جبال صخرية  train        4   \n",
       "23946   975131015_9acd25db9c.jpg  صبي أشقر يداعب نمر  train        4   \n",
       "23947   975131015_9acd25db9c.jpg  صبي يداعب نمر نائم  train        4   \n",
       "23961   978580450_e862715aba.jpg      طفل شقراء يسبح  train        3   \n",
       "\n",
       "                        tokens  \n",
       "15       [طفل, يلعب, على, حبل]  \n",
       "218      [كلب, يسير, في, طريق]  \n",
       "246       [كلب, يخرج, من, نفق]  \n",
       "249     [كلب, يطارد, كلب, آخر]  \n",
       "251       [كلب, +, ان, يركضان]  \n",
       "...                        ...  \n",
       "23850      [منظر, طبيعي, جبلي]  \n",
       "23852       [جبال, صخري, +, ة]  \n",
       "23946  [صبي, أشقر, يداعب, نمر]  \n",
       "23947  [صبي, يداعب, نمر, نائم]  \n",
       "23961       [طفل, شقراء, يسبح]  \n",
       "\n",
       "[319 rows x 5 columns]"
      ]
     },
     "execution_count": 8,
     "metadata": {},
     "output_type": "execute_result"
    }
   ],
   "source": [
    "df_less_5 = df[df.tok_len < 5]\n",
    "df_less_5"
   ]
  },
  {
   "cell_type": "code",
   "execution_count": 14,
   "id": "9a48f661",
   "metadata": {},
   "outputs": [
    {
     "data": {
      "text/plain": [
       "(249, 38, 32)"
      ]
     },
     "execution_count": 14,
     "metadata": {},
     "output_type": "execute_result"
    }
   ],
   "source": [
    "df_less_5[df_less_5.split=='train'].shape[0], df_less_5[df_less_5.split=='val'].shape[0], df_less_5[df_less_5.split=='test'].shape[0]"
   ]
  },
  {
   "cell_type": "code",
   "execution_count": 29,
   "id": "31371326",
   "metadata": {},
   "outputs": [
    {
     "data": {
      "text/html": [
       "<div>\n",
       "<style scoped>\n",
       "    .dataframe tbody tr th:only-of-type {\n",
       "        vertical-align: middle;\n",
       "    }\n",
       "\n",
       "    .dataframe tbody tr th {\n",
       "        vertical-align: top;\n",
       "    }\n",
       "\n",
       "    .dataframe thead th {\n",
       "        text-align: right;\n",
       "    }\n",
       "</style>\n",
       "<table border=\"1\" class=\"dataframe\">\n",
       "  <thead>\n",
       "    <tr style=\"text-align: right;\">\n",
       "      <th></th>\n",
       "      <th>index</th>\n",
       "      <th>file_name</th>\n",
       "    </tr>\n",
       "  </thead>\n",
       "  <tbody>\n",
       "    <tr>\n",
       "      <th>0</th>\n",
       "      <td>1095590286_c654f7e5a9.jpg</td>\n",
       "      <td>False</td>\n",
       "    </tr>\n",
       "    <tr>\n",
       "      <th>1</th>\n",
       "      <td>3111208043_dbe8e87fa1.jpg</td>\n",
       "      <td>False</td>\n",
       "    </tr>\n",
       "    <tr>\n",
       "      <th>2</th>\n",
       "      <td>2439154641_bbf985aa57.jpg</td>\n",
       "      <td>False</td>\n",
       "    </tr>\n",
       "    <tr>\n",
       "      <th>3</th>\n",
       "      <td>436393371_822ee70952.jpg</td>\n",
       "      <td>False</td>\n",
       "    </tr>\n",
       "    <tr>\n",
       "      <th>4</th>\n",
       "      <td>3381584882_341ee3092f.jpg</td>\n",
       "      <td>False</td>\n",
       "    </tr>\n",
       "    <tr>\n",
       "      <th>...</th>\n",
       "      <td>...</td>\n",
       "      <td>...</td>\n",
       "    </tr>\n",
       "    <tr>\n",
       "      <th>299</th>\n",
       "      <td>2884252132_5d8e776893.jpg</td>\n",
       "      <td>False</td>\n",
       "    </tr>\n",
       "    <tr>\n",
       "      <th>300</th>\n",
       "      <td>2902661518_1513be3ea6.jpg</td>\n",
       "      <td>False</td>\n",
       "    </tr>\n",
       "    <tr>\n",
       "      <th>301</th>\n",
       "      <td>2466171100_5e60cfcc11.jpg</td>\n",
       "      <td>False</td>\n",
       "    </tr>\n",
       "    <tr>\n",
       "      <th>302</th>\n",
       "      <td>2402793046_3385554e81.jpg</td>\n",
       "      <td>False</td>\n",
       "    </tr>\n",
       "    <tr>\n",
       "      <th>303</th>\n",
       "      <td>1772859261_236c09b861.jpg</td>\n",
       "      <td>False</td>\n",
       "    </tr>\n",
       "  </tbody>\n",
       "</table>\n",
       "<p>304 rows × 2 columns</p>\n",
       "</div>"
      ],
      "text/plain": [
       "                         index  file_name\n",
       "0    1095590286_c654f7e5a9.jpg      False\n",
       "1    3111208043_dbe8e87fa1.jpg      False\n",
       "2    2439154641_bbf985aa57.jpg      False\n",
       "3     436393371_822ee70952.jpg      False\n",
       "4    3381584882_341ee3092f.jpg      False\n",
       "..                         ...        ...\n",
       "299  2884252132_5d8e776893.jpg      False\n",
       "300  2902661518_1513be3ea6.jpg      False\n",
       "301  2466171100_5e60cfcc11.jpg      False\n",
       "302  2402793046_3385554e81.jpg      False\n",
       "303  1772859261_236c09b861.jpg      False\n",
       "\n",
       "[304 rows x 2 columns]"
      ]
     },
     "execution_count": 29,
     "metadata": {},
     "output_type": "execute_result"
    }
   ],
   "source": [
    "pd.DataFrame(df_less_5.file_name.value_counts() > 2).reset_indext_index()"
   ]
  },
  {
   "cell_type": "markdown",
   "id": "3284b2e9",
   "metadata": {},
   "source": [
    "### Drop (rows) captions with less than 5 tokens"
   ]
  },
  {
   "cell_type": "code",
   "execution_count": 31,
   "id": "c966e2e8",
   "metadata": {},
   "outputs": [
    {
     "data": {
      "text/plain": [
       "0        False\n",
       "1        False\n",
       "2        False\n",
       "3        False\n",
       "4        False\n",
       "         ...  \n",
       "23995    False\n",
       "23996    False\n",
       "23997    False\n",
       "23998    False\n",
       "23999    False\n",
       "Name: tok_len, Length: 24000, dtype: bool"
      ]
     },
     "execution_count": 31,
     "metadata": {},
     "output_type": "execute_result"
    }
   ],
   "source": [
    "df.tok_len < 5"
   ]
  },
  {
   "cell_type": "code",
   "execution_count": 35,
   "id": "d0599cba",
   "metadata": {},
   "outputs": [
    {
     "data": {
      "text/plain": [
       "(23681, 5)"
      ]
     },
     "execution_count": 35,
     "metadata": {},
     "output_type": "execute_result"
    }
   ],
   "source": [
    "df.drop(df[df.tok_len < 5].index).shape"
   ]
  },
  {
   "cell_type": "code",
   "execution_count": 36,
   "id": "676e68c5",
   "metadata": {},
   "outputs": [],
   "source": [
    "df.to_json(\"data/data_no_less_than_5.json\")"
   ]
  }
 ],
 "metadata": {
  "kernelspec": {
   "display_name": "Python 3",
   "language": "python",
   "name": "python3"
  },
  "language_info": {
   "codemirror_mode": {
    "name": "ipython",
    "version": 3
   },
   "file_extension": ".py",
   "mimetype": "text/x-python",
   "name": "python",
   "nbconvert_exporter": "python",
   "pygments_lexer": "ipython3",
   "version": "3.6.13"
  }
 },
 "nbformat": 4,
 "nbformat_minor": 5
}
