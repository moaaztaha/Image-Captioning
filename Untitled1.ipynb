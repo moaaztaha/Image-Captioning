{
 "cells": [
  {
   "cell_type": "code",
   "execution_count": 12,
   "id": "439feafe",
   "metadata": {},
   "outputs": [],
   "source": [
    "import pandas as pd\n",
    "from shutil import copy2\n",
    "from tqdm import tqdm"
   ]
  },
  {
   "cell_type": "code",
   "execution_count": 3,
   "id": "9a5ba6ea",
   "metadata": {},
   "outputs": [
    {
     "data": {
      "text/html": [
       "<div>\n",
       "<style scoped>\n",
       "    .dataframe tbody tr th:only-of-type {\n",
       "        vertical-align: middle;\n",
       "    }\n",
       "\n",
       "    .dataframe tbody tr th {\n",
       "        vertical-align: top;\n",
       "    }\n",
       "\n",
       "    .dataframe thead th {\n",
       "        text-align: right;\n",
       "    }\n",
       "</style>\n",
       "<table border=\"1\" class=\"dataframe\">\n",
       "  <thead>\n",
       "    <tr style=\"text-align: right;\">\n",
       "      <th></th>\n",
       "      <th>file_name</th>\n",
       "      <th>caption</th>\n",
       "      <th>split</th>\n",
       "      <th>tok_len</th>\n",
       "      <th>tokens</th>\n",
       "    </tr>\n",
       "  </thead>\n",
       "  <tbody>\n",
       "    <tr>\n",
       "      <th>0</th>\n",
       "      <td>1000268201_693b08cb0e.jpg</td>\n",
       "      <td>طفلة صغيرة تتسلق إلى مسرح خشبي</td>\n",
       "      <td>train</td>\n",
       "      <td>10</td>\n",
       "      <td>[طفل, +, ة, صغير, +, ة, تتسلق, إلى, مسرح, خشبي]</td>\n",
       "    </tr>\n",
       "    <tr>\n",
       "      <th>1</th>\n",
       "      <td>1000268201_693b08cb0e.jpg</td>\n",
       "      <td>طفلة صغيرة تتسلق الدرج إلى منزلها</td>\n",
       "      <td>train</td>\n",
       "      <td>14</td>\n",
       "      <td>[طفل, +, ة, صغير, +, ة, تتسلق, ال, +, درج, إلى...</td>\n",
       "    </tr>\n",
       "    <tr>\n",
       "      <th>2</th>\n",
       "      <td>1000268201_693b08cb0e.jpg</td>\n",
       "      <td>فتاة صغيرة في ثوب وردي تذهب إلى المقصورة الخشبية</td>\n",
       "      <td>train</td>\n",
       "      <td>21</td>\n",
       "      <td>[فتا, +, ة, صغير, +, ة, في, ثوب, وردي, تذهب, إ...</td>\n",
       "    </tr>\n",
       "    <tr>\n",
       "      <th>3</th>\n",
       "      <td>1001773457_577c3a7d70.jpg</td>\n",
       "      <td>كلب أسود وكلب ثلاثي الألوان يلعبان مع بعضهما ا...</td>\n",
       "      <td>train</td>\n",
       "      <td>23</td>\n",
       "      <td>[كلب, أسود, و, +, كلب, ثلاثي, ال, +, ألوان, يل...</td>\n",
       "    </tr>\n",
       "    <tr>\n",
       "      <th>4</th>\n",
       "      <td>1001773457_577c3a7d70.jpg</td>\n",
       "      <td>كلب أسود وكلب أبيض ببقع بنية يحدقان في بعضهما ...</td>\n",
       "      <td>train</td>\n",
       "      <td>24</td>\n",
       "      <td>[كلب, أسود, و, +, كلب, أبيض, ب, +, بقع, بني, +...</td>\n",
       "    </tr>\n",
       "  </tbody>\n",
       "</table>\n",
       "</div>"
      ],
      "text/plain": [
       "                   file_name  \\\n",
       "0  1000268201_693b08cb0e.jpg   \n",
       "1  1000268201_693b08cb0e.jpg   \n",
       "2  1000268201_693b08cb0e.jpg   \n",
       "3  1001773457_577c3a7d70.jpg   \n",
       "4  1001773457_577c3a7d70.jpg   \n",
       "\n",
       "                                             caption  split  tok_len  \\\n",
       "0                     طفلة صغيرة تتسلق إلى مسرح خشبي  train       10   \n",
       "1                  طفلة صغيرة تتسلق الدرج إلى منزلها  train       14   \n",
       "2   فتاة صغيرة في ثوب وردي تذهب إلى المقصورة الخشبية  train       21   \n",
       "3  كلب أسود وكلب ثلاثي الألوان يلعبان مع بعضهما ا...  train       23   \n",
       "4  كلب أسود وكلب أبيض ببقع بنية يحدقان في بعضهما ...  train       24   \n",
       "\n",
       "                                              tokens  \n",
       "0    [طفل, +, ة, صغير, +, ة, تتسلق, إلى, مسرح, خشبي]  \n",
       "1  [طفل, +, ة, صغير, +, ة, تتسلق, ال, +, درج, إلى...  \n",
       "2  [فتا, +, ة, صغير, +, ة, في, ثوب, وردي, تذهب, إ...  \n",
       "3  [كلب, أسود, و, +, كلب, ثلاثي, ال, +, ألوان, يل...  \n",
       "4  [كلب, أسود, و, +, كلب, أبيض, ب, +, بقع, بني, +...  "
      ]
     },
     "execution_count": 3,
     "metadata": {},
     "output_type": "execute_result"
    }
   ],
   "source": [
    "df = pd.read_json(\"data/ar_data.json\")\n",
    "df.head()"
   ]
  },
  {
   "cell_type": "code",
   "execution_count": 23,
   "id": "c5178b29",
   "metadata": {},
   "outputs": [],
   "source": [
    "df_test = df[df['split'] == 'val']"
   ]
  },
  {
   "cell_type": "code",
   "execution_count": 24,
   "id": "a92b3fc5",
   "metadata": {},
   "outputs": [
    {
     "data": {
      "text/plain": [
       "(2, 60)"
      ]
     },
     "execution_count": 24,
     "metadata": {},
     "output_type": "execute_result"
    }
   ],
   "source": [
    "df_test['tok_len'].min(), df_test['tok_len'].max()"
   ]
  },
  {
   "cell_type": "code",
   "execution_count": 25,
   "id": "32d7f79a",
   "metadata": {},
   "outputs": [
    {
     "data": {
      "text/plain": [
       "(15.044333333333332, 14.0)"
      ]
     },
     "execution_count": 25,
     "metadata": {},
     "output_type": "execute_result"
    }
   ],
   "source": [
    "df_test['tok_len'].mean(), df_test['tok_len'].median()"
   ]
  },
  {
   "cell_type": "code",
   "execution_count": null,
   "id": "650c2afa",
   "metadata": {},
   "outputs": [],
   "source": []
  }
 ],
 "metadata": {
  "kernelspec": {
   "display_name": "Python 3",
   "language": "python",
   "name": "python3"
  },
  "language_info": {
   "codemirror_mode": {
    "name": "ipython",
    "version": 3
   },
   "file_extension": ".py",
   "mimetype": "text/x-python",
   "name": "python",
   "nbconvert_exporter": "python",
   "pygments_lexer": "ipython3",
   "version": "3.6.13"
  }
 },
 "nbformat": 4,
 "nbformat_minor": 5
}
