{
 "cells": [
  {
   "cell_type": "code",
   "execution_count": 1,
   "metadata": {
    "execution": {
     "iopub.execute_input": "2021-07-17T13:05:52.482299Z",
     "iopub.status.busy": "2021-07-17T13:05:52.481946Z",
     "iopub.status.idle": "2021-07-17T13:05:53.537775Z",
     "shell.execute_reply": "2021-07-17T13:05:53.536570Z",
     "shell.execute_reply.started": "2021-07-17T13:05:52.482216Z"
    },
    "id": "7AmLihjzYLns",
    "outputId": "c7ee98ce-7c09-4ab9-85cd-e0602890f71e"
   },
   "outputs": [
    {
     "name": "stdout",
     "output_type": "stream",
     "text": [
      "Sat Jul 17 13:05:53 2021       \n",
      "+-----------------------------------------------------------------------------+\n",
      "| NVIDIA-SMI 450.119.04   Driver Version: 450.119.04   CUDA Version: 11.0     |\n",
      "|-------------------------------+----------------------+----------------------+\n",
      "| GPU  Name        Persistence-M| Bus-Id        Disp.A | Volatile Uncorr. ECC |\n",
      "| Fan  Temp  Perf  Pwr:Usage/Cap|         Memory-Usage | GPU-Util  Compute M. |\n",
      "|                               |                      |               MIG M. |\n",
      "|===============================+======================+======================|\n",
      "|   0  Tesla P100-PCIE...  Off  | 00000000:00:04.0 Off |                    0 |\n",
      "| N/A   42C    P0    29W / 250W |      0MiB / 16280MiB |      0%      Default |\n",
      "|                               |                      |                  N/A |\n",
      "+-------------------------------+----------------------+----------------------+\n",
      "                                                                               \n",
      "+-----------------------------------------------------------------------------+\n",
      "| Processes:                                                                  |\n",
      "|  GPU   GI   CI        PID   Type   Process name                  GPU Memory |\n",
      "|        ID   ID                                                   Usage      |\n",
      "|=============================================================================|\n",
      "|  No running processes found                                                 |\n",
      "+-----------------------------------------------------------------------------+\n"
     ]
    }
   ],
   "source": [
    "!nvidia-smi"
   ]
  },
  {
   "cell_type": "code",
   "execution_count": 2,
   "metadata": {
    "execution": {
     "iopub.execute_input": "2021-07-17T13:06:06.459730Z",
     "iopub.status.busy": "2021-07-17T13:06:06.459330Z",
     "iopub.status.idle": "2021-07-17T13:06:14.546665Z",
     "shell.execute_reply": "2021-07-17T13:06:14.545446Z",
     "shell.execute_reply.started": "2021-07-17T13:06:06.459696Z"
    },
    "id": "vCxFJ5wQYehR",
    "outputId": "07cee57f-39b5-4f7b-f4d4-fd9f830f68a8"
   },
   "outputs": [
    {
     "name": "stdout",
     "output_type": "stream",
     "text": [
      "Cloning into 'Image-Captioning'...\n",
      "remote: Enumerating objects: 679, done.\u001b[K\n",
      "remote: Counting objects: 100% (679/679), done.\u001b[K\n",
      "remote: Compressing objects: 100% (336/336), done.\u001b[K\n",
      "remote: Total 679 (delta 412), reused 597 (delta 330), pack-reused 0\u001b[K\n",
      "Receiving objects: 100% (679/679), 43.13 MiB | 16.39 MiB/s, done.\n",
      "Resolving deltas: 100% (412/412), done.\n"
     ]
    }
   ],
   "source": [
    "# get the code form github\n",
    "!git clone https://github.com/moaaztaha/Image-Captioning\n",
    "py_files_path = 'Image-Captioning/'\n",
    "import sys\n",
    "sys.path.append(py_files_path)"
   ]
  },
  {
   "cell_type": "code",
   "execution_count": 3,
   "metadata": {
    "execution": {
     "iopub.execute_input": "2021-07-17T13:06:17.133766Z",
     "iopub.status.busy": "2021-07-17T13:06:17.133354Z",
     "iopub.status.idle": "2021-07-17T13:06:17.181700Z",
     "shell.execute_reply": "2021-07-17T13:06:17.180619Z",
     "shell.execute_reply.started": "2021-07-17T13:06:17.133730Z"
    },
    "id": "b4366e4d"
   },
   "outputs": [],
   "source": [
    "%reload_ext autoreload\n",
    "%autoreload 2\n",
    "%matplotlib inline"
   ]
  },
  {
   "cell_type": "code",
   "execution_count": 4,
   "metadata": {
    "execution": {
     "iopub.execute_input": "2021-07-17T13:06:18.808551Z",
     "iopub.status.busy": "2021-07-17T13:06:18.808173Z",
     "iopub.status.idle": "2021-07-17T13:06:23.008079Z",
     "shell.execute_reply": "2021-07-17T13:06:23.007029Z",
     "shell.execute_reply.started": "2021-07-17T13:06:18.808492Z"
    },
    "id": "4034c69e"
   },
   "outputs": [],
   "source": [
    "import time \n",
    "import torch.backends.cudnn as cudnn\n",
    "import torch.optim\n",
    "import torch.utils.data\n",
    "import torchvision.transforms as transforms\n",
    "from torch import nn\n",
    "from torch.nn.utils.rnn import pack_padded_sequence\n",
    "from models import Encoder, DecoderWithAttention\n",
    "from dataset import *\n",
    "from utils import *\n",
    "from train import *\n",
    "from torch.utils.tensorboard import SummaryWriter\n",
    "from os import path as osp"
   ]
  },
  {
   "cell_type": "code",
   "execution_count": 5,
   "metadata": {
    "execution": {
     "iopub.execute_input": "2021-07-17T13:06:38.929331Z",
     "iopub.status.busy": "2021-07-17T13:06:38.928921Z",
     "iopub.status.idle": "2021-07-17T13:06:38.978858Z",
     "shell.execute_reply": "2021-07-17T13:06:38.977752Z",
     "shell.execute_reply.started": "2021-07-17T13:06:38.929301Z"
    },
    "id": "b8ce76f9"
   },
   "outputs": [],
   "source": [
    "# Model parameters\n",
    "encoder_dim = 2048 # resnet101\n",
    "emb_dim = 512  # dimension of word embeddings\n",
    "attention_dim = 512  # dimension of attention linear layers\n",
    "decoder_dim = 512  # dimension of decoder RNN\n",
    "dropout = 0.5\n",
    "device = torch.device(\"cuda\" if torch.cuda.is_available() else \"cpu\")  # sets device for model and PyTorch tensors\n",
    "cudnn.benchmark = True  # set to true only if inputs to model are fixed size; otherwise lot of computational overhead\n",
    "\n",
    "# training parameters\n",
    "epochs = 30  # number of epochs to train for (if early stopping is not triggered)\n",
    "batch_size = 256\n",
    "workers = 2\n",
    "encoder_lr = 1e-4  # learning rate for encoder if fine-tuning\n",
    "decoder_lr = 4e-4  # learning rate for decoder\n",
    "fine_tune_encoder = False  # fine-tune encoder?\n",
    "pretrained_embeddings = False\n",
    "fine_tune_embeddings = False\n",
    "checkpoint = None  # path to checkpoint, None if none"
   ]
  },
  {
   "cell_type": "code",
   "execution_count": 6,
   "metadata": {
    "execution": {
     "iopub.execute_input": "2021-07-17T13:07:02.652391Z",
     "iopub.status.busy": "2021-07-17T13:07:02.652020Z",
     "iopub.status.idle": "2021-07-17T13:07:02.698928Z",
     "shell.execute_reply": "2021-07-17T13:07:02.697758Z",
     "shell.execute_reply.started": "2021-07-17T13:07:02.652357Z"
    },
    "id": "d7a302e3"
   },
   "outputs": [],
   "source": [
    "DATA_NAME = 'flickr8k_ar_arabert'\n",
    "\n",
    "# local\n",
    "# DATA_JSON_PATH = 'ar_data.json'\n",
    "# IMGS_PATH = 'flickr/Images/'\n",
    "# kaggle paths\n",
    "DATA_JSON_PATH = '/kaggle/working/Image-Captioning/ar_data.json'\n",
    "IMGS_PATH = '../input/flickr8kimagescaptions/flickr8k/images/'\n",
    "#colab\n",
    "# DATA_JSON_PATH = 'Image-Captioning/ar_data.json'\n",
    "# IMGS_PATH = 'flickr8k/images/'"
   ]
  },
  {
   "cell_type": "code",
   "execution_count": 7,
   "metadata": {
    "execution": {
     "iopub.execute_input": "2021-07-17T13:07:07.551421Z",
     "iopub.status.busy": "2021-07-17T13:07:07.551059Z",
     "iopub.status.idle": "2021-07-17T13:07:08.027838Z",
     "shell.execute_reply": "2021-07-17T13:07:08.026347Z",
     "shell.execute_reply.started": "2021-07-17T13:07:07.551388Z"
    },
    "id": "a4b1a677",
    "outputId": "9356268d-4297-4f43-c44e-3aef77004680"
   },
   "outputs": [
    {
     "name": "stderr",
     "output_type": "stream",
     "text": [
      "100%|██████████| 24000/24000 [00:00<00:00, 145193.80it/s]\n"
     ]
    },
    {
     "data": {
      "text/plain": [
       "3309"
      ]
     },
     "execution_count": 7,
     "metadata": {},
     "output_type": "execute_result"
    }
   ],
   "source": [
    "max_seq = 65\n",
    "vocab = build_vocab(DATA_JSON_PATH, max_seq=max_seq)\n",
    "vocab_len = len(vocab); vocab_len"
   ]
  },
  {
   "cell_type": "code",
   "execution_count": 8,
   "metadata": {
    "execution": {
     "iopub.execute_input": "2021-07-17T13:07:28.390568Z",
     "iopub.status.busy": "2021-07-17T13:07:28.390150Z",
     "iopub.status.idle": "2021-07-17T13:07:28.442817Z",
     "shell.execute_reply": "2021-07-17T13:07:28.441335Z",
     "shell.execute_reply.started": "2021-07-17T13:07:28.390526Z"
    },
    "id": "ff6df2d0",
    "outputId": "dcf14d12-9a82-49ef-b74b-66b728e23823"
   },
   "outputs": [
    {
     "data": {
      "text/plain": [
       "([0, 1, 2, 3, 4, 5, 6, 7, 8, 9],\n",
       " ['<pad>', '<sos>', '<eos>', '<unk>', '+', 'ة', 'طفل', 'صغير', 'تتسلق', 'إلى'])"
      ]
     },
     "execution_count": 8,
     "metadata": {},
     "output_type": "execute_result"
    }
   ],
   "source": [
    "list(vocab.itos.keys())[:10], list(vocab.itos.values())[:10]"
   ]
  },
  {
   "cell_type": "code",
   "execution_count": 9,
   "metadata": {
    "execution": {
     "iopub.execute_input": "2021-07-17T13:07:35.095758Z",
     "iopub.status.busy": "2021-07-17T13:07:35.095358Z",
     "iopub.status.idle": "2021-07-17T13:07:35.145995Z",
     "shell.execute_reply": "2021-07-17T13:07:35.144917Z",
     "shell.execute_reply.started": "2021-07-17T13:07:35.095727Z"
    },
    "id": "6fb11e8e"
   },
   "outputs": [],
   "source": [
    "t_params = {\n",
    "    'data_name': DATA_NAME,\n",
    "    'imgs_path': IMGS_PATH,\n",
    "    'df_path': DATA_JSON_PATH,\n",
    "    'vocab': vocab,\n",
    "    'epochs': epochs,\n",
    "    'batch_size': batch_size,\n",
    "    'workers': workers,\n",
    "    'decoder_lr': decoder_lr,\n",
    "    'encoder_lr': encoder_lr,\n",
    "    'fine_tune_encoder': fine_tune_encoder,\n",
    "    'pretrained_embeddings': pretrained_embeddings,\n",
    "}\n",
    "\n",
    "m_params = {\n",
    "    'attention_dim': attention_dim,\n",
    "    'embed_dim': emb_dim,\n",
    "    'decoder_dim': decoder_dim,\n",
    "    'encoder_dim': encoder_dim,\n",
    "    'dropout': dropout\n",
    "}\n",
    "\n",
    "logger_dic = {\n",
    "    'decoder_lr': decoder_lr,\n",
    "    'encoder_lr': encoder_lr,\n",
    "    'fine_tune_encoder': fine_tune_encoder,\n",
    "    'pretrained_embeddings': pretrained_embeddings,\n",
    "    'max_seq_length': max_seq,\n",
    "    'vocab_size': vocab_len,\n",
    "    'enocder': 'resnet101',\n",
    "    'dropout': dropout,\n",
    "    'attention_dim': attention_dim,\n",
    "    'embed_dim': emb_dim,\n",
    "    'decoder_dim': decoder_dim,\n",
    "    'encoder_dim': encoder_dim \n",
    "    \n",
    "}"
   ]
  },
  {
   "cell_type": "code",
   "execution_count": 10,
   "metadata": {
    "execution": {
     "iopub.execute_input": "2021-07-17T13:07:35.961158Z",
     "iopub.status.busy": "2021-07-17T13:07:35.960063Z",
     "iopub.status.idle": "2021-07-17T13:07:36.025072Z",
     "shell.execute_reply": "2021-07-17T13:07:36.023591Z",
     "shell.execute_reply.started": "2021-07-17T13:07:35.961103Z"
    },
    "id": "97209564",
    "outputId": "2c1ad799-d780-426e-ed30-13c17e8011dc",
    "scrolled": true
   },
   "outputs": [
    {
     "data": {
      "text/plain": [
       "{'data_name': 'flickr8k_ar_arabert',\n",
       " 'imgs_path': '../input/flickr8kimagescaptions/flickr8k/images/',\n",
       " 'df_path': '/kaggle/working/Image-Captioning/ar_data.json',\n",
       " 'vocab': <dataset.Vocabulary at 0x7f3160623990>,\n",
       " 'epochs': 30,\n",
       " 'batch_size': 256,\n",
       " 'workers': 2,\n",
       " 'decoder_lr': 0.0004,\n",
       " 'encoder_lr': 0.0001,\n",
       " 'fine_tune_encoder': False,\n",
       " 'pretrained_embeddings': False}"
      ]
     },
     "execution_count": 10,
     "metadata": {},
     "output_type": "execute_result"
    }
   ],
   "source": [
    "t_params"
   ]
  },
  {
   "cell_type": "code",
   "execution_count": 11,
   "metadata": {
    "execution": {
     "iopub.execute_input": "2021-07-17T13:07:50.757008Z",
     "iopub.status.busy": "2021-07-17T13:07:50.756644Z",
     "iopub.status.idle": "2021-07-17T13:07:55.839289Z",
     "shell.execute_reply": "2021-07-17T13:07:55.838193Z",
     "shell.execute_reply.started": "2021-07-17T13:07:50.756978Z"
    },
    "id": "8d8e8ebf"
   },
   "outputs": [],
   "source": [
    "# experiment name\n",
    "name = DATA_NAME + \"\"\n",
    "# path\n",
    "log_dir = 'experiments'\n",
    "\n",
    "logger = SummaryWriter(log_dir=osp.join(log_dir, name))"
   ]
  },
  {
   "cell_type": "code",
   "execution_count": 12,
   "metadata": {
    "execution": {
     "iopub.execute_input": "2021-07-17T13:08:01.710657Z",
     "iopub.status.busy": "2021-07-17T13:08:01.710269Z",
     "iopub.status.idle": "2021-07-17T14:30:25.794604Z",
     "shell.execute_reply": "2021-07-17T14:30:25.793375Z",
     "shell.execute_reply.started": "2021-07-17T13:08:01.710624Z"
    },
    "id": "DIOlt7gxZAbd",
    "outputId": "d8462eb2-4195-427d-9d40-9e334ce3d173"
   },
   "outputs": [
    {
     "name": "stderr",
     "output_type": "stream",
     "text": [
      "Downloading: \"https://download.pytorch.org/models/resnet101-5d3b4d8f.pth\" to /root/.cache/torch/hub/checkpoints/resnet101-5d3b4d8f.pth\n"
     ]
    },
    {
     "data": {
      "application/vnd.jupyter.widget-view+json": {
       "model_id": "e071dd088eda46118cb89816eb732783",
       "version_major": 2,
       "version_minor": 0
      },
      "text/plain": [
       "  0%|          | 0.00/170M [00:00<?, ?B/s]"
      ]
     },
     "metadata": {},
     "output_type": "display_data"
    },
    {
     "name": "stdout",
     "output_type": "stream",
     "text": [
      "Loading Data\n",
      "Dataset split: train\n",
      "Unique images: 6000\n",
      "Total size: 18000\n",
      "Dataset split: val\n",
      "Unique images: 1000\n",
      "Total size: 3000\n",
      "__________________________________________________\n",
      "-------------------- Fitting --------------------\n",
      "__________________________________________________\n",
      "-------------------- Training --------------------\n",
      "Epoch: [0][0/71]\tBatch Time 10.593 (10.593)\tData Load Time 5.750 (5.750)\tLoss 9.0160 (9.0160)\tTop-5 Accuracy 0.227 (0.227)\n",
      "Epoch train time 201.116 (epoch_time.avg:.3f)\n",
      "-------------------- Validation --------------------\n",
      "Validation: [0/12]\tBatch Time 7.353 (7.353)\tLoss 5.0295 (5.0295)\tTop-5 Accuracy 56.101 (56.101)\t\n",
      "----- Bleu-n Scores -----\n",
      "1: 67.60305065467168\n",
      "2: 47.40331747437025\n",
      "3: 27.147164303095288\n",
      "4: 16.173766776214396\n",
      "-------------------------\n",
      "\n",
      " * LOSS - 5.143, TOP-5 ACCURACY - 54.776, BLEU-4 - 16.173766776214396\n",
      "\n",
      "Epoch validation time 42.291 (epoch_time.avg:.3f)\n",
      "__________________________________________________\n",
      "-------------------- Training --------------------\n",
      "Epoch: [1][0/71]\tBatch Time 6.179 (6.179)\tData Load Time 4.557 (4.557)\tLoss 4.1475 (4.1475)\tTop-5 Accuracy 60.429 (60.429)\n",
      "Epoch train time 193.408 (epoch_time.avg:.3f)\n",
      "-------------------- Validation --------------------\n",
      "Validation: [0/12]\tBatch Time 6.641 (6.641)\tLoss 4.8579 (4.8579)\tTop-5 Accuracy 60.709 (60.709)\t\n",
      "----- Bleu-n Scores -----\n",
      "1: 66.48217352680457\n",
      "2: 48.14893086214695\n",
      "3: 30.863188268786068\n",
      "4: 20.217579992817488\n",
      "-------------------------\n",
      "\n",
      " * LOSS - 4.782, TOP-5 ACCURACY - 61.262, BLEU-4 - 20.217579992817488\n",
      "\n",
      "Epoch validation time 40.229 (epoch_time.avg:.3f)\n",
      "__________________________________________________\n",
      "-------------------- Training --------------------\n",
      "Epoch: [3][0/71]\tBatch Time 6.232 (6.232)\tData Load Time 4.641 (4.641)\tLoss 3.5260 (3.5260)\tTop-5 Accuracy 68.431 (68.431)\n",
      "Epoch train time 194.010 (epoch_time.avg:.3f)\n",
      "-------------------- Validation --------------------\n",
      "Validation: [0/12]\tBatch Time 7.157 (7.157)\tLoss 4.4824 (4.4824)\tTop-5 Accuracy 64.486 (64.486)\t\n",
      "----- Bleu-n Scores -----\n",
      "1: 67.8469759705282\n",
      "2: 48.85995378714509\n",
      "3: 32.37695871941563\n",
      "4: 21.79050477920547\n",
      "-------------------------\n",
      "\n",
      " * LOSS - 4.712, TOP-5 ACCURACY - 63.037, BLEU-4 - 21.79050477920547\n",
      "\n",
      "Epoch validation time 39.744 (epoch_time.avg:.3f)\n",
      "Epoch     4: reducing learning rate of group 0 to 4.0000e-05.\n",
      "__________________________________________________\n",
      "-------------------- Training --------------------\n",
      "Epoch: [4][0/71]\tBatch Time 6.436 (6.436)\tData Load Time 4.776 (4.776)\tLoss 3.2674 (3.2674)\tTop-5 Accuracy 71.966 (71.966)\n",
      "Epoch train time 193.346 (epoch_time.avg:.3f)\n",
      "-------------------- Validation --------------------\n",
      "Validation: [0/12]\tBatch Time 6.433 (6.433)\tLoss 4.8055 (4.8055)\tTop-5 Accuracy 62.887 (62.887)\t\n",
      "----- Bleu-n Scores -----\n",
      "1: 70.76990981128863\n",
      "2: 51.84329314924364\n",
      "3: 34.85401299179788\n",
      "4: 23.772444828224764\n",
      "-------------------------\n",
      "\n",
      " * LOSS - 4.702, TOP-5 ACCURACY - 63.673, BLEU-4 - 23.772444828224764\n",
      "\n",
      "Epoch validation time 40.093 (epoch_time.avg:.3f)\n",
      "__________________________________________________\n",
      "-------------------- Training --------------------\n",
      "Epoch: [5][0/71]\tBatch Time 6.138 (6.138)\tData Load Time 4.526 (4.526)\tLoss 3.2800 (3.2800)\tTop-5 Accuracy 72.196 (72.196)\n",
      "Epoch train time 191.617 (epoch_time.avg:.3f)\n",
      "-------------------- Validation --------------------\n",
      "Validation: [0/12]\tBatch Time 6.928 (6.928)\tLoss 4.4371 (4.4371)\tTop-5 Accuracy 64.604 (64.604)\t\n",
      "----- Bleu-n Scores -----\n",
      "1: 71.4730243691964\n",
      "2: 52.66835520094906\n",
      "3: 35.618416603390045\n",
      "4: 24.474107735367305\n",
      "-------------------------\n",
      "\n",
      " * LOSS - 4.699, TOP-5 ACCURACY - 63.800, BLEU-4 - 24.474107735367305\n",
      "\n",
      "Epoch validation time 39.228 (epoch_time.avg:.3f)\n",
      "__________________________________________________\n",
      "-------------------- Training --------------------\n",
      "Epoch: [6][0/71]\tBatch Time 5.946 (5.946)\tData Load Time 4.452 (4.452)\tLoss 3.3701 (3.3701)\tTop-5 Accuracy 70.938 (70.938)\n",
      "Epoch train time 192.301 (epoch_time.avg:.3f)\n",
      "-------------------- Validation --------------------\n",
      "Validation: [0/12]\tBatch Time 6.910 (6.910)\tLoss 4.9518 (4.9518)\tTop-5 Accuracy 62.588 (62.588)\t\n",
      "----- Bleu-n Scores -----\n",
      "1: 71.60844603828825\n",
      "2: 52.92995858136585\n",
      "3: 35.86437943140751\n",
      "4: 24.687224313934955\n",
      "-------------------------\n",
      "\n",
      " * LOSS - 4.711, TOP-5 ACCURACY - 63.928, BLEU-4 - 24.687224313934955\n",
      "\n",
      "Epoch validation time 39.483 (epoch_time.avg:.3f)\n",
      "Epoch     7: reducing learning rate of group 0 to 4.0000e-06.\n",
      "__________________________________________________\n",
      "-------------------- Training --------------------\n",
      "Epoch: [7][0/71]\tBatch Time 6.302 (6.302)\tData Load Time 4.727 (4.727)\tLoss 3.2675 (3.2675)\tTop-5 Accuracy 72.670 (72.670)\n",
      "Epoch train time 190.029 (epoch_time.avg:.3f)\n",
      "-------------------- Validation --------------------\n",
      "Validation: [0/12]\tBatch Time 6.582 (6.582)\tLoss 4.5468 (4.5468)\tTop-5 Accuracy 64.013 (64.013)\t\n",
      "----- Bleu-n Scores -----\n",
      "1: 71.49956772231752\n",
      "2: 52.83899399312033\n",
      "3: 35.839398871486345\n",
      "4: 24.673657679548917\n",
      "-------------------------\n",
      "\n",
      " * LOSS - 4.709, TOP-5 ACCURACY - 63.989, BLEU-4 - 24.673657679548917\n",
      "\n",
      "Epoch validation time 39.024 (epoch_time.avg:.3f)\n",
      "\n",
      "Epochs since last improvement: (1,)\n",
      "__________________________________________________\n",
      "-------------------- Training --------------------\n",
      "Epoch: [8][0/71]\tBatch Time 5.881 (5.881)\tData Load Time 4.226 (4.226)\tLoss 3.2603 (3.2603)\tTop-5 Accuracy 72.743 (72.743)\n",
      "Epoch train time 188.146 (epoch_time.avg:.3f)\n",
      "-------------------- Validation --------------------\n",
      "Validation: [0/12]\tBatch Time 6.806 (6.806)\tLoss 4.6164 (4.6164)\tTop-5 Accuracy 64.621 (64.621)\t\n",
      "----- Bleu-n Scores -----\n",
      "1: 71.5874919785451\n",
      "2: 52.903659183096075\n",
      "3: 35.90495731300967\n",
      "4: 24.732365317347803\n",
      "-------------------------\n",
      "\n",
      " * LOSS - 4.707, TOP-5 ACCURACY - 63.998, BLEU-4 - 24.732365317347803\n",
      "\n",
      "Epoch validation time 39.111 (epoch_time.avg:.3f)\n",
      "__________________________________________________\n",
      "-------------------- Training --------------------\n",
      "Epoch: [9][0/71]\tBatch Time 5.681 (5.681)\tData Load Time 4.126 (4.126)\tLoss 3.3290 (3.3290)\tTop-5 Accuracy 71.495 (71.495)\n",
      "Epoch train time 188.320 (epoch_time.avg:.3f)\n",
      "-------------------- Validation --------------------\n",
      "Validation: [0/12]\tBatch Time 6.579 (6.579)\tLoss 4.5661 (4.5661)\tTop-5 Accuracy 65.317 (65.317)\t\n",
      "----- Bleu-n Scores -----\n",
      "1: 71.52416784069543\n",
      "2: 52.90632021434234\n",
      "3: 35.93009458383665\n",
      "4: 24.754082203301557\n",
      "-------------------------\n",
      "\n",
      " * LOSS - 4.710, TOP-5 ACCURACY - 64.026, BLEU-4 - 24.754082203301557\n",
      "\n",
      "Epoch validation time 39.152 (epoch_time.avg:.3f)\n",
      "Epoch    10: reducing learning rate of group 0 to 4.0000e-07.\n",
      "__________________________________________________\n",
      "-------------------- Training --------------------\n",
      "Epoch: [10][0/71]\tBatch Time 5.989 (5.989)\tData Load Time 4.438 (4.438)\tLoss 3.2978 (3.2978)\tTop-5 Accuracy 71.970 (71.970)\n",
      "Epoch train time 189.315 (epoch_time.avg:.3f)\n",
      "-------------------- Validation --------------------\n",
      "Validation: [0/12]\tBatch Time 6.595 (6.595)\tLoss 4.7982 (4.7982)\tTop-5 Accuracy 62.579 (62.579)\t\n",
      "----- Bleu-n Scores -----\n",
      "1: 71.62945940212443\n",
      "2: 53.00345133453782\n",
      "3: 35.99661093851271\n",
      "4: 24.807484615532925\n",
      "-------------------------\n",
      "\n",
      " * LOSS - 4.709, TOP-5 ACCURACY - 64.040, BLEU-4 - 24.807484615532925\n",
      "\n",
      "Epoch validation time 38.798 (epoch_time.avg:.3f)\n",
      "__________________________________________________\n",
      "-------------------- Training --------------------\n",
      "Epoch: [11][0/71]\tBatch Time 6.061 (6.061)\tData Load Time 4.518 (4.518)\tLoss 3.2411 (3.2411)\tTop-5 Accuracy 72.477 (72.477)\n",
      "Epoch train time 191.176 (epoch_time.avg:.3f)\n",
      "-------------------- Validation --------------------\n",
      "Validation: [0/12]\tBatch Time 6.511 (6.511)\tLoss 4.7100 (4.7100)\tTop-5 Accuracy 63.894 (63.894)\t\n",
      "----- Bleu-n Scores -----\n",
      "1: 71.55073593153489\n",
      "2: 52.909175582521506\n",
      "3: 35.906331117654666\n",
      "4: 24.724531018317347\n",
      "-------------------------\n",
      "\n",
      " * LOSS - 4.710, TOP-5 ACCURACY - 63.991, BLEU-4 - 24.724531018317347\n",
      "\n",
      "Epoch validation time 39.540 (epoch_time.avg:.3f)\n",
      "\n",
      "Epochs since last improvement: (1,)\n",
      "__________________________________________________\n",
      "-------------------- Training --------------------\n",
      "Epoch: [12][0/71]\tBatch Time 5.779 (5.779)\tData Load Time 4.198 (4.198)\tLoss 3.2972 (3.2972)\tTop-5 Accuracy 72.008 (72.008)\n",
      "Epoch train time 196.338 (epoch_time.avg:.3f)\n",
      "-------------------- Validation --------------------\n",
      "Validation: [0/12]\tBatch Time 6.537 (6.537)\tLoss 4.6545 (4.6545)\tTop-5 Accuracy 64.184 (64.184)\t\n",
      "----- Bleu-n Scores -----\n",
      "1: 71.6078600823816\n",
      "2: 52.990081315295065\n",
      "3: 35.99210720831895\n",
      "4: 24.806176223123426\n",
      "-------------------------\n",
      "\n",
      " * LOSS - 4.710, TOP-5 ACCURACY - 64.017, BLEU-4 - 24.806176223123426\n",
      "\n",
      "Epoch validation time 40.201 (epoch_time.avg:.3f)\n",
      "\n",
      "Epochs since last improvement: (2,)\n",
      "Epoch    13: reducing learning rate of group 0 to 4.0000e-08.\n",
      "__________________________________________________\n",
      "-------------------- Training --------------------\n",
      "Epoch: [13][0/71]\tBatch Time 6.293 (6.293)\tData Load Time 4.703 (4.703)\tLoss 3.2660 (3.2660)\tTop-5 Accuracy 72.590 (72.590)\n",
      "Epoch train time 194.605 (epoch_time.avg:.3f)\n",
      "-------------------- Validation --------------------\n",
      "Validation: [0/12]\tBatch Time 6.396 (6.396)\tLoss 4.4746 (4.4746)\tTop-5 Accuracy 65.109 (65.109)\t\n",
      "----- Bleu-n Scores -----\n",
      "1: 71.55091369873215\n",
      "2: 52.93190161641157\n",
      "3: 35.933767489524925\n",
      "4: 24.753940407350402\n",
      "-------------------------\n",
      "\n",
      " * LOSS - 4.711, TOP-5 ACCURACY - 63.996, BLEU-4 - 24.753940407350402\n",
      "\n",
      "Epoch validation time 40.089 (epoch_time.avg:.3f)\n",
      "\n",
      "Epochs since last improvement: (3,)\n",
      "__________________________________________________\n",
      "-------------------- Training --------------------\n",
      "Epoch: [14][0/71]\tBatch Time 5.986 (5.986)\tData Load Time 4.414 (4.414)\tLoss 3.2415 (3.2415)\tTop-5 Accuracy 72.727 (72.727)\n",
      "Epoch train time 195.566 (epoch_time.avg:.3f)\n",
      "-------------------- Validation --------------------\n",
      "Validation: [0/12]\tBatch Time 6.341 (6.341)\tLoss 4.6680 (4.6680)\tTop-5 Accuracy 64.682 (64.682)\t\n",
      "----- Bleu-n Scores -----\n",
      "1: 71.51975181372626\n",
      "2: 52.921458091057936\n",
      "3: 35.9199084981511\n",
      "4: 24.758272875395942\n",
      "-------------------------\n",
      "\n",
      " * LOSS - 4.711, TOP-5 ACCURACY - 64.035, BLEU-4 - 24.758272875395942\n",
      "\n",
      "Epoch validation time 39.735 (epoch_time.avg:.3f)\n",
      "\n",
      "Epochs since last improvement: (4,)\n",
      "__________________________________________________\n",
      "-------------------- Training --------------------\n",
      "Epoch: [15][0/71]\tBatch Time 6.889 (6.889)\tData Load Time 5.370 (5.370)\tLoss 3.3198 (3.3198)\tTop-5 Accuracy 71.708 (71.708)\n",
      "Epoch train time 195.281 (epoch_time.avg:.3f)\n",
      "-------------------- Validation --------------------\n",
      "Validation: [0/12]\tBatch Time 7.237 (7.237)\tLoss 4.4229 (4.4229)\tTop-5 Accuracy 64.282 (64.282)\t\n",
      "----- Bleu-n Scores -----\n",
      "1: 71.63986415798857\n",
      "2: 52.985759095343724\n",
      "3: 35.982595869806936\n",
      "4: 24.829548987868076\n",
      "-------------------------\n",
      "\n",
      " * LOSS - 4.712, TOP-5 ACCURACY - 64.031, BLEU-4 - 24.829548987868076\n",
      "\n",
      "Epoch validation time 40.576 (epoch_time.avg:.3f)\n",
      "Epoch    16: reducing learning rate of group 0 to 4.0000e-09.\n",
      "__________________________________________________\n",
      "-------------------- Training --------------------\n",
      "Epoch: [16][0/71]\tBatch Time 6.004 (6.004)\tData Load Time 4.478 (4.478)\tLoss 3.2666 (3.2666)\tTop-5 Accuracy 71.908 (71.908)\n",
      "Epoch train time 195.545 (epoch_time.avg:.3f)\n",
      "-------------------- Validation --------------------\n",
      "Validation: [0/12]\tBatch Time 6.517 (6.517)\tLoss 4.7053 (4.7053)\tTop-5 Accuracy 64.738 (64.738)\t\n",
      "----- Bleu-n Scores -----\n",
      "1: 71.56808377853125\n",
      "2: 52.94150297756901\n",
      "3: 35.94580004837534\n",
      "4: 24.757999649321256\n",
      "-------------------------\n",
      "\n",
      " * LOSS - 4.709, TOP-5 ACCURACY - 64.003, BLEU-4 - 24.757999649321256\n",
      "\n",
      "Epoch validation time 39.874 (epoch_time.avg:.3f)\n",
      "\n",
      "Epochs since last improvement: (1,)\n",
      "__________________________________________________\n",
      "-------------------- Training --------------------\n",
      "Epoch: [17][0/71]\tBatch Time 6.338 (6.338)\tData Load Time 4.776 (4.776)\tLoss 3.2794 (3.2794)\tTop-5 Accuracy 71.554 (71.554)\n",
      "Epoch train time 196.212 (epoch_time.avg:.3f)\n",
      "-------------------- Validation --------------------\n",
      "Validation: [0/12]\tBatch Time 6.823 (6.823)\tLoss 4.4656 (4.4656)\tTop-5 Accuracy 65.944 (65.944)\t\n",
      "----- Bleu-n Scores -----\n",
      "1: 71.51695763344242\n",
      "2: 52.90767350717158\n",
      "3: 35.91802241844463\n",
      "4: 24.752246487748117\n",
      "-------------------------\n",
      "\n",
      " * LOSS - 4.711, TOP-5 ACCURACY - 64.024, BLEU-4 - 24.752246487748117\n",
      "\n",
      "Epoch validation time 39.907 (epoch_time.avg:.3f)\n",
      "\n",
      "Epochs since last improvement: (2,)\n",
      "__________________________________________________\n",
      "-------------------- Training --------------------\n",
      "Epoch: [18][0/71]\tBatch Time 5.976 (5.976)\tData Load Time 4.364 (4.364)\tLoss 3.2640 (3.2640)\tTop-5 Accuracy 72.412 (72.412)\n",
      "Epoch train time 192.888 (epoch_time.avg:.3f)\n",
      "-------------------- Validation --------------------\n",
      "Validation: [0/12]\tBatch Time 6.926 (6.926)\tLoss 4.8636 (4.8636)\tTop-5 Accuracy 63.386 (63.386)\t\n",
      "----- Bleu-n Scores -----\n",
      "1: 71.58532972535167\n",
      "2: 52.95946860767597\n",
      "3: 35.96986410464286\n",
      "4: 24.796792380400138\n",
      "-------------------------\n",
      "\n",
      " * LOSS - 4.710, TOP-5 ACCURACY - 64.021, BLEU-4 - 24.796792380400138\n",
      "\n",
      "Epoch validation time 39.721 (epoch_time.avg:.3f)\n",
      "\n",
      "Epochs since last improvement: (3,)\n",
      "__________________________________________________\n",
      "-------------------- Training --------------------\n",
      "Epoch: [19][0/71]\tBatch Time 6.296 (6.296)\tData Load Time 4.561 (4.561)\tLoss 3.2978 (3.2978)\tTop-5 Accuracy 71.150 (71.150)\n",
      "Epoch train time 198.101 (epoch_time.avg:.3f)\n",
      "-------------------- Validation --------------------\n",
      "Validation: [0/12]\tBatch Time 6.689 (6.689)\tLoss 4.7611 (4.7611)\tTop-5 Accuracy 63.085 (63.085)\t\n",
      "----- Bleu-n Scores -----\n",
      "1: 71.55421112276561\n",
      "2: 52.929200862817105\n",
      "3: 35.93332440477722\n",
      "4: 24.74877410163382\n",
      "-------------------------\n",
      "\n",
      " * LOSS - 4.710, TOP-5 ACCURACY - 63.998, BLEU-4 - 24.74877410163382\n",
      "\n",
      "Epoch validation time 39.799 (epoch_time.avg:.3f)\n",
      "\n",
      "Epochs since last improvement: (4,)\n",
      "__________________________________________________\n",
      "-------------------- Training --------------------\n",
      "Epoch: [20][0/71]\tBatch Time 5.889 (5.889)\tData Load Time 4.289 (4.289)\tLoss 3.2924 (3.2924)\tTop-5 Accuracy 71.596 (71.596)\n",
      "Epoch train time 195.188 (epoch_time.avg:.3f)\n",
      "-------------------- Validation --------------------\n",
      "Validation: [0/12]\tBatch Time 6.292 (6.292)\tLoss 4.6886 (4.6886)\tTop-5 Accuracy 63.540 (63.540)\t\n",
      "----- Bleu-n Scores -----\n",
      "1: 71.60413402145198\n",
      "2: 52.97994137886134\n",
      "3: 35.98727024764569\n",
      "4: 24.814315320978427\n",
      "-------------------------\n",
      "\n",
      " * LOSS - 4.712, TOP-5 ACCURACY - 64.033, BLEU-4 - 24.814315320978427\n",
      "\n",
      "Epoch validation time 39.951 (epoch_time.avg:.3f)\n",
      "\n",
      "Epochs since last improvement: (5,)\n",
      "No improvement for 5 consecutive epochs, terminating...\n"
     ]
    }
   ],
   "source": [
    "fit(t_params=t_params, m_params=m_params, logger=logger)"
   ]
  },
  {
   "cell_type": "code",
   "execution_count": 13,
   "metadata": {
    "execution": {
     "iopub.execute_input": "2021-07-17T14:31:19.001583Z",
     "iopub.status.busy": "2021-07-17T14:31:19.001080Z",
     "iopub.status.idle": "2021-07-17T14:31:19.923027Z",
     "shell.execute_reply": "2021-07-17T14:31:19.921739Z",
     "shell.execute_reply.started": "2021-07-17T14:31:19.001539Z"
    }
   },
   "outputs": [
    {
     "name": "stdout",
     "output_type": "stream",
     "text": [
      "BEST_checkpoint_flickr8k_ar_arabert.pth.tar\n",
      "Image-Captioning\n",
      "__notebook_source__.ipynb\n",
      "checkpoint_flickr8k_ar_arabert.pth.tar\n",
      "experiments\n"
     ]
    }
   ],
   "source": [
    "!ls"
   ]
  },
  {
   "cell_type": "code",
   "execution_count": 14,
   "metadata": {
    "execution": {
     "iopub.execute_input": "2021-07-17T14:31:30.992363Z",
     "iopub.status.busy": "2021-07-17T14:31:30.991995Z",
     "iopub.status.idle": "2021-07-17T14:31:31.341563Z",
     "shell.execute_reply": "2021-07-17T14:31:31.340228Z",
     "shell.execute_reply.started": "2021-07-17T14:31:30.992328Z"
    },
    "id": "cgtlSQWzjNwz",
    "outputId": "9df0886b-4b65-4a7b-d4bc-36b41f0c9e49"
   },
   "outputs": [
    {
     "name": "stdout",
     "output_type": "stream",
     "text": [
      "Loaded Checkpoint!!\n",
      "Last Epoch: 15\n",
      "Best Bleu-4: 24.829548987868076\n"
     ]
    }
   ],
   "source": [
    "m = load_checkpoint(\"BEST_checkpoint_flickr8k_ar_arabert.pth.tar\")"
   ]
  },
  {
   "cell_type": "code",
   "execution_count": 15,
   "metadata": {
    "execution": {
     "iopub.execute_input": "2021-07-17T14:31:42.012926Z",
     "iopub.status.busy": "2021-07-17T14:31:42.012437Z",
     "iopub.status.idle": "2021-07-17T14:31:42.095151Z",
     "shell.execute_reply": "2021-07-17T14:31:42.093917Z",
     "shell.execute_reply.started": "2021-07-17T14:31:42.012895Z"
    },
    "id": "NJAelDR8ZDsk",
    "outputId": "2481356c-e943-460c-b469-81ebd04b8d0d"
   },
   "outputs": [
    {
     "data": {
      "text/plain": [
       "{'data_name': 'flickr8k_ar_arabert_finetune',\n",
       " 'imgs_path': '../input/flickr8kimagescaptions/flickr8k/images/',\n",
       " 'df_path': '/kaggle/working/Image-Captioning/ar_data.json',\n",
       " 'vocab': <dataset.Vocabulary at 0x7f3160623990>,\n",
       " 'epochs': 30,\n",
       " 'batch_size': 64,\n",
       " 'workers': 2,\n",
       " 'decoder_lr': 4e-05,\n",
       " 'encoder_lr': 0.0001,\n",
       " 'fine_tune_encoder': True,\n",
       " 'pretrained_embeddings': False}"
      ]
     },
     "execution_count": 15,
     "metadata": {},
     "output_type": "execute_result"
    }
   ],
   "source": [
    "batch_size = 64\n",
    "fine_tune_encoder = True\n",
    "checkpoint = 'BEST_checkpoint_flickr8k_ar_arabert.pth.tar'\n",
    "# epochs = 30\n",
    "\n",
    "t_params['batch_size'] = batch_size\n",
    "t_params['data_name'] = t_params['data_name'] + \"_finetune\" \n",
    "t_params['fine_tune_encoder'] = True\n",
    "t_params['decoder_lr'] = t_params['decoder_lr'] / 10\n",
    "# t_params['epochs'] = epochs\n",
    "t_params"
   ]
  },
  {
   "cell_type": "code",
   "execution_count": 16,
   "metadata": {
    "execution": {
     "iopub.execute_input": "2021-07-17T14:31:56.673038Z",
     "iopub.status.busy": "2021-07-17T14:31:56.672524Z",
     "iopub.status.idle": "2021-07-17T15:05:58.472378Z",
     "shell.execute_reply": "2021-07-17T15:05:58.471197Z",
     "shell.execute_reply.started": "2021-07-17T14:31:56.673008Z"
    },
    "id": "uYhbvtifjXD6",
    "outputId": "f9b64c2c-6000-4397-f0ec-a2bea5317a28"
   },
   "outputs": [
    {
     "name": "stdout",
     "output_type": "stream",
     "text": [
      "Loaded Checkpoint!!\n",
      "Starting Epoch: 16\n",
      "Loading Data\n",
      "Dataset split: train\n",
      "Unique images: 6000\n",
      "Total size: 18000\n",
      "Dataset split: val\n",
      "Unique images: 1000\n",
      "Total size: 3000\n",
      "__________________________________________________\n",
      "-------------------- Fitting --------------------\n",
      "__________________________________________________\n",
      "-------------------- Training --------------------\n",
      "Epoch: [16][0/282]\tBatch Time 3.986 (3.986)\tData Load Time 1.176 (1.176)\tLoss 3.1119 (3.1119)\tTop-5 Accuracy 75.024 (75.024)\n",
      "Epoch: [16][100/282]\tBatch Time 0.864 (0.917)\tData Load Time 0.001 (0.012)\tLoss 3.2319 (3.3089)\tTop-5 Accuracy 72.364 (71.655)\n",
      "Epoch: [16][200/282]\tBatch Time 0.855 (0.902)\tData Load Time 0.001 (0.006)\tLoss 3.1731 (3.2915)\tTop-5 Accuracy 73.360 (71.972)\n",
      "Epoch train time 253.141 (epoch_time.avg:.3f)\n",
      "-------------------- Validation --------------------\n",
      "Validation: [0/47]\tBatch Time 1.757 (1.757)\tLoss 4.7189 (4.7189)\tTop-5 Accuracy 63.591 (63.591)\t\n",
      "----- Bleu-n Scores -----\n",
      "1: 71.98438051630166\n",
      "2: 53.47306796321292\n",
      "3: 36.51103870684177\n",
      "4: 25.20859298739863\n",
      "-------------------------\n",
      "\n",
      " * LOSS - 4.714, TOP-5 ACCURACY - 64.196, BLEU-4 - 25.20859298739863\n",
      "\n",
      "Epoch validation time 38.643 (epoch_time.avg:.3f)\n",
      "__________________________________________________\n",
      "-------------------- Training --------------------\n",
      "Epoch: [17][0/282]\tBatch Time 2.202 (2.202)\tData Load Time 1.162 (1.162)\tLoss 3.2925 (3.2925)\tTop-5 Accuracy 71.634 (71.634)\n",
      "Epoch: [17][100/282]\tBatch Time 0.976 (0.913)\tData Load Time 0.000 (0.012)\tLoss 3.1863 (3.1980)\tTop-5 Accuracy 73.901 (73.469)\n",
      "Epoch: [17][200/282]\tBatch Time 0.878 (0.900)\tData Load Time 0.001 (0.007)\tLoss 3.1546 (3.2023)\tTop-5 Accuracy 75.274 (73.452)\n",
      "Epoch train time 252.375 (epoch_time.avg:.3f)\n",
      "-------------------- Validation --------------------\n",
      "Validation: [0/47]\tBatch Time 1.714 (1.714)\tLoss 4.4868 (4.4868)\tTop-5 Accuracy 66.319 (66.319)\t\n",
      "----- Bleu-n Scores -----\n",
      "1: 71.41229495363643\n",
      "2: 53.24687460631405\n",
      "3: 36.683812476828656\n",
      "4: 25.49970489970383\n",
      "-------------------------\n",
      "\n",
      " * LOSS - 4.737, TOP-5 ACCURACY - 63.975, BLEU-4 - 25.49970489970383\n",
      "\n",
      "Epoch validation time 38.322 (epoch_time.avg:.3f)\n",
      "__________________________________________________\n",
      "-------------------- Training --------------------\n",
      "Epoch: [18][0/282]\tBatch Time 2.070 (2.070)\tData Load Time 1.184 (1.184)\tLoss 3.2551 (3.2551)\tTop-5 Accuracy 72.427 (72.427)\n",
      "Epoch: [18][100/282]\tBatch Time 0.880 (0.904)\tData Load Time 0.000 (0.012)\tLoss 3.3100 (3.1435)\tTop-5 Accuracy 71.534 (74.295)\n",
      "Epoch: [18][200/282]\tBatch Time 0.887 (0.896)\tData Load Time 0.001 (0.007)\tLoss 3.1870 (3.1559)\tTop-5 Accuracy 73.816 (74.146)\n",
      "Epoch train time 251.684 (epoch_time.avg:.3f)\n",
      "-------------------- Validation --------------------\n",
      "Validation: [0/47]\tBatch Time 1.767 (1.767)\tLoss 4.6247 (4.6247)\tTop-5 Accuracy 63.725 (63.725)\t\n",
      "----- Bleu-n Scores -----\n",
      "1: 71.9641243595388\n",
      "2: 53.56836704361717\n",
      "3: 36.65872072089891\n",
      "4: 25.325920751069226\n",
      "-------------------------\n",
      "\n",
      " * LOSS - 4.691, TOP-5 ACCURACY - 64.236, BLEU-4 - 25.325920751069226\n",
      "\n",
      "Epoch validation time 37.790 (epoch_time.avg:.3f)\n",
      "\n",
      "Epochs since last improvement: (1,)\n",
      "__________________________________________________\n",
      "-------------------- Training --------------------\n",
      "Epoch: [19][0/282]\tBatch Time 2.349 (2.349)\tData Load Time 1.477 (1.477)\tLoss 2.9941 (2.9941)\tTop-5 Accuracy 76.056 (76.056)\n",
      "Epoch: [19][100/282]\tBatch Time 0.851 (0.909)\tData Load Time 0.001 (0.015)\tLoss 3.1619 (3.1205)\tTop-5 Accuracy 73.216 (74.690)\n",
      "Epoch: [19][200/282]\tBatch Time 0.883 (0.898)\tData Load Time 0.001 (0.008)\tLoss 3.1331 (3.1264)\tTop-5 Accuracy 75.320 (74.684)\n",
      "Epoch train time 251.179 (epoch_time.avg:.3f)\n",
      "-------------------- Validation --------------------\n",
      "Validation: [0/47]\tBatch Time 1.691 (1.691)\tLoss 4.3351 (4.3351)\tTop-5 Accuracy 67.663 (67.663)\t\n",
      "----- Bleu-n Scores -----\n",
      "1: 71.54223794592401\n",
      "2: 53.0331556076567\n",
      "3: 36.05738525175146\n",
      "4: 24.932792362266316\n",
      "-------------------------\n",
      "\n",
      " * LOSS - 4.702, TOP-5 ACCURACY - 64.322, BLEU-4 - 24.932792362266316\n",
      "\n",
      "Epoch validation time 38.558 (epoch_time.avg:.3f)\n",
      "\n",
      "Epochs since last improvement: (2,)\n",
      "__________________________________________________\n",
      "-------------------- Training --------------------\n",
      "Epoch: [20][0/282]\tBatch Time 2.225 (2.225)\tData Load Time 1.253 (1.253)\tLoss 3.0787 (3.0787)\tTop-5 Accuracy 76.336 (76.336)\n",
      "Epoch: [20][100/282]\tBatch Time 0.817 (0.907)\tData Load Time 0.001 (0.013)\tLoss 3.2150 (3.0887)\tTop-5 Accuracy 74.303 (75.301)\n",
      "Epoch: [20][200/282]\tBatch Time 0.842 (0.899)\tData Load Time 0.001 (0.007)\tLoss 3.1621 (3.0908)\tTop-5 Accuracy 75.057 (75.237)\n",
      "Epoch train time 252.803 (epoch_time.avg:.3f)\n",
      "-------------------- Validation --------------------\n",
      "Validation: [0/47]\tBatch Time 1.721 (1.721)\tLoss 4.7231 (4.7231)\tTop-5 Accuracy 64.903 (64.903)\t\n",
      "----- Bleu-n Scores -----\n",
      "1: 71.39749812848594\n",
      "2: 53.09084539072339\n",
      "3: 36.37123044407021\n",
      "4: 25.169777377477644\n",
      "-------------------------\n",
      "\n",
      " * LOSS - 4.696, TOP-5 ACCURACY - 64.219, BLEU-4 - 25.169777377477644\n",
      "\n",
      "Epoch validation time 38.513 (epoch_time.avg:.3f)\n",
      "\n",
      "Epochs since last improvement: (3,)\n",
      "__________________________________________________\n",
      "-------------------- Training --------------------\n",
      "Epoch: [21][0/282]\tBatch Time 2.141 (2.141)\tData Load Time 1.274 (1.274)\tLoss 3.0202 (3.0202)\tTop-5 Accuracy 75.546 (75.546)\n",
      "Epoch: [21][100/282]\tBatch Time 0.844 (0.898)\tData Load Time 0.001 (0.013)\tLoss 3.1332 (3.0600)\tTop-5 Accuracy 76.325 (75.640)\n",
      "Epoch: [21][200/282]\tBatch Time 0.881 (0.894)\tData Load Time 0.001 (0.007)\tLoss 3.0568 (3.0701)\tTop-5 Accuracy 75.375 (75.541)\n",
      "Epoch train time 249.746 (epoch_time.avg:.3f)\n",
      "-------------------- Validation --------------------\n",
      "Validation: [0/47]\tBatch Time 1.763 (1.763)\tLoss 4.4631 (4.4631)\tTop-5 Accuracy 65.021 (65.021)\t\n",
      "----- Bleu-n Scores -----\n",
      "1: 71.70388688443633\n",
      "2: 53.169111214140315\n",
      "3: 36.545525286661295\n",
      "4: 25.4006300224476\n",
      "-------------------------\n",
      "\n",
      " * LOSS - 4.672, TOP-5 ACCURACY - 64.347, BLEU-4 - 25.4006300224476\n",
      "\n",
      "Epoch validation time 37.688 (epoch_time.avg:.3f)\n",
      "\n",
      "Epochs since last improvement: (4,)\n",
      "__________________________________________________\n",
      "-------------------- Training --------------------\n",
      "Epoch: [22][0/282]\tBatch Time 2.051 (2.051)\tData Load Time 1.173 (1.173)\tLoss 2.9855 (2.9855)\tTop-5 Accuracy 77.149 (77.149)\n",
      "Epoch: [22][100/282]\tBatch Time 0.863 (0.891)\tData Load Time 0.000 (0.012)\tLoss 3.0871 (3.0384)\tTop-5 Accuracy 76.068 (76.070)\n",
      "Epoch: [22][200/282]\tBatch Time 0.934 (0.886)\tData Load Time 0.001 (0.007)\tLoss 2.9383 (3.0463)\tTop-5 Accuracy 78.257 (75.970)\n",
      "Epoch train time 249.681 (epoch_time.avg:.3f)\n",
      "-------------------- Validation --------------------\n",
      "Validation: [0/47]\tBatch Time 1.778 (1.778)\tLoss 4.3207 (4.3207)\tTop-5 Accuracy 65.017 (65.017)\t\n",
      "----- Bleu-n Scores -----\n",
      "1: 72.21447098882143\n",
      "2: 53.73949348862603\n",
      "3: 36.45375280589106\n",
      "4: 25.146215290787342\n",
      "-------------------------\n",
      "\n",
      " * LOSS - 4.684, TOP-5 ACCURACY - 64.363, BLEU-4 - 25.146215290787342\n",
      "\n",
      "Epoch validation time 38.872 (epoch_time.avg:.3f)\n",
      "\n",
      "Epochs since last improvement: (5,)\n",
      "No improvement for 5 consecutive epochs, terminating...\n"
     ]
    }
   ],
   "source": [
    "fit(t_params, checkpoint=checkpoint, m_params=m_params, logger=logger)"
   ]
  },
  {
   "cell_type": "code",
   "execution_count": 17,
   "metadata": {
    "execution": {
     "iopub.execute_input": "2021-07-17T15:06:29.989454Z",
     "iopub.status.busy": "2021-07-17T15:06:29.989079Z",
     "iopub.status.idle": "2021-07-17T15:06:31.112259Z",
     "shell.execute_reply": "2021-07-17T15:06:31.110964Z",
     "shell.execute_reply.started": "2021-07-17T15:06:29.989421Z"
    },
    "id": "4akCez3Z6UNp"
   },
   "outputs": [
    {
     "name": "stdout",
     "output_type": "stream",
     "text": [
      "BEST_checkpoint_flickr8k_ar_arabert.pth.tar\n",
      "BEST_checkpoint_flickr8k_ar_arabert_finetune.pth.tar\n",
      "Image-Captioning\n",
      "__notebook_source__.ipynb\n",
      "checkpoint_flickr8k_ar_arabert.pth.tar\n",
      "checkpoint_flickr8k_ar_arabert_finetune.pth.tar\n",
      "experiments\n"
     ]
    }
   ],
   "source": [
    "!ls"
   ]
  },
  {
   "cell_type": "code",
   "execution_count": 19,
   "metadata": {
    "execution": {
     "iopub.execute_input": "2021-07-17T15:07:24.007403Z",
     "iopub.status.busy": "2021-07-17T15:07:24.007007Z",
     "iopub.status.idle": "2021-07-17T15:07:24.469565Z",
     "shell.execute_reply": "2021-07-17T15:07:24.468272Z",
     "shell.execute_reply.started": "2021-07-17T15:07:24.007371Z"
    },
    "id": "knnG-VzB6gu7",
    "outputId": "335350b2-dc51-4b19-f005-5c08e56ab4a9"
   },
   "outputs": [
    {
     "name": "stdout",
     "output_type": "stream",
     "text": [
      "Loaded Checkpoint!!\n",
      "Last Epoch: 17\n",
      "Best Bleu-4: 25.49970489970383\n"
     ]
    }
   ],
   "source": [
    "checkpoint = load_checkpoint(\"BEST_checkpoint_flickr8k_ar_arabert_finetune.pth.tar\")\n",
    "decoder = checkpoint['decoder']\n",
    "decoder = decoder.to(device)\n",
    "decoder.eval()\n",
    "encoder = checkpoint['encoder']\n",
    "encoder = encoder.to(device)\n",
    "encoder.eval();"
   ]
  },
  {
   "cell_type": "code",
   "execution_count": 20,
   "metadata": {
    "execution": {
     "iopub.execute_input": "2021-07-17T15:07:27.757142Z",
     "iopub.status.busy": "2021-07-17T15:07:27.756791Z",
     "iopub.status.idle": "2021-07-17T15:21:46.839602Z",
     "shell.execute_reply": "2021-07-17T15:21:46.838395Z",
     "shell.execute_reply.started": "2021-07-17T15:07:27.757112Z"
    },
    "id": "reIYwZ6O6ncg",
    "outputId": "56059b76-ff0b-4176-eef8-67e938da89d4"
   },
   "outputs": [
    {
     "name": "stderr",
     "output_type": "stream",
     "text": [
      "EVALUATING AT BEAM SIZE 1:   0%|          | 0/3000 [00:00<?, ?it/s]"
     ]
    },
    {
     "name": "stdout",
     "output_type": "stream",
     "text": [
      "Dataset split: test\n",
      "Unique images: 1000\n",
      "Total size: 3000\n"
     ]
    },
    {
     "name": "stderr",
     "output_type": "stream",
     "text": [
      "EVALUATING AT BEAM SIZE 1: 100%|██████████| 3000/3000 [04:06<00:00, 12.17it/s]\n"
     ]
    },
    {
     "name": "stdout",
     "output_type": "stream",
     "text": [
      "----- Bleu-n Scores -----\n",
      "1: 59.263331500824634\n",
      "2: 45.44429489890518\n",
      "3: 33.15118752258775\n",
      "4: 24.110450138582106\n",
      "-------------------------\n"
     ]
    },
    {
     "name": "stderr",
     "output_type": "stream",
     "text": [
      "EVALUATING AT BEAM SIZE 3:   0%|          | 0/3000 [00:00<?, ?it/s]"
     ]
    },
    {
     "name": "stdout",
     "output_type": "stream",
     "text": [
      "Dataset split: test\n",
      "Unique images: 1000\n",
      "Total size: 3000\n"
     ]
    },
    {
     "name": "stderr",
     "output_type": "stream",
     "text": [
      "EVALUATING AT BEAM SIZE 3: 100%|██████████| 3000/3000 [04:48<00:00, 10.42it/s]\n"
     ]
    },
    {
     "name": "stdout",
     "output_type": "stream",
     "text": [
      "----- Bleu-n Scores -----\n",
      "1: 60.96960141888567\n",
      "2: 48.01618913794198\n",
      "3: 36.05148885101262\n",
      "4: 27.008806858539085\n",
      "-------------------------\n"
     ]
    },
    {
     "name": "stderr",
     "output_type": "stream",
     "text": [
      "EVALUATING AT BEAM SIZE 5:   0%|          | 0/3000 [00:00<?, ?it/s]"
     ]
    },
    {
     "name": "stdout",
     "output_type": "stream",
     "text": [
      "Dataset split: test\n",
      "Unique images: 1000\n",
      "Total size: 3000\n"
     ]
    },
    {
     "name": "stderr",
     "output_type": "stream",
     "text": [
      "EVALUATING AT BEAM SIZE 5: 100%|██████████| 3000/3000 [05:16<00:00,  9.47it/s]\n"
     ]
    },
    {
     "name": "stdout",
     "output_type": "stream",
     "text": [
      "----- Bleu-n Scores -----\n",
      "1: 60.6381407289413\n",
      "2: 48.33520707341749\n",
      "3: 36.96943682295309\n",
      "4: 28.276851460713115\n",
      "-------------------------\n"
     ]
    }
   ],
   "source": [
    "from eval import test_score\n",
    "\n",
    "test_dict = {}\n",
    "\n",
    "for i in [1, 3, 5]:\n",
    "    \n",
    "    b1, b2, b3, b4 = test_score(i, encoder, decoder, IMGS_PATH, DATA_JSON_PATH, vocab)\n",
    "    if i == 3:\n",
    "        test_dict['b1'] = b1\n",
    "        test_dict['b2'] = b2\n",
    "        test_dict['b3'] = b3\n",
    "    \n",
    "    test_dict[f'b4-b{i}'] = b4"
   ]
  },
  {
   "cell_type": "code",
   "execution_count": 21,
   "metadata": {
    "execution": {
     "iopub.execute_input": "2021-07-17T15:25:18.727904Z",
     "iopub.status.busy": "2021-07-17T15:25:18.727488Z",
     "iopub.status.idle": "2021-07-17T15:25:19.644556Z",
     "shell.execute_reply": "2021-07-17T15:25:19.643289Z",
     "shell.execute_reply.started": "2021-07-17T15:25:18.727869Z"
    }
   },
   "outputs": [
    {
     "name": "stdout",
     "output_type": "stream",
     "text": [
      "BEST_checkpoint_flickr8k_ar_arabert.pth.tar\n",
      "BEST_checkpoint_flickr8k_ar_arabert_finetune.pth.tar\n",
      "Image-Captioning\n",
      "__notebook_source__.ipynb\n",
      "checkpoint_flickr8k_ar_arabert.pth.tar\n",
      "checkpoint_flickr8k_ar_arabert_finetune.pth.tar\n",
      "experiments\n"
     ]
    }
   ],
   "source": [
    "!ls"
   ]
  },
  {
   "cell_type": "code",
   "execution_count": 22,
   "metadata": {
    "execution": {
     "iopub.execute_input": "2021-07-17T15:25:56.423124Z",
     "iopub.status.busy": "2021-07-17T15:25:56.422737Z",
     "iopub.status.idle": "2021-07-17T15:25:56.512922Z",
     "shell.execute_reply": "2021-07-17T15:25:56.511483Z",
     "shell.execute_reply.started": "2021-07-17T15:25:56.423089Z"
    }
   },
   "outputs": [
    {
     "data": {
      "text/html": [
       "<a href='BEST_checkpoint_flickr8k_ar_arabert_finetune.pth.tar' target='_blank'>BEST_checkpoint_flickr8k_ar_arabert_finetune.pth.tar</a><br>"
      ],
      "text/plain": [
       "/kaggle/working/BEST_checkpoint_flickr8k_ar_arabert_finetune.pth.tar"
      ]
     },
     "execution_count": 22,
     "metadata": {},
     "output_type": "execute_result"
    }
   ],
   "source": [
    "# save the models to gdrive\n",
    "from IPython.display import FileLink\n",
    "FileLink(\"BEST_checkpoint_flickr8k_ar_arabert_finetune.pth.tar\")"
   ]
  },
  {
   "cell_type": "code",
   "execution_count": 25,
   "metadata": {
    "execution": {
     "iopub.execute_input": "2021-07-17T15:30:28.553959Z",
     "iopub.status.busy": "2021-07-17T15:30:28.553579Z",
     "iopub.status.idle": "2021-07-17T15:30:28.632720Z",
     "shell.execute_reply": "2021-07-17T15:30:28.631560Z",
     "shell.execute_reply.started": "2021-07-17T15:30:28.553929Z"
    },
    "id": "ZzgkO1EF6p_R",
    "outputId": "e698ff4a-1ffc-4d42-cd78-ac892c644849"
   },
   "outputs": [
    {
     "data": {
      "text/plain": [
       "{'b4-b1': 24.110450138582106,\n",
       " 'b1': 60.96960141888567,\n",
       " 'b2': 48.01618913794198,\n",
       " 'b3': 36.05148885101262,\n",
       " 'b4-b3': 27.008806858539085,\n",
       " 'b4-b5': 28.276851460713115}"
      ]
     },
     "execution_count": 25,
     "metadata": {},
     "output_type": "execute_result"
    }
   ],
   "source": [
    "test_dict"
   ]
  },
  {
   "cell_type": "code",
   "execution_count": 26,
   "metadata": {
    "execution": {
     "iopub.execute_input": "2021-07-17T15:30:31.109014Z",
     "iopub.status.busy": "2021-07-17T15:30:31.108650Z",
     "iopub.status.idle": "2021-07-17T15:30:31.185023Z",
     "shell.execute_reply": "2021-07-17T15:30:31.183935Z",
     "shell.execute_reply.started": "2021-07-17T15:30:31.108983Z"
    },
    "id": "_i5rSOU78FlS"
   },
   "outputs": [],
   "source": [
    "# final results -> different from training and validation scalars\n",
    "results_dic =  {\n",
    "    # train & valid\n",
    "    'total_epochs': 5.653,\n",
    "    'b-1/test': test_dict['b1'],\n",
    "    'b-2/test': test_dict['b2'],\n",
    "    'b-3/test': test_dict['b3'],\n",
    "    'b-4/b3': test_dict['b4-b3'],\n",
    "    'b-4/b1': test_dict['b4-b1'],\n",
    "    'b-4/b5': test_dict['b4-b5']\n",
    "}"
   ]
  },
  {
   "cell_type": "code",
   "execution_count": 27,
   "metadata": {
    "execution": {
     "iopub.execute_input": "2021-07-17T15:30:36.279571Z",
     "iopub.status.busy": "2021-07-17T15:30:36.279161Z",
     "iopub.status.idle": "2021-07-17T15:30:36.374959Z",
     "shell.execute_reply": "2021-07-17T15:30:36.373808Z",
     "shell.execute_reply.started": "2021-07-17T15:30:36.279531Z"
    },
    "id": "mStUSnYm8fPC"
   },
   "outputs": [],
   "source": [
    "logger.add_hparams(logger_dic, results_dic, run_name='Arabic_30maxlen')"
   ]
  }
 ],
 "metadata": {
  "kernelspec": {
   "display_name": "Python 3",
   "language": "python",
   "name": "python3"
  },
  "language_info": {
   "codemirror_mode": {
    "name": "ipython",
    "version": 3
   },
   "file_extension": ".py",
   "mimetype": "text/x-python",
   "name": "python",
   "nbconvert_exporter": "python",
   "pygments_lexer": "ipython3",
   "version": "3.6.13"
  }
 },
 "nbformat": 4,
 "nbformat_minor": 4
}
