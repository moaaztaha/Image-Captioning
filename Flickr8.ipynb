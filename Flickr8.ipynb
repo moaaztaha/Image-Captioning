{
  "nbformat": 4,
  "nbformat_minor": 0,
  "metadata": {
    "colab": {
      "name": "Flickr8",
      "provenance": [],
      "collapsed_sections": []
    },
    "kernelspec": {
      "name": "python3",
      "display_name": "Python 3"
    },
    "language_info": {
      "name": "python"
    },
    "accelerator": "GPU"
  },
  "cells": [
    {
      "cell_type": "code",
      "metadata": {
        "colab": {
          "base_uri": "https://localhost:8080/"
        },
        "id": "0yF22FLldBVv",
        "outputId": "81a493a4-f6b1-412e-f064-b2b455295d33"
      },
      "source": [
        "!nvidia-smi"
      ],
      "execution_count": 1,
      "outputs": [
        {
          "output_type": "stream",
          "text": [
            "Wed Jun 23 10:25:24 2021       \n",
            "+-----------------------------------------------------------------------------+\n",
            "| NVIDIA-SMI 465.27       Driver Version: 460.32.03    CUDA Version: 11.2     |\n",
            "|-------------------------------+----------------------+----------------------+\n",
            "| GPU  Name        Persistence-M| Bus-Id        Disp.A | Volatile Uncorr. ECC |\n",
            "| Fan  Temp  Perf  Pwr:Usage/Cap|         Memory-Usage | GPU-Util  Compute M. |\n",
            "|                               |                      |               MIG M. |\n",
            "|===============================+======================+======================|\n",
            "|   0  Tesla T4            Off  | 00000000:00:04.0 Off |                    0 |\n",
            "| N/A   70C    P8    11W /  70W |      0MiB / 15109MiB |      0%      Default |\n",
            "|                               |                      |                  N/A |\n",
            "+-------------------------------+----------------------+----------------------+\n",
            "                                                                               \n",
            "+-----------------------------------------------------------------------------+\n",
            "| Processes:                                                                  |\n",
            "|  GPU   GI   CI        PID   Type   Process name                  GPU Memory |\n",
            "|        ID   ID                                                   Usage      |\n",
            "|=============================================================================|\n",
            "|  No running processes found                                                 |\n",
            "+-----------------------------------------------------------------------------+\n"
          ],
          "name": "stdout"
        }
      ]
    },
    {
      "cell_type": "code",
      "metadata": {
        "colab": {
          "base_uri": "https://localhost:8080/"
        },
        "id": "KAVbNRecdEmC",
        "outputId": "5ae3ff3a-2b33-418a-ddc3-6f4b26857e04"
      },
      "source": [
        "# !mkdir /root/.kaggle\n",
        "!mv kaggle.json /root/.kaggle\n",
        "!chmod 600 /root/.kaggle/kaggle.json"
      ],
      "execution_count": 4,
      "outputs": [
        {
          "output_type": "stream",
          "text": [
            "mv: cannot stat 'kaggle.json': No such file or directory\n"
          ],
          "name": "stdout"
        }
      ]
    },
    {
      "cell_type": "code",
      "metadata": {
        "colab": {
          "base_uri": "https://localhost:8080/"
        },
        "id": "_FHpPT9-dPip",
        "outputId": "20c7d028-9edd-4152-ebb0-5f35b0798e4b"
      },
      "source": [
        "!pip install kaggle -q\n",
        "!kaggle datasets download -d aladdinpersson/flickr8kimagescaptions\n",
        "!unzip -q flickr8kimagescaptions.zip"
      ],
      "execution_count": 5,
      "outputs": [
        {
          "output_type": "stream",
          "text": [
            "Downloading flickr8kimagescaptions.zip to /content\n",
            " 99% 1.03G/1.04G [00:08<00:00, 130MB/s]\n",
            "100% 1.04G/1.04G [00:08<00:00, 129MB/s]\n"
          ],
          "name": "stdout"
        }
      ]
    },
    {
      "cell_type": "code",
      "metadata": {
        "id": "0rhy46y0NmxV"
      },
      "source": [
        "# !rm -r Image-Captioning/"
      ],
      "execution_count": 23,
      "outputs": []
    },
    {
      "cell_type": "code",
      "metadata": {
        "id": "kdb4vWE0dQS6",
        "colab": {
          "base_uri": "https://localhost:8080/"
        },
        "outputId": "fd619158-d6ba-4935-e844-12ff995f3e02"
      },
      "source": [
        "# # get the code for kaggle\n",
        "!git clone https://github.com/moaaztaha/Image-Captioning\n",
        "py_files_path = 'Image-Captioning/'\n",
        "import sys\n",
        "sys.path.append(py_files_path)"
      ],
      "execution_count": 24,
      "outputs": [
        {
          "output_type": "stream",
          "text": [
            "Cloning into 'Image-Captioning'...\n",
            "remote: Enumerating objects: 497, done.\u001b[K\n",
            "remote: Counting objects: 100% (497/497), done.\u001b[K\n",
            "remote: Compressing objects: 100% (210/210), done.\u001b[K\n",
            "remote: Total 497 (delta 305), reused 471 (delta 279), pack-reused 0\u001b[K\n",
            "Receiving objects: 100% (497/497), 36.48 MiB | 23.13 MiB/s, done.\n",
            "Resolving deltas: 100% (305/305), done.\n"
          ],
          "name": "stdout"
        }
      ]
    },
    {
      "cell_type": "code",
      "metadata": {
        "id": "cCupTxpafLCY"
      },
      "source": [
        "%reload_ext autoreload\n",
        "%autoreload 2\n",
        "%matplotlib inline"
      ],
      "execution_count": 25,
      "outputs": []
    },
    {
      "cell_type": "code",
      "metadata": {
        "colab": {
          "base_uri": "https://localhost:8080/"
        },
        "id": "DJpGuI-eJ1aC",
        "outputId": "90e766ae-42dc-4c68-a15d-300d298369aa"
      },
      "source": [
        "# !pip3 install nltk==3.6.2\n",
        "# import nltk\n",
        "# nltk.download(\"wordnet\")"
      ],
      "execution_count": 30,
      "outputs": [
        {
          "output_type": "stream",
          "text": [
            "[nltk_data] Downloading package wordnet to /root/nltk_data...\n",
            "[nltk_data]   Package wordnet is already up-to-date!\n"
          ],
          "name": "stderr"
        },
        {
          "output_type": "execute_result",
          "data": {
            "text/plain": [
              "True"
            ]
          },
          "metadata": {
            "tags": []
          },
          "execution_count": 30
        }
      ]
    },
    {
      "cell_type": "code",
      "metadata": {
        "id": "HAUwbIDzfLCY"
      },
      "source": [
        "import time \n",
        "import torch.backends.cudnn as cudnn\n",
        "import torch.optim\n",
        "import torch.utils.data\n",
        "import torchvision.transforms as transforms\n",
        "from torch import nn\n",
        "from torch.nn.utils.rnn import pack_padded_sequence\n",
        "from models import Encoder, DecoderWithAttention\n",
        "from dataset import *\n",
        "from utils import *\n",
        "from train import *\n",
        "from torch.utils.tensorboard import SummaryWriter\n",
        "from os import path as osp"
      ],
      "execution_count": 26,
      "outputs": []
    },
    {
      "cell_type": "code",
      "metadata": {
        "id": "2xao3iXYfLCZ"
      },
      "source": [
        "# Model parameters\n",
        "encoder_dim = 2048 # resnet101\n",
        "emb_dim = 512  # dimension of word embeddings\n",
        "attention_dim = 512  # dimension of attention linear layers\n",
        "decoder_dim = 512  # dimension of decoder RNN\n",
        "dropout = 0.5\n",
        "device = torch.device(\"cuda\" if torch.cuda.is_available() else \"cpu\")  # sets device for model and PyTorch tensors\n",
        "cudnn.benchmark = True  # set to true only if inputs to model are fixed size; otherwise lot of computational overhead\n",
        "\n",
        "# training parameters\n",
        "epochs = 20  # number of epochs to train for (if early stopping is not triggered)\n",
        "batch_size = 256\n",
        "workers = 2\n",
        "encoder_lr = 1e-4  # learning rate for encoder if fine-tuning\n",
        "decoder_lr = 4e-4  # learning rate for decoder\n",
        "fine_tune_encoder = False  # fine-tune encoder?\n",
        "pretrained_embeddings = False\n",
        "fine_tune_embeddings = False\n",
        "checkpoint = None  # path to checkpoint, None if none"
      ],
      "execution_count": 27,
      "outputs": []
    },
    {
      "cell_type": "code",
      "metadata": {
        "id": "NjGhnGwvfLCZ"
      },
      "source": [
        "DATA_NAME = 'flickr8k_tb'\n",
        "\n",
        "# local\n",
        "# DATA_JSON_PATH = 'data.json'\n",
        "# IMGS_PATH = 'flickr/Images/'\n",
        "# kaggle paths\n",
        "# DATA_JSON_PATH = '/kaggle/working/Image-Captioning/data.json'\n",
        "# IMGS_PATH = '../input/flickr8kimagescaptions/flickr8k/images/'\n",
        "#colab\n",
        "DATA_JSON_PATH = 'Image-Captioning/data.json'\n",
        "IMGS_PATH = 'flickr8k/images/'"
      ],
      "execution_count": 28,
      "outputs": []
    },
    {
      "cell_type": "code",
      "metadata": {
        "scrolled": true,
        "colab": {
          "base_uri": "https://localhost:8080/"
        },
        "id": "ohaaGjb7fLCa",
        "outputId": "f6051871-bb8a-4ffb-e630-adce20a3cc8e"
      },
      "source": [
        "# load vocab\n",
        "vocab = build_vocab(DATA_JSON_PATH)\n",
        "vocab_len = len(vocab)\n",
        "vocab_len"
      ],
      "execution_count": 29,
      "outputs": [
        {
          "output_type": "stream",
          "text": [
            "100%|██████████| 40000/40000 [00:00<00:00, 305353.42it/s]\n"
          ],
          "name": "stderr"
        },
        {
          "output_type": "execute_result",
          "data": {
            "text/plain": [
              "5089"
            ]
          },
          "metadata": {
            "tags": []
          },
          "execution_count": 29
        }
      ]
    },
    {
      "cell_type": "code",
      "metadata": {
        "id": "B6quGOJjfLCb"
      },
      "source": [
        "t_params = {\n",
        "    'data_name': DATA_NAME,\n",
        "    'imgs_path': IMGS_PATH,\n",
        "    'df_path': DATA_JSON_PATH,\n",
        "    'vocab': vocab,\n",
        "    'epochs': epochs,\n",
        "    'batch_size': batch_size,\n",
        "    'workers': workers,\n",
        "    'decoder_lr': decoder_lr,\n",
        "    'encoder_lr': encoder_lr,\n",
        "    'fine_tune_encoder': fine_tune_encoder,\n",
        "    'pretrained_embeddings': pretrained_embeddings,\n",
        "}\n",
        "\n",
        "m_params = {\n",
        "    'attention_dim': attention_dim,\n",
        "    'embed_dim': emb_dim,\n",
        "    'decoder_dim': decoder_dim,\n",
        "    'encoder_dim': encoder_dim,\n",
        "    'dropout': dropout\n",
        "}\n",
        "\n",
        "logger_dic = {\n",
        "    'decoder_lr': decoder_lr,\n",
        "    'encoder_lr': encoder_lr,\n",
        "    'fine_tune_encoder': fine_tune_encoder,\n",
        "    'pretrained_embeddings': pretrained_embeddings,\n",
        "    'max_seq_length': 100,\n",
        "    'vocab_size': vocab_len,\n",
        "    'enocder': 'resnet101',\n",
        "    'dropout': dropout,\n",
        "    'attention_dim': attention_dim,\n",
        "    'embed_dim': emb_dim,\n",
        "    'decoder_dim': decoder_dim,\n",
        "    'encoder_dim': encoder_dim \n",
        "    \n",
        "}"
      ],
      "execution_count": 30,
      "outputs": []
    },
    {
      "cell_type": "code",
      "metadata": {
        "colab": {
          "base_uri": "https://localhost:8080/"
        },
        "id": "z9hJPzJhh4v4",
        "outputId": "eaf95b9a-57db-44df-8fd8-efe7ce10f0b5"
      },
      "source": [
        "t_params"
      ],
      "execution_count": 31,
      "outputs": [
        {
          "output_type": "execute_result",
          "data": {
            "text/plain": [
              "{'batch_size': 256,\n",
              " 'data_name': 'flickr8k_tb',\n",
              " 'decoder_lr': 0.0004,\n",
              " 'df_path': 'Image-Captioning/data.json',\n",
              " 'encoder_lr': 0.0001,\n",
              " 'epochs': 20,\n",
              " 'fine_tune_encoder': False,\n",
              " 'imgs_path': 'flickr8k/images/',\n",
              " 'pretrained_embeddings': False,\n",
              " 'vocab': <dataset.Vocabulary at 0x7fca57144e10>,\n",
              " 'workers': 2}"
            ]
          },
          "metadata": {
            "tags": []
          },
          "execution_count": 31
        }
      ]
    },
    {
      "cell_type": "code",
      "metadata": {
        "id": "zb8kS-8cKOWR"
      },
      "source": [
        "# experiment name\n",
        "name = DATA_NAME + \"lr_scheduler\"\n",
        "# path\n",
        "log_dir = 'experiments'\n",
        "\n",
        "logger = SummaryWriter(log_dir=osp.join(log_dir, name))"
      ],
      "execution_count": 32,
      "outputs": []
    },
    {
      "cell_type": "code",
      "metadata": {
        "colab": {
          "base_uri": "https://localhost:8080/"
        },
        "id": "uq-qHyNcIQLQ",
        "outputId": "b50c152a-622c-4f3e-b570-f812ff224a94"
      },
      "source": [
        "# with scheduler\n",
        "fit(t_params=t_params, m_params=m_params, logger=logger)"
      ],
      "execution_count": 33,
      "outputs": [
        {
          "output_type": "stream",
          "text": [
            "Loading Data\n",
            "Dataset split: train\n",
            "Unique images: 6000\n",
            "Total size: 30000\n",
            "Dataset split: val\n",
            "Unique images: 1000\n",
            "Total size: 5000\n",
            "__________________________________________________\n",
            "-------------------- Fitting --------------------\n",
            "__________________________________________________\n",
            "-------------------- Training --------------------\n"
          ],
          "name": "stdout"
        },
        {
          "output_type": "stream",
          "text": [
            "/usr/local/lib/python3.7/dist-packages/torch/nn/functional.py:718: UserWarning: Named tensors and all their associated APIs are an experimental feature and subject to change. Please do not use them for anything important until they are released as stable. (Triggered internally at  /pytorch/c10/core/TensorImpl.h:1156.)\n",
            "  return torch.max_pool2d(input, kernel_size, stride, padding, dilation, ceil_mode)\n"
          ],
          "name": "stderr"
        },
        {
          "output_type": "stream",
          "text": [
            "Epoch: [0][0/118]\tBatch Time 9.055 (9.055)\tData Load Time 3.685 (3.685)\tLoss 9.4742 (9.4742)\tTop-5 Accuracy 0.097 (0.097)\n",
            "Epoch: [0][100/118]\tBatch Time 2.404 (2.462)\tData Load Time 0.004 (0.042)\tLoss 4.9845 (5.4901)\tTop-5 Accuracy 51.958 (45.029)\n",
            "Epoch train time 288.443 (epoch_time.avg:.3f)\n",
            "-------------------- Validation --------------------\n",
            "Validation: [0/20]\tBatch Time 5.905 (5.905)\tLoss 5.5337 (5.5337)\tTop-5 Accuracy 50.189 (50.189)\t\n",
            "----- Bleu-n Scores -----\n",
            "1: 58.773409222305304\n",
            "2: 31.724726568132926\n",
            "3: 14.532760213220275\n",
            "4: 6.5791969486955235\n",
            "-------------------------\n",
            "----- METEOR Score -----\n",
            "\n",
            " * LOSS - 5.425, TOP-5 ACCURACY - 50.907, BLEU-4 - 6.5791969486955235\n",
            "\n",
            "Epoch validation time 53.824 (epoch_time.avg:.3f)\n",
            "__________________________________________________\n",
            "-------------------- Training --------------------\n",
            "Epoch: [1][0/118]\tBatch Time 6.077 (6.077)\tData Load Time 3.504 (3.504)\tLoss 4.8901 (4.8901)\tTop-5 Accuracy 53.851 (53.851)\n",
            "Epoch: [1][100/118]\tBatch Time 2.496 (2.473)\tData Load Time 0.015 (0.039)\tLoss 4.4693 (4.6070)\tTop-5 Accuracy 57.623 (56.879)\n",
            "Epoch train time 289.047 (epoch_time.avg:.3f)\n",
            "-------------------- Validation --------------------\n",
            "Validation: [0/20]\tBatch Time 6.459 (6.459)\tLoss 5.2881 (5.2881)\tTop-5 Accuracy 54.527 (54.527)\t\n",
            "----- Bleu-n Scores -----\n",
            "1: 63.164578024567774\n",
            "2: 38.26463037439153\n",
            "3: 21.48252293035105\n",
            "4: 12.469165692872963\n",
            "-------------------------\n",
            "----- METEOR Score -----\n",
            "\n",
            " * LOSS - 5.337, TOP-5 ACCURACY - 54.557, BLEU-4 - 12.469165692872963\n",
            "\n",
            "Epoch validation time 54.911 (epoch_time.avg:.3f)\n",
            "__________________________________________________\n",
            "-------------------- Training --------------------\n",
            "Epoch: [2][0/118]\tBatch Time 6.348 (6.348)\tData Load Time 3.756 (3.756)\tLoss 4.5393 (4.5393)\tTop-5 Accuracy 57.662 (57.662)\n",
            "Epoch: [2][100/118]\tBatch Time 2.464 (2.462)\tData Load Time 0.021 (0.042)\tLoss 4.3307 (4.3337)\tTop-5 Accuracy 60.525 (60.371)\n",
            "Epoch train time 287.849 (epoch_time.avg:.3f)\n",
            "-------------------- Validation --------------------\n",
            "Validation: [0/20]\tBatch Time 5.839 (5.839)\tLoss 5.0594 (5.0594)\tTop-5 Accuracy 56.940 (56.940)\t\n",
            "----- Bleu-n Scores -----\n",
            "1: 63.634093612250744\n",
            "2: 38.58279827845695\n",
            "3: 21.968357208167962\n",
            "4: 12.625391612744908\n",
            "-------------------------\n",
            "----- METEOR Score -----\n",
            "\n",
            " * LOSS - 5.186, TOP-5 ACCURACY - 56.719, BLEU-4 - 12.625391612744908\n",
            "\n",
            "Epoch validation time 53.394 (epoch_time.avg:.3f)\n",
            "__________________________________________________\n",
            "-------------------- Training --------------------\n",
            "Epoch: [3][0/118]\tBatch Time 6.312 (6.312)\tData Load Time 3.715 (3.715)\tLoss 4.3235 (4.3235)\tTop-5 Accuracy 59.597 (59.597)\n",
            "Epoch: [3][100/118]\tBatch Time 2.444 (2.470)\tData Load Time 0.009 (0.042)\tLoss 4.2280 (4.1554)\tTop-5 Accuracy 61.367 (62.643)\n",
            "Epoch train time 288.716 (epoch_time.avg:.3f)\n",
            "-------------------- Validation --------------------\n",
            "Validation: [0/20]\tBatch Time 5.952 (5.952)\tLoss 5.3402 (5.3402)\tTop-5 Accuracy 56.452 (56.452)\t\n",
            "----- Bleu-n Scores -----\n",
            "1: 64.2596746167463\n",
            "2: 39.73126531576297\n",
            "3: 22.74461249136655\n",
            "4: 13.091490676531603\n",
            "-------------------------\n",
            "----- METEOR Score -----\n",
            "\n",
            " * LOSS - 5.200, TOP-5 ACCURACY - 57.976, BLEU-4 - 13.091490676531603\n",
            "\n",
            "Epoch validation time 52.926 (epoch_time.avg:.3f)\n",
            "Epoch     4: reducing learning rate of group 0 to 4.0000e-05.\n",
            "__________________________________________________\n",
            "-------------------- Training --------------------\n",
            "Epoch: [4][0/118]\tBatch Time 6.182 (6.182)\tData Load Time 3.698 (3.698)\tLoss 3.9547 (3.9547)\tTop-5 Accuracy 66.457 (66.457)\n",
            "Epoch: [4][100/118]\tBatch Time 2.417 (2.468)\tData Load Time 0.007 (0.041)\tLoss 3.9828 (4.0116)\tTop-5 Accuracy 65.372 (64.412)\n",
            "Epoch train time 288.508 (epoch_time.avg:.3f)\n",
            "-------------------- Validation --------------------\n",
            "Validation: [0/20]\tBatch Time 5.860 (5.860)\tLoss 5.0668 (5.0668)\tTop-5 Accuracy 59.594 (59.594)\t\n",
            "----- Bleu-n Scores -----\n",
            "1: 65.61777304749545\n",
            "2: 41.72638294398691\n",
            "3: 24.718290049752607\n",
            "4: 14.778032610568726\n",
            "-------------------------\n",
            "----- METEOR Score -----\n",
            "\n",
            " * LOSS - 5.103, TOP-5 ACCURACY - 58.987, BLEU-4 - 14.778032610568726\n",
            "\n",
            "Epoch validation time 52.737 (epoch_time.avg:.3f)\n",
            "__________________________________________________\n",
            "-------------------- Training --------------------\n",
            "Epoch: [5][0/118]\tBatch Time 6.350 (6.350)\tData Load Time 3.751 (3.751)\tLoss 3.9887 (3.9887)\tTop-5 Accuracy 64.895 (64.895)\n",
            "Epoch: [5][100/118]\tBatch Time 2.474 (2.469)\tData Load Time 0.007 (0.041)\tLoss 4.0027 (3.9833)\tTop-5 Accuracy 64.374 (64.914)\n",
            "Epoch train time 288.445 (epoch_time.avg:.3f)\n",
            "-------------------- Validation --------------------\n",
            "Validation: [0/20]\tBatch Time 5.873 (5.873)\tLoss 5.1215 (5.1215)\tTop-5 Accuracy 58.052 (58.052)\t\n",
            "----- Bleu-n Scores -----\n",
            "1: 65.79443888046558\n",
            "2: 41.5713169063815\n",
            "3: 24.578461939791516\n",
            "4: 14.661079842735045\n",
            "-------------------------\n",
            "----- METEOR Score -----\n",
            "\n",
            " * LOSS - 5.098, TOP-5 ACCURACY - 59.257, BLEU-4 - 14.661079842735045\n",
            "\n",
            "Epoch validation time 53.452 (epoch_time.avg:.3f)\n",
            "\n",
            "Epochs since last improvement: (1,)\n",
            "__________________________________________________\n",
            "-------------------- Training --------------------\n",
            "Epoch: [6][0/118]\tBatch Time 6.135 (6.135)\tData Load Time 3.510 (3.510)\tLoss 3.8999 (3.8999)\tTop-5 Accuracy 65.514 (65.514)\n",
            "Epoch: [6][100/118]\tBatch Time 2.439 (2.460)\tData Load Time 0.007 (0.039)\tLoss 3.9664 (3.9591)\tTop-5 Accuracy 64.426 (65.278)\n",
            "Epoch train time 287.845 (epoch_time.avg:.3f)\n",
            "-------------------- Validation --------------------\n",
            "Validation: [0/20]\tBatch Time 6.139 (6.139)\tLoss 4.8922 (4.8922)\tTop-5 Accuracy 61.204 (61.204)\t\n",
            "----- Bleu-n Scores -----\n",
            "1: 65.86547148950477\n",
            "2: 42.00479217663226\n",
            "3: 25.138653796770406\n",
            "4: 15.169348409483105\n",
            "-------------------------\n",
            "----- METEOR Score -----\n",
            "\n",
            " * LOSS - 5.090, TOP-5 ACCURACY - 59.356, BLEU-4 - 15.169348409483105\n",
            "\n",
            "Epoch validation time 54.541 (epoch_time.avg:.3f)\n",
            "Epoch     7: reducing learning rate of group 0 to 4.0000e-06.\n",
            "__________________________________________________\n",
            "-------------------- Training --------------------\n",
            "Epoch: [7][0/118]\tBatch Time 6.306 (6.306)\tData Load Time 3.701 (3.701)\tLoss 4.0264 (4.0264)\tTop-5 Accuracy 64.833 (64.833)\n",
            "Epoch: [7][100/118]\tBatch Time 2.351 (2.464)\tData Load Time 0.007 (0.041)\tLoss 3.8700 (3.9452)\tTop-5 Accuracy 66.200 (65.411)\n",
            "Epoch train time 288.346 (epoch_time.avg:.3f)\n",
            "-------------------- Validation --------------------\n",
            "Validation: [0/20]\tBatch Time 6.165 (6.165)\tLoss 5.0317 (5.0317)\tTop-5 Accuracy 59.935 (59.935)\t\n",
            "----- Bleu-n Scores -----\n",
            "1: 65.92180651113077\n",
            "2: 41.91544952331316\n",
            "3: 24.98199984492559\n",
            "4: 15.04412894064274\n",
            "-------------------------\n",
            "----- METEOR Score -----\n",
            "\n",
            " * LOSS - 5.105, TOP-5 ACCURACY - 59.310, BLEU-4 - 15.04412894064274\n",
            "\n",
            "Epoch validation time 53.468 (epoch_time.avg:.3f)\n",
            "\n",
            "Epochs since last improvement: (1,)\n",
            "__________________________________________________\n",
            "-------------------- Training --------------------\n",
            "Epoch: [8][0/118]\tBatch Time 6.068 (6.068)\tData Load Time 3.524 (3.524)\tLoss 3.9419 (3.9419)\tTop-5 Accuracy 66.072 (66.072)\n",
            "Epoch: [8][100/118]\tBatch Time 2.421 (2.469)\tData Load Time 0.011 (0.039)\tLoss 3.8961 (3.9406)\tTop-5 Accuracy 65.255 (65.565)\n",
            "Epoch train time 288.359 (epoch_time.avg:.3f)\n",
            "-------------------- Validation --------------------\n",
            "Validation: [0/20]\tBatch Time 6.005 (6.005)\tLoss 5.1384 (5.1384)\tTop-5 Accuracy 59.167 (59.167)\t\n",
            "----- Bleu-n Scores -----\n",
            "1: 65.93391925015952\n",
            "2: 41.938850007865746\n",
            "3: 24.992496811367023\n",
            "4: 15.046342530086502\n",
            "-------------------------\n",
            "----- METEOR Score -----\n",
            "\n",
            " * LOSS - 5.108, TOP-5 ACCURACY - 59.375, BLEU-4 - 15.046342530086502\n",
            "\n",
            "Epoch validation time 52.701 (epoch_time.avg:.3f)\n",
            "\n",
            "Epochs since last improvement: (2,)\n",
            "__________________________________________________\n",
            "-------------------- Training --------------------\n",
            "Epoch: [9][0/118]\tBatch Time 6.057 (6.057)\tData Load Time 3.551 (3.551)\tLoss 3.8826 (3.8826)\tTop-5 Accuracy 66.569 (66.569)\n",
            "Epoch: [9][100/118]\tBatch Time 2.455 (2.462)\tData Load Time 0.001 (0.040)\tLoss 3.9480 (3.9392)\tTop-5 Accuracy 65.911 (65.503)\n",
            "Epoch train time 287.585 (epoch_time.avg:.3f)\n",
            "-------------------- Validation --------------------\n",
            "Validation: [0/20]\tBatch Time 5.986 (5.986)\tLoss 5.0359 (5.0359)\tTop-5 Accuracy 59.076 (59.076)\t\n",
            "----- Bleu-n Scores -----\n",
            "1: 65.94524913889302\n",
            "2: 41.94883533324123\n",
            "3: 24.939841942593965\n",
            "4: 15.003304859846804\n",
            "-------------------------\n",
            "----- METEOR Score -----\n",
            "\n",
            " * LOSS - 5.108, TOP-5 ACCURACY - 59.367, BLEU-4 - 15.003304859846804\n",
            "\n",
            "Epoch validation time 52.904 (epoch_time.avg:.3f)\n",
            "\n",
            "Epochs since last improvement: (3,)\n",
            "Epoch    10: reducing learning rate of group 0 to 4.0000e-07.\n",
            "__________________________________________________\n",
            "-------------------- Training --------------------\n",
            "Epoch: [10][0/118]\tBatch Time 5.954 (5.954)\tData Load Time 3.387 (3.387)\tLoss 3.9688 (3.9688)\tTop-5 Accuracy 65.139 (65.139)\n",
            "Epoch: [10][100/118]\tBatch Time 2.428 (2.454)\tData Load Time 0.007 (0.038)\tLoss 4.0684 (3.9363)\tTop-5 Accuracy 63.204 (65.561)\n",
            "Epoch train time 287.127 (epoch_time.avg:.3f)\n",
            "-------------------- Validation --------------------\n",
            "Validation: [0/20]\tBatch Time 5.996 (5.996)\tLoss 5.1984 (5.1984)\tTop-5 Accuracy 58.836 (58.836)\t\n",
            "----- Bleu-n Scores -----\n",
            "1: 65.94933659034632\n",
            "2: 41.973013345008845\n",
            "3: 25.069038108024976\n",
            "4: 15.13098283813131\n",
            "-------------------------\n",
            "----- METEOR Score -----\n",
            "\n",
            " * LOSS - 5.108, TOP-5 ACCURACY - 59.364, BLEU-4 - 15.13098283813131\n",
            "\n",
            "Epoch validation time 53.361 (epoch_time.avg:.3f)\n",
            "\n",
            "Epochs since last improvement: (4,)\n",
            "__________________________________________________\n",
            "-------------------- Training --------------------\n",
            "Epoch: [11][0/118]\tBatch Time 6.180 (6.180)\tData Load Time 3.502 (3.502)\tLoss 3.8936 (3.8936)\tTop-5 Accuracy 66.667 (66.667)\n",
            "Epoch: [11][100/118]\tBatch Time 2.419 (2.466)\tData Load Time 0.001 (0.039)\tLoss 3.8817 (3.9383)\tTop-5 Accuracy 66.857 (65.576)\n",
            "Epoch train time 288.489 (epoch_time.avg:.3f)\n",
            "-------------------- Validation --------------------\n",
            "Validation: [0/20]\tBatch Time 5.893 (5.893)\tLoss 5.0352 (5.0352)\tTop-5 Accuracy 59.473 (59.473)\t\n",
            "----- Bleu-n Scores -----\n",
            "1: 65.9694076967353\n",
            "2: 41.996010294909844\n",
            "3: 25.062203483330514\n",
            "4: 15.10577276414188\n",
            "-------------------------\n",
            "----- METEOR Score -----\n",
            "\n",
            " * LOSS - 5.109, TOP-5 ACCURACY - 59.360, BLEU-4 - 15.10577276414188\n",
            "\n",
            "Epoch validation time 55.050 (epoch_time.avg:.3f)\n",
            "\n",
            "Epochs since last improvement: (5,)\n",
            "No improvement for 3 consecutive epochs, terminating...\n"
          ],
          "name": "stdout"
        }
      ]
    },
    {
      "cell_type": "code",
      "metadata": {
        "id": "9R-yLUh3sJYS"
      },
      "source": [
        ""
      ],
      "execution_count": null,
      "outputs": []
    },
    {
      "cell_type": "code",
      "metadata": {
        "id": "czDUNMJBfLCc"
      },
      "source": [
        "fit(t_params=t_params, m_params=m_params, logger=logger)"
      ],
      "execution_count": null,
      "outputs": []
    },
    {
      "cell_type": "code",
      "metadata": {
        "id": "ArfvyGXqKZrg"
      },
      "source": [
        " checkpoint = load_checkpoint('/content/BEST_checkpoint_flickr8k_tb.pth.tar')"
      ],
      "execution_count": null,
      "outputs": []
    },
    {
      "cell_type": "code",
      "metadata": {
        "id": "eKw_1kfvceZj"
      },
      "source": [
        "checkpoint_path = '/content/BEST_checkpoint_flickr8k_tb.pth.tar'"
      ],
      "execution_count": null,
      "outputs": []
    },
    {
      "cell_type": "code",
      "metadata": {
        "id": "vbpV1FbVcXL9"
      },
      "source": [
        "fit(t_params=t_params, checkpoint=checkpoint_path ,m_params=m_params, logger=logger)"
      ],
      "execution_count": null,
      "outputs": []
    },
    {
      "cell_type": "code",
      "metadata": {
        "colab": {
          "base_uri": "https://localhost:8080/"
        },
        "id": "tWGXmIb0cXHw",
        "outputId": "b755ad1a-51e8-44b0-f785-91909d4f73f7"
      },
      "source": [
        "batch_size = 64\n",
        "fine_tune_encoder = True\n",
        "checkpoint_path = '/content/BEST_checkpoint_flickr8k_tb.pth.tar'\n",
        "epochs = 20\n",
        "\n",
        "t_params = {\n",
        "    'data_name': DATA_NAME+'_finetune',\n",
        "    'imgs_path': IMGS_PATH,\n",
        "    'df_path': DATA_JSON_PATH,\n",
        "    'vocab': vocab,\n",
        "    'epochs': epochs,\n",
        "    'batch_size': batch_size,\n",
        "    'workers': workers,\n",
        "    'decoder_lr': decoder_lr*.8,\n",
        "    'encoder_lr': encoder_lr,\n",
        "    'fine_tune_encoder': fine_tune_encoder\n",
        "}\n",
        "t_params"
      ],
      "execution_count": null,
      "outputs": [
        {
          "output_type": "execute_result",
          "data": {
            "text/plain": [
              "{'batch_size': 64,\n",
              " 'data_name': 'flickr8k_tb_finetune',\n",
              " 'decoder_lr': 0.00032,\n",
              " 'df_path': 'Image-Captioning/data.json',\n",
              " 'encoder_lr': 0.0001,\n",
              " 'epochs': 20,\n",
              " 'fine_tune_encoder': True,\n",
              " 'imgs_path': 'flickr8k/images/',\n",
              " 'vocab': <dataset.Vocabulary at 0x7f48955ce3d0>,\n",
              " 'workers': 2}"
            ]
          },
          "metadata": {
            "tags": []
          },
          "execution_count": 31
        }
      ]
    },
    {
      "cell_type": "code",
      "metadata": {
        "colab": {
          "base_uri": "https://localhost:8080/",
          "height": 1000
        },
        "id": "U99PAPOwcXEm",
        "outputId": "e8bf2186-5bde-48dc-9477-8ee47d9bdebc"
      },
      "source": [
        "fit(t_params=t_params, checkpoint=checkpoint_path ,m_params=m_params, logger=logger)"
      ],
      "execution_count": null,
      "outputs": [
        {
          "output_type": "stream",
          "text": [
            "Loaded Checkpoint!!\n",
            "Starting Epoch: 7\n",
            "Loading Data\n",
            "Dataset split: train\n",
            "Unique images: 6000\n",
            "Total size: 30000\n",
            "Dataset split: val\n",
            "Unique images: 1000\n",
            "Total size: 5000\n",
            "__________________________________________________\n",
            "-------------------- Fitting --------------------\n",
            "__________________________________________________\n",
            "-------------------- Training --------------------\n",
            "Epoch: [7][0/469]\tBatch Time 4.559 (4.559)\tData Load Time 1.040 (1.040)\tLoss 3.7858 (3.7858)\tTop-5 Accuracy 67.105 (67.105)\n",
            "Epoch: [7][100/469]\tBatch Time 1.283 (1.344)\tData Load Time 0.001 (0.011)\tLoss 3.8368 (3.9083)\tTop-5 Accuracy 67.036 (65.524)\n",
            "Epoch: [7][200/469]\tBatch Time 1.298 (1.332)\tData Load Time 0.001 (0.006)\tLoss 3.8295 (3.8583)\tTop-5 Accuracy 66.802 (66.374)\n",
            "Epoch: [7][300/469]\tBatch Time 1.325 (1.326)\tData Load Time 0.000 (0.005)\tLoss 3.6381 (3.8268)\tTop-5 Accuracy 69.721 (66.943)\n",
            "Epoch: [7][400/469]\tBatch Time 1.311 (1.323)\tData Load Time 0.001 (0.004)\tLoss 3.6621 (3.8089)\tTop-5 Accuracy 69.179 (67.265)\n",
            "Epoch train time 620.777 (epoch_time.avg:.3f)\n",
            "-------------------- Validation --------------------\n",
            "Validation: [0/79]\tBatch Time 1.603 (1.603)\tLoss 4.6880 (4.6880)\tTop-5 Accuracy 64.842 (64.842)\t\n",
            "----- Bleu-n Scores -----\n"
          ],
          "name": "stdout"
        },
        {
          "output_type": "stream",
          "text": [
            "  1%|          | 33/5000 [00:00<00:15, 318.88it/s]"
          ],
          "name": "stderr"
        },
        {
          "output_type": "stream",
          "text": [
            "1: 67.00018921137398\n",
            "2: 42.881750888701966\n",
            "3: 25.892292195185686\n",
            "4: 15.633913962034743\n",
            "-------------------------\n",
            "----- METEOR Score -----\n"
          ],
          "name": "stdout"
        },
        {
          "output_type": "stream",
          "text": [
            "100%|██████████| 5000/5000 [00:12<00:00, 414.99it/s]\n"
          ],
          "name": "stderr"
        },
        {
          "output_type": "stream",
          "text": [
            "m: 0.3378340797195308\n",
            "\n",
            " * LOSS - 5.037, TOP-5 ACCURACY - 61.684, BLEU-4 - 15.633913962034743\n",
            "\n",
            "Epoch validation time 65.008 (epoch_time.avg:.3f)\n",
            "__________________________________________________\n",
            "-------------------- Training --------------------\n",
            "Epoch: [8][0/469]\tBatch Time 2.554 (2.554)\tData Load Time 1.129 (1.129)\tLoss 3.5000 (3.5000)\tTop-5 Accuracy 73.189 (73.189)\n",
            "Epoch: [8][100/469]\tBatch Time 1.312 (1.332)\tData Load Time 0.001 (0.013)\tLoss 3.5291 (3.5750)\tTop-5 Accuracy 70.175 (71.039)\n",
            "Epoch: [8][200/469]\tBatch Time 1.354 (1.325)\tData Load Time 0.001 (0.007)\tLoss 3.6319 (3.5766)\tTop-5 Accuracy 70.294 (70.929)\n",
            "Epoch: [8][300/469]\tBatch Time 1.299 (1.324)\tData Load Time 0.001 (0.005)\tLoss 3.6524 (3.5751)\tTop-5 Accuracy 70.201 (70.896)\n",
            "Epoch: [8][400/469]\tBatch Time 1.329 (1.323)\tData Load Time 0.001 (0.004)\tLoss 3.5307 (3.5773)\tTop-5 Accuracy 69.933 (70.885)\n",
            "Epoch train time 620.007 (epoch_time.avg:.3f)\n",
            "-------------------- Validation --------------------\n",
            "Validation: [0/79]\tBatch Time 1.670 (1.670)\tLoss 4.5324 (4.5324)\tTop-5 Accuracy 66.172 (66.172)\t\n",
            "----- Bleu-n Scores -----\n"
          ],
          "name": "stdout"
        },
        {
          "output_type": "stream",
          "text": [
            "  1%|          | 28/5000 [00:00<00:17, 279.57it/s]"
          ],
          "name": "stderr"
        },
        {
          "output_type": "stream",
          "text": [
            "1: 66.89309090381825\n",
            "2: 43.298474327640626\n",
            "3: 26.482333628199413\n",
            "4: 16.05066129157201\n",
            "-------------------------\n",
            "----- METEOR Score -----\n"
          ],
          "name": "stdout"
        },
        {
          "output_type": "stream",
          "text": [
            "100%|██████████| 5000/5000 [00:12<00:00, 404.78it/s]\n"
          ],
          "name": "stderr"
        },
        {
          "output_type": "stream",
          "text": [
            "m: 0.3448635656698715\n",
            "\n",
            " * LOSS - 5.129, TOP-5 ACCURACY - 62.131, BLEU-4 - 16.05066129157201\n",
            "\n",
            "Epoch validation time 67.783 (epoch_time.avg:.3f)\n",
            "__________________________________________________\n",
            "-------------------- Training --------------------\n",
            "Epoch: [9][0/469]\tBatch Time 2.530 (2.530)\tData Load Time 1.089 (1.089)\tLoss 3.6004 (3.6004)\tTop-5 Accuracy 72.564 (72.564)\n",
            "Epoch: [9][100/469]\tBatch Time 1.321 (1.325)\tData Load Time 0.001 (0.012)\tLoss 3.5180 (3.4088)\tTop-5 Accuracy 71.042 (73.478)\n",
            "Epoch: [9][200/469]\tBatch Time 1.314 (1.320)\tData Load Time 0.001 (0.006)\tLoss 3.3674 (3.4162)\tTop-5 Accuracy 73.582 (73.300)\n",
            "Epoch: [9][300/469]\tBatch Time 1.333 (1.318)\tData Load Time 0.001 (0.005)\tLoss 3.5184 (3.4225)\tTop-5 Accuracy 72.025 (73.201)\n",
            "Epoch: [9][400/469]\tBatch Time 1.313 (1.319)\tData Load Time 0.003 (0.004)\tLoss 3.4385 (3.4301)\tTop-5 Accuracy 73.634 (73.147)\n",
            "Epoch train time 617.901 (epoch_time.avg:.3f)\n",
            "-------------------- Validation --------------------\n",
            "Validation: [0/79]\tBatch Time 1.642 (1.642)\tLoss 5.6594 (5.6594)\tTop-5 Accuracy 59.649 (59.649)\t\n",
            "----- Bleu-n Scores -----\n"
          ],
          "name": "stdout"
        },
        {
          "output_type": "stream",
          "text": [
            "  1%|          | 41/5000 [00:00<00:12, 409.56it/s]"
          ],
          "name": "stderr"
        },
        {
          "output_type": "stream",
          "text": [
            "1: 66.37016521694432\n",
            "2: 42.923109330869366\n",
            "3: 26.445143939791688\n",
            "4: 16.359959192996026\n",
            "-------------------------\n",
            "----- METEOR Score -----\n"
          ],
          "name": "stdout"
        },
        {
          "output_type": "stream",
          "text": [
            "100%|██████████| 5000/5000 [00:11<00:00, 432.78it/s]\n"
          ],
          "name": "stderr"
        },
        {
          "output_type": "stream",
          "text": [
            "m: 0.34476450562437894\n",
            "\n",
            " * LOSS - 5.164, TOP-5 ACCURACY - 62.549, BLEU-4 - 16.359959192996026\n",
            "\n",
            "Epoch validation time 64.770 (epoch_time.avg:.3f)\n",
            "__________________________________________________\n",
            "-------------------- Training --------------------\n",
            "Epoch: [10][0/469]\tBatch Time 2.491 (2.491)\tData Load Time 1.059 (1.059)\tLoss 3.3483 (3.3483)\tTop-5 Accuracy 74.844 (74.844)\n",
            "Epoch: [10][100/469]\tBatch Time 1.316 (1.323)\tData Load Time 0.001 (0.011)\tLoss 3.3153 (3.2833)\tTop-5 Accuracy 74.646 (75.100)\n",
            "Epoch: [10][200/469]\tBatch Time 1.322 (1.319)\tData Load Time 0.001 (0.006)\tLoss 3.2638 (3.2890)\tTop-5 Accuracy 75.623 (75.090)\n",
            "Epoch: [10][300/469]\tBatch Time 1.341 (1.319)\tData Load Time 0.002 (0.005)\tLoss 3.3258 (3.2957)\tTop-5 Accuracy 75.606 (75.042)\n",
            "Epoch: [10][400/469]\tBatch Time 1.299 (1.318)\tData Load Time 0.001 (0.004)\tLoss 3.4457 (3.3006)\tTop-5 Accuracy 75.344 (75.034)\n",
            "Epoch train time 617.436 (epoch_time.avg:.3f)\n",
            "-------------------- Validation --------------------\n",
            "Validation: [0/79]\tBatch Time 1.619 (1.619)\tLoss 5.8109 (5.8109)\tTop-5 Accuracy 58.304 (58.304)\t\n",
            "----- Bleu-n Scores -----\n"
          ],
          "name": "stdout"
        },
        {
          "output_type": "stream",
          "text": [
            "  1%|          | 47/5000 [00:00<00:10, 463.87it/s]"
          ],
          "name": "stderr"
        },
        {
          "output_type": "stream",
          "text": [
            "1: 67.0097277326499\n",
            "2: 43.36028209469986\n",
            "3: 26.41766578125509\n",
            "4: 16.195871539858164\n",
            "-------------------------\n",
            "----- METEOR Score -----\n"
          ],
          "name": "stdout"
        },
        {
          "output_type": "stream",
          "text": [
            "100%|██████████| 5000/5000 [00:11<00:00, 450.80it/s]\n"
          ],
          "name": "stderr"
        },
        {
          "output_type": "stream",
          "text": [
            "m: 0.34362699913690886\n",
            "\n",
            " * LOSS - 5.239, TOP-5 ACCURACY - 62.643, BLEU-4 - 16.195871539858164\n",
            "\n",
            "Epoch validation time 62.849 (epoch_time.avg:.3f)\n",
            "\n",
            "Epochs since last improvement: (1,)\n",
            "__________________________________________________\n",
            "-------------------- Training --------------------\n",
            "Epoch: [11][0/469]\tBatch Time 2.438 (2.438)\tData Load Time 1.067 (1.067)\tLoss 3.1522 (3.1522)\tTop-5 Accuracy 76.298 (76.298)\n",
            "Epoch: [11][100/469]\tBatch Time 1.293 (1.324)\tData Load Time 0.001 (0.012)\tLoss 3.0582 (3.1495)\tTop-5 Accuracy 80.318 (77.105)\n",
            "Epoch: [11][200/469]\tBatch Time 1.322 (1.320)\tData Load Time 0.000 (0.006)\tLoss 3.2937 (3.1659)\tTop-5 Accuracy 74.585 (76.893)\n"
          ],
          "name": "stdout"
        },
        {
          "output_type": "error",
          "ename": "KeyboardInterrupt",
          "evalue": "ignored",
          "traceback": [
            "\u001b[0;31m---------------------------------------------------------------------------\u001b[0m",
            "\u001b[0;31mKeyboardInterrupt\u001b[0m                         Traceback (most recent call last)",
            "\u001b[0;32m<ipython-input-32-e1f7e3c472be>\u001b[0m in \u001b[0;36m<module>\u001b[0;34m()\u001b[0m\n\u001b[0;32m----> 1\u001b[0;31m \u001b[0mfit\u001b[0m\u001b[0;34m(\u001b[0m\u001b[0mt_params\u001b[0m\u001b[0;34m=\u001b[0m\u001b[0mt_params\u001b[0m\u001b[0;34m,\u001b[0m \u001b[0mcheckpoint\u001b[0m\u001b[0;34m=\u001b[0m\u001b[0mcheckpoint_path\u001b[0m \u001b[0;34m,\u001b[0m\u001b[0mm_params\u001b[0m\u001b[0;34m=\u001b[0m\u001b[0mm_params\u001b[0m\u001b[0;34m,\u001b[0m \u001b[0mlogger\u001b[0m\u001b[0;34m=\u001b[0m\u001b[0mlogger\u001b[0m\u001b[0;34m)\u001b[0m\u001b[0;34m\u001b[0m\u001b[0;34m\u001b[0m\u001b[0m\n\u001b[0m",
            "\u001b[0;32m/content/Image-Captioning/train.py\u001b[0m in \u001b[0;36mfit\u001b[0;34m(t_params, checkpoint, m_params, logger)\u001b[0m\n\u001b[1;32m    314\u001b[0m             \u001b[0mdecoder_optimizer\u001b[0m\u001b[0;34m=\u001b[0m\u001b[0mdecoder_optimizer\u001b[0m\u001b[0;34m,\u001b[0m\u001b[0;34m\u001b[0m\u001b[0;34m\u001b[0m\u001b[0m\n\u001b[1;32m    315\u001b[0m             \u001b[0mepoch\u001b[0m\u001b[0;34m=\u001b[0m\u001b[0mepoch\u001b[0m\u001b[0;34m,\u001b[0m\u001b[0;34m\u001b[0m\u001b[0;34m\u001b[0m\u001b[0m\n\u001b[0;32m--> 316\u001b[0;31m             logger=logger)\n\u001b[0m\u001b[1;32m    317\u001b[0m         \u001b[0mepoch_time\u001b[0m\u001b[0;34m.\u001b[0m\u001b[0mupdate\u001b[0m\u001b[0;34m(\u001b[0m\u001b[0mtime\u001b[0m\u001b[0;34m.\u001b[0m\u001b[0mtime\u001b[0m\u001b[0;34m(\u001b[0m\u001b[0;34m)\u001b[0m \u001b[0;34m-\u001b[0m \u001b[0mstart_time\u001b[0m\u001b[0;34m)\u001b[0m\u001b[0;34m\u001b[0m\u001b[0;34m\u001b[0m\u001b[0m\n\u001b[1;32m    318\u001b[0m         \u001b[0mprint\u001b[0m\u001b[0;34m(\u001b[0m\u001b[0;34mf\"Epoch train time {epoch_time.val:.3f} (epoch_time.avg:.3f)\"\u001b[0m\u001b[0;34m)\u001b[0m\u001b[0;34m\u001b[0m\u001b[0;34m\u001b[0m\u001b[0m\n",
            "\u001b[0;32m/content/Image-Captioning/train.py\u001b[0m in \u001b[0;36mtrain\u001b[0;34m(train_loader, encoder, decoder, criterion, encoder_optimizer, decoder_optimizer, epoch, logger)\u001b[0m\n\u001b[1;32m     77\u001b[0m         \u001b[0mdecoder_optimizer\u001b[0m\u001b[0;34m.\u001b[0m\u001b[0mstep\u001b[0m\u001b[0;34m(\u001b[0m\u001b[0;34m)\u001b[0m\u001b[0;34m\u001b[0m\u001b[0;34m\u001b[0m\u001b[0m\n\u001b[1;32m     78\u001b[0m         \u001b[0;32mif\u001b[0m \u001b[0mencoder_optimizer\u001b[0m \u001b[0;32mis\u001b[0m \u001b[0;32mnot\u001b[0m \u001b[0;32mNone\u001b[0m\u001b[0;34m:\u001b[0m\u001b[0;34m\u001b[0m\u001b[0;34m\u001b[0m\u001b[0m\n\u001b[0;32m---> 79\u001b[0;31m             \u001b[0mencoder_optimizer\u001b[0m\u001b[0;34m.\u001b[0m\u001b[0mstep\u001b[0m\u001b[0;34m(\u001b[0m\u001b[0;34m)\u001b[0m\u001b[0;34m\u001b[0m\u001b[0;34m\u001b[0m\u001b[0m\n\u001b[0m\u001b[1;32m     80\u001b[0m \u001b[0;34m\u001b[0m\u001b[0m\n\u001b[1;32m     81\u001b[0m \u001b[0;34m\u001b[0m\u001b[0m\n",
            "\u001b[0;32m/usr/local/lib/python3.7/dist-packages/torch/optim/optimizer.py\u001b[0m in \u001b[0;36mwrapper\u001b[0;34m(*args, **kwargs)\u001b[0m\n\u001b[1;32m     86\u001b[0m                 \u001b[0mprofile_name\u001b[0m \u001b[0;34m=\u001b[0m \u001b[0;34m\"Optimizer.step#{}.step\"\u001b[0m\u001b[0;34m.\u001b[0m\u001b[0mformat\u001b[0m\u001b[0;34m(\u001b[0m\u001b[0mobj\u001b[0m\u001b[0;34m.\u001b[0m\u001b[0m__class__\u001b[0m\u001b[0;34m.\u001b[0m\u001b[0m__name__\u001b[0m\u001b[0;34m)\u001b[0m\u001b[0;34m\u001b[0m\u001b[0;34m\u001b[0m\u001b[0m\n\u001b[1;32m     87\u001b[0m                 \u001b[0;32mwith\u001b[0m \u001b[0mtorch\u001b[0m\u001b[0;34m.\u001b[0m\u001b[0mautograd\u001b[0m\u001b[0;34m.\u001b[0m\u001b[0mprofiler\u001b[0m\u001b[0;34m.\u001b[0m\u001b[0mrecord_function\u001b[0m\u001b[0;34m(\u001b[0m\u001b[0mprofile_name\u001b[0m\u001b[0;34m)\u001b[0m\u001b[0;34m:\u001b[0m\u001b[0;34m\u001b[0m\u001b[0;34m\u001b[0m\u001b[0m\n\u001b[0;32m---> 88\u001b[0;31m                     \u001b[0;32mreturn\u001b[0m \u001b[0mfunc\u001b[0m\u001b[0;34m(\u001b[0m\u001b[0;34m*\u001b[0m\u001b[0margs\u001b[0m\u001b[0;34m,\u001b[0m \u001b[0;34m**\u001b[0m\u001b[0mkwargs\u001b[0m\u001b[0;34m)\u001b[0m\u001b[0;34m\u001b[0m\u001b[0;34m\u001b[0m\u001b[0m\n\u001b[0m\u001b[1;32m     89\u001b[0m             \u001b[0;32mreturn\u001b[0m \u001b[0mwrapper\u001b[0m\u001b[0;34m\u001b[0m\u001b[0;34m\u001b[0m\u001b[0m\n\u001b[1;32m     90\u001b[0m \u001b[0;34m\u001b[0m\u001b[0m\n",
            "\u001b[0;32m/usr/local/lib/python3.7/dist-packages/torch/autograd/grad_mode.py\u001b[0m in \u001b[0;36mdecorate_context\u001b[0;34m(*args, **kwargs)\u001b[0m\n\u001b[1;32m     26\u001b[0m         \u001b[0;32mdef\u001b[0m \u001b[0mdecorate_context\u001b[0m\u001b[0;34m(\u001b[0m\u001b[0;34m*\u001b[0m\u001b[0margs\u001b[0m\u001b[0;34m,\u001b[0m \u001b[0;34m**\u001b[0m\u001b[0mkwargs\u001b[0m\u001b[0;34m)\u001b[0m\u001b[0;34m:\u001b[0m\u001b[0;34m\u001b[0m\u001b[0;34m\u001b[0m\u001b[0m\n\u001b[1;32m     27\u001b[0m             \u001b[0;32mwith\u001b[0m \u001b[0mself\u001b[0m\u001b[0;34m.\u001b[0m\u001b[0m__class__\u001b[0m\u001b[0;34m(\u001b[0m\u001b[0;34m)\u001b[0m\u001b[0;34m:\u001b[0m\u001b[0;34m\u001b[0m\u001b[0;34m\u001b[0m\u001b[0m\n\u001b[0;32m---> 28\u001b[0;31m                 \u001b[0;32mreturn\u001b[0m \u001b[0mfunc\u001b[0m\u001b[0;34m(\u001b[0m\u001b[0;34m*\u001b[0m\u001b[0margs\u001b[0m\u001b[0;34m,\u001b[0m \u001b[0;34m**\u001b[0m\u001b[0mkwargs\u001b[0m\u001b[0;34m)\u001b[0m\u001b[0;34m\u001b[0m\u001b[0;34m\u001b[0m\u001b[0m\n\u001b[0m\u001b[1;32m     29\u001b[0m         \u001b[0;32mreturn\u001b[0m \u001b[0mcast\u001b[0m\u001b[0;34m(\u001b[0m\u001b[0mF\u001b[0m\u001b[0;34m,\u001b[0m \u001b[0mdecorate_context\u001b[0m\u001b[0;34m)\u001b[0m\u001b[0;34m\u001b[0m\u001b[0;34m\u001b[0m\u001b[0m\n\u001b[1;32m     30\u001b[0m \u001b[0;34m\u001b[0m\u001b[0m\n",
            "\u001b[0;32m/usr/local/lib/python3.7/dist-packages/torch/optim/rmsprop.py\u001b[0m in \u001b[0;36mstep\u001b[0;34m(self, closure)\u001b[0m\n\u001b[1;32m    114\u001b[0m                       \u001b[0mweight_decay\u001b[0m\u001b[0;34m=\u001b[0m\u001b[0mgroup\u001b[0m\u001b[0;34m[\u001b[0m\u001b[0;34m'weight_decay'\u001b[0m\u001b[0;34m]\u001b[0m\u001b[0;34m,\u001b[0m\u001b[0;34m\u001b[0m\u001b[0;34m\u001b[0m\u001b[0m\n\u001b[1;32m    115\u001b[0m                       \u001b[0mmomentum\u001b[0m\u001b[0;34m=\u001b[0m\u001b[0mgroup\u001b[0m\u001b[0;34m[\u001b[0m\u001b[0;34m'momentum'\u001b[0m\u001b[0;34m]\u001b[0m\u001b[0;34m,\u001b[0m\u001b[0;34m\u001b[0m\u001b[0;34m\u001b[0m\u001b[0m\n\u001b[0;32m--> 116\u001b[0;31m                       centered=group['centered'])\n\u001b[0m\u001b[1;32m    117\u001b[0m \u001b[0;34m\u001b[0m\u001b[0m\n\u001b[1;32m    118\u001b[0m         \u001b[0;32mreturn\u001b[0m \u001b[0mloss\u001b[0m\u001b[0;34m\u001b[0m\u001b[0;34m\u001b[0m\u001b[0m\n",
            "\u001b[0;32m/usr/local/lib/python3.7/dist-packages/torch/optim/_functional.py\u001b[0m in \u001b[0;36mrmsprop\u001b[0;34m(params, grads, square_avgs, grad_avgs, momentum_buffer_list, lr, alpha, eps, weight_decay, momentum, centered)\u001b[0m\n\u001b[1;32m    237\u001b[0m             \u001b[0mavg\u001b[0m \u001b[0;34m=\u001b[0m \u001b[0msquare_avg\u001b[0m\u001b[0;34m.\u001b[0m\u001b[0maddcmul\u001b[0m\u001b[0;34m(\u001b[0m\u001b[0mgrad_avg\u001b[0m\u001b[0;34m,\u001b[0m \u001b[0mgrad_avg\u001b[0m\u001b[0;34m,\u001b[0m \u001b[0mvalue\u001b[0m\u001b[0;34m=\u001b[0m\u001b[0;34m-\u001b[0m\u001b[0;36m1\u001b[0m\u001b[0;34m)\u001b[0m\u001b[0;34m.\u001b[0m\u001b[0msqrt_\u001b[0m\u001b[0;34m(\u001b[0m\u001b[0;34m)\u001b[0m\u001b[0;34m.\u001b[0m\u001b[0madd_\u001b[0m\u001b[0;34m(\u001b[0m\u001b[0meps\u001b[0m\u001b[0;34m)\u001b[0m\u001b[0;34m\u001b[0m\u001b[0;34m\u001b[0m\u001b[0m\n\u001b[1;32m    238\u001b[0m         \u001b[0;32melse\u001b[0m\u001b[0;34m:\u001b[0m\u001b[0;34m\u001b[0m\u001b[0;34m\u001b[0m\u001b[0m\n\u001b[0;32m--> 239\u001b[0;31m             \u001b[0mavg\u001b[0m \u001b[0;34m=\u001b[0m \u001b[0msquare_avg\u001b[0m\u001b[0;34m.\u001b[0m\u001b[0msqrt\u001b[0m\u001b[0;34m(\u001b[0m\u001b[0;34m)\u001b[0m\u001b[0;34m.\u001b[0m\u001b[0madd_\u001b[0m\u001b[0;34m(\u001b[0m\u001b[0meps\u001b[0m\u001b[0;34m)\u001b[0m\u001b[0;34m\u001b[0m\u001b[0;34m\u001b[0m\u001b[0m\n\u001b[0m\u001b[1;32m    240\u001b[0m \u001b[0;34m\u001b[0m\u001b[0m\n\u001b[1;32m    241\u001b[0m         \u001b[0;32mif\u001b[0m \u001b[0mmomentum\u001b[0m \u001b[0;34m>\u001b[0m \u001b[0;36m0\u001b[0m\u001b[0;34m:\u001b[0m\u001b[0;34m\u001b[0m\u001b[0;34m\u001b[0m\u001b[0m\n",
            "\u001b[0;31mKeyboardInterrupt\u001b[0m: "
          ]
        }
      ]
    },
    {
      "cell_type": "code",
      "metadata": {
        "id": "Dhbo4heicW9B"
      },
      "source": [
        "!mv BEST_checkpoint_flickr8k_tb_finetune.pth.tar /content/drive/MyDrive/ImageCaptioning"
      ],
      "execution_count": null,
      "outputs": []
    },
    {
      "cell_type": "code",
      "metadata": {
        "id": "7WelS-hQs7P9"
      },
      "source": [
        "!mv /content/experiments /content/drive/MyDrive/ImageCaptioning/experiments_1/"
      ],
      "execution_count": 37,
      "outputs": []
    },
    {
      "cell_type": "code",
      "metadata": {
        "colab": {
          "base_uri": "https://localhost:8080/"
        },
        "id": "cU407x8dsMTP",
        "outputId": "dacaf5f0-db2d-4206-f8f7-62e015bbceb3"
      },
      "source": [
        "from google.colab import drive\n",
        "drive.mount('/content/drive')"
      ],
      "execution_count": 34,
      "outputs": [
        {
          "output_type": "stream",
          "text": [
            "Mounted at /content/drive\n"
          ],
          "name": "stdout"
        }
      ]
    },
    {
      "cell_type": "code",
      "metadata": {
        "id": "nP702SAMKZhY"
      },
      "source": [
        ""
      ],
      "execution_count": null,
      "outputs": []
    },
    {
      "cell_type": "code",
      "metadata": {
        "id": "TuhRS-t8pA6W"
      },
      "source": [
        "!cp /content/BEST_checkpoint_flickr8k_tb.pth.tar  /content/drive/MyDrive/weights/"
      ],
      "execution_count": 35,
      "outputs": []
    },
    {
      "cell_type": "code",
      "metadata": {
        "colab": {
          "base_uri": "https://localhost:8080/"
        },
        "id": "zdnuK-b4pPd1",
        "outputId": "e88d39aa-2856-418c-f0c4-72ed1e40e8b2"
      },
      "source": [
        "batch_size = 64\n",
        "fine_tune_encoder = True\n",
        "checkpoint = '/content/BEST_checkpoint_flickr8k_5_cap_per_img_2_min_word_freq_resnet101_fullvocab_fix_ds_rmsprop.pth.tar'\n",
        "epochs = 15\n",
        "\n",
        "t_params = {\n",
        "    'data_name': DATA_NAME+'_finetune',\n",
        "    'imgs_path': IMGS_PATH,\n",
        "    'df_path': DATA_JSON_PATH,\n",
        "    'vocab': vocab,\n",
        "    'epochs': epochs,\n",
        "    'batch_size': batch_size,\n",
        "    'workers': workers,\n",
        "    'decoder_lr': decoder_lr*.8,\n",
        "    'encoder_lr': encoder_lr,\n",
        "    'fine_tune_encoder': fine_tune_encoder\n",
        "}\n",
        "t_params"
      ],
      "execution_count": null,
      "outputs": [
        {
          "output_type": "execute_result",
          "data": {
            "text/plain": [
              "{'batch_size': 64,\n",
              " 'data_name': 'flickr8k_5_cap_per_img_2_min_word_freq_resnet101_fullvocab_fix_ds_adam_finetune',\n",
              " 'decoder_lr': 0.00032,\n",
              " 'df_path': 'Image-Captioning/data.json',\n",
              " 'encoder_lr': 0.0001,\n",
              " 'epochs': 15,\n",
              " 'fine_tune_encoder': True,\n",
              " 'imgs_path': 'flickr8k/images/',\n",
              " 'vocab': <dataset.Vocabulary at 0x7fcd545bc0d0>,\n",
              " 'workers': 2}"
            ]
          },
          "metadata": {
            "tags": []
          },
          "execution_count": 108
        }
      ]
    },
    {
      "cell_type": "code",
      "metadata": {
        "colab": {
          "base_uri": "https://localhost:8080/",
          "height": 1000
        },
        "id": "ptOGGuc8pWY1",
        "outputId": "5101f4bf-1674-4841-ecc3-a6dac069a7ba"
      },
      "source": [
        "fit(t_params, checkpoint=checkpoint, m_params=m_params)"
      ],
      "execution_count": null,
      "outputs": [
        {
          "output_type": "stream",
          "text": [
            "Loaded Checkpoint!!\n",
            "Starting Epoch: 5\n",
            "Loading Data\n",
            "Dataset split: train\n",
            "Unique images: 6000\n",
            "Total size: 30000\n",
            "Dataset split: val\n",
            "Unique images: 1000\n",
            "Total size: 5000\n",
            "__________________________________________________\n",
            "-------------------- Fitting --------------------\n",
            "__________________________________________________\n",
            "-------------------- Training --------------------\n",
            "Epoch: [5][0/469]\tBatch Time 1.736 (1.736)\tData Load Time 0.902 (0.902)\tLoss 3.8268 (3.8268)\tTop-5 Accuracy 68.293 (68.293)\n",
            "Epoch: [5][100/469]\tBatch Time 0.704 (0.720)\tData Load Time 0.000 (0.010)\tLoss 4.1850 (4.0490)\tTop-5 Accuracy 62.500 (63.931)\n",
            "Epoch: [5][200/469]\tBatch Time 0.705 (0.715)\tData Load Time 0.000 (0.006)\tLoss 4.0673 (4.0145)\tTop-5 Accuracy 64.947 (64.577)\n",
            "Epoch: [5][300/469]\tBatch Time 0.692 (0.713)\tData Load Time 0.000 (0.004)\tLoss 3.8470 (3.9893)\tTop-5 Accuracy 67.878 (64.951)\n",
            "Epoch: [5][400/469]\tBatch Time 0.715 (0.712)\tData Load Time 0.000 (0.004)\tLoss 3.8155 (3.9740)\tTop-5 Accuracy 68.421 (65.176)\n",
            "-------------------- Validation --------------------\n",
            "Validation: [0/79]\tBatch Time 1.344 (1.344)\tLoss 4.6954 (4.6954)\tTop-5 Accuracy 61.452 (61.452)\t\n",
            "----- Bleu-n Scores -----\n",
            "1: 65.4424432710508\n",
            "2: 41.72578622919813\n",
            "3: 25.25512672543196\n",
            "4: 15.100470698138055\n",
            "-------------------------\n",
            "\n",
            " * LOSS - 4.923, TOP-5 ACCURACY - 60.585, BLEU-4 - 0.15255731663785566\n",
            "\n",
            "__________________________________________________\n",
            "-------------------- Training --------------------\n",
            "Epoch: [6][0/469]\tBatch Time 1.775 (1.775)\tData Load Time 0.966 (0.966)\tLoss 3.7059 (3.7059)\tTop-5 Accuracy 67.871 (67.871)\n",
            "Epoch: [6][100/469]\tBatch Time 0.717 (0.719)\tData Load Time 0.000 (0.012)\tLoss 3.7245 (3.6898)\tTop-5 Accuracy 69.309 (69.209)\n",
            "Epoch: [6][200/469]\tBatch Time 0.694 (0.714)\tData Load Time 0.000 (0.007)\tLoss 3.6809 (3.6931)\tTop-5 Accuracy 67.507 (69.097)\n",
            "Epoch: [6][300/469]\tBatch Time 0.694 (0.713)\tData Load Time 0.000 (0.005)\tLoss 3.5686 (3.6957)\tTop-5 Accuracy 71.028 (69.093)\n",
            "Epoch: [6][400/469]\tBatch Time 0.694 (0.712)\tData Load Time 0.008 (0.004)\tLoss 3.5257 (3.6871)\tTop-5 Accuracy 71.633 (69.229)\n",
            "-------------------- Validation --------------------\n",
            "Validation: [0/79]\tBatch Time 1.307 (1.307)\tLoss 4.7258 (4.7258)\tTop-5 Accuracy 63.469 (63.469)\t\n",
            "----- Bleu-n Scores -----\n",
            "1: 65.8827320630505\n",
            "2: 41.761465649591344\n",
            "3: 25.140217304024944\n",
            "4: 14.775600280611487\n",
            "-------------------------\n",
            "\n",
            " * LOSS - 4.967, TOP-5 ACCURACY - 61.200, BLEU-4 - 0.14921721553438844\n",
            "\n",
            "\n",
            "Epochs since last improvement: (1,)\n",
            "__________________________________________________\n",
            "-------------------- Training --------------------\n",
            "Epoch: [7][0/469]\tBatch Time 1.775 (1.775)\tData Load Time 0.987 (0.987)\tLoss 3.6065 (3.6065)\tTop-5 Accuracy 71.542 (71.542)\n",
            "Epoch: [7][100/469]\tBatch Time 0.726 (0.720)\tData Load Time 0.007 (0.012)\tLoss 3.6363 (3.4967)\tTop-5 Accuracy 69.520 (71.702)\n",
            "Epoch: [7][200/469]\tBatch Time 0.723 (0.715)\tData Load Time 0.000 (0.007)\tLoss 3.3221 (3.5022)\tTop-5 Accuracy 76.923 (71.741)\n",
            "Epoch: [7][300/469]\tBatch Time 0.700 (0.714)\tData Load Time 0.000 (0.005)\tLoss 3.6172 (3.5069)\tTop-5 Accuracy 70.346 (71.690)\n"
          ],
          "name": "stdout"
        },
        {
          "output_type": "error",
          "ename": "KeyboardInterrupt",
          "evalue": "ignored",
          "traceback": [
            "\u001b[0;31m---------------------------------------------------------------------------\u001b[0m",
            "\u001b[0;31mKeyboardInterrupt\u001b[0m                         Traceback (most recent call last)",
            "\u001b[0;32m<ipython-input-109-d10976b43c01>\u001b[0m in \u001b[0;36m<module>\u001b[0;34m()\u001b[0m\n\u001b[0;32m----> 1\u001b[0;31m \u001b[0mfit\u001b[0m\u001b[0;34m(\u001b[0m\u001b[0mt_params\u001b[0m\u001b[0;34m,\u001b[0m \u001b[0mcheckpoint\u001b[0m\u001b[0;34m=\u001b[0m\u001b[0mcheckpoint\u001b[0m\u001b[0;34m,\u001b[0m \u001b[0mm_params\u001b[0m\u001b[0;34m=\u001b[0m\u001b[0mm_params\u001b[0m\u001b[0;34m)\u001b[0m\u001b[0;34m\u001b[0m\u001b[0;34m\u001b[0m\u001b[0m\n\u001b[0m",
            "\u001b[0;32m/content/Image-Captioning/train.py\u001b[0m in \u001b[0;36mfit\u001b[0;34m(t_params, checkpoint, m_params)\u001b[0m\n\u001b[1;32m    296\u001b[0m             \u001b[0mencoder_optimizer\u001b[0m\u001b[0;34m=\u001b[0m\u001b[0mencoder_optimizer\u001b[0m\u001b[0;34m,\u001b[0m\u001b[0;34m\u001b[0m\u001b[0;34m\u001b[0m\u001b[0m\n\u001b[1;32m    297\u001b[0m             \u001b[0mdecoder_optimizer\u001b[0m\u001b[0;34m=\u001b[0m\u001b[0mdecoder_optimizer\u001b[0m\u001b[0;34m,\u001b[0m\u001b[0;34m\u001b[0m\u001b[0;34m\u001b[0m\u001b[0m\n\u001b[0;32m--> 298\u001b[0;31m             epoch=epoch)\n\u001b[0m\u001b[1;32m    299\u001b[0m \u001b[0;34m\u001b[0m\u001b[0m\n\u001b[1;32m    300\u001b[0m         \u001b[0;31m# one epoch of validation\u001b[0m\u001b[0;34m\u001b[0m\u001b[0;34m\u001b[0m\u001b[0;34m\u001b[0m\u001b[0m\n",
            "\u001b[0;32m/content/Image-Captioning/train.py\u001b[0m in \u001b[0;36mtrain\u001b[0;34m(train_loader, encoder, decoder, criterion, encoder_optimizer, decoder_optimizer, epoch)\u001b[0m\n\u001b[1;32m     77\u001b[0m         \u001b[0mdecoder_optimizer\u001b[0m\u001b[0;34m.\u001b[0m\u001b[0mstep\u001b[0m\u001b[0;34m(\u001b[0m\u001b[0;34m)\u001b[0m\u001b[0;34m\u001b[0m\u001b[0;34m\u001b[0m\u001b[0m\n\u001b[1;32m     78\u001b[0m         \u001b[0;32mif\u001b[0m \u001b[0mencoder_optimizer\u001b[0m \u001b[0;32mis\u001b[0m \u001b[0;32mnot\u001b[0m \u001b[0;32mNone\u001b[0m\u001b[0;34m:\u001b[0m\u001b[0;34m\u001b[0m\u001b[0;34m\u001b[0m\u001b[0m\n\u001b[0;32m---> 79\u001b[0;31m             \u001b[0mencoder_optimizer\u001b[0m\u001b[0;34m.\u001b[0m\u001b[0mstep\u001b[0m\u001b[0;34m(\u001b[0m\u001b[0;34m)\u001b[0m\u001b[0;34m\u001b[0m\u001b[0;34m\u001b[0m\u001b[0m\n\u001b[0m\u001b[1;32m     80\u001b[0m \u001b[0;34m\u001b[0m\u001b[0m\n\u001b[1;32m     81\u001b[0m \u001b[0;34m\u001b[0m\u001b[0m\n",
            "\u001b[0;32m/usr/local/lib/python3.7/dist-packages/torch/optim/optimizer.py\u001b[0m in \u001b[0;36mwrapper\u001b[0;34m(*args, **kwargs)\u001b[0m\n\u001b[1;32m     87\u001b[0m                 \u001b[0mprofile_name\u001b[0m \u001b[0;34m=\u001b[0m \u001b[0;34m\"Optimizer.step#{}.step\"\u001b[0m\u001b[0;34m.\u001b[0m\u001b[0mformat\u001b[0m\u001b[0;34m(\u001b[0m\u001b[0mobj\u001b[0m\u001b[0;34m.\u001b[0m\u001b[0m__class__\u001b[0m\u001b[0;34m.\u001b[0m\u001b[0m__name__\u001b[0m\u001b[0;34m)\u001b[0m\u001b[0;34m\u001b[0m\u001b[0;34m\u001b[0m\u001b[0m\n\u001b[1;32m     88\u001b[0m                 \u001b[0;32mwith\u001b[0m \u001b[0mtorch\u001b[0m\u001b[0;34m.\u001b[0m\u001b[0mautograd\u001b[0m\u001b[0;34m.\u001b[0m\u001b[0mprofiler\u001b[0m\u001b[0;34m.\u001b[0m\u001b[0mrecord_function\u001b[0m\u001b[0;34m(\u001b[0m\u001b[0mprofile_name\u001b[0m\u001b[0;34m)\u001b[0m\u001b[0;34m:\u001b[0m\u001b[0;34m\u001b[0m\u001b[0;34m\u001b[0m\u001b[0m\n\u001b[0;32m---> 89\u001b[0;31m                     \u001b[0;32mreturn\u001b[0m \u001b[0mfunc\u001b[0m\u001b[0;34m(\u001b[0m\u001b[0;34m*\u001b[0m\u001b[0margs\u001b[0m\u001b[0;34m,\u001b[0m \u001b[0;34m**\u001b[0m\u001b[0mkwargs\u001b[0m\u001b[0;34m)\u001b[0m\u001b[0;34m\u001b[0m\u001b[0;34m\u001b[0m\u001b[0m\n\u001b[0m\u001b[1;32m     90\u001b[0m             \u001b[0;32mreturn\u001b[0m \u001b[0mwrapper\u001b[0m\u001b[0;34m\u001b[0m\u001b[0;34m\u001b[0m\u001b[0m\n\u001b[1;32m     91\u001b[0m \u001b[0;34m\u001b[0m\u001b[0m\n",
            "\u001b[0;32m/usr/local/lib/python3.7/dist-packages/torch/autograd/grad_mode.py\u001b[0m in \u001b[0;36mdecorate_context\u001b[0;34m(*args, **kwargs)\u001b[0m\n\u001b[1;32m     25\u001b[0m         \u001b[0;32mdef\u001b[0m \u001b[0mdecorate_context\u001b[0m\u001b[0;34m(\u001b[0m\u001b[0;34m*\u001b[0m\u001b[0margs\u001b[0m\u001b[0;34m,\u001b[0m \u001b[0;34m**\u001b[0m\u001b[0mkwargs\u001b[0m\u001b[0;34m)\u001b[0m\u001b[0;34m:\u001b[0m\u001b[0;34m\u001b[0m\u001b[0;34m\u001b[0m\u001b[0m\n\u001b[1;32m     26\u001b[0m             \u001b[0;32mwith\u001b[0m \u001b[0mself\u001b[0m\u001b[0;34m.\u001b[0m\u001b[0m__class__\u001b[0m\u001b[0;34m(\u001b[0m\u001b[0;34m)\u001b[0m\u001b[0;34m:\u001b[0m\u001b[0;34m\u001b[0m\u001b[0;34m\u001b[0m\u001b[0m\n\u001b[0;32m---> 27\u001b[0;31m                 \u001b[0;32mreturn\u001b[0m \u001b[0mfunc\u001b[0m\u001b[0;34m(\u001b[0m\u001b[0;34m*\u001b[0m\u001b[0margs\u001b[0m\u001b[0;34m,\u001b[0m \u001b[0;34m**\u001b[0m\u001b[0mkwargs\u001b[0m\u001b[0;34m)\u001b[0m\u001b[0;34m\u001b[0m\u001b[0;34m\u001b[0m\u001b[0m\n\u001b[0m\u001b[1;32m     28\u001b[0m         \u001b[0;32mreturn\u001b[0m \u001b[0mcast\u001b[0m\u001b[0;34m(\u001b[0m\u001b[0mF\u001b[0m\u001b[0;34m,\u001b[0m \u001b[0mdecorate_context\u001b[0m\u001b[0;34m)\u001b[0m\u001b[0;34m\u001b[0m\u001b[0;34m\u001b[0m\u001b[0m\n\u001b[1;32m     29\u001b[0m \u001b[0;34m\u001b[0m\u001b[0m\n",
            "\u001b[0;32m/usr/local/lib/python3.7/dist-packages/torch/optim/adam.py\u001b[0m in \u001b[0;36mstep\u001b[0;34m(self, closure)\u001b[0m\n\u001b[1;32m    117\u001b[0m                    \u001b[0mgroup\u001b[0m\u001b[0;34m[\u001b[0m\u001b[0;34m'lr'\u001b[0m\u001b[0;34m]\u001b[0m\u001b[0;34m,\u001b[0m\u001b[0;34m\u001b[0m\u001b[0;34m\u001b[0m\u001b[0m\n\u001b[1;32m    118\u001b[0m                    \u001b[0mgroup\u001b[0m\u001b[0;34m[\u001b[0m\u001b[0;34m'weight_decay'\u001b[0m\u001b[0;34m]\u001b[0m\u001b[0;34m,\u001b[0m\u001b[0;34m\u001b[0m\u001b[0;34m\u001b[0m\u001b[0m\n\u001b[0;32m--> 119\u001b[0;31m                    group['eps'])\n\u001b[0m\u001b[1;32m    120\u001b[0m         \u001b[0;32mreturn\u001b[0m \u001b[0mloss\u001b[0m\u001b[0;34m\u001b[0m\u001b[0;34m\u001b[0m\u001b[0m\n",
            "\u001b[0;32m/usr/local/lib/python3.7/dist-packages/torch/optim/_functional.py\u001b[0m in \u001b[0;36madam\u001b[0;34m(params, grads, exp_avgs, exp_avg_sqs, max_exp_avg_sqs, state_steps, amsgrad, beta1, beta2, lr, weight_decay, eps)\u001b[0m\n\u001b[1;32m     90\u001b[0m             \u001b[0mdenom\u001b[0m \u001b[0;34m=\u001b[0m \u001b[0;34m(\u001b[0m\u001b[0mmax_exp_avg_sqs\u001b[0m\u001b[0;34m[\u001b[0m\u001b[0mi\u001b[0m\u001b[0;34m]\u001b[0m\u001b[0;34m.\u001b[0m\u001b[0msqrt\u001b[0m\u001b[0;34m(\u001b[0m\u001b[0;34m)\u001b[0m \u001b[0;34m/\u001b[0m \u001b[0mmath\u001b[0m\u001b[0;34m.\u001b[0m\u001b[0msqrt\u001b[0m\u001b[0;34m(\u001b[0m\u001b[0mbias_correction2\u001b[0m\u001b[0;34m)\u001b[0m\u001b[0;34m)\u001b[0m\u001b[0;34m.\u001b[0m\u001b[0madd_\u001b[0m\u001b[0;34m(\u001b[0m\u001b[0meps\u001b[0m\u001b[0;34m)\u001b[0m\u001b[0;34m\u001b[0m\u001b[0;34m\u001b[0m\u001b[0m\n\u001b[1;32m     91\u001b[0m         \u001b[0;32melse\u001b[0m\u001b[0;34m:\u001b[0m\u001b[0;34m\u001b[0m\u001b[0;34m\u001b[0m\u001b[0m\n\u001b[0;32m---> 92\u001b[0;31m             \u001b[0mdenom\u001b[0m \u001b[0;34m=\u001b[0m \u001b[0;34m(\u001b[0m\u001b[0mexp_avg_sq\u001b[0m\u001b[0;34m.\u001b[0m\u001b[0msqrt\u001b[0m\u001b[0;34m(\u001b[0m\u001b[0;34m)\u001b[0m \u001b[0;34m/\u001b[0m \u001b[0mmath\u001b[0m\u001b[0;34m.\u001b[0m\u001b[0msqrt\u001b[0m\u001b[0;34m(\u001b[0m\u001b[0mbias_correction2\u001b[0m\u001b[0;34m)\u001b[0m\u001b[0;34m)\u001b[0m\u001b[0;34m.\u001b[0m\u001b[0madd_\u001b[0m\u001b[0;34m(\u001b[0m\u001b[0meps\u001b[0m\u001b[0;34m)\u001b[0m\u001b[0;34m\u001b[0m\u001b[0;34m\u001b[0m\u001b[0m\n\u001b[0m\u001b[1;32m     93\u001b[0m \u001b[0;34m\u001b[0m\u001b[0m\n\u001b[1;32m     94\u001b[0m         \u001b[0mstep_size\u001b[0m \u001b[0;34m=\u001b[0m \u001b[0mlr\u001b[0m \u001b[0;34m/\u001b[0m \u001b[0mbias_correction1\u001b[0m\u001b[0;34m\u001b[0m\u001b[0;34m\u001b[0m\u001b[0m\n",
            "\u001b[0;31mKeyboardInterrupt\u001b[0m: "
          ]
        }
      ]
    },
    {
      "cell_type": "code",
      "metadata": {
        "id": "k7iGsR2yDqWa"
      },
      "source": [
        "!cp /content/BEST_checkpoint_flickr8k_5_cap_per_img_2_min_word_freq_resnet101_fullvocab_fix_ds_adam_finetune.pth.tar /content/drive/MyDrive/weights/"
      ],
      "execution_count": null,
      "outputs": []
    },
    {
      "cell_type": "code",
      "metadata": {
        "colab": {
          "base_uri": "https://localhost:8080/"
        },
        "id": "CkM-H7kopj-m",
        "outputId": "3f100b09-58a5-46b2-cf8d-704ae385abd7"
      },
      "source": [
        "checkpoint = load_checkpoint('/content/BEST_checkpoint_flickr8k_5_cap_per_img_2_min_word_freq_resnet101_fullvocab_fix_ds_adam_finetune.pth.tar')"
      ],
      "execution_count": null,
      "outputs": [
        {
          "output_type": "stream",
          "text": [
            "Loaded Checkpoint!!\n",
            "Last Epoch: 12\n",
            "Best Bleu-4: 0.15974322033502095\n"
          ],
          "name": "stdout"
        }
      ]
    },
    {
      "cell_type": "code",
      "metadata": {
        "id": "97VrCTRMimEO",
        "colab": {
          "base_uri": "https://localhost:8080/"
        },
        "outputId": "d0ffca08-67f0-4766-f5d6-b72fe7682943"
      },
      "source": [
        "batch_size = 64\n",
        "fine_tune_encoder = True\n",
        "checkpoint = '/content/BEST_checkpoint_flickr8k_5_cap_per_img_2_min_word_freq_resnet101_fullvocab_fix_ds_adam_finetune.pth.tar'\n",
        "epochs = 15\n",
        "\n",
        "t_params = {\n",
        "    'data_name': DATA_NAME+'_finetune_new_lr',\n",
        "    'imgs_path': IMGS_PATH,\n",
        "    'df_path': DATA_JSON_PATH,\n",
        "    'vocab': vocab,\n",
        "    'epochs': epochs,\n",
        "    'batch_size': batch_size,\n",
        "    'workers': workers,\n",
        "    'decoder_lr': decoder_lr*.8,\n",
        "    'encoder_lr': encoder_lr*.8,\n",
        "    'fine_tune_encoder': fine_tune_encoder\n",
        "}\n",
        "t_params"
      ],
      "execution_count": null,
      "outputs": [
        {
          "output_type": "execute_result",
          "data": {
            "text/plain": [
              "{'batch_size': 64,\n",
              " 'data_name': 'flickr8k_5_cap_per_img_2_min_word_freq_resnet101_fullvocab_fix_ds_adam_finetune_new_lr',\n",
              " 'decoder_lr': 0.00032,\n",
              " 'df_path': 'Image-Captioning/data.json',\n",
              " 'encoder_lr': 8e-05,\n",
              " 'epochs': 15,\n",
              " 'fine_tune_encoder': True,\n",
              " 'imgs_path': 'flickr8k/images/',\n",
              " 'vocab': <dataset.Vocabulary at 0x7fcd545bc0d0>,\n",
              " 'workers': 2}"
            ]
          },
          "metadata": {
            "tags": []
          },
          "execution_count": 106
        }
      ]
    },
    {
      "cell_type": "code",
      "metadata": {
        "colab": {
          "base_uri": "https://localhost:8080/"
        },
        "id": "ygbSFSPCD7WL",
        "outputId": "ea8c5bc1-5ede-40c0-fbea-c1c1d5e7323e"
      },
      "source": [
        "fit(t_params, checkpoint=checkpoint, m_params=m_params)"
      ],
      "execution_count": null,
      "outputs": [
        {
          "output_type": "stream",
          "text": [
            "Loaded Checkpoint!!\n",
            "Starting Epoch: 13\n",
            "Loading Data\n",
            "Dataset split: train\n",
            "Unique images: 6000\n",
            "Total size: 30000\n",
            "Dataset split: val\n",
            "Unique images: 1000\n",
            "Total size: 5000\n",
            "__________________________________________________\n",
            "-------------------- Fitting --------------------\n",
            "__________________________________________________\n",
            "-------------------- Training --------------------\n",
            "Epoch: [13][0/469]\tBatch Time 1.702 (1.702)\tData Load Time 0.922 (0.922)\tLoss 2.9290 (2.9290)\tTop-5 Accuracy 79.778 (79.778)\n",
            "Epoch: [13][100/469]\tBatch Time 0.711 (0.723)\tData Load Time 0.000 (0.011)\tLoss 2.7991 (2.7624)\tTop-5 Accuracy 81.139 (82.264)\n",
            "Epoch: [13][200/469]\tBatch Time 0.719 (0.717)\tData Load Time 0.000 (0.006)\tLoss 2.9192 (2.7909)\tTop-5 Accuracy 80.526 (81.872)\n",
            "Epoch: [13][300/469]\tBatch Time 0.743 (0.715)\tData Load Time 0.012 (0.005)\tLoss 2.8699 (2.8093)\tTop-5 Accuracy 80.472 (81.621)\n",
            "Epoch: [13][400/469]\tBatch Time 0.711 (0.713)\tData Load Time 0.000 (0.004)\tLoss 2.8068 (2.8186)\tTop-5 Accuracy 82.283 (81.484)\n",
            "-------------------- Validation --------------------\n",
            "Validation: [0/79]\tBatch Time 1.320 (1.320)\tLoss 4.8484 (4.8484)\tTop-5 Accuracy 65.803 (65.803)\t\n",
            "----- Bleu-n Scores -----\n",
            "1: 65.39241916377719\n",
            "2: 42.16568133115344\n",
            "3: 25.963963089562274\n",
            "4: 15.576708356424676\n",
            "-------------------------\n",
            "\n",
            " * LOSS - 5.114, TOP-5 ACCURACY - 62.683, BLEU-4 - 0.15726994542258108\n",
            "\n",
            "\n",
            "Epochs since last improvement: (1,)\n",
            "__________________________________________________\n",
            "-------------------- Training --------------------\n",
            "Epoch: [14][0/469]\tBatch Time 1.792 (1.792)\tData Load Time 1.062 (1.062)\tLoss 2.5844 (2.5844)\tTop-5 Accuracy 85.933 (85.933)\n",
            "Epoch: [14][100/469]\tBatch Time 0.717 (0.722)\tData Load Time 0.000 (0.012)\tLoss 2.6657 (2.6788)\tTop-5 Accuracy 85.659 (83.613)\n",
            "Epoch: [14][200/469]\tBatch Time 0.691 (0.716)\tData Load Time 0.000 (0.007)\tLoss 2.7891 (2.7015)\tTop-5 Accuracy 81.604 (83.302)\n",
            "Epoch: [14][300/469]\tBatch Time 0.714 (0.714)\tData Load Time 0.000 (0.005)\tLoss 2.6504 (2.7193)\tTop-5 Accuracy 84.797 (83.033)\n",
            "Epoch: [14][400/469]\tBatch Time 0.745 (0.712)\tData Load Time 0.014 (0.004)\tLoss 2.9042 (2.7365)\tTop-5 Accuracy 79.602 (82.762)\n",
            "-------------------- Validation --------------------\n",
            "Validation: [0/79]\tBatch Time 1.413 (1.413)\tLoss 6.0991 (6.0991)\tTop-5 Accuracy 58.359 (58.359)\t\n",
            "----- Bleu-n Scores -----\n",
            "1: 65.0476172035588\n",
            "2: 41.439224439447095\n",
            "3: 25.308004838458835\n",
            "4: 14.88381782772477\n",
            "-------------------------\n",
            "\n",
            " * LOSS - 5.220, TOP-5 ACCURACY - 62.219, BLEU-4 - 0.1503382598144659\n",
            "\n",
            "\n",
            "Epochs since last improvement: (2,)\n"
          ],
          "name": "stdout"
        }
      ]
    },
    {
      "cell_type": "code",
      "metadata": {
        "colab": {
          "base_uri": "https://localhost:8080/"
        },
        "id": "nyKTKbP_EAq8",
        "outputId": "abcd286d-80a4-45ce-ab9f-fa8cfb6ec75a"
      },
      "source": [
        "checkpoint = load_checkpoint('/content/BEST_checkpoint_flickr8k_5_cap_per_img_2_min_word_freq_resnet101_fullvocab_fix_ds_adam_finetune.pth.tar')"
      ],
      "execution_count": null,
      "outputs": [
        {
          "output_type": "stream",
          "text": [
            "Loaded Checkpoint!!\n",
            "Last Epoch: 5\n",
            "Best Bleu-4: 0.15255731663785566\n"
          ],
          "name": "stdout"
        }
      ]
    },
    {
      "cell_type": "code",
      "metadata": {
        "colab": {
          "base_uri": "https://localhost:8080/"
        },
        "id": "TOumQKMDMziE",
        "outputId": "6bab49f7-869a-4367-8729-0afeb533beca"
      },
      "source": [
        "checkpoint = load_checkpoint('/content/BEST_checkpoint_flickr8k_5_cap_per_img_2_min_word_freq_resnet101_fullvocab_fix_ds_adam.pth.tar')"
      ],
      "execution_count": null,
      "outputs": [
        {
          "output_type": "stream",
          "text": [
            "Loaded Checkpoint!!\n",
            "Last Epoch: 4\n",
            "Best Bleu-4: 0.1466164024634058\n"
          ],
          "name": "stdout"
        }
      ]
    }
  ]
}