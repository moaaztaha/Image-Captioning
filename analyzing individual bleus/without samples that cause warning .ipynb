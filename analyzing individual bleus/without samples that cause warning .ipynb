{
 "cells": [
  {
   "cell_type": "code",
   "execution_count": 8,
   "id": "f603e92e",
   "metadata": {},
   "outputs": [],
   "source": [
    "import pandas as pd\n",
    "from tqdm import tqdm\n",
    "from utils import print_scores"
   ]
  },
  {
   "cell_type": "code",
   "execution_count": 9,
   "id": "0ab1869b",
   "metadata": {},
   "outputs": [
    {
     "data": {
      "text/html": [
       "<div>\n",
       "<style scoped>\n",
       "    .dataframe tbody tr th:only-of-type {\n",
       "        vertical-align: middle;\n",
       "    }\n",
       "\n",
       "    .dataframe tbody tr th {\n",
       "        vertical-align: top;\n",
       "    }\n",
       "\n",
       "    .dataframe thead th {\n",
       "        text-align: right;\n",
       "    }\n",
       "</style>\n",
       "<table border=\"1\" class=\"dataframe\">\n",
       "  <thead>\n",
       "    <tr style=\"text-align: right;\">\n",
       "      <th></th>\n",
       "      <th>file_name</th>\n",
       "      <th>references</th>\n",
       "      <th>hypothesis</th>\n",
       "    </tr>\n",
       "  </thead>\n",
       "  <tbody>\n",
       "    <tr>\n",
       "      <th>0</th>\n",
       "      <td>1056338697_4f7d7ce270.jpg</td>\n",
       "      <td>[[112, 4, 5, 151, 16, 122, 109, 664, 689, 4, 5...</td>\n",
       "      <td>[20, 4, 5, 7, 4, 5, 16, 10, 4, 71]</td>\n",
       "    </tr>\n",
       "    <tr>\n",
       "      <th>1</th>\n",
       "      <td>353180303_6a24179c50.jpg</td>\n",
       "      <td>[[112, 4, 5, 215, 10, 4, 236, 1008, 962, 253, ...</td>\n",
       "      <td>[112, 4, 5, 7, 4, 5, 16, 10, 4, 50]</td>\n",
       "    </tr>\n",
       "    <tr>\n",
       "      <th>2</th>\n",
       "      <td>1415591512_a84644750c.jpg</td>\n",
       "      <td>[[20, 4, 5, 91, 16, 10, 4, 793, 21, 4, 10, 4, ...</td>\n",
       "      <td>[20, 4, 5, 7, 4, 5, 7, 4, 5, 16, 10, 4, 71]</td>\n",
       "    </tr>\n",
       "    <tr>\n",
       "      <th>3</th>\n",
       "      <td>3256043809_47258e0b3e.jpg</td>\n",
       "      <td>[[12, 65, 15, 4, 31, 1232, 10, 4, 209, 10, 4, ...</td>\n",
       "      <td>[90, 45, 10, 4, 89, 38, 4, 121, 16, 10, 4, 55]</td>\n",
       "    </tr>\n",
       "    <tr>\n",
       "      <th>4</th>\n",
       "      <td>3499720588_c32590108e.jpg</td>\n",
       "      <td>[[28, 389, 1743, 4, 5, 976, 4, 5, 38, 10, 4, 8...</td>\n",
       "      <td>[28, 15, 4, 112, 4, 5, 16, 10, 4, 50]</td>\n",
       "    </tr>\n",
       "  </tbody>\n",
       "</table>\n",
       "</div>"
      ],
      "text/plain": [
       "                   file_name  \\\n",
       "0  1056338697_4f7d7ce270.jpg   \n",
       "1   353180303_6a24179c50.jpg   \n",
       "2  1415591512_a84644750c.jpg   \n",
       "3  3256043809_47258e0b3e.jpg   \n",
       "4  3499720588_c32590108e.jpg   \n",
       "\n",
       "                                          references  \\\n",
       "0  [[112, 4, 5, 151, 16, 122, 109, 664, 689, 4, 5...   \n",
       "1  [[112, 4, 5, 215, 10, 4, 236, 1008, 962, 253, ...   \n",
       "2  [[20, 4, 5, 91, 16, 10, 4, 793, 21, 4, 10, 4, ...   \n",
       "3  [[12, 65, 15, 4, 31, 1232, 10, 4, 209, 10, 4, ...   \n",
       "4  [[28, 389, 1743, 4, 5, 976, 4, 5, 38, 10, 4, 8...   \n",
       "\n",
       "                                       hypothesis  \n",
       "0              [20, 4, 5, 7, 4, 5, 16, 10, 4, 71]  \n",
       "1             [112, 4, 5, 7, 4, 5, 16, 10, 4, 50]  \n",
       "2     [20, 4, 5, 7, 4, 5, 7, 4, 5, 16, 10, 4, 71]  \n",
       "3  [90, 45, 10, 4, 89, 38, 4, 121, 16, 10, 4, 55]  \n",
       "4           [28, 15, 4, 112, 4, 5, 16, 10, 4, 50]  "
      ]
     },
     "execution_count": 9,
     "metadata": {},
     "output_type": "execute_result"
    }
   ],
   "source": [
    "df = pd.read_json('arabert_beam5.json')\n",
    "df.head()"
   ]
  },
  {
   "cell_type": "code",
   "execution_count": 10,
   "id": "bc6d1c58",
   "metadata": {},
   "outputs": [
    {
     "name": "stderr",
     "output_type": "stream",
     "text": [
      "100%|██████████| 984/984 [00:03<00:00, 279.20it/s]\n"
     ]
    }
   ],
   "source": [
    "# getting unique file_names\n",
    "files = []\n",
    "refes = []\n",
    "hypos = []\n",
    "for fname in tqdm(df.file_name.unique()):\n",
    "    refes.append(df[df.file_name==fname].references.to_list()[0])\n",
    "    hypos.append(df[df.file_name==fname].hypothesis.to_list()[0])\n",
    "    files.append(fname)"
   ]
  },
  {
   "cell_type": "code",
   "execution_count": 46,
   "id": "4a9a061a",
   "metadata": {},
   "outputs": [
    {
     "name": "stdout",
     "output_type": "stream",
     "text": [
      "ref [20, 4, 5, 479]\n",
      "ref [12, 243, 72, 605]\n",
      "ref [12, 14, 51]\n",
      "ref [28, 16, 462]\n",
      "ref [12, 243]\n",
      "ref [6, 16, 74]\n",
      "ref [144, 38, 103]\n",
      "ref [77, 4, 5, 690]\n",
      "ref [12, 31, 7, 797]\n",
      "ref [28, 92, 95, 160]\n",
      "ref [49, 1857, 682, 859]\n",
      "ref [12, 404, 368, 105]\n",
      "ref [49, 658]\n",
      "ref [219, 51, 155, 763]\n",
      "ref [12, 275]\n",
      "ref [28, 658]\n",
      "ref [28, 106, 23, 116]\n",
      "ref [12, 407, 341]\n",
      "ref [169, 16, 702]\n",
      "ref [12, 65, 41]\n",
      "ref [513, 703, 1485]\n",
      "ref [1037, 4, 5, 2305]\n",
      "ref [331, 92, 95, 160]\n",
      "ref [271, 131]\n",
      "ref [12, 51, 45, 381]\n",
      "ref [49, 106, 18, 241]\n",
      "ref [169, 683]\n",
      "ref [12, 51, 52, 1762]\n",
      "ref [6, 18, 733]\n",
      "ref [78, 356, 23, 116]\n",
      "Hypo [153, 4, 5, 465]\n"
     ]
    }
   ],
   "source": [
    "b1, b2, b3, b4 = [], [], [], []\n",
    "\n",
    "new_refes = []\n",
    "new_hypos = []\n",
    "for ref, hypo in zip(refes, hypos):\n",
    "    if len(hypo) < 5 or len(hypo) < 4 or len(hypo) < 3:\n",
    "        print(\"Hypo\",hypo)\n",
    "        continue\n",
    "    for r in ref:\n",
    "        flag = False\n",
    "        if len(r) < 5 or len(r) <4 or len(r) < 2:\n",
    "            print(\"ref\", r)\n",
    "            flag = True\n",
    "    if flag:\n",
    "        continue\n",
    "     \n",
    "    new_refes.append(ref)\n",
    "    new_hypos.append(hypo)\n",
    "    \n",
    "    scores = print_scores([ref], [hypo], prnt=False)\n",
    "    b1.append(scores[0])\n",
    "    b2.append(scores[1])\n",
    "    b3.append(scores[2])\n",
    "    b4.append(scores[3])"
   ]
  },
  {
   "cell_type": "code",
   "execution_count": 47,
   "id": "73dab913",
   "metadata": {},
   "outputs": [],
   "source": [
    "import numpy as np"
   ]
  },
  {
   "cell_type": "code",
   "execution_count": 48,
   "id": "18fa789a",
   "metadata": {},
   "outputs": [
    {
     "name": "stdout",
     "output_type": "stream",
     "text": [
      "----- Bleu-n Scores -----\n",
      "1: 58.678484239386094\n",
      "2: 46.85683508774053\n",
      "3: 36.14555791431082\n",
      "4: 27.864202291806382\n",
      "-------------------------\n"
     ]
    },
    {
     "data": {
      "text/plain": [
       "(58.678484239386094, 46.85683508774053, 36.14555791431082, 27.864202291806382)"
      ]
     },
     "execution_count": 48,
     "metadata": {},
     "output_type": "execute_result"
    }
   ],
   "source": [
    "print_scores(refes, hypos)"
   ]
  },
  {
   "cell_type": "code",
   "execution_count": 49,
   "id": "a332fb72",
   "metadata": {
    "scrolled": true
   },
   "outputs": [
    {
     "data": {
      "text/plain": [
       "18.07367174196325"
      ]
     },
     "execution_count": 49,
     "metadata": {},
     "output_type": "execute_result"
    }
   ],
   "source": [
    "np.array(b4).mean()"
   ]
  },
  {
   "cell_type": "code",
   "execution_count": 50,
   "id": "d021d810",
   "metadata": {},
   "outputs": [
    {
     "data": {
      "text/plain": [
       "974"
      ]
     },
     "execution_count": 50,
     "metadata": {},
     "output_type": "execute_result"
    }
   ],
   "source": [
    "len(new_hypos)"
   ]
  },
  {
   "cell_type": "code",
   "execution_count": 51,
   "id": "a370504f",
   "metadata": {},
   "outputs": [
    {
     "data": {
      "text/plain": [
       "974"
      ]
     },
     "execution_count": 51,
     "metadata": {},
     "output_type": "execute_result"
    }
   ],
   "source": [
    "len(new_refes)"
   ]
  },
  {
   "cell_type": "code",
   "execution_count": 52,
   "id": "7c750edd",
   "metadata": {},
   "outputs": [
    {
     "data": {
      "text/plain": [
       "984"
      ]
     },
     "execution_count": 52,
     "metadata": {},
     "output_type": "execute_result"
    }
   ],
   "source": [
    "len(hypos)"
   ]
  },
  {
   "cell_type": "code",
   "execution_count": 53,
   "id": "9c0a49e6",
   "metadata": {},
   "outputs": [
    {
     "name": "stdout",
     "output_type": "stream",
     "text": [
      "----- Bleu-n Scores -----\n",
      "1: 58.60823592413804\n",
      "2: 46.78486320797221\n",
      "3: 36.07428783073953\n",
      "4: 27.799982738281543\n",
      "-------------------------\n"
     ]
    },
    {
     "data": {
      "text/plain": [
       "(58.60823592413804, 46.78486320797221, 36.07428783073953, 27.799982738281543)"
      ]
     },
     "execution_count": 53,
     "metadata": {},
     "output_type": "execute_result"
    }
   ],
   "source": [
    "print_scores(new_refes, new_hypos)"
   ]
  },
  {
   "cell_type": "code",
   "execution_count": null,
   "id": "7f72b7ba",
   "metadata": {},
   "outputs": [],
   "source": []
  }
 ],
 "metadata": {
  "kernelspec": {
   "display_name": "Python 3",
   "language": "python",
   "name": "python3"
  },
  "language_info": {
   "codemirror_mode": {
    "name": "ipython",
    "version": 3
   },
   "file_extension": ".py",
   "mimetype": "text/x-python",
   "name": "python",
   "nbconvert_exporter": "python",
   "pygments_lexer": "ipython3",
   "version": "3.6.13"
  }
 },
 "nbformat": 4,
 "nbformat_minor": 5
}
