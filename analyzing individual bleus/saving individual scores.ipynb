{
 "cells": [
  {
   "cell_type": "code",
   "execution_count": 1,
   "id": "12b1440c",
   "metadata": {},
   "outputs": [],
   "source": [
    "# import time \n",
    "# import torch.backends.cudnn as cudnn\n",
    "# import torch.optim\n",
    "# import torch.utils.data\n",
    "\n",
    "# from torch import nn\n",
    "# from torch.nn.utils.rnn import pack_padded_sequence\n",
    "# from models import Encoder, DecoderWithAttention\n",
    "# from dataset import *\n",
    "# from utils import *\n",
    "# from train import *\n",
    "# from torch.utils.tensorboard import SummaryWriter\n",
    "# from os import path as osp"
   ]
  },
  {
   "cell_type": "code",
   "execution_count": 2,
   "id": "4a7e9730",
   "metadata": {},
   "outputs": [],
   "source": [
    "from torch.utils.data import DataLoader\n",
    "import torchvision.transforms as transforms\n",
    "from caption import CaptionDataset, caption_image\n",
    "from utils import load_checkpoint, print_scores\n",
    "from dataset import build_vocab\n",
    "import pandas as pd\n",
    "from tqdm import tqdm"
   ]
  },
  {
   "cell_type": "code",
   "execution_count": 3,
   "id": "1dd8fc65",
   "metadata": {},
   "outputs": [],
   "source": [
    "model_path = 'models/BEST_checkpoint_flickr8k_ar_arabert_pretrained_finetune.pth.tar'\n",
    "IMGS_PATH = 'flickr/Images/'\n",
    "DATA_JSON_PATH = 'data/ar_data.json'"
   ]
  },
  {
   "cell_type": "code",
   "execution_count": 4,
   "id": "52669575",
   "metadata": {},
   "outputs": [
    {
     "name": "stderr",
     "output_type": "stream",
     "text": [
      "100%|██████████| 24000/24000 [00:00<00:00, 284849.63it/s]\n"
     ]
    },
    {
     "name": "stdout",
     "output_type": "stream",
     "text": [
      "Dataset split: test\n",
      "Unique images: 1000\n",
      "Total size: 3000\n"
     ]
    }
   ],
   "source": [
    "vocab = build_vocab(DATA_JSON_PATH)\n",
    "\n",
    "transform = transforms.Compose([\n",
    "    transforms.Resize(256),\n",
    "    transforms.CenterCrop(224),\n",
    "    transforms.ToTensor(),\n",
    "    transforms.Normalize(mean=[0.485, 0.456, 0.406], std=[0.229, 0.224, 0.225]),\n",
    "])\n",
    "\n",
    "\n",
    "bs = 1\n",
    "\n",
    "loader = DataLoader(\n",
    "            dataset=CaptionDataset(IMGS_PATH, DATA_JSON_PATH,\n",
    "                                    transforms=transform, vocab=vocab, split='test'),\n",
    "            batch_size=bs,\n",
    "            num_workers=7,\n",
    "            shuffle=True,\n",
    "            pin_memory=True\n",
    "        )"
   ]
  },
  {
   "cell_type": "code",
   "execution_count": 5,
   "id": "b5875932",
   "metadata": {},
   "outputs": [
    {
     "name": "stdout",
     "output_type": "stream",
     "text": [
      "Loaded Checkpoint!!\n",
      "Last Epoch: 9\n",
      "Best Bleu-4: 24.949378413361714\n"
     ]
    }
   ],
   "source": [
    "checkpoint = load_checkpoint(model_path)"
   ]
  },
  {
   "cell_type": "code",
   "execution_count": 6,
   "id": "a10273af",
   "metadata": {},
   "outputs": [
    {
     "name": "stderr",
     "output_type": "stream",
     "text": [
      "EVALUATING AT BEAM SIZE 5:   0%|          | 0/3000 [00:00<?, ?it/s]/home/kelwa/anaconda3/envs/yolo5/lib/python3.6/site-packages/torch/nn/functional.py:718: UserWarning: Named tensors and all their associated APIs are an experimental feature and subject to change. Please do not use them for anything important until they are released as stable. (Triggered internally at  /pytorch/c10/core/TensorImpl.h:1156.)\n",
      "  return torch.max_pool2d(input, kernel_size, stride, padding, dilation, ceil_mode)\n",
      "/home/kelwa/anaconda3/envs/yolo5/lib/python3.6/site-packages/torch/_tensor.py:575: UserWarning: floor_divide is deprecated, and will be removed in a future version of pytorch. It currently rounds toward 0 (like the 'trunc' function NOT 'floor'). This results in incorrect rounding for negative values.\n",
      "To keep the current behavior, use torch.div(a, b, rounding_mode='trunc'), or for actual floor division, use torch.div(a, b, rounding_mode='floor'). (Triggered internally at  /pytorch/aten/src/ATen/native/BinaryOps.cpp:467.)\n",
      "  return torch.floor_divide(self, other)\n",
      "EVALUATING AT BEAM SIZE 5: 100%|██████████| 3000/3000 [03:15<00:00, 15.31it/s]\n"
     ]
    }
   ],
   "source": [
    "references, hypothesis, img_ids = caption_image(loader, vocab, checkpoint['encoder'],\n",
    "                                               checkpoint['decoder'], 5)"
   ]
  },
  {
   "cell_type": "code",
   "execution_count": 7,
   "id": "37850b86",
   "metadata": {},
   "outputs": [
    {
     "name": "stdout",
     "output_type": "stream",
     "text": [
      "----- Bleu-n Scores -----\n",
      "1: 58.678484239386094\n",
      "2: 46.85683508774053\n",
      "3: 36.14555791431082\n",
      "4: 27.864202291806382\n",
      "-------------------------\n"
     ]
    }
   ],
   "source": [
    "_ = print_scores(references, hypothesis)"
   ]
  },
  {
   "cell_type": "code",
   "execution_count": 8,
   "id": "ba97e86f",
   "metadata": {},
   "outputs": [
    {
     "data": {
      "text/html": [
       "<div>\n",
       "<style scoped>\n",
       "    .dataframe tbody tr th:only-of-type {\n",
       "        vertical-align: middle;\n",
       "    }\n",
       "\n",
       "    .dataframe tbody tr th {\n",
       "        vertical-align: top;\n",
       "    }\n",
       "\n",
       "    .dataframe thead th {\n",
       "        text-align: right;\n",
       "    }\n",
       "</style>\n",
       "<table border=\"1\" class=\"dataframe\">\n",
       "  <thead>\n",
       "    <tr style=\"text-align: right;\">\n",
       "      <th></th>\n",
       "      <th>file_name</th>\n",
       "      <th>references</th>\n",
       "      <th>hypothesis</th>\n",
       "    </tr>\n",
       "  </thead>\n",
       "  <tbody>\n",
       "    <tr>\n",
       "      <th>0</th>\n",
       "      <td>1056338697_4f7d7ce270.jpg</td>\n",
       "      <td>[[112, 4, 5, 151, 16, 122, 109, 664, 689, 4, 5...</td>\n",
       "      <td>[20, 4, 5, 7, 4, 5, 16, 10, 4, 71]</td>\n",
       "    </tr>\n",
       "    <tr>\n",
       "      <th>1</th>\n",
       "      <td>353180303_6a24179c50.jpg</td>\n",
       "      <td>[[112, 4, 5, 215, 10, 4, 236, 1008, 962, 253, ...</td>\n",
       "      <td>[112, 4, 5, 7, 4, 5, 16, 10, 4, 50]</td>\n",
       "    </tr>\n",
       "    <tr>\n",
       "      <th>2</th>\n",
       "      <td>1415591512_a84644750c.jpg</td>\n",
       "      <td>[[20, 4, 5, 91, 16, 10, 4, 793, 21, 4, 10, 4, ...</td>\n",
       "      <td>[20, 4, 5, 7, 4, 5, 7, 4, 5, 16, 10, 4, 71]</td>\n",
       "    </tr>\n",
       "    <tr>\n",
       "      <th>3</th>\n",
       "      <td>3256043809_47258e0b3e.jpg</td>\n",
       "      <td>[[12, 65, 15, 4, 31, 1232, 10, 4, 209, 10, 4, ...</td>\n",
       "      <td>[90, 45, 10, 4, 89, 38, 4, 121, 16, 10, 4, 55]</td>\n",
       "    </tr>\n",
       "    <tr>\n",
       "      <th>4</th>\n",
       "      <td>3499720588_c32590108e.jpg</td>\n",
       "      <td>[[28, 389, 1743, 4, 5, 976, 4, 5, 38, 10, 4, 8...</td>\n",
       "      <td>[28, 15, 4, 112, 4, 5, 16, 10, 4, 50]</td>\n",
       "    </tr>\n",
       "  </tbody>\n",
       "</table>\n",
       "</div>"
      ],
      "text/plain": [
       "                   file_name  \\\n",
       "0  1056338697_4f7d7ce270.jpg   \n",
       "1   353180303_6a24179c50.jpg   \n",
       "2  1415591512_a84644750c.jpg   \n",
       "3  3256043809_47258e0b3e.jpg   \n",
       "4  3499720588_c32590108e.jpg   \n",
       "\n",
       "                                          references  \\\n",
       "0  [[112, 4, 5, 151, 16, 122, 109, 664, 689, 4, 5...   \n",
       "1  [[112, 4, 5, 215, 10, 4, 236, 1008, 962, 253, ...   \n",
       "2  [[20, 4, 5, 91, 16, 10, 4, 793, 21, 4, 10, 4, ...   \n",
       "3  [[12, 65, 15, 4, 31, 1232, 10, 4, 209, 10, 4, ...   \n",
       "4  [[28, 389, 1743, 4, 5, 976, 4, 5, 38, 10, 4, 8...   \n",
       "\n",
       "                                       hypothesis  \n",
       "0              [20, 4, 5, 7, 4, 5, 16, 10, 4, 71]  \n",
       "1             [112, 4, 5, 7, 4, 5, 16, 10, 4, 50]  \n",
       "2     [20, 4, 5, 7, 4, 5, 7, 4, 5, 16, 10, 4, 71]  \n",
       "3  [90, 45, 10, 4, 89, 38, 4, 121, 16, 10, 4, 55]  \n",
       "4           [28, 15, 4, 112, 4, 5, 16, 10, 4, 50]  "
      ]
     },
     "execution_count": 8,
     "metadata": {},
     "output_type": "execute_result"
    }
   ],
   "source": [
    "df = pd.DataFrame.from_dict({\"file_name\":img_ids, \"references\":references, \"hypothesis\": hypothesis})\n",
    "df.head()"
   ]
  },
  {
   "cell_type": "code",
   "execution_count": 9,
   "id": "9351b360",
   "metadata": {},
   "outputs": [
    {
     "data": {
      "text/html": [
       "<div>\n",
       "<style scoped>\n",
       "    .dataframe tbody tr th:only-of-type {\n",
       "        vertical-align: middle;\n",
       "    }\n",
       "\n",
       "    .dataframe tbody tr th {\n",
       "        vertical-align: top;\n",
       "    }\n",
       "\n",
       "    .dataframe thead th {\n",
       "        text-align: right;\n",
       "    }\n",
       "</style>\n",
       "<table border=\"1\" class=\"dataframe\">\n",
       "  <thead>\n",
       "    <tr style=\"text-align: right;\">\n",
       "      <th></th>\n",
       "      <th>file_name</th>\n",
       "      <th>references</th>\n",
       "      <th>hypothesis</th>\n",
       "    </tr>\n",
       "  </thead>\n",
       "  <tbody>\n",
       "    <tr>\n",
       "      <th>0</th>\n",
       "      <td>1056338697_4f7d7ce270.jpg</td>\n",
       "      <td>[[112, 4, 5, 151, 16, 122, 109, 664, 689, 4, 5...</td>\n",
       "      <td>[20, 4, 5, 7, 4, 5, 16, 10, 4, 71]</td>\n",
       "    </tr>\n",
       "    <tr>\n",
       "      <th>255</th>\n",
       "      <td>1056338697_4f7d7ce270.jpg</td>\n",
       "      <td>[[112, 4, 5, 151, 16, 122, 109, 664, 689, 4, 5...</td>\n",
       "      <td>[20, 4, 5, 7, 4, 5, 16, 10, 4, 71]</td>\n",
       "    </tr>\n",
       "    <tr>\n",
       "      <th>2625</th>\n",
       "      <td>1056338697_4f7d7ce270.jpg</td>\n",
       "      <td>[[112, 4, 5, 151, 16, 122, 109, 664, 689, 4, 5...</td>\n",
       "      <td>[20, 4, 5, 7, 4, 5, 16, 10, 4, 71]</td>\n",
       "    </tr>\n",
       "    <tr>\n",
       "      <th>716</th>\n",
       "      <td>106490881_5a2dd9b7bd.jpg</td>\n",
       "      <td>[[49, 16, 236, 10, 4, 237, 4, 5, 10, 4, 93, 18...</td>\n",
       "      <td>[49, 7, 51, 16, 10, 4, 66]</td>\n",
       "    </tr>\n",
       "    <tr>\n",
       "      <th>1394</th>\n",
       "      <td>106490881_5a2dd9b7bd.jpg</td>\n",
       "      <td>[[49, 16, 236, 10, 4, 237, 4, 5, 10, 4, 93, 18...</td>\n",
       "      <td>[49, 7, 51, 16, 10, 4, 66]</td>\n",
       "    </tr>\n",
       "  </tbody>\n",
       "</table>\n",
       "</div>"
      ],
      "text/plain": [
       "                      file_name  \\\n",
       "0     1056338697_4f7d7ce270.jpg   \n",
       "255   1056338697_4f7d7ce270.jpg   \n",
       "2625  1056338697_4f7d7ce270.jpg   \n",
       "716    106490881_5a2dd9b7bd.jpg   \n",
       "1394   106490881_5a2dd9b7bd.jpg   \n",
       "\n",
       "                                             references  \\\n",
       "0     [[112, 4, 5, 151, 16, 122, 109, 664, 689, 4, 5...   \n",
       "255   [[112, 4, 5, 151, 16, 122, 109, 664, 689, 4, 5...   \n",
       "2625  [[112, 4, 5, 151, 16, 122, 109, 664, 689, 4, 5...   \n",
       "716   [[49, 16, 236, 10, 4, 237, 4, 5, 10, 4, 93, 18...   \n",
       "1394  [[49, 16, 236, 10, 4, 237, 4, 5, 10, 4, 93, 18...   \n",
       "\n",
       "                              hypothesis  \n",
       "0     [20, 4, 5, 7, 4, 5, 16, 10, 4, 71]  \n",
       "255   [20, 4, 5, 7, 4, 5, 16, 10, 4, 71]  \n",
       "2625  [20, 4, 5, 7, 4, 5, 16, 10, 4, 71]  \n",
       "716           [49, 7, 51, 16, 10, 4, 66]  \n",
       "1394          [49, 7, 51, 16, 10, 4, 66]  "
      ]
     },
     "execution_count": 9,
     "metadata": {},
     "output_type": "execute_result"
    }
   ],
   "source": [
    "df.sort_values(\"file_name\").head()"
   ]
  },
  {
   "cell_type": "code",
   "execution_count": 11,
   "id": "226a946b",
   "metadata": {},
   "outputs": [],
   "source": [
    "df.to_json('arabert_beam5.json')"
   ]
  },
  {
   "cell_type": "code",
   "execution_count": 3,
   "id": "37f518a6",
   "metadata": {},
   "outputs": [
    {
     "data": {
      "text/html": [
       "<div>\n",
       "<style scoped>\n",
       "    .dataframe tbody tr th:only-of-type {\n",
       "        vertical-align: middle;\n",
       "    }\n",
       "\n",
       "    .dataframe tbody tr th {\n",
       "        vertical-align: top;\n",
       "    }\n",
       "\n",
       "    .dataframe thead th {\n",
       "        text-align: right;\n",
       "    }\n",
       "</style>\n",
       "<table border=\"1\" class=\"dataframe\">\n",
       "  <thead>\n",
       "    <tr style=\"text-align: right;\">\n",
       "      <th></th>\n",
       "      <th>file_name</th>\n",
       "      <th>references</th>\n",
       "      <th>hypothesis</th>\n",
       "    </tr>\n",
       "  </thead>\n",
       "  <tbody>\n",
       "    <tr>\n",
       "      <th>0</th>\n",
       "      <td>1056338697_4f7d7ce270.jpg</td>\n",
       "      <td>[[112, 4, 5, 151, 16, 122, 109, 664, 689, 4, 5...</td>\n",
       "      <td>[20, 4, 5, 7, 4, 5, 16, 10, 4, 71]</td>\n",
       "    </tr>\n",
       "    <tr>\n",
       "      <th>1</th>\n",
       "      <td>353180303_6a24179c50.jpg</td>\n",
       "      <td>[[112, 4, 5, 215, 10, 4, 236, 1008, 962, 253, ...</td>\n",
       "      <td>[112, 4, 5, 7, 4, 5, 16, 10, 4, 50]</td>\n",
       "    </tr>\n",
       "    <tr>\n",
       "      <th>2</th>\n",
       "      <td>1415591512_a84644750c.jpg</td>\n",
       "      <td>[[20, 4, 5, 91, 16, 10, 4, 793, 21, 4, 10, 4, ...</td>\n",
       "      <td>[20, 4, 5, 7, 4, 5, 7, 4, 5, 16, 10, 4, 71]</td>\n",
       "    </tr>\n",
       "    <tr>\n",
       "      <th>3</th>\n",
       "      <td>3256043809_47258e0b3e.jpg</td>\n",
       "      <td>[[12, 65, 15, 4, 31, 1232, 10, 4, 209, 10, 4, ...</td>\n",
       "      <td>[90, 45, 10, 4, 89, 38, 4, 121, 16, 10, 4, 55]</td>\n",
       "    </tr>\n",
       "    <tr>\n",
       "      <th>4</th>\n",
       "      <td>3499720588_c32590108e.jpg</td>\n",
       "      <td>[[28, 389, 1743, 4, 5, 976, 4, 5, 38, 10, 4, 8...</td>\n",
       "      <td>[28, 15, 4, 112, 4, 5, 16, 10, 4, 50]</td>\n",
       "    </tr>\n",
       "  </tbody>\n",
       "</table>\n",
       "</div>"
      ],
      "text/plain": [
       "                   file_name  \\\n",
       "0  1056338697_4f7d7ce270.jpg   \n",
       "1   353180303_6a24179c50.jpg   \n",
       "2  1415591512_a84644750c.jpg   \n",
       "3  3256043809_47258e0b3e.jpg   \n",
       "4  3499720588_c32590108e.jpg   \n",
       "\n",
       "                                          references  \\\n",
       "0  [[112, 4, 5, 151, 16, 122, 109, 664, 689, 4, 5...   \n",
       "1  [[112, 4, 5, 215, 10, 4, 236, 1008, 962, 253, ...   \n",
       "2  [[20, 4, 5, 91, 16, 10, 4, 793, 21, 4, 10, 4, ...   \n",
       "3  [[12, 65, 15, 4, 31, 1232, 10, 4, 209, 10, 4, ...   \n",
       "4  [[28, 389, 1743, 4, 5, 976, 4, 5, 38, 10, 4, 8...   \n",
       "\n",
       "                                       hypothesis  \n",
       "0              [20, 4, 5, 7, 4, 5, 16, 10, 4, 71]  \n",
       "1             [112, 4, 5, 7, 4, 5, 16, 10, 4, 50]  \n",
       "2     [20, 4, 5, 7, 4, 5, 7, 4, 5, 16, 10, 4, 71]  \n",
       "3  [90, 45, 10, 4, 89, 38, 4, 121, 16, 10, 4, 55]  \n",
       "4           [28, 15, 4, 112, 4, 5, 16, 10, 4, 50]  "
      ]
     },
     "execution_count": 3,
     "metadata": {},
     "output_type": "execute_result"
    }
   ],
   "source": [
    "df = pd.read_json('arabert_beam5.json')\n",
    "df.head()"
   ]
  },
  {
   "cell_type": "code",
   "execution_count": 4,
   "id": "66d6b9f3",
   "metadata": {},
   "outputs": [
    {
     "name": "stderr",
     "output_type": "stream",
     "text": [
      "100%|██████████| 984/984 [00:01<00:00, 963.65it/s]\n"
     ]
    }
   ],
   "source": [
    "# getting unique file_names\n",
    "files = []\n",
    "refes = []\n",
    "hypos = []\n",
    "for fname in tqdm(df.file_name.unique()):\n",
    "    refes.append(df[df.file_name==fname].references.to_list()[0])\n",
    "    hypos.append(df[df.file_name==fname].hypothesis.to_list()[0])\n",
    "    files.append(fname)"
   ]
  },
  {
   "cell_type": "code",
   "execution_count": 5,
   "id": "589da8df",
   "metadata": {},
   "outputs": [
    {
     "data": {
      "text/plain": [
       "(984, 984, 984)"
      ]
     },
     "execution_count": 5,
     "metadata": {},
     "output_type": "execute_result"
    }
   ],
   "source": [
    "len(refes), len(hypos), len(files)"
   ]
  },
  {
   "cell_type": "code",
   "execution_count": 6,
   "id": "a2b0da19",
   "metadata": {},
   "outputs": [
    {
     "name": "stdout",
     "output_type": "stream",
     "text": [
      "----- Bleu-n Scores -----\n",
      "1: 58.678484239386094\n",
      "2: 46.85683508774053\n",
      "3: 36.14555791431082\n",
      "4: 27.864202291806382\n",
      "-------------------------\n"
     ]
    }
   ],
   "source": [
    "_ = print_scores(refes, hypos)"
   ]
  },
  {
   "cell_type": "code",
   "execution_count": 7,
   "id": "912fa0ed",
   "metadata": {},
   "outputs": [
    {
     "name": "stderr",
     "output_type": "stream",
     "text": [
      "/home/kelwa/anaconda3/envs/yolo5/lib/python3.6/site-packages/nltk/translate/bleu_score.py:516: UserWarning: \n",
      "The hypothesis contains 0 counts of 4-gram overlaps.\n",
      "Therefore the BLEU score evaluates to 0, independently of\n",
      "how many N-gram overlaps of lower order it contains.\n",
      "Consider using lower n-gram order or use SmoothingFunction()\n",
      "  warnings.warn(_msg)\n",
      "/home/kelwa/anaconda3/envs/yolo5/lib/python3.6/site-packages/nltk/translate/bleu_score.py:516: UserWarning: \n",
      "The hypothesis contains 0 counts of 3-gram overlaps.\n",
      "Therefore the BLEU score evaluates to 0, independently of\n",
      "how many N-gram overlaps of lower order it contains.\n",
      "Consider using lower n-gram order or use SmoothingFunction()\n",
      "  warnings.warn(_msg)\n",
      "/home/kelwa/anaconda3/envs/yolo5/lib/python3.6/site-packages/nltk/translate/bleu_score.py:516: UserWarning: \n",
      "The hypothesis contains 0 counts of 2-gram overlaps.\n",
      "Therefore the BLEU score evaluates to 0, independently of\n",
      "how many N-gram overlaps of lower order it contains.\n",
      "Consider using lower n-gram order or use SmoothingFunction()\n",
      "  warnings.warn(_msg)\n"
     ]
    }
   ],
   "source": [
    "b1, b2, b3, b4 = [], [], [], []\n",
    "\n",
    "for ref, hypo in zip(refes, hypos):\n",
    "    scores = print_scores([ref], [hypo], prnt=False)\n",
    "    b1.append(scores[0])\n",
    "    b2.append(scores[1])\n",
    "    b3.append(scores[2])\n",
    "    b4.append(scores[3])"
   ]
  },
  {
   "cell_type": "code",
   "execution_count": 31,
   "id": "99dd0b92",
   "metadata": {},
   "outputs": [
    {
     "data": {
      "text/html": [
       "<div>\n",
       "<style scoped>\n",
       "    .dataframe tbody tr th:only-of-type {\n",
       "        vertical-align: middle;\n",
       "    }\n",
       "\n",
       "    .dataframe tbody tr th {\n",
       "        vertical-align: top;\n",
       "    }\n",
       "\n",
       "    .dataframe thead th {\n",
       "        text-align: right;\n",
       "    }\n",
       "</style>\n",
       "<table border=\"1\" class=\"dataframe\">\n",
       "  <thead>\n",
       "    <tr style=\"text-align: right;\">\n",
       "      <th></th>\n",
       "      <th>file_name</th>\n",
       "      <th>references</th>\n",
       "      <th>hypothesis</th>\n",
       "    </tr>\n",
       "  </thead>\n",
       "  <tbody>\n",
       "    <tr>\n",
       "      <th>0</th>\n",
       "      <td>1056338697_4f7d7ce270.jpg</td>\n",
       "      <td>[[112, 4, 5, 151, 16, 122, 109, 664, 689, 4, 5...</td>\n",
       "      <td>[20, 4, 5, 7, 4, 5, 16, 10, 4, 71]</td>\n",
       "    </tr>\n",
       "    <tr>\n",
       "      <th>1</th>\n",
       "      <td>353180303_6a24179c50.jpg</td>\n",
       "      <td>[[112, 4, 5, 215, 10, 4, 236, 1008, 962, 253, ...</td>\n",
       "      <td>[112, 4, 5, 7, 4, 5, 16, 10, 4, 50]</td>\n",
       "    </tr>\n",
       "    <tr>\n",
       "      <th>2</th>\n",
       "      <td>1415591512_a84644750c.jpg</td>\n",
       "      <td>[[20, 4, 5, 91, 16, 10, 4, 793, 21, 4, 10, 4, ...</td>\n",
       "      <td>[20, 4, 5, 7, 4, 5, 7, 4, 5, 16, 10, 4, 71]</td>\n",
       "    </tr>\n",
       "    <tr>\n",
       "      <th>3</th>\n",
       "      <td>3256043809_47258e0b3e.jpg</td>\n",
       "      <td>[[12, 65, 15, 4, 31, 1232, 10, 4, 209, 10, 4, ...</td>\n",
       "      <td>[90, 45, 10, 4, 89, 38, 4, 121, 16, 10, 4, 55]</td>\n",
       "    </tr>\n",
       "    <tr>\n",
       "      <th>4</th>\n",
       "      <td>3499720588_c32590108e.jpg</td>\n",
       "      <td>[[28, 389, 1743, 4, 5, 976, 4, 5, 38, 10, 4, 8...</td>\n",
       "      <td>[28, 15, 4, 112, 4, 5, 16, 10, 4, 50]</td>\n",
       "    </tr>\n",
       "  </tbody>\n",
       "</table>\n",
       "</div>"
      ],
      "text/plain": [
       "                   file_name  \\\n",
       "0  1056338697_4f7d7ce270.jpg   \n",
       "1   353180303_6a24179c50.jpg   \n",
       "2  1415591512_a84644750c.jpg   \n",
       "3  3256043809_47258e0b3e.jpg   \n",
       "4  3499720588_c32590108e.jpg   \n",
       "\n",
       "                                          references  \\\n",
       "0  [[112, 4, 5, 151, 16, 122, 109, 664, 689, 4, 5...   \n",
       "1  [[112, 4, 5, 215, 10, 4, 236, 1008, 962, 253, ...   \n",
       "2  [[20, 4, 5, 91, 16, 10, 4, 793, 21, 4, 10, 4, ...   \n",
       "3  [[12, 65, 15, 4, 31, 1232, 10, 4, 209, 10, 4, ...   \n",
       "4  [[28, 389, 1743, 4, 5, 976, 4, 5, 38, 10, 4, 8...   \n",
       "\n",
       "                                       hypothesis  \n",
       "0              [20, 4, 5, 7, 4, 5, 16, 10, 4, 71]  \n",
       "1             [112, 4, 5, 7, 4, 5, 16, 10, 4, 50]  \n",
       "2     [20, 4, 5, 7, 4, 5, 7, 4, 5, 16, 10, 4, 71]  \n",
       "3  [90, 45, 10, 4, 89, 38, 4, 121, 16, 10, 4, 55]  \n",
       "4           [28, 15, 4, 112, 4, 5, 16, 10, 4, 50]  "
      ]
     },
     "execution_count": 31,
     "metadata": {},
     "output_type": "execute_result"
    }
   ],
   "source": [
    "df.head()"
   ]
  },
  {
   "cell_type": "code",
   "execution_count": 32,
   "id": "a843f760",
   "metadata": {},
   "outputs": [],
   "source": [
    "df = pd.DataFrame({'file_name':fname, 'references': refes, 'hypothesis': hypos,\n",
    "                  'b1':b1, 'b2':b2, 'b3':b3, 'b4':b4})"
   ]
  },
  {
   "cell_type": "code",
   "execution_count": 33,
   "id": "6b6bc2f6",
   "metadata": {},
   "outputs": [
    {
     "data": {
      "text/html": [
       "<div>\n",
       "<style scoped>\n",
       "    .dataframe tbody tr th:only-of-type {\n",
       "        vertical-align: middle;\n",
       "    }\n",
       "\n",
       "    .dataframe tbody tr th {\n",
       "        vertical-align: top;\n",
       "    }\n",
       "\n",
       "    .dataframe thead th {\n",
       "        text-align: right;\n",
       "    }\n",
       "</style>\n",
       "<table border=\"1\" class=\"dataframe\">\n",
       "  <thead>\n",
       "    <tr style=\"text-align: right;\">\n",
       "      <th></th>\n",
       "      <th>file_name</th>\n",
       "      <th>references</th>\n",
       "      <th>hypothesis</th>\n",
       "      <th>b1</th>\n",
       "      <th>b2</th>\n",
       "      <th>b3</th>\n",
       "      <th>b4</th>\n",
       "    </tr>\n",
       "  </thead>\n",
       "  <tbody>\n",
       "    <tr>\n",
       "      <th>0</th>\n",
       "      <td>2239938351_43c73c887c.jpg</td>\n",
       "      <td>[[112, 4, 5, 151, 16, 122, 109, 664, 689, 4, 5...</td>\n",
       "      <td>[20, 4, 5, 7, 4, 5, 16, 10, 4, 71]</td>\n",
       "      <td>63.338619</td>\n",
       "      <td>56.426527</td>\n",
       "      <td>47.627321</td>\n",
       "      <td>4.088065e+01</td>\n",
       "    </tr>\n",
       "    <tr>\n",
       "      <th>1</th>\n",
       "      <td>2239938351_43c73c887c.jpg</td>\n",
       "      <td>[[112, 4, 5, 215, 10, 4, 236, 1008, 962, 253, ...</td>\n",
       "      <td>[112, 4, 5, 7, 4, 5, 16, 10, 4, 50]</td>\n",
       "      <td>59.265458</td>\n",
       "      <td>44.173864</td>\n",
       "      <td>26.241228</td>\n",
       "      <td>4.154341e-76</td>\n",
       "    </tr>\n",
       "    <tr>\n",
       "      <th>2</th>\n",
       "      <td>2239938351_43c73c887c.jpg</td>\n",
       "      <td>[[20, 4, 5, 91, 16, 10, 4, 793, 21, 4, 10, 4, ...</td>\n",
       "      <td>[20, 4, 5, 7, 4, 5, 7, 4, 5, 16, 10, 4, 71]</td>\n",
       "      <td>72.549562</td>\n",
       "      <td>64.396832</td>\n",
       "      <td>54.470822</td>\n",
       "      <td>4.515435e+01</td>\n",
       "    </tr>\n",
       "    <tr>\n",
       "      <th>3</th>\n",
       "      <td>2239938351_43c73c887c.jpg</td>\n",
       "      <td>[[12, 65, 15, 4, 31, 1232, 10, 4, 209, 10, 4, ...</td>\n",
       "      <td>[90, 45, 10, 4, 89, 38, 4, 121, 16, 10, 4, 55]</td>\n",
       "      <td>66.666667</td>\n",
       "      <td>55.048188</td>\n",
       "      <td>44.964431</td>\n",
       "      <td>3.170233e+01</td>\n",
       "    </tr>\n",
       "    <tr>\n",
       "      <th>4</th>\n",
       "      <td>2239938351_43c73c887c.jpg</td>\n",
       "      <td>[[28, 389, 1743, 4, 5, 976, 4, 5, 38, 10, 4, 8...</td>\n",
       "      <td>[28, 15, 4, 112, 4, 5, 16, 10, 4, 50]</td>\n",
       "      <td>90.000000</td>\n",
       "      <td>70.710678</td>\n",
       "      <td>50.000000</td>\n",
       "      <td>3.655552e+01</td>\n",
       "    </tr>\n",
       "  </tbody>\n",
       "</table>\n",
       "</div>"
      ],
      "text/plain": [
       "                   file_name  \\\n",
       "0  2239938351_43c73c887c.jpg   \n",
       "1  2239938351_43c73c887c.jpg   \n",
       "2  2239938351_43c73c887c.jpg   \n",
       "3  2239938351_43c73c887c.jpg   \n",
       "4  2239938351_43c73c887c.jpg   \n",
       "\n",
       "                                          references  \\\n",
       "0  [[112, 4, 5, 151, 16, 122, 109, 664, 689, 4, 5...   \n",
       "1  [[112, 4, 5, 215, 10, 4, 236, 1008, 962, 253, ...   \n",
       "2  [[20, 4, 5, 91, 16, 10, 4, 793, 21, 4, 10, 4, ...   \n",
       "3  [[12, 65, 15, 4, 31, 1232, 10, 4, 209, 10, 4, ...   \n",
       "4  [[28, 389, 1743, 4, 5, 976, 4, 5, 38, 10, 4, 8...   \n",
       "\n",
       "                                       hypothesis         b1         b2  \\\n",
       "0              [20, 4, 5, 7, 4, 5, 16, 10, 4, 71]  63.338619  56.426527   \n",
       "1             [112, 4, 5, 7, 4, 5, 16, 10, 4, 50]  59.265458  44.173864   \n",
       "2     [20, 4, 5, 7, 4, 5, 7, 4, 5, 16, 10, 4, 71]  72.549562  64.396832   \n",
       "3  [90, 45, 10, 4, 89, 38, 4, 121, 16, 10, 4, 55]  66.666667  55.048188   \n",
       "4           [28, 15, 4, 112, 4, 5, 16, 10, 4, 50]  90.000000  70.710678   \n",
       "\n",
       "          b3            b4  \n",
       "0  47.627321  4.088065e+01  \n",
       "1  26.241228  4.154341e-76  \n",
       "2  54.470822  4.515435e+01  \n",
       "3  44.964431  3.170233e+01  \n",
       "4  50.000000  3.655552e+01  "
      ]
     },
     "execution_count": 33,
     "metadata": {},
     "output_type": "execute_result"
    }
   ],
   "source": [
    "df.head()"
   ]
  },
  {
   "cell_type": "code",
   "execution_count": 37,
   "id": "75f68e5a",
   "metadata": {},
   "outputs": [],
   "source": [
    "df.to_json('arabert_5beam_results.json')"
   ]
  }
 ],
 "metadata": {
  "kernelspec": {
   "display_name": "Python 3",
   "language": "python",
   "name": "python3"
  },
  "language_info": {
   "codemirror_mode": {
    "name": "ipython",
    "version": 3
   },
   "file_extension": ".py",
   "mimetype": "text/x-python",
   "name": "python",
   "nbconvert_exporter": "python",
   "pygments_lexer": "ipython3",
   "version": "3.6.13"
  }
 },
 "nbformat": 4,
 "nbformat_minor": 5
}
