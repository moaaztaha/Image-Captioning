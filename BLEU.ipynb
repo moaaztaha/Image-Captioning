{
 "cells": [
  {
   "cell_type": "code",
   "execution_count": 1,
   "metadata": {},
   "outputs": [],
   "source": [
    "import torch\n",
    "import torch.nn as nn\n",
    "import torch.nn.functional as F\n",
    "import torch.optim as optim\n",
    "import torchvision.models as models\n",
    "import torchvision.transforms as transforms\n",
    "from torch.nn.utils.rnn import pad_sequence\n",
    "from torch.utils.data import DataLoader, Dataset\n",
    "\n",
    "import pandas as pd\n",
    "import spacy\n",
    "\n",
    "from PIL import Image\n",
    "from tqdm import tqdm\n",
    "import matplotlib.pyplot as plt\n",
    "import time, math\n",
    "%matplotlib inline"
   ]
  },
  {
   "cell_type": "code",
   "execution_count": 2,
   "metadata": {},
   "outputs": [],
   "source": [
    "# !git clone https://github.com/moaaztaha/Image-Captioning"
   ]
  },
  {
   "cell_type": "code",
   "execution_count": 3,
   "metadata": {},
   "outputs": [],
   "source": [
    "spacy_en = spacy.load('en')\n",
    "df_path = 'data.csv'\n",
    "test_df_path = 'test.csv'\n",
    "images_path = 'Images/'\n",
    "test_examples_path = '/test_examples/'"
   ]
  },
  {
   "cell_type": "code",
   "execution_count": 4,
   "metadata": {},
   "outputs": [],
   "source": [
    "class Vocabulary:\n",
    "    def __init__(self, freq_threshold=2):\n",
    "        self.freq_threshold = freq_threshold\n",
    "        self.itos = {0:\"<pad>\", 1:\"<sos>\", 2:\"<eos>\", 3:\"<unk>\"}\n",
    "        self.stoi = {\"<pad>\":0, \"<sos>\":1, \"<eos>\":2, \"<unk>\":3}\n",
    "        \n",
    "    def __len__(self):\n",
    "        return len(self.itos)\n",
    "    \n",
    "    @staticmethod\n",
    "    def tokenize_en(text):\n",
    "        return [tok.text for tok in spacy_en.tokenizer(text.lower())]\n",
    "    \n",
    "    def build_vocabulary(self, sentence_list):\n",
    "        freqs = {}\n",
    "        idx = 4\n",
    "        \n",
    "        for sentence in sentence_list:\n",
    "            for word in self.tokenize_en(sentence):\n",
    "                if word not in freqs:\n",
    "                    freqs[word] = 1\n",
    "                else:\n",
    "                    freqs[word] += 1\n",
    "\n",
    "                if freqs[word] == self.freq_threshold:\n",
    "                    self.stoi[word] = idx\n",
    "                    self.itos[idx] = word\n",
    "                    idx += 1\n",
    "\n",
    "    def numericalize(self, text):\n",
    "        tokenized_text = self.tokenize_en(text)\n",
    "        \n",
    "        return [self.stoi[token] if token in self.stoi else self.stoi[\"<unk>\"]\n",
    "               for token in tokenized_text]\n",
    "                "
   ]
  },
  {
   "cell_type": "code",
   "execution_count": 5,
   "metadata": {},
   "outputs": [],
   "source": [
    "class FlickrDataset(Dataset):\n",
    "    def __init__(self, root_dir, captions_file, vocab, transforms=None, freq_threshold=2, split='train'):\n",
    "        # split has to be one of {train, val, test}\n",
    "        assert split in {'train', 'val', 'test'}\n",
    "        \n",
    "        self.root_dir = root_dir\n",
    "        self.df = pd.read_csv(captions_file)\n",
    "        self.vocab = vocab\n",
    "        self.transforms = transforms\n",
    "        \n",
    "        \n",
    "        # getting image ids and captions based on split\n",
    "        self.df = self.df[self.df['split'] == split]\n",
    "        self.img_idx = self.df['file_name'].values\n",
    "        self.captions = self.df['caption'].values\n",
    "        \n",
    "        \n",
    "        # printing some info\n",
    "        print(f\"Dataset split: {split}\")\n",
    "        print(f\"Unique Image: {self.df.file_name.nunique()}\")\n",
    "        print(f\"Size: {self.df.shape[0]}\")\n",
    "    \n",
    "    def __len__(self):\n",
    "        return self.df.shape[0]\n",
    "    \n",
    "    def __getitem__(self, index):\n",
    "        caption = self.captions[index]\n",
    "        img_id = self.img_idx[index]\n",
    "        img = Image.open(self.root_dir+img_id).convert(\"RGB\")\n",
    "        \n",
    "        if self.transforms is not None:\n",
    "            img = self.transforms(img)\n",
    "        else:\n",
    "            img = transforms.ToTensor()(img)\n",
    "        \n",
    "        # numericalize captions\n",
    "        word_idx = self.vocab.numericalize(caption)\n",
    "        caption = [self.vocab.stoi[\"<sos>\"]]\n",
    "        caption.extend(word_idx)\n",
    "        caption.append(self.vocab.stoi[\"<eos>\"])\n",
    "        return img, torch.tensor(caption)"
   ]
  },
  {
   "cell_type": "code",
   "execution_count": 6,
   "metadata": {},
   "outputs": [],
   "source": [
    "def build_vocab(data_file, freq_threshold=2 ,split='train'):\n",
    "    df = pd.read_csv(data_file)\n",
    "    df = df[df['split'] == split]\n",
    "    captions = df.caption.values\n",
    "    \n",
    "    vocab = Vocabulary(freq_threshold)\n",
    "    vocab.build_vocabulary(captions)\n",
    "    \n",
    "    return vocab"
   ]
  },
  {
   "cell_type": "code",
   "execution_count": 7,
   "metadata": {},
   "outputs": [],
   "source": [
    "vocab = build_vocab(df_path)"
   ]
  },
  {
   "cell_type": "code",
   "execution_count": 8,
   "metadata": {},
   "outputs": [],
   "source": [
    "def plot_sample(ds, idx):\n",
    "    img = ds[idx][0]\n",
    "    img = transforms.ToPILImage()(img).convert(\"RGB\")\n",
    "    plt.imshow(img)\n",
    "    caption = ' '.join([ds.vocab.itos[i.item()] for i in ds[idx][1]])\n",
    "    print(caption)"
   ]
  },
  {
   "cell_type": "code",
   "execution_count": 9,
   "metadata": {
    "scrolled": true
   },
   "outputs": [
    {
     "name": "stdout",
     "output_type": "stream",
     "text": [
      "Dataset split: train\n",
      "Unique Image: 6000\n",
      "Size: 30000\n"
     ]
    }
   ],
   "source": [
    "ds = FlickrDataset(images_path, df_path, vocab=vocab, split='train')"
   ]
  },
  {
   "cell_type": "code",
   "execution_count": 10,
   "metadata": {},
   "outputs": [
    {
     "name": "stdout",
     "output_type": "stream",
     "text": [
      "<sos> black dog chasing brown dog through snow <eos>\n"
     ]
    },
    {
     "data": {
      "image/png": "[encoded data removed]",
      "text/plain": [
       "<Figure size 432x288 with 1 Axes>"
      ]
     },
     "metadata": {
      "needs_background": "light"
     },
     "output_type": "display_data"
    }
   ],
   "source": [
    "plot_sample(ds, 1)"
   ]
  },
  {
   "cell_type": "code",
   "execution_count": 11,
   "metadata": {},
   "outputs": [],
   "source": [
    "pad_idx = ds.vocab.stoi['<pad>']"
   ]
  },
  {
   "cell_type": "code",
   "execution_count": 12,
   "metadata": {},
   "outputs": [],
   "source": [
    "def collate_fn(batch):\n",
    "    images = [item[0].unsqueeze(0) for item in batch]\n",
    "    images = torch.cat(images, dim=0)\n",
    "    \n",
    "    captions = [item[1] for item in batch]\n",
    "    captions = pad_sequence(captions, batch_first=False, padding_value=pad_idx)\n",
    "    \n",
    "    return images, captions"
   ]
  },
  {
   "cell_type": "markdown",
   "metadata": {},
   "source": [
    "### Model"
   ]
  },
  {
   "cell_type": "code",
   "execution_count": 13,
   "metadata": {},
   "outputs": [],
   "source": [
    "class EncoderCNN(nn.Module):\n",
    "    def __init__(self, hid_dim, dropout, train_cnn=False):\n",
    "        super().__init__()\n",
    "        \n",
    "        self.hid_dim = hid_dim\n",
    "        self.train_cnn = train_cnn\n",
    "        \n",
    "        self.inception = models.inception_v3(pretrained=True, aux_logits=False)\n",
    "        self.inception.fc = nn.Linear(self.inception.fc.in_features, hid_dim)\n",
    "        self.relu = nn.ReLU()\n",
    "        self.dropout = nn.Dropout(dropout)\n",
    "        \n",
    "    def forward(self, images):\n",
    "        features = self.dropout(self.relu(self.inception(images)))\n",
    "        return features"
   ]
  },
  {
   "cell_type": "code",
   "execution_count": 14,
   "metadata": {},
   "outputs": [],
   "source": [
    "class DecoderRNN(nn.Module):\n",
    "    def __init__(self, emb_dim, hid_dim, vocab_size, dropout):\n",
    "        super().__init__()\n",
    "        \n",
    "        self.hid_dim = hid_dim\n",
    "        self.embedding = nn.Embedding(vocab_size, emb_dim)\n",
    "        self.rnn = nn.LSTM(emb_dim, hid_dim)\n",
    "        self.linear = nn.Linear(hid_dim, vocab_size)\n",
    "        self.dropout = nn.Dropout(dropout)\n",
    "        \n",
    "    def forward(self, features, captions):\n",
    "        embeddings = self.dropout(self.embedding(captions))\n",
    "        embeddings = torch.cat((features.unsqueeze(0), embeddings), dim=0)\n",
    "        rnn_out, _ = self.rnn(embeddings)\n",
    "        outputs = self.linear(rnn_out)\n",
    "        return outputs"
   ]
  },
  {
   "cell_type": "code",
   "execution_count": 15,
   "metadata": {},
   "outputs": [],
   "source": [
    "class Img2Seq(nn.Module):\n",
    "    def __init__(self, encoder, decoder, device):\n",
    "        super().__init__()\n",
    "        \n",
    "        self.encoder = encoder\n",
    "        self.decoder = decoder\n",
    "        self.device = device\n",
    "        \n",
    "        assert self.encoder.hid_dim == self.decoder.hid_dim\n",
    "        \n",
    "    def forward(self, images, captions):\n",
    "        features = self.encoder(images)\n",
    "        outputs = self.decoder(features, captions)\n",
    "        return outputs"
   ]
  },
  {
   "cell_type": "code",
   "execution_count": 16,
   "metadata": {},
   "outputs": [],
   "source": [
    "HID_DIM = 256\n",
    "EMB_DIM = 256\n",
    "DROPOUT = .5\n",
    "VOCAB_LENGTH = len(vocab)\n",
    "TRAIN_CNN = False\n",
    "bs = 256\n",
    "lr = 3e-3\n",
    "\n",
    "device = torch.device('cuda' if torch.cuda.is_available() else 'cpu')\n",
    "\n",
    "encoder = EncoderCNN(HID_DIM, DROPOUT)\n",
    "decoder = DecoderRNN(EMB_DIM, HID_DIM, VOCAB_LENGTH, DROPOUT)\n",
    "\n",
    "model = Img2Seq(encoder, decoder, device).to(device)"
   ]
  },
  {
   "cell_type": "code",
   "execution_count": 17,
   "metadata": {},
   "outputs": [],
   "source": [
    "for name, param in model.encoder.inception.named_parameters():\n",
    "    if \"fc.weight\" in name or \"fc.bias\" in name:\n",
    "        param.requires_grad = True\n",
    "    else:\n",
    "        param.requires_grad = TRAIN_CNN"
   ]
  },
  {
   "cell_type": "code",
   "execution_count": 18,
   "metadata": {},
   "outputs": [
    {
     "name": "stdout",
     "output_type": "stream",
     "text": [
      "The model has 3,339,373 trainable parameters.\n"
     ]
    }
   ],
   "source": [
    "def count_parameters(model):\n",
    "    return sum(p.numel() for p in model.parameters() if p.requires_grad)\n",
    "\n",
    "print(f\"The model has {count_parameters(model):,} trainable parameters.\")"
   ]
  },
  {
   "cell_type": "code",
   "execution_count": 19,
   "metadata": {},
   "outputs": [],
   "source": [
    "criterion = nn.CrossEntropyLoss(ignore_index=pad_idx)\n",
    "optimizer = optim.Adam(model.parameters(), lr=lr)"
   ]
  },
  {
   "cell_type": "code",
   "execution_count": 20,
   "metadata": {},
   "outputs": [],
   "source": [
    "# transforms \n",
    "transform = transforms.Compose([\n",
    "    transforms.Resize(256),\n",
    "    transforms.CenterCrop(224),\n",
    "    transforms.ToTensor(),\n",
    "    transforms.Normalize(mean=[0.485, 0.456, 0.406], std=[0.229, 0.224, 0.225]),\n",
    "])"
   ]
  },
  {
   "cell_type": "code",
   "execution_count": 21,
   "metadata": {},
   "outputs": [
    {
     "data": {
      "text/plain": [
       "8"
      ]
     },
     "execution_count": 21,
     "metadata": {},
     "output_type": "execute_result"
    }
   ],
   "source": [
    "import multiprocessing\n",
    "multiprocessing.cpu_count()"
   ]
  },
  {
   "cell_type": "code",
   "execution_count": 22,
   "metadata": {},
   "outputs": [
    {
     "name": "stdout",
     "output_type": "stream",
     "text": [
      "Dataset split: train\n",
      "Unique Image: 6000\n",
      "Size: 30000\n",
      "Dataset split: val\n",
      "Unique Image: 1000\n",
      "Size: 5000\n"
     ]
    }
   ],
   "source": [
    "train_loader = DataLoader(\n",
    "    dataset=FlickrDataset(images_path, df_path,transforms=transform, vocab=vocab, split='train'),\n",
    "    batch_size=bs,\n",
    "    num_workers=8,\n",
    "    shuffle=True,\n",
    "    pin_memory=True,\n",
    "    collate_fn=collate_fn,\n",
    "    drop_last=True\n",
    ")\n",
    "\n",
    "valid_loader = DataLoader(\n",
    "    dataset=FlickrDataset(images_path, df_path, transforms=transform, vocab=vocab, split='val'),\n",
    "    batch_size=bs,\n",
    "    num_workers=8,\n",
    "    shuffle=True,\n",
    "    pin_memory=True,\n",
    "    collate_fn=collate_fn,\n",
    "    drop_last=True\n",
    ")"
   ]
  },
  {
   "cell_type": "code",
   "execution_count": 23,
   "metadata": {},
   "outputs": [],
   "source": [
    "def train(model, iterator, optimizer, criterion, clip):\n",
    "    \n",
    "    model.train()\n",
    "    \n",
    "    epoch_loss = 0\n",
    "    \n",
    "    for idx, (imgs, captions) in tqdm(enumerate(iterator), total=len(iterator), leave=False, desc=\"training\"):\n",
    "        \n",
    "        optimizer.zero_grad()\n",
    "        \n",
    "        imgs = imgs.to(model.device)\n",
    "        captions = captions.to(model.device)\n",
    "        \n",
    "        outputs = model(imgs, captions[:-1])\n",
    "        #output = [trg len, batch size, output dim]\n",
    "        loss = criterion(\n",
    "                outputs.reshape(-1, outputs.shape[2]), captions.reshape(-1)\n",
    "            )\n",
    "        \n",
    "\n",
    "        loss.backward()\n",
    "        \n",
    "        # clip the grads\n",
    "        torch.nn.utils.clip_grad_norm_(model.parameters(), clip)\n",
    "        \n",
    "        optimizer.step()\n",
    "        \n",
    "        epoch_loss += loss.item()\n",
    "        \n",
    "    return epoch_loss / len(iterator)"
   ]
  },
  {
   "cell_type": "code",
   "execution_count": 24,
   "metadata": {},
   "outputs": [],
   "source": [
    "def evaluate(model, iterator, criterion):\n",
    "    \n",
    "    model.eval()\n",
    "    \n",
    "    epoch_loss = 0\n",
    "    \n",
    "    with torch.no_grad():\n",
    "        for i, (images, captions) in tqdm(enumerate(iterator), total=len(iterator), leave=False, desc=\"Evaluating\"):\n",
    "            \n",
    "            images = images.to(model.device)\n",
    "            captions = captions.to(model.device)\n",
    "            \n",
    "            outputs = model(images, captions[:-1])\n",
    "            #output = [trg len, batch size, output dim]\n",
    "            \n",
    "            loss = criterion(\n",
    "                outputs.reshape(-1, outputs.shape[2]), captions.reshape(-1)\n",
    "            )\n",
    "            \n",
    "            epoch_loss += loss.item()\n",
    "    \n",
    "    return epoch_loss / len(iterator)"
   ]
  },
  {
   "cell_type": "code",
   "execution_count": 25,
   "metadata": {},
   "outputs": [],
   "source": [
    "def epoch_time(start_time, end_time):\n",
    "    elapsed_time = end_time - start_time\n",
    "    elapsed_mins = int(elapsed_time / 60)\n",
    "    elapsed_secs = int(elapsed_time - (elapsed_mins * 60))\n",
    "    return elapsed_mins, elapsed_secs"
   ]
  },
  {
   "cell_type": "code",
   "execution_count": null,
   "metadata": {
    "scrolled": false
   },
   "outputs": [
    {
     "name": "stderr",
     "output_type": "stream",
     "text": [
      "                                                           \r"
     ]
    },
    {
     "name": "stdout",
     "output_type": "stream",
     "text": [
      "Epoch: 01 | Time: 3m 28s\n",
      "\tTrain Loss: 3.912 | Train PPL:  50.022\n",
      "\t Val. Loss: 3.208 |  Val. PPL:  24.721\n"
     ]
    },
    {
     "name": "stderr",
     "output_type": "stream",
     "text": [
      "                                                           \r"
     ]
    },
    {
     "name": "stdout",
     "output_type": "stream",
     "text": [
      "Epoch: 02 | Time: 3m 28s\n",
      "\tTrain Loss: 3.120 | Train PPL:  22.638\n",
      "\t Val. Loss: 2.990 |  Val. PPL:  19.879\n"
     ]
    },
    {
     "name": "stderr",
     "output_type": "stream",
     "text": [
      "                                                           \r"
     ]
    },
    {
     "name": "stdout",
     "output_type": "stream",
     "text": [
      "Epoch: 03 | Time: 3m 28s\n",
      "\tTrain Loss: 2.924 | Train PPL:  18.613\n",
      "\t Val. Loss: 2.894 |  Val. PPL:  18.068\n"
     ]
    },
    {
     "name": "stderr",
     "output_type": "stream",
     "text": [
      "                                                           \r"
     ]
    },
    {
     "name": "stdout",
     "output_type": "stream",
     "text": [
      "Epoch: 04 | Time: 3m 29s\n",
      "\tTrain Loss: 2.805 | Train PPL:  16.524\n",
      "\t Val. Loss: 2.830 |  Val. PPL:  16.945\n"
     ]
    },
    {
     "name": "stderr",
     "output_type": "stream",
     "text": [
      "                                                           \r"
     ]
    },
    {
     "name": "stdout",
     "output_type": "stream",
     "text": [
      "Epoch: 05 | Time: 3m 29s\n",
      "\tTrain Loss: 2.703 | Train PPL:  14.929\n",
      "\t Val. Loss: 2.780 |  Val. PPL:  16.111\n"
     ]
    },
    {
     "name": "stderr",
     "output_type": "stream",
     "text": [
      "                                                           \r"
     ]
    },
    {
     "name": "stdout",
     "output_type": "stream",
     "text": [
      "Epoch: 06 | Time: 3m 28s\n",
      "\tTrain Loss: 2.630 | Train PPL:  13.876\n",
      "\t Val. Loss: 2.756 |  Val. PPL:  15.740\n"
     ]
    },
    {
     "name": "stderr",
     "output_type": "stream",
     "text": [
      "                                                           \r"
     ]
    },
    {
     "name": "stdout",
     "output_type": "stream",
     "text": [
      "Epoch: 07 | Time: 3m 28s\n",
      "\tTrain Loss: 2.571 | Train PPL:  13.078\n",
      "\t Val. Loss: 2.737 |  Val. PPL:  15.439\n"
     ]
    },
    {
     "name": "stderr",
     "output_type": "stream",
     "text": [
      "                                                           \r"
     ]
    },
    {
     "name": "stdout",
     "output_type": "stream",
     "text": [
      "Epoch: 08 | Time: 3m 27s\n",
      "\tTrain Loss: 2.518 | Train PPL:  12.408\n",
      "\t Val. Loss: 2.717 |  Val. PPL:  15.138\n"
     ]
    },
    {
     "name": "stderr",
     "output_type": "stream",
     "text": [
      "                                                           \r"
     ]
    },
    {
     "name": "stdout",
     "output_type": "stream",
     "text": [
      "Epoch: 09 | Time: 3m 28s\n",
      "\tTrain Loss: 2.473 | Train PPL:  11.862\n",
      "\t Val. Loss: 2.705 |  Val. PPL:  14.956\n"
     ]
    },
    {
     "name": "stderr",
     "output_type": "stream",
     "text": [
      "                                                           \r"
     ]
    },
    {
     "name": "stdout",
     "output_type": "stream",
     "text": [
      "Epoch: 10 | Time: 3m 29s\n",
      "\tTrain Loss: 2.429 | Train PPL:  11.351\n",
      "\t Val. Loss: 2.693 |  Val. PPL:  14.775\n"
     ]
    },
    {
     "name": "stderr",
     "output_type": "stream",
     "text": [
      "                                                           \r"
     ]
    },
    {
     "name": "stdout",
     "output_type": "stream",
     "text": [
      "Epoch: 11 | Time: 3m 27s\n",
      "\tTrain Loss: 2.395 | Train PPL:  10.968\n",
      "\t Val. Loss: 2.687 |  Val. PPL:  14.681\n"
     ]
    },
    {
     "name": "stderr",
     "output_type": "stream",
     "text": [
      "                                                           "
     ]
    },
    {
     "name": "stdout",
     "output_type": "stream",
     "text": [
      "Epoch: 12 | Time: 3m 28s\n",
      "\tTrain Loss: 2.362 | Train PPL:  10.611\n",
      "\t Val. Loss: 2.691 |  Val. PPL:  14.748\n"
     ]
    },
    {
     "name": "stderr",
     "output_type": "stream",
     "text": [
      "                                                           \r"
     ]
    },
    {
     "name": "stdout",
     "output_type": "stream",
     "text": [
      "Epoch: 13 | Time: 3m 29s\n",
      "\tTrain Loss: 2.331 | Train PPL:  10.292\n",
      "\t Val. Loss: 2.680 |  Val. PPL:  14.592\n"
     ]
    },
    {
     "name": "stderr",
     "output_type": "stream",
     "text": [
      "                                                           "
     ]
    },
    {
     "name": "stdout",
     "output_type": "stream",
     "text": [
      "Epoch: 14 | Time: 3m 29s\n",
      "\tTrain Loss: 2.304 | Train PPL:  10.018\n",
      "\t Val. Loss: 2.684 |  Val. PPL:  14.649\n"
     ]
    },
    {
     "name": "stderr",
     "output_type": "stream",
     "text": [
      "                                                           \r"
     ]
    },
    {
     "name": "stdout",
     "output_type": "stream",
     "text": [
      "Epoch: 15 | Time: 3m 28s\n",
      "\tTrain Loss: 2.279 | Train PPL:   9.768\n",
      "\t Val. Loss: 2.676 |  Val. PPL:  14.521\n"
     ]
    },
    {
     "name": "stderr",
     "output_type": "stream",
     "text": [
      "                                                           "
     ]
    },
    {
     "name": "stdout",
     "output_type": "stream",
     "text": [
      "Epoch: 16 | Time: 3m 27s\n",
      "\tTrain Loss: 2.257 | Train PPL:   9.555\n",
      "\t Val. Loss: 2.680 |  Val. PPL:  14.585\n"
     ]
    },
    {
     "name": "stderr",
     "output_type": "stream",
     "text": [
      "                                                           "
     ]
    },
    {
     "name": "stdout",
     "output_type": "stream",
     "text": [
      "Epoch: 17 | Time: 3m 27s\n",
      "\tTrain Loss: 2.235 | Train PPL:   9.342\n",
      "\t Val. Loss: 2.677 |  Val. PPL:  14.545\n"
     ]
    },
    {
     "name": "stderr",
     "output_type": "stream",
     "text": [
      "                                                           "
     ]
    },
    {
     "name": "stdout",
     "output_type": "stream",
     "text": [
      "Epoch: 18 | Time: 3m 28s\n",
      "\tTrain Loss: 2.214 | Train PPL:   9.156\n",
      "\t Val. Loss: 2.683 |  Val. PPL:  14.628\n"
     ]
    },
    {
     "name": "stderr",
     "output_type": "stream",
     "text": [
      "                                                           "
     ]
    },
    {
     "name": "stdout",
     "output_type": "stream",
     "text": [
      "Epoch: 19 | Time: 3m 28s\n",
      "\tTrain Loss: 2.193 | Train PPL:   8.965\n",
      "\t Val. Loss: 2.683 |  Val. PPL:  14.634\n"
     ]
    },
    {
     "name": "stderr",
     "output_type": "stream",
     "text": [
      "                                                           "
     ]
    },
    {
     "name": "stdout",
     "output_type": "stream",
     "text": [
      "Epoch: 20 | Time: 3m 28s\n",
      "\tTrain Loss: 2.177 | Train PPL:   8.823\n",
      "\t Val. Loss: 2.682 |  Val. PPL:  14.618\n"
     ]
    },
    {
     "name": "stderr",
     "output_type": "stream",
     "text": [
      "                                                           "
     ]
    },
    {
     "name": "stdout",
     "output_type": "stream",
     "text": [
      "Epoch: 21 | Time: 3m 28s\n",
      "\tTrain Loss: 2.161 | Train PPL:   8.678\n",
      "\t Val. Loss: 2.685 |  Val. PPL:  14.663\n"
     ]
    },
    {
     "name": "stderr",
     "output_type": "stream",
     "text": [
      "                                                           "
     ]
    },
    {
     "name": "stdout",
     "output_type": "stream",
     "text": [
      "Epoch: 22 | Time: 3m 28s\n",
      "\tTrain Loss: 2.144 | Train PPL:   8.533\n",
      "\t Val. Loss: 2.691 |  Val. PPL:  14.743\n"
     ]
    },
    {
     "name": "stderr",
     "output_type": "stream",
     "text": [
      "                                                           "
     ]
    },
    {
     "name": "stdout",
     "output_type": "stream",
     "text": [
      "Epoch: 23 | Time: 3m 27s\n",
      "\tTrain Loss: 2.129 | Train PPL:   8.404\n",
      "\t Val. Loss: 2.703 |  Val. PPL:  14.918\n"
     ]
    },
    {
     "name": "stderr",
     "output_type": "stream",
     "text": [
      "                                                           "
     ]
    },
    {
     "name": "stdout",
     "output_type": "stream",
     "text": [
      "Epoch: 24 | Time: 3m 28s\n",
      "\tTrain Loss: 2.116 | Train PPL:   8.294\n",
      "\t Val. Loss: 2.699 |  Val. PPL:  14.858\n"
     ]
    },
    {
     "name": "stderr",
     "output_type": "stream",
     "text": [
      "                                                           "
     ]
    },
    {
     "name": "stdout",
     "output_type": "stream",
     "text": [
      "Epoch: 25 | Time: 3m 28s\n",
      "\tTrain Loss: 2.100 | Train PPL:   8.168\n",
      "\t Val. Loss: 2.703 |  Val. PPL:  14.931\n"
     ]
    },
    {
     "name": "stderr",
     "output_type": "stream",
     "text": [
      "                                                           "
     ]
    },
    {
     "name": "stdout",
     "output_type": "stream",
     "text": [
      "Epoch: 26 | Time: 3m 29s\n",
      "\tTrain Loss: 2.086 | Train PPL:   8.054\n",
      "\t Val. Loss: 2.710 |  Val. PPL:  15.031\n"
     ]
    },
    {
     "name": "stderr",
     "output_type": "stream",
     "text": [
      "training:  50%|█████     | 59/117 [01:31<01:25,  1.48s/it]"
     ]
    }
   ],
   "source": [
    "N_EPOCHS = 50\n",
    "CLIP = 1\n",
    "\n",
    "best_valid_loss = float('inf')\n",
    "\n",
    "for epoch in range(N_EPOCHS):\n",
    "    \n",
    "    start_time = time.time()\n",
    "    \n",
    "    train_loss = train(model, train_loader, optimizer, criterion, CLIP)\n",
    "    valid_loss = evaluate(model, valid_loader, criterion)\n",
    "    \n",
    "    end_time = time.time()\n",
    "    \n",
    "    epoch_mins, epoch_secs = epoch_time(start_time, end_time)\n",
    "    \n",
    "    if valid_loss < best_valid_loss:\n",
    "        best_valid_loss = valid_loss\n",
    "        torch.save(model.state_dict(), 'splits.pth')\n",
    "        \n",
    "    print(f'Epoch: {epoch+1:02} | Time: {epoch_mins}m {epoch_secs}s')\n",
    "    print(f'\\tTrain Loss: {train_loss:.3f} | Train PPL: {math.exp(train_loss):7.3f}')\n",
    "    print(f'\\t Val. Loss: {valid_loss:.3f} |  Val. PPL: {math.exp(valid_loss):7.3f}')  "
   ]
  },
  {
   "cell_type": "code",
   "execution_count": null,
   "metadata": {},
   "outputs": [],
   "source": [
    "def caption_image(image, model, max_len=50):\n",
    "    \n",
    "    model.eval()\n",
    "    result_caption = []\n",
    "    \n",
    "    with torch.no_grad():\n",
    "        context = model.encoder(image.to(model.device)).unsqueeze(0)\n",
    "        hidden = context\n",
    "        input = torch.tensor(vocab.stoi[\"<sos>\"]).unsqueeze(0).to(model.device)\n",
    "        \n",
    "        for t in range(1, max_len):\n",
    "            output, hidden = model.decoder(input, hidden, context)\n",
    "            top1 = output.argmax(1)\n",
    "            input = top1\n",
    "            result_caption.append(top1.item())\n",
    "            if vocab.itos[top1.item()] == '<eos>':\n",
    "                break\n",
    "    return [vocab.itos[idx] for idx in result_caption]"
   ]
  },
  {
   "cell_type": "code",
   "execution_count": null,
   "metadata": {},
   "outputs": [],
   "source": [
    "def print_examples(model, csv_name, root_dir='test_examples'):\n",
    "    df = pd.read_csv(csv_name)\n",
    "    imgs = df['image'].tolist()\n",
    "    captions = df['description'].tolist()\n",
    "    i = 1\n",
    "    for img_id, cap in zip(imgs, captions):\n",
    "        img = Image.open(root_dir+'/'+img_id).convert(\"RGB\")\n",
    "        plt.imshow(img)\n",
    "        plt.title(f'Example {i} Correct: {cap}')\n",
    "        plt.axis('off')\n",
    "        img = transform(img).unsqueeze(0)\n",
    "        print(f\"Output: {' '.join(caption_image(img, model))}\")\n",
    "        plt.show()\n",
    "        i+=1"
   ]
  },
  {
   "cell_type": "code",
   "execution_count": null,
   "metadata": {},
   "outputs": [],
   "source": [
    "print_examples(model, csv_name=test_df_path, root_dir=test_examples_path)"
   ]
  },
  {
   "cell_type": "markdown",
   "metadata": {},
   "source": [
    "### BLEU Score "
   ]
  },
  {
   "cell_type": "code",
   "execution_count": null,
   "metadata": {},
   "outputs": [],
   "source": [
    "from torchtext.data.metrics import bleu_score\n",
    "\n",
    "def calculate_bleu(test_dict, imgs_path, model, max_len=50, n_images=100):\n",
    "    \n",
    "    trgs = []\n",
    "    pred_trgs = []\n",
    "    \n",
    "    i = 0\n",
    "    \n",
    "    for filename in test_dict:\n",
    "        if i == n_images:break\n",
    "        \n",
    "        # getting the test image\n",
    "        img = Image.open(imgs_path+'/'+filename).convert(\"RGB\")\n",
    "        img = transform(img).unsqueeze(0) # making it into a batch\n",
    "        \n",
    "        # making prediction\n",
    "        pred = caption_image(img, model)\n",
    "        \n",
    "        if i % 5 == 0:\n",
    "            print(\"prediction:\", pred[:-1])\n",
    "            print(\"actaul 1:\", test_dict[filename][0])\n",
    "        \n",
    "        pred_trgs.append(pred[:-1])\n",
    "        trgs.append(test_dict[filename])\n",
    "        \n",
    "        i+=1\n",
    "        \n",
    "    return bleu_score(pred_trgs, trgs)"
   ]
  },
  {
   "cell_type": "code",
   "execution_count": null,
   "metadata": {},
   "outputs": [],
   "source": [
    "# getting test data\n",
    "df = pd.read_csv(df_path)\n",
    "test_df = df[df['split'] == 'test']\n",
    "\n",
    "img_ids = test_df.file_name.unique()\n",
    "\n",
    "test_dict = {}\n",
    "for img_id in img_ids:\n",
    "    list_tokens = []\n",
    "    for sent in test_df[test_df['file_name'] == img_id]['caption'].values:\n",
    "        list_tokens.append(Vocabulary.tokenize_en(sent))\n",
    "    \n",
    "    test_dict[img_id] = list_tokens"
   ]
  },
  {
   "cell_type": "code",
   "execution_count": null,
   "metadata": {},
   "outputs": [],
   "source": [
    "calculate_bleu(test_dict, images_path, model, n_images=30)"
   ]
  }
 ],
 "metadata": {
  "kernelspec": {
   "display_name": "Python 3",
   "language": "python",
   "name": "python3"
  },
  "language_info": {
   "codemirror_mode": {
    "name": "ipython",
    "version": 3
   },
   "file_extension": ".py",
   "mimetype": "text/x-python",
   "name": "python",
   "nbconvert_exporter": "python",
   "pygments_lexer": "ipython3",
   "version": "3.8.6"
  }
 },
 "nbformat": 4,
 "nbformat_minor": 4
}
