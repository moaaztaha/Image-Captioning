{
 "cells": [
  {
   "cell_type": "markdown",
   "metadata": {},
   "source": [
    "# Dataloaders"
   ]
  },
  {
   "cell_type": "code",
   "execution_count": 1,
   "metadata": {},
   "outputs": [],
   "source": [
    "import os\n",
    "import pandas as pd\n",
    "import spacy\n",
    "import torch\n",
    "from torch.nn.utils.rnn import pad_sequence\n",
    "from torch.utils.data import DataLoader, Dataset\n",
    "from PIL import Image\n",
    "import torchvision.transforms as transforms\n",
    "import matplotlib.pyplot as plt\n",
    "%matplotlib inline"
   ]
  },
  {
   "cell_type": "markdown",
   "metadata": {},
   "source": [
    "### One description per image"
   ]
  },
  {
   "cell_type": "code",
   "execution_count": 2,
   "metadata": {},
   "outputs": [
    {
     "data": {
      "text/html": [
       "<div>\n",
       "<style scoped>\n",
       "    .dataframe tbody tr th:only-of-type {\n",
       "        vertical-align: middle;\n",
       "    }\n",
       "\n",
       "    .dataframe tbody tr th {\n",
       "        vertical-align: top;\n",
       "    }\n",
       "\n",
       "    .dataframe thead th {\n",
       "        text-align: right;\n",
       "    }\n",
       "</style>\n",
       "<table border=\"1\" class=\"dataframe\">\n",
       "  <thead>\n",
       "    <tr style=\"text-align: right;\">\n",
       "      <th></th>\n",
       "      <th>image</th>\n",
       "      <th>caption</th>\n",
       "    </tr>\n",
       "  </thead>\n",
       "  <tbody>\n",
       "    <tr>\n",
       "      <th>0</th>\n",
       "      <td>1000268201_693b08cb0e.jpg</td>\n",
       "      <td>A child in a pink dress is climbing up a set o...</td>\n",
       "    </tr>\n",
       "    <tr>\n",
       "      <th>1</th>\n",
       "      <td>1000268201_693b08cb0e.jpg</td>\n",
       "      <td>A girl going into a wooden building .</td>\n",
       "    </tr>\n",
       "    <tr>\n",
       "      <th>2</th>\n",
       "      <td>1000268201_693b08cb0e.jpg</td>\n",
       "      <td>A little girl climbing into a wooden playhouse .</td>\n",
       "    </tr>\n",
       "    <tr>\n",
       "      <th>3</th>\n",
       "      <td>1000268201_693b08cb0e.jpg</td>\n",
       "      <td>A little girl climbing the stairs to her playh...</td>\n",
       "    </tr>\n",
       "    <tr>\n",
       "      <th>4</th>\n",
       "      <td>1000268201_693b08cb0e.jpg</td>\n",
       "      <td>A little girl in a pink dress going into a woo...</td>\n",
       "    </tr>\n",
       "    <tr>\n",
       "      <th>5</th>\n",
       "      <td>1001773457_577c3a7d70.jpg</td>\n",
       "      <td>A black dog and a spotted dog are fighting</td>\n",
       "    </tr>\n",
       "  </tbody>\n",
       "</table>\n",
       "</div>"
      ],
      "text/plain": [
       "                       image  \\\n",
       "0  1000268201_693b08cb0e.jpg   \n",
       "1  1000268201_693b08cb0e.jpg   \n",
       "2  1000268201_693b08cb0e.jpg   \n",
       "3  1000268201_693b08cb0e.jpg   \n",
       "4  1000268201_693b08cb0e.jpg   \n",
       "5  1001773457_577c3a7d70.jpg   \n",
       "\n",
       "                                             caption  \n",
       "0  A child in a pink dress is climbing up a set o...  \n",
       "1              A girl going into a wooden building .  \n",
       "2   A little girl climbing into a wooden playhouse .  \n",
       "3  A little girl climbing the stairs to her playh...  \n",
       "4  A little girl in a pink dress going into a woo...  \n",
       "5         A black dog and a spotted dog are fighting  "
      ]
     },
     "execution_count": 2,
     "metadata": {},
     "output_type": "execute_result"
    }
   ],
   "source": [
    "df = pd.read_csv('../captions.txt')\n",
    "df[:6]"
   ]
  },
  {
   "cell_type": "code",
   "execution_count": 3,
   "metadata": {},
   "outputs": [],
   "source": [
    "df.drop_duplicates(subset=['image'], inplace=True)"
   ]
  },
  {
   "cell_type": "code",
   "execution_count": 4,
   "metadata": {},
   "outputs": [
    {
     "data": {
      "text/html": [
       "<div>\n",
       "<style scoped>\n",
       "    .dataframe tbody tr th:only-of-type {\n",
       "        vertical-align: middle;\n",
       "    }\n",
       "\n",
       "    .dataframe tbody tr th {\n",
       "        vertical-align: top;\n",
       "    }\n",
       "\n",
       "    .dataframe thead th {\n",
       "        text-align: right;\n",
       "    }\n",
       "</style>\n",
       "<table border=\"1\" class=\"dataframe\">\n",
       "  <thead>\n",
       "    <tr style=\"text-align: right;\">\n",
       "      <th></th>\n",
       "      <th>image</th>\n",
       "      <th>caption</th>\n",
       "    </tr>\n",
       "  </thead>\n",
       "  <tbody>\n",
       "    <tr>\n",
       "      <th>0</th>\n",
       "      <td>1000268201_693b08cb0e.jpg</td>\n",
       "      <td>A child in a pink dress is climbing up a set o...</td>\n",
       "    </tr>\n",
       "    <tr>\n",
       "      <th>5</th>\n",
       "      <td>1001773457_577c3a7d70.jpg</td>\n",
       "      <td>A black dog and a spotted dog are fighting</td>\n",
       "    </tr>\n",
       "    <tr>\n",
       "      <th>10</th>\n",
       "      <td>1002674143_1b742ab4b8.jpg</td>\n",
       "      <td>A little girl covered in paint sits in front o...</td>\n",
       "    </tr>\n",
       "    <tr>\n",
       "      <th>15</th>\n",
       "      <td>1003163366_44323f5815.jpg</td>\n",
       "      <td>A man lays on a bench while his dog sits by him .</td>\n",
       "    </tr>\n",
       "    <tr>\n",
       "      <th>20</th>\n",
       "      <td>1007129816_e794419615.jpg</td>\n",
       "      <td>A man in an orange hat starring at something .</td>\n",
       "    </tr>\n",
       "    <tr>\n",
       "      <th>25</th>\n",
       "      <td>1007320043_627395c3d8.jpg</td>\n",
       "      <td>A child playing on a rope net .</td>\n",
       "    </tr>\n",
       "  </tbody>\n",
       "</table>\n",
       "</div>"
      ],
      "text/plain": [
       "                        image  \\\n",
       "0   1000268201_693b08cb0e.jpg   \n",
       "5   1001773457_577c3a7d70.jpg   \n",
       "10  1002674143_1b742ab4b8.jpg   \n",
       "15  1003163366_44323f5815.jpg   \n",
       "20  1007129816_e794419615.jpg   \n",
       "25  1007320043_627395c3d8.jpg   \n",
       "\n",
       "                                              caption  \n",
       "0   A child in a pink dress is climbing up a set o...  \n",
       "5          A black dog and a spotted dog are fighting  \n",
       "10  A little girl covered in paint sits in front o...  \n",
       "15  A man lays on a bench while his dog sits by him .  \n",
       "20     A man in an orange hat starring at something .  \n",
       "25                    A child playing on a rope net .  "
      ]
     },
     "execution_count": 4,
     "metadata": {},
     "output_type": "execute_result"
    }
   ],
   "source": [
    "df[:6]"
   ]
  },
  {
   "cell_type": "code",
   "execution_count": 5,
   "metadata": {},
   "outputs": [],
   "source": [
    "df.to_csv('../one_desc.txt', index=0)"
   ]
  },
  {
   "cell_type": "code",
   "execution_count": 6,
   "metadata": {},
   "outputs": [],
   "source": [
    "df = pd.read_csv('one_desc.txt')"
   ]
  },
  {
   "cell_type": "code",
   "execution_count": 7,
   "metadata": {},
   "outputs": [
    {
     "data": {
      "text/html": [
       "<div>\n",
       "<style scoped>\n",
       "    .dataframe tbody tr th:only-of-type {\n",
       "        vertical-align: middle;\n",
       "    }\n",
       "\n",
       "    .dataframe tbody tr th {\n",
       "        vertical-align: top;\n",
       "    }\n",
       "\n",
       "    .dataframe thead th {\n",
       "        text-align: right;\n",
       "    }\n",
       "</style>\n",
       "<table border=\"1\" class=\"dataframe\">\n",
       "  <thead>\n",
       "    <tr style=\"text-align: right;\">\n",
       "      <th></th>\n",
       "      <th>image</th>\n",
       "      <th>caption</th>\n",
       "    </tr>\n",
       "  </thead>\n",
       "  <tbody>\n",
       "    <tr>\n",
       "      <th>0</th>\n",
       "      <td>1000268201_693b08cb0e.jpg</td>\n",
       "      <td>A child in a pink dress is climbing up a set o...</td>\n",
       "    </tr>\n",
       "    <tr>\n",
       "      <th>1</th>\n",
       "      <td>1001773457_577c3a7d70.jpg</td>\n",
       "      <td>A black dog and a spotted dog are fighting</td>\n",
       "    </tr>\n",
       "    <tr>\n",
       "      <th>2</th>\n",
       "      <td>1002674143_1b742ab4b8.jpg</td>\n",
       "      <td>A little girl covered in paint sits in front o...</td>\n",
       "    </tr>\n",
       "    <tr>\n",
       "      <th>3</th>\n",
       "      <td>1003163366_44323f5815.jpg</td>\n",
       "      <td>A man lays on a bench while his dog sits by him .</td>\n",
       "    </tr>\n",
       "    <tr>\n",
       "      <th>4</th>\n",
       "      <td>1007129816_e794419615.jpg</td>\n",
       "      <td>A man in an orange hat starring at something .</td>\n",
       "    </tr>\n",
       "  </tbody>\n",
       "</table>\n",
       "</div>"
      ],
      "text/plain": [
       "                       image  \\\n",
       "0  1000268201_693b08cb0e.jpg   \n",
       "1  1001773457_577c3a7d70.jpg   \n",
       "2  1002674143_1b742ab4b8.jpg   \n",
       "3  1003163366_44323f5815.jpg   \n",
       "4  1007129816_e794419615.jpg   \n",
       "\n",
       "                                             caption  \n",
       "0  A child in a pink dress is climbing up a set o...  \n",
       "1         A black dog and a spotted dog are fighting  \n",
       "2  A little girl covered in paint sits in front o...  \n",
       "3  A man lays on a bench while his dog sits by him .  \n",
       "4     A man in an orange hat starring at something .  "
      ]
     },
     "execution_count": 7,
     "metadata": {},
     "output_type": "execute_result"
    }
   ],
   "source": [
    "df.head()"
   ]
  },
  {
   "cell_type": "markdown",
   "metadata": {},
   "source": [
    "## Converting text to numerical values\n",
    "1. Vocabulary mapping each word to an index\n",
    "2. Pytorch dataset\n",
    "3. padding sequnences to the same length"
   ]
  },
  {
   "cell_type": "code",
   "execution_count": 8,
   "metadata": {},
   "outputs": [],
   "source": [
    "# loading spacy tokenizer\n",
    "#!python -m spacy download en\n",
    "spacy_en = spacy.load(\"en\")"
   ]
  },
  {
   "cell_type": "code",
   "execution_count": 71,
   "metadata": {},
   "outputs": [],
   "source": [
    "itos = {0:\"<PAD>\", 1:\"<SOS>\", 2:\"<EOS>\", 3:\"<UNK>\"}\n",
    "stoi = {\"<PAD>\":0, \"<SOS>\":1, \"<EOS>\":2, \"<UNK>\":3}\n",
    "class Vocabulary:\n",
    "    def __init__(self, freq_threshold):\n",
    "\n",
    "        self.freq_threshold = freq_threshold\n",
    "        \n",
    "    def __len__(self):\n",
    "        return len(self.itos)\n",
    "    \n",
    "    @staticmethod\n",
    "    def tokenizer_eng(text):\n",
    "        return [tok.text.lower() for tok in spacy_en.tokenizer(text)]\n",
    "    \n",
    "    def build_vocabulary(self, sentence_list):\n",
    "        frequencies = {}\n",
    "        idx = 4\n",
    "        \n",
    "        for sentence in sentence_list:\n",
    "            for word in self.tokenizer_eng(sentence):\n",
    "                if word not in frequencies:\n",
    "                    frequencies[word] = 1\n",
    "                else:\n",
    "                    frequencies[word] += 1\n",
    "                    \n",
    "                if frequencies[word] == self.freq_threshold:\n",
    "                    stoi[word] = idx\n",
    "                    itos[idx] = word\n",
    "                    idx += 1\n",
    "                    \n",
    "    def numericalize(self, text):\n",
    "        tokenized_text = self.tokenizer_eng(text)\n",
    "        \n",
    "        return [\n",
    "            stoi[token] if token in stoi else stoi[\"<UNK>\"]\n",
    "            for token in tokenized_text\n",
    "        ]"
   ]
  },
  {
   "cell_type": "code",
   "execution_count": 72,
   "metadata": {},
   "outputs": [],
   "source": [
    "class FlickrDataset(Dataset):\n",
    "    def __init__(self, root_dir, captions_file, transform=None, freq_threshold=2):\n",
    "        self.root_dir = root_dir\n",
    "        self.df = pd.read_csv(root_dir +'/'+ captions_file)\n",
    "        self.transform = transform\n",
    "        \n",
    "        # get img and caption columns\n",
    "        self.imgs = self.df['image']\n",
    "        self.captions = self.df['caption']\n",
    "        \n",
    "        # initialize vacab and build vocab\n",
    "        self.vocab = Vocabulary(freq_threshold)\n",
    "        self.vocab.build_vocabulary(self.captions.tolist())\n",
    "        \n",
    "    def __len__(self):\n",
    "        return len(self.df)\n",
    "    \n",
    "    def __getitem__(self, index):\n",
    "        caption = self.captions[index]\n",
    "        img_id = self.imgs[index]\n",
    "        img = Image.open(os.path.join(self.root_dir,\"Images\", img_id)).convert(\"RGB\")\n",
    "        \n",
    "        if self.transform is not None:\n",
    "            img = self.transform(img)\n",
    "            \n",
    "        numericalized_caption = [stoi[\"<SOS>\"]]\n",
    "        numericalized_caption += self.vocab.numericalize(caption)\n",
    "        numericalized_caption.append(stoi[\"<EOS>\"])\n",
    "        \n",
    "        return img, torch.tensor(numericalized_caption)"
   ]
  },
  {
   "cell_type": "code",
   "execution_count": 73,
   "metadata": {},
   "outputs": [
    {
     "data": {
      "text/html": [
       "<div>\n",
       "<style scoped>\n",
       "    .dataframe tbody tr th:only-of-type {\n",
       "        vertical-align: middle;\n",
       "    }\n",
       "\n",
       "    .dataframe tbody tr th {\n",
       "        vertical-align: top;\n",
       "    }\n",
       "\n",
       "    .dataframe thead th {\n",
       "        text-align: right;\n",
       "    }\n",
       "</style>\n",
       "<table border=\"1\" class=\"dataframe\">\n",
       "  <thead>\n",
       "    <tr style=\"text-align: right;\">\n",
       "      <th></th>\n",
       "      <th>image</th>\n",
       "      <th>caption</th>\n",
       "    </tr>\n",
       "  </thead>\n",
       "  <tbody>\n",
       "    <tr>\n",
       "      <th>0</th>\n",
       "      <td>1000268201_693b08cb0e.jpg</td>\n",
       "      <td>A child in a pink dress is climbing up a set o...</td>\n",
       "    </tr>\n",
       "    <tr>\n",
       "      <th>1</th>\n",
       "      <td>1001773457_577c3a7d70.jpg</td>\n",
       "      <td>A black dog and a spotted dog are fighting</td>\n",
       "    </tr>\n",
       "    <tr>\n",
       "      <th>2</th>\n",
       "      <td>1002674143_1b742ab4b8.jpg</td>\n",
       "      <td>A little girl covered in paint sits in front o...</td>\n",
       "    </tr>\n",
       "    <tr>\n",
       "      <th>3</th>\n",
       "      <td>1003163366_44323f5815.jpg</td>\n",
       "      <td>A man lays on a bench while his dog sits by him .</td>\n",
       "    </tr>\n",
       "    <tr>\n",
       "      <th>4</th>\n",
       "      <td>1007129816_e794419615.jpg</td>\n",
       "      <td>A man in an orange hat starring at something .</td>\n",
       "    </tr>\n",
       "  </tbody>\n",
       "</table>\n",
       "</div>"
      ],
      "text/plain": [
       "                       image  \\\n",
       "0  1000268201_693b08cb0e.jpg   \n",
       "1  1001773457_577c3a7d70.jpg   \n",
       "2  1002674143_1b742ab4b8.jpg   \n",
       "3  1003163366_44323f5815.jpg   \n",
       "4  1007129816_e794419615.jpg   \n",
       "\n",
       "                                             caption  \n",
       "0  A child in a pink dress is climbing up a set o...  \n",
       "1         A black dog and a spotted dog are fighting  \n",
       "2  A little girl covered in paint sits in front o...  \n",
       "3  A man lays on a bench while his dog sits by him .  \n",
       "4     A man in an orange hat starring at something .  "
      ]
     },
     "execution_count": 73,
     "metadata": {},
     "output_type": "execute_result"
    }
   ],
   "source": [
    "df = pd.read_csv('one_desc.txt')\n",
    "df.head()"
   ]
  },
  {
   "cell_type": "code",
   "execution_count": 74,
   "metadata": {},
   "outputs": [],
   "source": [
    "ds = FlickrDataset('..', 'one_desc.txt')"
   ]
  },
  {
   "cell_type": "code",
   "execution_count": 75,
   "metadata": {},
   "outputs": [
    {
     "name": "stdout",
     "output_type": "stream",
     "text": [
      "(375, 500) torch.Size([20])\n",
      "(500, 375) torch.Size([11])\n",
      "(500, 400) torch.Size([22])\n",
      "(500, 410) torch.Size([15])\n",
      "(500, 461) torch.Size([12])\n"
     ]
    }
   ],
   "source": [
    "for i in range(5):\n",
    "    print(ds[i][0].size, ds[i][1].shape)"
   ]
  },
  {
   "cell_type": "code",
   "execution_count": 76,
   "metadata": {},
   "outputs": [
    {
     "data": {
      "text/plain": [
       "'<SOS> a black dog leaps over a log . <EOS>'"
      ]
     },
     "execution_count": 76,
     "metadata": {},
     "output_type": "execute_result"
    },
    {
     "data": {
      "image/png": "[encoded data removed]",
      "text/plain": [
       "<Figure size 432x288 with 1 Axes>"
      ]
     },
     "metadata": {
      "needs_background": "light"
     },
     "output_type": "display_data"
    }
   ],
   "source": [
    "# check one sample\n",
    "j = 9\n",
    "plt.imshow(ds[j][0])\n",
    "' '.join([itos[w.item()] for w in ds[j][1]])"
   ]
  },
  {
   "cell_type": "code",
   "execution_count": 77,
   "metadata": {},
   "outputs": [],
   "source": [
    "# padding seqs\n",
    "class MyCollate:\n",
    "    def __init__(self, pad_idx):\n",
    "        self.pad_idx = pad_idx\n",
    "        \n",
    "    def __call__(self, batch):\n",
    "        imgs = [item[0].unsqueeze(0) for item in batch]\n",
    "        imgs = torch.cat(imgs, dim=0)\n",
    "        targets = [item[1] for item in batch]\n",
    "        targets = pad_sequence(targets, batch_first=False, padding_value=self.pad_idx)\n",
    "        \n",
    "        return imgs, targets"
   ]
  },
  {
   "cell_type": "code",
   "execution_count": 78,
   "metadata": {},
   "outputs": [],
   "source": [
    "transform = transforms.Compose([\n",
    "    transforms.Resize(256),\n",
    "    transforms.CenterCrop(224),\n",
    "    transforms.ToTensor(),\n",
    "    transforms.Normalize(mean=[0.485, 0.456, 0.406], std=[0.229, 0.224, 0.225]),\n",
    "])"
   ]
  },
  {
   "cell_type": "code",
   "execution_count": 79,
   "metadata": {},
   "outputs": [
    {
     "data": {
      "text/plain": [
       "8"
      ]
     },
     "execution_count": 79,
     "metadata": {},
     "output_type": "execute_result"
    }
   ],
   "source": [
    "import multiprocessing\n",
    "multiprocessing.cpu_count()"
   ]
  },
  {
   "cell_type": "code",
   "execution_count": 80,
   "metadata": {},
   "outputs": [],
   "source": [
    "batch_size=128\n",
    "num_workers=8\n",
    "shuffle=True\n",
    "pin_memory=True"
   ]
  },
  {
   "cell_type": "code",
   "execution_count": 81,
   "metadata": {},
   "outputs": [],
   "source": [
    "dataset = FlickrDataset(\"..\", \"one_desc.txt\", transform=transform)\n",
    "\n",
    "pad_idx = stoi[\"<PAD>\"]\n",
    "\n",
    "train_loader = DataLoader(\n",
    "    dataset = dataset,\n",
    "    batch_size=batch_size,\n",
    "    num_workers=num_workers,\n",
    "    shuffle=shuffle,\n",
    "    pin_memory=pin_memory,\n",
    "    collate_fn=MyCollate(pad_idx=pad_idx),\n",
    "    drop_last=True\n",
    ")"
   ]
  },
  {
   "cell_type": "code",
   "execution_count": 82,
   "metadata": {
    "scrolled": true
   },
   "outputs": [
    {
     "name": "stdout",
     "output_type": "stream",
     "text": [
      "torch.Size([128, 3, 224, 224])\n",
      "torch.Size([26, 128])\n",
      "____________________\n",
      "torch.Size([128, 3, 224, 224])\n",
      "torch.Size([33, 128])\n",
      "____________________\n",
      "torch.Size([128, 3, 224, 224])\n",
      "torch.Size([28, 128])\n",
      "____________________\n",
      "torch.Size([128, 3, 224, 224])\n",
      "torch.Size([28, 128])\n",
      "____________________\n",
      "torch.Size([128, 3, 224, 224])\n",
      "torch.Size([33, 128])\n",
      "____________________\n"
     ]
    }
   ],
   "source": [
    "for idx, (imgs, captions) in enumerate(train_loader):\n",
    "    print(imgs.shape)\n",
    "    print(captions.shape)\n",
    "    print('_'*20)\n",
    "    if idx == 4: break"
   ]
  },
  {
   "cell_type": "code",
   "execution_count": 83,
   "metadata": {},
   "outputs": [],
   "source": [
    "from fastai.vision.all import *"
   ]
  },
  {
   "cell_type": "markdown",
   "metadata": {},
   "source": [
    "### The Model"
   ]
  },
  {
   "cell_type": "code",
   "execution_count": 84,
   "metadata": {},
   "outputs": [],
   "source": [
    "import torch\n",
    "import torch.nn as nn\n",
    "import statistics\n",
    "import torchvision.models as models\n",
    "\n",
    "\n",
    "class EncoderCNN(nn.Module):\n",
    "    def __init__(self, embed_size, train_CNN=False):\n",
    "        super(EncoderCNN, self).__init__()\n",
    "        self.train_CNN = train_CNN\n",
    "        self.inception = models.inception_v3(pretrained=True, aux_logits=False)\n",
    "        self.inception.fc = nn.Linear(self.inception.fc.in_features, embed_size)\n",
    "        self.relu = nn.ReLU()\n",
    "        self.times = []\n",
    "        self.dropout = nn.Dropout(0.5)\n",
    "\n",
    "    def forward(self, images):\n",
    "        features = self.inception(images)\n",
    "        return self.dropout(self.relu(features))\n",
    "\n",
    "\n",
    "class DecoderRNN(nn.Module):\n",
    "    def __init__(self, embed_size, hidden_size, vocab_size, num_layers):\n",
    "        super(DecoderRNN, self).__init__()\n",
    "        self.embed = nn.Embedding(vocab_size, embed_size)\n",
    "        self.lstm = nn.LSTM(embed_size, hidden_size, num_layers)\n",
    "        self.linear = nn.Linear(hidden_size, vocab_size)\n",
    "        self.dropout = nn.Dropout(0.5)\n",
    "\n",
    "    def forward(self, features, captions):\n",
    "        embeddings = self.dropout(self.embed(captions))\n",
    "        embeddings = torch.cat((features.unsqueeze(0), embeddings), dim=0)\n",
    "        hiddens, _ = self.lstm(embeddings)\n",
    "        outputs = self.linear(hiddens)\n",
    "        return outputs\n",
    "\n",
    "\n",
    "class CNNtoRNN(nn.Module):\n",
    "    def __init__(self, embed_size, hidden_size, vocab_size, num_layers):\n",
    "        super(CNNtoRNN, self).__init__()\n",
    "        self.encoderCNN = EncoderCNN(embed_size)\n",
    "        self.decoderRNN = DecoderRNN(embed_size, hidden_size, vocab_size, num_layers)\n",
    "\n",
    "    def forward(self, images, captions):\n",
    "        features = self.encoderCNN(images)\n",
    "        outputs = self.decoderRNN(features, captions)\n",
    "        return outputs\n",
    "\n",
    "    def caption_image(self, image, max_length=50):\n",
    "        result_caption = []\n",
    "\n",
    "        with torch.no_grad():\n",
    "            x = self.encoderCNN(image).unsqueeze(0)\n",
    "            states = None\n",
    "\n",
    "            for _ in range(max_length):\n",
    "                hiddens, states = self.decoderRNN.lstm(x, states)\n",
    "                output = self.decoderRNN.linear(hiddens.squeeze(0))\n",
    "                predicted = output.argmax(1)\n",
    "                result_caption.append(predicted.item())\n",
    "                x = self.decoderRNN.embed(predicted).unsqueeze(0)\n",
    "\n",
    "                if itos[predicted.item()] == \"<EOS>\":\n",
    "                    break\n",
    "\n",
    "        return [itos[idx] for idx in result_caption]"
   ]
  },
  {
   "cell_type": "code",
   "execution_count": 85,
   "metadata": {},
   "outputs": [],
   "source": [
    "torch.backends.cudnn.benchmark = True\n",
    "device = torch.device(\"cuda\" if torch.cuda.is_available() else \"cpu\")\n",
    "load_model = False\n",
    "save_model = False\n",
    "train_CNN = False"
   ]
  },
  {
   "cell_type": "code",
   "execution_count": 86,
   "metadata": {},
   "outputs": [],
   "source": [
    "step = 0"
   ]
  },
  {
   "cell_type": "code",
   "execution_count": 87,
   "metadata": {},
   "outputs": [],
   "source": [
    "import torch\n",
    "from tqdm import tqdm,trange\n",
    "import torch.nn as nn\n",
    "import torch.optim as optim\n",
    "import torchvision.transforms as transforms"
   ]
  },
  {
   "cell_type": "code",
   "execution_count": 88,
   "metadata": {},
   "outputs": [],
   "source": [
    "import torch\n",
    "import torchvision.transforms as transforms\n",
    "from PIL import Image\n",
    "\n",
    "\n",
    "def print_examples(model, device, dataset):\n",
    "\n",
    "    model.eval()\n",
    "    test_img1 = transform(Image.open(\"test_examples/dog.jpg\").convert(\"RGB\")).unsqueeze(\n",
    "        0\n",
    "    )\n",
    "    print(\"Example 1 CORRECT: Dog on a beach by the ocean\")\n",
    "    print(\n",
    "        \"Example 1 OUTPUT: \"\n",
    "        + \" \".join(model.caption_image(test_img1.to(device)))\n",
    "    )\n",
    "    print('_'*60)\n",
    "    test_img2 = transform(\n",
    "        Image.open(\"test_examples/child.jpg\").convert(\"RGB\")\n",
    "    ).unsqueeze(0)\n",
    "    print(\"Example 2 CORRECT: Child holding red frisbee outdoors\")\n",
    "    print(\n",
    "        \"Example 2 OUTPUT: \"\n",
    "        + \" \".join(model.caption_image(test_img2.to(device)))\n",
    "    )\n",
    "    print('_'*60)\n",
    "    test_img3 = transform(Image.open(\"test_examples/bus.png\").convert(\"RGB\")).unsqueeze(\n",
    "        0\n",
    "    )\n",
    "    print(\"Example 3 CORRECT: Bus driving by parked cars\")\n",
    "    print(\n",
    "        \"Example 3 OUTPUT: \"\n",
    "        + \" \".join(model.caption_image(test_img3.to(device)))\n",
    "    )\n",
    "    print('_'*60)\n",
    "    test_img4 = transform(\n",
    "        Image.open(\"test_examples/boat.png\").convert(\"RGB\")\n",
    "    ).unsqueeze(0)\n",
    "    print(\"Example 4 CORRECT: A small boat in the ocean\")\n",
    "    print(\n",
    "        \"Example 4 OUTPUT: \"\n",
    "        + \" \".join(model.caption_image(test_img4.to(device)))\n",
    "    )\n",
    "    print('_'*60)\n",
    "    test_img5 = transform(\n",
    "        Image.open(\"test_examples/horse.png\").convert(\"RGB\")\n",
    "    ).unsqueeze(0)\n",
    "    print(\"Example 5 CORRECT: A cowboy riding a horse in the desert\")\n",
    "    print(\n",
    "        \"Example 5 OUTPUT: \"\n",
    "        + \" \".join(model.caption_image(test_img5.to(device)))\n",
    "    )\n",
    "    model.train()"
   ]
  },
  {
   "cell_type": "code",
   "execution_count": 89,
   "metadata": {},
   "outputs": [],
   "source": [
    "# Hyperparameters\n",
    "embed_size = 256\n",
    "hidden_size = 256\n",
    "vocab_size = len(itos)\n",
    "num_layers = 2\n",
    "learning_rate = 3e-4\n",
    "num_epochs = 100"
   ]
  },
  {
   "cell_type": "code",
   "execution_count": 90,
   "metadata": {},
   "outputs": [],
   "source": [
    "# initialize model, loss etc\n",
    "model = CNNtoRNN(embed_size, hidden_size, vocab_size, num_layers).to(device)\n",
    "criterion = nn.CrossEntropyLoss(ignore_index=stoi[\"<PAD>\"])\n",
    "optimizer = optim.Adam(model.parameters(), lr=learning_rate)"
   ]
  },
  {
   "cell_type": "code",
   "execution_count": 91,
   "metadata": {},
   "outputs": [],
   "source": [
    "# Only finetune the CNN\n",
    "for name, param in model.encoderCNN.inception.named_parameters():\n",
    "    if \"fc.weight\" in name or \"fc.bias\" in name:\n",
    "        param.requires_grad = True\n",
    "    else:\n",
    "        param.requires_grad = train_CNN"
   ]
  },
  {
   "cell_type": "code",
   "execution_count": 92,
   "metadata": {
    "scrolled": true
   },
   "outputs": [
    {
     "name": "stdout",
     "output_type": "stream",
     "text": [
      "Epoch: 0\n",
      "Example 1 CORRECT: Dog on a beach by the ocean\n",
      "Example 1 OUTPUT: overlooks worn worn worn wagon wagon gray overlooks naked worn worn worn wagon herself gray overlooks overlooks worn worn worn wagon wagon herself gray overlooks worn worn worn wagon wagon herself gray overlooks overlooks worn worn worn wagon wagon herself gray overlooks worn worn worn wagon wagon herself gray overlooks\n",
      "____________________________________________________________\n",
      "Example 2 CORRECT: Child holding red frisbee outdoors\n",
      "Example 2 OUTPUT: overlooks worn worn worn wagon wagon gray overlooks naked worn worn worn wagon herself gray overlooks overlooks worn worn worn wagon wagon herself gray overlooks worn worn worn wagon wagon herself gray overlooks overlooks worn worn worn wagon wagon herself gray overlooks worn worn worn wagon wagon herself gray overlooks\n",
      "____________________________________________________________\n",
      "Example 3 CORRECT: Bus driving by parked cars\n",
      "Example 3 OUTPUT: overlooks worn worn worn wagon wagon gray overlooks naked worn worn worn wagon herself gray overlooks overlooks worn worn worn wagon wagon herself gray overlooks worn worn worn wagon wagon herself gray overlooks overlooks worn worn worn wagon wagon herself gray overlooks worn worn worn wagon wagon herself gray overlooks\n",
      "____________________________________________________________\n",
      "Example 4 CORRECT: A small boat in the ocean\n",
      "Example 4 OUTPUT: overlooks worn worn worn wagon wagon gray overlooks naked worn worn worn wagon herself gray overlooks overlooks worn worn worn wagon wagon herself gray overlooks worn worn worn wagon wagon herself gray overlooks overlooks worn worn worn wagon wagon herself gray overlooks worn worn worn wagon wagon herself gray overlooks\n",
      "____________________________________________________________\n",
      "Example 5 CORRECT: A cowboy riding a horse in the desert\n",
      "Example 5 OUTPUT: overlooks naked worn worn worn wagon wagon gray overlooks naked worn worn worn wagon herself gray overlooks overlooks worn worn worn wagon wagon herself gray overlooks worn worn worn wagon wagon herself gray overlooks overlooks worn worn worn wagon wagon herself gray overlooks worn worn worn wagon wagon herself gray\n"
     ]
    },
    {
     "name": "stderr",
     "output_type": "stream",
     "text": [
      "                                               \r"
     ]
    },
    {
     "name": "stdout",
     "output_type": "stream",
     "text": [
      "Epoch: 1\n",
      "Example 1 CORRECT: Dog on a beach by the ocean\n",
      "Example 1 OUTPUT: <SOS> a a a a a a a a a a . <EOS>\n",
      "____________________________________________________________\n",
      "Example 2 CORRECT: Child holding red frisbee outdoors\n",
      "Example 2 OUTPUT: <SOS> a a a a a a a a a a . <EOS>\n",
      "____________________________________________________________\n",
      "Example 3 CORRECT: Bus driving by parked cars\n",
      "Example 3 OUTPUT: <SOS> a a a a a a a a a a . <EOS>\n",
      "____________________________________________________________\n",
      "Example 4 CORRECT: A small boat in the ocean\n",
      "Example 4 OUTPUT: <SOS> a a a a a a a a a a . <EOS>\n",
      "____________________________________________________________\n",
      "Example 5 CORRECT: A cowboy riding a horse in the desert\n",
      "Example 5 OUTPUT: <SOS> a a a a a a a a a a . <EOS>\n"
     ]
    },
    {
     "name": "stderr",
     "output_type": "stream",
     "text": [
      "                                               \r"
     ]
    },
    {
     "name": "stdout",
     "output_type": "stream",
     "text": [
      "Epoch: 2\n",
      "Example 1 CORRECT: Dog on a beach by the ocean\n",
      "Example 1 OUTPUT: <SOS> a a a a a a a a . <EOS>\n",
      "____________________________________________________________\n",
      "Example 2 CORRECT: Child holding red frisbee outdoors\n",
      "Example 2 OUTPUT: <SOS> a a a a a a a a . <EOS>\n",
      "____________________________________________________________\n",
      "Example 3 CORRECT: Bus driving by parked cars\n",
      "Example 3 OUTPUT: <SOS> a a a a a a a a . <EOS>\n",
      "____________________________________________________________\n",
      "Example 4 CORRECT: A small boat in the ocean\n",
      "Example 4 OUTPUT: <SOS> a a a a a a a a . <EOS>\n",
      "____________________________________________________________\n",
      "Example 5 CORRECT: A cowboy riding a horse in the desert\n",
      "Example 5 OUTPUT: <SOS> a a a a a a a a . <EOS>\n"
     ]
    },
    {
     "name": "stderr",
     "output_type": "stream",
     "text": [
      "                                               \r"
     ]
    },
    {
     "name": "stdout",
     "output_type": "stream",
     "text": [
      "Epoch: 3\n",
      "Example 1 CORRECT: Dog on a beach by the ocean\n",
      "Example 1 OUTPUT: <SOS> a a a a a a . <EOS>\n",
      "____________________________________________________________\n",
      "Example 2 CORRECT: Child holding red frisbee outdoors\n",
      "Example 2 OUTPUT: <SOS> a a a a a a . <EOS>\n",
      "____________________________________________________________\n",
      "Example 3 CORRECT: Bus driving by parked cars\n",
      "Example 3 OUTPUT: <SOS> a a a a a a . <EOS>\n",
      "____________________________________________________________\n",
      "Example 4 CORRECT: A small boat in the ocean\n",
      "Example 4 OUTPUT: <SOS> a a a a a a . <EOS>\n",
      "____________________________________________________________\n",
      "Example 5 CORRECT: A cowboy riding a horse in the desert\n",
      "Example 5 OUTPUT: <SOS> a a a a a a . <EOS>\n"
     ]
    },
    {
     "name": "stderr",
     "output_type": "stream",
     "text": [
      "                                               \r"
     ]
    },
    {
     "name": "stdout",
     "output_type": "stream",
     "text": [
      "Epoch: 4\n",
      "Example 1 CORRECT: Dog on a beach by the ocean\n",
      "Example 1 OUTPUT: <SOS> a man in a in a in a . <EOS>\n",
      "____________________________________________________________\n",
      "Example 2 CORRECT: Child holding red frisbee outdoors\n",
      "Example 2 OUTPUT: <SOS> a man in a in a in a . <EOS>\n",
      "____________________________________________________________\n",
      "Example 3 CORRECT: Bus driving by parked cars\n",
      "Example 3 OUTPUT: <SOS> a man in a in a in a . <EOS>\n",
      "____________________________________________________________\n",
      "Example 4 CORRECT: A small boat in the ocean\n",
      "Example 4 OUTPUT: <SOS> a man in a in a in a . <EOS>\n",
      "____________________________________________________________\n",
      "Example 5 CORRECT: A cowboy riding a horse in the desert\n",
      "Example 5 OUTPUT: <SOS> a man in a in a in a . <EOS>\n"
     ]
    },
    {
     "name": "stderr",
     "output_type": "stream",
     "text": [
      "                                               \r"
     ]
    },
    {
     "name": "stdout",
     "output_type": "stream",
     "text": [
      "Epoch: 5\n",
      "Example 1 CORRECT: Dog on a beach by the ocean\n",
      "Example 1 OUTPUT: <SOS> a man in a dog in a . <EOS>\n",
      "____________________________________________________________\n",
      "Example 2 CORRECT: Child holding red frisbee outdoors\n",
      "Example 2 OUTPUT: <SOS> a man in a dog in a . <EOS>\n",
      "____________________________________________________________\n",
      "Example 3 CORRECT: Bus driving by parked cars\n",
      "Example 3 OUTPUT: <SOS> a man in a dog in a . <EOS>\n",
      "____________________________________________________________\n",
      "Example 4 CORRECT: A small boat in the ocean\n",
      "Example 4 OUTPUT: <SOS> a man in a dog in a . <EOS>\n",
      "____________________________________________________________\n",
      "Example 5 CORRECT: A cowboy riding a horse in the desert\n",
      "Example 5 OUTPUT: <SOS> a man in a dog in a . <EOS>\n"
     ]
    },
    {
     "name": "stderr",
     "output_type": "stream",
     "text": [
      "                                               \r"
     ]
    },
    {
     "name": "stdout",
     "output_type": "stream",
     "text": [
      "Epoch: 6\n",
      "Example 1 CORRECT: Dog on a beach by the ocean\n",
      "Example 1 OUTPUT: <SOS> a man in a dog in a <UNK> . <EOS>\n",
      "____________________________________________________________\n",
      "Example 2 CORRECT: Child holding red frisbee outdoors\n",
      "Example 2 OUTPUT: <SOS> a man in a dog in a <UNK> . <EOS>\n",
      "____________________________________________________________\n",
      "Example 3 CORRECT: Bus driving by parked cars\n",
      "Example 3 OUTPUT: <SOS> a man in a dog in a <UNK> . <EOS>\n",
      "____________________________________________________________\n",
      "Example 4 CORRECT: A small boat in the ocean\n",
      "Example 4 OUTPUT: <SOS> a man in a dog in a <UNK> . <EOS>\n",
      "____________________________________________________________\n",
      "Example 5 CORRECT: A cowboy riding a horse in the desert\n",
      "Example 5 OUTPUT: <SOS> a man in a dog in a <UNK> . <EOS>\n"
     ]
    },
    {
     "name": "stderr",
     "output_type": "stream",
     "text": [
      "                                               \r"
     ]
    },
    {
     "name": "stdout",
     "output_type": "stream",
     "text": [
      "Epoch: 7\n",
      "Example 1 CORRECT: Dog on a beach by the ocean\n",
      "Example 1 OUTPUT: <SOS> a man in a dog in a <UNK> . <EOS>\n",
      "____________________________________________________________\n",
      "Example 2 CORRECT: Child holding red frisbee outdoors\n",
      "Example 2 OUTPUT: <SOS> a man in a dog in a <UNK> . <EOS>\n",
      "____________________________________________________________\n",
      "Example 3 CORRECT: Bus driving by parked cars\n",
      "Example 3 OUTPUT: <SOS> a man in a dog in a <UNK> . <EOS>\n",
      "____________________________________________________________\n",
      "Example 4 CORRECT: A small boat in the ocean\n",
      "Example 4 OUTPUT: <SOS> a man in a dog in a <UNK> . <EOS>\n",
      "____________________________________________________________\n",
      "Example 5 CORRECT: A cowboy riding a horse in the desert\n",
      "Example 5 OUTPUT: <SOS> a man in a dog in a <UNK> . <EOS>\n"
     ]
    },
    {
     "name": "stderr",
     "output_type": "stream",
     "text": [
      "                                               \r"
     ]
    },
    {
     "name": "stdout",
     "output_type": "stream",
     "text": [
      "Epoch: 8\n",
      "Example 1 CORRECT: Dog on a beach by the ocean\n",
      "Example 1 OUTPUT: <SOS> a man in a <UNK> in a <UNK> . <EOS>\n",
      "____________________________________________________________\n",
      "Example 2 CORRECT: Child holding red frisbee outdoors\n",
      "Example 2 OUTPUT: <SOS> a man in a <UNK> in a <UNK> . <EOS>\n",
      "____________________________________________________________\n",
      "Example 3 CORRECT: Bus driving by parked cars\n",
      "Example 3 OUTPUT: <SOS> a man in a <UNK> in a <UNK> . <EOS>\n",
      "____________________________________________________________\n",
      "Example 4 CORRECT: A small boat in the ocean\n",
      "Example 4 OUTPUT: <SOS> a man in a <UNK> in a <UNK> . <EOS>\n",
      "____________________________________________________________\n",
      "Example 5 CORRECT: A cowboy riding a horse in the desert\n",
      "Example 5 OUTPUT: <SOS> a man in a <UNK> in a <UNK> . <EOS>\n"
     ]
    },
    {
     "name": "stderr",
     "output_type": "stream",
     "text": [
      "                                               \r"
     ]
    },
    {
     "name": "stdout",
     "output_type": "stream",
     "text": [
      "Epoch: 9\n",
      "Example 1 CORRECT: Dog on a beach by the ocean\n",
      "Example 1 OUTPUT: <SOS> a man in a red shirt is in a <UNK> . <EOS>\n",
      "____________________________________________________________\n",
      "Example 2 CORRECT: Child holding red frisbee outdoors\n",
      "Example 2 OUTPUT: <SOS> a man in a red shirt is in a <UNK> . <EOS>\n",
      "____________________________________________________________\n",
      "Example 3 CORRECT: Bus driving by parked cars\n",
      "Example 3 OUTPUT: <SOS> a man in a red shirt is in a <UNK> . <EOS>\n",
      "____________________________________________________________\n",
      "Example 4 CORRECT: A small boat in the ocean\n",
      "Example 4 OUTPUT: <SOS> a man in a red shirt is in a <UNK> . <EOS>\n",
      "____________________________________________________________\n",
      "Example 5 CORRECT: A cowboy riding a horse in the desert\n",
      "Example 5 OUTPUT: <SOS> a man in a red shirt is in a <UNK> . <EOS>\n"
     ]
    },
    {
     "name": "stderr",
     "output_type": "stream",
     "text": [
      "                                               \r"
     ]
    },
    {
     "name": "stdout",
     "output_type": "stream",
     "text": [
      "Epoch: 10\n",
      "Example 1 CORRECT: Dog on a beach by the ocean\n",
      "Example 1 OUTPUT: <SOS> a man in a red shirt is is in a red shirt is in a red shirt . <EOS>\n",
      "____________________________________________________________\n",
      "Example 2 CORRECT: Child holding red frisbee outdoors\n",
      "Example 2 OUTPUT: <SOS> a man in a red shirt is is in a red shirt is in a red shirt . <EOS>\n",
      "____________________________________________________________\n",
      "Example 3 CORRECT: Bus driving by parked cars\n",
      "Example 3 OUTPUT: <SOS> a man in a red shirt is is in a red shirt is in a red shirt . <EOS>\n",
      "____________________________________________________________\n",
      "Example 4 CORRECT: A small boat in the ocean\n",
      "Example 4 OUTPUT: <SOS> a man in a red shirt is is in a red shirt is in a red shirt . <EOS>\n",
      "____________________________________________________________\n",
      "Example 5 CORRECT: A cowboy riding a horse in the desert\n",
      "Example 5 OUTPUT: <SOS> a man in a red shirt is is in a red shirt is in a red shirt . <EOS>\n"
     ]
    },
    {
     "name": "stderr",
     "output_type": "stream",
     "text": [
      "                                               \r"
     ]
    },
    {
     "name": "stdout",
     "output_type": "stream",
     "text": [
      "Epoch: 11\n",
      "Example 1 CORRECT: Dog on a beach by the ocean\n",
      "Example 1 OUTPUT: <SOS> a man in a red shirt is is in a red shirt is is in a red shirt is is in a red shirt and a black dog is is in a red shirt and a black dog is is in a red shirt and a black dog is\n",
      "____________________________________________________________\n",
      "Example 2 CORRECT: Child holding red frisbee outdoors\n",
      "Example 2 OUTPUT: <SOS> a man in a red shirt is is in a red shirt is is in a red shirt is is in a red shirt and a black dog is is in a red shirt and a black dog is is in a red shirt and a black dog is\n",
      "____________________________________________________________\n",
      "Example 3 CORRECT: Bus driving by parked cars\n",
      "Example 3 OUTPUT: <SOS> a man in a red shirt is is in a red shirt is is in a red shirt is is in a red shirt and a black dog is is in a red shirt and a black dog is is in a red shirt and a black dog is\n",
      "____________________________________________________________\n",
      "Example 4 CORRECT: A small boat in the ocean\n",
      "Example 4 OUTPUT: <SOS> a man in a red shirt is is in a red shirt is is in a red shirt is is in a red shirt and a black dog is is in a red shirt and a black dog is is in a red shirt and a black dog is\n",
      "____________________________________________________________\n",
      "Example 5 CORRECT: A cowboy riding a horse in the desert\n",
      "Example 5 OUTPUT: <SOS> a man in a red shirt is is in a red shirt is is in a red shirt is is in a red shirt and a black dog is is in a red shirt and a black dog is is in a red shirt and a black dog is\n"
     ]
    },
    {
     "name": "stderr",
     "output_type": "stream",
     "text": [
      "                                               \r"
     ]
    },
    {
     "name": "stdout",
     "output_type": "stream",
     "text": [
      "Epoch: 12\n",
      "Example 1 CORRECT: Dog on a beach by the ocean\n",
      "Example 1 OUTPUT: <SOS> a man in a red shirt is is standing on a <UNK> . <EOS>\n",
      "____________________________________________________________\n",
      "Example 2 CORRECT: Child holding red frisbee outdoors\n",
      "Example 2 OUTPUT: <SOS> a man in a red shirt is is standing on a <UNK> . <EOS>\n",
      "____________________________________________________________\n",
      "Example 3 CORRECT: Bus driving by parked cars\n",
      "Example 3 OUTPUT: <SOS> a man in a red shirt is is standing on a <UNK> . <EOS>\n",
      "____________________________________________________________\n",
      "Example 4 CORRECT: A small boat in the ocean\n",
      "Example 4 OUTPUT: <SOS> a man in a red shirt is is standing on a <UNK> . <EOS>\n",
      "____________________________________________________________\n",
      "Example 5 CORRECT: A cowboy riding a horse in the desert\n",
      "Example 5 OUTPUT: <SOS> a man in a red shirt is is standing on a <UNK> . <EOS>\n"
     ]
    },
    {
     "name": "stderr",
     "output_type": "stream",
     "text": [
      "                                               \r"
     ]
    },
    {
     "name": "stdout",
     "output_type": "stream",
     "text": [
      "Epoch: 13\n",
      "Example 1 CORRECT: Dog on a beach by the ocean\n",
      "Example 1 OUTPUT: <SOS> a man in a red shirt is standing on a <UNK> . <EOS>\n",
      "____________________________________________________________\n",
      "Example 2 CORRECT: Child holding red frisbee outdoors\n",
      "Example 2 OUTPUT: <SOS> a man in a red shirt is standing on a <UNK> . <EOS>\n",
      "____________________________________________________________\n",
      "Example 3 CORRECT: Bus driving by parked cars\n",
      "Example 3 OUTPUT: <SOS> a man in a red shirt is standing on a <UNK> . <EOS>\n",
      "____________________________________________________________\n",
      "Example 4 CORRECT: A small boat in the ocean\n",
      "Example 4 OUTPUT: <SOS> a man in a red shirt is standing on a <UNK> . <EOS>\n",
      "____________________________________________________________\n",
      "Example 5 CORRECT: A cowboy riding a horse in the desert\n",
      "Example 5 OUTPUT: <SOS> a man in a red shirt is standing on a <UNK> . <EOS>\n"
     ]
    },
    {
     "name": "stderr",
     "output_type": "stream",
     "text": [
      "                                               \r"
     ]
    },
    {
     "name": "stdout",
     "output_type": "stream",
     "text": [
      "Epoch: 14\n",
      "Example 1 CORRECT: Dog on a beach by the ocean\n",
      "Example 1 OUTPUT: <SOS> a man in a red shirt is standing on a <UNK> . <EOS>\n",
      "____________________________________________________________\n",
      "Example 2 CORRECT: Child holding red frisbee outdoors\n",
      "Example 2 OUTPUT: <SOS> a man in a red shirt is standing on a <UNK> . <EOS>\n",
      "____________________________________________________________\n",
      "Example 3 CORRECT: Bus driving by parked cars\n",
      "Example 3 OUTPUT: <SOS> a man in a red shirt is standing on a <UNK> . <EOS>\n",
      "____________________________________________________________\n",
      "Example 4 CORRECT: A small boat in the ocean\n",
      "Example 4 OUTPUT: <SOS> a man in a red shirt is standing on a <UNK> . <EOS>\n",
      "____________________________________________________________\n",
      "Example 5 CORRECT: A cowboy riding a horse in the desert\n",
      "Example 5 OUTPUT: <SOS> a man in a red shirt is standing on a <UNK> . <EOS>\n"
     ]
    },
    {
     "name": "stderr",
     "output_type": "stream",
     "text": [
      "                                               \r"
     ]
    },
    {
     "name": "stdout",
     "output_type": "stream",
     "text": [
      "Epoch: 15\n",
      "Example 1 CORRECT: Dog on a beach by the ocean\n",
      "Example 1 OUTPUT: <SOS> a man in a red shirt is running on a <UNK> . <EOS>\n",
      "____________________________________________________________\n",
      "Example 2 CORRECT: Child holding red frisbee outdoors\n",
      "Example 2 OUTPUT: <SOS> a man in a red shirt is running on a <UNK> . <EOS>\n",
      "____________________________________________________________\n",
      "Example 3 CORRECT: Bus driving by parked cars\n",
      "Example 3 OUTPUT: <SOS> a man in a red shirt is running on a <UNK> . <EOS>\n",
      "____________________________________________________________\n",
      "Example 4 CORRECT: A small boat in the ocean\n",
      "Example 4 OUTPUT: <SOS> a man in a red shirt is running on a <UNK> . <EOS>\n",
      "____________________________________________________________\n",
      "Example 5 CORRECT: A cowboy riding a horse in the desert\n",
      "Example 5 OUTPUT: <SOS> a man in a red shirt is running on a <UNK> . <EOS>\n"
     ]
    },
    {
     "name": "stderr",
     "output_type": "stream",
     "text": [
      "                                               \r"
     ]
    },
    {
     "name": "stdout",
     "output_type": "stream",
     "text": [
      "Epoch: 16\n",
      "Example 1 CORRECT: Dog on a beach by the ocean\n",
      "Example 1 OUTPUT: <SOS> a man in a red shirt is standing on a <UNK> . <EOS>\n",
      "____________________________________________________________\n",
      "Example 2 CORRECT: Child holding red frisbee outdoors\n",
      "Example 2 OUTPUT: <SOS> a man in a red shirt is standing on a <UNK> . <EOS>\n",
      "____________________________________________________________\n",
      "Example 3 CORRECT: Bus driving by parked cars\n",
      "Example 3 OUTPUT: <SOS> a man in a red shirt is standing on a <UNK> . <EOS>\n",
      "____________________________________________________________\n",
      "Example 4 CORRECT: A small boat in the ocean\n",
      "Example 4 OUTPUT: <SOS> a man in a red shirt is standing on a <UNK> . <EOS>\n",
      "____________________________________________________________\n",
      "Example 5 CORRECT: A cowboy riding a horse in the desert\n",
      "Example 5 OUTPUT: <SOS> a man in a red shirt is standing on a <UNK> . <EOS>\n"
     ]
    },
    {
     "name": "stderr",
     "output_type": "stream",
     "text": [
      "                                               \r"
     ]
    },
    {
     "name": "stdout",
     "output_type": "stream",
     "text": [
      "Epoch: 17\n",
      "Example 1 CORRECT: Dog on a beach by the ocean\n",
      "Example 1 OUTPUT: <SOS> a man in a red shirt is standing on a <UNK> . <EOS>\n",
      "____________________________________________________________\n",
      "Example 2 CORRECT: Child holding red frisbee outdoors\n",
      "Example 2 OUTPUT: <SOS> a man in a red shirt is standing on a <UNK> . <EOS>\n",
      "____________________________________________________________\n",
      "Example 3 CORRECT: Bus driving by parked cars\n",
      "Example 3 OUTPUT: <SOS> a man in a red shirt is standing on a <UNK> . <EOS>\n",
      "____________________________________________________________\n",
      "Example 4 CORRECT: A small boat in the ocean\n",
      "Example 4 OUTPUT: <SOS> a man in a red shirt is standing on a <UNK> . <EOS>\n",
      "____________________________________________________________\n",
      "Example 5 CORRECT: A cowboy riding a horse in the desert\n",
      "Example 5 OUTPUT: <SOS> a man in a red shirt is standing on a <UNK> . <EOS>\n"
     ]
    },
    {
     "name": "stderr",
     "output_type": "stream",
     "text": [
      "                                               \r"
     ]
    },
    {
     "name": "stdout",
     "output_type": "stream",
     "text": [
      "Epoch: 18\n",
      "Example 1 CORRECT: Dog on a beach by the ocean\n",
      "Example 1 OUTPUT: <SOS> a man in a red shirt is standing on a <UNK> . <EOS>\n",
      "____________________________________________________________\n",
      "Example 2 CORRECT: Child holding red frisbee outdoors\n",
      "Example 2 OUTPUT: <SOS> a man in a red shirt is standing on a <UNK> . <EOS>\n",
      "____________________________________________________________\n",
      "Example 3 CORRECT: Bus driving by parked cars\n",
      "Example 3 OUTPUT: <SOS> a man in a red shirt is standing on a <UNK> . <EOS>\n",
      "____________________________________________________________\n",
      "Example 4 CORRECT: A small boat in the ocean\n",
      "Example 4 OUTPUT: <SOS> a man in a red shirt is standing on a <UNK> . <EOS>\n",
      "____________________________________________________________\n",
      "Example 5 CORRECT: A cowboy riding a horse in the desert\n",
      "Example 5 OUTPUT: <SOS> a man in a red shirt is standing on a <UNK> . <EOS>\n"
     ]
    },
    {
     "name": "stderr",
     "output_type": "stream",
     "text": [
      "                                               \r"
     ]
    },
    {
     "name": "stdout",
     "output_type": "stream",
     "text": [
      "Epoch: 19\n",
      "Example 1 CORRECT: Dog on a beach by the ocean\n",
      "Example 1 OUTPUT: <SOS> a man in a red shirt is standing on a <UNK> . <EOS>\n",
      "____________________________________________________________\n",
      "Example 2 CORRECT: Child holding red frisbee outdoors\n",
      "Example 2 OUTPUT: <SOS> a man in a red shirt is standing on a <UNK> . <EOS>\n",
      "____________________________________________________________\n",
      "Example 3 CORRECT: Bus driving by parked cars\n",
      "Example 3 OUTPUT: <SOS> a man in a red shirt is standing on a <UNK> . <EOS>\n",
      "____________________________________________________________\n",
      "Example 4 CORRECT: A small boat in the ocean\n",
      "Example 4 OUTPUT: <SOS> a man in a red shirt is standing on a <UNK> . <EOS>\n",
      "____________________________________________________________\n",
      "Example 5 CORRECT: A cowboy riding a horse in the desert\n",
      "Example 5 OUTPUT: <SOS> a man in a red shirt is standing on a <UNK> . <EOS>\n"
     ]
    },
    {
     "name": "stderr",
     "output_type": "stream",
     "text": [
      "                                               \r"
     ]
    },
    {
     "name": "stdout",
     "output_type": "stream",
     "text": [
      "Epoch: 20\n",
      "Example 1 CORRECT: Dog on a beach by the ocean\n",
      "Example 1 OUTPUT: <SOS> a man in a red shirt is standing on a <UNK> . <EOS>\n",
      "____________________________________________________________\n",
      "Example 2 CORRECT: Child holding red frisbee outdoors\n",
      "Example 2 OUTPUT: <SOS> a man in a red shirt is standing on a <UNK> . <EOS>\n",
      "____________________________________________________________\n",
      "Example 3 CORRECT: Bus driving by parked cars\n",
      "Example 3 OUTPUT: <SOS> a man in a red shirt is standing on a <UNK> . <EOS>\n",
      "____________________________________________________________\n",
      "Example 4 CORRECT: A small boat in the ocean\n",
      "Example 4 OUTPUT: <SOS> a man in a red shirt is standing on a <UNK> . <EOS>\n",
      "____________________________________________________________\n",
      "Example 5 CORRECT: A cowboy riding a horse in the desert\n",
      "Example 5 OUTPUT: <SOS> a man in a red shirt is standing on a <UNK> . <EOS>\n"
     ]
    },
    {
     "name": "stderr",
     "output_type": "stream",
     "text": [
      "                                               \r"
     ]
    },
    {
     "name": "stdout",
     "output_type": "stream",
     "text": [
      "Epoch: 21\n",
      "Example 1 CORRECT: Dog on a beach by the ocean\n",
      "Example 1 OUTPUT: <SOS> a man in a red shirt is standing on a <UNK> . <EOS>\n",
      "____________________________________________________________\n",
      "Example 2 CORRECT: Child holding red frisbee outdoors\n",
      "Example 2 OUTPUT: <SOS> a man in a red shirt is standing on a <UNK> . <EOS>\n",
      "____________________________________________________________\n",
      "Example 3 CORRECT: Bus driving by parked cars\n",
      "Example 3 OUTPUT: <SOS> a man in a red shirt is standing on a <UNK> . <EOS>\n",
      "____________________________________________________________\n",
      "Example 4 CORRECT: A small boat in the ocean\n",
      "Example 4 OUTPUT: <SOS> a man in a red shirt is standing on a <UNK> . <EOS>\n",
      "____________________________________________________________\n",
      "Example 5 CORRECT: A cowboy riding a horse in the desert\n",
      "Example 5 OUTPUT: <SOS> a man in a red shirt is standing on a <UNK> . <EOS>\n"
     ]
    },
    {
     "name": "stderr",
     "output_type": "stream",
     "text": [
      "                                               \r"
     ]
    },
    {
     "name": "stdout",
     "output_type": "stream",
     "text": [
      "Epoch: 22\n",
      "Example 1 CORRECT: Dog on a beach by the ocean\n",
      "Example 1 OUTPUT: <SOS> a man in a red shirt is standing on a <UNK> . <EOS>\n",
      "____________________________________________________________\n",
      "Example 2 CORRECT: Child holding red frisbee outdoors\n",
      "Example 2 OUTPUT: <SOS> a man in a red shirt is standing on a <UNK> . <EOS>\n",
      "____________________________________________________________\n",
      "Example 3 CORRECT: Bus driving by parked cars\n",
      "Example 3 OUTPUT: <SOS> a man in a red shirt is standing on a <UNK> . <EOS>\n",
      "____________________________________________________________\n",
      "Example 4 CORRECT: A small boat in the ocean\n",
      "Example 4 OUTPUT: <SOS> a man in a red shirt is standing on a <UNK> . <EOS>\n",
      "____________________________________________________________\n",
      "Example 5 CORRECT: A cowboy riding a horse in the desert\n",
      "Example 5 OUTPUT: <SOS> a man in a red shirt is standing on a <UNK> . <EOS>\n"
     ]
    },
    {
     "name": "stderr",
     "output_type": "stream",
     "text": [
      "                                               \r"
     ]
    },
    {
     "name": "stdout",
     "output_type": "stream",
     "text": [
      "Epoch: 23\n",
      "Example 1 CORRECT: Dog on a beach by the ocean\n",
      "Example 1 OUTPUT: <SOS> a man in a red shirt is standing on a <UNK> . <EOS>\n",
      "____________________________________________________________\n",
      "Example 2 CORRECT: Child holding red frisbee outdoors\n",
      "Example 2 OUTPUT: <SOS> a man in a red shirt is standing on a <UNK> . <EOS>\n",
      "____________________________________________________________\n",
      "Example 3 CORRECT: Bus driving by parked cars\n",
      "Example 3 OUTPUT: <SOS> a man in a red shirt is standing on a <UNK> . <EOS>\n",
      "____________________________________________________________\n",
      "Example 4 CORRECT: A small boat in the ocean\n",
      "Example 4 OUTPUT: <SOS> a man in a red shirt is standing on a <UNK> . <EOS>\n",
      "____________________________________________________________\n",
      "Example 5 CORRECT: A cowboy riding a horse in the desert\n",
      "Example 5 OUTPUT: <SOS> a man in a red shirt is standing on a <UNK> . <EOS>\n"
     ]
    },
    {
     "name": "stderr",
     "output_type": "stream",
     "text": [
      "                                               \r"
     ]
    },
    {
     "name": "stdout",
     "output_type": "stream",
     "text": [
      "Epoch: 24\n",
      "Example 1 CORRECT: Dog on a beach by the ocean\n",
      "Example 1 OUTPUT: <SOS> a man in a red shirt is standing on a <UNK> . <EOS>\n",
      "____________________________________________________________\n",
      "Example 2 CORRECT: Child holding red frisbee outdoors\n",
      "Example 2 OUTPUT: <SOS> a man in a red shirt is standing on a <UNK> . <EOS>\n",
      "____________________________________________________________\n",
      "Example 3 CORRECT: Bus driving by parked cars\n",
      "Example 3 OUTPUT: <SOS> a man in a red shirt is standing on a <UNK> . <EOS>\n",
      "____________________________________________________________\n",
      "Example 4 CORRECT: A small boat in the ocean\n",
      "Example 4 OUTPUT: <SOS> a man in a red shirt is standing on a <UNK> . <EOS>\n",
      "____________________________________________________________\n",
      "Example 5 CORRECT: A cowboy riding a horse in the desert\n",
      "Example 5 OUTPUT: <SOS> a man in a red shirt is standing on a <UNK> . <EOS>\n"
     ]
    },
    {
     "name": "stderr",
     "output_type": "stream",
     "text": [
      "                                               \r"
     ]
    },
    {
     "name": "stdout",
     "output_type": "stream",
     "text": [
      "Epoch: 25\n",
      "Example 1 CORRECT: Dog on a beach by the ocean\n",
      "Example 1 OUTPUT: <SOS> a man in a blue shirt is standing on a skateboard . <EOS>\n",
      "____________________________________________________________\n",
      "Example 2 CORRECT: Child holding red frisbee outdoors\n",
      "Example 2 OUTPUT: <SOS> a man in a blue shirt is standing on a skateboard . <EOS>\n",
      "____________________________________________________________\n",
      "Example 3 CORRECT: Bus driving by parked cars\n",
      "Example 3 OUTPUT: <SOS> a man in a blue shirt is standing on a skateboard . <EOS>\n",
      "____________________________________________________________\n",
      "Example 4 CORRECT: A small boat in the ocean\n",
      "Example 4 OUTPUT: <SOS> a man in a blue shirt is standing on a skateboard . <EOS>\n",
      "____________________________________________________________\n",
      "Example 5 CORRECT: A cowboy riding a horse in the desert\n",
      "Example 5 OUTPUT: <SOS> a man in a blue shirt is standing on a skateboard . <EOS>\n"
     ]
    },
    {
     "name": "stderr",
     "output_type": "stream",
     "text": [
      "                                               \r"
     ]
    },
    {
     "name": "stdout",
     "output_type": "stream",
     "text": [
      "Epoch: 26\n",
      "Example 1 CORRECT: Dog on a beach by the ocean\n",
      "Example 1 OUTPUT: <SOS> a man in a red shirt is standing on a <UNK> . <EOS>\n",
      "____________________________________________________________\n",
      "Example 2 CORRECT: Child holding red frisbee outdoors\n",
      "Example 2 OUTPUT: <SOS> a man in a red shirt is standing on a <UNK> . <EOS>\n",
      "____________________________________________________________\n",
      "Example 3 CORRECT: Bus driving by parked cars\n",
      "Example 3 OUTPUT: <SOS> a man in a red shirt is standing on a <UNK> . <EOS>\n",
      "____________________________________________________________\n",
      "Example 4 CORRECT: A small boat in the ocean\n",
      "Example 4 OUTPUT: <SOS> a man in a red shirt is standing on a <UNK> . <EOS>\n",
      "____________________________________________________________\n",
      "Example 5 CORRECT: A cowboy riding a horse in the desert\n",
      "Example 5 OUTPUT: <SOS> a man in a red shirt is standing on a <UNK> . <EOS>\n"
     ]
    },
    {
     "name": "stderr",
     "output_type": "stream",
     "text": [
      "                                               \r"
     ]
    },
    {
     "name": "stdout",
     "output_type": "stream",
     "text": [
      "Epoch: 27\n",
      "Example 1 CORRECT: Dog on a beach by the ocean\n",
      "Example 1 OUTPUT: <SOS> a man in a blue shirt is standing on a skateboard . <EOS>\n",
      "____________________________________________________________\n",
      "Example 2 CORRECT: Child holding red frisbee outdoors\n",
      "Example 2 OUTPUT: <SOS> a man in a blue shirt is standing on a skateboard . <EOS>\n",
      "____________________________________________________________\n",
      "Example 3 CORRECT: Bus driving by parked cars\n",
      "Example 3 OUTPUT: <SOS> a man in a blue shirt is standing on a skateboard . <EOS>\n",
      "____________________________________________________________\n",
      "Example 4 CORRECT: A small boat in the ocean\n",
      "Example 4 OUTPUT: <SOS> a man in a blue shirt is standing on a skateboard . <EOS>\n",
      "____________________________________________________________\n",
      "Example 5 CORRECT: A cowboy riding a horse in the desert\n",
      "Example 5 OUTPUT: <SOS> a man in a blue shirt is standing on a skateboard . <EOS>\n"
     ]
    },
    {
     "name": "stderr",
     "output_type": "stream",
     "text": [
      "                                               \r"
     ]
    },
    {
     "name": "stdout",
     "output_type": "stream",
     "text": [
      "Epoch: 28\n",
      "Example 1 CORRECT: Dog on a beach by the ocean\n",
      "Example 1 OUTPUT: <SOS> a black dog is running in the grass . <EOS>\n",
      "____________________________________________________________\n",
      "Example 2 CORRECT: Child holding red frisbee outdoors\n",
      "Example 2 OUTPUT: <SOS> a man in a blue shirt is standing on a skateboard . <EOS>\n",
      "____________________________________________________________\n",
      "Example 3 CORRECT: Bus driving by parked cars\n",
      "Example 3 OUTPUT: <SOS> a man in a blue shirt is standing on a skateboard . <EOS>\n",
      "____________________________________________________________\n",
      "Example 4 CORRECT: A small boat in the ocean\n",
      "Example 4 OUTPUT: <SOS> a man in a blue shirt is standing on a skateboard . <EOS>\n",
      "____________________________________________________________\n",
      "Example 5 CORRECT: A cowboy riding a horse in the desert\n",
      "Example 5 OUTPUT: <SOS> a man in a blue shirt is standing on a skateboard . <EOS>\n"
     ]
    },
    {
     "name": "stderr",
     "output_type": "stream",
     "text": [
      "                                               \r"
     ]
    },
    {
     "name": "stdout",
     "output_type": "stream",
     "text": [
      "Epoch: 29\n",
      "Example 1 CORRECT: Dog on a beach by the ocean\n",
      "Example 1 OUTPUT: <SOS> a black dog is running through the grass . <EOS>\n",
      "____________________________________________________________\n",
      "Example 2 CORRECT: Child holding red frisbee outdoors\n",
      "Example 2 OUTPUT: <SOS> a man in a blue shirt is standing on a <UNK> . <EOS>\n",
      "____________________________________________________________\n",
      "Example 3 CORRECT: Bus driving by parked cars\n",
      "Example 3 OUTPUT: <SOS> a man in a blue shirt is standing on a <UNK> . <EOS>\n",
      "____________________________________________________________\n",
      "Example 4 CORRECT: A small boat in the ocean\n",
      "Example 4 OUTPUT: <SOS> a man in a blue shirt is standing on a <UNK> . <EOS>\n",
      "____________________________________________________________\n",
      "Example 5 CORRECT: A cowboy riding a horse in the desert\n",
      "Example 5 OUTPUT: <SOS> a man in a blue shirt is standing on a <UNK> . <EOS>\n"
     ]
    },
    {
     "name": "stderr",
     "output_type": "stream",
     "text": [
      "                                               \r"
     ]
    },
    {
     "name": "stdout",
     "output_type": "stream",
     "text": [
      "Epoch: 30\n",
      "Example 1 CORRECT: Dog on a beach by the ocean\n",
      "Example 1 OUTPUT: <SOS> a black dog is running in the grass . <EOS>\n",
      "____________________________________________________________\n",
      "Example 2 CORRECT: Child holding red frisbee outdoors\n",
      "Example 2 OUTPUT: <SOS> a man in a blue shirt is standing on a skateboard . <EOS>\n",
      "____________________________________________________________\n",
      "Example 3 CORRECT: Bus driving by parked cars\n",
      "Example 3 OUTPUT: <SOS> a man in a blue shirt is standing on a skateboard . <EOS>\n",
      "____________________________________________________________\n",
      "Example 4 CORRECT: A small boat in the ocean\n",
      "Example 4 OUTPUT: <SOS> a man in a blue shirt is standing on a skateboard . <EOS>\n",
      "____________________________________________________________\n",
      "Example 5 CORRECT: A cowboy riding a horse in the desert\n",
      "Example 5 OUTPUT: <SOS> a man in a blue shirt is standing on a skateboard . <EOS>\n"
     ]
    },
    {
     "name": "stderr",
     "output_type": "stream",
     "text": [
      "                                               \r"
     ]
    },
    {
     "name": "stdout",
     "output_type": "stream",
     "text": [
      "Epoch: 31\n",
      "Example 1 CORRECT: Dog on a beach by the ocean\n",
      "Example 1 OUTPUT: <SOS> a black dog is running in the grass . <EOS>\n",
      "____________________________________________________________\n",
      "Example 2 CORRECT: Child holding red frisbee outdoors\n",
      "Example 2 OUTPUT: <SOS> a man in a blue shirt is standing on a skateboard . <EOS>\n",
      "____________________________________________________________\n",
      "Example 3 CORRECT: Bus driving by parked cars\n",
      "Example 3 OUTPUT: <SOS> a man in a blue shirt is standing on a skateboard . <EOS>\n",
      "____________________________________________________________\n",
      "Example 4 CORRECT: A small boat in the ocean\n",
      "Example 4 OUTPUT: <SOS> a man in a blue shirt is standing on a skateboard . <EOS>\n",
      "____________________________________________________________\n",
      "Example 5 CORRECT: A cowboy riding a horse in the desert\n",
      "Example 5 OUTPUT: <SOS> a man in a blue shirt is standing on a skateboard . <EOS>\n"
     ]
    },
    {
     "name": "stderr",
     "output_type": "stream",
     "text": [
      "                                               \r"
     ]
    },
    {
     "name": "stdout",
     "output_type": "stream",
     "text": [
      "Epoch: 32\n",
      "Example 1 CORRECT: Dog on a beach by the ocean\n",
      "Example 1 OUTPUT: <SOS> a black and white dog is running in the snow . <EOS>\n",
      "____________________________________________________________\n",
      "Example 2 CORRECT: Child holding red frisbee outdoors\n",
      "Example 2 OUTPUT: <SOS> a man in a red shirt is standing on a skateboard . <EOS>\n",
      "____________________________________________________________\n",
      "Example 3 CORRECT: Bus driving by parked cars\n",
      "Example 3 OUTPUT: <SOS> a man in a red shirt is standing on a skateboard . <EOS>\n",
      "____________________________________________________________\n",
      "Example 4 CORRECT: A small boat in the ocean\n",
      "Example 4 OUTPUT: <SOS> a man in a red shirt is standing on a skateboard . <EOS>\n",
      "____________________________________________________________\n",
      "Example 5 CORRECT: A cowboy riding a horse in the desert\n",
      "Example 5 OUTPUT: <SOS> a man in a red shirt is standing on a skateboard . <EOS>\n"
     ]
    },
    {
     "name": "stderr",
     "output_type": "stream",
     "text": [
      "                                               \r"
     ]
    },
    {
     "name": "stdout",
     "output_type": "stream",
     "text": [
      "Epoch: 33\n",
      "Example 1 CORRECT: Dog on a beach by the ocean\n",
      "Example 1 OUTPUT: <SOS> a black dog is running through the water . <EOS>\n",
      "____________________________________________________________\n",
      "Example 2 CORRECT: Child holding red frisbee outdoors\n",
      "Example 2 OUTPUT: <SOS> a man in a red shirt is standing on a skateboard . <EOS>\n",
      "____________________________________________________________\n",
      "Example 3 CORRECT: Bus driving by parked cars\n",
      "Example 3 OUTPUT: <SOS> a man in a red shirt is standing on a skateboard . <EOS>\n",
      "____________________________________________________________\n",
      "Example 4 CORRECT: A small boat in the ocean\n",
      "Example 4 OUTPUT: <SOS> a man in a red shirt is standing on a skateboard . <EOS>\n",
      "____________________________________________________________\n",
      "Example 5 CORRECT: A cowboy riding a horse in the desert\n",
      "Example 5 OUTPUT: <SOS> a man in a red shirt is standing on a skateboard . <EOS>\n"
     ]
    },
    {
     "name": "stderr",
     "output_type": "stream",
     "text": [
      "                                               \r"
     ]
    },
    {
     "name": "stdout",
     "output_type": "stream",
     "text": [
      "Epoch: 34\n",
      "Example 1 CORRECT: Dog on a beach by the ocean\n",
      "Example 1 OUTPUT: <SOS> a black dog is running through the grass . <EOS>\n",
      "____________________________________________________________\n",
      "Example 2 CORRECT: Child holding red frisbee outdoors\n",
      "Example 2 OUTPUT: <SOS> a man in a red shirt is standing on a skateboard . <EOS>\n",
      "____________________________________________________________\n",
      "Example 3 CORRECT: Bus driving by parked cars\n",
      "Example 3 OUTPUT: <SOS> a man in a red shirt is standing on a skateboard . <EOS>\n",
      "____________________________________________________________\n",
      "Example 4 CORRECT: A small boat in the ocean\n",
      "Example 4 OUTPUT: <SOS> a man in a red shirt is standing on a skateboard . <EOS>\n",
      "____________________________________________________________\n",
      "Example 5 CORRECT: A cowboy riding a horse in the desert\n",
      "Example 5 OUTPUT: <SOS> a man in a red shirt is standing on a skateboard . <EOS>\n"
     ]
    },
    {
     "name": "stderr",
     "output_type": "stream",
     "text": [
      "                                               \r"
     ]
    },
    {
     "name": "stdout",
     "output_type": "stream",
     "text": [
      "Epoch: 35\n",
      "Example 1 CORRECT: Dog on a beach by the ocean\n",
      "Example 1 OUTPUT: <SOS> a black and white dog is running through the grass . <EOS>\n",
      "____________________________________________________________\n",
      "Example 2 CORRECT: Child holding red frisbee outdoors\n",
      "Example 2 OUTPUT: <SOS> a man in a blue shirt and a black shirt is standing on a <UNK> . <EOS>\n",
      "____________________________________________________________\n",
      "Example 3 CORRECT: Bus driving by parked cars\n",
      "Example 3 OUTPUT: <SOS> a man in a blue shirt and a black shirt is standing on a <UNK> . <EOS>\n",
      "____________________________________________________________\n",
      "Example 4 CORRECT: A small boat in the ocean\n",
      "Example 4 OUTPUT: <SOS> a man in a blue shirt and a black shirt is standing on a <UNK> . <EOS>\n",
      "____________________________________________________________\n",
      "Example 5 CORRECT: A cowboy riding a horse in the desert\n",
      "Example 5 OUTPUT: <SOS> a man in a blue shirt and a black shirt is standing on a <UNK> . <EOS>\n"
     ]
    },
    {
     "name": "stderr",
     "output_type": "stream",
     "text": [
      "                                               \r"
     ]
    },
    {
     "name": "stdout",
     "output_type": "stream",
     "text": [
      "Epoch: 36\n",
      "Example 1 CORRECT: Dog on a beach by the ocean\n",
      "Example 1 OUTPUT: <SOS> a black dog is running through the grass . <EOS>\n",
      "____________________________________________________________\n",
      "Example 2 CORRECT: Child holding red frisbee outdoors\n",
      "Example 2 OUTPUT: <SOS> a man in a red shirt is standing on a <UNK> . <EOS>\n",
      "____________________________________________________________\n",
      "Example 3 CORRECT: Bus driving by parked cars\n",
      "Example 3 OUTPUT: <SOS> a man in a red shirt is standing on a <UNK> . <EOS>\n",
      "____________________________________________________________\n",
      "Example 4 CORRECT: A small boat in the ocean\n",
      "Example 4 OUTPUT: <SOS> a man in a red shirt is standing on a <UNK> . <EOS>\n",
      "____________________________________________________________\n",
      "Example 5 CORRECT: A cowboy riding a horse in the desert\n",
      "Example 5 OUTPUT: <SOS> a man in a red shirt is standing on a <UNK> . <EOS>\n"
     ]
    },
    {
     "name": "stderr",
     "output_type": "stream",
     "text": [
      "                                               \r"
     ]
    },
    {
     "name": "stdout",
     "output_type": "stream",
     "text": [
      "Epoch: 37\n",
      "Example 1 CORRECT: Dog on a beach by the ocean\n",
      "Example 1 OUTPUT: <SOS> a black dog is running through the grass . <EOS>\n",
      "____________________________________________________________\n",
      "Example 2 CORRECT: Child holding red frisbee outdoors\n",
      "Example 2 OUTPUT: <SOS> a man in a blue shirt is standing on a skateboard . <EOS>\n",
      "____________________________________________________________\n",
      "Example 3 CORRECT: Bus driving by parked cars\n",
      "Example 3 OUTPUT: <SOS> a man in a blue shirt is standing on a skateboard . <EOS>\n",
      "____________________________________________________________\n",
      "Example 4 CORRECT: A small boat in the ocean\n",
      "Example 4 OUTPUT: <SOS> a man in a blue shirt is standing on a skateboard . <EOS>\n",
      "____________________________________________________________\n",
      "Example 5 CORRECT: A cowboy riding a horse in the desert\n",
      "Example 5 OUTPUT: <SOS> a man in a blue shirt is standing on a skateboard . <EOS>\n"
     ]
    },
    {
     "name": "stderr",
     "output_type": "stream",
     "text": [
      "                                               \r"
     ]
    },
    {
     "name": "stdout",
     "output_type": "stream",
     "text": [
      "Epoch: 38\n",
      "Example 1 CORRECT: Dog on a beach by the ocean\n",
      "Example 1 OUTPUT: <SOS> a black and white dog is running through the grass . <EOS>\n",
      "____________________________________________________________\n",
      "Example 2 CORRECT: Child holding red frisbee outdoors\n",
      "Example 2 OUTPUT: <SOS> a man in a red shirt is standing on a bench . <EOS>\n",
      "____________________________________________________________\n",
      "Example 3 CORRECT: Bus driving by parked cars\n",
      "Example 3 OUTPUT: <SOS> a man in a red shirt is standing on a bench . <EOS>\n",
      "____________________________________________________________\n",
      "Example 4 CORRECT: A small boat in the ocean\n",
      "Example 4 OUTPUT: <SOS> a man in a red shirt is standing on a bench . <EOS>\n",
      "____________________________________________________________\n",
      "Example 5 CORRECT: A cowboy riding a horse in the desert\n",
      "Example 5 OUTPUT: <SOS> a man in a red shirt is standing on a bench . <EOS>\n"
     ]
    },
    {
     "name": "stderr",
     "output_type": "stream",
     "text": [
      "                                               \r"
     ]
    },
    {
     "name": "stdout",
     "output_type": "stream",
     "text": [
      "Epoch: 39\n",
      "Example 1 CORRECT: Dog on a beach by the ocean\n",
      "Example 1 OUTPUT: <SOS> a brown dog is running through the grass . <EOS>\n",
      "____________________________________________________________\n",
      "Example 2 CORRECT: Child holding red frisbee outdoors\n",
      "Example 2 OUTPUT: <SOS> a man in a blue shirt is standing on a skateboard . <EOS>\n",
      "____________________________________________________________\n",
      "Example 3 CORRECT: Bus driving by parked cars\n",
      "Example 3 OUTPUT: <SOS> a man in a blue shirt is standing on a skateboard . <EOS>\n",
      "____________________________________________________________\n",
      "Example 4 CORRECT: A small boat in the ocean\n",
      "Example 4 OUTPUT: <SOS> a man in a blue shirt is standing on a skateboard . <EOS>\n",
      "____________________________________________________________\n",
      "Example 5 CORRECT: A cowboy riding a horse in the desert\n",
      "Example 5 OUTPUT: <SOS> a man in a blue shirt is standing on a skateboard . <EOS>\n"
     ]
    },
    {
     "name": "stderr",
     "output_type": "stream",
     "text": [
      "                                               \r"
     ]
    },
    {
     "name": "stdout",
     "output_type": "stream",
     "text": [
      "Epoch: 40\n",
      "Example 1 CORRECT: Dog on a beach by the ocean\n",
      "Example 1 OUTPUT: <SOS> a black and white dog is running through the grass . <EOS>\n",
      "____________________________________________________________\n",
      "Example 2 CORRECT: Child holding red frisbee outdoors\n",
      "Example 2 OUTPUT: <SOS> a man in a blue shirt is standing on a bench . <EOS>\n",
      "____________________________________________________________\n",
      "Example 3 CORRECT: Bus driving by parked cars\n",
      "Example 3 OUTPUT: <SOS> a man in a blue shirt is standing on a bench . <EOS>\n",
      "____________________________________________________________\n",
      "Example 4 CORRECT: A small boat in the ocean\n",
      "Example 4 OUTPUT: <SOS> a man in a blue shirt is standing on a bench . <EOS>\n",
      "____________________________________________________________\n",
      "Example 5 CORRECT: A cowboy riding a horse in the desert\n",
      "Example 5 OUTPUT: <SOS> a man in a blue shirt is standing on a bench . <EOS>\n"
     ]
    },
    {
     "name": "stderr",
     "output_type": "stream",
     "text": [
      "                                               \r"
     ]
    },
    {
     "name": "stdout",
     "output_type": "stream",
     "text": [
      "Epoch: 41\n",
      "Example 1 CORRECT: Dog on a beach by the ocean\n",
      "Example 1 OUTPUT: <SOS> a black dog is running through the grass . <EOS>\n",
      "____________________________________________________________\n",
      "Example 2 CORRECT: Child holding red frisbee outdoors\n",
      "Example 2 OUTPUT: <SOS> a man in a blue shirt is standing on a bench . <EOS>\n",
      "____________________________________________________________\n",
      "Example 3 CORRECT: Bus driving by parked cars\n",
      "Example 3 OUTPUT: <SOS> a man in a blue shirt is standing on a bench . <EOS>\n",
      "____________________________________________________________\n",
      "Example 4 CORRECT: A small boat in the ocean\n",
      "Example 4 OUTPUT: <SOS> a man in a blue shirt is standing on a bench . <EOS>\n",
      "____________________________________________________________\n",
      "Example 5 CORRECT: A cowboy riding a horse in the desert\n",
      "Example 5 OUTPUT: <SOS> a man in a blue shirt is standing on a bench . <EOS>\n"
     ]
    },
    {
     "name": "stderr",
     "output_type": "stream",
     "text": [
      "                                               \r"
     ]
    },
    {
     "name": "stdout",
     "output_type": "stream",
     "text": [
      "Epoch: 42\n",
      "Example 1 CORRECT: Dog on a beach by the ocean\n",
      "Example 1 OUTPUT: <SOS> a black dog is running through the water . <EOS>\n",
      "____________________________________________________________\n",
      "Example 2 CORRECT: Child holding red frisbee outdoors\n",
      "Example 2 OUTPUT: <SOS> a man in a blue shirt is standing on a bench . <EOS>\n",
      "____________________________________________________________\n",
      "Example 3 CORRECT: Bus driving by parked cars\n",
      "Example 3 OUTPUT: <SOS> a man in a blue shirt is standing on a bench . <EOS>\n",
      "____________________________________________________________\n",
      "Example 4 CORRECT: A small boat in the ocean\n",
      "Example 4 OUTPUT: <SOS> a man in a blue shirt is standing on a bench . <EOS>\n",
      "____________________________________________________________\n",
      "Example 5 CORRECT: A cowboy riding a horse in the desert\n",
      "Example 5 OUTPUT: <SOS> a man in a blue shirt is standing on a bench . <EOS>\n"
     ]
    },
    {
     "name": "stderr",
     "output_type": "stream",
     "text": [
      "                                               \r"
     ]
    },
    {
     "name": "stdout",
     "output_type": "stream",
     "text": [
      "Epoch: 43\n",
      "Example 1 CORRECT: Dog on a beach by the ocean\n",
      "Example 1 OUTPUT: <SOS> a brown dog is running through the water . <EOS>\n",
      "____________________________________________________________\n",
      "Example 2 CORRECT: Child holding red frisbee outdoors\n",
      "Example 2 OUTPUT: <SOS> a man in a red shirt is standing on a bench . <EOS>\n",
      "____________________________________________________________\n",
      "Example 3 CORRECT: Bus driving by parked cars\n",
      "Example 3 OUTPUT: <SOS> a man in a red shirt is standing on a bench . <EOS>\n",
      "____________________________________________________________\n",
      "Example 4 CORRECT: A small boat in the ocean\n",
      "Example 4 OUTPUT: <SOS> a man in a red shirt is standing on a bench . <EOS>\n",
      "____________________________________________________________\n",
      "Example 5 CORRECT: A cowboy riding a horse in the desert\n",
      "Example 5 OUTPUT: <SOS> a man in a red shirt is standing on a bench . <EOS>\n"
     ]
    },
    {
     "name": "stderr",
     "output_type": "stream",
     "text": [
      "                                               \r"
     ]
    },
    {
     "name": "stdout",
     "output_type": "stream",
     "text": [
      "Epoch: 44\n",
      "Example 1 CORRECT: Dog on a beach by the ocean\n",
      "Example 1 OUTPUT: <SOS> a brown dog is running through the grass . <EOS>\n",
      "____________________________________________________________\n",
      "Example 2 CORRECT: Child holding red frisbee outdoors\n",
      "Example 2 OUTPUT: <SOS> a boy in a red shirt is standing on a bench . <EOS>\n",
      "____________________________________________________________\n",
      "Example 3 CORRECT: Bus driving by parked cars\n",
      "Example 3 OUTPUT: <SOS> a man in a red shirt is standing on a bench . <EOS>\n",
      "____________________________________________________________\n",
      "Example 4 CORRECT: A small boat in the ocean\n",
      "Example 4 OUTPUT: <SOS> a man in a red shirt is standing on a bench . <EOS>\n",
      "____________________________________________________________\n",
      "Example 5 CORRECT: A cowboy riding a horse in the desert\n",
      "Example 5 OUTPUT: <SOS> a man in a red shirt is standing on a bench . <EOS>\n"
     ]
    },
    {
     "name": "stderr",
     "output_type": "stream",
     "text": [
      "                                               \r"
     ]
    },
    {
     "name": "stdout",
     "output_type": "stream",
     "text": [
      "Epoch: 45\n",
      "Example 1 CORRECT: Dog on a beach by the ocean\n",
      "Example 1 OUTPUT: <SOS> a brown dog is running through the water . <EOS>\n",
      "____________________________________________________________\n",
      "Example 2 CORRECT: Child holding red frisbee outdoors\n",
      "Example 2 OUTPUT: <SOS> a boy in a red shirt is standing on a bench . <EOS>\n",
      "____________________________________________________________\n",
      "Example 3 CORRECT: Bus driving by parked cars\n",
      "Example 3 OUTPUT: <SOS> a man in a blue shirt is standing on a bench . <EOS>\n",
      "____________________________________________________________\n",
      "Example 4 CORRECT: A small boat in the ocean\n",
      "Example 4 OUTPUT: <SOS> a man in a blue shirt is standing on a bench . <EOS>\n",
      "____________________________________________________________\n",
      "Example 5 CORRECT: A cowboy riding a horse in the desert\n",
      "Example 5 OUTPUT: <SOS> a man in a blue shirt is standing on a bench . <EOS>\n"
     ]
    },
    {
     "name": "stderr",
     "output_type": "stream",
     "text": [
      "                                               \r"
     ]
    },
    {
     "name": "stdout",
     "output_type": "stream",
     "text": [
      "Epoch: 46\n",
      "Example 1 CORRECT: Dog on a beach by the ocean\n",
      "Example 1 OUTPUT: <SOS> a brown dog is running through the grass . <EOS>\n",
      "____________________________________________________________\n",
      "Example 2 CORRECT: Child holding red frisbee outdoors\n",
      "Example 2 OUTPUT: <SOS> a boy in a red shirt is standing on a bench . <EOS>\n",
      "____________________________________________________________\n",
      "Example 3 CORRECT: Bus driving by parked cars\n",
      "Example 3 OUTPUT: <SOS> a man in a blue shirt is standing on a bench . <EOS>\n",
      "____________________________________________________________\n",
      "Example 4 CORRECT: A small boat in the ocean\n",
      "Example 4 OUTPUT: <SOS> a man in a blue shirt is standing on a bench . <EOS>\n",
      "____________________________________________________________\n",
      "Example 5 CORRECT: A cowboy riding a horse in the desert\n",
      "Example 5 OUTPUT: <SOS> a man in a blue shirt is standing on a bench . <EOS>\n"
     ]
    },
    {
     "name": "stderr",
     "output_type": "stream",
     "text": [
      "                                               \r"
     ]
    },
    {
     "name": "stdout",
     "output_type": "stream",
     "text": [
      "Epoch: 47\n",
      "Example 1 CORRECT: Dog on a beach by the ocean\n",
      "Example 1 OUTPUT: <SOS> a brown dog is running through the grass . <EOS>\n",
      "____________________________________________________________\n",
      "Example 2 CORRECT: Child holding red frisbee outdoors\n",
      "Example 2 OUTPUT: <SOS> a boy in a red shirt is standing on a bench . <EOS>\n",
      "____________________________________________________________\n",
      "Example 3 CORRECT: Bus driving by parked cars\n",
      "Example 3 OUTPUT: <SOS> a man in a red shirt is standing on a bench . <EOS>\n",
      "____________________________________________________________\n",
      "Example 4 CORRECT: A small boat in the ocean\n",
      "Example 4 OUTPUT: <SOS> a man in a blue shirt is standing on a bench . <EOS>\n",
      "____________________________________________________________\n",
      "Example 5 CORRECT: A cowboy riding a horse in the desert\n",
      "Example 5 OUTPUT: <SOS> a man in a red shirt is standing on a bench . <EOS>\n"
     ]
    },
    {
     "name": "stderr",
     "output_type": "stream",
     "text": [
      "                                               \r"
     ]
    },
    {
     "name": "stdout",
     "output_type": "stream",
     "text": [
      "Epoch: 48\n",
      "Example 1 CORRECT: Dog on a beach by the ocean\n",
      "Example 1 OUTPUT: <SOS> a brown dog is running through the grass . <EOS>\n",
      "____________________________________________________________\n",
      "Example 2 CORRECT: Child holding red frisbee outdoors\n",
      "Example 2 OUTPUT: <SOS> a boy in a red shirt is standing on a bench . <EOS>\n",
      "____________________________________________________________\n",
      "Example 3 CORRECT: Bus driving by parked cars\n",
      "Example 3 OUTPUT: <SOS> a man in a blue shirt is standing on a bench . <EOS>\n",
      "____________________________________________________________\n",
      "Example 4 CORRECT: A small boat in the ocean\n",
      "Example 4 OUTPUT: <SOS> a man in a red shirt is standing on a bench . <EOS>\n",
      "____________________________________________________________\n",
      "Example 5 CORRECT: A cowboy riding a horse in the desert\n",
      "Example 5 OUTPUT: <SOS> a man in a blue shirt is standing on a bench . <EOS>\n"
     ]
    },
    {
     "name": "stderr",
     "output_type": "stream",
     "text": [
      "                                               \r"
     ]
    },
    {
     "name": "stdout",
     "output_type": "stream",
     "text": [
      "Epoch: 49\n",
      "Example 1 CORRECT: Dog on a beach by the ocean\n",
      "Example 1 OUTPUT: <SOS> a brown dog is running through the water . <EOS>\n",
      "____________________________________________________________\n",
      "Example 2 CORRECT: Child holding red frisbee outdoors\n",
      "Example 2 OUTPUT: <SOS> a boy in a red shirt and a black shirt is standing in front of a building . <EOS>\n",
      "____________________________________________________________\n",
      "Example 3 CORRECT: Bus driving by parked cars\n",
      "Example 3 OUTPUT: <SOS> a man in a blue shirt is standing on a bench in front of a building . <EOS>\n",
      "____________________________________________________________\n",
      "Example 4 CORRECT: A small boat in the ocean\n",
      "Example 4 OUTPUT: <SOS> a man in a blue shirt and a black shirt is standing in front of a building . <EOS>\n",
      "____________________________________________________________\n",
      "Example 5 CORRECT: A cowboy riding a horse in the desert\n",
      "Example 5 OUTPUT: <SOS> a man in a blue shirt is standing on a bench in front of a building . <EOS>\n"
     ]
    },
    {
     "name": "stderr",
     "output_type": "stream",
     "text": [
      "                                               \r"
     ]
    },
    {
     "name": "stdout",
     "output_type": "stream",
     "text": [
      "Epoch: 50\n",
      "Example 1 CORRECT: Dog on a beach by the ocean\n",
      "Example 1 OUTPUT: <SOS> a brown dog is running through the snow . <EOS>\n",
      "____________________________________________________________\n",
      "Example 2 CORRECT: Child holding red frisbee outdoors\n",
      "Example 2 OUTPUT: <SOS> a boy in a red shirt is standing on a bench in front of a building . <EOS>\n",
      "____________________________________________________________\n",
      "Example 3 CORRECT: Bus driving by parked cars\n",
      "Example 3 OUTPUT: <SOS> a man in a blue shirt is standing on a bench in front of a building . <EOS>\n",
      "____________________________________________________________\n",
      "Example 4 CORRECT: A small boat in the ocean\n",
      "Example 4 OUTPUT: <SOS> a man in a blue shirt is standing on a bench in front of a building . <EOS>\n",
      "____________________________________________________________\n",
      "Example 5 CORRECT: A cowboy riding a horse in the desert\n",
      "Example 5 OUTPUT: <SOS> a man in a blue shirt is standing on a bench in front of a building . <EOS>\n"
     ]
    },
    {
     "name": "stderr",
     "output_type": "stream",
     "text": [
      "                                               \r"
     ]
    },
    {
     "name": "stdout",
     "output_type": "stream",
     "text": [
      "Epoch: 51\n",
      "Example 1 CORRECT: Dog on a beach by the ocean\n",
      "Example 1 OUTPUT: <SOS> a brown dog is running through the grass . <EOS>\n",
      "____________________________________________________________\n",
      "Example 2 CORRECT: Child holding red frisbee outdoors\n",
      "Example 2 OUTPUT: <SOS> a boy in a red shirt is standing in front of a building . <EOS>\n",
      "____________________________________________________________\n",
      "Example 3 CORRECT: Bus driving by parked cars\n",
      "Example 3 OUTPUT: <SOS> a man in a blue shirt is standing on a bench . <EOS>\n",
      "____________________________________________________________\n",
      "Example 4 CORRECT: A small boat in the ocean\n",
      "Example 4 OUTPUT: <SOS> a man in a blue shirt is standing in front of a building . <EOS>\n",
      "____________________________________________________________\n",
      "Example 5 CORRECT: A cowboy riding a horse in the desert\n",
      "Example 5 OUTPUT: <SOS> a man in a blue shirt is standing on a bench . <EOS>\n"
     ]
    },
    {
     "name": "stderr",
     "output_type": "stream",
     "text": [
      "                                               \r"
     ]
    },
    {
     "name": "stdout",
     "output_type": "stream",
     "text": [
      "Epoch: 52\n",
      "Example 1 CORRECT: Dog on a beach by the ocean\n",
      "Example 1 OUTPUT: <SOS> a brown dog is running through the water . <EOS>\n",
      "____________________________________________________________\n",
      "Example 2 CORRECT: Child holding red frisbee outdoors\n",
      "Example 2 OUTPUT: <SOS> a girl in a red shirt and a black jacket is standing in front of a building . <EOS>\n",
      "____________________________________________________________\n",
      "Example 3 CORRECT: Bus driving by parked cars\n",
      "Example 3 OUTPUT: <SOS> a man in a red shirt is standing on a bench . <EOS>\n",
      "____________________________________________________________\n",
      "Example 4 CORRECT: A small boat in the ocean\n",
      "Example 4 OUTPUT: <SOS> a man in a red shirt is standing on a bench . <EOS>\n",
      "____________________________________________________________\n",
      "Example 5 CORRECT: A cowboy riding a horse in the desert\n",
      "Example 5 OUTPUT: <SOS> a man in a red shirt is standing on a bench . <EOS>\n"
     ]
    },
    {
     "name": "stderr",
     "output_type": "stream",
     "text": [
      "                                               \r"
     ]
    },
    {
     "name": "stdout",
     "output_type": "stream",
     "text": [
      "Epoch: 53\n",
      "Example 1 CORRECT: Dog on a beach by the ocean\n",
      "Example 1 OUTPUT: <SOS> a brown dog is running through the water . <EOS>\n",
      "____________________________________________________________\n",
      "Example 2 CORRECT: Child holding red frisbee outdoors\n",
      "Example 2 OUTPUT: <SOS> a boy in a blue shirt is standing on a bench in front of a building . <EOS>\n",
      "____________________________________________________________\n",
      "Example 3 CORRECT: Bus driving by parked cars\n",
      "Example 3 OUTPUT: <SOS> a man in a red shirt is standing on a bench in front of a building . <EOS>\n",
      "____________________________________________________________\n",
      "Example 4 CORRECT: A small boat in the ocean\n",
      "Example 4 OUTPUT: <SOS> a man in a red shirt is standing on a bench . <EOS>\n",
      "____________________________________________________________\n",
      "Example 5 CORRECT: A cowboy riding a horse in the desert\n",
      "Example 5 OUTPUT: <SOS> a man in a red shirt is standing on a bench in front of a building . <EOS>\n"
     ]
    },
    {
     "name": "stderr",
     "output_type": "stream",
     "text": [
      "                                               \r"
     ]
    },
    {
     "name": "stdout",
     "output_type": "stream",
     "text": [
      "Epoch: 54\n",
      "Example 1 CORRECT: Dog on a beach by the ocean\n",
      "Example 1 OUTPUT: <SOS> a brown dog is running through a field . <EOS>\n",
      "____________________________________________________________\n",
      "Example 2 CORRECT: Child holding red frisbee outdoors\n",
      "Example 2 OUTPUT: <SOS> a boy in a blue shirt is standing on a bench . <EOS>\n",
      "____________________________________________________________\n",
      "Example 3 CORRECT: Bus driving by parked cars\n",
      "Example 3 OUTPUT: <SOS> a man in a blue shirt is standing on a bench . <EOS>\n",
      "____________________________________________________________\n",
      "Example 4 CORRECT: A small boat in the ocean\n",
      "Example 4 OUTPUT: <SOS> a man in a blue shirt is standing on a bench . <EOS>\n",
      "____________________________________________________________\n",
      "Example 5 CORRECT: A cowboy riding a horse in the desert\n",
      "Example 5 OUTPUT: <SOS> a man in a blue shirt is standing on a bench . <EOS>\n"
     ]
    },
    {
     "name": "stderr",
     "output_type": "stream",
     "text": [
      "                                               \r"
     ]
    },
    {
     "name": "stdout",
     "output_type": "stream",
     "text": [
      "Epoch: 55\n",
      "Example 1 CORRECT: Dog on a beach by the ocean\n",
      "Example 1 OUTPUT: <SOS> a brown dog is running through the grass . <EOS>\n",
      "____________________________________________________________\n",
      "Example 2 CORRECT: Child holding red frisbee outdoors\n",
      "Example 2 OUTPUT: <SOS> a boy in a red shirt is standing on a bench . <EOS>\n",
      "____________________________________________________________\n",
      "Example 3 CORRECT: Bus driving by parked cars\n",
      "Example 3 OUTPUT: <SOS> a man in a red shirt is standing on a bench . <EOS>\n",
      "____________________________________________________________\n",
      "Example 4 CORRECT: A small boat in the ocean\n",
      "Example 4 OUTPUT: <SOS> a man in a red shirt is standing on a bench . <EOS>\n",
      "____________________________________________________________\n",
      "Example 5 CORRECT: A cowboy riding a horse in the desert\n",
      "Example 5 OUTPUT: <SOS> a man in a red shirt is standing on a bench . <EOS>\n"
     ]
    },
    {
     "name": "stderr",
     "output_type": "stream",
     "text": [
      "                                               \r"
     ]
    },
    {
     "name": "stdout",
     "output_type": "stream",
     "text": [
      "Epoch: 56\n",
      "Example 1 CORRECT: Dog on a beach by the ocean\n",
      "Example 1 OUTPUT: <SOS> a brown dog is running through the snow . <EOS>\n",
      "____________________________________________________________\n",
      "Example 2 CORRECT: Child holding red frisbee outdoors\n",
      "Example 2 OUTPUT: <SOS> a boy in a red shirt is standing on a bench in front of a building . <EOS>\n",
      "____________________________________________________________\n",
      "Example 3 CORRECT: Bus driving by parked cars\n",
      "Example 3 OUTPUT: <SOS> a man in a blue shirt is standing on a bench in front of a building . <EOS>\n",
      "____________________________________________________________\n",
      "Example 4 CORRECT: A small boat in the ocean\n",
      "Example 4 OUTPUT: <SOS> a man in a red shirt is standing on a bench in front of a building . <EOS>\n",
      "____________________________________________________________\n",
      "Example 5 CORRECT: A cowboy riding a horse in the desert\n",
      "Example 5 OUTPUT: <SOS> a man in a red shirt is standing on a bench in front of a building . <EOS>\n"
     ]
    },
    {
     "name": "stderr",
     "output_type": "stream",
     "text": [
      "                                               \r"
     ]
    },
    {
     "name": "stdout",
     "output_type": "stream",
     "text": [
      "Epoch: 57\n",
      "Example 1 CORRECT: Dog on a beach by the ocean\n",
      "Example 1 OUTPUT: <SOS> a brown dog is running through the snow . <EOS>\n",
      "____________________________________________________________\n",
      "Example 2 CORRECT: Child holding red frisbee outdoors\n",
      "Example 2 OUTPUT: <SOS> a boy in a blue shirt is standing on a bench in front of a large building . <EOS>\n",
      "____________________________________________________________\n",
      "Example 3 CORRECT: Bus driving by parked cars\n",
      "Example 3 OUTPUT: <SOS> a man in a blue shirt is standing on a bench in front of a building . <EOS>\n",
      "____________________________________________________________\n",
      "Example 4 CORRECT: A small boat in the ocean\n",
      "Example 4 OUTPUT: <SOS> a man in a blue shirt is standing on a bench in front of a large building . <EOS>\n",
      "____________________________________________________________\n",
      "Example 5 CORRECT: A cowboy riding a horse in the desert\n",
      "Example 5 OUTPUT: <SOS> a man in a blue shirt is standing on a bench in front of a building . <EOS>\n"
     ]
    },
    {
     "name": "stderr",
     "output_type": "stream",
     "text": [
      "                                               \r"
     ]
    },
    {
     "name": "stdout",
     "output_type": "stream",
     "text": [
      "Epoch: 58\n",
      "Example 1 CORRECT: Dog on a beach by the ocean\n",
      "Example 1 OUTPUT: <SOS> a brown dog is running through a field . <EOS>\n",
      "____________________________________________________________\n",
      "Example 2 CORRECT: Child holding red frisbee outdoors\n",
      "Example 2 OUTPUT: <SOS> a boy in a red shirt is standing on a bench in front of a building . <EOS>\n",
      "____________________________________________________________\n",
      "Example 3 CORRECT: Bus driving by parked cars\n",
      "Example 3 OUTPUT: <SOS> a man in a blue shirt is standing on a bench in front of a building . <EOS>\n",
      "____________________________________________________________\n",
      "Example 4 CORRECT: A small boat in the ocean\n",
      "Example 4 OUTPUT: <SOS> a man in a red shirt is standing on a bench in front of a building . <EOS>\n",
      "____________________________________________________________\n",
      "Example 5 CORRECT: A cowboy riding a horse in the desert\n",
      "Example 5 OUTPUT: <SOS> a man in a blue shirt is standing on a bench in front of a building . <EOS>\n"
     ]
    },
    {
     "name": "stderr",
     "output_type": "stream",
     "text": [
      "                                               \r"
     ]
    },
    {
     "name": "stdout",
     "output_type": "stream",
     "text": [
      "Epoch: 59\n",
      "Example 1 CORRECT: Dog on a beach by the ocean\n",
      "Example 1 OUTPUT: <SOS> a brown dog is running through the snow . <EOS>\n",
      "____________________________________________________________\n",
      "Example 2 CORRECT: Child holding red frisbee outdoors\n",
      "Example 2 OUTPUT: <SOS> a boy in a blue shirt is jumping over a red slide . <EOS>\n",
      "____________________________________________________________\n",
      "Example 3 CORRECT: Bus driving by parked cars\n",
      "Example 3 OUTPUT: <SOS> a man in a blue shirt is standing on a bench in front of a building . <EOS>\n",
      "____________________________________________________________\n",
      "Example 4 CORRECT: A small boat in the ocean\n",
      "Example 4 OUTPUT: <SOS> a man in a red shirt is standing on a bench . <EOS>\n",
      "____________________________________________________________\n",
      "Example 5 CORRECT: A cowboy riding a horse in the desert\n",
      "Example 5 OUTPUT: <SOS> a man in a blue shirt is standing on a bench in front of a building . <EOS>\n"
     ]
    },
    {
     "name": "stderr",
     "output_type": "stream",
     "text": [
      "                                               \r"
     ]
    },
    {
     "name": "stdout",
     "output_type": "stream",
     "text": [
      "Epoch: 60\n",
      "Example 1 CORRECT: Dog on a beach by the ocean\n",
      "Example 1 OUTPUT: <SOS> a brown dog is running through the grass . <EOS>\n",
      "____________________________________________________________\n",
      "Example 2 CORRECT: Child holding red frisbee outdoors\n",
      "Example 2 OUTPUT: <SOS> a boy in a red shirt is standing on a bench . <EOS>\n",
      "____________________________________________________________\n",
      "Example 3 CORRECT: Bus driving by parked cars\n",
      "Example 3 OUTPUT: <SOS> a man in a blue shirt is standing on a bench . <EOS>\n",
      "____________________________________________________________\n",
      "Example 4 CORRECT: A small boat in the ocean\n",
      "Example 4 OUTPUT: <SOS> a man in a red shirt is standing on a bench . <EOS>\n",
      "____________________________________________________________\n",
      "Example 5 CORRECT: A cowboy riding a horse in the desert\n",
      "Example 5 OUTPUT: <SOS> a man in a blue shirt is standing on a bench . <EOS>\n"
     ]
    },
    {
     "name": "stderr",
     "output_type": "stream",
     "text": [
      "                                               \r"
     ]
    },
    {
     "name": "stdout",
     "output_type": "stream",
     "text": [
      "Epoch: 61\n",
      "Example 1 CORRECT: Dog on a beach by the ocean\n",
      "Example 1 OUTPUT: <SOS> a brown dog is running through the grass . <EOS>\n",
      "____________________________________________________________\n",
      "Example 2 CORRECT: Child holding red frisbee outdoors\n",
      "Example 2 OUTPUT: <SOS> a boy in a red shirt is standing on a beach . <EOS>\n",
      "____________________________________________________________\n",
      "Example 3 CORRECT: Bus driving by parked cars\n",
      "Example 3 OUTPUT: <SOS> a man in a red shirt is standing on a bench . <EOS>\n",
      "____________________________________________________________\n",
      "Example 4 CORRECT: A small boat in the ocean\n",
      "Example 4 OUTPUT: <SOS> a man in a red shirt is standing on a bench . <EOS>\n",
      "____________________________________________________________\n",
      "Example 5 CORRECT: A cowboy riding a horse in the desert\n",
      "Example 5 OUTPUT: <SOS> a man in a red shirt is standing on a bench in front of a building . <EOS>\n"
     ]
    },
    {
     "name": "stderr",
     "output_type": "stream",
     "text": [
      "                                               \r"
     ]
    },
    {
     "name": "stdout",
     "output_type": "stream",
     "text": [
      "Epoch: 62\n",
      "Example 1 CORRECT: Dog on a beach by the ocean\n",
      "Example 1 OUTPUT: <SOS> a brown dog is running through the snow . <EOS>\n",
      "____________________________________________________________\n",
      "Example 2 CORRECT: Child holding red frisbee outdoors\n",
      "Example 2 OUTPUT: <SOS> a boy in a red shirt and a red shirt is standing on a bench . <EOS>\n",
      "____________________________________________________________\n",
      "Example 3 CORRECT: Bus driving by parked cars\n",
      "Example 3 OUTPUT: <SOS> a man in a blue shirt is standing on a bench in front of a building . <EOS>\n",
      "____________________________________________________________\n",
      "Example 4 CORRECT: A small boat in the ocean\n",
      "Example 4 OUTPUT: <SOS> a man in a red shirt is standing on a bench . <EOS>\n",
      "____________________________________________________________\n",
      "Example 5 CORRECT: A cowboy riding a horse in the desert\n",
      "Example 5 OUTPUT: <SOS> a man in a blue shirt is standing on a bench in front of a building . <EOS>\n"
     ]
    },
    {
     "name": "stderr",
     "output_type": "stream",
     "text": [
      "                                               \r"
     ]
    },
    {
     "name": "stdout",
     "output_type": "stream",
     "text": [
      "Epoch: 63\n",
      "Example 1 CORRECT: Dog on a beach by the ocean\n",
      "Example 1 OUTPUT: <SOS> a brown dog is running through the grass . <EOS>\n",
      "____________________________________________________________\n",
      "Example 2 CORRECT: Child holding red frisbee outdoors\n",
      "Example 2 OUTPUT: <SOS> a boy in a red shirt is standing on a bench in front of a building . <EOS>\n",
      "____________________________________________________________\n",
      "Example 3 CORRECT: Bus driving by parked cars\n",
      "Example 3 OUTPUT: <SOS> a man in a red shirt is sitting on a bench in front of a building . <EOS>\n",
      "____________________________________________________________\n",
      "Example 4 CORRECT: A small boat in the ocean\n",
      "Example 4 OUTPUT: <SOS> a man in a red shirt is standing on a bench . <EOS>\n",
      "____________________________________________________________\n",
      "Example 5 CORRECT: A cowboy riding a horse in the desert\n",
      "Example 5 OUTPUT: <SOS> a man in a red shirt is standing on a bench in front of a building . <EOS>\n"
     ]
    },
    {
     "name": "stderr",
     "output_type": "stream",
     "text": [
      "                                               \r"
     ]
    },
    {
     "name": "stdout",
     "output_type": "stream",
     "text": [
      "Epoch: 64\n",
      "Example 1 CORRECT: Dog on a beach by the ocean\n",
      "Example 1 OUTPUT: <SOS> a brown dog is running through the snow . <EOS>\n",
      "____________________________________________________________\n",
      "Example 2 CORRECT: Child holding red frisbee outdoors\n",
      "Example 2 OUTPUT: <SOS> a boy in a blue shirt is jumping on a swing . <EOS>\n",
      "____________________________________________________________\n",
      "Example 3 CORRECT: Bus driving by parked cars\n",
      "Example 3 OUTPUT: <SOS> a man in a blue shirt is sitting on a bench in front of a building . <EOS>\n",
      "____________________________________________________________\n",
      "Example 4 CORRECT: A small boat in the ocean\n",
      "Example 4 OUTPUT: <SOS> a man in a blue shirt is riding a skateboard on a snowy hill . <EOS>\n",
      "____________________________________________________________\n",
      "Example 5 CORRECT: A cowboy riding a horse in the desert\n",
      "Example 5 OUTPUT: <SOS> a man in a blue shirt is sitting on a bench in front of a building . <EOS>\n"
     ]
    },
    {
     "name": "stderr",
     "output_type": "stream",
     "text": [
      "                                               \r"
     ]
    },
    {
     "name": "stdout",
     "output_type": "stream",
     "text": [
      "Epoch: 65\n",
      "Example 1 CORRECT: Dog on a beach by the ocean\n",
      "Example 1 OUTPUT: <SOS> a brown dog is running through the snow . <EOS>\n",
      "____________________________________________________________\n",
      "Example 2 CORRECT: Child holding red frisbee outdoors\n",
      "Example 2 OUTPUT: <SOS> a girl in a blue shirt and a black jacket is standing in front of a building . <EOS>\n",
      "____________________________________________________________\n",
      "Example 3 CORRECT: Bus driving by parked cars\n",
      "Example 3 OUTPUT: <SOS> a man in a black shirt and a black jacket is standing in front of a building . <EOS>\n",
      "____________________________________________________________\n",
      "Example 4 CORRECT: A small boat in the ocean\n",
      "Example 4 OUTPUT: <SOS> a man in a red shirt is standing on a bench in front of a large building . <EOS>\n",
      "____________________________________________________________\n",
      "Example 5 CORRECT: A cowboy riding a horse in the desert\n",
      "Example 5 OUTPUT: <SOS> a man in a black shirt is standing on a bench in front of a building . <EOS>\n"
     ]
    },
    {
     "name": "stderr",
     "output_type": "stream",
     "text": [
      "                                               \r"
     ]
    },
    {
     "name": "stdout",
     "output_type": "stream",
     "text": [
      "Epoch: 66\n",
      "Example 1 CORRECT: Dog on a beach by the ocean\n",
      "Example 1 OUTPUT: <SOS> a brown dog is running through the snow . <EOS>\n",
      "____________________________________________________________\n",
      "Example 2 CORRECT: Child holding red frisbee outdoors\n",
      "Example 2 OUTPUT: <SOS> a boy in a red shirt is standing on a bench in front of a building . <EOS>\n",
      "____________________________________________________________\n",
      "Example 3 CORRECT: Bus driving by parked cars\n",
      "Example 3 OUTPUT: <SOS> a man in a black shirt is sitting on a bench in front of a building . <EOS>\n",
      "____________________________________________________________\n",
      "Example 4 CORRECT: A small boat in the ocean\n",
      "Example 4 OUTPUT: <SOS> a man in a red shirt is riding a skateboard on a skateboard . <EOS>\n",
      "____________________________________________________________\n",
      "Example 5 CORRECT: A cowboy riding a horse in the desert\n",
      "Example 5 OUTPUT: <SOS> a man in a white shirt is sitting on a bench in front of a large building . <EOS>\n"
     ]
    },
    {
     "name": "stderr",
     "output_type": "stream",
     "text": [
      "                                               \r"
     ]
    },
    {
     "name": "stdout",
     "output_type": "stream",
     "text": [
      "Epoch: 67\n",
      "Example 1 CORRECT: Dog on a beach by the ocean\n",
      "Example 1 OUTPUT: <SOS> a brown dog is running through a field . <EOS>\n",
      "____________________________________________________________\n",
      "Example 2 CORRECT: Child holding red frisbee outdoors\n",
      "Example 2 OUTPUT: <SOS> a boy in a red shirt is jumping over a red slide . <EOS>\n",
      "____________________________________________________________\n",
      "Example 3 CORRECT: Bus driving by parked cars\n",
      "Example 3 OUTPUT: <SOS> a man in a blue shirt is standing on a bench in front of a building . <EOS>\n",
      "____________________________________________________________\n",
      "Example 4 CORRECT: A small boat in the ocean\n",
      "Example 4 OUTPUT: <SOS> a man in a red shirt is standing on a bench . <EOS>\n",
      "____________________________________________________________\n",
      "Example 5 CORRECT: A cowboy riding a horse in the desert\n",
      "Example 5 OUTPUT: <SOS> a man in a blue shirt is standing on a bench in front of a building . <EOS>\n"
     ]
    },
    {
     "name": "stderr",
     "output_type": "stream",
     "text": [
      "                                               \r"
     ]
    },
    {
     "name": "stdout",
     "output_type": "stream",
     "text": [
      "Epoch: 68\n",
      "Example 1 CORRECT: Dog on a beach by the ocean\n",
      "Example 1 OUTPUT: <SOS> a brown dog is running through the snow . <EOS>\n",
      "____________________________________________________________\n",
      "Example 2 CORRECT: Child holding red frisbee outdoors\n",
      "Example 2 OUTPUT: <SOS> a boy in a blue shirt is jumping over a red slide . <EOS>\n",
      "____________________________________________________________\n",
      "Example 3 CORRECT: Bus driving by parked cars\n",
      "Example 3 OUTPUT: <SOS> a man in a blue shirt is standing on a bench in front of a building . <EOS>\n",
      "____________________________________________________________\n",
      "Example 4 CORRECT: A small boat in the ocean\n",
      "Example 4 OUTPUT: <SOS> a man in a red shirt is riding a skateboard on a skateboard . <EOS>\n",
      "____________________________________________________________\n",
      "Example 5 CORRECT: A cowboy riding a horse in the desert\n",
      "Example 5 OUTPUT: <SOS> a man in a blue shirt is riding a skateboard on a skateboard . <EOS>\n"
     ]
    },
    {
     "name": "stderr",
     "output_type": "stream",
     "text": [
      "                                               \r"
     ]
    },
    {
     "name": "stdout",
     "output_type": "stream",
     "text": [
      "Epoch: 69\n",
      "Example 1 CORRECT: Dog on a beach by the ocean\n",
      "Example 1 OUTPUT: <SOS> a brown dog is running through a field . <EOS>\n",
      "____________________________________________________________\n",
      "Example 2 CORRECT: Child holding red frisbee outdoors\n",
      "Example 2 OUTPUT: <SOS> a boy in a blue shirt is jumping over a red ball . <EOS>\n",
      "____________________________________________________________\n",
      "Example 3 CORRECT: Bus driving by parked cars\n",
      "Example 3 OUTPUT: <SOS> a man in a blue shirt is standing in front of a building . <EOS>\n",
      "____________________________________________________________\n",
      "Example 4 CORRECT: A small boat in the ocean\n",
      "Example 4 OUTPUT: <SOS> a man in a red shirt is standing on a bench in front of a large building . <EOS>\n",
      "____________________________________________________________\n",
      "Example 5 CORRECT: A cowboy riding a horse in the desert\n",
      "Example 5 OUTPUT: <SOS> a man in a blue shirt is standing in front of a building . <EOS>\n"
     ]
    },
    {
     "name": "stderr",
     "output_type": "stream",
     "text": [
      "                                               \r"
     ]
    },
    {
     "name": "stdout",
     "output_type": "stream",
     "text": [
      "Epoch: 70\n",
      "Example 1 CORRECT: Dog on a beach by the ocean\n",
      "Example 1 OUTPUT: <SOS> a brown dog is running through a field . <EOS>\n",
      "____________________________________________________________\n",
      "Example 2 CORRECT: Child holding red frisbee outdoors\n",
      "Example 2 OUTPUT: <SOS> a girl in a red shirt and a black jacket is standing in front of a building . <EOS>\n",
      "____________________________________________________________\n",
      "Example 3 CORRECT: Bus driving by parked cars\n",
      "Example 3 OUTPUT: <SOS> a man in a black shirt and a black jacket is standing in front of a building . <EOS>\n",
      "____________________________________________________________\n",
      "Example 4 CORRECT: A small boat in the ocean\n",
      "Example 4 OUTPUT: <SOS> a man in a red shirt is standing on a bench . <EOS>\n",
      "____________________________________________________________\n",
      "Example 5 CORRECT: A cowboy riding a horse in the desert\n",
      "Example 5 OUTPUT: <SOS> a man in a black shirt and a black jacket is standing in front of a building . <EOS>\n"
     ]
    },
    {
     "name": "stderr",
     "output_type": "stream",
     "text": [
      "                                               \r"
     ]
    },
    {
     "name": "stdout",
     "output_type": "stream",
     "text": [
      "Epoch: 71\n",
      "Example 1 CORRECT: Dog on a beach by the ocean\n",
      "Example 1 OUTPUT: <SOS> a brown dog is running through the snow . <EOS>\n",
      "____________________________________________________________\n",
      "Example 2 CORRECT: Child holding red frisbee outdoors\n",
      "Example 2 OUTPUT: <SOS> a boy in a red shirt is standing on a bench . <EOS>\n",
      "____________________________________________________________\n",
      "Example 3 CORRECT: Bus driving by parked cars\n",
      "Example 3 OUTPUT: <SOS> a man in a blue shirt is standing on a bench in front of a building . <EOS>\n",
      "____________________________________________________________\n",
      "Example 4 CORRECT: A small boat in the ocean\n",
      "Example 4 OUTPUT: <SOS> a man in a red shirt is standing on a bench . <EOS>\n",
      "____________________________________________________________\n",
      "Example 5 CORRECT: A cowboy riding a horse in the desert\n",
      "Example 5 OUTPUT: <SOS> a man in a blue shirt is standing on a bench in front of a large building . <EOS>\n"
     ]
    },
    {
     "name": "stderr",
     "output_type": "stream",
     "text": [
      "                                               \r"
     ]
    },
    {
     "name": "stdout",
     "output_type": "stream",
     "text": [
      "Epoch: 72\n",
      "Example 1 CORRECT: Dog on a beach by the ocean\n",
      "Example 1 OUTPUT: <SOS> a brown dog is running through a field . <EOS>\n",
      "____________________________________________________________\n",
      "Example 2 CORRECT: Child holding red frisbee outdoors\n",
      "Example 2 OUTPUT: <SOS> a boy in a blue shirt is running through the snow . <EOS>\n",
      "____________________________________________________________\n",
      "Example 3 CORRECT: Bus driving by parked cars\n",
      "Example 3 OUTPUT: <SOS> a man in a black shirt is standing in front of a building . <EOS>\n",
      "____________________________________________________________\n",
      "Example 4 CORRECT: A small boat in the ocean\n",
      "Example 4 OUTPUT: <SOS> a man in a red shirt is standing on a rock in front of a large building . <EOS>\n",
      "____________________________________________________________\n",
      "Example 5 CORRECT: A cowboy riding a horse in the desert\n",
      "Example 5 OUTPUT: <SOS> a man in a black jacket is standing in front of a large building . <EOS>\n"
     ]
    },
    {
     "name": "stderr",
     "output_type": "stream",
     "text": [
      "                                               \r"
     ]
    },
    {
     "name": "stdout",
     "output_type": "stream",
     "text": [
      "Epoch: 73\n",
      "Example 1 CORRECT: Dog on a beach by the ocean\n",
      "Example 1 OUTPUT: <SOS> a brown dog is running through the grass . <EOS>\n",
      "____________________________________________________________\n",
      "Example 2 CORRECT: Child holding red frisbee outdoors\n",
      "Example 2 OUTPUT: <SOS> a boy in a blue shirt is jumping over a red and white dog . <EOS>\n",
      "____________________________________________________________\n",
      "Example 3 CORRECT: Bus driving by parked cars\n",
      "Example 3 OUTPUT: <SOS> a man in a black shirt and a black jacket is standing in front of a building . <EOS>\n",
      "____________________________________________________________\n",
      "Example 4 CORRECT: A small boat in the ocean\n",
      "Example 4 OUTPUT: <SOS> a man in a red shirt is standing on a bench . <EOS>\n",
      "____________________________________________________________\n",
      "Example 5 CORRECT: A cowboy riding a horse in the desert\n",
      "Example 5 OUTPUT: <SOS> a man in a black shirt and a black jacket is standing in front of a building . <EOS>\n"
     ]
    },
    {
     "name": "stderr",
     "output_type": "stream",
     "text": [
      "                                               \r"
     ]
    },
    {
     "name": "stdout",
     "output_type": "stream",
     "text": [
      "Epoch: 74\n",
      "Example 1 CORRECT: Dog on a beach by the ocean\n",
      "Example 1 OUTPUT: <SOS> a brown dog is running through a field . <EOS>\n",
      "____________________________________________________________\n",
      "Example 2 CORRECT: Child holding red frisbee outdoors\n",
      "Example 2 OUTPUT: <SOS> a boy in a red shirt is playing with a ball in the snow . <EOS>\n",
      "____________________________________________________________\n",
      "Example 3 CORRECT: Bus driving by parked cars\n",
      "Example 3 OUTPUT: <SOS> a man in a black shirt and a black jacket is standing in front of a building . <EOS>\n",
      "____________________________________________________________\n",
      "Example 4 CORRECT: A small boat in the ocean\n",
      "Example 4 OUTPUT: <SOS> a man in a red shirt is standing on a rock in front of a large fence . <EOS>\n",
      "____________________________________________________________\n",
      "Example 5 CORRECT: A cowboy riding a horse in the desert\n",
      "Example 5 OUTPUT: <SOS> a man in a black shirt and a black jacket is standing in front of a large building . <EOS>\n"
     ]
    },
    {
     "name": "stderr",
     "output_type": "stream",
     "text": [
      "                                               \r"
     ]
    },
    {
     "name": "stdout",
     "output_type": "stream",
     "text": [
      "Epoch: 75\n",
      "Example 1 CORRECT: Dog on a beach by the ocean\n",
      "Example 1 OUTPUT: <SOS> a brown dog is running through the grass . <EOS>\n",
      "____________________________________________________________\n",
      "Example 2 CORRECT: Child holding red frisbee outdoors\n",
      "Example 2 OUTPUT: <SOS> a girl in a blue shirt and a black jacket is standing in front of a building . <EOS>\n",
      "____________________________________________________________\n",
      "Example 3 CORRECT: Bus driving by parked cars\n",
      "Example 3 OUTPUT: <SOS> a man in a black shirt is sitting on a bench in front of a building . <EOS>\n",
      "____________________________________________________________\n",
      "Example 4 CORRECT: A small boat in the ocean\n",
      "Example 4 OUTPUT: <SOS> a man in a black shirt is standing on a bench in front of a large building . <EOS>\n",
      "____________________________________________________________\n",
      "Example 5 CORRECT: A cowboy riding a horse in the desert\n",
      "Example 5 OUTPUT: <SOS> a man in a black shirt is sitting on a bench in front of a building . <EOS>\n"
     ]
    },
    {
     "name": "stderr",
     "output_type": "stream",
     "text": [
      "                                               \r"
     ]
    },
    {
     "name": "stdout",
     "output_type": "stream",
     "text": [
      "Epoch: 76\n",
      "Example 1 CORRECT: Dog on a beach by the ocean\n",
      "Example 1 OUTPUT: <SOS> a brown dog is running through the snow . <EOS>\n",
      "____________________________________________________________\n",
      "Example 2 CORRECT: Child holding red frisbee outdoors\n",
      "Example 2 OUTPUT: <SOS> a boy in a red shirt is playing with a ball in the snow . <EOS>\n",
      "____________________________________________________________\n",
      "Example 3 CORRECT: Bus driving by parked cars\n",
      "Example 3 OUTPUT: <SOS> a man in a black shirt and a black jacket is standing in front of a building . <EOS>\n",
      "____________________________________________________________\n",
      "Example 4 CORRECT: A small boat in the ocean\n",
      "Example 4 OUTPUT: <SOS> a man in a red shirt is standing on a bench . <EOS>\n",
      "____________________________________________________________\n",
      "Example 5 CORRECT: A cowboy riding a horse in the desert\n",
      "Example 5 OUTPUT: <SOS> a man in a black shirt is sitting on a bench in front of a large building . <EOS>\n"
     ]
    },
    {
     "name": "stderr",
     "output_type": "stream",
     "text": [
      "                                               \r"
     ]
    },
    {
     "name": "stdout",
     "output_type": "stream",
     "text": [
      "Epoch: 77\n",
      "Example 1 CORRECT: Dog on a beach by the ocean\n",
      "Example 1 OUTPUT: <SOS> a brown dog is running through the grass . <EOS>\n",
      "____________________________________________________________\n",
      "Example 2 CORRECT: Child holding red frisbee outdoors\n",
      "Example 2 OUTPUT: <SOS> a girl in a blue shirt and a black jacket are playing in the water . <EOS>\n",
      "____________________________________________________________\n",
      "Example 3 CORRECT: Bus driving by parked cars\n",
      "Example 3 OUTPUT: <SOS> a man in a black shirt and a black jacket is standing in front of a building . <EOS>\n",
      "____________________________________________________________\n",
      "Example 4 CORRECT: A small boat in the ocean\n",
      "Example 4 OUTPUT: <SOS> a man in a blue shirt is riding a bike . <EOS>\n",
      "____________________________________________________________\n",
      "Example 5 CORRECT: A cowboy riding a horse in the desert\n",
      "Example 5 OUTPUT: <SOS> a man in a black jacket is standing on a bench in front of a large building . <EOS>\n"
     ]
    },
    {
     "name": "stderr",
     "output_type": "stream",
     "text": [
      "                                               \r"
     ]
    },
    {
     "name": "stdout",
     "output_type": "stream",
     "text": [
      "Epoch: 78\n",
      "Example 1 CORRECT: Dog on a beach by the ocean\n",
      "Example 1 OUTPUT: <SOS> a brown dog is running through the snow . <EOS>\n",
      "____________________________________________________________\n",
      "Example 2 CORRECT: Child holding red frisbee outdoors\n",
      "Example 2 OUTPUT: <SOS> a boy in a blue shirt is playing with a ball in the snow . <EOS>\n",
      "____________________________________________________________\n",
      "Example 3 CORRECT: Bus driving by parked cars\n",
      "Example 3 OUTPUT: <SOS> a man in a blue shirt is standing in front of a building . <EOS>\n",
      "____________________________________________________________\n",
      "Example 4 CORRECT: A small boat in the ocean\n",
      "Example 4 OUTPUT: <SOS> a man in a blue shirt is standing on a rock in front of a large fence . <EOS>\n",
      "____________________________________________________________\n",
      "Example 5 CORRECT: A cowboy riding a horse in the desert\n",
      "Example 5 OUTPUT: <SOS> a man in a black jacket is standing in front of a building . <EOS>\n"
     ]
    },
    {
     "name": "stderr",
     "output_type": "stream",
     "text": [
      "                                               \r"
     ]
    },
    {
     "name": "stdout",
     "output_type": "stream",
     "text": [
      "Epoch: 79\n",
      "Example 1 CORRECT: Dog on a beach by the ocean\n",
      "Example 1 OUTPUT: <SOS> a brown dog is running through the snow . <EOS>\n",
      "____________________________________________________________\n",
      "Example 2 CORRECT: Child holding red frisbee outdoors\n",
      "Example 2 OUTPUT: <SOS> a boy in a blue shirt is jumping into the air . <EOS>\n",
      "____________________________________________________________\n",
      "Example 3 CORRECT: Bus driving by parked cars\n",
      "Example 3 OUTPUT: <SOS> a man in a blue shirt is sitting on a bench in front of a building . <EOS>\n",
      "____________________________________________________________\n",
      "Example 4 CORRECT: A small boat in the ocean\n",
      "Example 4 OUTPUT: <SOS> a man in a blue shirt is riding a bike through the snow . <EOS>\n",
      "____________________________________________________________\n",
      "Example 5 CORRECT: A cowboy riding a horse in the desert\n",
      "Example 5 OUTPUT: <SOS> a man in a black jacket is standing on a bench in front of a large building . <EOS>\n"
     ]
    },
    {
     "name": "stderr",
     "output_type": "stream",
     "text": [
      "                                               \r"
     ]
    },
    {
     "name": "stdout",
     "output_type": "stream",
     "text": [
      "Epoch: 80\n",
      "Example 1 CORRECT: Dog on a beach by the ocean\n",
      "Example 1 OUTPUT: <SOS> a brown dog is running through the snow . <EOS>\n",
      "____________________________________________________________\n",
      "Example 2 CORRECT: Child holding red frisbee outdoors\n",
      "Example 2 OUTPUT: <SOS> a boy in a red shirt is playing with a ball in the snow . <EOS>\n",
      "____________________________________________________________\n",
      "Example 3 CORRECT: Bus driving by parked cars\n",
      "Example 3 OUTPUT: <SOS> a man in a black shirt is sitting on a bench in front of a building . <EOS>\n",
      "____________________________________________________________\n",
      "Example 4 CORRECT: A small boat in the ocean\n",
      "Example 4 OUTPUT: <SOS> a man in a red shirt is standing on a rock in front of a large fence . <EOS>\n",
      "____________________________________________________________\n",
      "Example 5 CORRECT: A cowboy riding a horse in the desert\n",
      "Example 5 OUTPUT: <SOS> a man in a black jacket is standing on a bench with a <UNK> in the background . <EOS>\n"
     ]
    },
    {
     "name": "stderr",
     "output_type": "stream",
     "text": [
      "                                               \r"
     ]
    },
    {
     "name": "stdout",
     "output_type": "stream",
     "text": [
      "Epoch: 81\n",
      "Example 1 CORRECT: Dog on a beach by the ocean\n",
      "Example 1 OUTPUT: <SOS> a brown dog is running through the snow . <EOS>\n",
      "____________________________________________________________\n",
      "Example 2 CORRECT: Child holding red frisbee outdoors\n",
      "Example 2 OUTPUT: <SOS> a boy in a blue shirt is running through a field . <EOS>\n",
      "____________________________________________________________\n",
      "Example 3 CORRECT: Bus driving by parked cars\n",
      "Example 3 OUTPUT: <SOS> a man in a black shirt is sitting on a bench in front of a building . <EOS>\n",
      "____________________________________________________________\n",
      "Example 4 CORRECT: A small boat in the ocean\n",
      "Example 4 OUTPUT: <SOS> a man in a blue shirt is standing on a rock in front of a large tree . <EOS>\n",
      "____________________________________________________________\n",
      "Example 5 CORRECT: A cowboy riding a horse in the desert\n",
      "Example 5 OUTPUT: <SOS> a man in a black shirt is standing on a bench in front of a large building . <EOS>\n"
     ]
    },
    {
     "name": "stderr",
     "output_type": "stream",
     "text": [
      "                                               \r"
     ]
    },
    {
     "name": "stdout",
     "output_type": "stream",
     "text": [
      "Epoch: 82\n",
      "Example 1 CORRECT: Dog on a beach by the ocean\n",
      "Example 1 OUTPUT: <SOS> a brown dog is running through the snow . <EOS>\n",
      "____________________________________________________________\n",
      "Example 2 CORRECT: Child holding red frisbee outdoors\n",
      "Example 2 OUTPUT: <SOS> a boy in a blue shirt is playing with a ball in the snow . <EOS>\n",
      "____________________________________________________________\n",
      "Example 3 CORRECT: Bus driving by parked cars\n",
      "Example 3 OUTPUT: <SOS> a man in a blue shirt is sitting on a bench in front of a building . <EOS>\n",
      "____________________________________________________________\n",
      "Example 4 CORRECT: A small boat in the ocean\n",
      "Example 4 OUTPUT: <SOS> a man in a blue shirt is standing on a rock in front of a large fence . <EOS>\n",
      "____________________________________________________________\n",
      "Example 5 CORRECT: A cowboy riding a horse in the desert\n",
      "Example 5 OUTPUT: <SOS> a man in a black shirt is sitting on a bench in front of a large building . <EOS>\n"
     ]
    },
    {
     "name": "stderr",
     "output_type": "stream",
     "text": [
      "                                               \r"
     ]
    },
    {
     "name": "stdout",
     "output_type": "stream",
     "text": [
      "Epoch: 83\n",
      "Example 1 CORRECT: Dog on a beach by the ocean\n",
      "Example 1 OUTPUT: <SOS> a brown dog is running through the snow . <EOS>\n",
      "____________________________________________________________\n",
      "Example 2 CORRECT: Child holding red frisbee outdoors\n",
      "Example 2 OUTPUT: <SOS> a boy in a blue shirt is jumping into the air . <EOS>\n",
      "____________________________________________________________\n",
      "Example 3 CORRECT: Bus driving by parked cars\n",
      "Example 3 OUTPUT: <SOS> a man in a black shirt and a black jacket is standing in front of a building . <EOS>\n",
      "____________________________________________________________\n",
      "Example 4 CORRECT: A small boat in the ocean\n",
      "Example 4 OUTPUT: <SOS> a man in a black jacket is standing on a rock in front of a large fence . <EOS>\n",
      "____________________________________________________________\n",
      "Example 5 CORRECT: A cowboy riding a horse in the desert\n",
      "Example 5 OUTPUT: <SOS> a man in a black jacket is standing in front of a large building . <EOS>\n"
     ]
    },
    {
     "name": "stderr",
     "output_type": "stream",
     "text": [
      "                                               \r"
     ]
    },
    {
     "name": "stdout",
     "output_type": "stream",
     "text": [
      "Epoch: 84\n",
      "Example 1 CORRECT: Dog on a beach by the ocean\n",
      "Example 1 OUTPUT: <SOS> a brown dog is running through the snow . <EOS>\n",
      "____________________________________________________________\n",
      "Example 2 CORRECT: Child holding red frisbee outdoors\n",
      "Example 2 OUTPUT: <SOS> a boy in a blue shirt is jumping into the air . <EOS>\n",
      "____________________________________________________________\n",
      "Example 3 CORRECT: Bus driving by parked cars\n",
      "Example 3 OUTPUT: <SOS> a man in a black shirt is sitting on a bench in front of a building . <EOS>\n",
      "____________________________________________________________\n",
      "Example 4 CORRECT: A small boat in the ocean\n",
      "Example 4 OUTPUT: <SOS> a man in a black jacket is standing on a rock in front of a large fence . <EOS>\n",
      "____________________________________________________________\n",
      "Example 5 CORRECT: A cowboy riding a horse in the desert\n",
      "Example 5 OUTPUT: <SOS> a man in a black jacket is standing on a rock in front of a large building . <EOS>\n"
     ]
    },
    {
     "name": "stderr",
     "output_type": "stream",
     "text": [
      "                                               \r"
     ]
    },
    {
     "name": "stdout",
     "output_type": "stream",
     "text": [
      "Epoch: 85\n",
      "Example 1 CORRECT: Dog on a beach by the ocean\n",
      "Example 1 OUTPUT: <SOS> a brown dog is running through the snow . <EOS>\n",
      "____________________________________________________________\n",
      "Example 2 CORRECT: Child holding red frisbee outdoors\n",
      "Example 2 OUTPUT: <SOS> a boy in a blue shirt is jumping over a hurdle . <EOS>\n",
      "____________________________________________________________\n",
      "Example 3 CORRECT: Bus driving by parked cars\n",
      "Example 3 OUTPUT: <SOS> a man in a black shirt is sitting on a bench in front of a building . <EOS>\n",
      "____________________________________________________________\n",
      "Example 4 CORRECT: A small boat in the ocean\n",
      "Example 4 OUTPUT: <SOS> a man in a black jacket is standing on a rock in the snow . <EOS>\n",
      "____________________________________________________________\n",
      "Example 5 CORRECT: A cowboy riding a horse in the desert\n",
      "Example 5 OUTPUT: <SOS> a man in a black jacket is standing on a rock in front of a large building . <EOS>\n"
     ]
    },
    {
     "name": "stderr",
     "output_type": "stream",
     "text": [
      "                                               \r"
     ]
    },
    {
     "name": "stdout",
     "output_type": "stream",
     "text": [
      "Epoch: 86\n",
      "Example 1 CORRECT: Dog on a beach by the ocean\n",
      "Example 1 OUTPUT: <SOS> a brown dog is running through the snow . <EOS>\n",
      "____________________________________________________________\n",
      "Example 2 CORRECT: Child holding red frisbee outdoors\n",
      "Example 2 OUTPUT: <SOS> a boy in a blue shirt is jumping over a red slide . <EOS>\n",
      "____________________________________________________________\n",
      "Example 3 CORRECT: Bus driving by parked cars\n",
      "Example 3 OUTPUT: <SOS> a man in a black shirt and a black jacket is standing in front of a building . <EOS>\n",
      "____________________________________________________________\n",
      "Example 4 CORRECT: A small boat in the ocean\n",
      "Example 4 OUTPUT: <SOS> a man in a blue shirt is standing on a rock in front of a large fence . <EOS>\n",
      "____________________________________________________________\n",
      "Example 5 CORRECT: A cowboy riding a horse in the desert\n",
      "Example 5 OUTPUT: <SOS> a man in a black jacket is standing in front of a large building . <EOS>\n"
     ]
    },
    {
     "name": "stderr",
     "output_type": "stream",
     "text": [
      "                                               \r"
     ]
    },
    {
     "name": "stdout",
     "output_type": "stream",
     "text": [
      "Epoch: 87\n",
      "Example 1 CORRECT: Dog on a beach by the ocean\n",
      "Example 1 OUTPUT: <SOS> a brown dog is running through the snow . <EOS>\n",
      "____________________________________________________________\n",
      "Example 2 CORRECT: Child holding red frisbee outdoors\n",
      "Example 2 OUTPUT: <SOS> a boy in a blue shirt is jumping into the air . <EOS>\n",
      "____________________________________________________________\n",
      "Example 3 CORRECT: Bus driving by parked cars\n",
      "Example 3 OUTPUT: <SOS> a man in a black shirt is standing in front of a building . <EOS>\n",
      "____________________________________________________________\n",
      "Example 4 CORRECT: A small boat in the ocean\n",
      "Example 4 OUTPUT: <SOS> a man in a black shirt is standing on a rock in front of a large fence . <EOS>\n",
      "____________________________________________________________\n",
      "Example 5 CORRECT: A cowboy riding a horse in the desert\n",
      "Example 5 OUTPUT: <SOS> a man in a black shirt is standing on a bench in front of a large building . <EOS>\n"
     ]
    },
    {
     "name": "stderr",
     "output_type": "stream",
     "text": [
      "                                               \r"
     ]
    },
    {
     "name": "stdout",
     "output_type": "stream",
     "text": [
      "Epoch: 88\n",
      "Example 1 CORRECT: Dog on a beach by the ocean\n",
      "Example 1 OUTPUT: <SOS> a brown dog is running through the snow . <EOS>\n",
      "____________________________________________________________\n",
      "Example 2 CORRECT: Child holding red frisbee outdoors\n",
      "Example 2 OUTPUT: <SOS> a boy in a blue shirt is jumping into the air . <EOS>\n",
      "____________________________________________________________\n",
      "Example 3 CORRECT: Bus driving by parked cars\n",
      "Example 3 OUTPUT: <SOS> a man in a black jacket is standing in front of a building . <EOS>\n",
      "____________________________________________________________\n",
      "Example 4 CORRECT: A small boat in the ocean\n",
      "Example 4 OUTPUT: <SOS> a man in a black jacket is standing on a rock in front of a large building . <EOS>\n",
      "____________________________________________________________\n",
      "Example 5 CORRECT: A cowboy riding a horse in the desert\n",
      "Example 5 OUTPUT: <SOS> a group of people are standing in a <UNK> . <EOS>\n"
     ]
    },
    {
     "name": "stderr",
     "output_type": "stream",
     "text": [
      "                                               \r"
     ]
    },
    {
     "name": "stdout",
     "output_type": "stream",
     "text": [
      "Epoch: 89\n",
      "Example 1 CORRECT: Dog on a beach by the ocean\n",
      "Example 1 OUTPUT: <SOS> a brown dog is running through the snow . <EOS>\n",
      "____________________________________________________________\n",
      "Example 2 CORRECT: Child holding red frisbee outdoors\n",
      "Example 2 OUTPUT: <SOS> a boy in a blue shirt is playing with a ball in the water . <EOS>\n",
      "____________________________________________________________\n",
      "Example 3 CORRECT: Bus driving by parked cars\n",
      "Example 3 OUTPUT: <SOS> a man in a black jacket is standing in front of a building . <EOS>\n",
      "____________________________________________________________\n",
      "Example 4 CORRECT: A small boat in the ocean\n",
      "Example 4 OUTPUT: <SOS> a man in a black jacket is standing on a rock in front of a large building . <EOS>\n",
      "____________________________________________________________\n",
      "Example 5 CORRECT: A cowboy riding a horse in the desert\n",
      "Example 5 OUTPUT: <SOS> a man in a black jacket is standing on a bench in front of a large building . <EOS>\n"
     ]
    },
    {
     "name": "stderr",
     "output_type": "stream",
     "text": [
      "                                               \r"
     ]
    },
    {
     "name": "stdout",
     "output_type": "stream",
     "text": [
      "Epoch: 90\n",
      "Example 1 CORRECT: Dog on a beach by the ocean\n",
      "Example 1 OUTPUT: <SOS> a brown dog is running through the snow . <EOS>\n",
      "____________________________________________________________\n",
      "Example 2 CORRECT: Child holding red frisbee outdoors\n",
      "Example 2 OUTPUT: <SOS> a boy in a blue shirt is jumping over a hurdle . <EOS>\n",
      "____________________________________________________________\n",
      "Example 3 CORRECT: Bus driving by parked cars\n",
      "Example 3 OUTPUT: <SOS> a man in a black jacket is standing in front of a building . <EOS>\n",
      "____________________________________________________________\n",
      "Example 4 CORRECT: A small boat in the ocean\n",
      "Example 4 OUTPUT: <SOS> a man in a red jacket is standing on a rock in front of a large fence . <EOS>\n",
      "____________________________________________________________\n",
      "Example 5 CORRECT: A cowboy riding a horse in the desert\n",
      "Example 5 OUTPUT: <SOS> a man in a black jacket is standing on a rock in front of a large building . <EOS>\n"
     ]
    },
    {
     "name": "stderr",
     "output_type": "stream",
     "text": [
      "                                               \r"
     ]
    },
    {
     "name": "stdout",
     "output_type": "stream",
     "text": [
      "Epoch: 91\n",
      "Example 1 CORRECT: Dog on a beach by the ocean\n",
      "Example 1 OUTPUT: <SOS> a brown dog is running through the snow . <EOS>\n",
      "____________________________________________________________\n",
      "Example 2 CORRECT: Child holding red frisbee outdoors\n",
      "Example 2 OUTPUT: <SOS> a boy in a red shirt is playing with a ball in the snow . <EOS>\n",
      "____________________________________________________________\n",
      "Example 3 CORRECT: Bus driving by parked cars\n",
      "Example 3 OUTPUT: <SOS> a man in a black shirt and a black hat is standing in front of a building . <EOS>\n",
      "____________________________________________________________\n",
      "Example 4 CORRECT: A small boat in the ocean\n",
      "Example 4 OUTPUT: <SOS> a man in a black jacket is standing on a rock in front of a large waterfall . <EOS>\n",
      "____________________________________________________________\n",
      "Example 5 CORRECT: A cowboy riding a horse in the desert\n",
      "Example 5 OUTPUT: <SOS> a man in a black jacket is standing in front of a large building . <EOS>\n"
     ]
    },
    {
     "name": "stderr",
     "output_type": "stream",
     "text": [
      "                                               \r"
     ]
    },
    {
     "name": "stdout",
     "output_type": "stream",
     "text": [
      "Epoch: 92\n",
      "Example 1 CORRECT: Dog on a beach by the ocean\n",
      "Example 1 OUTPUT: <SOS> a brown dog is running through the snow . <EOS>\n",
      "____________________________________________________________\n",
      "Example 2 CORRECT: Child holding red frisbee outdoors\n",
      "Example 2 OUTPUT: <SOS> a boy in a blue shirt is playing with a ball in a field . <EOS>\n",
      "____________________________________________________________\n",
      "Example 3 CORRECT: Bus driving by parked cars\n",
      "Example 3 OUTPUT: <SOS> a man in a black shirt and a black jacket is standing in front of a building . <EOS>\n",
      "____________________________________________________________\n",
      "Example 4 CORRECT: A small boat in the ocean\n",
      "Example 4 OUTPUT: <SOS> a man in a black jacket is standing on a rock in front of a large waterfall . <EOS>\n",
      "____________________________________________________________\n",
      "Example 5 CORRECT: A cowboy riding a horse in the desert\n",
      "Example 5 OUTPUT: <SOS> a man in a black jacket is standing in front of a large building . <EOS>\n"
     ]
    },
    {
     "name": "stderr",
     "output_type": "stream",
     "text": [
      "                                               \r"
     ]
    },
    {
     "name": "stdout",
     "output_type": "stream",
     "text": [
      "Epoch: 93\n",
      "Example 1 CORRECT: Dog on a beach by the ocean\n",
      "Example 1 OUTPUT: <SOS> a brown dog is running through the snow . <EOS>\n",
      "____________________________________________________________\n",
      "Example 2 CORRECT: Child holding red frisbee outdoors\n",
      "Example 2 OUTPUT: <SOS> a boy in a blue shirt is playing with a ball in the snow . <EOS>\n",
      "____________________________________________________________\n",
      "Example 3 CORRECT: Bus driving by parked cars\n",
      "Example 3 OUTPUT: <SOS> a man in a black jacket is standing in front of a building . <EOS>\n",
      "____________________________________________________________\n",
      "Example 4 CORRECT: A small boat in the ocean\n",
      "Example 4 OUTPUT: <SOS> a man in a black jacket is standing on top of a mountain . <EOS>\n",
      "____________________________________________________________\n",
      "Example 5 CORRECT: A cowboy riding a horse in the desert\n",
      "Example 5 OUTPUT: <SOS> a man in a black jacket is standing in front of a large building . <EOS>\n"
     ]
    },
    {
     "name": "stderr",
     "output_type": "stream",
     "text": [
      "                                               \r"
     ]
    },
    {
     "name": "stdout",
     "output_type": "stream",
     "text": [
      "Epoch: 94\n",
      "Example 1 CORRECT: Dog on a beach by the ocean\n",
      "Example 1 OUTPUT: <SOS> a brown dog is running through the snow . <EOS>\n",
      "____________________________________________________________\n",
      "Example 2 CORRECT: Child holding red frisbee outdoors\n",
      "Example 2 OUTPUT: <SOS> a boy in a blue shirt is playing with a ball in the snow . <EOS>\n",
      "____________________________________________________________\n",
      "Example 3 CORRECT: Bus driving by parked cars\n",
      "Example 3 OUTPUT: <SOS> a man in a black shirt and white pants is standing in front of a building . <EOS>\n",
      "____________________________________________________________\n",
      "Example 4 CORRECT: A small boat in the ocean\n",
      "Example 4 OUTPUT: <SOS> a man in a black jacket is standing on top of a mountain with a yellow blanket . <EOS>\n",
      "____________________________________________________________\n",
      "Example 5 CORRECT: A cowboy riding a horse in the desert\n",
      "Example 5 OUTPUT: <SOS> a group of people are standing in a <UNK> <UNK> . <EOS>\n"
     ]
    },
    {
     "name": "stderr",
     "output_type": "stream",
     "text": [
      "                                               \r"
     ]
    },
    {
     "name": "stdout",
     "output_type": "stream",
     "text": [
      "Epoch: 95\n",
      "Example 1 CORRECT: Dog on a beach by the ocean\n",
      "Example 1 OUTPUT: <SOS> a brown dog is running through the snow . <EOS>\n",
      "____________________________________________________________\n",
      "Example 2 CORRECT: Child holding red frisbee outdoors\n",
      "Example 2 OUTPUT: <SOS> a boy in a blue shirt is playing with a ball in a field of water . <EOS>\n",
      "____________________________________________________________\n",
      "Example 3 CORRECT: Bus driving by parked cars\n",
      "Example 3 OUTPUT: <SOS> a man in a black shirt is sitting on a bench in front of a building . <EOS>\n",
      "____________________________________________________________\n",
      "Example 4 CORRECT: A small boat in the ocean\n",
      "Example 4 OUTPUT: <SOS> a man in a black jacket is surfing . <EOS>\n",
      "____________________________________________________________\n",
      "Example 5 CORRECT: A cowboy riding a horse in the desert\n",
      "Example 5 OUTPUT: <SOS> a man in a black jacket is standing on a rock in front of a large building . <EOS>\n"
     ]
    },
    {
     "name": "stderr",
     "output_type": "stream",
     "text": [
      "                                               \r"
     ]
    },
    {
     "name": "stdout",
     "output_type": "stream",
     "text": [
      "Epoch: 96\n",
      "Example 1 CORRECT: Dog on a beach by the ocean\n",
      "Example 1 OUTPUT: <SOS> a brown dog is running through the snow . <EOS>\n",
      "____________________________________________________________\n",
      "Example 2 CORRECT: Child holding red frisbee outdoors\n",
      "Example 2 OUTPUT: <SOS> a boy in a blue shirt is playing with a ball in a field of water . <EOS>\n",
      "____________________________________________________________\n",
      "Example 3 CORRECT: Bus driving by parked cars\n",
      "Example 3 OUTPUT: <SOS> a man in a blue shirt is sitting on a bench in front of a building . <EOS>\n",
      "____________________________________________________________\n",
      "Example 4 CORRECT: A small boat in the ocean\n",
      "Example 4 OUTPUT: <SOS> a man in a black jacket is standing on a rock in front of a large rock . <EOS>\n",
      "____________________________________________________________\n",
      "Example 5 CORRECT: A cowboy riding a horse in the desert\n",
      "Example 5 OUTPUT: <SOS> a man in a black jacket is standing on a rock in front of a large building . <EOS>\n"
     ]
    },
    {
     "name": "stderr",
     "output_type": "stream",
     "text": [
      "                                               \r"
     ]
    },
    {
     "name": "stdout",
     "output_type": "stream",
     "text": [
      "Epoch: 97\n",
      "Example 1 CORRECT: Dog on a beach by the ocean\n",
      "Example 1 OUTPUT: <SOS> a brown dog is running through the snow . <EOS>\n",
      "____________________________________________________________\n",
      "Example 2 CORRECT: Child holding red frisbee outdoors\n",
      "Example 2 OUTPUT: <SOS> a boy in a blue shirt is playing with a ball in a field of leaves . <EOS>\n",
      "____________________________________________________________\n",
      "Example 3 CORRECT: Bus driving by parked cars\n",
      "Example 3 OUTPUT: <SOS> a man in a black shirt is sitting on a bench in front of a building . <EOS>\n",
      "____________________________________________________________\n",
      "Example 4 CORRECT: A small boat in the ocean\n",
      "Example 4 OUTPUT: <SOS> a man in a black jacket is standing on a rock in front of a large waterfall . <EOS>\n",
      "____________________________________________________________\n",
      "Example 5 CORRECT: A cowboy riding a horse in the desert\n",
      "Example 5 OUTPUT: <SOS> a man in a black jacket is standing in front of a large rock formation . <EOS>\n"
     ]
    },
    {
     "name": "stderr",
     "output_type": "stream",
     "text": [
      "                                               \r"
     ]
    },
    {
     "name": "stdout",
     "output_type": "stream",
     "text": [
      "Epoch: 98\n",
      "Example 1 CORRECT: Dog on a beach by the ocean\n",
      "Example 1 OUTPUT: <SOS> a brown dog is running through the snow . <EOS>\n",
      "____________________________________________________________\n",
      "Example 2 CORRECT: Child holding red frisbee outdoors\n",
      "Example 2 OUTPUT: <SOS> a boy in a red shirt is playing with a ball in a field . <EOS>\n",
      "____________________________________________________________\n",
      "Example 3 CORRECT: Bus driving by parked cars\n",
      "Example 3 OUTPUT: <SOS> a man in a white shirt and a black jacket is standing in front of a building . <EOS>\n",
      "____________________________________________________________\n",
      "Example 4 CORRECT: A small boat in the ocean\n",
      "Example 4 OUTPUT: <SOS> a man in a red jacket is standing on a rock in front of a large waterfall . <EOS>\n",
      "____________________________________________________________\n",
      "Example 5 CORRECT: A cowboy riding a horse in the desert\n",
      "Example 5 OUTPUT: <SOS> a man in a black jacket is standing in front of a large rock formation . <EOS>\n"
     ]
    },
    {
     "name": "stderr",
     "output_type": "stream",
     "text": [
      "                                               \r"
     ]
    },
    {
     "name": "stdout",
     "output_type": "stream",
     "text": [
      "Epoch: 99\n",
      "Example 1 CORRECT: Dog on a beach by the ocean\n",
      "Example 1 OUTPUT: <SOS> a brown dog is running through the snow . <EOS>\n",
      "____________________________________________________________\n",
      "Example 2 CORRECT: Child holding red frisbee outdoors\n",
      "Example 2 OUTPUT: <SOS> a boy in a red shirt is playing with a ball in a field of leaves . <EOS>\n",
      "____________________________________________________________\n",
      "Example 3 CORRECT: Bus driving by parked cars\n",
      "Example 3 OUTPUT: <SOS> a man in a black shirt is sitting on a bench in front of a building . <EOS>\n",
      "____________________________________________________________\n",
      "Example 4 CORRECT: A small boat in the ocean\n",
      "Example 4 OUTPUT: <SOS> a man in a black jacket is standing on a rock in the snow . <EOS>\n",
      "____________________________________________________________\n",
      "Example 5 CORRECT: A cowboy riding a horse in the desert\n",
      "Example 5 OUTPUT: <SOS> a man in a black jacket is standing in front of a large rock formation . <EOS>\n"
     ]
    },
    {
     "name": "stderr",
     "output_type": "stream",
     "text": [
      "                                               \r"
     ]
    }
   ],
   "source": [
    "model.train()\n",
    "\n",
    "for epoch in range(100):\n",
    "    print(f\"Epoch: {epoch}\")\n",
    "    # Uncomment the line below to see a couple of test cases\n",
    "    print_examples(model, device, dataset)\n",
    "\n",
    "\n",
    "    for idx, (imgs, captions) in tqdm(\n",
    "        enumerate(train_loader), total=len(train_loader), leave=False\n",
    "    ):\n",
    "        imgs = imgs.to(device)\n",
    "        captions = captions.to(device)\n",
    "\n",
    "        outputs = model(imgs, captions[:-1])\n",
    "        loss = criterion(\n",
    "            outputs.reshape(-1, outputs.shape[2]), captions.reshape(-1)\n",
    "        )\n",
    "        step += 1\n",
    "\n",
    "        optimizer.zero_grad()\n",
    "        loss.backward(loss)\n",
    "        optimizer.step()"
   ]
  },
  {
   "cell_type": "code",
   "execution_count": 93,
   "metadata": {},
   "outputs": [
    {
     "name": "stdout",
     "output_type": "stream",
     "text": [
      "2.1679272651672363\n"
     ]
    }
   ],
   "source": [
    "print(loss.item())"
   ]
  }
 ],
 "metadata": {
  "kernelspec": {
   "display_name": "Python 3",
   "language": "python",
   "name": "python3"
  },
  "language_info": {
   "codemirror_mode": {
    "name": "ipython",
    "version": 3
   },
   "file_extension": ".py",
   "mimetype": "text/x-python",
   "name": "python",
   "nbconvert_exporter": "python",
   "pygments_lexer": "ipython3",
   "version": "3.7.6"
  }
 },
 "nbformat": 4,
 "nbformat_minor": 4
}
