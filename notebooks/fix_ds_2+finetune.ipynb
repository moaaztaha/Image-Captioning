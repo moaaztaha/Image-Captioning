{
 "cells": [
  {
   "cell_type": "code",
   "execution_count": 16,
   "metadata": {
    "colab": {
     "base_uri": "https://localhost:8080/"
    },
    "id": "0yF22FLldBVv",
    "outputId": "4e887909-897c-47a4-e8be-f350d8a06386"
   },
   "outputs": [
    {
     "name": "stdout",
     "output_type": "stream",
     "text": [
      "Wed May  5 21:39:50 2021       \n",
      "+-----------------------------------------------------------------------------+\n",
      "| NVIDIA-SMI 465.19.01    Driver Version: 460.32.03    CUDA Version: 11.2     |\n",
      "|-------------------------------+----------------------+----------------------+\n",
      "| GPU  Name        Persistence-M| Bus-Id        Disp.A | Volatile Uncorr. ECC |\n",
      "| Fan  Temp  Perf  Pwr:Usage/Cap|         Memory-Usage | GPU-Util  Compute M. |\n",
      "|                               |                      |               MIG M. |\n",
      "|===============================+======================+======================|\n",
      "|   0  Tesla P100-PCIE...  Off  | 00000000:00:04.0 Off |                    0 |\n",
      "| N/A   37C    P0    33W / 250W |   1155MiB / 16280MiB |      0%      Default |\n",
      "|                               |                      |                  N/A |\n",
      "+-------------------------------+----------------------+----------------------+\n",
      "                                                                               \n",
      "+-----------------------------------------------------------------------------+\n",
      "| Processes:                                                                  |\n",
      "|  GPU   GI   CI        PID   Type   Process name                  GPU Memory |\n",
      "|        ID   ID                                                   Usage      |\n",
      "|=============================================================================|\n",
      "+-----------------------------------------------------------------------------+\n"
     ]
    }
   ],
   "source": [
    "!nvidia-smi"
   ]
  },
  {
   "cell_type": "code",
   "execution_count": 17,
   "metadata": {
    "colab": {
     "base_uri": "https://localhost:8080/"
    },
    "id": "KAVbNRecdEmC",
    "outputId": "3655e476-9db9-4273-fea2-0bdadfd6bccb"
   },
   "outputs": [
    {
     "name": "stdout",
     "output_type": "stream",
     "text": [
      "mkdir: cannot create directory ‘/root/.kaggle’: File exists\n",
      "mv: cannot stat 'kaggle.json': No such file or directory\n"
     ]
    }
   ],
   "source": [
    "!mkdir /root/.kaggle\n",
    "!mv kaggle.json /root/.kaggle\n",
    "!chmod 600 /root/.kaggle/kaggle.json"
   ]
  },
  {
   "cell_type": "code",
   "execution_count": 18,
   "metadata": {
    "colab": {
     "base_uri": "https://localhost:8080/"
    },
    "id": "_FHpPT9-dPip",
    "outputId": "9677b94c-bd26-4c18-c428-2304cac2d83e"
   },
   "outputs": [
    {
     "name": "stdout",
     "output_type": "stream",
     "text": [
      "Downloading flickr8kimagescaptions.zip to /content\n",
      " 99% 1.02G/1.04G [00:13<00:00, 75.5MB/s]\n",
      "100% 1.04G/1.04G [00:13<00:00, 80.5MB/s]\n"
     ]
    }
   ],
   "source": [
    "!pip install kaggle -q\n",
    "!kaggle datasets download -d aladdinpersson/flickr8kimagescaptions\n",
    "!unzip -q flickr8kimagescaptions.zip"
   ]
  },
  {
   "cell_type": "code",
   "execution_count": 19,
   "metadata": {
    "colab": {
     "base_uri": "https://localhost:8080/"
    },
    "id": "kdb4vWE0dQS6",
    "outputId": "98fc912b-a80d-487d-a118-026a30229be2"
   },
   "outputs": [
    {
     "name": "stdout",
     "output_type": "stream",
     "text": [
      "fatal: destination path 'Image-Captioning' already exists and is not an empty directory.\n"
     ]
    }
   ],
   "source": [
    "# get the code for kaggle\n",
    "!git clone https://github.com/moaaztaha/Image-Captioning\n",
    "py_files_path = 'Image-Captioning/'\n",
    "import sys\n",
    "sys.path.append(py_files_path)"
   ]
  },
  {
   "cell_type": "code",
   "execution_count": 20,
   "metadata": {
    "id": "cCupTxpafLCY"
   },
   "outputs": [],
   "source": [
    "%reload_ext autoreload\n",
    "%autoreload 2\n",
    "%matplotlib inline"
   ]
  },
  {
   "cell_type": "code",
   "execution_count": 21,
   "metadata": {
    "id": "HAUwbIDzfLCY"
   },
   "outputs": [],
   "source": [
    "import time \n",
    "import torch.backends.cudnn as cudnn\n",
    "import torch.optim\n",
    "import torch.utils.data\n",
    "import torchvision.transforms as transforms\n",
    "from torch import nn\n",
    "from torch.nn.utils.rnn import pack_padded_sequence\n",
    "from models import Encoder, DecoderWithAttention\n",
    "from dataset import *\n",
    "from utils import *\n",
    "from train import *\n",
    "from nltk.translate.bleu_score import corpus_bleu"
   ]
  },
  {
   "cell_type": "code",
   "execution_count": 22,
   "metadata": {
    "id": "2xao3iXYfLCZ"
   },
   "outputs": [],
   "source": [
    "# Model parameters\n",
    "encoder_dim = 2048 # resnet101\n",
    "emb_dim = 512  # dimension of word embeddings\n",
    "attention_dim = 512  # dimension of attention linear layers\n",
    "decoder_dim = 512  # dimension of decoder RNN\n",
    "dropout = 0.5\n",
    "device = torch.device(\"cuda\" if torch.cuda.is_available() else \"cpu\")  # sets device for model and PyTorch tensors\n",
    "cudnn.benchmark = True  # set to true only if inputs to model are fixed size; otherwise lot of computational overhead\n",
    "\n",
    "# training parameters\n",
    "epochs = 10  # number of epochs to train for (if early stopping is not triggered)\n",
    "batch_size = 265\n",
    "workers = 2\n",
    "encoder_lr = 1e-4  # learning rate for encoder if fine-tuning\n",
    "decoder_lr = 4e-4  # learning rate for decoder\n",
    "fine_tune_encoder = False  # fine-tune encoder?\n",
    "checkpoint = None  # path to checkpoint, None if none"
   ]
  },
  {
   "cell_type": "code",
   "execution_count": 24,
   "metadata": {
    "id": "NjGhnGwvfLCZ"
   },
   "outputs": [],
   "source": [
    "DATA_NAME = 'flickr8k_5_cap_per_img_2_min_word_freq_resnet101_fullvocab_fix_ds_2'\n",
    "\n",
    "# local\n",
    "# DATA_JSON_PATH = 'data.json'\n",
    "# IMGS_PATH = 'flickr/Images/'\n",
    "# kaggle paths\n",
    "# DATA_JSON_PATH = '/kaggle/working/Image-Captioning/data.json'\n",
    "# IMGS_PATH = '../input/flickr8kimagescaptions/flickr8k/images/'\n",
    "#colab\n",
    "DATA_JSON_PATH = 'Image-Captioning/data.json'\n",
    "IMGS_PATH = 'flickr8k/images/'"
   ]
  },
  {
   "cell_type": "code",
   "execution_count": 25,
   "metadata": {
    "colab": {
     "base_uri": "https://localhost:8080/"
    },
    "id": "ohaaGjb7fLCa",
    "outputId": "8a6ddc66-16c0-48de-df7d-46c9ff63cb64",
    "scrolled": true
   },
   "outputs": [
    {
     "name": "stderr",
     "output_type": "stream",
     "text": [
      "100%|██████████| 40000/40000 [00:00<00:00, 301850.01it/s]\n"
     ]
    }
   ],
   "source": [
    "# load vocab\n",
    "vocab = build_vocab(DATA_JSON_PATH)"
   ]
  },
  {
   "cell_type": "code",
   "execution_count": 26,
   "metadata": {
    "colab": {
     "base_uri": "https://localhost:8080/"
    },
    "id": "IEIMTnYEfLCa",
    "outputId": "9715588f-ac7f-4a37-c61e-03860a552cdc"
   },
   "outputs": [
    {
     "data": {
      "text/plain": [
       "5089"
      ]
     },
     "execution_count": 26,
     "metadata": {
      "tags": []
     },
     "output_type": "execute_result"
    }
   ],
   "source": [
    "len(vocab)"
   ]
  },
  {
   "cell_type": "code",
   "execution_count": 27,
   "metadata": {
    "id": "B6quGOJjfLCb"
   },
   "outputs": [],
   "source": [
    "t_params = {\n",
    "    'data_name': DATA_NAME,\n",
    "    'imgs_path': IMGS_PATH,\n",
    "    'df_path': DATA_JSON_PATH,\n",
    "    'vocab': vocab,\n",
    "    'epochs': epochs,\n",
    "    'batch_size': batch_size,\n",
    "    'workers': workers,\n",
    "    'decoder_lr': decoder_lr,\n",
    "    'encoder_lr': encoder_lr,\n",
    "    'fine_tune_encoder': fine_tune_encoder\n",
    "}\n",
    "\n",
    "m_params = {\n",
    "    'attention_dim': attention_dim,\n",
    "    'embed_dim': emb_dim,\n",
    "    'decoder_dim': decoder_dim,\n",
    "    'encoder_dim': encoder_dim,\n",
    "    'dropout': dropout\n",
    "}"
   ]
  },
  {
   "cell_type": "code",
   "execution_count": 28,
   "metadata": {
    "colab": {
     "base_uri": "https://localhost:8080/"
    },
    "id": "z9hJPzJhh4v4",
    "outputId": "6d090a99-2a3a-452b-8f79-8ae434318232"
   },
   "outputs": [
    {
     "data": {
      "text/plain": [
       "{'batch_size': 265,\n",
       " 'data_name': 'flickr8k_5_cap_per_img_2_min_word_freq_resnet101_fullvocab_fix_ds_2',\n",
       " 'decoder_lr': 0.0004,\n",
       " 'df_path': 'Image-Captioning/data.json',\n",
       " 'encoder_lr': 0.0001,\n",
       " 'epochs': 10,\n",
       " 'fine_tune_encoder': False,\n",
       " 'imgs_path': 'flickr8k/images/',\n",
       " 'vocab': <dataset.Vocabulary at 0x7fcd545b3c10>,\n",
       " 'workers': 2}"
      ]
     },
     "execution_count": 28,
     "metadata": {
      "tags": []
     },
     "output_type": "execute_result"
    }
   ],
   "source": [
    "t_params"
   ]
  },
  {
   "cell_type": "code",
   "execution_count": 29,
   "metadata": {
    "colab": {
     "base_uri": "https://localhost:8080/"
    },
    "id": "czDUNMJBfLCc",
    "outputId": "43f2d681-a555-4041-98f4-ddaf55b55fb2",
    "scrolled": false
   },
   "outputs": [
    {
     "name": "stdout",
     "output_type": "stream",
     "text": [
      "Loading Data\n",
      "Dataset split: train\n",
      "Unique images: 6000\n",
      "Total size: 30000\n",
      "Dataset split: val\n",
      "Unique images: 1000\n",
      "Total size: 5000\n",
      "__________________________________________________\n",
      "-------------------- Fitting --------------------\n",
      "__________________________________________________\n",
      "-------------------- Training --------------------\n",
      "Epoch: [0][0/114]\tBatch Time 7.710 (7.710)\tData Load Time 3.707 (3.707)\tLoss 9.4432 (9.4432)\tTop-5 Accuracy 0.063 (0.063)\n",
      "Epoch: [0][100/114]\tBatch Time 1.410 (1.981)\tData Load Time 0.000 (0.595)\tLoss 4.7509 (5.4879)\tTop-5 Accuracy 54.977 (44.968)\n",
      "-------------------- Validation --------------------\n",
      "Validation: [0/19]\tBatch Time 5.143 (5.143)\tLoss 5.4544 (5.4544)\tTop-5 Accuracy 50.632 (50.632)\t\n",
      "----- Bleu-n Scores -----\n",
      "1: 56.66132822995774\n",
      "2: 30.55702677997155\n",
      "3: 15.027989270660106\n",
      "4: 7.251530933679744\n",
      "-------------------------\n",
      "\n",
      " * LOSS - 5.462, TOP-5 ACCURACY - 50.351, BLEU-4 - 0.0734046482414005\n",
      "\n",
      "__________________________________________________\n",
      "-------------------- Training --------------------\n",
      "Epoch: [1][0/114]\tBatch Time 5.121 (5.121)\tData Load Time 3.639 (3.639)\tLoss 4.8046 (4.8046)\tTop-5 Accuracy 53.209 (53.209)\n",
      "Epoch: [1][100/114]\tBatch Time 1.870 (1.989)\tData Load Time 0.501 (0.631)\tLoss 4.4794 (4.6052)\tTop-5 Accuracy 57.905 (56.997)\n",
      "-------------------- Validation --------------------\n",
      "Validation: [0/19]\tBatch Time 5.082 (5.082)\tLoss 5.5163 (5.5163)\tTop-5 Accuracy 52.980 (52.980)\t\n",
      "----- Bleu-n Scores -----\n",
      "1: 61.506630362569815\n",
      "2: 37.16495979589665\n",
      "3: 20.69400587387267\n",
      "4: 11.562984393888641\n",
      "-------------------------\n",
      "\n",
      " * LOSS - 5.259, TOP-5 ACCURACY - 54.599, BLEU-4 - 0.11711343192432615\n",
      "\n",
      "__________________________________________________\n",
      "-------------------- Training --------------------\n",
      "Epoch: [2][0/114]\tBatch Time 5.035 (5.035)\tData Load Time 3.430 (3.430)\tLoss 4.4049 (4.4049)\tTop-5 Accuracy 59.485 (59.485)\n",
      "Epoch: [2][100/114]\tBatch Time 2.426 (1.996)\tData Load Time 1.066 (0.631)\tLoss 4.3174 (4.3337)\tTop-5 Accuracy 60.585 (60.470)\n",
      "-------------------- Validation --------------------\n",
      "Validation: [0/19]\tBatch Time 5.215 (5.215)\tLoss 5.1414 (5.1414)\tTop-5 Accuracy 56.369 (56.369)\t\n",
      "----- Bleu-n Scores -----\n",
      "1: 63.40063685835838\n",
      "2: 38.377336659130336\n",
      "3: 21.78983818851975\n",
      "4: 12.179536342952147\n",
      "-------------------------\n",
      "\n",
      " * LOSS - 5.180, TOP-5 ACCURACY - 56.275, BLEU-4 - 0.12318660212790486\n",
      "\n",
      "__________________________________________________\n",
      "-------------------- Training --------------------\n",
      "Epoch: [3][0/114]\tBatch Time 4.831 (4.831)\tData Load Time 3.378 (3.378)\tLoss 4.2851 (4.2851)\tTop-5 Accuracy 61.019 (61.019)\n",
      "Epoch: [3][100/114]\tBatch Time 2.533 (1.997)\tData Load Time 1.239 (0.639)\tLoss 4.0497 (4.1586)\tTop-5 Accuracy 65.280 (62.753)\n",
      "-------------------- Validation --------------------\n",
      "Validation: [0/19]\tBatch Time 5.262 (5.262)\tLoss 4.9812 (4.9812)\tTop-5 Accuracy 58.317 (58.317)\t\n",
      "----- Bleu-n Scores -----\n",
      "1: 63.94293300101628\n",
      "2: 40.01147781986983\n",
      "3: 23.76125498735495\n",
      "4: 13.768589527644922\n",
      "-------------------------\n",
      "\n",
      " * LOSS - 5.077, TOP-5 ACCURACY - 57.481, BLEU-4 - 0.139246453020392\n",
      "\n",
      "__________________________________________________\n",
      "-------------------- Training --------------------\n",
      "Epoch: [4][0/114]\tBatch Time 5.040 (5.040)\tData Load Time 3.508 (3.508)\tLoss 4.0714 (4.0714)\tTop-5 Accuracy 63.951 (63.951)\n",
      "Epoch: [4][100/114]\tBatch Time 2.468 (1.995)\tData Load Time 1.062 (0.636)\tLoss 3.9973 (4.0164)\tTop-5 Accuracy 65.110 (64.488)\n",
      "-------------------- Validation --------------------\n",
      "Validation: [0/19]\tBatch Time 5.148 (5.148)\tLoss 5.0704 (5.0704)\tTop-5 Accuracy 58.998 (58.998)\t\n",
      "----- Bleu-n Scores -----\n",
      "1: 64.32626769488644\n",
      "2: 40.078861936240855\n",
      "3: 23.84442729503555\n",
      "4: 13.991954726459769\n",
      "-------------------------\n",
      "\n",
      " * LOSS - 5.036, TOP-5 ACCURACY - 58.987, BLEU-4 - 0.14135280825605676\n",
      "\n",
      "__________________________________________________\n",
      "-------------------- Training --------------------\n",
      "Epoch: [5][0/114]\tBatch Time 5.151 (5.151)\tData Load Time 3.673 (3.673)\tLoss 3.9467 (3.9467)\tTop-5 Accuracy 65.439 (65.439)\n",
      "Epoch: [5][100/114]\tBatch Time 2.241 (1.988)\tData Load Time 0.903 (0.625)\tLoss 3.9561 (3.8979)\tTop-5 Accuracy 65.041 (66.140)\n",
      "-------------------- Validation --------------------\n",
      "Validation: [0/19]\tBatch Time 5.024 (5.024)\tLoss 5.1407 (5.1407)\tTop-5 Accuracy 57.694 (57.694)\t\n",
      "----- Bleu-n Scores -----\n",
      "1: 64.08183182280547\n",
      "2: 40.46827380572356\n",
      "3: 24.455557208790392\n",
      "4: 14.52866624905278\n",
      "-------------------------\n",
      "\n",
      " * LOSS - 5.029, TOP-5 ACCURACY - 59.197, BLEU-4 - 0.14681134163697482\n",
      "\n",
      "__________________________________________________\n",
      "-------------------- Training --------------------\n",
      "Epoch: [6][0/114]\tBatch Time 4.915 (4.915)\tData Load Time 3.381 (3.381)\tLoss 3.8839 (3.8839)\tTop-5 Accuracy 65.866 (65.866)\n",
      "Epoch: [6][100/114]\tBatch Time 1.352 (1.985)\tData Load Time 0.000 (0.627)\tLoss 3.7831 (3.8010)\tTop-5 Accuracy 67.296 (67.412)\n",
      "-------------------- Validation --------------------\n",
      "Validation: [0/19]\tBatch Time 5.316 (5.316)\tLoss 4.8053 (4.8053)\tTop-5 Accuracy 61.970 (61.970)\t\n",
      "----- Bleu-n Scores -----\n",
      "1: 64.66847227661238\n",
      "2: 40.55667227041609\n",
      "3: 24.078007428809762\n",
      "4: 13.968423174897964\n",
      "-------------------------\n",
      "\n",
      " * LOSS - 5.010, TOP-5 ACCURACY - 60.094, BLEU-4 - 0.1411076083359428\n",
      "\n",
      "\n",
      "Epochs since last improvement: (1,)\n",
      "__________________________________________________\n",
      "-------------------- Training --------------------\n",
      "Epoch: [7][0/114]\tBatch Time 4.958 (4.958)\tData Load Time 3.453 (3.453)\tLoss 3.7557 (3.7557)\tTop-5 Accuracy 67.254 (67.254)\n",
      "Epoch: [7][100/114]\tBatch Time 1.386 (1.978)\tData Load Time 0.056 (0.621)\tLoss 3.6975 (3.7117)\tTop-5 Accuracy 69.097 (68.689)\n",
      "-------------------- Validation --------------------\n",
      "Validation: [0/19]\tBatch Time 5.215 (5.215)\tLoss 5.0494 (5.0494)\tTop-5 Accuracy 60.284 (60.284)\t\n",
      "----- Bleu-n Scores -----\n",
      "1: 64.08002970084351\n",
      "2: 39.92767983692494\n",
      "3: 23.52112318343686\n",
      "4: 13.367902222736177\n",
      "-------------------------\n",
      "\n",
      " * LOSS - 5.037, TOP-5 ACCURACY - 60.239, BLEU-4 - 0.1350831566340261\n",
      "\n",
      "\n",
      "Epochs since last improvement: (2,)\n",
      "__________________________________________________\n",
      "-------------------- Training --------------------\n",
      "Epoch: [8][0/114]\tBatch Time 4.932 (4.932)\tData Load Time 3.392 (3.392)\tLoss 3.7638 (3.7638)\tTop-5 Accuracy 67.058 (67.058)\n",
      "Epoch: [8][100/114]\tBatch Time 2.484 (1.977)\tData Load Time 1.145 (0.615)\tLoss 3.6476 (3.6310)\tTop-5 Accuracy 69.557 (69.708)\n",
      "-------------------- Validation --------------------\n",
      "Validation: [0/19]\tBatch Time 5.109 (5.109)\tLoss 5.3629 (5.3629)\tTop-5 Accuracy 59.568 (59.568)\t\n",
      "----- Bleu-n Scores -----\n",
      "1: 65.03014172095948\n",
      "2: 40.8297085623908\n",
      "3: 24.363499241669643\n",
      "4: 14.287347282166019\n",
      "-------------------------\n",
      "\n",
      " * LOSS - 5.155, TOP-5 ACCURACY - 60.432, BLEU-4 - 0.14449326411527832\n",
      "\n",
      "\n",
      "Epochs since last improvement: (3,)\n",
      "__________________________________________________\n",
      "-------------------- Training --------------------\n",
      "Epoch: [9][0/114]\tBatch Time 4.927 (4.927)\tData Load Time 3.369 (3.369)\tLoss 3.6460 (3.6460)\tTop-5 Accuracy 69.051 (69.051)\n",
      "Epoch: [9][100/114]\tBatch Time 2.787 (1.983)\tData Load Time 1.376 (0.624)\tLoss 3.5794 (3.5549)\tTop-5 Accuracy 70.559 (70.821)\n",
      "-------------------- Validation --------------------\n",
      "Validation: [0/19]\tBatch Time 5.172 (5.172)\tLoss 5.1902 (5.1902)\tTop-5 Accuracy 60.108 (60.108)\t\n",
      "----- Bleu-n Scores -----\n",
      "1: 64.72948669966615\n",
      "2: 40.97207554842328\n",
      "3: 24.34527260041846\n",
      "4: 14.283899753387693\n",
      "-------------------------\n",
      "\n",
      " * LOSS - 5.083, TOP-5 ACCURACY - 61.051, BLEU-4 - 0.1443242946771564\n",
      "\n",
      "\n",
      "Epochs since last improvement: (4,)\n"
     ]
    }
   ],
   "source": [
    "fit(t_params=t_params, m_params=m_params)"
   ]
  },
  {
   "cell_type": "code",
   "execution_count": 30,
   "metadata": {
    "id": "TuhRS-t8pA6W"
   },
   "outputs": [],
   "source": [
    "!cp /content/BEST_checkpoint_flickr8k_5_cap_per_img_2_min_word_freq_resnet101_fullvocab_fix_ds_2.pth.tar /content/drive/MyDrive/weights/"
   ]
  },
  {
   "cell_type": "code",
   "execution_count": 33,
   "metadata": {
    "colab": {
     "base_uri": "https://localhost:8080/"
    },
    "id": "zdnuK-b4pPd1",
    "outputId": "930b6b98-511d-4f12-b872-fbc29fe44b5b"
   },
   "outputs": [
    {
     "data": {
      "text/plain": [
       "{'batch_size': 64,\n",
       " 'data_name': 'flickr8k_5_cap_per_img_2_min_word_freq_resnet101_fullvocab_fix_ds_2_finetune',\n",
       " 'decoder_lr': 0.0004,\n",
       " 'df_path': 'Image-Captioning/data.json',\n",
       " 'encoder_lr': 0.0001,\n",
       " 'epochs': 15,\n",
       " 'fine_tune_encoder': True,\n",
       " 'imgs_path': 'flickr8k/images/',\n",
       " 'vocab': <dataset.Vocabulary at 0x7fcd545b3c10>,\n",
       " 'workers': 2}"
      ]
     },
     "execution_count": 33,
     "metadata": {
      "tags": []
     },
     "output_type": "execute_result"
    }
   ],
   "source": [
    "batch_size = 64\n",
    "fine_tune_encoder = True\n",
    "checkpoint = '/content/BEST_checkpoint_flickr8k_5_cap_per_img_2_min_word_freq_resnet101_fullvocab_fix_ds_2.pth.tar'\n",
    "epochs = 15\n",
    "\n",
    "t_params = {\n",
    "    'data_name': DATA_NAME+'_finetune',\n",
    "    'imgs_path': IMGS_PATH,\n",
    "    'df_path': DATA_JSON_PATH,\n",
    "    'vocab': vocab,\n",
    "    'epochs': epochs,\n",
    "    'batch_size': batch_size,\n",
    "    'workers': workers,\n",
    "    'decoder_lr': decoder_lr,\n",
    "    'encoder_lr': encoder_lr,\n",
    "    'fine_tune_encoder': fine_tune_encoder\n",
    "}\n",
    "t_params"
   ]
  },
  {
   "cell_type": "code",
   "execution_count": 34,
   "metadata": {
    "colab": {
     "base_uri": "https://localhost:8080/"
    },
    "id": "ptOGGuc8pWY1",
    "outputId": "06727465-020a-4859-9834-a2665451e333",
    "scrolled": false
   },
   "outputs": [
    {
     "name": "stdout",
     "output_type": "stream",
     "text": [
      "Loaded Checkpoint!!\n",
      "Starting Epoch: 6\n",
      "Loading Data\n",
      "Dataset split: train\n",
      "Unique images: 6000\n",
      "Total size: 30000\n",
      "Dataset split: val\n",
      "Unique images: 1000\n",
      "Total size: 5000\n",
      "__________________________________________________\n",
      "-------------------- Fitting --------------------\n",
      "__________________________________________________\n",
      "-------------------- Training --------------------\n",
      "Epoch: [6][0/469]\tBatch Time 3.324 (3.324)\tData Load Time 0.923 (0.923)\tLoss 3.9871 (3.9871)\tTop-5 Accuracy 63.707 (63.707)\n",
      "Epoch: [6][100/469]\tBatch Time 0.712 (0.735)\tData Load Time 0.000 (0.010)\tLoss 3.8380 (3.8848)\tTop-5 Accuracy 65.793 (66.213)\n",
      "Epoch: [6][200/469]\tBatch Time 0.701 (0.721)\tData Load Time 0.001 (0.006)\tLoss 3.9145 (3.8768)\tTop-5 Accuracy 65.765 (66.371)\n",
      "Epoch: [6][300/469]\tBatch Time 0.720 (0.717)\tData Load Time 0.000 (0.004)\tLoss 3.9443 (3.8680)\tTop-5 Accuracy 65.971 (66.558)\n",
      "Epoch: [6][400/469]\tBatch Time 0.716 (0.714)\tData Load Time 0.000 (0.004)\tLoss 3.8165 (3.8492)\tTop-5 Accuracy 69.960 (66.910)\n",
      "-------------------- Validation --------------------\n",
      "Validation: [0/79]\tBatch Time 1.386 (1.386)\tLoss 5.0804 (5.0804)\tTop-5 Accuracy 60.434 (60.434)\t\n",
      "----- Bleu-n Scores -----\n",
      "1: 65.97090376010777\n",
      "2: 42.263106398208144\n",
      "3: 25.992567605588988\n",
      "4: 15.7034122211073\n",
      "-------------------------\n",
      "\n",
      " * LOSS - 5.052, TOP-5 ACCURACY - 61.376, BLEU-4 - 0.1585963519535708\n",
      "\n",
      "__________________________________________________\n",
      "-------------------- Training --------------------\n",
      "Epoch: [7][0/469]\tBatch Time 1.700 (1.700)\tData Load Time 0.924 (0.924)\tLoss 3.7948 (3.7948)\tTop-5 Accuracy 68.603 (68.603)\n",
      "Epoch: [7][100/469]\tBatch Time 0.704 (0.719)\tData Load Time 0.000 (0.010)\tLoss 3.6290 (3.6363)\tTop-5 Accuracy 70.238 (70.150)\n",
      "Epoch: [7][200/469]\tBatch Time 0.734 (0.713)\tData Load Time 0.000 (0.006)\tLoss 3.6616 (3.6407)\tTop-5 Accuracy 68.683 (70.080)\n",
      "Epoch: [7][300/469]\tBatch Time 0.699 (0.712)\tData Load Time 0.000 (0.004)\tLoss 3.5616 (3.6371)\tTop-5 Accuracy 71.618 (70.116)\n",
      "Epoch: [7][400/469]\tBatch Time 0.690 (0.711)\tData Load Time 0.000 (0.004)\tLoss 3.5151 (3.6269)\tTop-5 Accuracy 71.678 (70.303)\n",
      "-------------------- Validation --------------------\n",
      "Validation: [0/79]\tBatch Time 1.319 (1.319)\tLoss 5.2379 (5.2379)\tTop-5 Accuracy 58.143 (58.143)\t\n",
      "----- Bleu-n Scores -----\n",
      "1: 66.22651027924378\n",
      "2: 42.43691554117973\n",
      "3: 26.0735091107927\n",
      "4: 15.538221116987918\n",
      "-------------------------\n",
      "\n",
      " * LOSS - 5.121, TOP-5 ACCURACY - 61.900, BLEU-4 - 0.15701460793075586\n",
      "\n",
      "\n",
      "Epochs since last improvement: (1,)\n",
      "__________________________________________________\n",
      "-------------------- Training --------------------\n",
      "Epoch: [8][0/469]\tBatch Time 1.731 (1.731)\tData Load Time 0.909 (0.909)\tLoss 3.3820 (3.3820)\tTop-5 Accuracy 74.585 (74.585)\n",
      "Epoch: [8][100/469]\tBatch Time 0.726 (0.719)\tData Load Time 0.007 (0.011)\tLoss 3.4613 (3.4723)\tTop-5 Accuracy 73.494 (72.478)\n",
      "Epoch: [8][200/469]\tBatch Time 0.701 (0.713)\tData Load Time 0.000 (0.006)\tLoss 3.3157 (3.4702)\tTop-5 Accuracy 73.924 (72.535)\n",
      "Epoch: [8][300/469]\tBatch Time 0.711 (0.711)\tData Load Time 0.011 (0.005)\tLoss 3.4745 (3.4712)\tTop-5 Accuracy 71.946 (72.549)\n",
      "Epoch: [8][400/469]\tBatch Time 0.699 (0.710)\tData Load Time 0.000 (0.004)\tLoss 3.5298 (3.4763)\tTop-5 Accuracy 69.891 (72.461)\n",
      "-------------------- Validation --------------------\n",
      "Validation: [0/79]\tBatch Time 1.343 (1.343)\tLoss 5.0396 (5.0396)\tTop-5 Accuracy 59.223 (59.223)\t\n",
      "----- Bleu-n Scores -----\n",
      "1: 65.81081239213835\n",
      "2: 42.499847245202105\n",
      "3: 26.021624559466062\n",
      "4: 15.401773305545408\n",
      "-------------------------\n",
      "\n",
      " * LOSS - 5.231, TOP-5 ACCURACY - 61.976, BLEU-4 - 0.1555820395822735\n",
      "\n",
      "\n",
      "Epochs since last improvement: (2,)\n",
      "__________________________________________________\n",
      "-------------------- Training --------------------\n",
      "Epoch: [9][0/469]\tBatch Time 1.684 (1.684)\tData Load Time 0.910 (0.910)\tLoss 3.4119 (3.4119)\tTop-5 Accuracy 74.089 (74.089)\n",
      "Epoch: [9][100/469]\tBatch Time 0.686 (0.718)\tData Load Time 0.000 (0.010)\tLoss 3.2757 (3.3316)\tTop-5 Accuracy 74.513 (74.607)\n",
      "Epoch: [9][200/469]\tBatch Time 0.705 (0.713)\tData Load Time 0.000 (0.006)\tLoss 3.4098 (3.3413)\tTop-5 Accuracy 73.308 (74.430)\n",
      "Epoch: [9][300/469]\tBatch Time 0.699 (0.711)\tData Load Time 0.000 (0.004)\tLoss 3.4166 (3.3420)\tTop-5 Accuracy 72.776 (74.441)\n",
      "Epoch: [9][400/469]\tBatch Time 0.715 (0.710)\tData Load Time 0.000 (0.003)\tLoss 3.2167 (3.3475)\tTop-5 Accuracy 76.153 (74.392)\n",
      "-------------------- Validation --------------------\n",
      "Validation: [0/79]\tBatch Time 1.359 (1.359)\tLoss 4.7966 (4.7966)\tTop-5 Accuracy 65.785 (65.785)\t\n",
      "----- Bleu-n Scores -----\n",
      "1: 65.74210611121558\n",
      "2: 42.36480816750574\n",
      "3: 25.908382072914748\n",
      "4: 15.409744395755201\n",
      "-------------------------\n",
      "\n",
      " * LOSS - 5.194, TOP-5 ACCURACY - 62.519, BLEU-4 - 0.15571945593441958\n",
      "\n",
      "\n",
      "Epochs since last improvement: (3,)\n",
      "__________________________________________________\n",
      "-------------------- Training --------------------\n",
      "Epoch: [10][0/469]\tBatch Time 1.705 (1.705)\tData Load Time 0.929 (0.929)\tLoss 3.2132 (3.2132)\tTop-5 Accuracy 75.727 (75.727)\n",
      "Epoch: [10][100/469]\tBatch Time 0.708 (0.719)\tData Load Time 0.000 (0.011)\tLoss 3.3475 (3.1835)\tTop-5 Accuracy 74.899 (76.780)\n",
      "Epoch: [10][200/469]\tBatch Time 0.729 (0.713)\tData Load Time 0.010 (0.006)\tLoss 3.1783 (3.2039)\tTop-5 Accuracy 76.409 (76.500)\n",
      "Epoch: [10][300/469]\tBatch Time 0.690 (0.711)\tData Load Time 0.000 (0.004)\tLoss 3.4112 (3.2231)\tTop-5 Accuracy 73.214 (76.163)\n",
      "Epoch: [10][400/469]\tBatch Time 0.713 (0.710)\tData Load Time 0.000 (0.004)\tLoss 3.0501 (3.2288)\tTop-5 Accuracy 78.954 (76.114)\n",
      "-------------------- Validation --------------------\n",
      "Validation: [0/79]\tBatch Time 1.318 (1.318)\tLoss 5.6750 (5.6750)\tTop-5 Accuracy 60.833 (60.833)\t\n",
      "----- Bleu-n Scores -----\n",
      "1: 66.04069889065042\n",
      "2: 42.59162195932867\n",
      "3: 26.405730307651904\n",
      "4: 15.906633188228472\n",
      "-------------------------\n",
      "\n",
      " * LOSS - 5.222, TOP-5 ACCURACY - 62.597, BLEU-4 - 0.1607200452757974\n",
      "\n",
      "__________________________________________________\n",
      "-------------------- Training --------------------\n",
      "Epoch: [11][0/469]\tBatch Time 1.670 (1.670)\tData Load Time 0.913 (0.913)\tLoss 3.0450 (3.0450)\tTop-5 Accuracy 78.179 (78.179)\n",
      "Epoch: [11][100/469]\tBatch Time 0.708 (0.719)\tData Load Time 0.000 (0.010)\tLoss 3.2304 (3.0831)\tTop-5 Accuracy 75.584 (78.176)\n",
      "Epoch: [11][200/469]\tBatch Time 0.687 (0.712)\tData Load Time 0.000 (0.006)\tLoss 3.0558 (3.1031)\tTop-5 Accuracy 79.004 (77.894)\n",
      "Epoch: [11][300/469]\tBatch Time 0.711 (0.710)\tData Load Time 0.000 (0.004)\tLoss 3.1462 (3.1140)\tTop-5 Accuracy 78.067 (77.763)\n",
      "Epoch: [11][400/469]\tBatch Time 0.703 (0.708)\tData Load Time 0.000 (0.003)\tLoss 3.1894 (3.1253)\tTop-5 Accuracy 75.705 (77.587)\n",
      "-------------------- Validation --------------------\n",
      "Validation: [0/79]\tBatch Time 1.335 (1.335)\tLoss 5.0147 (5.0147)\tTop-5 Accuracy 63.696 (63.696)\t\n",
      "----- Bleu-n Scores -----\n",
      "1: 65.84342044933258\n",
      "2: 42.43974728728283\n",
      "3: 26.181219578143\n",
      "4: 15.734559395168226\n",
      "-------------------------\n",
      "\n",
      " * LOSS - 5.230, TOP-5 ACCURACY - 62.676, BLEU-4 - 0.1591521730376764\n",
      "\n",
      "\n",
      "Epochs since last improvement: (1,)\n",
      "__________________________________________________\n",
      "-------------------- Training --------------------\n",
      "Epoch: [12][0/469]\tBatch Time 1.796 (1.796)\tData Load Time 1.012 (1.012)\tLoss 2.9623 (2.9623)\tTop-5 Accuracy 79.714 (79.714)\n",
      "Epoch: [12][100/469]\tBatch Time 0.708 (0.717)\tData Load Time 0.000 (0.011)\tLoss 3.0540 (2.9702)\tTop-5 Accuracy 78.581 (79.786)\n",
      "Epoch: [12][200/469]\tBatch Time 0.717 (0.711)\tData Load Time 0.000 (0.006)\tLoss 3.1014 (2.9964)\tTop-5 Accuracy 79.576 (79.514)\n",
      "Epoch: [12][300/469]\tBatch Time 0.715 (0.709)\tData Load Time 0.000 (0.004)\tLoss 3.3053 (3.0164)\tTop-5 Accuracy 74.485 (79.216)\n",
      "Epoch: [12][400/469]\tBatch Time 0.699 (0.708)\tData Load Time 0.000 (0.003)\tLoss 2.9835 (3.0283)\tTop-5 Accuracy 80.157 (79.018)\n",
      "-------------------- Validation --------------------\n",
      "Validation: [0/79]\tBatch Time 1.360 (1.360)\tLoss 4.8986 (4.8986)\tTop-5 Accuracy 64.148 (64.148)\t\n",
      "----- Bleu-n Scores -----\n",
      "1: 65.35999872350638\n",
      "2: 42.23578403391968\n",
      "3: 26.222771210881035\n",
      "4: 15.87043950732118\n",
      "-------------------------\n",
      "\n",
      " * LOSS - 5.265, TOP-5 ACCURACY - 62.400, BLEU-4 - 0.16029037355046405\n",
      "\n",
      "\n",
      "Epochs since last improvement: (2,)\n",
      "__________________________________________________\n",
      "-------------------- Training --------------------\n",
      "Epoch: [13][0/469]\tBatch Time 1.739 (1.739)\tData Load Time 0.981 (0.981)\tLoss 2.7401 (2.7401)\tTop-5 Accuracy 82.444 (82.444)\n",
      "Epoch: [13][100/469]\tBatch Time 0.706 (0.714)\tData Load Time 0.000 (0.011)\tLoss 3.1109 (2.8715)\tTop-5 Accuracy 76.795 (81.212)\n",
      "Epoch: [13][200/469]\tBatch Time 0.717 (0.709)\tData Load Time 0.000 (0.006)\tLoss 3.0629 (2.8986)\tTop-5 Accuracy 78.422 (80.765)\n",
      "Epoch: [13][300/469]\tBatch Time 0.694 (0.708)\tData Load Time 0.000 (0.004)\tLoss 3.0133 (2.9205)\tTop-5 Accuracy 78.142 (80.511)\n",
      "Epoch: [13][400/469]\tBatch Time 0.676 (0.708)\tData Load Time 0.000 (0.003)\tLoss 2.9003 (2.9340)\tTop-5 Accuracy 82.216 (80.290)\n",
      "-------------------- Validation --------------------\n",
      "Validation: [0/79]\tBatch Time 1.295 (1.295)\tLoss 4.6614 (4.6614)\tTop-5 Accuracy 67.526 (67.526)\t\n",
      "----- Bleu-n Scores -----\n",
      "1: 65.15227726641206\n",
      "2: 41.89131542654417\n",
      "3: 25.907487255637186\n",
      "4: 15.593956992523461\n",
      "-------------------------\n",
      "\n",
      " * LOSS - 5.284, TOP-5 ACCURACY - 62.620, BLEU-4 - 0.15742053865722638\n",
      "\n",
      "\n",
      "Epochs since last improvement: (3,)\n",
      "__________________________________________________\n",
      "-------------------- Training --------------------\n",
      "Epoch: [14][0/469]\tBatch Time 1.769 (1.769)\tData Load Time 0.997 (0.997)\tLoss 2.9341 (2.9341)\tTop-5 Accuracy 78.695 (78.695)\n",
      "Epoch: [14][100/469]\tBatch Time 0.700 (0.717)\tData Load Time 0.000 (0.011)\tLoss 2.8564 (2.8108)\tTop-5 Accuracy 81.619 (82.106)\n",
      "Epoch: [14][200/469]\tBatch Time 0.707 (0.711)\tData Load Time 0.000 (0.006)\tLoss 2.8185 (2.8208)\tTop-5 Accuracy 82.987 (81.950)\n",
      "Epoch: [14][300/469]\tBatch Time 0.704 (0.709)\tData Load Time 0.000 (0.004)\tLoss 2.8955 (2.8382)\tTop-5 Accuracy 80.559 (81.713)\n",
      "Epoch: [14][400/469]\tBatch Time 0.701 (0.708)\tData Load Time 0.000 (0.003)\tLoss 2.7954 (2.8483)\tTop-5 Accuracy 82.234 (81.616)\n",
      "-------------------- Validation --------------------\n",
      "Validation: [0/79]\tBatch Time 1.351 (1.351)\tLoss 5.1202 (5.1202)\tTop-5 Accuracy 64.194 (64.194)\t\n",
      "----- Bleu-n Scores -----\n",
      "1: 65.16222876836486\n",
      "2: 41.49156041971118\n",
      "3: 25.316243276352495\n",
      "4: 14.967070553280069\n",
      "-------------------------\n",
      "\n",
      " * LOSS - 5.321, TOP-5 ACCURACY - 62.546, BLEU-4 - 0.15112172199752494\n",
      "\n",
      "\n",
      "Epochs since last improvement: (4,)\n"
     ]
    }
   ],
   "source": [
    "fit(t_params, checkpoint=checkpoint, m_params=m_params)"
   ]
  },
  {
   "cell_type": "code",
   "execution_count": 36,
   "metadata": {
    "colab": {
     "base_uri": "https://localhost:8080/"
    },
    "id": "CkM-H7kopj-m",
    "outputId": "55e2d518-c0ef-470a-e638-5b7c46ffa7b3"
   },
   "outputs": [
    {
     "name": "stdout",
     "output_type": "stream",
     "text": [
      "Loaded Checkpoint!!\n",
      "Last Epoch: 10\n",
      "Best Bleu-4: 0.1607200452757974\n"
     ]
    }
   ],
   "source": [
    "checkpoint = load_checkpoint('/content/BEST_checkpoint_flickr8k_5_cap_per_img_2_min_word_freq_resnet101_fullvocab_fix_ds_2_finetune.pth.tar')"
   ]
  },
  {
   "cell_type": "code",
   "execution_count": 37,
   "metadata": {
    "id": "7e3NJGVJ2_wg"
   },
   "outputs": [],
   "source": [
    "!cp /content/BEST_checkpoint_flickr8k_5_cap_per_img_2_min_word_freq_resnet101_fullvocab_fix_ds_2_finetune.pth.tar /content/drive/MyDrive/weights/"
   ]
  },
  {
   "cell_type": "code",
   "execution_count": 38,
   "metadata": {
    "colab": {
     "base_uri": "https://localhost:8080/"
    },
    "id": "dMOULDw43OeD",
    "outputId": "05bb15ca-e401-4de5-b54a-21a0f014c5c1"
   },
   "outputs": [
    {
     "name": "stdout",
     "output_type": "stream",
     "text": [
      "Wed May  5 23:29:01 2021       \n",
      "+-----------------------------------------------------------------------------+\n",
      "| NVIDIA-SMI 465.19.01    Driver Version: 460.32.03    CUDA Version: 11.2     |\n",
      "|-------------------------------+----------------------+----------------------+\n",
      "| GPU  Name        Persistence-M| Bus-Id        Disp.A | Volatile Uncorr. ECC |\n",
      "| Fan  Temp  Perf  Pwr:Usage/Cap|         Memory-Usage | GPU-Util  Compute M. |\n",
      "|                               |                      |               MIG M. |\n",
      "|===============================+======================+======================|\n",
      "|   0  Tesla P100-PCIE...  Off  | 00000000:00:04.0 Off |                    0 |\n",
      "| N/A   47C    P0    35W / 250W |  10319MiB / 16280MiB |      0%      Default |\n",
      "|                               |                      |                  N/A |\n",
      "+-------------------------------+----------------------+----------------------+\n",
      "                                                                               \n",
      "+-----------------------------------------------------------------------------+\n",
      "| Processes:                                                                  |\n",
      "|  GPU   GI   CI        PID   Type   Process name                  GPU Memory |\n",
      "|        ID   ID                                                   Usage      |\n",
      "|=============================================================================|\n",
      "+-----------------------------------------------------------------------------+\n"
     ]
    }
   ],
   "source": [
    "!nvidia-smi"
   ]
  }
 ],
 "metadata": {
  "accelerator": "GPU",
  "colab": {
   "collapsed_sections": [],
   "name": "Train-new",
   "provenance": []
  },
  "kernelspec": {
   "display_name": "Python 3",
   "language": "python",
   "name": "python3"
  },
  "language_info": {
   "codemirror_mode": {
    "name": "ipython",
    "version": 3
   },
   "file_extension": ".py",
   "mimetype": "text/x-python",
   "name": "python",
   "nbconvert_exporter": "python",
   "pygments_lexer": "ipython3",
   "version": "3.7.6"
  }
 },
 "nbformat": 4,
 "nbformat_minor": 1
}
