{
 "cells": [
  {
   "cell_type": "markdown",
   "metadata": {
    "id": "t-XtthKwczwY"
   },
   "source": [
    "# Arabic Preprocessing "
   ]
  },
  {
   "cell_type": "code",
   "execution_count": 1,
   "metadata": {},
   "outputs": [],
   "source": [
    "# # libraries for arabert\n",
    "# !pip install farasapy\n",
    "# !pip install pyarabic\n",
    "# !pip install fuzzysearch"
   ]
  },
  {
   "cell_type": "code",
   "execution_count": 2,
   "metadata": {
    "id": "-FPTOiT3czwY"
   },
   "outputs": [],
   "source": [
    "import pandas as pd\n",
    "import pyarabic.araby as araby\n",
    "\n",
    "from PIL import Image\n",
    "from tqdm import tqdm\n",
    "import matplotlib.pyplot as plt\n",
    "import time\n",
    "%matplotlib inline"
   ]
  },
  {
   "cell_type": "code",
   "execution_count": 3,
   "metadata": {
    "id": "fDc39-2LczwY",
    "outputId": "2e012af7-f61a-4f01-b00b-1523ac64e822"
   },
   "outputs": [
    {
     "data": {
      "text/html": [
       "<div>\n",
       "<style scoped>\n",
       "    .dataframe tbody tr th:only-of-type {\n",
       "        vertical-align: middle;\n",
       "    }\n",
       "\n",
       "    .dataframe tbody tr th {\n",
       "        vertical-align: top;\n",
       "    }\n",
       "\n",
       "    .dataframe thead th {\n",
       "        text-align: right;\n",
       "    }\n",
       "</style>\n",
       "<table border=\"1\" class=\"dataframe\">\n",
       "  <thead>\n",
       "    <tr style=\"text-align: right;\">\n",
       "      <th></th>\n",
       "      <th>caption</th>\n",
       "      <th>id</th>\n",
       "      <th>file_path</th>\n",
       "    </tr>\n",
       "  </thead>\n",
       "  <tbody>\n",
       "    <tr>\n",
       "      <th>0</th>\n",
       "      <td>الناس يعبرون الشارع في بلدة صينية مزدحمة.</td>\n",
       "      <td>64183</td>\n",
       "      <td>000000064183.jpg</td>\n",
       "    </tr>\n",
       "    <tr>\n",
       "      <th>1</th>\n",
       "      <td>شخص يحمل مظلة صفراء يمشي بالقرب من الرصيف.</td>\n",
       "      <td>64183</td>\n",
       "      <td>000000064183.jpg</td>\n",
       "    </tr>\n",
       "    <tr>\n",
       "      <th>2</th>\n",
       "      <td>شخص في الشارع  يجر عربة تسوق  ويحمل مظلة.</td>\n",
       "      <td>64183</td>\n",
       "      <td>000000064183.jpg</td>\n",
       "    </tr>\n",
       "    <tr>\n",
       "      <th>3</th>\n",
       "      <td>امرأة في شارع مزدحم مع عربة تسوق ومظلة.</td>\n",
       "      <td>64183</td>\n",
       "      <td>000000064183.jpg</td>\n",
       "    </tr>\n",
       "    <tr>\n",
       "      <th>4</th>\n",
       "      <td>أشخاص يسيرون وسيارات تسير في شارع بجوار متاجر</td>\n",
       "      <td>64183</td>\n",
       "      <td>000000064183.jpg</td>\n",
       "    </tr>\n",
       "  </tbody>\n",
       "</table>\n",
       "</div>"
      ],
      "text/plain": [
       "                                         caption     id         file_path\n",
       "0      الناس يعبرون الشارع في بلدة صينية مزدحمة.  64183  000000064183.jpg\n",
       "1     شخص يحمل مظلة صفراء يمشي بالقرب من الرصيف.  64183  000000064183.jpg\n",
       "2      شخص في الشارع  يجر عربة تسوق  ويحمل مظلة.  64183  000000064183.jpg\n",
       "3        امرأة في شارع مزدحم مع عربة تسوق ومظلة.  64183  000000064183.jpg\n",
       "4  أشخاص يسيرون وسيارات تسير في شارع بجوار متاجر  64183  000000064183.jpg"
      ]
     },
     "execution_count": 3,
     "metadata": {},
     "output_type": "execute_result"
    }
   ],
   "source": [
    "# getting the arabic data\n",
    "ar_df = pd.read_csv('../sm_dataset.csv')\n",
    "ar_df.head()"
   ]
  },
  {
   "cell_type": "code",
   "execution_count": 4,
   "metadata": {
    "id": "SSOaiYqOczwZ",
    "outputId": "3f9f6745-f1c1-469a-afc0-f78fe51c48d8"
   },
   "outputs": [
    {
     "data": {
      "text/html": [
       "<div>\n",
       "<style scoped>\n",
       "    .dataframe tbody tr th:only-of-type {\n",
       "        vertical-align: middle;\n",
       "    }\n",
       "\n",
       "    .dataframe tbody tr th {\n",
       "        vertical-align: top;\n",
       "    }\n",
       "\n",
       "    .dataframe thead th {\n",
       "        text-align: right;\n",
       "    }\n",
       "</style>\n",
       "<table border=\"1\" class=\"dataframe\">\n",
       "  <thead>\n",
       "    <tr style=\"text-align: right;\">\n",
       "      <th></th>\n",
       "      <th>caption</th>\n",
       "      <th>id</th>\n",
       "      <th>file_path</th>\n",
       "      <th>split</th>\n",
       "    </tr>\n",
       "  </thead>\n",
       "  <tbody>\n",
       "    <tr>\n",
       "      <th>0</th>\n",
       "      <td>الناس يعبرون الشارع في بلدة صينية مزدحمة.</td>\n",
       "      <td>64183</td>\n",
       "      <td>000000064183.jpg</td>\n",
       "      <td>test</td>\n",
       "    </tr>\n",
       "    <tr>\n",
       "      <th>1</th>\n",
       "      <td>شخص يحمل مظلة صفراء يمشي بالقرب من الرصيف.</td>\n",
       "      <td>64183</td>\n",
       "      <td>000000064183.jpg</td>\n",
       "      <td>test</td>\n",
       "    </tr>\n",
       "    <tr>\n",
       "      <th>2</th>\n",
       "      <td>شخص في الشارع  يجر عربة تسوق  ويحمل مظلة.</td>\n",
       "      <td>64183</td>\n",
       "      <td>000000064183.jpg</td>\n",
       "      <td>test</td>\n",
       "    </tr>\n",
       "    <tr>\n",
       "      <th>3</th>\n",
       "      <td>امرأة في شارع مزدحم مع عربة تسوق ومظلة.</td>\n",
       "      <td>64183</td>\n",
       "      <td>000000064183.jpg</td>\n",
       "      <td>test</td>\n",
       "    </tr>\n",
       "    <tr>\n",
       "      <th>4</th>\n",
       "      <td>أشخاص يسيرون وسيارات تسير في شارع بجوار متاجر</td>\n",
       "      <td>64183</td>\n",
       "      <td>000000064183.jpg</td>\n",
       "      <td>test</td>\n",
       "    </tr>\n",
       "  </tbody>\n",
       "</table>\n",
       "</div>"
      ],
      "text/plain": [
       "                                         caption     id         file_path  \\\n",
       "0      الناس يعبرون الشارع في بلدة صينية مزدحمة.  64183  000000064183.jpg   \n",
       "1     شخص يحمل مظلة صفراء يمشي بالقرب من الرصيف.  64183  000000064183.jpg   \n",
       "2      شخص في الشارع  يجر عربة تسوق  ويحمل مظلة.  64183  000000064183.jpg   \n",
       "3        امرأة في شارع مزدحم مع عربة تسوق ومظلة.  64183  000000064183.jpg   \n",
       "4  أشخاص يسيرون وسيارات تسير في شارع بجوار متاجر  64183  000000064183.jpg   \n",
       "\n",
       "  split  \n",
       "0  test  \n",
       "1  test  \n",
       "2  test  \n",
       "3  test  \n",
       "4  test  "
      ]
     },
     "execution_count": 4,
     "metadata": {},
     "output_type": "execute_result"
    }
   ],
   "source": [
    "ar_df['split'] = 'test'\n",
    "ar_df.head()"
   ]
  },
  {
   "cell_type": "code",
   "execution_count": 13,
   "metadata": {
    "id": "-uPz9vpOczwa",
    "outputId": "6c5df70f-2f11-42b1-90eb-664a087ec9bf"
   },
   "outputs": [
    {
     "data": {
      "text/html": [
       "<div>\n",
       "<style scoped>\n",
       "    .dataframe tbody tr th:only-of-type {\n",
       "        vertical-align: middle;\n",
       "    }\n",
       "\n",
       "    .dataframe tbody tr th {\n",
       "        vertical-align: top;\n",
       "    }\n",
       "\n",
       "    .dataframe thead th {\n",
       "        text-align: right;\n",
       "    }\n",
       "</style>\n",
       "<table border=\"1\" class=\"dataframe\">\n",
       "  <thead>\n",
       "    <tr style=\"text-align: right;\">\n",
       "      <th></th>\n",
       "      <th>file_name</th>\n",
       "      <th>split</th>\n",
       "      <th>caption</th>\n",
       "      <th>tok_len</th>\n",
       "      <th>tokens</th>\n",
       "    </tr>\n",
       "  </thead>\n",
       "  <tbody>\n",
       "    <tr>\n",
       "      <th>0</th>\n",
       "      <td>2513260012_03d33305cf.jpg</td>\n",
       "      <td>train</td>\n",
       "      <td>A black dog is running after a white dog in th...</td>\n",
       "      <td>12</td>\n",
       "      <td>[a, black, dog, is, running, after, a, white, ...</td>\n",
       "    </tr>\n",
       "    <tr>\n",
       "      <th>1</th>\n",
       "      <td>2513260012_03d33305cf.jpg</td>\n",
       "      <td>train</td>\n",
       "      <td>Black dog chasing brown dog through snow</td>\n",
       "      <td>7</td>\n",
       "      <td>[black, dog, chasing, brown, dog, through, snow]</td>\n",
       "    </tr>\n",
       "    <tr>\n",
       "      <th>2</th>\n",
       "      <td>2513260012_03d33305cf.jpg</td>\n",
       "      <td>train</td>\n",
       "      <td>Two dogs chase each other across the snowy gro...</td>\n",
       "      <td>9</td>\n",
       "      <td>[two, dogs, chase, each, other, across, the, s...</td>\n",
       "    </tr>\n",
       "    <tr>\n",
       "      <th>3</th>\n",
       "      <td>2513260012_03d33305cf.jpg</td>\n",
       "      <td>train</td>\n",
       "      <td>Two dogs play together in the snow .</td>\n",
       "      <td>7</td>\n",
       "      <td>[two, dogs, play, together, in, the, snow]</td>\n",
       "    </tr>\n",
       "    <tr>\n",
       "      <th>4</th>\n",
       "      <td>2513260012_03d33305cf.jpg</td>\n",
       "      <td>train</td>\n",
       "      <td>Two dogs running through a low lying body of w...</td>\n",
       "      <td>10</td>\n",
       "      <td>[two, dogs, running, through, a, low, lying, b...</td>\n",
       "    </tr>\n",
       "  </tbody>\n",
       "</table>\n",
       "</div>"
      ],
      "text/plain": [
       "                   file_name  split  \\\n",
       "0  2513260012_03d33305cf.jpg  train   \n",
       "1  2513260012_03d33305cf.jpg  train   \n",
       "2  2513260012_03d33305cf.jpg  train   \n",
       "3  2513260012_03d33305cf.jpg  train   \n",
       "4  2513260012_03d33305cf.jpg  train   \n",
       "\n",
       "                                             caption  tok_len  \\\n",
       "0  A black dog is running after a white dog in th...       12   \n",
       "1           Black dog chasing brown dog through snow        7   \n",
       "2  Two dogs chase each other across the snowy gro...        9   \n",
       "3               Two dogs play together in the snow .        7   \n",
       "4  Two dogs running through a low lying body of w...       10   \n",
       "\n",
       "                                              tokens  \n",
       "0  [a, black, dog, is, running, after, a, white, ...  \n",
       "1   [black, dog, chasing, brown, dog, through, snow]  \n",
       "2  [two, dogs, chase, each, other, across, the, s...  \n",
       "3         [two, dogs, play, together, in, the, snow]  \n",
       "4  [two, dogs, running, through, a, low, lying, b...  "
      ]
     },
     "execution_count": 13,
     "metadata": {},
     "output_type": "execute_result"
    }
   ],
   "source": [
    "df = pd.read_json(\"../data/data.json\")\n",
    "df.head()"
   ]
  },
  {
   "cell_type": "markdown",
   "metadata": {},
   "source": [
    "### AraBert Tokenizer "
   ]
  },
  {
   "cell_type": "code",
   "execution_count": 6,
   "metadata": {},
   "outputs": [
    {
     "name": "stdout",
     "output_type": "stream",
     "text": [
      "Cloning into 'arabert'...\n",
      "remote: Enumerating objects: 544, done.\u001b[K\n",
      "remote: Counting objects: 100% (330/330), done.\u001b[K\n",
      "remote: Compressing objects: 100% (237/237), done.\u001b[K\n",
      "remote: Total 544 (delta 175), reused 237 (delta 87), pack-reused 214\n",
      "Receiving objects: 100% (544/544), 9.15 MiB | 1.43 MiB/s, done.\n",
      "Resolving deltas: 100% (298/298), done.\n"
     ]
    }
   ],
   "source": [
    "# !git clone https://github.com/aub-mind/arabert"
   ]
  },
  {
   "cell_type": "code",
   "execution_count": 7,
   "metadata": {},
   "outputs": [
    {
     "name": "stderr",
     "output_type": "stream",
     "text": [
      "[2021-09-26 16:53:49,868 - farasapy_logger - WARNING]: Be careful with large lines as they may break on interactive mode. You may switch to Standalone mode for such cases.\n"
     ]
    },
    {
     "data": {
      "text/plain": [
       "\"و+ لن نبالغ إذا قل +نا : إن ' هاتف ' أو ' كمبيوتر ال+ مكتب ' في زمن +نا هذا ضروري\""
      ]
     },
     "execution_count": 7,
     "metadata": {},
     "output_type": "execute_result"
    }
   ],
   "source": [
    "from arabert.preprocess import ArabertPreprocessor\n",
    "\n",
    "model_name = \"aubmindlab/bert-base-arabertv2\"\n",
    "arabert_prep = ArabertPreprocessor(model_name=model_name)\n",
    "\n",
    "text = \"ولن نبالغ إذا قلنا: إن 'هاتف' أو 'كمبيوتر المكتب' في زمننا هذا ضروري\"\n",
    "output = arabert_prep.preprocess(text)\n",
    "output"
   ]
  },
  {
   "cell_type": "code",
   "execution_count": 8,
   "metadata": {},
   "outputs": [
    {
     "data": {
      "text/plain": [
       "\"ولن نبالغ إذا قلنا: إن 'هاتف' أو 'كمبيوتر المكتب' في زمننا هذا ضروري\""
      ]
     },
     "execution_count": 8,
     "metadata": {},
     "output_type": "execute_result"
    }
   ],
   "source": [
    "arabert_prep.unpreprocess(' '.join(w for w in araby.tokenize(output)))"
   ]
  },
  {
   "cell_type": "code",
   "execution_count": 10,
   "metadata": {},
   "outputs": [],
   "source": [
    "df = ar_df"
   ]
  },
  {
   "cell_type": "code",
   "execution_count": 11,
   "metadata": {
    "id": "v3raqd4oczwe",
    "outputId": "67d4dbc3-3274-4ca4-cc3f-c28cc911189e"
   },
   "outputs": [
    {
     "name": "stderr",
     "output_type": "stream",
     "text": [
      "100%|██████████| 1005/1005 [00:01<00:00, 771.12it/s]\n"
     ]
    }
   ],
   "source": [
    "all_tokens = []\n",
    "token_lens = []\n",
    "for i in tqdm(range(df.shape[0]), position=0):\n",
    "    try:\n",
    "        tokens = araby.tokenize(arabert_prep.preprocess(df.iloc[i].caption))\n",
    "    except:\n",
    "        print(df.iloc[i].caption)\n",
    "        break\n",
    "    token_len = len(tokens)\n",
    "    all_tokens.append(tokens)\n",
    "    token_lens.append(token_len)"
   ]
  },
  {
   "cell_type": "code",
   "execution_count": 12,
   "metadata": {
    "id": "m66osxspczwe"
   },
   "outputs": [],
   "source": [
    "#file_name\tsplit\tcaption\ttok_len\ttokens\n",
    "df['tok_len'] = token_lens\n",
    "df['tokens'] = all_tokens"
   ]
  },
  {
   "cell_type": "code",
   "execution_count": 13,
   "metadata": {
    "id": "c-W9Du1Jczwe",
    "outputId": "7e16dda8-363e-42a9-b485-b814525945f8"
   },
   "outputs": [
    {
     "data": {
      "text/html": [
       "<div>\n",
       "<style scoped>\n",
       "    .dataframe tbody tr th:only-of-type {\n",
       "        vertical-align: middle;\n",
       "    }\n",
       "\n",
       "    .dataframe tbody tr th {\n",
       "        vertical-align: top;\n",
       "    }\n",
       "\n",
       "    .dataframe thead th {\n",
       "        text-align: right;\n",
       "    }\n",
       "</style>\n",
       "<table border=\"1\" class=\"dataframe\">\n",
       "  <thead>\n",
       "    <tr style=\"text-align: right;\">\n",
       "      <th></th>\n",
       "      <th>caption</th>\n",
       "      <th>id</th>\n",
       "      <th>file_path</th>\n",
       "      <th>split</th>\n",
       "      <th>tok_len</th>\n",
       "      <th>tokens</th>\n",
       "    </tr>\n",
       "  </thead>\n",
       "  <tbody>\n",
       "    <tr>\n",
       "      <th>0</th>\n",
       "      <td>الناس يعبرون الشارع في بلدة صينية مزدحمة.</td>\n",
       "      <td>64183</td>\n",
       "      <td>000000064183.jpg</td>\n",
       "      <td>test</td>\n",
       "      <td>20</td>\n",
       "      <td>[ال, +, ناس, يعبر, +, ون, ال, +, شارع, في, بلد...</td>\n",
       "    </tr>\n",
       "    <tr>\n",
       "      <th>1</th>\n",
       "      <td>شخص يحمل مظلة صفراء يمشي بالقرب من الرصيف.</td>\n",
       "      <td>64183</td>\n",
       "      <td>000000064183.jpg</td>\n",
       "      <td>test</td>\n",
       "      <td>17</td>\n",
       "      <td>[شخص, يحمل, مظل, +, ة, صفراء, يمشي, ب, +, ال, ...</td>\n",
       "    </tr>\n",
       "    <tr>\n",
       "      <th>2</th>\n",
       "      <td>شخص في الشارع  يجر عربة تسوق  ويحمل مظلة.</td>\n",
       "      <td>64183</td>\n",
       "      <td>000000064183.jpg</td>\n",
       "      <td>test</td>\n",
       "      <td>17</td>\n",
       "      <td>[شخص, في, ال, +, شارع, يجر, عرب, +, ة, تسوق, و...</td>\n",
       "    </tr>\n",
       "    <tr>\n",
       "      <th>3</th>\n",
       "      <td>امرأة في شارع مزدحم مع عربة تسوق ومظلة.</td>\n",
       "      <td>64183</td>\n",
       "      <td>000000064183.jpg</td>\n",
       "      <td>test</td>\n",
       "      <td>17</td>\n",
       "      <td>[امرأ, +, ة, في, شارع, مزدحم, مع, عرب, +, ة, ت...</td>\n",
       "    </tr>\n",
       "    <tr>\n",
       "      <th>4</th>\n",
       "      <td>أشخاص يسيرون وسيارات تسير في شارع بجوار متاجر</td>\n",
       "      <td>64183</td>\n",
       "      <td>000000064183.jpg</td>\n",
       "      <td>test</td>\n",
       "      <td>16</td>\n",
       "      <td>[أشخاص, يسير, +, ون, و, +, سيار, +, ات, تسير, ...</td>\n",
       "    </tr>\n",
       "  </tbody>\n",
       "</table>\n",
       "</div>"
      ],
      "text/plain": [
       "                                         caption     id         file_path  \\\n",
       "0      الناس يعبرون الشارع في بلدة صينية مزدحمة.  64183  000000064183.jpg   \n",
       "1     شخص يحمل مظلة صفراء يمشي بالقرب من الرصيف.  64183  000000064183.jpg   \n",
       "2      شخص في الشارع  يجر عربة تسوق  ويحمل مظلة.  64183  000000064183.jpg   \n",
       "3        امرأة في شارع مزدحم مع عربة تسوق ومظلة.  64183  000000064183.jpg   \n",
       "4  أشخاص يسيرون وسيارات تسير في شارع بجوار متاجر  64183  000000064183.jpg   \n",
       "\n",
       "  split  tok_len                                             tokens  \n",
       "0  test       20  [ال, +, ناس, يعبر, +, ون, ال, +, شارع, في, بلد...  \n",
       "1  test       17  [شخص, يحمل, مظل, +, ة, صفراء, يمشي, ب, +, ال, ...  \n",
       "2  test       17  [شخص, في, ال, +, شارع, يجر, عرب, +, ة, تسوق, و...  \n",
       "3  test       17  [امرأ, +, ة, في, شارع, مزدحم, مع, عرب, +, ة, ت...  \n",
       "4  test       16  [أشخاص, يسير, +, ون, و, +, سيار, +, ات, تسير, ...  "
      ]
     },
     "execution_count": 13,
     "metadata": {},
     "output_type": "execute_result"
    }
   ],
   "source": [
    "df.head()"
   ]
  },
  {
   "cell_type": "markdown",
   "metadata": {},
   "source": [
    "old stats\n",
    "max, min\n",
    "\n",
    "(26, 1)"
   ]
  },
  {
   "cell_type": "code",
   "execution_count": 14,
   "metadata": {
    "id": "bQhvyuvjczwf",
    "outputId": "883f998e-bd22-41c9-8b8e-e9d3b565a9c7"
   },
   "outputs": [
    {
     "data": {
      "text/plain": [
       "(56, 6)"
      ]
     },
     "execution_count": 14,
     "metadata": {},
     "output_type": "execute_result"
    }
   ],
   "source": [
    "df.tok_len.max(), df.tok_len.min()"
   ]
  },
  {
   "cell_type": "code",
   "execution_count": 15,
   "metadata": {},
   "outputs": [
    {
     "data": {
      "text/plain": [
       "<AxesSubplot:>"
      ]
     },
     "execution_count": 15,
     "metadata": {},
     "output_type": "execute_result"
    },
    {
     "data": {
      "image/png": "[encoded data removed]",
      "text/plain": [
       "<Figure size 432x288 with 1 Axes>"
      ]
     },
     "metadata": {
      "needs_background": "light"
     },
     "output_type": "display_data"
    }
   ],
   "source": [
    "df.tok_len.hist()"
   ]
  },
  {
   "cell_type": "code",
   "execution_count": 16,
   "metadata": {},
   "outputs": [],
   "source": [
    "df.drop('id', axis=1, inplace=True)"
   ]
  },
  {
   "cell_type": "code",
   "execution_count": 17,
   "metadata": {
    "id": "aTCfH8gvczwf"
   },
   "outputs": [],
   "source": [
    "df.to_json(\"sm_ar_data.json\")"
   ]
  },
  {
   "cell_type": "code",
   "execution_count": 18,
   "metadata": {
    "id": "_ZywXHOkczwf",
    "outputId": "b32ac85a-2fb8-47da-e86a-cdac2dc00a01"
   },
   "outputs": [
    {
     "data": {
      "text/plain": [
       "['ال',\n",
       " '+',\n",
       " 'ناس',\n",
       " 'يعبر',\n",
       " '+',\n",
       " 'ون',\n",
       " 'ال',\n",
       " '+',\n",
       " 'شارع',\n",
       " 'في',\n",
       " 'بلد',\n",
       " '+',\n",
       " 'ة',\n",
       " 'صيني',\n",
       " '+',\n",
       " 'ة',\n",
       " 'مزدحم',\n",
       " '+',\n",
       " 'ة',\n",
       " '.']"
      ]
     },
     "execution_count": 18,
     "metadata": {},
     "output_type": "execute_result"
    }
   ],
   "source": [
    "df.tokens[0]"
   ]
  }
 ],
 "metadata": {
  "colab": {
   "collapsed_sections": [],
   "name": "dataset preprocessing.ipynb",
   "provenance": []
  },
  "kernelspec": {
   "display_name": "Python 3",
   "language": "python",
   "name": "python3"
  },
  "language_info": {
   "codemirror_mode": {
    "name": "ipython",
    "version": 3
   },
   "file_extension": ".py",
   "mimetype": "text/x-python",
   "name": "python",
   "nbconvert_exporter": "python",
   "pygments_lexer": "ipython3",
   "version": "3.6.13"
  }
 },
 "nbformat": 4,
 "nbformat_minor": 1
}
