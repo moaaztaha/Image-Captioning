{
 "cells": [
  {
   "cell_type": "code",
   "execution_count": 1,
   "metadata": {},
   "outputs": [
    {
     "name": "stdout",
     "output_type": "stream",
     "text": [
      "Cloning into 'Image-Captioning'...\n",
      "remote: Enumerating objects: 286, done.\u001b[K\n",
      "remote: Counting objects: 100% (286/286), done.\u001b[K\n",
      "remote: Compressing objects: 100% (212/212), done.\u001b[K\n",
      "remote: Total 286 (delta 169), reused 186 (delta 71), pack-reused 0\u001b[K\n",
      "Receiving objects: 100% (286/286), 14.73 MiB | 18.24 MiB/s, done.\n",
      "Resolving deltas: 100% (169/169), done.\n"
     ]
    }
   ],
   "source": [
    "# get the code for kaggle\n",
    "!git clone https://github.com/moaaztaha/Image-Captioning\n",
    "py_files_path = '/kaggle/working/Image-Captioning/'\n",
    "import sys\n",
    "sys.path.append(py_files_path)"
   ]
  },
  {
   "cell_type": "code",
   "execution_count": 2,
   "metadata": {},
   "outputs": [],
   "source": [
    "%reload_ext autoreload\n",
    "%autoreload 2\n",
    "%matplotlib inline"
   ]
  },
  {
   "cell_type": "code",
   "execution_count": 3,
   "metadata": {},
   "outputs": [],
   "source": [
    "\n",
    "import time \n",
    "import torch.backends.cudnn as cudnn\n",
    "import torch.optim\n",
    "import torch.utils.data\n",
    "import torchvision.transforms as transforms\n",
    "from torch import nn\n",
    "from torch.nn.utils.rnn import pack_padded_sequence\n",
    "from models import Encoder, DecoderWithAttention\n",
    "from dataset import *\n",
    "from utils import *\n",
    "from train import *\n",
    "from nltk.translate.bleu_score import corpus_bleu"
   ]
  },
  {
   "cell_type": "code",
   "execution_count": 4,
   "metadata": {},
   "outputs": [],
   "source": [
    "# Model parameters\n",
    "encoder_dim = 2048 # resnet101\n",
    "emb_dim = 512  # dimension of word embeddings\n",
    "attention_dim = 512  # dimension of attention linear layers\n",
    "decoder_dim = 512  # dimension of decoder RNN\n",
    "dropout = 0.5\n",
    "device = torch.device(\"cuda\" if torch.cuda.is_available() else \"cpu\")  # sets device for model and PyTorch tensors\n",
    "cudnn.benchmark = True  # set to true only if inputs to model are fixed size; otherwise lot of computational overhead\n",
    "\n",
    "# training parameters\n",
    "epochs = 30  # number of epochs to train for (if early stopping is not triggered)\n",
    "batch_size = 256\n",
    "workers = 4\n",
    "encoder_lr = 1e-4  # learning rate for encoder if fine-tuning\n",
    "decoder_lr = 4e-4  # learning rate for decoder\n",
    "fine_tune_encoder = True  # fine-tune encoder?\n",
    "checkpoint = '../input/train-then-finetune/BEST_checkpoint_flickr8k_5_cap_per_img_2_min_word_freq_resnet101.pth.tar'  # path to checkpoint, None if none"
   ]
  },
  {
   "cell_type": "code",
   "execution_count": 5,
   "metadata": {},
   "outputs": [],
   "source": [
    "DATA_NAME = 'flickr8k_5_cap_per_img_2_min_word_freq_resnet101_finetuneencoder'\n",
    "\n",
    "# local\n",
    "# DATA_JSON_PATH = 'data.json'\n",
    "# IMGS_PATH = 'flickr/Images/'\n",
    "# kaggle paths\n",
    "DATA_JSON_PATH = '/kaggle/working/Image-Captioning/data.json'\n",
    "IMGS_PATH = '../input/flickr8kimagescaptions/flickr8k/images/'"
   ]
  },
  {
   "cell_type": "code",
   "execution_count": 6,
   "metadata": {},
   "outputs": [
    {
     "name": "stdout",
     "output_type": "stream",
     "text": [
      "Loaded Checkpoint!!\n",
      "Last Epoch: 16\n",
      "Best Bleu-4: 0.1375452713311172\n"
     ]
    }
   ],
   "source": [
    "cc = load_checkpoint(checkpoint)"
   ]
  },
  {
   "cell_type": "code",
   "execution_count": 7,
   "metadata": {},
   "outputs": [
    {
     "name": "stderr",
     "output_type": "stream",
     "text": [
      "100%|██████████| 30000/30000 [00:00<00:00, 227910.02it/s]\n"
     ]
    }
   ],
   "source": [
    "vocab = build_vocab(DATA_JSON_PATH)\n"
   ]
  },
  {
   "cell_type": "code",
   "execution_count": 10,
   "metadata": {},
   "outputs": [],
   "source": [
    "t_params = {\n",
    "    'data_name': DATA_NAME,\n",
    "    'imgs_path': IMGS_PATH,\n",
    "    'df_path': DATA_JSON_PATH,\n",
    "    'vocab': vocab,\n",
    "    'epochs': epochs,\n",
    "    'batch_size': batch_size//4,\n",
    "    'workers': workers,\n",
    "    'decoder_lr': decoder_lr,\n",
    "    'encoder_lr': encoder_lr,\n",
    "    'fine_tune_encoder': fine_tune_encoder\n",
    "}\n",
    "\n",
    "m_params = {\n",
    "    'attention_dim': attention_dim,\n",
    "    'embed_dim': emb_dim,\n",
    "    'decoder_dim': decoder_dim,\n",
    "    'encoder_dim': encoder_dim,\n",
    "    'dropout': dropout\n",
    "}\n"
   ]
  },
  {
   "cell_type": "code",
   "execution_count": 11,
   "metadata": {},
   "outputs": [
    {
     "data": {
      "text/plain": [
       "{'data_name': 'flickr8k_5_cap_per_img_2_min_word_freq_resnet101_finetuneencoder',\n",
       " 'imgs_path': '../input/flickr8kimagescaptions/flickr8k/images/',\n",
       " 'df_path': '/kaggle/working/Image-Captioning/data.json',\n",
       " 'vocab': <dataset.Vocabulary at 0x7f01120203d0>,\n",
       " 'epochs': 30,\n",
       " 'batch_size': 64,\n",
       " 'workers': 4,\n",
       " 'decoder_lr': 0.0004,\n",
       " 'encoder_lr': 0.0001,\n",
       " 'fine_tune_encoder': True}"
      ]
     },
     "execution_count": 11,
     "metadata": {},
     "output_type": "execute_result"
    }
   ],
   "source": [
    "t_params"
   ]
  },
  {
   "cell_type": "code",
   "execution_count": 12,
   "metadata": {
    "scrolled": false
   },
   "outputs": [
    {
     "name": "stdout",
     "output_type": "stream",
     "text": [
      "Loaded Checkpoint!!\n",
      "Starting Epoch: 17\n",
      "Loading Data\n",
      "Dataset split: train\n",
      "Unique images: 6000\n",
      "Total size: 30000\n",
      "Dataset split: val\n",
      "Unique images: 1000\n",
      "Total size: 5000\n",
      "__________________________________________________\n",
      "-------------------- Fitting --------------------\n",
      "__________________________________________________\n",
      "-------------------- Training --------------------\n",
      "Epoch: [17][0/469]\tBatch Time 5.942 (5.942)\tData Load Time 1.894 (1.894)\tLoss 3.1148 (3.1148)\tTop-5 Accuracy 78.746 (78.746)\n",
      "Epoch: [17][100/469]\tBatch Time 0.686 (0.765)\tData Load Time 0.000 (0.019)\tLoss 3.6705 (3.4556)\tTop-5 Accuracy 67.628 (71.677)\n",
      "Epoch: [17][200/469]\tBatch Time 0.726 (0.737)\tData Load Time 0.004 (0.010)\tLoss 3.3812 (3.4769)\tTop-5 Accuracy 72.893 (71.389)\n",
      "Epoch: [17][300/469]\tBatch Time 0.701 (0.726)\tData Load Time 0.000 (0.007)\tLoss 3.3830 (3.4781)\tTop-5 Accuracy 72.516 (71.367)\n",
      "Epoch: [17][400/469]\tBatch Time 0.718 (0.721)\tData Load Time 0.000 (0.005)\tLoss 3.5106 (3.4760)\tTop-5 Accuracy 69.912 (71.423)\n",
      "-------------------- Validation --------------------\n",
      "Validation: [0/79]\tBatch Time 3.595 (3.595)\tLoss 5.0861 (5.0861)\tTop-5 Accuracy 58.251 (58.251)\t\n",
      "\n",
      " * LOSS - 5.099, TOP-5 ACCURACY - 59.687, BLEU-4 - 0.134325813925202\n",
      "\n",
      "\n",
      "Epochs since last improvement: (1,)\n",
      "__________________________________________________\n",
      "-------------------- Training --------------------\n",
      "Epoch: [18][0/469]\tBatch Time 2.709 (2.709)\tData Load Time 1.758 (1.758)\tLoss 3.1759 (3.1759)\tTop-5 Accuracy 75.671 (75.671)\n",
      "Epoch: [18][100/469]\tBatch Time 0.702 (0.737)\tData Load Time 0.000 (0.018)\tLoss 3.3351 (3.2381)\tTop-5 Accuracy 73.006 (75.206)\n",
      "Epoch: [18][200/469]\tBatch Time 0.787 (0.724)\tData Load Time 0.000 (0.009)\tLoss 3.0983 (3.2479)\tTop-5 Accuracy 76.480 (75.025)\n",
      "Epoch: [18][300/469]\tBatch Time 0.761 (0.719)\tData Load Time 0.000 (0.006)\tLoss 3.3183 (3.2625)\tTop-5 Accuracy 75.042 (74.768)\n",
      "Epoch: [18][400/469]\tBatch Time 0.697 (0.716)\tData Load Time 0.000 (0.005)\tLoss 3.3127 (3.2741)\tTop-5 Accuracy 74.914 (74.595)\n",
      "-------------------- Validation --------------------\n",
      "Validation: [0/79]\tBatch Time 3.291 (3.291)\tLoss 4.9450 (4.9450)\tTop-5 Accuracy 61.167 (61.167)\t\n",
      "\n",
      " * LOSS - 5.210, TOP-5 ACCURACY - 60.099, BLEU-4 - 0.13923967982825403\n",
      "\n",
      "__________________________________________________\n",
      "-------------------- Training --------------------\n",
      "Epoch: [19][0/469]\tBatch Time 2.733 (2.733)\tData Load Time 1.855 (1.855)\tLoss 3.3002 (3.3002)\tTop-5 Accuracy 71.870 (71.870)\n",
      "Epoch: [19][100/469]\tBatch Time 0.724 (0.733)\tData Load Time 0.000 (0.019)\tLoss 3.0841 (3.1043)\tTop-5 Accuracy 77.778 (77.277)\n",
      "Epoch: [19][200/469]\tBatch Time 0.712 (0.721)\tData Load Time 0.001 (0.010)\tLoss 3.2101 (3.1201)\tTop-5 Accuracy 75.385 (77.094)\n",
      "Epoch: [19][300/469]\tBatch Time 0.692 (0.717)\tData Load Time 0.000 (0.006)\tLoss 3.2402 (3.1256)\tTop-5 Accuracy 74.220 (76.995)\n",
      "Epoch: [19][400/469]\tBatch Time 0.702 (0.715)\tData Load Time 0.000 (0.005)\tLoss 3.1317 (3.1353)\tTop-5 Accuracy 76.946 (76.823)\n",
      "-------------------- Validation --------------------\n",
      "Validation: [0/79]\tBatch Time 3.344 (3.344)\tLoss 5.0608 (5.0608)\tTop-5 Accuracy 61.409 (61.409)\t\n",
      "\n",
      " * LOSS - 5.244, TOP-5 ACCURACY - 60.122, BLEU-4 - 0.14113725035690694\n",
      "\n",
      "__________________________________________________\n",
      "-------------------- Training --------------------\n",
      "Epoch: [20][0/469]\tBatch Time 2.785 (2.785)\tData Load Time 1.841 (1.841)\tLoss 2.9398 (2.9398)\tTop-5 Accuracy 79.327 (79.327)\n",
      "Epoch: [20][100/469]\tBatch Time 0.716 (0.728)\tData Load Time 0.000 (0.018)\tLoss 3.0832 (2.9736)\tTop-5 Accuracy 76.606 (79.440)\n",
      "Epoch: [20][200/469]\tBatch Time 0.689 (0.719)\tData Load Time 0.000 (0.009)\tLoss 2.9909 (3.0001)\tTop-5 Accuracy 78.947 (78.988)\n",
      "Epoch: [20][300/469]\tBatch Time 0.733 (0.715)\tData Load Time 0.000 (0.006)\tLoss 3.0974 (3.0107)\tTop-5 Accuracy 76.667 (78.800)\n",
      "Epoch: [20][400/469]\tBatch Time 0.701 (0.714)\tData Load Time 0.000 (0.005)\tLoss 3.2139 (3.0280)\tTop-5 Accuracy 75.157 (78.531)\n",
      "-------------------- Validation --------------------\n",
      "Validation: [0/79]\tBatch Time 3.529 (3.529)\tLoss 5.7903 (5.7903)\tTop-5 Accuracy 57.516 (57.516)\t\n",
      "\n",
      " * LOSS - 5.291, TOP-5 ACCURACY - 60.208, BLEU-4 - 0.1449556204126587\n",
      "\n",
      "__________________________________________________\n",
      "-------------------- Training --------------------\n",
      "Epoch: [21][0/469]\tBatch Time 2.903 (2.903)\tData Load Time 1.966 (1.966)\tLoss 3.0054 (3.0054)\tTop-5 Accuracy 79.602 (79.602)\n",
      "Epoch: [21][100/469]\tBatch Time 0.687 (0.731)\tData Load Time 0.000 (0.020)\tLoss 2.8521 (2.8814)\tTop-5 Accuracy 81.176 (80.801)\n",
      "Epoch: [21][200/469]\tBatch Time 0.737 (0.719)\tData Load Time 0.000 (0.010)\tLoss 3.0121 (2.8942)\tTop-5 Accuracy 80.183 (80.644)\n",
      "Epoch: [21][300/469]\tBatch Time 0.718 (0.715)\tData Load Time 0.000 (0.007)\tLoss 2.9665 (2.9097)\tTop-5 Accuracy 78.571 (80.391)\n",
      "Epoch: [21][400/469]\tBatch Time 0.692 (0.714)\tData Load Time 0.000 (0.005)\tLoss 2.9584 (2.9292)\tTop-5 Accuracy 79.615 (80.100)\n",
      "-------------------- Validation --------------------\n",
      "Validation: [0/79]\tBatch Time 3.413 (3.413)\tLoss 5.3484 (5.3484)\tTop-5 Accuracy 59.486 (59.486)\t\n",
      "\n",
      " * LOSS - 5.353, TOP-5 ACCURACY - 60.017, BLEU-4 - 0.13407878951630936\n",
      "\n",
      "\n",
      "Epochs since last improvement: (1,)\n",
      "__________________________________________________\n",
      "-------------------- Training --------------------\n",
      "Epoch: [22][0/469]\tBatch Time 2.848 (2.848)\tData Load Time 1.923 (1.923)\tLoss 2.6753 (2.6753)\tTop-5 Accuracy 83.837 (83.837)\n",
      "Epoch: [22][100/469]\tBatch Time 0.712 (0.736)\tData Load Time 0.000 (0.019)\tLoss 2.8558 (2.7866)\tTop-5 Accuracy 81.552 (82.318)\n",
      "Epoch: [22][200/469]\tBatch Time 0.738 (0.722)\tData Load Time 0.000 (0.010)\tLoss 2.9140 (2.8138)\tTop-5 Accuracy 78.249 (81.904)\n",
      "Epoch: [22][300/469]\tBatch Time 0.689 (0.716)\tData Load Time 0.000 (0.007)\tLoss 2.8665 (2.8300)\tTop-5 Accuracy 80.130 (81.628)\n",
      "Epoch: [22][400/469]\tBatch Time 0.711 (0.713)\tData Load Time 0.000 (0.005)\tLoss 3.0409 (2.8437)\tTop-5 Accuracy 78.691 (81.449)\n",
      "-------------------- Validation --------------------\n",
      "Validation: [0/79]\tBatch Time 2.684 (2.684)\tLoss 4.7611 (4.7611)\tTop-5 Accuracy 66.250 (66.250)\t\n",
      "\n",
      " * LOSS - 5.377, TOP-5 ACCURACY - 60.164, BLEU-4 - 0.14069942069150693\n",
      "\n",
      "\n",
      "Epochs since last improvement: (2,)\n",
      "__________________________________________________\n",
      "-------------------- Training --------------------\n",
      "Epoch: [23][0/469]\tBatch Time 2.758 (2.758)\tData Load Time 1.923 (1.923)\tLoss 2.7638 (2.7638)\tTop-5 Accuracy 83.000 (83.000)\n",
      "Epoch: [23][100/469]\tBatch Time 0.682 (0.743)\tData Load Time 0.000 (0.020)\tLoss 2.7091 (2.6997)\tTop-5 Accuracy 84.098 (83.810)\n",
      "Epoch: [23][200/469]\tBatch Time 0.710 (0.727)\tData Load Time 0.000 (0.010)\tLoss 2.6016 (2.7241)\tTop-5 Accuracy 85.918 (83.413)\n",
      "Epoch: [23][300/469]\tBatch Time 0.715 (0.721)\tData Load Time 0.000 (0.007)\tLoss 2.8418 (2.7457)\tTop-5 Accuracy 81.745 (83.032)\n",
      "Epoch: [23][400/469]\tBatch Time 0.687 (0.717)\tData Load Time 0.000 (0.005)\tLoss 2.8506 (2.7615)\tTop-5 Accuracy 82.650 (82.792)\n",
      "-------------------- Validation --------------------\n",
      "Validation: [0/79]\tBatch Time 2.874 (2.874)\tLoss 5.3208 (5.3208)\tTop-5 Accuracy 61.526 (61.526)\t\n",
      "\n",
      " * LOSS - 5.416, TOP-5 ACCURACY - 60.134, BLEU-4 - 0.13946762996254028\n",
      "\n",
      "\n",
      "Epochs since last improvement: (3,)\n",
      "__________________________________________________\n",
      "-------------------- Training --------------------\n",
      "Epoch: [24][0/469]\tBatch Time 2.725 (2.725)\tData Load Time 1.907 (1.907)\tLoss 2.5735 (2.5735)\tTop-5 Accuracy 86.190 (86.190)\n",
      "Epoch: [24][100/469]\tBatch Time 0.701 (0.732)\tData Load Time 0.000 (0.019)\tLoss 2.7439 (2.6343)\tTop-5 Accuracy 83.108 (84.786)\n",
      "Epoch: [24][200/469]\tBatch Time 0.707 (0.720)\tData Load Time 0.000 (0.010)\tLoss 2.5988 (2.6539)\tTop-5 Accuracy 84.962 (84.426)\n",
      "Epoch: [24][300/469]\tBatch Time 0.677 (0.716)\tData Load Time 0.000 (0.007)\tLoss 2.7872 (2.6721)\tTop-5 Accuracy 81.711 (84.171)\n",
      "Epoch: [24][400/469]\tBatch Time 0.685 (0.714)\tData Load Time 0.000 (0.005)\tLoss 2.7943 (2.6909)\tTop-5 Accuracy 83.028 (83.900)\n",
      "-------------------- Validation --------------------\n",
      "Validation: [0/79]\tBatch Time 2.560 (2.560)\tLoss 5.0661 (5.0661)\tTop-5 Accuracy 60.900 (60.900)\t\n",
      "\n",
      " * LOSS - 5.513, TOP-5 ACCURACY - 59.826, BLEU-4 - 0.1379107663985618\n",
      "\n",
      "\n",
      "Epochs since last improvement: (4,)\n",
      "__________________________________________________\n",
      "-------------------- Training --------------------\n",
      "Epoch: [25][0/469]\tBatch Time 2.767 (2.767)\tData Load Time 1.958 (1.958)\tLoss 2.6145 (2.6145)\tTop-5 Accuracy 85.882 (85.882)\n",
      "Epoch: [25][100/469]\tBatch Time 0.688 (0.734)\tData Load Time 0.000 (0.020)\tLoss 2.5270 (2.5526)\tTop-5 Accuracy 85.318 (86.006)\n",
      "Epoch: [25][200/469]\tBatch Time 0.736 (0.722)\tData Load Time 0.000 (0.010)\tLoss 2.5489 (2.5724)\tTop-5 Accuracy 85.737 (85.744)\n",
      "Epoch: [25][300/469]\tBatch Time 0.687 (0.717)\tData Load Time 0.000 (0.007)\tLoss 2.4262 (2.5957)\tTop-5 Accuracy 86.922 (85.389)\n",
      "Epoch: [25][400/469]\tBatch Time 0.698 (0.714)\tData Load Time 0.000 (0.005)\tLoss 2.6022 (2.6132)\tTop-5 Accuracy 84.579 (85.129)\n",
      "-------------------- Validation --------------------\n",
      "Validation: [0/79]\tBatch Time 2.567 (2.567)\tLoss 5.7527 (5.7527)\tTop-5 Accuracy 57.770 (57.770)\t\n",
      "\n",
      " * LOSS - 5.546, TOP-5 ACCURACY - 59.904, BLEU-4 - 0.13575356727215995\n",
      "\n",
      "\n",
      "Epochs since last improvement: (5,)\n",
      "__________________________________________________\n",
      "-------------------- Training --------------------\n",
      "Epoch: [26][0/469]\tBatch Time 3.028 (3.028)\tData Load Time 2.154 (2.154)\tLoss 2.4195 (2.4195)\tTop-5 Accuracy 87.480 (87.480)\n",
      "Epoch: [26][100/469]\tBatch Time 0.700 (0.735)\tData Load Time 0.000 (0.022)\tLoss 2.4556 (2.4813)\tTop-5 Accuracy 86.164 (87.006)\n",
      "Epoch: [26][200/469]\tBatch Time 0.696 (0.724)\tData Load Time 0.000 (0.011)\tLoss 2.5473 (2.5005)\tTop-5 Accuracy 86.213 (86.710)\n",
      "Epoch: [26][300/469]\tBatch Time 0.719 (0.720)\tData Load Time 0.000 (0.008)\tLoss 2.5127 (2.5220)\tTop-5 Accuracy 85.174 (86.419)\n",
      "Epoch: [26][400/469]\tBatch Time 0.797 (0.717)\tData Load Time 0.000 (0.006)\tLoss 2.4896 (2.5421)\tTop-5 Accuracy 87.134 (86.174)\n",
      "-------------------- Validation --------------------\n",
      "Validation: [0/79]\tBatch Time 2.426 (2.426)\tLoss 5.9507 (5.9507)\tTop-5 Accuracy 54.403 (54.403)\t\n",
      "\n",
      " * LOSS - 5.628, TOP-5 ACCURACY - 59.622, BLEU-4 - 0.14150299939945993\n",
      "\n",
      "\n",
      "Epochs since last improvement: (6,)\n",
      "__________________________________________________\n",
      "-------------------- Training --------------------\n",
      "Epoch: [27][0/469]\tBatch Time 3.160 (3.160)\tData Load Time 2.212 (2.212)\tLoss 2.4782 (2.4782)\tTop-5 Accuracy 87.836 (87.836)\n",
      "Epoch: [27][100/469]\tBatch Time 0.697 (0.734)\tData Load Time 0.000 (0.022)\tLoss 2.5182 (2.4073)\tTop-5 Accuracy 86.688 (88.248)\n",
      "Epoch: [27][200/469]\tBatch Time 0.694 (0.719)\tData Load Time 0.000 (0.011)\tLoss 2.5373 (2.4275)\tTop-5 Accuracy 86.335 (88.022)\n",
      "Epoch: [27][300/469]\tBatch Time 0.685 (0.715)\tData Load Time 0.000 (0.008)\tLoss 2.5779 (2.4536)\tTop-5 Accuracy 85.528 (87.637)\n",
      "Epoch: [27][400/469]\tBatch Time 0.688 (0.713)\tData Load Time 0.000 (0.006)\tLoss 2.4223 (2.4717)\tTop-5 Accuracy 88.837 (87.382)\n",
      "-------------------- Validation --------------------\n",
      "Validation: [0/79]\tBatch Time 2.484 (2.484)\tLoss 5.1641 (5.1641)\tTop-5 Accuracy 61.774 (61.774)\t\n",
      "\n",
      " * LOSS - 5.716, TOP-5 ACCURACY - 59.587, BLEU-4 - 0.1394672404253238\n",
      "\n",
      "\n",
      "Epochs since last improvement: (7,)\n",
      "__________________________________________________\n",
      "-------------------- Training --------------------\n",
      "Epoch: [28][0/469]\tBatch Time 3.135 (3.135)\tData Load Time 1.938 (1.938)\tLoss 2.2581 (2.2581)\tTop-5 Accuracy 90.785 (90.785)\n",
      "Epoch: [28][100/469]\tBatch Time 0.733 (0.739)\tData Load Time 0.000 (0.020)\tLoss 2.3922 (2.3465)\tTop-5 Accuracy 87.965 (89.238)\n",
      "Epoch: [28][200/469]\tBatch Time 0.730 (0.721)\tData Load Time 0.000 (0.010)\tLoss 2.3236 (2.3622)\tTop-5 Accuracy 88.973 (89.019)\n",
      "Epoch: [28][300/469]\tBatch Time 0.690 (0.719)\tData Load Time 0.000 (0.007)\tLoss 2.5340 (2.3875)\tTop-5 Accuracy 86.963 (88.669)\n",
      "Epoch: [28][400/469]\tBatch Time 0.698 (0.718)\tData Load Time 0.000 (0.005)\tLoss 2.5248 (2.4077)\tTop-5 Accuracy 86.250 (88.410)\n",
      "-------------------- Validation --------------------\n",
      "Validation: [0/79]\tBatch Time 2.524 (2.524)\tLoss 5.9776 (5.9776)\tTop-5 Accuracy 61.920 (61.920)\t\n",
      "\n",
      " * LOSS - 5.724, TOP-5 ACCURACY - 59.408, BLEU-4 - 0.13072941907441415\n",
      "\n",
      "\n",
      "Epochs since last improvement: (8,)\n",
      "Decaying learning rate\n",
      "The new learning rate is 0.00032\n",
      "Decaying learning rate\n",
      "The new learning rate is 8e-05\n",
      "__________________________________________________\n",
      "-------------------- Training --------------------\n",
      "Epoch: [29][0/469]\tBatch Time 3.177 (3.177)\tData Load Time 2.167 (2.167)\tLoss 2.2931 (2.2931)\tTop-5 Accuracy 88.944 (88.944)\n",
      "Epoch: [29][100/469]\tBatch Time 0.688 (0.739)\tData Load Time 0.000 (0.022)\tLoss 2.3677 (2.2608)\tTop-5 Accuracy 88.790 (90.317)\n",
      "Epoch: [29][200/469]\tBatch Time 0.728 (0.724)\tData Load Time 0.000 (0.011)\tLoss 2.2113 (2.2667)\tTop-5 Accuracy 90.924 (90.312)\n",
      "Epoch: [29][300/469]\tBatch Time 0.686 (0.719)\tData Load Time 0.000 (0.008)\tLoss 2.3323 (2.2785)\tTop-5 Accuracy 90.307 (90.196)\n",
      "Epoch: [29][400/469]\tBatch Time 0.688 (0.717)\tData Load Time 0.000 (0.006)\tLoss 2.2488 (2.2881)\tTop-5 Accuracy 91.013 (90.091)\n",
      "-------------------- Validation --------------------\n",
      "Validation: [0/79]\tBatch Time 2.611 (2.611)\tLoss 5.9861 (5.9861)\tTop-5 Accuracy 57.166 (57.166)\t\n",
      "\n",
      " * LOSS - 5.865, TOP-5 ACCURACY - 59.356, BLEU-4 - 0.13478883945336043\n",
      "\n",
      "\n",
      "Epochs since last improvement: (9,)\n"
     ]
    }
   ],
   "source": [
    "fit(t_params=t_params, checkpoint=checkpoint, m_params=m_params)"
   ]
  },
  {
   "cell_type": "code",
   "execution_count": 13,
   "metadata": {},
   "outputs": [
    {
     "name": "stdout",
     "output_type": "stream",
     "text": [
      "Loaded Checkpoint!!\n",
      "Last Epoch: 20\n",
      "Best Bleu-4: 0.1449556204126587\n"
     ]
    }
   ],
   "source": [
    "checkpoint = load_checkpoint('./BEST_checkpoint_flickr8k_5_cap_per_img_2_min_word_freq_resnet101_finetuneencoder.pth.tar')"
   ]
  },
  {
   "cell_type": "markdown",
   "metadata": {},
   "source": [
    "<a href='./BEST_checkpoint_flickr8k_5_cap_per_img_2_min_word_freq_resnet101_finetuneencoder.pth.tar'>download model</a>"
   ]
  },
  {
   "cell_type": "code",
   "execution_count": null,
   "metadata": {},
   "outputs": [],
   "source": []
  }
 ],
 "metadata": {
  "kernelspec": {
   "display_name": "Python 3",
   "language": "python",
   "name": "python3"
  },
  "language_info": {
   "codemirror_mode": {
    "name": "ipython",
    "version": 3
   },
   "file_extension": ".py",
   "mimetype": "text/x-python",
   "name": "python",
   "nbconvert_exporter": "python",
   "pygments_lexer": "ipython3",
   "version": "3.7.6"
  }
 },
 "nbformat": 4,
 "nbformat_minor": 4
}
