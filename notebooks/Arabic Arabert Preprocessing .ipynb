{
 "cells": [
  {
   "cell_type": "markdown",
   "metadata": {
    "id": "t-XtthKwczwY"
   },
   "source": [
    "# Arabic Preprocessing "
   ]
  },
  {
   "cell_type": "code",
   "execution_count": 5,
   "metadata": {},
   "outputs": [],
   "source": [
    "# libraries for arabert\n",
    "# !pip install farasapy\n",
    "# !pip install pyarabic\n",
    "# !pip install fuzzysearch"
   ]
  },
  {
   "cell_type": "code",
   "execution_count": 12,
   "metadata": {
    "id": "-FPTOiT3czwY"
   },
   "outputs": [],
   "source": [
    "import pandas as pd\n",
    "import pyarabic.araby as araby\n",
    "\n",
    "from PIL import Image\n",
    "from tqdm import tqdm\n",
    "import matplotlib.pyplot as plt\n",
    "import time\n",
    "%matplotlib inline"
   ]
  },
  {
   "cell_type": "code",
   "execution_count": 13,
   "metadata": {
    "id": "fDc39-2LczwY",
    "outputId": "2e012af7-f61a-4f01-b00b-1523ac64e822"
   },
   "outputs": [
    {
     "data": {
      "text/html": [
       "<div>\n",
       "<style scoped>\n",
       "    .dataframe tbody tr th:only-of-type {\n",
       "        vertical-align: middle;\n",
       "    }\n",
       "\n",
       "    .dataframe tbody tr th {\n",
       "        vertical-align: top;\n",
       "    }\n",
       "\n",
       "    .dataframe thead th {\n",
       "        text-align: right;\n",
       "    }\n",
       "</style>\n",
       "<table border=\"1\" class=\"dataframe\">\n",
       "  <thead>\n",
       "    <tr style=\"text-align: right;\">\n",
       "      <th></th>\n",
       "      <th>file_name</th>\n",
       "      <th>caption</th>\n",
       "    </tr>\n",
       "  </thead>\n",
       "  <tbody>\n",
       "    <tr>\n",
       "      <th>0</th>\n",
       "      <td>1000268201_693b08cb0e.jpg#0</td>\n",
       "      <td>طفلة صغيرة تتسلق إلى مسرح خشبي</td>\n",
       "    </tr>\n",
       "    <tr>\n",
       "      <th>1</th>\n",
       "      <td>1000268201_693b08cb0e.jpg#1</td>\n",
       "      <td>طفلة صغيرة تتسلق الدرج إلى منزلها</td>\n",
       "    </tr>\n",
       "    <tr>\n",
       "      <th>2</th>\n",
       "      <td>1000268201_693b08cb0e.jpg#2</td>\n",
       "      <td>فتاة صغيرة في ثوب وردي تذهب إلى المقصورة الخشبية</td>\n",
       "    </tr>\n",
       "    <tr>\n",
       "      <th>3</th>\n",
       "      <td>1001773457_577c3a7d70.jpg#0</td>\n",
       "      <td>كلب أسود وكلب ثلاثي الألوان يلعبان مع بعضهما ا...</td>\n",
       "    </tr>\n",
       "    <tr>\n",
       "      <th>4</th>\n",
       "      <td>1001773457_577c3a7d70.jpg#1</td>\n",
       "      <td>كلب أسود وكلب أبيض ببقع بنية يحدقان في بعضهما ...</td>\n",
       "    </tr>\n",
       "  </tbody>\n",
       "</table>\n",
       "</div>"
      ],
      "text/plain": [
       "                     file_name  \\\n",
       "0  1000268201_693b08cb0e.jpg#0   \n",
       "1  1000268201_693b08cb0e.jpg#1   \n",
       "2  1000268201_693b08cb0e.jpg#2   \n",
       "3  1001773457_577c3a7d70.jpg#0   \n",
       "4  1001773457_577c3a7d70.jpg#1   \n",
       "\n",
       "                                             caption  \n",
       "0                     طفلة صغيرة تتسلق إلى مسرح خشبي  \n",
       "1                  طفلة صغيرة تتسلق الدرج إلى منزلها  \n",
       "2   فتاة صغيرة في ثوب وردي تذهب إلى المقصورة الخشبية  \n",
       "3  كلب أسود وكلب ثلاثي الألوان يلعبان مع بعضهما ا...  \n",
       "4  كلب أسود وكلب أبيض ببقع بنية يحدقان في بعضهما ...  "
      ]
     },
     "execution_count": 13,
     "metadata": {},
     "output_type": "execute_result"
    }
   ],
   "source": [
    "# getting the arabic data\n",
    "ar_df = pd.read_csv('others/ar_captions_full.txt', sep='\\t', names=['file_name', 'caption'])\n",
    "ar_df.head()"
   ]
  },
  {
   "cell_type": "code",
   "execution_count": 14,
   "metadata": {
    "id": "Py9kFKBHczwZ",
    "outputId": "11940f17-6c0e-482d-d21b-90a7613f45d2"
   },
   "outputs": [
    {
     "data": {
      "text/html": [
       "<div>\n",
       "<style scoped>\n",
       "    .dataframe tbody tr th:only-of-type {\n",
       "        vertical-align: middle;\n",
       "    }\n",
       "\n",
       "    .dataframe tbody tr th {\n",
       "        vertical-align: top;\n",
       "    }\n",
       "\n",
       "    .dataframe thead th {\n",
       "        text-align: right;\n",
       "    }\n",
       "</style>\n",
       "<table border=\"1\" class=\"dataframe\">\n",
       "  <thead>\n",
       "    <tr style=\"text-align: right;\">\n",
       "      <th></th>\n",
       "      <th>file_name</th>\n",
       "      <th>caption</th>\n",
       "    </tr>\n",
       "  </thead>\n",
       "  <tbody>\n",
       "    <tr>\n",
       "      <th>0</th>\n",
       "      <td>1000268201_693b08cb0e.jpg</td>\n",
       "      <td>طفلة صغيرة تتسلق إلى مسرح خشبي</td>\n",
       "    </tr>\n",
       "    <tr>\n",
       "      <th>1</th>\n",
       "      <td>1000268201_693b08cb0e.jpg</td>\n",
       "      <td>طفلة صغيرة تتسلق الدرج إلى منزلها</td>\n",
       "    </tr>\n",
       "    <tr>\n",
       "      <th>2</th>\n",
       "      <td>1000268201_693b08cb0e.jpg</td>\n",
       "      <td>فتاة صغيرة في ثوب وردي تذهب إلى المقصورة الخشبية</td>\n",
       "    </tr>\n",
       "    <tr>\n",
       "      <th>3</th>\n",
       "      <td>1001773457_577c3a7d70.jpg</td>\n",
       "      <td>كلب أسود وكلب ثلاثي الألوان يلعبان مع بعضهما ا...</td>\n",
       "    </tr>\n",
       "    <tr>\n",
       "      <th>4</th>\n",
       "      <td>1001773457_577c3a7d70.jpg</td>\n",
       "      <td>كلب أسود وكلب أبيض ببقع بنية يحدقان في بعضهما ...</td>\n",
       "    </tr>\n",
       "  </tbody>\n",
       "</table>\n",
       "</div>"
      ],
      "text/plain": [
       "                   file_name  \\\n",
       "0  1000268201_693b08cb0e.jpg   \n",
       "1  1000268201_693b08cb0e.jpg   \n",
       "2  1000268201_693b08cb0e.jpg   \n",
       "3  1001773457_577c3a7d70.jpg   \n",
       "4  1001773457_577c3a7d70.jpg   \n",
       "\n",
       "                                             caption  \n",
       "0                     طفلة صغيرة تتسلق إلى مسرح خشبي  \n",
       "1                  طفلة صغيرة تتسلق الدرج إلى منزلها  \n",
       "2   فتاة صغيرة في ثوب وردي تذهب إلى المقصورة الخشبية  \n",
       "3  كلب أسود وكلب ثلاثي الألوان يلعبان مع بعضهما ا...  \n",
       "4  كلب أسود وكلب أبيض ببقع بنية يحدقان في بعضهما ...  "
      ]
     },
     "execution_count": 14,
     "metadata": {},
     "output_type": "execute_result"
    }
   ],
   "source": [
    "ar_df.file_name = ar_df.file_name.apply(lambda x: x.split(\"#\")[0])\n",
    "ar_df.head()"
   ]
  },
  {
   "cell_type": "code",
   "execution_count": 15,
   "metadata": {
    "id": "SSOaiYqOczwZ",
    "outputId": "3f9f6745-f1c1-469a-afc0-f78fe51c48d8"
   },
   "outputs": [
    {
     "data": {
      "text/html": [
       "<div>\n",
       "<style scoped>\n",
       "    .dataframe tbody tr th:only-of-type {\n",
       "        vertical-align: middle;\n",
       "    }\n",
       "\n",
       "    .dataframe tbody tr th {\n",
       "        vertical-align: top;\n",
       "    }\n",
       "\n",
       "    .dataframe thead th {\n",
       "        text-align: right;\n",
       "    }\n",
       "</style>\n",
       "<table border=\"1\" class=\"dataframe\">\n",
       "  <thead>\n",
       "    <tr style=\"text-align: right;\">\n",
       "      <th></th>\n",
       "      <th>file_name</th>\n",
       "      <th>caption</th>\n",
       "      <th>split</th>\n",
       "    </tr>\n",
       "  </thead>\n",
       "  <tbody>\n",
       "    <tr>\n",
       "      <th>0</th>\n",
       "      <td>1000268201_693b08cb0e.jpg</td>\n",
       "      <td>طفلة صغيرة تتسلق إلى مسرح خشبي</td>\n",
       "      <td>other</td>\n",
       "    </tr>\n",
       "    <tr>\n",
       "      <th>1</th>\n",
       "      <td>1000268201_693b08cb0e.jpg</td>\n",
       "      <td>طفلة صغيرة تتسلق الدرج إلى منزلها</td>\n",
       "      <td>other</td>\n",
       "    </tr>\n",
       "    <tr>\n",
       "      <th>2</th>\n",
       "      <td>1000268201_693b08cb0e.jpg</td>\n",
       "      <td>فتاة صغيرة في ثوب وردي تذهب إلى المقصورة الخشبية</td>\n",
       "      <td>other</td>\n",
       "    </tr>\n",
       "    <tr>\n",
       "      <th>3</th>\n",
       "      <td>1001773457_577c3a7d70.jpg</td>\n",
       "      <td>كلب أسود وكلب ثلاثي الألوان يلعبان مع بعضهما ا...</td>\n",
       "      <td>other</td>\n",
       "    </tr>\n",
       "    <tr>\n",
       "      <th>4</th>\n",
       "      <td>1001773457_577c3a7d70.jpg</td>\n",
       "      <td>كلب أسود وكلب أبيض ببقع بنية يحدقان في بعضهما ...</td>\n",
       "      <td>other</td>\n",
       "    </tr>\n",
       "  </tbody>\n",
       "</table>\n",
       "</div>"
      ],
      "text/plain": [
       "                   file_name  \\\n",
       "0  1000268201_693b08cb0e.jpg   \n",
       "1  1000268201_693b08cb0e.jpg   \n",
       "2  1000268201_693b08cb0e.jpg   \n",
       "3  1001773457_577c3a7d70.jpg   \n",
       "4  1001773457_577c3a7d70.jpg   \n",
       "\n",
       "                                             caption  split  \n",
       "0                     طفلة صغيرة تتسلق إلى مسرح خشبي  other  \n",
       "1                  طفلة صغيرة تتسلق الدرج إلى منزلها  other  \n",
       "2   فتاة صغيرة في ثوب وردي تذهب إلى المقصورة الخشبية  other  \n",
       "3  كلب أسود وكلب ثلاثي الألوان يلعبان مع بعضهما ا...  other  \n",
       "4  كلب أسود وكلب أبيض ببقع بنية يحدقان في بعضهما ...  other  "
      ]
     },
     "execution_count": 15,
     "metadata": {},
     "output_type": "execute_result"
    }
   ],
   "source": [
    "ar_df['split'] = 'other'\n",
    "ar_df.head()"
   ]
  },
  {
   "cell_type": "code",
   "execution_count": 16,
   "metadata": {
    "id": "_wDbDuweczwZ"
   },
   "outputs": [],
   "source": [
    "def split(x):\n",
    "    \n",
    "    if x in test_names:\n",
    "        return 'test'\n",
    "    elif x in val_names:\n",
    "        return 'val'\n",
    "    elif x in train_names:\n",
    "        return 'train'\n",
    "    else:\n",
    "        print(x)"
   ]
  },
  {
   "cell_type": "code",
   "execution_count": 17,
   "metadata": {
    "id": "-uPz9vpOczwa",
    "outputId": "6c5df70f-2f11-42b1-90eb-664a087ec9bf"
   },
   "outputs": [
    {
     "data": {
      "text/html": [
       "<div>\n",
       "<style scoped>\n",
       "    .dataframe tbody tr th:only-of-type {\n",
       "        vertical-align: middle;\n",
       "    }\n",
       "\n",
       "    .dataframe tbody tr th {\n",
       "        vertical-align: top;\n",
       "    }\n",
       "\n",
       "    .dataframe thead th {\n",
       "        text-align: right;\n",
       "    }\n",
       "</style>\n",
       "<table border=\"1\" class=\"dataframe\">\n",
       "  <thead>\n",
       "    <tr style=\"text-align: right;\">\n",
       "      <th></th>\n",
       "      <th>file_name</th>\n",
       "      <th>split</th>\n",
       "      <th>caption</th>\n",
       "      <th>tok_len</th>\n",
       "      <th>tokens</th>\n",
       "    </tr>\n",
       "  </thead>\n",
       "  <tbody>\n",
       "    <tr>\n",
       "      <th>0</th>\n",
       "      <td>2513260012_03d33305cf.jpg</td>\n",
       "      <td>train</td>\n",
       "      <td>A black dog is running after a white dog in th...</td>\n",
       "      <td>12</td>\n",
       "      <td>[a, black, dog, is, running, after, a, white, ...</td>\n",
       "    </tr>\n",
       "    <tr>\n",
       "      <th>1</th>\n",
       "      <td>2513260012_03d33305cf.jpg</td>\n",
       "      <td>train</td>\n",
       "      <td>Black dog chasing brown dog through snow</td>\n",
       "      <td>7</td>\n",
       "      <td>[black, dog, chasing, brown, dog, through, snow]</td>\n",
       "    </tr>\n",
       "    <tr>\n",
       "      <th>2</th>\n",
       "      <td>2513260012_03d33305cf.jpg</td>\n",
       "      <td>train</td>\n",
       "      <td>Two dogs chase each other across the snowy gro...</td>\n",
       "      <td>9</td>\n",
       "      <td>[two, dogs, chase, each, other, across, the, s...</td>\n",
       "    </tr>\n",
       "    <tr>\n",
       "      <th>3</th>\n",
       "      <td>2513260012_03d33305cf.jpg</td>\n",
       "      <td>train</td>\n",
       "      <td>Two dogs play together in the snow .</td>\n",
       "      <td>7</td>\n",
       "      <td>[two, dogs, play, together, in, the, snow]</td>\n",
       "    </tr>\n",
       "    <tr>\n",
       "      <th>4</th>\n",
       "      <td>2513260012_03d33305cf.jpg</td>\n",
       "      <td>train</td>\n",
       "      <td>Two dogs running through a low lying body of w...</td>\n",
       "      <td>10</td>\n",
       "      <td>[two, dogs, running, through, a, low, lying, b...</td>\n",
       "    </tr>\n",
       "  </tbody>\n",
       "</table>\n",
       "</div>"
      ],
      "text/plain": [
       "                   file_name  split  \\\n",
       "0  2513260012_03d33305cf.jpg  train   \n",
       "1  2513260012_03d33305cf.jpg  train   \n",
       "2  2513260012_03d33305cf.jpg  train   \n",
       "3  2513260012_03d33305cf.jpg  train   \n",
       "4  2513260012_03d33305cf.jpg  train   \n",
       "\n",
       "                                             caption  tok_len  \\\n",
       "0  A black dog is running after a white dog in th...       12   \n",
       "1           Black dog chasing brown dog through snow        7   \n",
       "2  Two dogs chase each other across the snowy gro...        9   \n",
       "3               Two dogs play together in the snow .        7   \n",
       "4  Two dogs running through a low lying body of w...       10   \n",
       "\n",
       "                                              tokens  \n",
       "0  [a, black, dog, is, running, after, a, white, ...  \n",
       "1   [black, dog, chasing, brown, dog, through, snow]  \n",
       "2  [two, dogs, chase, each, other, across, the, s...  \n",
       "3         [two, dogs, play, together, in, the, snow]  \n",
       "4  [two, dogs, running, through, a, low, lying, b...  "
      ]
     },
     "execution_count": 17,
     "metadata": {},
     "output_type": "execute_result"
    }
   ],
   "source": [
    "df = pd.read_json(\"data.json\")\n",
    "df.head()"
   ]
  },
  {
   "cell_type": "code",
   "execution_count": 18,
   "metadata": {
    "id": "Rq-iVOvxczwa",
    "outputId": "130bd062-926d-4c4c-ca20-efc3994cdd08"
   },
   "outputs": [
    {
     "data": {
      "text/plain": [
       "(6000, 1000, 1000)"
      ]
     },
     "execution_count": 18,
     "metadata": {},
     "output_type": "execute_result"
    }
   ],
   "source": [
    "test_names = df[df['split'] == 'test'].file_name.unique()\n",
    "val_names = df[df['split'] == 'val'].file_name.unique()\n",
    "train_names = df[df['split'] == 'train'].file_name.unique()\n",
    "len(train_names), len(val_names), len(test_names)"
   ]
  },
  {
   "cell_type": "code",
   "execution_count": 19,
   "metadata": {
    "id": "uAZBwQFfczwa",
    "outputId": "b743210b-c411-4084-d378-cb3a633e86ea",
    "scrolled": true
   },
   "outputs": [
    {
     "name": "stdout",
     "output_type": "stream",
     "text": [
      "1155138244_859fd6e079.jpg\n",
      "1155138244_859fd6e079.jpg\n",
      "1155138244_859fd6e079.jpg\n",
      "1468103286_96a6e07029.jpg\n",
      "1468103286_96a6e07029.jpg\n",
      "1468103286_96a6e07029.jpg\n",
      "1479857177_9d4a6f38fd.jpg\n",
      "1479857177_9d4a6f38fd.jpg\n",
      "1479857177_9d4a6f38fd.jpg\n",
      "1643915227_9f48068772.jpg\n",
      "1643915227_9f48068772.jpg\n",
      "1643915227_9f48068772.jpg\n",
      "1797554350_20998753c0.jpg\n",
      "1797554350_20998753c0.jpg\n",
      "1797554350_20998753c0.jpg\n",
      "1808504612_3508f3c9bb.jpg\n",
      "1808504612_3508f3c9bb.jpg\n",
      "1808504612_3508f3c9bb.jpg\n",
      "199463720_329a802206.jpg\n",
      "199463720_329a802206.jpg\n",
      "199463720_329a802206.jpg\n",
      "2058091220_2087270068.jpg\n",
      "2058091220_2087270068.jpg\n",
      "2058091220_2087270068.jpg\n",
      "2087317114_cf06df5aa5.jpg\n",
      "2087317114_cf06df5aa5.jpg\n",
      "2087317114_cf06df5aa5.jpg\n",
      "2136455112_202c093ba4.jpg\n",
      "2136455112_202c093ba4.jpg\n",
      "2136455112_202c093ba4.jpg\n",
      "2221818690_9003756d33.jpg\n",
      "2221818690_9003756d33.jpg\n",
      "2221818690_9003756d33.jpg\n",
      "2319197581_94f807b204.jpg\n",
      "2319197581_94f807b204.jpg\n",
      "2319197581_94f807b204.jpg\n",
      "236095031_5cb17dc54a.jpg\n",
      "236095031_5cb17dc54a.jpg\n",
      "236095031_5cb17dc54a.jpg\n",
      "2394824046_51cec8e5e7.jpg\n",
      "2394824046_51cec8e5e7.jpg\n",
      "2394824046_51cec8e5e7.jpg\n",
      "240696675_7d05193aa0.jpg\n",
      "240696675_7d05193aa0.jpg\n",
      "240696675_7d05193aa0.jpg\n",
      "2410153942_ba4a136358.jpg\n",
      "2410153942_ba4a136358.jpg\n",
      "2410153942_ba4a136358.jpg\n",
      "2428275562_4bde2bc5ea.jpg\n",
      "2428275562_4bde2bc5ea.jpg\n",
      "2428275562_4bde2bc5ea.jpg\n",
      "2553619107_d382a820f9.jpg\n",
      "2553619107_d382a820f9.jpg\n",
      "2553619107_d382a820f9.jpg\n",
      "2557972410_6925fe695c.jpg\n",
      "2557972410_6925fe695c.jpg\n",
      "2557972410_6925fe695c.jpg\n",
      "2582390123_71120edb0c.jpg\n",
      "2582390123_71120edb0c.jpg\n",
      "2582390123_71120edb0c.jpg\n",
      "2616508003_fa5ca5780d.jpg\n",
      "2616508003_fa5ca5780d.jpg\n",
      "2616508003_fa5ca5780d.jpg\n",
      "2714703706_d21c5cb8df.jpg\n",
      "2714703706_d21c5cb8df.jpg\n",
      "2714703706_d21c5cb8df.jpg\n",
      "2719101587_4ba70dee14.jpg\n",
      "2719101587_4ba70dee14.jpg\n",
      "2719101587_4ba70dee14.jpg\n",
      "2747714500_49476225c6.jpg\n",
      "2747714500_49476225c6.jpg\n",
      "2747714500_49476225c6.jpg\n",
      "2755314937_1e974bf2b5.jpg\n",
      "2755314937_1e974bf2b5.jpg\n",
      "2755314937_1e974bf2b5.jpg\n",
      "2792195540_af5fb95caa.jpg\n",
      "2792195540_af5fb95caa.jpg\n",
      "2792195540_af5fb95caa.jpg\n",
      "2831578193_3c997ae330.jpg\n",
      "2831578193_3c997ae330.jpg\n",
      "2831578193_3c997ae330.jpg\n",
      "2838085973_42b6e9b5b1.jpg\n",
      "2838085973_42b6e9b5b1.jpg\n",
      "2838085973_42b6e9b5b1.jpg\n",
      "2895966469_53e0b29295.jpg\n",
      "2895966469_53e0b29295.jpg\n",
      "2895966469_53e0b29295.jpg\n",
      "2973269132_252bfd0160.jpg\n",
      "2973269132_252bfd0160.jpg\n",
      "2973269132_252bfd0160.jpg\n",
      "2978236380_fb24c43f1e.jpg\n",
      "2978236380_fb24c43f1e.jpg\n",
      "2978236380_fb24c43f1e.jpg\n",
      "2998861375_02817e0147.jpg\n",
      "2998861375_02817e0147.jpg\n",
      "2998861375_02817e0147.jpg\n",
      "3005123298_d3017d5f5d.jpg\n",
      "3005123298_d3017d5f5d.jpg\n",
      "3005123298_d3017d5f5d.jpg\n",
      "3016708786_3591106cca.jpg\n",
      "3016708786_3591106cca.jpg\n",
      "3016708786_3591106cca.jpg\n",
      "3033825101_44a4390f16.jpg\n",
      "3033825101_44a4390f16.jpg\n",
      "3033825101_44a4390f16.jpg\n",
      "3056569684_c264c88d00.jpg\n",
      "3056569684_c264c88d00.jpg\n",
      "3056569684_c264c88d00.jpg\n",
      "3086507638_d8a2cd0ac3.jpg\n",
      "3086507638_d8a2cd0ac3.jpg\n",
      "3086507638_d8a2cd0ac3.jpg\n",
      "3088074124_481139dc92.jpg\n",
      "3088074124_481139dc92.jpg\n",
      "3088074124_481139dc92.jpg\n",
      "3099091086_f75f0ce09d.jpg\n",
      "3099091086_f75f0ce09d.jpg\n",
      "3099091086_f75f0ce09d.jpg\n",
      "3131990048_369b081021.jpg\n",
      "3131990048_369b081021.jpg\n",
      "3131990048_369b081021.jpg\n",
      "3136688093_568b053bdf.jpg\n",
      "3136688093_568b053bdf.jpg\n",
      "3136688093_568b053bdf.jpg\n",
      "3155400369_69e3d6d70f.jpg\n",
      "3155400369_69e3d6d70f.jpg\n",
      "3155400369_69e3d6d70f.jpg\n",
      "3160531982_37f5636b8a.jpg\n",
      "3160531982_37f5636b8a.jpg\n",
      "3160531982_37f5636b8a.jpg\n",
      "3196100539_102fe877b3.jpg\n",
      "3196100539_102fe877b3.jpg\n",
      "3196100539_102fe877b3.jpg\n",
      "3225058391_a12d38d911.jpg\n",
      "3225058391_a12d38d911.jpg\n",
      "3225058391_a12d38d911.jpg\n",
      "3231237864_8cb1c6d863.jpg\n",
      "3231237864_8cb1c6d863.jpg\n",
      "3231237864_8cb1c6d863.jpg\n",
      "3239866450_3f8cfb0c83.jpg\n",
      "3239866450_3f8cfb0c83.jpg\n",
      "3239866450_3f8cfb0c83.jpg\n",
      "3246804978_ea2c9e56f2.jpg\n",
      "3246804978_ea2c9e56f2.jpg\n",
      "3246804978_ea2c9e56f2.jpg\n",
      "3269661567_faf190885a.jpg\n",
      "3269661567_faf190885a.jpg\n",
      "3269661567_faf190885a.jpg\n",
      "3274691778_94bb57bba3.jpg\n",
      "3274691778_94bb57bba3.jpg\n",
      "3274691778_94bb57bba3.jpg\n",
      "3295418287_5d590dac43.jpg\n",
      "3295418287_5d590dac43.jpg\n",
      "3295418287_5d590dac43.jpg\n",
      "3300679815_2c6c2301cb.jpg\n",
      "3300679815_2c6c2301cb.jpg\n",
      "3300679815_2c6c2301cb.jpg\n",
      "3314900697_c5c5ae9af6.jpg\n",
      "3314900697_c5c5ae9af6.jpg\n",
      "3314900697_c5c5ae9af6.jpg\n",
      "3315726723_64c9b0a945.jpg\n",
      "3315726723_64c9b0a945.jpg\n",
      "3315726723_64c9b0a945.jpg\n",
      "3333039854_461329aac2.jpg\n",
      "3333039854_461329aac2.jpg\n",
      "3333039854_461329aac2.jpg\n",
      "3335501468_628655d608.jpg\n",
      "3335501468_628655d608.jpg\n",
      "3335501468_628655d608.jpg\n",
      "3338590946_f25b76cbc7.jpg\n",
      "3338590946_f25b76cbc7.jpg\n",
      "3338590946_f25b76cbc7.jpg\n",
      "3354489242_dd529ffa1f.jpg\n",
      "3354489242_dd529ffa1f.jpg\n",
      "3354489242_dd529ffa1f.jpg\n",
      "3366571152_20afb88ac1.jpg\n",
      "3366571152_20afb88ac1.jpg\n",
      "3366571152_20afb88ac1.jpg\n",
      "3375134059_7e9eb2ef01.jpg\n",
      "3375134059_7e9eb2ef01.jpg\n",
      "3375134059_7e9eb2ef01.jpg\n",
      "3409326324_a704565e8f.jpg\n",
      "3409326324_a704565e8f.jpg\n",
      "3409326324_a704565e8f.jpg\n",
      "3409947123_a8d07edecf.jpg\n",
      "3409947123_a8d07edecf.jpg\n",
      "3409947123_a8d07edecf.jpg\n",
      "3430782104_34da558eba.jpg\n",
      "3430782104_34da558eba.jpg\n",
      "3430782104_34da558eba.jpg\n",
      "3434526008_02359881a0.jpg\n",
      "3434526008_02359881a0.jpg\n",
      "3434526008_02359881a0.jpg\n",
      "3470008804_0ca36a7a09.jpg\n",
      "3470008804_0ca36a7a09.jpg\n",
      "3470008804_0ca36a7a09.jpg\n",
      "3479245321_6a5bc470f8.jpg\n",
      "3479245321_6a5bc470f8.jpg\n",
      "3479245321_6a5bc470f8.jpg\n",
      "3491607076_922ec561d9.jpg\n",
      "3491607076_922ec561d9.jpg\n",
      "3491607076_922ec561d9.jpg\n",
      "3504479370_ff2d89a043.jpg\n",
      "3504479370_ff2d89a043.jpg\n",
      "3504479370_ff2d89a043.jpg\n",
      "3517056462_483ee5a914.jpg\n",
      "3517056462_483ee5a914.jpg\n",
      "3517056462_483ee5a914.jpg\n",
      "3518687038_964c523958.jpg\n",
      "3518687038_964c523958.jpg\n",
      "3518687038_964c523958.jpg\n",
      "3525453732_f74a38f111.jpg\n",
      "3525453732_f74a38f111.jpg\n",
      "3525453732_f74a38f111.jpg\n",
      "3535664885_c848c0faee.jpg\n",
      "3535664885_c848c0faee.jpg\n",
      "3535664885_c848c0faee.jpg\n",
      "3551281733_b43bf6f870.jpg\n",
      "3551281733_b43bf6f870.jpg\n",
      "3551281733_b43bf6f870.jpg\n",
      "3561543598_3c1b572f9b.jpg\n",
      "3561543598_3c1b572f9b.jpg\n",
      "3561543598_3c1b572f9b.jpg\n",
      "3564907603_14ccc655f1.jpg\n",
      "3564907603_14ccc655f1.jpg\n",
      "3564907603_14ccc655f1.jpg\n",
      "3574930742_9081bd2426.jpg\n",
      "3574930742_9081bd2426.jpg\n",
      "3574930742_9081bd2426.jpg\n",
      "3582048078_7bac2d8473.jpg\n",
      "3582048078_7bac2d8473.jpg\n",
      "3582048078_7bac2d8473.jpg\n",
      "358875403_f357f03713.jpg\n",
      "358875403_f357f03713.jpg\n",
      "358875403_f357f03713.jpg\n",
      "3591461782_687e320042.jpg\n",
      "3591461782_687e320042.jpg\n",
      "3591461782_687e320042.jpg\n",
      "3599392711_8264881de2.jpg\n",
      "3599392711_8264881de2.jpg\n",
      "3599392711_8264881de2.jpg\n",
      "3619232550_0b1e1fd4e4.jpg\n",
      "3619232550_0b1e1fd4e4.jpg\n",
      "3619232550_0b1e1fd4e4.jpg\n",
      "3640109324_3ce89e4d1a.jpg\n",
      "3640109324_3ce89e4d1a.jpg\n",
      "3640109324_3ce89e4d1a.jpg\n",
      "3640443200_b8066f37f6.jpg\n",
      "3640443200_b8066f37f6.jpg\n",
      "3640443200_b8066f37f6.jpg\n",
      "3664928753_7b0437fedf.jpg\n",
      "3664928753_7b0437fedf.jpg\n",
      "3664928753_7b0437fedf.jpg\n",
      "3736786640_70df13be2c.jpg\n",
      "3736786640_70df13be2c.jpg\n",
      "3736786640_70df13be2c.jpg\n",
      "394563330_68b566368c.jpg\n",
      "394563330_68b566368c.jpg\n",
      "394563330_68b566368c.jpg\n",
      "423066487_07757b2b49.jpg\n",
      "423066487_07757b2b49.jpg\n",
      "423066487_07757b2b49.jpg\n",
      "عيدا في المنطقة المشجرة\n",
      "482088914_e6ea4501e9.jpg\n",
      "482088914_e6ea4501e9.jpg\n",
      "482088914_e6ea4501e9.jpg\n",
      "531197115_2be4d5034b.jpg\n",
      "531197115_2be4d5034b.jpg\n",
      "531197115_2be4d5034b.jpg\n",
      "61209225_8512e1dad5.jpg\n",
      "61209225_8512e1dad5.jpg\n",
      "61209225_8512e1dad5.jpg\n",
      "843616798_5ab0ecb525.jpg\n",
      "843616798_5ab0ecb525.jpg\n",
      "843616798_5ab0ecb525.jpg\n"
     ]
    }
   ],
   "source": [
    "ar_df['split'] = ar_df['file_name'].apply(lambda row: split(row))"
   ]
  },
  {
   "cell_type": "code",
   "execution_count": 20,
   "metadata": {
    "id": "x7wOXLGPczwb",
    "outputId": "87ede2bb-7ba0-404c-b8bb-c66a3fd7933f"
   },
   "outputs": [
    {
     "data": {
      "text/html": [
       "<div>\n",
       "<style scoped>\n",
       "    .dataframe tbody tr th:only-of-type {\n",
       "        vertical-align: middle;\n",
       "    }\n",
       "\n",
       "    .dataframe tbody tr th {\n",
       "        vertical-align: top;\n",
       "    }\n",
       "\n",
       "    .dataframe thead th {\n",
       "        text-align: right;\n",
       "    }\n",
       "</style>\n",
       "<table border=\"1\" class=\"dataframe\">\n",
       "  <thead>\n",
       "    <tr style=\"text-align: right;\">\n",
       "      <th></th>\n",
       "      <th>file_name</th>\n",
       "      <th>caption</th>\n",
       "      <th>split</th>\n",
       "    </tr>\n",
       "  </thead>\n",
       "  <tbody>\n",
       "    <tr>\n",
       "      <th>0</th>\n",
       "      <td>1000268201_693b08cb0e.jpg</td>\n",
       "      <td>طفلة صغيرة تتسلق إلى مسرح خشبي</td>\n",
       "      <td>train</td>\n",
       "    </tr>\n",
       "    <tr>\n",
       "      <th>1</th>\n",
       "      <td>1000268201_693b08cb0e.jpg</td>\n",
       "      <td>طفلة صغيرة تتسلق الدرج إلى منزلها</td>\n",
       "      <td>train</td>\n",
       "    </tr>\n",
       "    <tr>\n",
       "      <th>2</th>\n",
       "      <td>1000268201_693b08cb0e.jpg</td>\n",
       "      <td>فتاة صغيرة في ثوب وردي تذهب إلى المقصورة الخشبية</td>\n",
       "      <td>train</td>\n",
       "    </tr>\n",
       "    <tr>\n",
       "      <th>3</th>\n",
       "      <td>1001773457_577c3a7d70.jpg</td>\n",
       "      <td>كلب أسود وكلب ثلاثي الألوان يلعبان مع بعضهما ا...</td>\n",
       "      <td>train</td>\n",
       "    </tr>\n",
       "    <tr>\n",
       "      <th>4</th>\n",
       "      <td>1001773457_577c3a7d70.jpg</td>\n",
       "      <td>كلب أسود وكلب أبيض ببقع بنية يحدقان في بعضهما ...</td>\n",
       "      <td>train</td>\n",
       "    </tr>\n",
       "  </tbody>\n",
       "</table>\n",
       "</div>"
      ],
      "text/plain": [
       "                   file_name  \\\n",
       "0  1000268201_693b08cb0e.jpg   \n",
       "1  1000268201_693b08cb0e.jpg   \n",
       "2  1000268201_693b08cb0e.jpg   \n",
       "3  1001773457_577c3a7d70.jpg   \n",
       "4  1001773457_577c3a7d70.jpg   \n",
       "\n",
       "                                             caption  split  \n",
       "0                     طفلة صغيرة تتسلق إلى مسرح خشبي  train  \n",
       "1                  طفلة صغيرة تتسلق الدرج إلى منزلها  train  \n",
       "2   فتاة صغيرة في ثوب وردي تذهب إلى المقصورة الخشبية  train  \n",
       "3  كلب أسود وكلب ثلاثي الألوان يلعبان مع بعضهما ا...  train  \n",
       "4  كلب أسود وكلب أبيض ببقع بنية يحدقان في بعضهما ...  train  "
      ]
     },
     "execution_count": 20,
     "metadata": {},
     "output_type": "execute_result"
    }
   ],
   "source": [
    "ar_df.head()"
   ]
  },
  {
   "cell_type": "code",
   "execution_count": 21,
   "metadata": {
    "id": "BJiR8tI9czwb",
    "outputId": "58fb8d08-cbed-4d7d-8e42-d159a47c590c"
   },
   "outputs": [
    {
     "data": {
      "text/html": [
       "<div>\n",
       "<style scoped>\n",
       "    .dataframe tbody tr th:only-of-type {\n",
       "        vertical-align: middle;\n",
       "    }\n",
       "\n",
       "    .dataframe tbody tr th {\n",
       "        vertical-align: top;\n",
       "    }\n",
       "\n",
       "    .dataframe thead th {\n",
       "        text-align: right;\n",
       "    }\n",
       "</style>\n",
       "<table border=\"1\" class=\"dataframe\">\n",
       "  <thead>\n",
       "    <tr style=\"text-align: right;\">\n",
       "      <th></th>\n",
       "      <th>file_name</th>\n",
       "      <th>caption</th>\n",
       "      <th>split</th>\n",
       "    </tr>\n",
       "  </thead>\n",
       "  <tbody>\n",
       "    <tr>\n",
       "      <th>0</th>\n",
       "      <td>1000268201_693b08cb0e.jpg</td>\n",
       "      <td>طفلة صغيرة تتسلق إلى مسرح خشبي</td>\n",
       "      <td>train</td>\n",
       "    </tr>\n",
       "    <tr>\n",
       "      <th>1</th>\n",
       "      <td>1000268201_693b08cb0e.jpg</td>\n",
       "      <td>طفلة صغيرة تتسلق الدرج إلى منزلها</td>\n",
       "      <td>train</td>\n",
       "    </tr>\n",
       "    <tr>\n",
       "      <th>2</th>\n",
       "      <td>1000268201_693b08cb0e.jpg</td>\n",
       "      <td>فتاة صغيرة في ثوب وردي تذهب إلى المقصورة الخشبية</td>\n",
       "      <td>train</td>\n",
       "    </tr>\n",
       "    <tr>\n",
       "      <th>3</th>\n",
       "      <td>1001773457_577c3a7d70.jpg</td>\n",
       "      <td>كلب أسود وكلب ثلاثي الألوان يلعبان مع بعضهما ا...</td>\n",
       "      <td>train</td>\n",
       "    </tr>\n",
       "    <tr>\n",
       "      <th>4</th>\n",
       "      <td>1001773457_577c3a7d70.jpg</td>\n",
       "      <td>كلب أسود وكلب أبيض ببقع بنية يحدقان في بعضهما ...</td>\n",
       "      <td>train</td>\n",
       "    </tr>\n",
       "  </tbody>\n",
       "</table>\n",
       "</div>"
      ],
      "text/plain": [
       "                   file_name  \\\n",
       "0  1000268201_693b08cb0e.jpg   \n",
       "1  1000268201_693b08cb0e.jpg   \n",
       "2  1000268201_693b08cb0e.jpg   \n",
       "3  1001773457_577c3a7d70.jpg   \n",
       "4  1001773457_577c3a7d70.jpg   \n",
       "\n",
       "                                             caption  split  \n",
       "0                     طفلة صغيرة تتسلق إلى مسرح خشبي  train  \n",
       "1                  طفلة صغيرة تتسلق الدرج إلى منزلها  train  \n",
       "2   فتاة صغيرة في ثوب وردي تذهب إلى المقصورة الخشبية  train  \n",
       "3  كلب أسود وكلب ثلاثي الألوان يلعبان مع بعضهما ا...  train  \n",
       "4  كلب أسود وكلب أبيض ببقع بنية يحدقان في بعضهما ...  train  "
      ]
     },
     "execution_count": 21,
     "metadata": {},
     "output_type": "execute_result"
    }
   ],
   "source": [
    "ar_df = ar_df[ar_df.split.isin(['train', 'val', 'test'])]\n",
    "ar_df.head()"
   ]
  },
  {
   "cell_type": "code",
   "execution_count": 22,
   "metadata": {
    "id": "EMPGRwhyczwb",
    "outputId": "45b69452-d9db-415b-dbdc-ff47b34ccb7b"
   },
   "outputs": [
    {
     "data": {
      "text/plain": [
       "array(['train', 'val', 'test'], dtype=object)"
      ]
     },
     "execution_count": 22,
     "metadata": {},
     "output_type": "execute_result"
    }
   ],
   "source": [
    "ar_df.split.unique()"
   ]
  },
  {
   "cell_type": "code",
   "execution_count": 23,
   "metadata": {
    "id": "iGzLdGZOczwb"
   },
   "outputs": [],
   "source": [
    "ar_df.to_csv(\"ar_data.csv\", index=None)"
   ]
  },
  {
   "cell_type": "code",
   "execution_count": 24,
   "metadata": {
    "id": "vnglALVjczwc"
   },
   "outputs": [],
   "source": [
    "df = pd.read_csv(\"ar_data.csv\", )"
   ]
  },
  {
   "cell_type": "code",
   "execution_count": 25,
   "metadata": {
    "id": "AEnyk0feczwc",
    "outputId": "4fad7dfd-beac-4b67-b9f1-b45f62b7ee67"
   },
   "outputs": [
    {
     "data": {
      "text/plain": [
       "(18000, 3000, 3000)"
      ]
     },
     "execution_count": 25,
     "metadata": {},
     "output_type": "execute_result"
    }
   ],
   "source": [
    "df[df.split=='train'].shape[0], df[df.split=='val'].shape[0], df[df.split=='test'].shape[0]"
   ]
  },
  {
   "cell_type": "code",
   "execution_count": 26,
   "metadata": {
    "id": "2_rqB7LOczwd",
    "outputId": "da58681f-7e62-4053-98e3-7c4b685b0955"
   },
   "outputs": [
    {
     "data": {
      "text/plain": [
       "(6000, 1000, 1000)"
      ]
     },
     "execution_count": 26,
     "metadata": {},
     "output_type": "execute_result"
    }
   ],
   "source": [
    "df[df.split=='train'].file_name.nunique(), df[df.split=='val'].file_name.nunique(), df[df.split=='test'].file_name.nunique()"
   ]
  },
  {
   "cell_type": "code",
   "execution_count": 27,
   "metadata": {
    "id": "-n3Yku_1czwd",
    "outputId": "d38f2694-8067-43da-8fd0-04d67314ef37"
   },
   "outputs": [
    {
     "data": {
      "text/html": [
       "<div>\n",
       "<style scoped>\n",
       "    .dataframe tbody tr th:only-of-type {\n",
       "        vertical-align: middle;\n",
       "    }\n",
       "\n",
       "    .dataframe tbody tr th {\n",
       "        vertical-align: top;\n",
       "    }\n",
       "\n",
       "    .dataframe thead th {\n",
       "        text-align: right;\n",
       "    }\n",
       "</style>\n",
       "<table border=\"1\" class=\"dataframe\">\n",
       "  <thead>\n",
       "    <tr style=\"text-align: right;\">\n",
       "      <th></th>\n",
       "      <th>file_name</th>\n",
       "      <th>caption</th>\n",
       "      <th>split</th>\n",
       "    </tr>\n",
       "  </thead>\n",
       "  <tbody>\n",
       "    <tr>\n",
       "      <th>0</th>\n",
       "      <td>1000268201_693b08cb0e.jpg</td>\n",
       "      <td>طفلة صغيرة تتسلق إلى مسرح خشبي</td>\n",
       "      <td>train</td>\n",
       "    </tr>\n",
       "    <tr>\n",
       "      <th>1</th>\n",
       "      <td>1000268201_693b08cb0e.jpg</td>\n",
       "      <td>طفلة صغيرة تتسلق الدرج إلى منزلها</td>\n",
       "      <td>train</td>\n",
       "    </tr>\n",
       "    <tr>\n",
       "      <th>2</th>\n",
       "      <td>1000268201_693b08cb0e.jpg</td>\n",
       "      <td>فتاة صغيرة في ثوب وردي تذهب إلى المقصورة الخشبية</td>\n",
       "      <td>train</td>\n",
       "    </tr>\n",
       "    <tr>\n",
       "      <th>3</th>\n",
       "      <td>1001773457_577c3a7d70.jpg</td>\n",
       "      <td>كلب أسود وكلب ثلاثي الألوان يلعبان مع بعضهما ا...</td>\n",
       "      <td>train</td>\n",
       "    </tr>\n",
       "    <tr>\n",
       "      <th>4</th>\n",
       "      <td>1001773457_577c3a7d70.jpg</td>\n",
       "      <td>كلب أسود وكلب أبيض ببقع بنية يحدقان في بعضهما ...</td>\n",
       "      <td>train</td>\n",
       "    </tr>\n",
       "  </tbody>\n",
       "</table>\n",
       "</div>"
      ],
      "text/plain": [
       "                   file_name  \\\n",
       "0  1000268201_693b08cb0e.jpg   \n",
       "1  1000268201_693b08cb0e.jpg   \n",
       "2  1000268201_693b08cb0e.jpg   \n",
       "3  1001773457_577c3a7d70.jpg   \n",
       "4  1001773457_577c3a7d70.jpg   \n",
       "\n",
       "                                             caption  split  \n",
       "0                     طفلة صغيرة تتسلق إلى مسرح خشبي  train  \n",
       "1                  طفلة صغيرة تتسلق الدرج إلى منزلها  train  \n",
       "2   فتاة صغيرة في ثوب وردي تذهب إلى المقصورة الخشبية  train  \n",
       "3  كلب أسود وكلب ثلاثي الألوان يلعبان مع بعضهما ا...  train  \n",
       "4  كلب أسود وكلب أبيض ببقع بنية يحدقان في بعضهما ...  train  "
      ]
     },
     "execution_count": 27,
     "metadata": {},
     "output_type": "execute_result"
    }
   ],
   "source": [
    "df.head()"
   ]
  },
  {
   "cell_type": "code",
   "execution_count": 28,
   "metadata": {
    "id": "EMVxfG6Yczwd",
    "outputId": "26629bbf-f78d-45c6-ee2d-28ab32e08d4e"
   },
   "outputs": [
    {
     "data": {
      "text/plain": [
       "array(['train', 'val', 'test'], dtype=object)"
      ]
     },
     "execution_count": 28,
     "metadata": {},
     "output_type": "execute_result"
    }
   ],
   "source": [
    "df.split.unique()"
   ]
  },
  {
   "cell_type": "markdown",
   "metadata": {},
   "source": [
    "### AraBert Tokenizer "
   ]
  },
  {
   "cell_type": "code",
   "execution_count": 32,
   "metadata": {},
   "outputs": [],
   "source": [
    "# !git clone https://github.com/aub-mind/arabert"
   ]
  },
  {
   "cell_type": "code",
   "execution_count": 36,
   "metadata": {},
   "outputs": [
    {
     "name": "stderr",
     "output_type": "stream",
     "text": [
      "[2021-07-17 14:41:01,575 - farasapy_logger - WARNING]: Be careful with large lines as they may break on interactive mode. You may switch to Standalone mode for such cases.\n"
     ]
    },
    {
     "data": {
      "text/plain": [
       "\"و+ لن نبالغ إذا قل +نا : إن ' هاتف ' أو ' كمبيوتر ال+ مكتب ' في زمن +نا هذا ضروري\""
      ]
     },
     "execution_count": 36,
     "metadata": {},
     "output_type": "execute_result"
    }
   ],
   "source": [
    "from arabert.preprocess import ArabertPreprocessor\n",
    "\n",
    "model_name = \"aubmindlab/bert-base-arabertv2\"\n",
    "arabert_prep = ArabertPreprocessor(model_name=model_name)\n",
    "\n",
    "text = \"ولن نبالغ إذا قلنا: إن 'هاتف' أو 'كمبيوتر المكتب' في زمننا هذا ضروري\"\n",
    "output = arabert_prep.preprocess(text)\n",
    "output"
   ]
  },
  {
   "cell_type": "code",
   "execution_count": 46,
   "metadata": {},
   "outputs": [
    {
     "data": {
      "text/plain": [
       "\"ولن نبالغ إذا قلنا: إن 'هاتف' أو 'كمبيوتر المكتب' في زمننا هذا ضروري\""
      ]
     },
     "execution_count": 46,
     "metadata": {},
     "output_type": "execute_result"
    }
   ],
   "source": [
    "arabert_prep.unpreprocess(' '.join(w for w in araby.tokenize(output)))"
   ]
  },
  {
   "cell_type": "code",
   "execution_count": 48,
   "metadata": {
    "id": "v3raqd4oczwe",
    "outputId": "67d4dbc3-3274-4ca4-cc3f-c28cc911189e"
   },
   "outputs": [
    {
     "name": "stderr",
     "output_type": "stream",
     "text": [
      "100%|██████████| 24000/24000 [00:16<00:00, 1472.10it/s]\n"
     ]
    }
   ],
   "source": [
    "all_tokens = []\n",
    "token_lens = []\n",
    "for i in tqdm(range(df.shape[0])):\n",
    "    try:\n",
    "        tokens = araby.tokenize(arabert_prep.preprocess(df.iloc[i].caption))\n",
    "    except:\n",
    "        print(df.iloc[i].caption)\n",
    "        break\n",
    "    token_len = len(tokens)\n",
    "    all_tokens.append(tokens)\n",
    "    token_lens.append(token_len)"
   ]
  },
  {
   "cell_type": "code",
   "execution_count": 49,
   "metadata": {
    "id": "m66osxspczwe"
   },
   "outputs": [],
   "source": [
    "#file_name\tsplit\tcaption\ttok_len\ttokens\n",
    "df['tok_len'] = token_lens\n",
    "df['tokens'] = all_tokens"
   ]
  },
  {
   "cell_type": "code",
   "execution_count": 50,
   "metadata": {
    "id": "c-W9Du1Jczwe",
    "outputId": "7e16dda8-363e-42a9-b485-b814525945f8"
   },
   "outputs": [
    {
     "data": {
      "text/html": [
       "<div>\n",
       "<style scoped>\n",
       "    .dataframe tbody tr th:only-of-type {\n",
       "        vertical-align: middle;\n",
       "    }\n",
       "\n",
       "    .dataframe tbody tr th {\n",
       "        vertical-align: top;\n",
       "    }\n",
       "\n",
       "    .dataframe thead th {\n",
       "        text-align: right;\n",
       "    }\n",
       "</style>\n",
       "<table border=\"1\" class=\"dataframe\">\n",
       "  <thead>\n",
       "    <tr style=\"text-align: right;\">\n",
       "      <th></th>\n",
       "      <th>file_name</th>\n",
       "      <th>caption</th>\n",
       "      <th>split</th>\n",
       "      <th>tok_len</th>\n",
       "      <th>tokens</th>\n",
       "    </tr>\n",
       "  </thead>\n",
       "  <tbody>\n",
       "    <tr>\n",
       "      <th>0</th>\n",
       "      <td>1000268201_693b08cb0e.jpg</td>\n",
       "      <td>طفلة صغيرة تتسلق إلى مسرح خشبي</td>\n",
       "      <td>train</td>\n",
       "      <td>10</td>\n",
       "      <td>[طفل, +, ة, صغير, +, ة, تتسلق, إلى, مسرح, خشبي]</td>\n",
       "    </tr>\n",
       "    <tr>\n",
       "      <th>1</th>\n",
       "      <td>1000268201_693b08cb0e.jpg</td>\n",
       "      <td>طفلة صغيرة تتسلق الدرج إلى منزلها</td>\n",
       "      <td>train</td>\n",
       "      <td>14</td>\n",
       "      <td>[طفل, +, ة, صغير, +, ة, تتسلق, ال, +, درج, إلى...</td>\n",
       "    </tr>\n",
       "    <tr>\n",
       "      <th>2</th>\n",
       "      <td>1000268201_693b08cb0e.jpg</td>\n",
       "      <td>فتاة صغيرة في ثوب وردي تذهب إلى المقصورة الخشبية</td>\n",
       "      <td>train</td>\n",
       "      <td>21</td>\n",
       "      <td>[فتا, +, ة, صغير, +, ة, في, ثوب, وردي, تذهب, إ...</td>\n",
       "    </tr>\n",
       "    <tr>\n",
       "      <th>3</th>\n",
       "      <td>1001773457_577c3a7d70.jpg</td>\n",
       "      <td>كلب أسود وكلب ثلاثي الألوان يلعبان مع بعضهما ا...</td>\n",
       "      <td>train</td>\n",
       "      <td>23</td>\n",
       "      <td>[كلب, أسود, و, +, كلب, ثلاثي, ال, +, ألوان, يل...</td>\n",
       "    </tr>\n",
       "    <tr>\n",
       "      <th>4</th>\n",
       "      <td>1001773457_577c3a7d70.jpg</td>\n",
       "      <td>كلب أسود وكلب أبيض ببقع بنية يحدقان في بعضهما ...</td>\n",
       "      <td>train</td>\n",
       "      <td>24</td>\n",
       "      <td>[كلب, أسود, و, +, كلب, أبيض, ب, +, بقع, بني, +...</td>\n",
       "    </tr>\n",
       "  </tbody>\n",
       "</table>\n",
       "</div>"
      ],
      "text/plain": [
       "                   file_name  \\\n",
       "0  1000268201_693b08cb0e.jpg   \n",
       "1  1000268201_693b08cb0e.jpg   \n",
       "2  1000268201_693b08cb0e.jpg   \n",
       "3  1001773457_577c3a7d70.jpg   \n",
       "4  1001773457_577c3a7d70.jpg   \n",
       "\n",
       "                                             caption  split  tok_len  \\\n",
       "0                     طفلة صغيرة تتسلق إلى مسرح خشبي  train       10   \n",
       "1                  طفلة صغيرة تتسلق الدرج إلى منزلها  train       14   \n",
       "2   فتاة صغيرة في ثوب وردي تذهب إلى المقصورة الخشبية  train       21   \n",
       "3  كلب أسود وكلب ثلاثي الألوان يلعبان مع بعضهما ا...  train       23   \n",
       "4  كلب أسود وكلب أبيض ببقع بنية يحدقان في بعضهما ...  train       24   \n",
       "\n",
       "                                              tokens  \n",
       "0    [طفل, +, ة, صغير, +, ة, تتسلق, إلى, مسرح, خشبي]  \n",
       "1  [طفل, +, ة, صغير, +, ة, تتسلق, ال, +, درج, إلى...  \n",
       "2  [فتا, +, ة, صغير, +, ة, في, ثوب, وردي, تذهب, إ...  \n",
       "3  [كلب, أسود, و, +, كلب, ثلاثي, ال, +, ألوان, يل...  \n",
       "4  [كلب, أسود, و, +, كلب, أبيض, ب, +, بقع, بني, +...  "
      ]
     },
     "execution_count": 50,
     "metadata": {},
     "output_type": "execute_result"
    }
   ],
   "source": [
    "df.head()"
   ]
  },
  {
   "cell_type": "markdown",
   "metadata": {},
   "source": [
    "old stats\n",
    "max, min\n",
    "\n",
    "(26, 1)"
   ]
  },
  {
   "cell_type": "code",
   "execution_count": 51,
   "metadata": {
    "id": "bQhvyuvjczwf",
    "outputId": "883f998e-bd22-41c9-8b8e-e9d3b565a9c7"
   },
   "outputs": [
    {
     "data": {
      "text/plain": [
       "(60, 2)"
      ]
     },
     "execution_count": 51,
     "metadata": {},
     "output_type": "execute_result"
    }
   ],
   "source": [
    "df.tok_len.max(), df.tok_len.min()"
   ]
  },
  {
   "cell_type": "code",
   "execution_count": 52,
   "metadata": {},
   "outputs": [
    {
     "data": {
      "text/plain": [
       "<AxesSubplot:>"
      ]
     },
     "execution_count": 52,
     "metadata": {},
     "output_type": "execute_result"
    },
    {
     "data": {
      "image/png": "[encoded data removed]",
      "text/plain": [
       "<Figure size 432x288 with 1 Axes>"
      ]
     },
     "metadata": {
      "needs_background": "light"
     },
     "output_type": "display_data"
    }
   ],
   "source": [
    "df.tok_len.hist()"
   ]
  },
  {
   "cell_type": "code",
   "execution_count": 53,
   "metadata": {
    "id": "aTCfH8gvczwf"
   },
   "outputs": [],
   "source": [
    "df.to_json(\"ar_data.json\")"
   ]
  },
  {
   "cell_type": "code",
   "execution_count": 54,
   "metadata": {
    "id": "_ZywXHOkczwf",
    "outputId": "b32ac85a-2fb8-47da-e86a-cdac2dc00a01"
   },
   "outputs": [
    {
     "data": {
      "text/plain": [
       "['طفل', '+', 'ة', 'صغير', '+', 'ة', 'تتسلق', 'إلى', 'مسرح', 'خشبي']"
      ]
     },
     "execution_count": 54,
     "metadata": {},
     "output_type": "execute_result"
    }
   ],
   "source": [
    "df.tokens[0]"
   ]
  }
 ],
 "metadata": {
  "colab": {
   "collapsed_sections": [],
   "name": "dataset preprocessing.ipynb",
   "provenance": []
  },
  "kernelspec": {
   "display_name": "Python 3",
   "language": "python",
   "name": "python3"
  },
  "language_info": {
   "codemirror_mode": {
    "name": "ipython",
    "version": 3
   },
   "file_extension": ".py",
   "mimetype": "text/x-python",
   "name": "python",
   "nbconvert_exporter": "python",
   "pygments_lexer": "ipython3",
   "version": "3.6.13"
  }
 },
 "nbformat": 4,
 "nbformat_minor": 1
}
