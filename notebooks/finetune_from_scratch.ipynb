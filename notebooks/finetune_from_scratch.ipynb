{
  "nbformat": 4,
  "nbformat_minor": 0,
  "metadata": {
    "colab": {
      "name": "finetune from scratch",
      "provenance": [],
      "collapsed_sections": []
    },
    "kernelspec": {
      "name": "python3",
      "display_name": "Python 3"
    },
    "language_info": {
      "name": "python"
    },
    "accelerator": "GPU"
  },
  "cells": [
    {
      "cell_type": "code",
      "metadata": {
        "colab": {
          "base_uri": "https://localhost:8080/"
        },
        "id": "0yF22FLldBVv",
        "outputId": "35dd07dd-f704-4d5e-bd2c-548132cffbd6"
      },
      "source": [
        "!nvidia-smi"
      ],
      "execution_count": 39,
      "outputs": [
        {
          "output_type": "stream",
          "text": [
            "Wed May  5 23:31:48 2021       \n",
            "+-----------------------------------------------------------------------------+\n",
            "| NVIDIA-SMI 465.19.01    Driver Version: 460.32.03    CUDA Version: 11.2     |\n",
            "|-------------------------------+----------------------+----------------------+\n",
            "| GPU  Name        Persistence-M| Bus-Id        Disp.A | Volatile Uncorr. ECC |\n",
            "| Fan  Temp  Perf  Pwr:Usage/Cap|         Memory-Usage | GPU-Util  Compute M. |\n",
            "|                               |                      |               MIG M. |\n",
            "|===============================+======================+======================|\n",
            "|   0  Tesla P100-PCIE...  Off  | 00000000:00:04.0 Off |                    0 |\n",
            "| N/A   41C    P0    34W / 250W |  10319MiB / 16280MiB |      0%      Default |\n",
            "|                               |                      |                  N/A |\n",
            "+-------------------------------+----------------------+----------------------+\n",
            "                                                                               \n",
            "+-----------------------------------------------------------------------------+\n",
            "| Processes:                                                                  |\n",
            "|  GPU   GI   CI        PID   Type   Process name                  GPU Memory |\n",
            "|        ID   ID                                                   Usage      |\n",
            "|=============================================================================|\n",
            "+-----------------------------------------------------------------------------+\n"
          ],
          "name": "stdout"
        }
      ]
    },
    {
      "cell_type": "code",
      "metadata": {
        "colab": {
          "base_uri": "https://localhost:8080/"
        },
        "id": "KAVbNRecdEmC",
        "outputId": "3655e476-9db9-4273-fea2-0bdadfd6bccb"
      },
      "source": [
        "!mkdir /root/.kaggle\n",
        "!mv kaggle.json /root/.kaggle\n",
        "!chmod 600 /root/.kaggle/kaggle.json"
      ],
      "execution_count": 17,
      "outputs": [
        {
          "output_type": "stream",
          "text": [
            "mkdir: cannot create directory ‘/root/.kaggle’: File exists\n",
            "mv: cannot stat 'kaggle.json': No such file or directory\n"
          ],
          "name": "stdout"
        }
      ]
    },
    {
      "cell_type": "code",
      "metadata": {
        "colab": {
          "base_uri": "https://localhost:8080/"
        },
        "id": "_FHpPT9-dPip",
        "outputId": "9677b94c-bd26-4c18-c428-2304cac2d83e"
      },
      "source": [
        "!pip install kaggle -q\n",
        "!kaggle datasets download -d aladdinpersson/flickr8kimagescaptions\n",
        "!unzip -q flickr8kimagescaptions.zip"
      ],
      "execution_count": 18,
      "outputs": [
        {
          "output_type": "stream",
          "text": [
            "Downloading flickr8kimagescaptions.zip to /content\n",
            " 99% 1.02G/1.04G [00:13<00:00, 75.5MB/s]\n",
            "100% 1.04G/1.04G [00:13<00:00, 80.5MB/s]\n"
          ],
          "name": "stdout"
        }
      ]
    },
    {
      "cell_type": "code",
      "metadata": {
        "colab": {
          "base_uri": "https://localhost:8080/"
        },
        "id": "kdb4vWE0dQS6",
        "outputId": "98fc912b-a80d-487d-a118-026a30229be2"
      },
      "source": [
        "# get the code for kaggle\n",
        "!git clone https://github.com/moaaztaha/Image-Captioning\n",
        "py_files_path = 'Image-Captioning/'\n",
        "import sys\n",
        "sys.path.append(py_files_path)"
      ],
      "execution_count": 19,
      "outputs": [
        {
          "output_type": "stream",
          "text": [
            "fatal: destination path 'Image-Captioning' already exists and is not an empty directory.\n"
          ],
          "name": "stdout"
        }
      ]
    },
    {
      "cell_type": "code",
      "metadata": {
        "id": "cCupTxpafLCY"
      },
      "source": [
        "%reload_ext autoreload\n",
        "%autoreload 2\n",
        "%matplotlib inline"
      ],
      "execution_count": 20,
      "outputs": []
    },
    {
      "cell_type": "code",
      "metadata": {
        "id": "HAUwbIDzfLCY"
      },
      "source": [
        "import time \n",
        "import torch.backends.cudnn as cudnn\n",
        "import torch.optim\n",
        "import torch.utils.data\n",
        "import torchvision.transforms as transforms\n",
        "from torch import nn\n",
        "from torch.nn.utils.rnn import pack_padded_sequence\n",
        "from models import Encoder, DecoderWithAttention\n",
        "from dataset import *\n",
        "from utils import *\n",
        "from train import *\n",
        "from nltk.translate.bleu_score import corpus_bleu"
      ],
      "execution_count": 21,
      "outputs": []
    },
    {
      "cell_type": "code",
      "metadata": {
        "id": "2xao3iXYfLCZ"
      },
      "source": [
        "# Model parameters\n",
        "encoder_dim = 2048 # resnet101\n",
        "emb_dim = 512  # dimension of word embeddings\n",
        "attention_dim = 512  # dimension of attention linear layers\n",
        "decoder_dim = 512  # dimension of decoder RNN\n",
        "dropout = 0.5\n",
        "device = torch.device(\"cuda\" if torch.cuda.is_available() else \"cpu\")  # sets device for model and PyTorch tensors\n",
        "cudnn.benchmark = True  # set to true only if inputs to model are fixed size; otherwise lot of computational overhead\n",
        "\n",
        "# training parameters\n",
        "epochs = 7  # number of epochs to train for (if early stopping is not triggered)\n",
        "batch_size = 64\n",
        "workers = 2\n",
        "encoder_lr = 1e-4  # learning rate for encoder if fine-tuning\n",
        "decoder_lr = 4e-4  # learning rate for decoder\n",
        "fine_tune_encoder = True  # fine-tune encoder?\n",
        "checkpoint = None  # path to checkpoint, None if none"
      ],
      "execution_count": 51,
      "outputs": []
    },
    {
      "cell_type": "code",
      "metadata": {
        "id": "NjGhnGwvfLCZ"
      },
      "source": [
        "DATA_NAME = 'flickr8k_5_cap_per_img_2_min_word_freq_resnet101_fullvocab_fix_ds_finetune'\n",
        "\n",
        "# local\n",
        "# DATA_JSON_PATH = 'data.json'\n",
        "# IMGS_PATH = 'flickr/Images/'\n",
        "# kaggle paths\n",
        "# DATA_JSON_PATH = '/kaggle/working/Image-Captioning/data.json'\n",
        "# IMGS_PATH = '../input/flickr8kimagescaptions/flickr8k/images/'\n",
        "#colab\n",
        "DATA_JSON_PATH = 'Image-Captioning/data.json'\n",
        "IMGS_PATH = 'flickr8k/images/'"
      ],
      "execution_count": 58,
      "outputs": []
    },
    {
      "cell_type": "code",
      "metadata": {
        "scrolled": true,
        "colab": {
          "base_uri": "https://localhost:8080/"
        },
        "id": "ohaaGjb7fLCa",
        "outputId": "3989fd84-6b7a-4101-f172-c2fd0fa56eb4"
      },
      "source": [
        "# load vocab\n",
        "vocab = build_vocab(DATA_JSON_PATH)"
      ],
      "execution_count": 59,
      "outputs": [
        {
          "output_type": "stream",
          "text": [
            "100%|██████████| 40000/40000 [00:00<00:00, 262130.07it/s]\n"
          ],
          "name": "stderr"
        }
      ]
    },
    {
      "cell_type": "code",
      "metadata": {
        "colab": {
          "base_uri": "https://localhost:8080/"
        },
        "id": "IEIMTnYEfLCa",
        "outputId": "2ea203a4-4864-45fe-be64-336f30a302af"
      },
      "source": [
        "len(vocab)"
      ],
      "execution_count": 60,
      "outputs": [
        {
          "output_type": "execute_result",
          "data": {
            "text/plain": [
              "5089"
            ]
          },
          "metadata": {
            "tags": []
          },
          "execution_count": 60
        }
      ]
    },
    {
      "cell_type": "code",
      "metadata": {
        "id": "B6quGOJjfLCb"
      },
      "source": [
        "t_params = {\n",
        "    'data_name': DATA_NAME,\n",
        "    'imgs_path': IMGS_PATH,\n",
        "    'df_path': DATA_JSON_PATH,\n",
        "    'vocab': vocab,\n",
        "    'epochs': epochs,\n",
        "    'batch_size': batch_size,\n",
        "    'workers': workers,\n",
        "    'decoder_lr': decoder_lr,\n",
        "    'encoder_lr': encoder_lr,\n",
        "    'fine_tune_encoder': fine_tune_encoder\n",
        "}\n",
        "\n",
        "m_params = {\n",
        "    'attention_dim': attention_dim,\n",
        "    'embed_dim': emb_dim,\n",
        "    'decoder_dim': decoder_dim,\n",
        "    'encoder_dim': encoder_dim,\n",
        "    'dropout': dropout\n",
        "}"
      ],
      "execution_count": 61,
      "outputs": []
    },
    {
      "cell_type": "code",
      "metadata": {
        "colab": {
          "base_uri": "https://localhost:8080/"
        },
        "id": "z9hJPzJhh4v4",
        "outputId": "a4a5186f-d6d2-4f42-b768-29f6af997c38"
      },
      "source": [
        "t_params"
      ],
      "execution_count": 62,
      "outputs": [
        {
          "output_type": "execute_result",
          "data": {
            "text/plain": [
              "{'batch_size': 64,\n",
              " 'data_name': 'flickr8k_5_cap_per_img_2_min_word_freq_resnet101_fullvocab_fix_ds_finetune',\n",
              " 'decoder_lr': 0.0004,\n",
              " 'df_path': 'Image-Captioning/data.json',\n",
              " 'encoder_lr': 0.0001,\n",
              " 'epochs': 7,\n",
              " 'fine_tune_encoder': True,\n",
              " 'imgs_path': 'flickr8k/images/',\n",
              " 'vocab': <dataset.Vocabulary at 0x7fcd521bd450>,\n",
              " 'workers': 2}"
            ]
          },
          "metadata": {
            "tags": []
          },
          "execution_count": 62
        }
      ]
    },
    {
      "cell_type": "code",
      "metadata": {
        "colab": {
          "base_uri": "https://localhost:8080/"
        },
        "id": "czDUNMJBfLCc",
        "outputId": "74b0921d-b08d-4557-f287-11ba83ea357c"
      },
      "source": [
        "fit(t_params=t_params, m_params=m_params)"
      ],
      "execution_count": 63,
      "outputs": [
        {
          "output_type": "stream",
          "text": [
            "Loading Data\n",
            "Dataset split: train\n",
            "Unique images: 6000\n",
            "Total size: 30000\n",
            "Dataset split: val\n",
            "Unique images: 1000\n",
            "Total size: 5000\n",
            "__________________________________________________\n",
            "-------------------- Fitting --------------------\n",
            "__________________________________________________\n",
            "-------------------- Training --------------------\n",
            "Epoch: [0][0/469]\tBatch Time 1.709 (1.709)\tData Load Time 0.980 (0.980)\tLoss 9.4528 (9.4528)\tTop-5 Accuracy 0.130 (0.130)\n",
            "Epoch: [0][100/469]\tBatch Time 0.733 (0.713)\tData Load Time 0.007 (0.013)\tLoss 5.1578 (5.7236)\tTop-5 Accuracy 49.387 (42.108)\n",
            "Epoch: [0][200/469]\tBatch Time 0.707 (0.709)\tData Load Time 0.000 (0.007)\tLoss 4.7331 (5.3617)\tTop-5 Accuracy 55.499 (47.126)\n",
            "Epoch: [0][300/469]\tBatch Time 0.695 (0.706)\tData Load Time 0.000 (0.006)\tLoss 4.6288 (5.1572)\tTop-5 Accuracy 56.690 (49.977)\n",
            "Epoch: [0][400/469]\tBatch Time 0.690 (0.704)\tData Load Time 0.005 (0.005)\tLoss 4.5205 (5.0185)\tTop-5 Accuracy 59.290 (51.909)\n",
            "-------------------- Validation --------------------\n",
            "Validation: [0/79]\tBatch Time 1.365 (1.365)\tLoss 5.2324 (5.2324)\tTop-5 Accuracy 55.375 (55.375)\t\n",
            "----- Bleu-n Scores -----\n",
            "1: 62.4836522753252\n",
            "2: 38.53962070453862\n",
            "3: 22.61131397068088\n",
            "4: 13.02223123130068\n",
            "-------------------------\n",
            "\n",
            " * LOSS - 5.257, TOP-5 ACCURACY - 55.369, BLEU-4 - 0.13162982528004022\n",
            "\n",
            "__________________________________________________\n",
            "-------------------- Training --------------------\n",
            "Epoch: [1][0/469]\tBatch Time 1.779 (1.779)\tData Load Time 1.022 (1.022)\tLoss 4.2669 (4.2669)\tTop-5 Accuracy 61.299 (61.299)\n",
            "Epoch: [1][100/469]\tBatch Time 0.700 (0.711)\tData Load Time 0.007 (0.013)\tLoss 4.3653 (4.3282)\tTop-5 Accuracy 59.868 (60.955)\n",
            "Epoch: [1][200/469]\tBatch Time 0.712 (0.707)\tData Load Time 0.000 (0.008)\tLoss 4.4871 (4.3031)\tTop-5 Accuracy 57.362 (61.341)\n",
            "Epoch: [1][300/469]\tBatch Time 0.725 (0.705)\tData Load Time 0.000 (0.006)\tLoss 4.2686 (4.2705)\tTop-5 Accuracy 61.740 (61.808)\n",
            "Epoch: [1][400/469]\tBatch Time 0.695 (0.704)\tData Load Time 0.007 (0.005)\tLoss 4.1499 (4.2411)\tTop-5 Accuracy 63.206 (62.233)\n",
            "-------------------- Validation --------------------\n",
            "Validation: [0/79]\tBatch Time 1.358 (1.358)\tLoss 5.4714 (5.4714)\tTop-5 Accuracy 58.584 (58.584)\t\n",
            "----- Bleu-n Scores -----\n",
            "1: 63.90562098759286\n",
            "2: 39.816058659429096\n",
            "3: 23.58342849191754\n",
            "4: 13.63160747308536\n",
            "-------------------------\n",
            "\n",
            " * LOSS - 5.132, TOP-5 ACCURACY - 58.723, BLEU-4 - 0.13774848545078788\n",
            "\n",
            "__________________________________________________\n",
            "-------------------- Training --------------------\n",
            "Epoch: [2][0/469]\tBatch Time 1.822 (1.822)\tData Load Time 1.041 (1.041)\tLoss 4.1597 (4.1597)\tTop-5 Accuracy 61.549 (61.549)\n",
            "Epoch: [2][100/469]\tBatch Time 0.690 (0.712)\tData Load Time 0.000 (0.013)\tLoss 3.9117 (3.9713)\tTop-5 Accuracy 67.432 (65.783)\n",
            "Epoch: [2][200/469]\tBatch Time 0.727 (0.706)\tData Load Time 0.000 (0.007)\tLoss 3.9765 (3.9632)\tTop-5 Accuracy 65.068 (65.887)\n",
            "Epoch: [2][300/469]\tBatch Time 0.719 (0.704)\tData Load Time 0.009 (0.006)\tLoss 3.7632 (3.9511)\tTop-5 Accuracy 70.241 (66.132)\n",
            "Epoch: [2][400/469]\tBatch Time 0.699 (0.704)\tData Load Time 0.000 (0.005)\tLoss 3.7967 (3.9364)\tTop-5 Accuracy 68.349 (66.419)\n",
            "-------------------- Validation --------------------\n",
            "Validation: [0/79]\tBatch Time 1.387 (1.387)\tLoss 5.7976 (5.7976)\tTop-5 Accuracy 57.325 (57.325)\t\n",
            "----- Bleu-n Scores -----\n",
            "1: 65.1371403390131\n",
            "2: 41.626118221429145\n",
            "3: 25.258298038504357\n",
            "4: 14.94401522962735\n",
            "-------------------------\n",
            "\n",
            " * LOSS - 5.231, TOP-5 ACCURACY - 59.966, BLEU-4 - 0.15095835480839437\n",
            "\n",
            "__________________________________________________\n",
            "-------------------- Training --------------------\n",
            "Epoch: [3][0/469]\tBatch Time 1.817 (1.817)\tData Load Time 1.069 (1.069)\tLoss 3.6878 (3.6878)\tTop-5 Accuracy 68.533 (68.533)\n",
            "Epoch: [3][100/469]\tBatch Time 0.710 (0.713)\tData Load Time 0.000 (0.014)\tLoss 3.7405 (3.7298)\tTop-5 Accuracy 70.120 (69.374)\n",
            "Epoch: [3][200/469]\tBatch Time 0.688 (0.707)\tData Load Time 0.000 (0.008)\tLoss 3.8776 (3.7302)\tTop-5 Accuracy 68.800 (69.375)\n",
            "Epoch: [3][300/469]\tBatch Time 0.720 (0.705)\tData Load Time 0.000 (0.006)\tLoss 3.7022 (3.7261)\tTop-5 Accuracy 67.927 (69.375)\n",
            "Epoch: [3][400/469]\tBatch Time 0.689 (0.704)\tData Load Time 0.000 (0.005)\tLoss 3.6035 (3.7248)\tTop-5 Accuracy 71.429 (69.401)\n",
            "-------------------- Validation --------------------\n",
            "Validation: [0/79]\tBatch Time 1.398 (1.398)\tLoss 4.9770 (4.9770)\tTop-5 Accuracy 61.526 (61.526)\t\n",
            "----- Bleu-n Scores -----\n",
            "1: 65.17697175772633\n",
            "2: 41.729813972640315\n",
            "3: 25.351199364739074\n",
            "4: 14.915901755627933\n",
            "-------------------------\n",
            "\n",
            " * LOSS - 5.238, TOP-5 ACCURACY - 60.743, BLEU-4 - 0.1507178002837763\n",
            "\n",
            "\n",
            "Epochs since last improvement: (1,)\n",
            "__________________________________________________\n",
            "-------------------- Training --------------------\n",
            "Epoch: [4][0/469]\tBatch Time 1.701 (1.701)\tData Load Time 0.936 (0.936)\tLoss 3.4465 (3.4465)\tTop-5 Accuracy 73.592 (73.592)\n",
            "Epoch: [4][100/469]\tBatch Time 0.702 (0.713)\tData Load Time 0.000 (0.011)\tLoss 3.6960 (3.5405)\tTop-5 Accuracy 71.728 (71.999)\n",
            "Epoch: [4][200/469]\tBatch Time 0.703 (0.707)\tData Load Time 0.000 (0.007)\tLoss 3.5313 (3.5545)\tTop-5 Accuracy 71.815 (71.756)\n",
            "Epoch: [4][300/469]\tBatch Time 0.714 (0.705)\tData Load Time 0.000 (0.005)\tLoss 3.7605 (3.5611)\tTop-5 Accuracy 70.013 (71.696)\n",
            "Epoch: [4][400/469]\tBatch Time 0.681 (0.704)\tData Load Time 0.000 (0.004)\tLoss 3.2468 (3.5544)\tTop-5 Accuracy 77.467 (71.846)\n",
            "-------------------- Validation --------------------\n",
            "Validation: [0/79]\tBatch Time 1.363 (1.363)\tLoss 4.7584 (4.7584)\tTop-5 Accuracy 62.500 (62.500)\t\n",
            "----- Bleu-n Scores -----\n",
            "1: 65.50920171957641\n",
            "2: 41.8510756207284\n",
            "3: 25.624737030253726\n",
            "4: 15.329996502755739\n",
            "-------------------------\n",
            "\n",
            " * LOSS - 5.262, TOP-5 ACCURACY - 61.013, BLEU-4 - 0.1548061271231411\n",
            "\n",
            "__________________________________________________\n",
            "-------------------- Training --------------------\n",
            "Epoch: [5][0/469]\tBatch Time 1.661 (1.661)\tData Load Time 0.919 (0.919)\tLoss 3.4593 (3.4593)\tTop-5 Accuracy 72.291 (72.291)\n",
            "Epoch: [5][100/469]\tBatch Time 0.679 (0.715)\tData Load Time 0.000 (0.011)\tLoss 3.3655 (3.3901)\tTop-5 Accuracy 76.511 (74.144)\n",
            "Epoch: [5][200/469]\tBatch Time 0.711 (0.707)\tData Load Time 0.007 (0.007)\tLoss 3.4243 (3.3940)\tTop-5 Accuracy 73.908 (74.022)\n",
            "Epoch: [5][300/469]\tBatch Time 0.693 (0.706)\tData Load Time 0.000 (0.005)\tLoss 3.3634 (3.3987)\tTop-5 Accuracy 75.304 (73.993)\n",
            "Epoch: [5][400/469]\tBatch Time 0.715 (0.704)\tData Load Time 0.000 (0.004)\tLoss 3.4643 (3.4053)\tTop-5 Accuracy 73.890 (73.954)\n",
            "-------------------- Validation --------------------\n",
            "Validation: [0/79]\tBatch Time 1.339 (1.339)\tLoss 4.9896 (4.9896)\tTop-5 Accuracy 64.103 (64.103)\t\n",
            "----- Bleu-n Scores -----\n",
            "1: 65.11229411476496\n",
            "2: 41.87539211760446\n",
            "3: 25.60234302806665\n",
            "4: 15.236438135579014\n",
            "-------------------------\n",
            "\n",
            " * LOSS - 5.325, TOP-5 ACCURACY - 61.552, BLEU-4 - 0.15384187259511678\n",
            "\n",
            "\n",
            "Epochs since last improvement: (1,)\n",
            "__________________________________________________\n",
            "-------------------- Training --------------------\n",
            "Epoch: [6][0/469]\tBatch Time 1.749 (1.749)\tData Load Time 0.934 (0.934)\tLoss 3.3772 (3.3772)\tTop-5 Accuracy 72.950 (72.950)\n",
            "Epoch: [6][100/469]\tBatch Time 0.720 (0.712)\tData Load Time 0.000 (0.011)\tLoss 3.4371 (3.2430)\tTop-5 Accuracy 72.895 (76.078)\n",
            "Epoch: [6][200/469]\tBatch Time 0.715 (0.707)\tData Load Time 0.007 (0.007)\tLoss 3.3939 (3.2561)\tTop-5 Accuracy 74.807 (75.985)\n",
            "Epoch: [6][300/469]\tBatch Time 0.680 (0.705)\tData Load Time 0.000 (0.005)\tLoss 3.2959 (3.2751)\tTop-5 Accuracy 75.309 (75.735)\n",
            "Epoch: [6][400/469]\tBatch Time 0.732 (0.704)\tData Load Time 0.000 (0.004)\tLoss 3.5299 (3.2800)\tTop-5 Accuracy 73.039 (75.653)\n",
            "-------------------- Validation --------------------\n",
            "Validation: [0/79]\tBatch Time 1.325 (1.325)\tLoss 5.7182 (5.7182)\tTop-5 Accuracy 59.395 (59.395)\t\n",
            "----- Bleu-n Scores -----\n",
            "1: 64.6525745067477\n",
            "2: 41.02905103655311\n",
            "3: 24.76998509835369\n",
            "4: 14.713650761718919\n",
            "-------------------------\n",
            "\n",
            " * LOSS - 5.317, TOP-5 ACCURACY - 61.563, BLEU-4 - 0.14863605824907353\n",
            "\n",
            "\n",
            "Epochs since last improvement: (2,)\n"
          ],
          "name": "stdout"
        }
      ]
    },
    {
      "cell_type": "code",
      "metadata": {
        "id": "hqkQVeyOHXQ9"
      },
      "source": [
        ""
      ],
      "execution_count": null,
      "outputs": []
    },
    {
      "cell_type": "code",
      "metadata": {
        "id": "TuhRS-t8pA6W"
      },
      "source": [
        "!cp /content/BEST_checkpoint_flickr8k_5_cap_per_img_2_min_word_freq_resnet101_fullvocab_fix_ds_finetune.pth.tar /content/drive/MyDrive/weights/"
      ],
      "execution_count": 72,
      "outputs": []
    },
    {
      "cell_type": "code",
      "metadata": {
        "colab": {
          "base_uri": "https://localhost:8080/"
        },
        "id": "zdnuK-b4pPd1",
        "outputId": "9b1c1ca3-0c2d-4af2-e4f3-59130dd7779c"
      },
      "source": [
        "batch_size = 64\n",
        "fine_tune_encoder = True\n",
        "checkpoint = '/content/BEST_checkpoint_flickr8k_5_cap_per_img_2_min_word_freq_resnet101_fullvocab_fix_ds_finetune.pth.tar'\n",
        "epochs = 15\n",
        "\n",
        "t_params = {\n",
        "    'data_name': DATA_NAME+'_finetune',\n",
        "    'imgs_path': IMGS_PATH,\n",
        "    'df_path': DATA_JSON_PATH,\n",
        "    'vocab': vocab,\n",
        "    'epochs': epochs,\n",
        "    'batch_size': batch_size,\n",
        "    'workers': workers,\n",
        "    'decoder_lr': decoder_lr*.8,\n",
        "    'encoder_lr': encoder_lr*.8,\n",
        "    'fine_tune_encoder': fine_tune_encoder\n",
        "}\n",
        "t_params"
      ],
      "execution_count": 66,
      "outputs": [
        {
          "output_type": "execute_result",
          "data": {
            "text/plain": [
              "{'batch_size': 64,\n",
              " 'data_name': 'flickr8k_5_cap_per_img_2_min_word_freq_resnet101_fullvocab_fix_ds_finetune_finetune',\n",
              " 'decoder_lr': 0.00032,\n",
              " 'df_path': 'Image-Captioning/data.json',\n",
              " 'encoder_lr': 8e-05,\n",
              " 'epochs': 15,\n",
              " 'fine_tune_encoder': True,\n",
              " 'imgs_path': 'flickr8k/images/',\n",
              " 'vocab': <dataset.Vocabulary at 0x7fcd521bd450>,\n",
              " 'workers': 2}"
            ]
          },
          "metadata": {
            "tags": []
          },
          "execution_count": 66
        }
      ]
    },
    {
      "cell_type": "code",
      "metadata": {
        "colab": {
          "base_uri": "https://localhost:8080/"
        },
        "id": "ptOGGuc8pWY1",
        "outputId": "1126c0b0-bc9c-41aa-b4e9-d516693c8e52"
      },
      "source": [
        "fit(t_params, checkpoint=checkpoint, m_params=m_params)"
      ],
      "execution_count": 67,
      "outputs": [
        {
          "output_type": "stream",
          "text": [
            "Loaded Checkpoint!!\n",
            "Starting Epoch: 5\n",
            "Loading Data\n",
            "Dataset split: train\n",
            "Unique images: 6000\n",
            "Total size: 30000\n",
            "Dataset split: val\n",
            "Unique images: 1000\n",
            "Total size: 5000\n",
            "__________________________________________________\n",
            "-------------------- Fitting --------------------\n",
            "__________________________________________________\n",
            "-------------------- Training --------------------\n",
            "Epoch: [5][0/469]\tBatch Time 1.682 (1.682)\tData Load Time 0.904 (0.904)\tLoss 3.1990 (3.1990)\tTop-5 Accuracy 77.147 (77.147)\n",
            "Epoch: [5][100/469]\tBatch Time 0.716 (0.714)\tData Load Time 0.000 (0.011)\tLoss 3.5080 (3.3834)\tTop-5 Accuracy 72.785 (74.127)\n",
            "Epoch: [5][200/469]\tBatch Time 0.717 (0.707)\tData Load Time 0.000 (0.007)\tLoss 3.3540 (3.4100)\tTop-5 Accuracy 73.752 (73.834)\n",
            "Epoch: [5][300/469]\tBatch Time 0.701 (0.705)\tData Load Time 0.000 (0.005)\tLoss 3.2632 (3.4052)\tTop-5 Accuracy 76.036 (73.997)\n",
            "Epoch: [5][400/469]\tBatch Time 0.732 (0.704)\tData Load Time 0.011 (0.005)\tLoss 3.5175 (3.4101)\tTop-5 Accuracy 73.127 (73.942)\n",
            "-------------------- Validation --------------------\n",
            "Validation: [0/79]\tBatch Time 1.356 (1.356)\tLoss 5.3868 (5.3868)\tTop-5 Accuracy 61.526 (61.526)\t\n",
            "----- Bleu-n Scores -----\n",
            "1: 65.22055563316206\n",
            "2: 41.29411981233398\n",
            "3: 24.76429408119038\n",
            "4: 14.464042933531521\n",
            "-------------------------\n",
            "\n",
            " * LOSS - 5.280, TOP-5 ACCURACY - 61.347, BLEU-4 - 0.1460278385968527\n",
            "\n",
            "\n",
            "Epochs since last improvement: (1,)\n",
            "__________________________________________________\n",
            "-------------------- Training --------------------\n",
            "Epoch: [6][0/469]\tBatch Time 1.712 (1.712)\tData Load Time 0.991 (0.991)\tLoss 3.3067 (3.3067)\tTop-5 Accuracy 74.505 (74.505)\n",
            "Epoch: [6][100/469]\tBatch Time 0.696 (0.711)\tData Load Time 0.000 (0.013)\tLoss 3.4356 (3.2507)\tTop-5 Accuracy 73.757 (75.988)\n",
            "Epoch: [6][200/469]\tBatch Time 0.697 (0.706)\tData Load Time 0.000 (0.008)\tLoss 3.1272 (3.2659)\tTop-5 Accuracy 77.924 (75.862)\n",
            "Epoch: [6][300/469]\tBatch Time 0.708 (0.704)\tData Load Time 0.007 (0.006)\tLoss 3.2600 (3.2740)\tTop-5 Accuracy 76.804 (75.762)\n",
            "Epoch: [6][400/469]\tBatch Time 0.700 (0.703)\tData Load Time 0.000 (0.005)\tLoss 3.1730 (3.2801)\tTop-5 Accuracy 76.874 (75.668)\n",
            "-------------------- Validation --------------------\n",
            "Validation: [0/79]\tBatch Time 1.368 (1.368)\tLoss 4.9418 (4.9418)\tTop-5 Accuracy 64.897 (64.897)\t\n",
            "----- Bleu-n Scores -----\n",
            "1: 64.5140882595528\n",
            "2: 40.98984792617428\n",
            "3: 24.95387071121137\n",
            "4: 14.910265844412294\n",
            "-------------------------\n",
            "\n",
            " * LOSS - 5.255, TOP-5 ACCURACY - 61.598, BLEU-4 - 0.1504937026518221\n",
            "\n",
            "\n",
            "Epochs since last improvement: (2,)\n",
            "__________________________________________________\n",
            "-------------------- Training --------------------\n",
            "Epoch: [7][0/469]\tBatch Time 1.747 (1.747)\tData Load Time 0.996 (0.996)\tLoss 3.2530 (3.2530)\tTop-5 Accuracy 77.072 (77.072)\n",
            "Epoch: [7][100/469]\tBatch Time 0.699 (0.711)\tData Load Time 0.000 (0.012)\tLoss 2.9749 (3.1079)\tTop-5 Accuracy 79.310 (77.952)\n",
            "Epoch: [7][200/469]\tBatch Time 0.694 (0.704)\tData Load Time 0.000 (0.007)\tLoss 3.2374 (3.1300)\tTop-5 Accuracy 75.853 (77.646)\n",
            "Epoch: [7][300/469]\tBatch Time 0.702 (0.702)\tData Load Time 0.006 (0.006)\tLoss 3.1480 (3.1507)\tTop-5 Accuracy 78.324 (77.428)\n",
            "Epoch: [7][400/469]\tBatch Time 0.720 (0.702)\tData Load Time 0.000 (0.005)\tLoss 3.1193 (3.1580)\tTop-5 Accuracy 78.553 (77.381)\n",
            "-------------------- Validation --------------------\n",
            "Validation: [0/79]\tBatch Time 1.328 (1.328)\tLoss 4.9919 (4.9919)\tTop-5 Accuracy 60.732 (60.732)\t\n",
            "----- Bleu-n Scores -----\n",
            "1: 64.6134827948968\n",
            "2: 41.07062330905089\n",
            "3: 25.110420650112598\n",
            "4: 15.07266273931784\n",
            "-------------------------\n",
            "\n",
            " * LOSS - 5.277, TOP-5 ACCURACY - 61.676, BLEU-4 - 0.15201911381332373\n",
            "\n",
            "\n",
            "Epochs since last improvement: (3,)\n",
            "__________________________________________________\n",
            "-------------------- Training --------------------\n",
            "Epoch: [8][0/469]\tBatch Time 1.770 (1.770)\tData Load Time 1.003 (1.003)\tLoss 2.9846 (2.9846)\tTop-5 Accuracy 81.528 (81.528)\n",
            "Epoch: [8][100/469]\tBatch Time 0.691 (0.711)\tData Load Time 0.000 (0.012)\tLoss 2.9794 (2.9932)\tTop-5 Accuracy 80.107 (79.844)\n",
            "Epoch: [8][200/469]\tBatch Time 0.698 (0.706)\tData Load Time 0.007 (0.007)\tLoss 2.9497 (3.0165)\tTop-5 Accuracy 81.145 (79.393)\n",
            "Epoch: [8][300/469]\tBatch Time 0.703 (0.703)\tData Load Time 0.000 (0.006)\tLoss 3.1000 (3.0375)\tTop-5 Accuracy 79.205 (79.133)\n",
            "Epoch: [8][400/469]\tBatch Time 0.685 (0.702)\tData Load Time 0.000 (0.005)\tLoss 3.2179 (3.0485)\tTop-5 Accuracy 76.197 (78.992)\n",
            "-------------------- Validation --------------------\n",
            "Validation: [0/79]\tBatch Time 1.374 (1.374)\tLoss 4.9940 (4.9940)\tTop-5 Accuracy 63.300 (63.300)\t\n",
            "----- Bleu-n Scores -----\n",
            "1: 65.18682696131658\n",
            "2: 41.38502982638839\n",
            "3: 25.31093321258005\n",
            "4: 15.319418045045749\n",
            "-------------------------\n",
            "\n",
            " * LOSS - 5.431, TOP-5 ACCURACY - 61.588, BLEU-4 - 0.1547032529235092\n",
            "\n",
            "\n",
            "Epochs since last improvement: (4,)\n",
            "__________________________________________________\n",
            "-------------------- Training --------------------\n",
            "Epoch: [9][0/469]\tBatch Time 1.673 (1.673)\tData Load Time 0.902 (0.902)\tLoss 2.6154 (2.6154)\tTop-5 Accuracy 84.225 (84.225)\n",
            "Epoch: [9][100/469]\tBatch Time 0.704 (0.710)\tData Load Time 0.000 (0.011)\tLoss 2.8661 (2.8708)\tTop-5 Accuracy 81.510 (81.404)\n",
            "Epoch: [9][200/469]\tBatch Time 0.695 (0.704)\tData Load Time 0.007 (0.007)\tLoss 2.8958 (2.9067)\tTop-5 Accuracy 81.686 (80.944)\n",
            "Epoch: [9][300/469]\tBatch Time 0.712 (0.702)\tData Load Time 0.000 (0.005)\tLoss 2.9183 (2.9256)\tTop-5 Accuracy 80.662 (80.758)\n",
            "Epoch: [9][400/469]\tBatch Time 0.714 (0.702)\tData Load Time 0.009 (0.004)\tLoss 2.8294 (2.9415)\tTop-5 Accuracy 81.599 (80.509)\n",
            "-------------------- Validation --------------------\n",
            "Validation: [0/79]\tBatch Time 1.328 (1.328)\tLoss 6.3034 (6.3034)\tTop-5 Accuracy 57.722 (57.722)\t\n",
            "----- Bleu-n Scores -----\n",
            "1: 64.03877588955962\n",
            "2: 40.34385997531162\n",
            "3: 24.489582819853187\n",
            "4: 14.644313807001238\n",
            "-------------------------\n",
            "\n",
            " * LOSS - 5.417, TOP-5 ACCURACY - 61.279, BLEU-4 - 0.14789306300998042\n",
            "\n",
            "\n",
            "Epochs since last improvement: (5,)\n",
            "__________________________________________________\n",
            "-------------------- Training --------------------\n",
            "Epoch: [10][0/469]\tBatch Time 1.758 (1.758)\tData Load Time 0.975 (0.975)\tLoss 2.6590 (2.6590)\tTop-5 Accuracy 84.626 (84.626)\n",
            "Epoch: [10][100/469]\tBatch Time 0.694 (0.710)\tData Load Time 0.000 (0.011)\tLoss 2.8588 (2.7927)\tTop-5 Accuracy 81.682 (82.496)\n",
            "Epoch: [10][200/469]\tBatch Time 0.714 (0.705)\tData Load Time 0.000 (0.007)\tLoss 2.8551 (2.8171)\tTop-5 Accuracy 82.074 (82.238)\n",
            "Epoch: [10][300/469]\tBatch Time 0.713 (0.703)\tData Load Time 0.014 (0.005)\tLoss 2.8342 (2.8355)\tTop-5 Accuracy 81.582 (81.965)\n",
            "Epoch: [10][400/469]\tBatch Time 0.702 (0.702)\tData Load Time 0.000 (0.005)\tLoss 3.0206 (2.8500)\tTop-5 Accuracy 77.849 (81.785)\n",
            "-------------------- Validation --------------------\n",
            "Validation: [0/79]\tBatch Time 1.339 (1.339)\tLoss 4.4412 (4.4412)\tTop-5 Accuracy 64.959 (64.959)\t\n",
            "----- Bleu-n Scores -----\n",
            "1: 64.30126571042032\n",
            "2: 40.72042425214037\n",
            "3: 24.942006325797415\n",
            "4: 15.109374163721723\n",
            "-------------------------\n",
            "\n",
            " * LOSS - 5.544, TOP-5 ACCURACY - 61.357, BLEU-4 - 0.15276610518250952\n",
            "\n",
            "\n",
            "Epochs since last improvement: (6,)\n",
            "__________________________________________________\n",
            "-------------------- Training --------------------\n",
            "Epoch: [11][0/469]\tBatch Time 1.734 (1.734)\tData Load Time 0.979 (0.979)\tLoss 2.6443 (2.6443)\tTop-5 Accuracy 85.658 (85.658)\n",
            "Epoch: [11][100/469]\tBatch Time 0.699 (0.710)\tData Load Time 0.000 (0.012)\tLoss 2.7549 (2.6892)\tTop-5 Accuracy 83.399 (83.950)\n",
            "Epoch: [11][200/469]\tBatch Time 0.703 (0.705)\tData Load Time 0.000 (0.007)\tLoss 2.7499 (2.7178)\tTop-5 Accuracy 83.724 (83.570)\n",
            "Epoch: [11][300/469]\tBatch Time 0.705 (0.704)\tData Load Time 0.000 (0.005)\tLoss 2.9307 (2.7408)\tTop-5 Accuracy 80.946 (83.242)\n",
            "Epoch: [11][400/469]\tBatch Time 0.699 (0.703)\tData Load Time 0.000 (0.005)\tLoss 2.6923 (2.7561)\tTop-5 Accuracy 83.492 (83.060)\n",
            "-------------------- Validation --------------------\n",
            "Validation: [0/79]\tBatch Time 1.318 (1.318)\tLoss 6.3245 (6.3245)\tTop-5 Accuracy 55.477 (55.477)\t\n",
            "----- Bleu-n Scores -----\n",
            "1: 64.11157156821164\n",
            "2: 40.29079036922723\n",
            "3: 24.410209133190854\n",
            "4: 14.648346529133091\n",
            "-------------------------\n",
            "\n",
            " * LOSS - 5.667, TOP-5 ACCURACY - 61.038, BLEU-4 - 0.14808230924974944\n",
            "\n",
            "\n",
            "Epochs since last improvement: (7,)\n",
            "__________________________________________________\n",
            "-------------------- Training --------------------\n",
            "Epoch: [12][0/469]\tBatch Time 1.688 (1.688)\tData Load Time 0.951 (0.951)\tLoss 2.4975 (2.4975)\tTop-5 Accuracy 86.269 (86.269)\n",
            "Epoch: [12][100/469]\tBatch Time 0.718 (0.710)\tData Load Time 0.000 (0.011)\tLoss 2.7201 (2.5964)\tTop-5 Accuracy 83.133 (85.196)\n",
            "Epoch: [12][200/469]\tBatch Time 0.702 (0.705)\tData Load Time 0.000 (0.007)\tLoss 2.6530 (2.6274)\tTop-5 Accuracy 86.745 (84.835)\n",
            "Epoch: [12][300/469]\tBatch Time 0.718 (0.704)\tData Load Time 0.000 (0.005)\tLoss 2.7255 (2.6496)\tTop-5 Accuracy 83.184 (84.624)\n",
            "Epoch: [12][400/469]\tBatch Time 0.675 (0.702)\tData Load Time 0.000 (0.005)\tLoss 2.7041 (2.6652)\tTop-5 Accuracy 84.866 (84.435)\n",
            "-------------------- Validation --------------------\n",
            "Validation: [0/79]\tBatch Time 1.324 (1.324)\tLoss 5.1762 (5.1762)\tTop-5 Accuracy 62.731 (62.731)\t\n",
            "----- Bleu-n Scores -----\n",
            "1: 63.87370782762676\n",
            "2: 40.28785782157167\n",
            "3: 24.456650013076718\n",
            "4: 14.444810270398003\n",
            "-------------------------\n",
            "\n",
            " * LOSS - 5.604, TOP-5 ACCURACY - 60.728, BLEU-4 - 0.14578289093400432\n",
            "\n",
            "\n",
            "Epochs since last improvement: (8,)\n",
            "Decaying learning rate\n",
            "The new learning rate is 0.00032\n",
            "Decaying learning rate\n",
            "The new learning rate is 8e-05\n",
            "__________________________________________________\n",
            "-------------------- Training --------------------\n",
            "Epoch: [13][0/469]\tBatch Time 1.830 (1.830)\tData Load Time 1.058 (1.058)\tLoss 2.5657 (2.5657)\tTop-5 Accuracy 84.375 (84.375)\n",
            "Epoch: [13][100/469]\tBatch Time 0.712 (0.714)\tData Load Time 0.000 (0.013)\tLoss 2.6843 (2.4942)\tTop-5 Accuracy 83.247 (86.589)\n",
            "Epoch: [13][200/469]\tBatch Time 0.700 (0.707)\tData Load Time 0.000 (0.008)\tLoss 2.6140 (2.5079)\tTop-5 Accuracy 84.067 (86.456)\n",
            "Epoch: [13][300/469]\tBatch Time 0.714 (0.705)\tData Load Time 0.013 (0.006)\tLoss 2.6446 (2.5267)\tTop-5 Accuracy 83.594 (86.257)\n",
            "Epoch: [13][400/469]\tBatch Time 0.708 (0.703)\tData Load Time 0.000 (0.005)\tLoss 2.6672 (2.5345)\tTop-5 Accuracy 84.891 (86.196)\n",
            "-------------------- Validation --------------------\n",
            "Validation: [0/79]\tBatch Time 1.367 (1.367)\tLoss 5.8228 (5.8228)\tTop-5 Accuracy 58.621 (58.621)\t\n",
            "----- Bleu-n Scores -----\n",
            "1: 64.05264646254724\n",
            "2: 40.153332854814906\n",
            "3: 24.080316087187164\n",
            "4: 14.191456035354125\n",
            "-------------------------\n",
            "\n",
            " * LOSS - 5.660, TOP-5 ACCURACY - 60.722, BLEU-4 - 0.14345904497468753\n",
            "\n",
            "\n",
            "Epochs since last improvement: (9,)\n",
            "__________________________________________________\n",
            "-------------------- Training --------------------\n",
            "Epoch: [14][0/469]\tBatch Time 1.694 (1.694)\tData Load Time 0.959 (0.959)\tLoss 2.3310 (2.3310)\tTop-5 Accuracy 88.243 (88.243)\n",
            "Epoch: [14][100/469]\tBatch Time 0.723 (0.710)\tData Load Time 0.007 (0.012)\tLoss 2.3493 (2.3775)\tTop-5 Accuracy 87.811 (88.162)\n",
            "Epoch: [14][200/469]\tBatch Time 0.715 (0.705)\tData Load Time 0.000 (0.007)\tLoss 2.2631 (2.4038)\tTop-5 Accuracy 89.290 (87.833)\n",
            "Epoch: [14][300/469]\tBatch Time 0.680 (0.703)\tData Load Time 0.000 (0.005)\tLoss 2.5176 (2.4204)\tTop-5 Accuracy 86.546 (87.637)\n",
            "Epoch: [14][400/469]\tBatch Time 0.698 (0.702)\tData Load Time 0.000 (0.005)\tLoss 2.4544 (2.4403)\tTop-5 Accuracy 87.467 (87.431)\n",
            "-------------------- Validation --------------------\n",
            "Validation: [0/79]\tBatch Time 1.316 (1.316)\tLoss 5.2382 (5.2382)\tTop-5 Accuracy 59.781 (59.781)\t\n",
            "----- Bleu-n Scores -----\n",
            "1: 63.01409263759776\n",
            "2: 39.39811828524921\n",
            "3: 23.90869909753446\n",
            "4: 14.19756421356006\n",
            "-------------------------\n",
            "\n",
            " * LOSS - 5.771, TOP-5 ACCURACY - 60.675, BLEU-4 - 0.14353181819231187\n",
            "\n",
            "\n",
            "Epochs since last improvement: (10,)\n"
          ],
          "name": "stdout"
        }
      ]
    },
    {
      "cell_type": "code",
      "metadata": {
        "colab": {
          "base_uri": "https://localhost:8080/"
        },
        "id": "CkM-H7kopj-m",
        "outputId": "d5ac334f-5e26-4a78-870c-5aa372b967ab"
      },
      "source": [
        "checkpoint = load_checkpoint('/content/BEST_checkpoint_flickr8k_5_cap_per_img_2_min_word_freq_resnet101_fullvocab_fix_ds_finetune.pth.tar')"
      ],
      "execution_count": 70,
      "outputs": [
        {
          "output_type": "stream",
          "text": [
            "Loaded Checkpoint!!\n",
            "Last Epoch: 4\n",
            "Best Bleu-4: 0.1548061271231411\n"
          ],
          "name": "stdout"
        }
      ]
    },
    {
      "cell_type": "code",
      "metadata": {
        "id": "97VrCTRMimEO"
      },
      "source": [
        ""
      ],
      "execution_count": null,
      "outputs": []
    }
  ]
}