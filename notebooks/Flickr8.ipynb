{
  "nbformat": 4,
  "nbformat_minor": 0,
  "metadata": {
    "colab": {
      "name": "Flickr8",
      "provenance": [],
      "collapsed_sections": []
    },
    "kernelspec": {
      "name": "python3",
      "display_name": "Python 3"
    },
    "language_info": {
      "name": "python"
    },
    "accelerator": "GPU",
    "widgets": {
      "application/vnd.jupyter.widget-state+json": {
        "59f9053be7e542e9a32736aa5edd45a7": {
          "model_module": "@jupyter-widgets/controls",
          "model_name": "HBoxModel",
          "state": {
            "_view_name": "HBoxView",
            "_dom_classes": [],
            "_model_name": "HBoxModel",
            "_view_module": "@jupyter-widgets/controls",
            "_model_module_version": "1.5.0",
            "_view_count": null,
            "_view_module_version": "1.5.0",
            "box_style": "",
            "layout": "IPY_MODEL_bafd395097ab40b8b110b765680becbd",
            "_model_module": "@jupyter-widgets/controls",
            "children": [
              "IPY_MODEL_f8ec473b51ee4d23af3eba2009731e69",
              "IPY_MODEL_61e870cc4c6d4bf1b51630c12ab559e0"
            ]
          }
        },
        "bafd395097ab40b8b110b765680becbd": {
          "model_module": "@jupyter-widgets/base",
          "model_name": "LayoutModel",
          "state": {
            "_view_name": "LayoutView",
            "grid_template_rows": null,
            "right": null,
            "justify_content": null,
            "_view_module": "@jupyter-widgets/base",
            "overflow": null,
            "_model_module_version": "1.2.0",
            "_view_count": null,
            "flex_flow": null,
            "width": null,
            "min_width": null,
            "border": null,
            "align_items": null,
            "bottom": null,
            "_model_module": "@jupyter-widgets/base",
            "top": null,
            "grid_column": null,
            "overflow_y": null,
            "overflow_x": null,
            "grid_auto_flow": null,
            "grid_area": null,
            "grid_template_columns": null,
            "flex": null,
            "_model_name": "LayoutModel",
            "justify_items": null,
            "grid_row": null,
            "max_height": null,
            "align_content": null,
            "visibility": null,
            "align_self": null,
            "height": null,
            "min_height": null,
            "padding": null,
            "grid_auto_rows": null,
            "grid_gap": null,
            "max_width": null,
            "order": null,
            "_view_module_version": "1.2.0",
            "grid_template_areas": null,
            "object_position": null,
            "object_fit": null,
            "grid_auto_columns": null,
            "margin": null,
            "display": null,
            "left": null
          }
        },
        "f8ec473b51ee4d23af3eba2009731e69": {
          "model_module": "@jupyter-widgets/controls",
          "model_name": "FloatProgressModel",
          "state": {
            "_view_name": "ProgressView",
            "style": "IPY_MODEL_1efde2bede1a444e823084cd2dcabb07",
            "_dom_classes": [],
            "description": "100%",
            "_model_name": "FloatProgressModel",
            "bar_style": "success",
            "max": 178793939,
            "_view_module": "@jupyter-widgets/controls",
            "_model_module_version": "1.5.0",
            "value": 178793939,
            "_view_count": null,
            "_view_module_version": "1.5.0",
            "orientation": "horizontal",
            "min": 0,
            "description_tooltip": null,
            "_model_module": "@jupyter-widgets/controls",
            "layout": "IPY_MODEL_0ca2b91085034b5db3b17f1733a1bc19"
          }
        },
        "61e870cc4c6d4bf1b51630c12ab559e0": {
          "model_module": "@jupyter-widgets/controls",
          "model_name": "HTMLModel",
          "state": {
            "_view_name": "HTMLView",
            "style": "IPY_MODEL_24a853ecd9264806932d5db84ecadfd1",
            "_dom_classes": [],
            "description": "",
            "_model_name": "HTMLModel",
            "placeholder": "​",
            "_view_module": "@jupyter-widgets/controls",
            "_model_module_version": "1.5.0",
            "value": " 171M/171M [00:01&lt;00:00, 164MB/s]",
            "_view_count": null,
            "_view_module_version": "1.5.0",
            "description_tooltip": null,
            "_model_module": "@jupyter-widgets/controls",
            "layout": "IPY_MODEL_56ce067fa68c4459a0c48ba605d70a71"
          }
        },
        "1efde2bede1a444e823084cd2dcabb07": {
          "model_module": "@jupyter-widgets/controls",
          "model_name": "ProgressStyleModel",
          "state": {
            "_view_name": "StyleView",
            "_model_name": "ProgressStyleModel",
            "description_width": "initial",
            "_view_module": "@jupyter-widgets/base",
            "_model_module_version": "1.5.0",
            "_view_count": null,
            "_view_module_version": "1.2.0",
            "bar_color": null,
            "_model_module": "@jupyter-widgets/controls"
          }
        },
        "0ca2b91085034b5db3b17f1733a1bc19": {
          "model_module": "@jupyter-widgets/base",
          "model_name": "LayoutModel",
          "state": {
            "_view_name": "LayoutView",
            "grid_template_rows": null,
            "right": null,
            "justify_content": null,
            "_view_module": "@jupyter-widgets/base",
            "overflow": null,
            "_model_module_version": "1.2.0",
            "_view_count": null,
            "flex_flow": null,
            "width": null,
            "min_width": null,
            "border": null,
            "align_items": null,
            "bottom": null,
            "_model_module": "@jupyter-widgets/base",
            "top": null,
            "grid_column": null,
            "overflow_y": null,
            "overflow_x": null,
            "grid_auto_flow": null,
            "grid_area": null,
            "grid_template_columns": null,
            "flex": null,
            "_model_name": "LayoutModel",
            "justify_items": null,
            "grid_row": null,
            "max_height": null,
            "align_content": null,
            "visibility": null,
            "align_self": null,
            "height": null,
            "min_height": null,
            "padding": null,
            "grid_auto_rows": null,
            "grid_gap": null,
            "max_width": null,
            "order": null,
            "_view_module_version": "1.2.0",
            "grid_template_areas": null,
            "object_position": null,
            "object_fit": null,
            "grid_auto_columns": null,
            "margin": null,
            "display": null,
            "left": null
          }
        },
        "24a853ecd9264806932d5db84ecadfd1": {
          "model_module": "@jupyter-widgets/controls",
          "model_name": "DescriptionStyleModel",
          "state": {
            "_view_name": "StyleView",
            "_model_name": "DescriptionStyleModel",
            "description_width": "",
            "_view_module": "@jupyter-widgets/base",
            "_model_module_version": "1.5.0",
            "_view_count": null,
            "_view_module_version": "1.2.0",
            "_model_module": "@jupyter-widgets/controls"
          }
        },
        "56ce067fa68c4459a0c48ba605d70a71": {
          "model_module": "@jupyter-widgets/base",
          "model_name": "LayoutModel",
          "state": {
            "_view_name": "LayoutView",
            "grid_template_rows": null,
            "right": null,
            "justify_content": null,
            "_view_module": "@jupyter-widgets/base",
            "overflow": null,
            "_model_module_version": "1.2.0",
            "_view_count": null,
            "flex_flow": null,
            "width": null,
            "min_width": null,
            "border": null,
            "align_items": null,
            "bottom": null,
            "_model_module": "@jupyter-widgets/base",
            "top": null,
            "grid_column": null,
            "overflow_y": null,
            "overflow_x": null,
            "grid_auto_flow": null,
            "grid_area": null,
            "grid_template_columns": null,
            "flex": null,
            "_model_name": "LayoutModel",
            "justify_items": null,
            "grid_row": null,
            "max_height": null,
            "align_content": null,
            "visibility": null,
            "align_self": null,
            "height": null,
            "min_height": null,
            "padding": null,
            "grid_auto_rows": null,
            "grid_gap": null,
            "max_width": null,
            "order": null,
            "_view_module_version": "1.2.0",
            "grid_template_areas": null,
            "object_position": null,
            "object_fit": null,
            "grid_auto_columns": null,
            "margin": null,
            "display": null,
            "left": null
          }
        }
      }
    }
  },
  "cells": [
    {
      "cell_type": "code",
      "metadata": {
        "colab": {
          "base_uri": "https://localhost:8080/"
        },
        "id": "0yF22FLldBVv",
        "outputId": "f0a27307-b1ce-4508-ad99-1d92c212753b"
      },
      "source": [
        "!nvidia-smi"
      ],
      "execution_count": 5,
      "outputs": [
        {
          "output_type": "stream",
          "text": [
            "Wed Jun 23 14:48:56 2021       \n",
            "+-----------------------------------------------------------------------------+\n",
            "| NVIDIA-SMI 465.27       Driver Version: 460.32.03    CUDA Version: 11.2     |\n",
            "|-------------------------------+----------------------+----------------------+\n",
            "| GPU  Name        Persistence-M| Bus-Id        Disp.A | Volatile Uncorr. ECC |\n",
            "| Fan  Temp  Perf  Pwr:Usage/Cap|         Memory-Usage | GPU-Util  Compute M. |\n",
            "|                               |                      |               MIG M. |\n",
            "|===============================+======================+======================|\n",
            "|   0  Tesla T4            Off  | 00000000:00:04.0 Off |                    0 |\n",
            "| N/A   54C    P8    10W /  70W |      0MiB / 15109MiB |      0%      Default |\n",
            "|                               |                      |                  N/A |\n",
            "+-------------------------------+----------------------+----------------------+\n",
            "                                                                               \n",
            "+-----------------------------------------------------------------------------+\n",
            "| Processes:                                                                  |\n",
            "|  GPU   GI   CI        PID   Type   Process name                  GPU Memory |\n",
            "|        ID   ID                                                   Usage      |\n",
            "|=============================================================================|\n",
            "|  No running processes found                                                 |\n",
            "+-----------------------------------------------------------------------------+\n"
          ],
          "name": "stdout"
        }
      ]
    },
    {
      "cell_type": "code",
      "metadata": {
        "colab": {
          "base_uri": "https://localhost:8080/"
        },
        "id": "KAVbNRecdEmC",
        "outputId": "fc6bf747-50fb-46a4-88c3-d900d0a2c5c7"
      },
      "source": [
        "!mkdir /root/.kaggle\n",
        "!mv kaggle.json /root/.kaggle\n",
        "!chmod 600 /root/.kaggle/kaggle.json"
      ],
      "execution_count": 7,
      "outputs": [
        {
          "output_type": "stream",
          "text": [
            "mkdir: cannot create directory ‘/root/.kaggle’: File exists\n"
          ],
          "name": "stdout"
        }
      ]
    },
    {
      "cell_type": "code",
      "metadata": {
        "colab": {
          "base_uri": "https://localhost:8080/"
        },
        "id": "_FHpPT9-dPip",
        "outputId": "0b200d33-6c64-4ca2-bb25-c150c06c9230"
      },
      "source": [
        "!pip install kaggle -q\n",
        "!kaggle datasets download -d aladdinpersson/flickr8kimagescaptions\n",
        "!unzip -q flickr8kimagescaptions.zip"
      ],
      "execution_count": 8,
      "outputs": [
        {
          "output_type": "stream",
          "text": [
            "Downloading flickr8kimagescaptions.zip to /content\n",
            " 98% 1.02G/1.04G [00:04<00:00, 233MB/s]\n",
            "100% 1.04G/1.04G [00:04<00:00, 233MB/s]\n"
          ],
          "name": "stdout"
        }
      ]
    },
    {
      "cell_type": "code",
      "metadata": {
        "id": "0rhy46y0NmxV"
      },
      "source": [
        "!rm -r Image-Captioning/"
      ],
      "execution_count": 9,
      "outputs": []
    },
    {
      "cell_type": "code",
      "metadata": {
        "id": "kdb4vWE0dQS6",
        "colab": {
          "base_uri": "https://localhost:8080/"
        },
        "outputId": "a60d103b-8c91-4f33-d0d5-a3e93b8d104c"
      },
      "source": [
        "# # get the code for kaggle\n",
        "!git clone https://github.com/moaaztaha/Image-Captioning\n",
        "py_files_path = 'Image-Captioning/'\n",
        "import sys\n",
        "sys.path.append(py_files_path)"
      ],
      "execution_count": 10,
      "outputs": [
        {
          "output_type": "stream",
          "text": [
            "Cloning into 'Image-Captioning'...\n",
            "remote: Enumerating objects: 506, done.\u001b[K\n",
            "remote: Counting objects: 100% (506/506), done.\u001b[K\n",
            "remote: Compressing objects: 100% (217/217), done.\u001b[K\n",
            "remote: Total 506 (delta 312), reused 475 (delta 281), pack-reused 0\u001b[K\n",
            "Receiving objects: 100% (506/506), 36.49 MiB | 20.79 MiB/s, done.\n",
            "Resolving deltas: 100% (312/312), done.\n"
          ],
          "name": "stdout"
        }
      ]
    },
    {
      "cell_type": "code",
      "metadata": {
        "id": "cCupTxpafLCY"
      },
      "source": [
        "%reload_ext autoreload\n",
        "%autoreload 2\n",
        "%matplotlib inline"
      ],
      "execution_count": 11,
      "outputs": []
    },
    {
      "cell_type": "code",
      "metadata": {
        "id": "DJpGuI-eJ1aC"
      },
      "source": [
        "# !pip3 install nltk==3.6.2\n",
        "# import nltk\n",
        "# nltk.download(\"wordnet\")"
      ],
      "execution_count": 12,
      "outputs": []
    },
    {
      "cell_type": "code",
      "metadata": {
        "id": "HAUwbIDzfLCY"
      },
      "source": [
        "import time \n",
        "import torch.backends.cudnn as cudnn\n",
        "import torch.optim\n",
        "import torch.utils.data\n",
        "import torchvision.transforms as transforms\n",
        "from torch import nn\n",
        "from torch.nn.utils.rnn import pack_padded_sequence\n",
        "from models import Encoder, DecoderWithAttention\n",
        "from dataset import *\n",
        "from utils import *\n",
        "from train import *\n",
        "from torch.utils.tensorboard import SummaryWriter\n",
        "from os import path as osp"
      ],
      "execution_count": 13,
      "outputs": []
    },
    {
      "cell_type": "code",
      "metadata": {
        "id": "2xao3iXYfLCZ"
      },
      "source": [
        "# Model parameters\n",
        "encoder_dim = 2048 # resnet101\n",
        "emb_dim = 512  # dimension of word embeddings\n",
        "attention_dim = 512  # dimension of attention linear layers\n",
        "decoder_dim = 512  # dimension of decoder RNN\n",
        "dropout = 0.5\n",
        "device = torch.device(\"cuda\" if torch.cuda.is_available() else \"cpu\")  # sets device for model and PyTorch tensors\n",
        "cudnn.benchmark = True  # set to true only if inputs to model are fixed size; otherwise lot of computational overhead\n",
        "\n",
        "# training parameters\n",
        "epochs = 20  # number of epochs to train for (if early stopping is not triggered)\n",
        "batch_size = 256\n",
        "workers = 2\n",
        "encoder_lr = 1e-4  # learning rate for encoder if fine-tuning\n",
        "decoder_lr = 4e-4  # learning rate for decoder\n",
        "fine_tune_encoder = False  # fine-tune encoder?\n",
        "pretrained_embeddings = False\n",
        "fine_tune_embeddings = False\n",
        "checkpoint = None  # path to checkpoint, None if none"
      ],
      "execution_count": 14,
      "outputs": []
    },
    {
      "cell_type": "code",
      "metadata": {
        "id": "NjGhnGwvfLCZ"
      },
      "source": [
        "DATA_NAME = 'flickr8k_tb'\n",
        "\n",
        "# local\n",
        "# DATA_JSON_PATH = 'data.json'\n",
        "# IMGS_PATH = 'flickr/Images/'\n",
        "# kaggle paths\n",
        "# DATA_JSON_PATH = '/kaggle/working/Image-Captioning/data.json'\n",
        "# IMGS_PATH = '../input/flickr8kimagescaptions/flickr8k/images/'\n",
        "#colab\n",
        "DATA_JSON_PATH = 'Image-Captioning/data.json'\n",
        "IMGS_PATH = 'flickr8k/images/'"
      ],
      "execution_count": 15,
      "outputs": []
    },
    {
      "cell_type": "code",
      "metadata": {
        "scrolled": true,
        "colab": {
          "base_uri": "https://localhost:8080/"
        },
        "id": "ohaaGjb7fLCa",
        "outputId": "a9985d44-6db3-41a3-b134-de72299528d1"
      },
      "source": [
        "# load vocab\n",
        "vocab = build_vocab(DATA_JSON_PATH)\n",
        "vocab_len = len(vocab)\n",
        "vocab_len"
      ],
      "execution_count": 16,
      "outputs": [
        {
          "output_type": "stream",
          "text": [
            "100%|██████████| 40000/40000 [00:00<00:00, 301842.41it/s]\n"
          ],
          "name": "stderr"
        },
        {
          "output_type": "execute_result",
          "data": {
            "text/plain": [
              "5089"
            ]
          },
          "metadata": {
            "tags": []
          },
          "execution_count": 16
        }
      ]
    },
    {
      "cell_type": "code",
      "metadata": {
        "id": "B6quGOJjfLCb"
      },
      "source": [
        "t_params = {\n",
        "    'data_name': DATA_NAME,\n",
        "    'imgs_path': IMGS_PATH,\n",
        "    'df_path': DATA_JSON_PATH,\n",
        "    'vocab': vocab,\n",
        "    'epochs': epochs,\n",
        "    'batch_size': batch_size,\n",
        "    'workers': workers,\n",
        "    'decoder_lr': decoder_lr,\n",
        "    'encoder_lr': encoder_lr,\n",
        "    'fine_tune_encoder': fine_tune_encoder,\n",
        "    'pretrained_embeddings': pretrained_embeddings,\n",
        "}\n",
        "\n",
        "m_params = {\n",
        "    'attention_dim': attention_dim,\n",
        "    'embed_dim': emb_dim,\n",
        "    'decoder_dim': decoder_dim,\n",
        "    'encoder_dim': encoder_dim,\n",
        "    'dropout': dropout\n",
        "}\n",
        "\n",
        "logger_dic = {\n",
        "    'decoder_lr': decoder_lr,\n",
        "    'encoder_lr': encoder_lr,\n",
        "    'fine_tune_encoder': fine_tune_encoder,\n",
        "    'pretrained_embeddings': pretrained_embeddings,\n",
        "    'max_seq_length': 100,\n",
        "    'vocab_size': vocab_len,\n",
        "    'enocder': 'resnet101',\n",
        "    'dropout': dropout,\n",
        "    'attention_dim': attention_dim,\n",
        "    'embed_dim': emb_dim,\n",
        "    'decoder_dim': decoder_dim,\n",
        "    'encoder_dim': encoder_dim \n",
        "    \n",
        "}"
      ],
      "execution_count": 17,
      "outputs": []
    },
    {
      "cell_type": "code",
      "metadata": {
        "colab": {
          "base_uri": "https://localhost:8080/"
        },
        "id": "z9hJPzJhh4v4",
        "outputId": "14601040-97d6-4491-b133-b793c3bc22b1"
      },
      "source": [
        "t_params"
      ],
      "execution_count": 18,
      "outputs": [
        {
          "output_type": "execute_result",
          "data": {
            "text/plain": [
              "{'batch_size': 256,\n",
              " 'data_name': 'flickr8k_tb',\n",
              " 'decoder_lr': 0.0004,\n",
              " 'df_path': 'Image-Captioning/data.json',\n",
              " 'encoder_lr': 0.0001,\n",
              " 'epochs': 20,\n",
              " 'fine_tune_encoder': False,\n",
              " 'imgs_path': 'flickr8k/images/',\n",
              " 'pretrained_embeddings': False,\n",
              " 'vocab': <dataset.Vocabulary at 0x7f3b3bba8490>,\n",
              " 'workers': 2}"
            ]
          },
          "metadata": {
            "tags": []
          },
          "execution_count": 18
        }
      ]
    },
    {
      "cell_type": "code",
      "metadata": {
        "id": "zb8kS-8cKOWR"
      },
      "source": [
        "# experiment name\n",
        "name = DATA_NAME + \"lr_scheduler\"\n",
        "# path\n",
        "log_dir = 'experiments'\n",
        "\n",
        "logger = SummaryWriter(log_dir=osp.join(log_dir, name))"
      ],
      "execution_count": 19,
      "outputs": []
    },
    {
      "cell_type": "code",
      "metadata": {
        "colab": {
          "base_uri": "https://localhost:8080/",
          "height": 1000,
          "referenced_widgets": [
            "59f9053be7e542e9a32736aa5edd45a7",
            "bafd395097ab40b8b110b765680becbd",
            "f8ec473b51ee4d23af3eba2009731e69",
            "61e870cc4c6d4bf1b51630c12ab559e0",
            "1efde2bede1a444e823084cd2dcabb07",
            "0ca2b91085034b5db3b17f1733a1bc19",
            "24a853ecd9264806932d5db84ecadfd1",
            "56ce067fa68c4459a0c48ba605d70a71"
          ]
        },
        "id": "uq-qHyNcIQLQ",
        "outputId": "b58f3476-7433-4387-92a8-03ac726cba22"
      },
      "source": [
        "# with scheduler\n",
        "fit(t_params=t_params, m_params=m_params, logger=logger)"
      ],
      "execution_count": 20,
      "outputs": [
        {
          "output_type": "stream",
          "text": [
            "Downloading: \"https://download.pytorch.org/models/resnet101-63fe2227.pth\" to /root/.cache/torch/hub/checkpoints/resnet101-63fe2227.pth\n"
          ],
          "name": "stderr"
        },
        {
          "output_type": "display_data",
          "data": {
            "application/vnd.jupyter.widget-view+json": {
              "model_id": "59f9053be7e542e9a32736aa5edd45a7",
              "version_minor": 0,
              "version_major": 2
            },
            "text/plain": [
              "HBox(children=(FloatProgress(value=0.0, max=178793939.0), HTML(value='')))"
            ]
          },
          "metadata": {
            "tags": []
          }
        },
        {
          "output_type": "stream",
          "text": [
            "\n",
            "Loading Data\n",
            "Dataset split: train\n",
            "Unique images: 6000\n",
            "Total size: 30000\n",
            "Dataset split: val\n",
            "Unique images: 1000\n",
            "Total size: 5000\n",
            "__________________________________________________\n",
            "-------------------- Fitting --------------------\n",
            "__________________________________________________\n",
            "-------------------- Training --------------------\n"
          ],
          "name": "stdout"
        },
        {
          "output_type": "stream",
          "text": [
            "/usr/local/lib/python3.7/dist-packages/torch/nn/functional.py:718: UserWarning: Named tensors and all their associated APIs are an experimental feature and subject to change. Please do not use them for anything important until they are released as stable. (Triggered internally at  /pytorch/c10/core/TensorImpl.h:1156.)\n",
            "  return torch.max_pool2d(input, kernel_size, stride, padding, dilation, ceil_mode)\n"
          ],
          "name": "stderr"
        },
        {
          "output_type": "stream",
          "text": [
            "Epoch: [0][0/118]\tBatch Time 9.028 (9.028)\tData Load Time 3.641 (3.641)\tLoss 9.4521 (9.4521)\tTop-5 Accuracy 0.063 (0.063)\n",
            "Epoch: [0][100/118]\tBatch Time 2.481 (2.466)\tData Load Time 0.001 (0.041)\tLoss 4.9276 (5.5162)\tTop-5 Accuracy 53.816 (44.561)\n",
            "Epoch train time 290.046 (epoch_time.avg:.3f)\n",
            "-------------------- Validation --------------------\n",
            "Validation: [0/20]\tBatch Time 5.779 (5.779)\tLoss 5.4145 (5.4145)\tTop-5 Accuracy 49.337 (49.337)\t\n",
            "----- Bleu-n Scores -----\n",
            "1: 58.0121116989451\n",
            "2: 32.0200032972207\n",
            "3: 14.738920682083856\n",
            "4: 6.612428994577319\n",
            "-------------------------\n",
            "\n",
            " * LOSS - 5.379, TOP-5 ACCURACY - 50.760, BLEU-4 - 6.612428994577319\n",
            "\n",
            "Epoch validation time 53.770 (epoch_time.avg:.3f)\n",
            "__________________________________________________\n",
            "-------------------- Training --------------------\n",
            "Epoch: [1][0/118]\tBatch Time 5.989 (5.989)\tData Load Time 3.340 (3.340)\tLoss 4.8646 (4.8646)\tTop-5 Accuracy 52.797 (52.797)\n",
            "Epoch: [1][100/118]\tBatch Time 2.455 (2.520)\tData Load Time 0.001 (0.038)\tLoss 4.4672 (4.6069)\tTop-5 Accuracy 59.199 (56.922)\n",
            "Epoch train time 294.844 (epoch_time.avg:.3f)\n",
            "-------------------- Validation --------------------\n",
            "Validation: [0/20]\tBatch Time 6.013 (6.013)\tLoss 5.1668 (5.1668)\tTop-5 Accuracy 54.974 (54.974)\t\n",
            "----- Bleu-n Scores -----\n",
            "1: 63.55147967634364\n",
            "2: 38.30871039989797\n",
            "3: 21.623131233803488\n",
            "4: 12.506148103765117\n",
            "-------------------------\n",
            "\n",
            " * LOSS - 5.153, TOP-5 ACCURACY - 54.444, BLEU-4 - 12.506148103765117\n",
            "\n",
            "Epoch validation time 52.973 (epoch_time.avg:.3f)\n",
            "__________________________________________________\n",
            "-------------------- Training --------------------\n",
            "Epoch: [2][0/118]\tBatch Time 5.970 (5.970)\tData Load Time 3.384 (3.384)\tLoss 4.5152 (4.5152)\tTop-5 Accuracy 57.818 (57.818)\n",
            "Epoch: [2][100/118]\tBatch Time 2.483 (2.522)\tData Load Time 0.007 (0.038)\tLoss 4.1846 (4.3327)\tTop-5 Accuracy 62.422 (60.445)\n",
            "Epoch train time 294.952 (epoch_time.avg:.3f)\n",
            "-------------------- Validation --------------------\n",
            "Validation: [0/20]\tBatch Time 5.861 (5.861)\tLoss 5.0980 (5.0980)\tTop-5 Accuracy 56.972 (56.972)\t\n",
            "----- Bleu-n Scores -----\n",
            "1: 64.17689391109623\n",
            "2: 39.74508229016151\n",
            "3: 22.714671537548035\n",
            "4: 13.097422816236136\n",
            "-------------------------\n",
            "\n",
            " * LOSS - 5.145, TOP-5 ACCURACY - 56.520, BLEU-4 - 13.097422816236136\n",
            "\n",
            "Epoch validation time 52.611 (epoch_time.avg:.3f)\n",
            "__________________________________________________\n",
            "-------------------- Training --------------------\n",
            "Epoch: [3][0/118]\tBatch Time 6.167 (6.167)\tData Load Time 3.477 (3.477)\tLoss 4.2299 (4.2299)\tTop-5 Accuracy 62.103 (62.103)\n",
            "Epoch: [3][100/118]\tBatch Time 2.436 (2.525)\tData Load Time 0.011 (0.039)\tLoss 4.1106 (4.1500)\tTop-5 Accuracy 64.008 (62.789)\n",
            "Epoch train time 295.188 (epoch_time.avg:.3f)\n",
            "-------------------- Validation --------------------\n",
            "Validation: [0/20]\tBatch Time 5.964 (5.964)\tLoss 5.1540 (5.1540)\tTop-5 Accuracy 56.705 (56.705)\t\n",
            "----- Bleu-n Scores -----\n",
            "1: 63.48757535117366\n",
            "2: 39.20506305088085\n",
            "3: 22.42937697462463\n",
            "4: 13.129749401768176\n",
            "-------------------------\n",
            "\n",
            " * LOSS - 5.075, TOP-5 ACCURACY - 57.751, BLEU-4 - 13.129749401768176\n",
            "\n",
            "Epoch validation time 52.562 (epoch_time.avg:.3f)\n",
            "Epoch     4: reducing learning rate of group 0 to 4.0000e-05.\n",
            "__________________________________________________\n",
            "-------------------- Training --------------------\n",
            "Epoch: [4][0/118]\tBatch Time 6.101 (6.101)\tData Load Time 3.498 (3.498)\tLoss 4.0564 (4.0564)\tTop-5 Accuracy 64.503 (64.503)\n",
            "Epoch: [4][100/118]\tBatch Time 2.461 (2.520)\tData Load Time 0.007 (0.039)\tLoss 3.9771 (4.0044)\tTop-5 Accuracy 64.952 (64.645)\n",
            "Epoch train time 295.035 (epoch_time.avg:.3f)\n",
            "-------------------- Validation --------------------\n",
            "Validation: [0/20]\tBatch Time 5.987 (5.987)\tLoss 5.0883 (5.0883)\tTop-5 Accuracy 57.641 (57.641)\t\n",
            "----- Bleu-n Scores -----\n",
            "1: 65.93067635497238\n",
            "2: 41.975889290561405\n",
            "3: 24.858348397422336\n",
            "4: 14.750425926775987\n",
            "-------------------------\n",
            "\n",
            " * LOSS - 4.995, TOP-5 ACCURACY - 59.064, BLEU-4 - 14.750425926775987\n",
            "\n",
            "Epoch validation time 51.583 (epoch_time.avg:.3f)\n",
            "__________________________________________________\n",
            "-------------------- Training --------------------\n",
            "Epoch: [5][0/118]\tBatch Time 5.945 (5.945)\tData Load Time 3.273 (3.273)\tLoss 4.0110 (4.0110)\tTop-5 Accuracy 64.849 (64.849)\n",
            "Epoch: [5][100/118]\tBatch Time 2.433 (2.520)\tData Load Time 0.001 (0.037)\tLoss 3.9008 (3.9647)\tTop-5 Accuracy 66.484 (65.225)\n",
            "Epoch train time 294.853 (epoch_time.avg:.3f)\n",
            "-------------------- Validation --------------------\n",
            "Validation: [0/20]\tBatch Time 5.841 (5.841)\tLoss 4.8490 (4.8490)\tTop-5 Accuracy 60.351 (60.351)\t\n",
            "----- Bleu-n Scores -----\n",
            "1: 65.95455275553746\n",
            "2: 41.91068049657136\n",
            "3: 24.677611604980346\n",
            "4: 14.505946604418146\n",
            "-------------------------\n",
            "\n",
            " * LOSS - 4.987, TOP-5 ACCURACY - 59.234, BLEU-4 - 14.505946604418146\n",
            "\n",
            "Epoch validation time 51.615 (epoch_time.avg:.3f)\n",
            "\n",
            "Epochs since last improvement: (1,)\n",
            "__________________________________________________\n",
            "-------------------- Training --------------------\n",
            "Epoch: [6][0/118]\tBatch Time 6.045 (6.045)\tData Load Time 3.348 (3.348)\tLoss 4.0434 (4.0434)\tTop-5 Accuracy 63.856 (63.856)\n",
            "Epoch: [6][100/118]\tBatch Time 2.460 (2.519)\tData Load Time 0.001 (0.038)\tLoss 3.7500 (3.9477)\tTop-5 Accuracy 68.815 (65.577)\n",
            "Epoch train time 294.613 (epoch_time.avg:.3f)\n",
            "-------------------- Validation --------------------\n",
            "Validation: [0/20]\tBatch Time 6.011 (6.011)\tLoss 5.2728 (5.2728)\tTop-5 Accuracy 56.695 (56.695)\t\n",
            "----- Bleu-n Scores -----\n",
            "1: 66.13726910348822\n",
            "2: 42.183332482922005\n",
            "3: 25.11161227650262\n",
            "4: 14.979933020825232\n",
            "-------------------------\n",
            "\n",
            " * LOSS - 5.012, TOP-5 ACCURACY - 59.310, BLEU-4 - 14.979933020825232\n",
            "\n",
            "Epoch validation time 51.492 (epoch_time.avg:.3f)\n",
            "Epoch     7: reducing learning rate of group 0 to 4.0000e-06.\n",
            "__________________________________________________\n",
            "-------------------- Training --------------------\n",
            "Epoch: [7][0/118]\tBatch Time 6.150 (6.150)\tData Load Time 3.489 (3.489)\tLoss 3.9222 (3.9222)\tTop-5 Accuracy 66.612 (66.612)\n",
            "Epoch: [7][100/118]\tBatch Time 2.465 (2.526)\tData Load Time 0.001 (0.039)\tLoss 4.0050 (3.9343)\tTop-5 Accuracy 64.662 (65.672)\n",
            "Epoch train time 295.477 (epoch_time.avg:.3f)\n",
            "-------------------- Validation --------------------\n",
            "Validation: [0/20]\tBatch Time 5.684 (5.684)\tLoss 5.1168 (5.1168)\tTop-5 Accuracy 58.849 (58.849)\t\n",
            "----- Bleu-n Scores -----\n",
            "1: 66.10967535484869\n",
            "2: 42.224616631699455\n",
            "3: 25.17156706007538\n",
            "4: 15.043882953139809\n",
            "-------------------------\n",
            "\n",
            " * LOSS - 5.004, TOP-5 ACCURACY - 59.320, BLEU-4 - 15.043882953139809\n",
            "\n",
            "Epoch validation time 53.021 (epoch_time.avg:.3f)\n",
            "__________________________________________________\n",
            "-------------------- Training --------------------\n",
            "Epoch: [8][0/118]\tBatch Time 6.013 (6.013)\tData Load Time 3.245 (3.245)\tLoss 3.8812 (3.8812)\tTop-5 Accuracy 66.490 (66.490)\n",
            "Epoch: [8][100/118]\tBatch Time 2.532 (2.553)\tData Load Time 0.001 (0.036)\tLoss 3.8473 (3.9304)\tTop-5 Accuracy 67.288 (65.735)\n",
            "Epoch train time 298.567 (epoch_time.avg:.3f)\n",
            "-------------------- Validation --------------------\n",
            "Validation: [0/20]\tBatch Time 5.979 (5.979)\tLoss 4.9367 (4.9367)\tTop-5 Accuracy 60.057 (60.057)\t\n",
            "----- Bleu-n Scores -----\n",
            "1: 66.06415919562568\n",
            "2: 42.1939620995646\n",
            "3: 25.156107074940447\n",
            "4: 15.067572804886414\n",
            "-------------------------\n",
            "\n",
            " * LOSS - 5.002, TOP-5 ACCURACY - 59.293, BLEU-4 - 15.067572804886414\n",
            "\n",
            "Epoch validation time 52.316 (epoch_time.avg:.3f)\n",
            "__________________________________________________\n",
            "-------------------- Training --------------------\n",
            "Epoch: [9][0/118]\tBatch Time 6.076 (6.076)\tData Load Time 3.371 (3.371)\tLoss 3.9014 (3.9014)\tTop-5 Accuracy 66.490 (66.490)\n",
            "Epoch: [9][100/118]\tBatch Time 2.447 (2.530)\tData Load Time 0.001 (0.038)\tLoss 3.8856 (3.9284)\tTop-5 Accuracy 66.512 (65.767)\n",
            "Epoch train time 295.539 (epoch_time.avg:.3f)\n",
            "-------------------- Validation --------------------\n",
            "Validation: [0/20]\tBatch Time 5.805 (5.805)\tLoss 4.7068 (4.7068)\tTop-5 Accuracy 62.124 (62.124)\t\n",
            "----- Bleu-n Scores -----\n",
            "1: 66.14123503349616\n",
            "2: 42.31870562042484\n",
            "3: 25.27402509898438\n",
            "4: 15.15691727582713\n",
            "-------------------------\n",
            "\n",
            " * LOSS - 5.003, TOP-5 ACCURACY - 59.335, BLEU-4 - 15.15691727582713\n",
            "\n",
            "Epoch validation time 52.204 (epoch_time.avg:.3f)\n",
            "Epoch    10: reducing learning rate of group 0 to 4.0000e-07.\n",
            "__________________________________________________\n",
            "-------------------- Training --------------------\n",
            "Epoch: [10][0/118]\tBatch Time 6.145 (6.145)\tData Load Time 3.413 (3.413)\tLoss 3.8840 (3.8840)\tTop-5 Accuracy 66.677 (66.677)\n",
            "Epoch: [10][100/118]\tBatch Time 2.537 (2.555)\tData Load Time 0.008 (0.039)\tLoss 4.0104 (3.9294)\tTop-5 Accuracy 65.349 (65.777)\n",
            "Epoch train time 298.782 (epoch_time.avg:.3f)\n",
            "-------------------- Validation --------------------\n",
            "Validation: [0/20]\tBatch Time 5.647 (5.647)\tLoss 4.9998 (4.9998)\tTop-5 Accuracy 57.719 (57.719)\t\n",
            "----- Bleu-n Scores -----\n",
            "1: 66.1039651188093\n",
            "2: 42.21160437969674\n",
            "3: 25.130269416171743\n",
            "4: 14.999988684710337\n",
            "-------------------------\n",
            "\n",
            " * LOSS - 5.006, TOP-5 ACCURACY - 59.375, BLEU-4 - 14.999988684710337\n",
            "\n",
            "Epoch validation time 51.549 (epoch_time.avg:.3f)\n",
            "\n",
            "Epochs since last improvement: (1,)\n",
            "__________________________________________________\n",
            "-------------------- Training --------------------\n",
            "Epoch: [11][0/118]\tBatch Time 6.045 (6.045)\tData Load Time 3.375 (3.375)\tLoss 3.9864 (3.9864)\tTop-5 Accuracy 65.043 (65.043)\n",
            "Epoch: [11][100/118]\tBatch Time 2.510 (2.522)\tData Load Time 0.009 (0.038)\tLoss 3.8903 (3.9262)\tTop-5 Accuracy 65.904 (65.733)\n",
            "Epoch train time 295.085 (epoch_time.avg:.3f)\n",
            "-------------------- Validation --------------------\n",
            "Validation: [0/20]\tBatch Time 5.738 (5.738)\tLoss 4.9445 (4.9445)\tTop-5 Accuracy 59.355 (59.355)\t\n",
            "----- Bleu-n Scores -----\n",
            "1: 66.12835123818782\n",
            "2: 42.2781122845223\n",
            "3: 25.212219473615242\n",
            "4: 15.102058438047216\n",
            "-------------------------\n",
            "\n",
            " * LOSS - 5.003, TOP-5 ACCURACY - 59.371, BLEU-4 - 15.102058438047216\n",
            "\n",
            "Epoch validation time 51.559 (epoch_time.avg:.3f)\n",
            "\n",
            "Epochs since last improvement: (2,)\n",
            "__________________________________________________\n",
            "-------------------- Training --------------------\n",
            "Epoch: [12][0/118]\tBatch Time 5.948 (5.948)\tData Load Time 3.330 (3.330)\tLoss 3.9183 (3.9183)\tTop-5 Accuracy 64.947 (64.947)\n",
            "Epoch: [12][100/118]\tBatch Time 2.482 (2.523)\tData Load Time 0.007 (0.037)\tLoss 3.8771 (3.9259)\tTop-5 Accuracy 66.656 (65.801)\n",
            "Epoch train time 294.981 (epoch_time.avg:.3f)\n",
            "-------------------- Validation --------------------\n",
            "Validation: [0/20]\tBatch Time 5.918 (5.918)\tLoss 4.9171 (4.9171)\tTop-5 Accuracy 60.107 (60.107)\t\n",
            "----- Bleu-n Scores -----\n",
            "1: 66.14105364996551\n",
            "2: 42.22742876750182\n",
            "3: 25.101941907339054\n",
            "4: 14.968601698472522\n",
            "-------------------------\n",
            "\n",
            " * LOSS - 5.004, TOP-5 ACCURACY - 59.375, BLEU-4 - 14.968601698472522\n",
            "\n",
            "Epoch validation time 51.388 (epoch_time.avg:.3f)\n",
            "\n",
            "Epochs since last improvement: (3,)\n",
            "Epoch    13: reducing learning rate of group 0 to 4.0000e-08.\n",
            "__________________________________________________\n",
            "-------------------- Training --------------------\n",
            "Epoch: [13][0/118]\tBatch Time 6.068 (6.068)\tData Load Time 3.311 (3.311)\tLoss 3.8656 (3.8656)\tTop-5 Accuracy 66.380 (66.380)\n",
            "Epoch: [13][100/118]\tBatch Time 2.512 (2.521)\tData Load Time 0.001 (0.037)\tLoss 3.9375 (3.9267)\tTop-5 Accuracy 66.777 (65.775)\n",
            "Epoch train time 294.976 (epoch_time.avg:.3f)\n",
            "-------------------- Validation --------------------\n",
            "Validation: [0/20]\tBatch Time 5.747 (5.747)\tLoss 5.1673 (5.1673)\tTop-5 Accuracy 59.390 (59.390)\t\n",
            "----- Bleu-n Scores -----\n",
            "1: 66.074730206847\n",
            "2: 42.20202010477625\n",
            "3: 25.133326171656257\n",
            "4: 15.052978573717626\n",
            "-------------------------\n",
            "\n",
            " * LOSS - 5.003, TOP-5 ACCURACY - 59.354, BLEU-4 - 15.052978573717626\n",
            "\n",
            "Epoch validation time 51.415 (epoch_time.avg:.3f)\n",
            "\n",
            "Epochs since last improvement: (4,)\n",
            "__________________________________________________\n",
            "-------------------- Training --------------------\n",
            "Epoch: [14][0/118]\tBatch Time 6.032 (6.032)\tData Load Time 3.302 (3.302)\tLoss 3.9370 (3.9370)\tTop-5 Accuracy 65.324 (65.324)\n",
            "Epoch: [14][100/118]\tBatch Time 2.495 (2.525)\tData Load Time 0.002 (0.037)\tLoss 3.8958 (3.9270)\tTop-5 Accuracy 66.461 (65.900)\n",
            "Epoch train time 295.240 (epoch_time.avg:.3f)\n",
            "-------------------- Validation --------------------\n",
            "Validation: [0/20]\tBatch Time 5.810 (5.810)\tLoss 5.0515 (5.0515)\tTop-5 Accuracy 59.252 (59.252)\t\n",
            "----- Bleu-n Scores -----\n",
            "1: 66.142591797509\n",
            "2: 42.281820974819006\n",
            "3: 25.156500098324656\n",
            "4: 15.021268005441188\n",
            "-------------------------\n",
            "\n",
            " * LOSS - 5.006, TOP-5 ACCURACY - 59.310, BLEU-4 - 15.021268005441188\n",
            "\n",
            "Epoch validation time 52.277 (epoch_time.avg:.3f)\n",
            "\n",
            "Epochs since last improvement: (5,)\n",
            "No improvement for 5 consecutive epochs, terminating...\n"
          ],
          "name": "stdout"
        }
      ]
    },
    {
      "cell_type": "code",
      "metadata": {
        "colab": {
          "base_uri": "https://localhost:8080/"
        },
        "id": "zdnuK-b4pPd1",
        "outputId": "5c67fc2d-94e6-48c5-b43e-4b1ca5d1cf91"
      },
      "source": [
        "batch_size = 64\n",
        "fine_tune_encoder = True\n",
        "checkpoint = '/content/BEST_checkpoint_flickr8k_tb.pth.tar'\n",
        "epochs = 30\n",
        "\n",
        "t_params['batch_size'] = batch_size\n",
        "t_params['data_name'] = t_params['data_name'] + \"_finetune\" \n",
        "t_params['fine_tune_encoder'] = True\n",
        "t_params['epochs'] = epochs\n",
        "t_params"
      ],
      "execution_count": 21,
      "outputs": [
        {
          "output_type": "execute_result",
          "data": {
            "text/plain": [
              "{'batch_size': 64,\n",
              " 'data_name': 'flickr8k_tb_finetune',\n",
              " 'decoder_lr': 0.0004,\n",
              " 'df_path': 'Image-Captioning/data.json',\n",
              " 'encoder_lr': 0.0001,\n",
              " 'epochs': 30,\n",
              " 'fine_tune_encoder': True,\n",
              " 'imgs_path': 'flickr8k/images/',\n",
              " 'pretrained_embeddings': False,\n",
              " 'vocab': <dataset.Vocabulary at 0x7f3b3bba8490>,\n",
              " 'workers': 2}"
            ]
          },
          "metadata": {
            "tags": []
          },
          "execution_count": 21
        }
      ]
    },
    {
      "cell_type": "code",
      "metadata": {
        "colab": {
          "base_uri": "https://localhost:8080/"
        },
        "id": "ptOGGuc8pWY1",
        "outputId": "4541952d-190f-474d-ce46-21e4c0e25177"
      },
      "source": [
        "fit(t_params, checkpoint=checkpoint, m_params=m_params, logger=logger)"
      ],
      "execution_count": null,
      "outputs": [
        {
          "output_type": "stream",
          "text": [
            "Loaded Checkpoint!!\n",
            "Starting Epoch: 10\n",
            "Loading Data\n",
            "Dataset split: train\n",
            "Unique images: 6000\n",
            "Total size: 30000\n",
            "Dataset split: val\n",
            "Unique images: 1000\n",
            "Total size: 5000\n",
            "__________________________________________________\n",
            "-------------------- Fitting --------------------\n",
            "__________________________________________________\n",
            "-------------------- Training --------------------\n",
            "Epoch: [10][0/469]\tBatch Time 4.587 (4.587)\tData Load Time 0.882 (0.882)\tLoss 3.7892 (3.7892)\tTop-5 Accuracy 68.785 (68.785)\n",
            "Epoch: [10][100/469]\tBatch Time 1.476 (1.386)\tData Load Time 0.002 (0.010)\tLoss 4.0912 (4.0430)\tTop-5 Accuracy 63.774 (64.056)\n",
            "Epoch: [10][200/469]\tBatch Time 1.338 (1.370)\tData Load Time 0.001 (0.006)\tLoss 3.7205 (3.9978)\tTop-5 Accuracy 70.263 (64.732)\n",
            "Epoch: [10][300/469]\tBatch Time 1.336 (1.366)\tData Load Time 0.000 (0.004)\tLoss 3.9416 (3.9762)\tTop-5 Accuracy 67.085 (65.154)\n",
            "Epoch: [10][400/469]\tBatch Time 1.295 (1.363)\tData Load Time 0.001 (0.003)\tLoss 3.8530 (3.9615)\tTop-5 Accuracy 68.275 (65.379)\n",
            "Epoch train time 638.852 (epoch_time.avg:.3f)\n",
            "-------------------- Validation --------------------\n",
            "Validation: [0/79]\tBatch Time 1.584 (1.584)\tLoss 5.1598 (5.1598)\tTop-5 Accuracy 59.122 (59.122)\t\n",
            "----- Bleu-n Scores -----\n",
            "1: 66.4844990572573\n",
            "2: 42.47915711726169\n",
            "3: 25.327676485000993\n",
            "4: 15.15579373862271\n",
            "-------------------------\n",
            "\n",
            " * LOSS - 4.995, TOP-5 ACCURACY - 59.746, BLEU-4 - 15.15579373862271\n",
            "\n",
            "Epoch validation time 50.072 (epoch_time.avg:.3f)\n",
            "\n",
            "Epochs since last improvement: (1,)\n",
            "__________________________________________________\n",
            "-------------------- Training --------------------\n",
            "Epoch: [11][0/469]\tBatch Time 2.436 (2.436)\tData Load Time 1.023 (1.023)\tLoss 3.7093 (3.7093)\tTop-5 Accuracy 70.325 (70.325)\n",
            "Epoch: [11][100/469]\tBatch Time 1.378 (1.366)\tData Load Time 0.001 (0.011)\tLoss 3.9748 (3.8297)\tTop-5 Accuracy 63.937 (67.332)\n",
            "Epoch: [11][200/469]\tBatch Time 1.352 (1.358)\tData Load Time 0.001 (0.006)\tLoss 3.8925 (3.8395)\tTop-5 Accuracy 65.548 (67.299)\n",
            "Epoch: [11][300/469]\tBatch Time 1.341 (1.358)\tData Load Time 0.003 (0.005)\tLoss 3.7547 (3.8477)\tTop-5 Accuracy 68.435 (67.234)\n",
            "Epoch: [11][400/469]\tBatch Time 1.313 (1.357)\tData Load Time 0.003 (0.004)\tLoss 3.8252 (3.8466)\tTop-5 Accuracy 68.713 (67.286)\n",
            "Epoch train time 635.764 (epoch_time.avg:.3f)\n",
            "-------------------- Validation --------------------\n",
            "Validation: [0/79]\tBatch Time 1.503 (1.503)\tLoss 4.7629 (4.7629)\tTop-5 Accuracy 63.287 (63.287)\t\n",
            "----- Bleu-n Scores -----\n",
            "1: 66.28202541202292\n",
            "2: 42.46895376145556\n",
            "3: 25.30042749676737\n",
            "4: 15.180380472914987\n",
            "-------------------------\n",
            "\n",
            " * LOSS - 4.991, TOP-5 ACCURACY - 59.862, BLEU-4 - 15.180380472914987\n",
            "\n",
            "Epoch validation time 49.747 (epoch_time.avg:.3f)\n",
            "__________________________________________________\n",
            "-------------------- Training --------------------\n",
            "Epoch: [12][0/469]\tBatch Time 2.401 (2.401)\tData Load Time 0.995 (0.995)\tLoss 3.8024 (3.8024)\tTop-5 Accuracy 67.755 (67.755)\n",
            "Epoch: [12][100/469]\tBatch Time 1.449 (1.376)\tData Load Time 0.001 (0.011)\tLoss 3.9196 (3.7597)\tTop-5 Accuracy 66.138 (68.627)\n",
            "Epoch: [12][200/469]\tBatch Time 1.375 (1.371)\tData Load Time 0.004 (0.006)\tLoss 3.6964 (3.7793)\tTop-5 Accuracy 68.833 (68.368)\n",
            "Epoch: [12][300/469]\tBatch Time 1.359 (1.368)\tData Load Time 0.001 (0.004)\tLoss 3.6653 (3.7883)\tTop-5 Accuracy 69.531 (68.192)\n",
            "Epoch: [12][400/469]\tBatch Time 1.341 (1.366)\tData Load Time 0.001 (0.004)\tLoss 3.8615 (3.7906)\tTop-5 Accuracy 68.579 (68.152)\n",
            "Epoch train time 640.156 (epoch_time.avg:.3f)\n",
            "-------------------- Validation --------------------\n",
            "Validation: [0/79]\tBatch Time 1.551 (1.551)\tLoss 4.9530 (4.9530)\tTop-5 Accuracy 62.662 (62.662)\t\n",
            "----- Bleu-n Scores -----\n",
            "1: 66.29767698772632\n",
            "2: 42.5268608139975\n",
            "3: 25.486172754543784\n",
            "4: 15.23536576877966\n",
            "-------------------------\n",
            "\n",
            " * LOSS - 5.003, TOP-5 ACCURACY - 59.843, BLEU-4 - 15.23536576877966\n",
            "\n",
            "Epoch validation time 49.713 (epoch_time.avg:.3f)\n",
            "__________________________________________________\n",
            "-------------------- Training --------------------\n",
            "Epoch: [13][0/469]\tBatch Time 2.449 (2.449)\tData Load Time 1.013 (1.013)\tLoss 3.6358 (3.6358)\tTop-5 Accuracy 69.852 (69.852)\n",
            "Epoch: [13][100/469]\tBatch Time 1.319 (1.378)\tData Load Time 0.003 (0.011)\tLoss 3.4303 (3.7364)\tTop-5 Accuracy 74.571 (69.089)\n",
            "Epoch: [13][200/469]\tBatch Time 1.351 (1.372)\tData Load Time 0.001 (0.006)\tLoss 3.9369 (3.7407)\tTop-5 Accuracy 64.698 (69.008)\n",
            "Epoch: [13][300/469]\tBatch Time 1.396 (1.370)\tData Load Time 0.001 (0.005)\tLoss 3.7432 (3.7386)\tTop-5 Accuracy 68.408 (69.075)\n",
            "Epoch: [13][400/469]\tBatch Time 1.348 (1.369)\tData Load Time 0.000 (0.004)\tLoss 3.9491 (3.7439)\tTop-5 Accuracy 66.253 (68.994)\n",
            "Epoch train time 641.598 (epoch_time.avg:.3f)\n",
            "-------------------- Validation --------------------\n",
            "Validation: [0/79]\tBatch Time 1.550 (1.550)\tLoss 5.2208 (5.2208)\tTop-5 Accuracy 58.862 (58.862)\t\n",
            "----- Bleu-n Scores -----\n",
            "1: 66.3175149991845\n",
            "2: 42.51172795587755\n",
            "3: 25.40598060336724\n",
            "4: 15.086062003796025\n",
            "-------------------------\n",
            "\n",
            " * LOSS - 4.992, TOP-5 ACCURACY - 60.189, BLEU-4 - 15.086062003796025\n",
            "\n",
            "Epoch validation time 49.911 (epoch_time.avg:.3f)\n",
            "\n",
            "Epochs since last improvement: (1,)\n",
            "__________________________________________________\n",
            "-------------------- Training --------------------\n",
            "Epoch: [14][0/469]\tBatch Time 2.561 (2.561)\tData Load Time 1.115 (1.115)\tLoss 3.6989 (3.6989)\tTop-5 Accuracy 69.737 (69.737)\n",
            "Epoch: [14][100/469]\tBatch Time 1.319 (1.372)\tData Load Time 0.001 (0.012)\tLoss 3.7138 (3.6896)\tTop-5 Accuracy 69.364 (69.714)\n",
            "Epoch: [14][200/469]\tBatch Time 1.311 (1.360)\tData Load Time 0.001 (0.007)\tLoss 3.7211 (3.6867)\tTop-5 Accuracy 67.710 (69.792)\n",
            "Epoch: [14][300/469]\tBatch Time 1.345 (1.358)\tData Load Time 0.001 (0.005)\tLoss 3.9236 (3.6927)\tTop-5 Accuracy 65.049 (69.791)\n",
            "Epoch: [14][400/469]\tBatch Time 1.368 (1.357)\tData Load Time 0.001 (0.004)\tLoss 3.7289 (3.6994)\tTop-5 Accuracy 68.344 (69.673)\n",
            "Epoch train time 635.783 (epoch_time.avg:.3f)\n",
            "-------------------- Validation --------------------\n",
            "Validation: [0/79]\tBatch Time 1.538 (1.538)\tLoss 5.1740 (5.1740)\tTop-5 Accuracy 57.477 (57.477)\t\n",
            "----- Bleu-n Scores -----\n",
            "1: 66.59908866705983\n",
            "2: 43.01706924314951\n",
            "3: 25.956842763554782\n",
            "4: 15.745215101387789\n",
            "-------------------------\n",
            "\n",
            " * LOSS - 4.997, TOP-5 ACCURACY - 59.853, BLEU-4 - 15.745215101387789\n",
            "\n",
            "Epoch validation time 49.906 (epoch_time.avg:.3f)\n",
            "__________________________________________________\n",
            "-------------------- Training --------------------\n",
            "Epoch: [15][0/469]\tBatch Time 2.387 (2.387)\tData Load Time 0.952 (0.952)\tLoss 3.7080 (3.7080)\tTop-5 Accuracy 68.635 (68.635)\n",
            "Epoch: [15][100/469]\tBatch Time 1.402 (1.379)\tData Load Time 0.001 (0.011)\tLoss 3.8218 (3.6536)\tTop-5 Accuracy 68.593 (70.344)\n",
            "Epoch: [15][200/469]\tBatch Time 1.357 (1.369)\tData Load Time 0.001 (0.006)\tLoss 3.7294 (3.6608)\tTop-5 Accuracy 69.767 (70.205)\n",
            "Epoch: [15][300/469]\tBatch Time 1.360 (1.368)\tData Load Time 0.001 (0.004)\tLoss 3.6560 (3.6660)\tTop-5 Accuracy 70.337 (70.120)\n",
            "Epoch: [15][400/469]\tBatch Time 1.348 (1.368)\tData Load Time 0.007 (0.004)\tLoss 3.4954 (3.6710)\tTop-5 Accuracy 73.016 (70.061)\n",
            "Epoch train time 640.927 (epoch_time.avg:.3f)\n",
            "-------------------- Validation --------------------\n",
            "Validation: [0/79]\tBatch Time 1.486 (1.486)\tLoss 4.9661 (4.9661)\tTop-5 Accuracy 59.418 (59.418)\t\n",
            "----- Bleu-n Scores -----\n",
            "1: 66.54121176507263\n",
            "2: 42.7153123495021\n",
            "3: 25.610685654497495\n",
            "4: 15.47192386147933\n",
            "-------------------------\n",
            "\n",
            " * LOSS - 4.996, TOP-5 ACCURACY - 59.889, BLEU-4 - 15.47192386147933\n",
            "\n",
            "Epoch validation time 49.850 (epoch_time.avg:.3f)\n",
            "\n",
            "Epochs since last improvement: (1,)\n",
            "__________________________________________________\n",
            "-------------------- Training --------------------\n",
            "Epoch: [16][0/469]\tBatch Time 2.416 (2.416)\tData Load Time 1.008 (1.008)\tLoss 3.8823 (3.8823)\tTop-5 Accuracy 65.789 (65.789)\n",
            "Epoch: [16][100/469]\tBatch Time 1.390 (1.365)\tData Load Time 0.001 (0.011)\tLoss 3.6435 (3.6224)\tTop-5 Accuracy 72.312 (70.851)\n",
            "Epoch: [16][200/469]\tBatch Time 1.347 (1.357)\tData Load Time 0.001 (0.006)\tLoss 3.4741 (3.6303)\tTop-5 Accuracy 73.238 (70.694)\n",
            "Epoch: [16][300/469]\tBatch Time 1.353 (1.356)\tData Load Time 0.001 (0.005)\tLoss 3.6274 (3.6326)\tTop-5 Accuracy 71.063 (70.686)\n",
            "Epoch: [16][400/469]\tBatch Time 1.344 (1.355)\tData Load Time 0.001 (0.004)\tLoss 3.8610 (3.6407)\tTop-5 Accuracy 69.129 (70.557)\n",
            "Epoch train time 635.160 (epoch_time.avg:.3f)\n",
            "-------------------- Validation --------------------\n",
            "Validation: [0/79]\tBatch Time 1.589 (1.589)\tLoss 4.8271 (4.8271)\tTop-5 Accuracy 59.434 (59.434)\t\n",
            "----- Bleu-n Scores -----\n",
            "1: 66.4604417079738\n",
            "2: 43.062912752306644\n",
            "3: 26.068755610258027\n",
            "4: 15.675546814497848\n",
            "-------------------------\n",
            "\n",
            " * LOSS - 4.983, TOP-5 ACCURACY - 60.010, BLEU-4 - 15.675546814497848\n",
            "\n",
            "Epoch validation time 50.032 (epoch_time.avg:.3f)\n",
            "\n",
            "Epochs since last improvement: (2,)\n",
            "Epoch     7: reducing learning rate of group 0 to 4.0000e-08.\n",
            "Epoch     7: reducing learning rate of group 0 to 1.0000e-05.\n",
            "__________________________________________________\n",
            "-------------------- Training --------------------\n",
            "Epoch: [17][0/469]\tBatch Time 2.359 (2.359)\tData Load Time 0.928 (0.928)\tLoss 3.4736 (3.4736)\tTop-5 Accuracy 72.236 (72.236)\n",
            "Epoch: [17][100/469]\tBatch Time 1.359 (1.362)\tData Load Time 0.001 (0.010)\tLoss 3.7624 (3.5671)\tTop-5 Accuracy 69.880 (71.776)\n",
            "Epoch: [17][200/469]\tBatch Time 1.412 (1.358)\tData Load Time 0.001 (0.006)\tLoss 3.4947 (3.5714)\tTop-5 Accuracy 72.559 (71.727)\n",
            "Epoch: [17][300/469]\tBatch Time 1.337 (1.355)\tData Load Time 0.001 (0.004)\tLoss 3.5737 (3.5624)\tTop-5 Accuracy 70.565 (71.838)\n",
            "Epoch: [17][400/469]\tBatch Time 1.361 (1.355)\tData Load Time 0.001 (0.003)\tLoss 3.5643 (3.5562)\tTop-5 Accuracy 73.333 (71.887)\n",
            "Epoch train time 634.955 (epoch_time.avg:.3f)\n",
            "-------------------- Validation --------------------\n",
            "Validation: [0/79]\tBatch Time 1.516 (1.516)\tLoss 5.1622 (5.1622)\tTop-5 Accuracy 57.781 (57.781)\t\n",
            "----- Bleu-n Scores -----\n",
            "1: 66.95718812171478\n",
            "2: 43.3363025300195\n",
            "3: 26.302610703801264\n",
            "4: 16.012740334937146\n",
            "-------------------------\n",
            "\n",
            " * LOSS - 4.987, TOP-5 ACCURACY - 60.174, BLEU-4 - 16.012740334937146\n",
            "\n",
            "Epoch validation time 49.954 (epoch_time.avg:.3f)\n",
            "__________________________________________________\n",
            "-------------------- Training --------------------\n",
            "Epoch: [18][0/469]\tBatch Time 2.380 (2.380)\tData Load Time 0.964 (0.964)\tLoss 3.4533 (3.4533)\tTop-5 Accuracy 72.237 (72.237)\n",
            "Epoch: [18][100/469]\tBatch Time 1.352 (1.358)\tData Load Time 0.001 (0.011)\tLoss 3.4389 (3.5245)\tTop-5 Accuracy 73.548 (72.443)\n",
            "Epoch: [18][200/469]\tBatch Time 1.372 (1.356)\tData Load Time 0.003 (0.006)\tLoss 3.6327 (3.5392)\tTop-5 Accuracy 70.556 (72.163)\n",
            "Epoch: [18][300/469]\tBatch Time 1.359 (1.355)\tData Load Time 0.001 (0.004)\tLoss 3.6856 (3.5365)\tTop-5 Accuracy 69.509 (72.172)\n"
          ],
          "name": "stdout"
        }
      ]
    },
    {
      "cell_type": "code",
      "metadata": {
        "id": "hICzcEKzj0eX"
      },
      "source": [
        "!cp /content/BEST_checkpoint_flickr8k_tb_finetune.pth.tar /content/drive/MyDrive/ImageCaptioning/flickr8\n",
        "!cp /content/experiments /content/drive/MyDrive/ImageCaptioning/flickr8"
      ],
      "execution_count": null,
      "outputs": []
    },
    {
      "cell_type": "code",
      "metadata": {
        "id": "aTu_KugmkN0l"
      },
      "source": [
        ""
      ],
      "execution_count": null,
      "outputs": []
    }
  ]
}