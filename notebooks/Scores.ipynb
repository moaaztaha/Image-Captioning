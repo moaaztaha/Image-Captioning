{
 "cells": [
  {
   "cell_type": "code",
   "execution_count": 1,
   "id": "ad4502eb",
   "metadata": {},
   "outputs": [],
   "source": [
    "%reload_ext autoreload\n",
    "%autoreload 2\n",
    "%matplotlib inline"
   ]
  },
  {
   "cell_type": "code",
   "execution_count": 2,
   "id": "1d68be61",
   "metadata": {},
   "outputs": [],
   "source": [
    "import torch\n",
    "import torch.nn.functional as F\n",
    "import torchvision.transforms as transforms\n",
    "from utils import load_checkpoint\n",
    "from dataset import build_vocab, get_loaders\n",
    "from tqdm import tqdm\n",
    "\n",
    "from utils import *\n",
    "from dataset import *\n",
    "from train import *"
   ]
  },
  {
   "cell_type": "code",
   "execution_count": 3,
   "id": "1bf2898d",
   "metadata": {},
   "outputs": [],
   "source": [
    "# paths\n",
    "MODEL_PATH = 'models/BEST_checkpoint_flickr30k_5_cap_per_img_2_min_word_freq_resnet101_prefinetune.pth.tar'\n",
    "DATA_PATH = 'data30.json'\n",
    "IMGS_PATH = '/run/media/kelwa/DEV/data/flickr30k/Images/'"
   ]
  },
  {
   "cell_type": "code",
   "execution_count": 4,
   "id": "566e5b74",
   "metadata": {},
   "outputs": [
    {
     "name": "stderr",
     "output_type": "stream",
     "text": [
      "100%|██████████| 155070/155070 [00:00<00:00, 263748.31it/s]\n"
     ]
    },
    {
     "name": "stdout",
     "output_type": "stream",
     "text": [
      "Loaded Checkpoint!!\n",
      "Last Epoch: 7\n",
      "Best Bleu-4: 0.16813591633971395\n"
     ]
    }
   ],
   "source": [
    "# transforms\n",
    "transform = transforms.Compose([\n",
    "    transforms.Resize(256),\n",
    "    transforms.CenterCrop(224),\n",
    "    transforms.ToTensor(),\n",
    "    transforms.Normalize(mean=[0.485, 0.456, 0.406], std=[0.229, 0.224, 0.225]),\n",
    "])\n",
    "\n",
    "# vocab\n",
    "vocab = build_vocab(DATA_PATH)\n",
    "# checkpoint\n",
    "checkpoint = load_checkpoint(MODEL_PATH)"
   ]
  },
  {
   "cell_type": "code",
   "execution_count": 7,
   "id": "ba7f0160",
   "metadata": {},
   "outputs": [
    {
     "name": "stdout",
     "output_type": "stream",
     "text": [
      "Dataset split: test\n",
      "Unique images: 1000\n",
      "Total size: 5000\n"
     ]
    }
   ],
   "source": [
    "test_loader = get_loaders(256, IMGS_PATH, DATA_PATH, transform, vocab, test=True, n_workers=4)"
   ]
  },
  {
   "cell_type": "code",
   "execution_count": 8,
   "id": "7410884e",
   "metadata": {},
   "outputs": [
    {
     "data": {
      "text/plain": [
       "'cuda'"
      ]
     },
     "execution_count": 8,
     "metadata": {},
     "output_type": "execute_result"
    }
   ],
   "source": [
    "device = 'cuda' if torch.cuda.is_available() else 'cpu'\n",
    "device"
   ]
  },
  {
   "cell_type": "code",
   "execution_count": 9,
   "id": "57429326",
   "metadata": {},
   "outputs": [],
   "source": [
    "encoder = checkpoint['encoder'].to(device)\n",
    "decoder = checkpoint['decoder'].to(device)\n",
    "criterion = nn.CrossEntropyLoss().to(device)"
   ]
  },
  {
   "cell_type": "code",
   "execution_count": 10,
   "id": "7b9fc523",
   "metadata": {},
   "outputs": [
    {
     "name": "stdout",
     "output_type": "stream",
     "text": [
      "Validation: [0/20]\tBatch Time 24.277 (24.277)\tLoss 4.0601 (4.0601)\tTop-5 Accuracy 65.435 (65.435)\t\n",
      "----- Bleu-n Scores -----\n",
      "1: 63.60751361363036\n",
      "2: 40.157385243048395\n",
      "3: 24.72388333611516\n",
      "4: 15.861417407917672\n",
      "-------------------------\n",
      "\n",
      " * LOSS - 3.887, TOP-5 ACCURACY - 68.169, BLEU-4 - 0.15861417407917672\n",
      "\n"
     ]
    },
    {
     "data": {
      "text/plain": [
       "0.15861417407917672"
      ]
     },
     "execution_count": 10,
     "metadata": {},
     "output_type": "execute_result"
    }
   ],
   "source": [
    "validate(test_loader, encoder, decoder, criterion, vocab)"
   ]
  }
 ],
 "metadata": {
  "kernelspec": {
   "display_name": "Python 3",
   "language": "python",
   "name": "python3"
  },
  "language_info": {
   "codemirror_mode": {
    "name": "ipython",
    "version": 3
   },
   "file_extension": ".py",
   "mimetype": "text/x-python",
   "name": "python",
   "nbconvert_exporter": "python",
   "pygments_lexer": "ipython3",
   "version": "3.7.9"
  }
 },
 "nbformat": 4,
 "nbformat_minor": 5
}
