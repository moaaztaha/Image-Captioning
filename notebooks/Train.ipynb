{
 "cells": [
  {
   "cell_type": "code",
   "execution_count": 1,
   "metadata": {},
   "outputs": [
    {
     "name": "stdout",
     "output_type": "stream",
     "text": [
      "fatal: destination path 'Image-Captioning' already exists and is not an empty directory.\r\n"
     ]
    }
   ],
   "source": [
    "# get the code for kaggle\n",
    "!git clone https://github.com/moaaztaha/Image-Captioning\n",
    "py_files_path = '/kaggle/working/Image-Captioning/'\n",
    "import sys\n",
    "sys.path.append(py_files_path)"
   ]
  },
  {
   "cell_type": "code",
   "execution_count": 1,
   "metadata": {},
   "outputs": [],
   "source": [
    "%reload_ext autoreload\n",
    "%autoreload 2\n",
    "%matplotlib inline"
   ]
  },
  {
   "cell_type": "code",
   "execution_count": 2,
   "metadata": {},
   "outputs": [],
   "source": [
    "import time \n",
    "import torch.backends.cudnn as cudnn\n",
    "import torch.optim\n",
    "import torch.utils.data\n",
    "import torchvision.transforms as transforms\n",
    "from torch import nn\n",
    "from torch.nn.utils.rnn import pack_padded_sequence\n",
    "from models import Encoder, DecoderWithAttention\n",
    "from dataset import *\n",
    "from utils import *\n",
    "from train import *\n",
    "from nltk.translate.bleu_score import corpus_bleu"
   ]
  },
  {
   "cell_type": "code",
   "execution_count": 4,
   "metadata": {},
   "outputs": [],
   "source": [
    "# Model parameters\n",
    "encoder_dim = 2048 # resnet101\n",
    "emb_dim = 512  # dimension of word embeddings\n",
    "attention_dim = 512  # dimension of attention linear layers\n",
    "decoder_dim = 512  # dimension of decoder RNN\n",
    "dropout = 0.5\n",
    "device = torch.device(\"cuda\" if torch.cuda.is_available() else \"cpu\")  # sets device for model and PyTorch tensors\n",
    "cudnn.benchmark = True  # set to true only if inputs to model are fixed size; otherwise lot of computational overhead\n",
    "\n",
    "# training parameters\n",
    "epochs = 1  # number of epochs to train for (if early stopping is not triggered)\n",
    "batch_size = 124\n",
    "workers = 4\n",
    "encoder_lr = 1e-4  # learning rate for encoder if fine-tuning\n",
    "decoder_lr = 4e-4  # learning rate for decoder\n",
    "fine_tune_encoder = False  # fine-tune encoder?\n",
    "checkpoint = None  # path to checkpoint, None if none"
   ]
  },
  {
   "cell_type": "code",
   "execution_count": 5,
   "metadata": {},
   "outputs": [],
   "source": [
    "DATA_NAME = 'flickr8k_5_cap_per_img_2_min_word_freq_resnet101'\n",
    "\n",
    "# local\n",
    "DATA_JSON_PATH = 'data.json'\n",
    "IMGS_PATH = 'flickr/Images/'\n",
    "# kaggle paths\n",
    "# DATA_JSON_PATH = '/kaggle/working/Image-Captioning/data.json'\n",
    "# IMGS_PATH = '../input/flickr8kimagescaptions/flickr8k/images/'"
   ]
  },
  {
   "cell_type": "code",
   "execution_count": 6,
   "metadata": {
    "scrolled": true
   },
   "outputs": [
    {
     "name": "stderr",
     "output_type": "stream",
     "text": [
      "100%|██████████| 40000/40000 [00:00<00:00, 386307.43it/s]\n"
     ]
    }
   ],
   "source": [
    "# load vocab\n",
    "vocab = build_vocab(DATA_JSON_PATH)"
   ]
  },
  {
   "cell_type": "code",
   "execution_count": 7,
   "metadata": {},
   "outputs": [
    {
     "data": {
      "text/plain": [
       "5089"
      ]
     },
     "execution_count": 7,
     "metadata": {},
     "output_type": "execute_result"
    }
   ],
   "source": [
    "len(vocab)"
   ]
  },
  {
   "cell_type": "code",
   "execution_count": 9,
   "metadata": {},
   "outputs": [],
   "source": [
    "epochs = 1"
   ]
  },
  {
   "cell_type": "code",
   "execution_count": 10,
   "metadata": {},
   "outputs": [],
   "source": [
    "t_params = {\n",
    "    'data_name': DATA_NAME,\n",
    "    'imgs_path': IMGS_PATH,\n",
    "    'df_path': DATA_JSON_PATH,\n",
    "    'vocab': vocab,\n",
    "    'epochs': epochs,\n",
    "    'batch_size': batch_size,\n",
    "    'workers': workers,\n",
    "    'decoder_lr': decoder_lr,\n",
    "    'encoder_lr': encoder_lr,\n",
    "    'fine_tune_encoder': fine_tune_encoder\n",
    "}\n",
    "\n",
    "m_params = {\n",
    "    'attention_dim': attention_dim,\n",
    "    'embed_dim': emb_dim,\n",
    "    'decoder_dim': decoder_dim,\n",
    "    'encoder_dim': encoder_dim,\n",
    "    'dropout': dropout\n",
    "}"
   ]
  },
  {
   "cell_type": "code",
   "execution_count": 11,
   "metadata": {},
   "outputs": [
    {
     "data": {
      "text/plain": [
       "{'data_name': 'flickr8k_5_cap_per_img_2_min_word_freq_resnet101',\n",
       " 'imgs_path': 'flickr/Images/',\n",
       " 'df_path': 'data.json',\n",
       " 'vocab': <dataset.Vocabulary at 0x7fa6cd494dd0>,\n",
       " 'epochs': 1,\n",
       " 'batch_size': 124,\n",
       " 'workers': 4,\n",
       " 'decoder_lr': 0.0004,\n",
       " 'encoder_lr': 0.0001,\n",
       " 'fine_tune_encoder': False}"
      ]
     },
     "execution_count": 11,
     "metadata": {},
     "output_type": "execute_result"
    }
   ],
   "source": [
    "t_params"
   ]
  },
  {
   "cell_type": "code",
   "execution_count": 12,
   "metadata": {},
   "outputs": [
    {
     "name": "stdout",
     "output_type": "stream",
     "text": [
      "Loading Data\n",
      "Dataset split: train\n",
      "Unique images: 6000\n",
      "Total size: 30000\n",
      "Dataset split: val\n",
      "Unique images: 1000\n",
      "Total size: 5000\n",
      "__________________________________________________\n",
      "-------------------- Fitting --------------------\n",
      "__________________________________________________\n",
      "-------------------- Training --------------------\n",
      "Epoch: [0][0/242]\tBatch Time 12.364 (12.364)\tData Load Time 8.006 (8.006)\tLoss 9.4866 (9.4866)\tTop-5 Accuracy 0.000 (0.000)\n",
      "Epoch: [0][100/242]\tBatch Time 1.823 (1.907)\tData Load Time 0.000 (0.080)\tLoss 4.9737 (5.6106)\tTop-5 Accuracy 52.396 (43.264)\n",
      "Epoch: [0][200/242]\tBatch Time 1.813 (1.851)\tData Load Time 0.000 (0.040)\tLoss 4.7632 (5.2538)\tTop-5 Accuracy 54.283 (48.424)\n",
      "-------------------- Validation --------------------\n",
      "Validation: [0/41]\tBatch Time 7.281 (7.281)\tLoss 5.4750 (5.4750)\tTop-5 Accuracy 51.539 (51.539)\t\n",
      "----- Bleu-n Scores -----\n",
      "1: 55.733232557025005\n",
      "2: 33.00266069909076\n",
      "3: 17.830606478271484\n",
      "4: 9.696190714028482\n",
      "-------------------------\n",
      "\n",
      " * LOSS - 5.657, TOP-5 ACCURACY - 51.163, BLEU-4 - 0.0975971991336903\n",
      "\n"
     ]
    }
   ],
   "source": [
    "fit(t_params=t_params, m_params=m_params)"
   ]
  }
 ],
 "metadata": {
  "kernelspec": {
   "display_name": "Python 3",
   "language": "python",
   "name": "python3"
  },
  "language_info": {
   "codemirror_mode": {
    "name": "ipython",
    "version": 3
   },
   "file_extension": ".py",
   "mimetype": "text/x-python",
   "name": "python",
   "nbconvert_exporter": "python",
   "pygments_lexer": "ipython3",
   "version": "3.7.6"
  }
 },
 "nbformat": 4,
 "nbformat_minor": 4
}
