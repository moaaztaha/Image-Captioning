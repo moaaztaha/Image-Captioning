{
  "nbformat": 4,
  "nbformat_minor": 0,
  "metadata": {
    "colab": {
      "name": "Different Scores.ipynb",
      "provenance": [],
      "collapsed_sections": []
    },
    "kernelspec": {
      "name": "python3",
      "display_name": "Python 3"
    },
    "language_info": {
      "name": "python"
    }
  },
  "cells": [
    {
      "cell_type": "code",
      "metadata": {
        "id": "dmsegyRfALSL",
        "colab": {
          "base_uri": "https://localhost:8080/"
        },
        "outputId": "8d4d0388-f367-4ae0-ba6f-9d549900719f"
      },
      "source": [
        "# get the code form github\n",
        "!git clone https://github.com/moaaztaha/Image-Captioning\n",
        "py_files_path = 'Image-Captioning/'\n",
        "import sys\n",
        "sys.path.append(py_files_path)"
      ],
      "execution_count": 4,
      "outputs": [
        {
          "output_type": "stream",
          "text": [
            "Cloning into 'Image-Captioning'...\n",
            "remote: Enumerating objects: 634, done.\u001b[K\n",
            "remote: Counting objects: 100% (634/634), done.\u001b[K\n",
            "remote: Compressing objects: 100% (310/310), done.\u001b[K\n",
            "remote: Total 634 (delta 383), reused 564 (delta 313), pack-reused 0\u001b[K\n",
            "Receiving objects: 100% (634/634), 39.39 MiB | 20.31 MiB/s, done.\n",
            "Resolving deltas: 100% (383/383), done.\n",
            "Checking out files: 100% (117/117), done.\n"
          ],
          "name": "stdout"
        }
      ]
    },
    {
      "cell_type": "code",
      "metadata": {
        "id": "GZL3GrOhALne"
      },
      "source": [
        "import pandas as pd\n",
        "from tqdm import tqdm"
      ],
      "execution_count": 21,
      "outputs": []
    },
    {
      "cell_type": "code",
      "metadata": {
        "colab": {
          "base_uri": "https://localhost:8080/",
          "height": 204
        },
        "id": "fUvR9Z68AO-U",
        "outputId": "c9ba06f7-5b3f-45cc-b40c-9cdd9e0e4f33"
      },
      "source": [
        "df = pd.read_json(\"/content/Image-Captioning/evaluation_df.json\")\n",
        "df.head()"
      ],
      "execution_count": 6,
      "outputs": [
        {
          "output_type": "execute_result",
          "data": {
            "text/html": [
              "<div>\n",
              "<style scoped>\n",
              "    .dataframe tbody tr th:only-of-type {\n",
              "        vertical-align: middle;\n",
              "    }\n",
              "\n",
              "    .dataframe tbody tr th {\n",
              "        vertical-align: top;\n",
              "    }\n",
              "\n",
              "    .dataframe thead th {\n",
              "        text-align: right;\n",
              "    }\n",
              "</style>\n",
              "<table border=\"1\" class=\"dataframe\">\n",
              "  <thead>\n",
              "    <tr style=\"text-align: right;\">\n",
              "      <th></th>\n",
              "      <th>file_name</th>\n",
              "      <th>references</th>\n",
              "      <th>hypothesis</th>\n",
              "    </tr>\n",
              "  </thead>\n",
              "  <tbody>\n",
              "    <tr>\n",
              "      <th>0</th>\n",
              "      <td>2431470169_0eeba7d602.jpg</td>\n",
              "      <td>[[4, 51, 104, 71, 99, 184, 821, 602, 1328, 468...</td>\n",
              "      <td>[4, 64, 62, 104, 34, 4, 264]</td>\n",
              "    </tr>\n",
              "    <tr>\n",
              "      <th>1</th>\n",
              "      <td>2869491449_1041485a6b.jpg</td>\n",
              "      <td>[[9, 4839, 774, 277, 20, 168, 34, 4, 384], [9,...</td>\n",
              "      <td>[9, 10, 167, 12, 13, 8, 243]</td>\n",
              "    </tr>\n",
              "    <tr>\n",
              "      <th>2</th>\n",
              "      <td>801607443_f15956d1ce.jpg</td>\n",
              "      <td>[[129, 317, 17, 104, 34, 8, 161, 215, 8, 144, ...</td>\n",
              "      <td>[4, 51, 17, 256, 4, 161]</td>\n",
              "    </tr>\n",
              "    <tr>\n",
              "      <th>3</th>\n",
              "      <td>3716244806_97d5a1fb61.jpg</td>\n",
              "      <td>[[4, 113, 104, 34, 320, 121, 55, 8, 69], [8, 2...</td>\n",
              "      <td>[4, 164, 19, 112, 104, 34, 4, 161]</td>\n",
              "    </tr>\n",
              "    <tr>\n",
              "      <th>4</th>\n",
              "      <td>2358898017_24496b80e8.jpg</td>\n",
              "      <td>[[4, 25, 22, 36, 5, 1385, 50, 11, 4, 290, 109]...</td>\n",
              "      <td>[4, 25, 5, 17, 12, 13, 8, 243]</td>\n",
              "    </tr>\n",
              "  </tbody>\n",
              "</table>\n",
              "</div>"
            ],
            "text/plain": [
              "                   file_name  ...                          hypothesis\n",
              "0  2431470169_0eeba7d602.jpg  ...        [4, 64, 62, 104, 34, 4, 264]\n",
              "1  2869491449_1041485a6b.jpg  ...        [9, 10, 167, 12, 13, 8, 243]\n",
              "2   801607443_f15956d1ce.jpg  ...            [4, 51, 17, 256, 4, 161]\n",
              "3  3716244806_97d5a1fb61.jpg  ...  [4, 164, 19, 112, 104, 34, 4, 161]\n",
              "4  2358898017_24496b80e8.jpg  ...      [4, 25, 5, 17, 12, 13, 8, 243]\n",
              "\n",
              "[5 rows x 3 columns]"
            ]
          },
          "metadata": {
            "tags": []
          },
          "execution_count": 6
        }
      ]
    },
    {
      "cell_type": "code",
      "metadata": {
        "id": "1AdF8PROAe0G"
      },
      "source": [
        "references = df['references'].to_list()\n",
        "hypothesis = df['hypothesis'].to_list()"
      ],
      "execution_count": 8,
      "outputs": []
    },
    {
      "cell_type": "markdown",
      "metadata": {
        "id": "bweWkwDLBcKr"
      },
      "source": [
        "BLEU"
      ]
    },
    {
      "cell_type": "code",
      "metadata": {
        "colab": {
          "base_uri": "https://localhost:8080/"
        },
        "id": "Z9a5ZZfPAqJj",
        "outputId": "fe24d014-e9bb-47a2-b301-359a4f07d334"
      },
      "source": [
        "from utils import print_scores\n",
        "print_scores(references, hypothesis)"
      ],
      "execution_count": 9,
      "outputs": [
        {
          "output_type": "stream",
          "text": [
            "----- Bleu-n Scores -----\n",
            "1: 64.08114558472555\n",
            "2: 46.50725094600124\n",
            "3: 32.63582641164054\n",
            "4: 22.48417748427286\n",
            "-------------------------\n"
          ],
          "name": "stdout"
        },
        {
          "output_type": "execute_result",
          "data": {
            "text/plain": [
              "(64.08114558472555, 46.50725094600124, 32.63582641164054, 22.48417748427286)"
            ]
          },
          "metadata": {
            "tags": []
          },
          "execution_count": 9
        }
      ]
    },
    {
      "cell_type": "code",
      "metadata": {
        "colab": {
          "base_uri": "https://localhost:8080/"
        },
        "id": "heteHT_h_PTG",
        "outputId": "c512a33c-0e2f-470e-abe3-f85f90aca3ad"
      },
      "source": [
        "references = []\n",
        "hypothesis = []\n",
        "for fname in tqdm(df.file_name.unique()):\n",
        "  references.append(df[df.file_name==fname].references.to_list()[0])\n",
        "  hypothesis.append(df[df.file_name==fname].hypothesis.to_list()[0])"
      ],
      "execution_count": 100,
      "outputs": [
        {
          "output_type": "stream",
          "text": [
            "100%|██████████| 999/999 [00:01<00:00, 641.34it/s]\n"
          ],
          "name": "stderr"
        }
      ]
    },
    {
      "cell_type": "code",
      "metadata": {
        "colab": {
          "base_uri": "https://localhost:8080/"
        },
        "id": "aZVdpF37_nPf",
        "outputId": "0d498e33-9ca5-4a35-8de1-6aee8967f255"
      },
      "source": [
        "len(references), len(hypothesis)"
      ],
      "execution_count": 101,
      "outputs": [
        {
          "output_type": "execute_result",
          "data": {
            "text/plain": [
              "(999, 999)"
            ]
          },
          "metadata": {
            "tags": []
          },
          "execution_count": 101
        }
      ]
    },
    {
      "cell_type": "code",
      "metadata": {
        "colab": {
          "base_uri": "https://localhost:8080/"
        },
        "id": "UYYEQqTZ_-Sw",
        "outputId": "cef11f0d-5e55-416d-c133-b1d5cc931706"
      },
      "source": [
        "print_scores(references, hypothesis)"
      ],
      "execution_count": 102,
      "outputs": [
        {
          "output_type": "stream",
          "text": [
            "----- Bleu-n Scores -----\n",
            "1: 64.08114558472555\n",
            "2: 46.50725094600124\n",
            "3: 32.63582641164054\n",
            "4: 22.48417748427286\n",
            "-------------------------\n"
          ],
          "name": "stdout"
        },
        {
          "output_type": "execute_result",
          "data": {
            "text/plain": [
              "(64.08114558472555, 46.50725094600124, 32.63582641164054, 22.48417748427286)"
            ]
          },
          "metadata": {
            "tags": []
          },
          "execution_count": 102
        }
      ]
    },
    {
      "cell_type": "markdown",
      "metadata": {
        "id": "9tvGtSg7Cbd7"
      },
      "source": [
        "### Meteor"
      ]
    },
    {
      "cell_type": "code",
      "metadata": {
        "colab": {
          "base_uri": "https://localhost:8080/"
        },
        "id": "WFeJ8lg6DCGb",
        "outputId": "9cfa3a61-ca26-478d-b1af-03f13104f646"
      },
      "source": [
        "# upgrade nltk \n",
        "!pip install -U -q nltk"
      ],
      "execution_count": 25,
      "outputs": [
        {
          "output_type": "stream",
          "text": [
            "\u001b[?25l\r\u001b[K     |▎                               | 10kB 15.6MB/s eta 0:00:01\r\u001b[K     |▌                               | 20kB 19.9MB/s eta 0:00:01\r\u001b[K     |▊                               | 30kB 24.7MB/s eta 0:00:01\r\u001b[K     |█                               | 40kB 28.6MB/s eta 0:00:01\r\u001b[K     |█▏                              | 51kB 31.1MB/s eta 0:00:01\r\u001b[K     |█▍                              | 61kB 25.1MB/s eta 0:00:01\r\u001b[K     |█▋                              | 71kB 23.0MB/s eta 0:00:01\r\u001b[K     |█▉                              | 81kB 23.9MB/s eta 0:00:01\r\u001b[K     |██                              | 92kB 24.0MB/s eta 0:00:01\r\u001b[K     |██▎                             | 102kB 25.4MB/s eta 0:00:01\r\u001b[K     |██▌                             | 112kB 25.4MB/s eta 0:00:01\r\u001b[K     |██▊                             | 122kB 25.4MB/s eta 0:00:01\r\u001b[K     |███                             | 133kB 25.4MB/s eta 0:00:01\r\u001b[K     |███▏                            | 143kB 25.4MB/s eta 0:00:01\r\u001b[K     |███▍                            | 153kB 25.4MB/s eta 0:00:01\r\u001b[K     |███▋                            | 163kB 25.4MB/s eta 0:00:01\r\u001b[K     |███▉                            | 174kB 25.4MB/s eta 0:00:01\r\u001b[K     |████                            | 184kB 25.4MB/s eta 0:00:01\r\u001b[K     |████▎                           | 194kB 25.4MB/s eta 0:00:01\r\u001b[K     |████▌                           | 204kB 25.4MB/s eta 0:00:01\r\u001b[K     |████▊                           | 215kB 25.4MB/s eta 0:00:01\r\u001b[K     |█████                           | 225kB 25.4MB/s eta 0:00:01\r\u001b[K     |█████▏                          | 235kB 25.4MB/s eta 0:00:01\r\u001b[K     |█████▍                          | 245kB 25.4MB/s eta 0:00:01\r\u001b[K     |█████▋                          | 256kB 25.4MB/s eta 0:00:01\r\u001b[K     |█████▉                          | 266kB 25.4MB/s eta 0:00:01\r\u001b[K     |██████                          | 276kB 25.4MB/s eta 0:00:01\r\u001b[K     |██████▎                         | 286kB 25.4MB/s eta 0:00:01\r\u001b[K     |██████▌                         | 296kB 25.4MB/s eta 0:00:01\r\u001b[K     |██████▊                         | 307kB 25.4MB/s eta 0:00:01\r\u001b[K     |███████                         | 317kB 25.4MB/s eta 0:00:01\r\u001b[K     |███████▏                        | 327kB 25.4MB/s eta 0:00:01\r\u001b[K     |███████▍                        | 337kB 25.4MB/s eta 0:00:01\r\u001b[K     |███████▊                        | 348kB 25.4MB/s eta 0:00:01\r\u001b[K     |████████                        | 358kB 25.4MB/s eta 0:00:01\r\u001b[K     |████████▏                       | 368kB 25.4MB/s eta 0:00:01\r\u001b[K     |████████▍                       | 378kB 25.4MB/s eta 0:00:01\r\u001b[K     |████████▋                       | 389kB 25.4MB/s eta 0:00:01\r\u001b[K     |████████▉                       | 399kB 25.4MB/s eta 0:00:01\r\u001b[K     |█████████                       | 409kB 25.4MB/s eta 0:00:01\r\u001b[K     |█████████▎                      | 419kB 25.4MB/s eta 0:00:01\r\u001b[K     |█████████▌                      | 430kB 25.4MB/s eta 0:00:01\r\u001b[K     |█████████▊                      | 440kB 25.4MB/s eta 0:00:01\r\u001b[K     |██████████                      | 450kB 25.4MB/s eta 0:00:01\r\u001b[K     |██████████▏                     | 460kB 25.4MB/s eta 0:00:01\r\u001b[K     |██████████▍                     | 471kB 25.4MB/s eta 0:00:01\r\u001b[K     |██████████▋                     | 481kB 25.4MB/s eta 0:00:01\r\u001b[K     |██████████▉                     | 491kB 25.4MB/s eta 0:00:01\r\u001b[K     |███████████                     | 501kB 25.4MB/s eta 0:00:01\r\u001b[K     |███████████▎                    | 512kB 25.4MB/s eta 0:00:01\r\u001b[K     |███████████▌                    | 522kB 25.4MB/s eta 0:00:01\r\u001b[K     |███████████▊                    | 532kB 25.4MB/s eta 0:00:01\r\u001b[K     |████████████                    | 542kB 25.4MB/s eta 0:00:01\r\u001b[K     |████████████▏                   | 552kB 25.4MB/s eta 0:00:01\r\u001b[K     |████████████▍                   | 563kB 25.4MB/s eta 0:00:01\r\u001b[K     |████████████▋                   | 573kB 25.4MB/s eta 0:00:01\r\u001b[K     |████████████▉                   | 583kB 25.4MB/s eta 0:00:01\r\u001b[K     |█████████████                   | 593kB 25.4MB/s eta 0:00:01\r\u001b[K     |█████████████▎                  | 604kB 25.4MB/s eta 0:00:01\r\u001b[K     |█████████████▌                  | 614kB 25.4MB/s eta 0:00:01\r\u001b[K     |█████████████▊                  | 624kB 25.4MB/s eta 0:00:01\r\u001b[K     |██████████████                  | 634kB 25.4MB/s eta 0:00:01\r\u001b[K     |██████████████▏                 | 645kB 25.4MB/s eta 0:00:01\r\u001b[K     |██████████████▍                 | 655kB 25.4MB/s eta 0:00:01\r\u001b[K     |██████████████▋                 | 665kB 25.4MB/s eta 0:00:01\r\u001b[K     |██████████████▉                 | 675kB 25.4MB/s eta 0:00:01\r\u001b[K     |███████████████▏                | 686kB 25.4MB/s eta 0:00:01\r\u001b[K     |███████████████▍                | 696kB 25.4MB/s eta 0:00:01\r\u001b[K     |███████████████▋                | 706kB 25.4MB/s eta 0:00:01\r\u001b[K     |███████████████▉                | 716kB 25.4MB/s eta 0:00:01\r\u001b[K     |████████████████                | 727kB 25.4MB/s eta 0:00:01\r\u001b[K     |████████████████▎               | 737kB 25.4MB/s eta 0:00:01\r\u001b[K     |████████████████▌               | 747kB 25.4MB/s eta 0:00:01\r\u001b[K     |████████████████▊               | 757kB 25.4MB/s eta 0:00:01\r\u001b[K     |█████████████████               | 768kB 25.4MB/s eta 0:00:01\r\u001b[K     |█████████████████▏              | 778kB 25.4MB/s eta 0:00:01\r\u001b[K     |█████████████████▍              | 788kB 25.4MB/s eta 0:00:01\r\u001b[K     |█████████████████▋              | 798kB 25.4MB/s eta 0:00:01\r\u001b[K     |█████████████████▉              | 808kB 25.4MB/s eta 0:00:01\r\u001b[K     |██████████████████              | 819kB 25.4MB/s eta 0:00:01\r\u001b[K     |██████████████████▎             | 829kB 25.4MB/s eta 0:00:01\r\u001b[K     |██████████████████▌             | 839kB 25.4MB/s eta 0:00:01\r\u001b[K     |██████████████████▊             | 849kB 25.4MB/s eta 0:00:01\r\u001b[K     |███████████████████             | 860kB 25.4MB/s eta 0:00:01\r\u001b[K     |███████████████████▏            | 870kB 25.4MB/s eta 0:00:01\r\u001b[K     |███████████████████▍            | 880kB 25.4MB/s eta 0:00:01\r\u001b[K     |███████████████████▋            | 890kB 25.4MB/s eta 0:00:01\r\u001b[K     |███████████████████▉            | 901kB 25.4MB/s eta 0:00:01\r\u001b[K     |████████████████████            | 911kB 25.4MB/s eta 0:00:01\r\u001b[K     |████████████████████▎           | 921kB 25.4MB/s eta 0:00:01\r\u001b[K     |████████████████████▌           | 931kB 25.4MB/s eta 0:00:01\r\u001b[K     |████████████████████▊           | 942kB 25.4MB/s eta 0:00:01\r\u001b[K     |█████████████████████           | 952kB 25.4MB/s eta 0:00:01\r\u001b[K     |█████████████████████▏          | 962kB 25.4MB/s eta 0:00:01\r\u001b[K     |█████████████████████▍          | 972kB 25.4MB/s eta 0:00:01\r\u001b[K     |█████████████████████▋          | 983kB 25.4MB/s eta 0:00:01\r\u001b[K     |█████████████████████▉          | 993kB 25.4MB/s eta 0:00:01\r\u001b[K     |██████████████████████          | 1.0MB 25.4MB/s eta 0:00:01\r\u001b[K     |██████████████████████▎         | 1.0MB 25.4MB/s eta 0:00:01\r\u001b[K     |██████████████████████▌         | 1.0MB 25.4MB/s eta 0:00:01\r\u001b[K     |██████████████████████▉         | 1.0MB 25.4MB/s eta 0:00:01\r\u001b[K     |███████████████████████         | 1.0MB 25.4MB/s eta 0:00:01\r\u001b[K     |███████████████████████▎        | 1.1MB 25.4MB/s eta 0:00:01\r\u001b[K     |███████████████████████▌        | 1.1MB 25.4MB/s eta 0:00:01\r\u001b[K     |███████████████████████▊        | 1.1MB 25.4MB/s eta 0:00:01\r\u001b[K     |████████████████████████        | 1.1MB 25.4MB/s eta 0:00:01\r\u001b[K     |████████████████████████▏       | 1.1MB 25.4MB/s eta 0:00:01\r\u001b[K     |████████████████████████▍       | 1.1MB 25.4MB/s eta 0:00:01\r\u001b[K     |████████████████████████▋       | 1.1MB 25.4MB/s eta 0:00:01\r\u001b[K     |████████████████████████▉       | 1.1MB 25.4MB/s eta 0:00:01\r\u001b[K     |█████████████████████████       | 1.1MB 25.4MB/s eta 0:00:01\r\u001b[K     |█████████████████████████▎      | 1.1MB 25.4MB/s eta 0:00:01\r\u001b[K     |█████████████████████████▌      | 1.2MB 25.4MB/s eta 0:00:01\r\u001b[K     |█████████████████████████▊      | 1.2MB 25.4MB/s eta 0:00:01\r\u001b[K     |██████████████████████████      | 1.2MB 25.4MB/s eta 0:00:01\r\u001b[K     |██████████████████████████▏     | 1.2MB 25.4MB/s eta 0:00:01\r\u001b[K     |██████████████████████████▍     | 1.2MB 25.4MB/s eta 0:00:01\r\u001b[K     |██████████████████████████▋     | 1.2MB 25.4MB/s eta 0:00:01\r\u001b[K     |██████████████████████████▉     | 1.2MB 25.4MB/s eta 0:00:01\r\u001b[K     |███████████████████████████     | 1.2MB 25.4MB/s eta 0:00:01\r\u001b[K     |███████████████████████████▎    | 1.2MB 25.4MB/s eta 0:00:01\r\u001b[K     |███████████████████████████▌    | 1.2MB 25.4MB/s eta 0:00:01\r\u001b[K     |███████████████████████████▊    | 1.3MB 25.4MB/s eta 0:00:01\r\u001b[K     |████████████████████████████    | 1.3MB 25.4MB/s eta 0:00:01\r\u001b[K     |████████████████████████████▏   | 1.3MB 25.4MB/s eta 0:00:01\r\u001b[K     |████████████████████████████▍   | 1.3MB 25.4MB/s eta 0:00:01\r\u001b[K     |████████████████████████████▋   | 1.3MB 25.4MB/s eta 0:00:01\r\u001b[K     |████████████████████████████▉   | 1.3MB 25.4MB/s eta 0:00:01\r\u001b[K     |█████████████████████████████   | 1.3MB 25.4MB/s eta 0:00:01\r\u001b[K     |█████████████████████████████▎  | 1.3MB 25.4MB/s eta 0:00:01\r\u001b[K     |█████████████████████████████▌  | 1.3MB 25.4MB/s eta 0:00:01\r\u001b[K     |█████████████████████████████▊  | 1.4MB 25.4MB/s eta 0:00:01\r\u001b[K     |██████████████████████████████  | 1.4MB 25.4MB/s eta 0:00:01\r\u001b[K     |██████████████████████████████▎ | 1.4MB 25.4MB/s eta 0:00:01\r\u001b[K     |██████████████████████████████▌ | 1.4MB 25.4MB/s eta 0:00:01\r\u001b[K     |██████████████████████████████▊ | 1.4MB 25.4MB/s eta 0:00:01\r\u001b[K     |███████████████████████████████ | 1.4MB 25.4MB/s eta 0:00:01\r\u001b[K     |███████████████████████████████▏| 1.4MB 25.4MB/s eta 0:00:01\r\u001b[K     |███████████████████████████████▍| 1.4MB 25.4MB/s eta 0:00:01\r\u001b[K     |███████████████████████████████▋| 1.4MB 25.4MB/s eta 0:00:01\r\u001b[K     |███████████████████████████████▉| 1.4MB 25.4MB/s eta 0:00:01\r\u001b[K     |████████████████████████████████| 1.5MB 25.4MB/s \n",
            "\u001b[?25h"
          ],
          "name": "stdout"
        }
      ]
    },
    {
      "cell_type": "code",
      "metadata": {
        "colab": {
          "base_uri": "https://localhost:8080/"
        },
        "id": "figMFUmYDeDa",
        "outputId": "afecfabe-a822-451a-80a3-685bdcb0293e"
      },
      "source": [
        "from dataset import build_vocab\n",
        "DATA_JSON_PATH = 'Image-Captioning/data.json'\n",
        "vocab = build_vocab(DATA_JSON_PATH)"
      ],
      "execution_count": 26,
      "outputs": [
        {
          "output_type": "stream",
          "text": [
            "100%|██████████| 40000/40000 [00:00<00:00, 245892.79it/s]\n"
          ],
          "name": "stderr"
        }
      ]
    },
    {
      "cell_type": "code",
      "metadata": {
        "id": "q9NsrBefChC7",
        "colab": {
          "base_uri": "https://localhost:8080/"
        },
        "outputId": "f885fa06-8d1c-4d2d-8f00-046c59c2e8c3"
      },
      "source": [
        "preds_tokens = [\" \".join([vocab.itos[i] for i in seq]) for seq in tqdm(hypothesis)]\n",
        "\n",
        "refes_tokens = []\n",
        "for ref in tqdm(references):\n",
        "  refes_tokens.append([\" \".join([vocab.itos[i] for i in seq]) for seq in ref]) "
      ],
      "execution_count": 103,
      "outputs": [
        {
          "output_type": "stream",
          "text": [
            "100%|██████████| 999/999 [00:00<00:00, 193431.34it/s]\n",
            "100%|██████████| 999/999 [00:00<00:00, 42415.17it/s]\n"
          ],
          "name": "stderr"
        }
      ]
    },
    {
      "cell_type": "code",
      "metadata": {
        "id": "-rHt9hMdKU2R",
        "colab": {
          "base_uri": "https://localhost:8080/"
        },
        "outputId": "cdd98468-8029-41cf-ec42-12a6e601e57e"
      },
      "source": [
        "from nltk.translate.meteor_score import meteor_score\n",
        "import nltk\n",
        "nltk.download(\"wordnet\")"
      ],
      "execution_count": 30,
      "outputs": [
        {
          "output_type": "stream",
          "text": [
            "[nltk_data] Downloading package wordnet to /root/nltk_data...\n",
            "[nltk_data]   Unzipping corpora/wordnet.zip.\n"
          ],
          "name": "stdout"
        },
        {
          "output_type": "execute_result",
          "data": {
            "text/plain": [
              "True"
            ]
          },
          "metadata": {
            "tags": []
          },
          "execution_count": 30
        }
      ]
    },
    {
      "cell_type": "code",
      "metadata": {
        "colab": {
          "base_uri": "https://localhost:8080/"
        },
        "id": "PP0cmRe9Klk6",
        "outputId": "4ba03608-6e0f-4370-b79e-989f0a948e55"
      },
      "source": [
        "meteor_score(refes_tokens[0], preds_tokens[0])"
      ],
      "execution_count": 31,
      "outputs": [
        {
          "output_type": "execute_result",
          "data": {
            "text/plain": [
              "0.2545362903225807"
            ]
          },
          "metadata": {
            "tags": []
          },
          "execution_count": 31
        }
      ]
    },
    {
      "cell_type": "code",
      "metadata": {
        "colab": {
          "base_uri": "https://localhost:8080/",
          "height": 35
        },
        "id": "OTSxO2iyKnnp",
        "outputId": "5a20a3f4-f648-41aa-c65f-a7eb706a5ad7"
      },
      "source": [
        "preds_tokens[0]"
      ],
      "execution_count": 32,
      "outputs": [
        {
          "output_type": "execute_result",
          "data": {
            "application/vnd.google.colaboratory.intrinsic+json": {
              "type": "string"
            },
            "text/plain": [
              "'a young boy sitting on a bench'"
            ]
          },
          "metadata": {
            "tags": []
          },
          "execution_count": 32
        }
      ]
    },
    {
      "cell_type": "code",
      "metadata": {
        "id": "42Iy65mMLnCZ"
      },
      "source": [
        "from tqdm import tqdm"
      ],
      "execution_count": null,
      "outputs": []
    },
    {
      "cell_type": "code",
      "metadata": {
        "colab": {
          "base_uri": "https://localhost:8080/"
        },
        "id": "DODXf9_xLHb5",
        "outputId": "69d8b5ad-32bf-4e6e-e7d7-40df39455a69"
      },
      "source": [
        "from statistics import mean, median\n",
        "\n",
        "\n",
        "meteor_scores = []\n",
        "for r, h in tqdm(zip(refes_tokens, preds_tokens), total=len(refes_tokens)):\n",
        "    meteor_scores.append(meteor_score(r, h))"
      ],
      "execution_count": 39,
      "outputs": [
        {
          "output_type": "stream",
          "text": [
            "100%|██████████| 999/999 [00:03<00:00, 315.59it/s]\n"
          ],
          "name": "stderr"
        }
      ]
    },
    {
      "cell_type": "code",
      "metadata": {
        "id": "IGhppscuCDYO"
      },
      "source": [
        "meteor_score?"
      ],
      "execution_count": 41,
      "outputs": []
    },
    {
      "cell_type": "code",
      "metadata": {
        "colab": {
          "base_uri": "https://localhost:8080/"
        },
        "id": "-FqQcaK8CAvm",
        "outputId": "5f41fb36-4249-47b3-f720-c798375f187f"
      },
      "source": [
        "median(meteor_scores)"
      ],
      "execution_count": 40,
      "outputs": [
        {
          "output_type": "execute_result",
          "data": {
            "text/plain": [
              "0.40760869565217384"
            ]
          },
          "metadata": {
            "tags": []
          },
          "execution_count": 40
        }
      ]
    },
    {
      "cell_type": "code",
      "metadata": {
        "colab": {
          "base_uri": "https://localhost:8080/"
        },
        "id": "5ohOZI7NAeKm",
        "outputId": "b2e6cc9c-9d12-46eb-d16f-0c5a477fc648"
      },
      "source": [
        "mean(meteor_scores)"
      ],
      "execution_count": 38,
      "outputs": [
        {
          "output_type": "execute_result",
          "data": {
            "text/plain": [
              "0.4235476366532275"
            ]
          },
          "metadata": {
            "tags": []
          },
          "execution_count": 38
        }
      ]
    },
    {
      "cell_type": "code",
      "metadata": {
        "colab": {
          "base_uri": "https://localhost:8080/"
        },
        "id": "jVlXO8aOLmDx",
        "outputId": "48e95dd9-2b0a-460e-adb3-e5700a5b8047"
      },
      "source": [
        "total_meteor/len(refes_tokens)"
      ],
      "execution_count": 35,
      "outputs": [
        {
          "output_type": "execute_result",
          "data": {
            "text/plain": [
              "0.4235476366532281"
            ]
          },
          "metadata": {
            "tags": []
          },
          "execution_count": 35
        }
      ]
    },
    {
      "cell_type": "markdown",
      "metadata": {
        "id": "-R1Fk5xUDFkF"
      },
      "source": [
        "### Metrics "
      ]
    },
    {
      "cell_type": "code",
      "metadata": {
        "colab": {
          "base_uri": "https://localhost:8080/"
        },
        "id": "io7aOochE-5Y",
        "outputId": "3a53b8cd-b503-43c2-acfe-f7f049c00234"
      },
      "source": [
        "!pip install \"git+https://github.com/salaniz/pycocoevalcap.git\""
      ],
      "execution_count": 53,
      "outputs": [
        {
          "output_type": "stream",
          "text": [
            "Collecting git+https://github.com/salaniz/pycocoevalcap.git\n",
            "  Cloning https://github.com/salaniz/pycocoevalcap.git to /tmp/pip-req-build-1t0kabdd\n",
            "  Running command git clone -q https://github.com/salaniz/pycocoevalcap.git /tmp/pip-req-build-1t0kabdd\n",
            "Requirement already satisfied: pycocotools>=2.0.2 in /usr/local/lib/python3.7/dist-packages (from pycocoevalcap==1.2) (2.0.2)\n",
            "Requirement already satisfied: cython>=0.27.3 in /usr/local/lib/python3.7/dist-packages (from pycocotools>=2.0.2->pycocoevalcap==1.2) (0.29.23)\n",
            "Requirement already satisfied: setuptools>=18.0 in /usr/local/lib/python3.7/dist-packages (from pycocotools>=2.0.2->pycocoevalcap==1.2) (57.0.0)\n",
            "Requirement already satisfied: matplotlib>=2.1.0 in /usr/local/lib/python3.7/dist-packages (from pycocotools>=2.0.2->pycocoevalcap==1.2) (3.2.2)\n",
            "Requirement already satisfied: numpy>=1.11 in /usr/local/lib/python3.7/dist-packages (from matplotlib>=2.1.0->pycocotools>=2.0.2->pycocoevalcap==1.2) (1.19.5)\n",
            "Requirement already satisfied: pyparsing!=2.0.4,!=2.1.2,!=2.1.6,>=2.0.1 in /usr/local/lib/python3.7/dist-packages (from matplotlib>=2.1.0->pycocotools>=2.0.2->pycocoevalcap==1.2) (2.4.7)\n",
            "Requirement already satisfied: kiwisolver>=1.0.1 in /usr/local/lib/python3.7/dist-packages (from matplotlib>=2.1.0->pycocotools>=2.0.2->pycocoevalcap==1.2) (1.3.1)\n",
            "Requirement already satisfied: cycler>=0.10 in /usr/local/lib/python3.7/dist-packages (from matplotlib>=2.1.0->pycocotools>=2.0.2->pycocoevalcap==1.2) (0.10.0)\n",
            "Requirement already satisfied: python-dateutil>=2.1 in /usr/local/lib/python3.7/dist-packages (from matplotlib>=2.1.0->pycocotools>=2.0.2->pycocoevalcap==1.2) (2.8.1)\n",
            "Requirement already satisfied: six in /usr/local/lib/python3.7/dist-packages (from cycler>=0.10->matplotlib>=2.1.0->pycocotools>=2.0.2->pycocoevalcap==1.2) (1.15.0)\n",
            "Building wheels for collected packages: pycocoevalcap\n",
            "  Building wheel for pycocoevalcap (setup.py) ... \u001b[?25l\u001b[?25hdone\n",
            "  Created wheel for pycocoevalcap: filename=pycocoevalcap-1.2-cp37-none-any.whl size=104312216 sha256=b52d2776ff7c408c22d8dc6376531571d7a210e5d4bec92c3e763b1c74d446d1\n",
            "  Stored in directory: /tmp/pip-ephem-wheel-cache-5c0oz6a0/wheels/43/c5/1e/8c540096ae74b7789563f1ba2a0e195308ee86f445a0cda110\n",
            "Successfully built pycocoevalcap\n",
            "Installing collected packages: pycocoevalcap\n",
            "Successfully installed pycocoevalcap-1.2\n"
          ],
          "name": "stdout"
        }
      ]
    },
    {
      "cell_type": "code",
      "metadata": {
        "id": "e9MRzP-hFOQu"
      },
      "source": [
        "from pycocoevalcap.bleu.bleu import Bleu\n",
        "from pycocoevalcap.rouge.rouge import Rouge\n",
        "from pycocoevalcap.cider.cider import Cider\n",
        "from pycocoevalcap.meteor.meteor import Meteor\n",
        "from pycocoevalcap.spice.spice import Spice"
      ],
      "execution_count": 115,
      "outputs": []
    },
    {
      "cell_type": "code",
      "metadata": {
        "colab": {
          "base_uri": "https://localhost:8080/",
          "height": 204
        },
        "id": "5tdhtP41F6j6",
        "outputId": "68a3e984-6592-4b96-a907-b849ab36ee59"
      },
      "source": [
        "df.head()"
      ],
      "execution_count": 62,
      "outputs": [
        {
          "output_type": "execute_result",
          "data": {
            "text/html": [
              "<div>\n",
              "<style scoped>\n",
              "    .dataframe tbody tr th:only-of-type {\n",
              "        vertical-align: middle;\n",
              "    }\n",
              "\n",
              "    .dataframe tbody tr th {\n",
              "        vertical-align: top;\n",
              "    }\n",
              "\n",
              "    .dataframe thead th {\n",
              "        text-align: right;\n",
              "    }\n",
              "</style>\n",
              "<table border=\"1\" class=\"dataframe\">\n",
              "  <thead>\n",
              "    <tr style=\"text-align: right;\">\n",
              "      <th></th>\n",
              "      <th>file_name</th>\n",
              "      <th>references</th>\n",
              "      <th>hypothesis</th>\n",
              "    </tr>\n",
              "  </thead>\n",
              "  <tbody>\n",
              "    <tr>\n",
              "      <th>0</th>\n",
              "      <td>2431470169_0eeba7d602.jpg</td>\n",
              "      <td>[[4, 51, 104, 71, 99, 184, 821, 602, 1328, 468...</td>\n",
              "      <td>[4, 64, 62, 104, 34, 4, 264]</td>\n",
              "    </tr>\n",
              "    <tr>\n",
              "      <th>1</th>\n",
              "      <td>2869491449_1041485a6b.jpg</td>\n",
              "      <td>[[9, 4839, 774, 277, 20, 168, 34, 4, 384], [9,...</td>\n",
              "      <td>[9, 10, 167, 12, 13, 8, 243]</td>\n",
              "    </tr>\n",
              "    <tr>\n",
              "      <th>2</th>\n",
              "      <td>801607443_f15956d1ce.jpg</td>\n",
              "      <td>[[129, 317, 17, 104, 34, 8, 161, 215, 8, 144, ...</td>\n",
              "      <td>[4, 51, 17, 256, 4, 161]</td>\n",
              "    </tr>\n",
              "    <tr>\n",
              "      <th>3</th>\n",
              "      <td>3716244806_97d5a1fb61.jpg</td>\n",
              "      <td>[[4, 113, 104, 34, 320, 121, 55, 8, 69], [8, 2...</td>\n",
              "      <td>[4, 164, 19, 112, 104, 34, 4, 161]</td>\n",
              "    </tr>\n",
              "    <tr>\n",
              "      <th>4</th>\n",
              "      <td>2358898017_24496b80e8.jpg</td>\n",
              "      <td>[[4, 25, 22, 36, 5, 1385, 50, 11, 4, 290, 109]...</td>\n",
              "      <td>[4, 25, 5, 17, 12, 13, 8, 243]</td>\n",
              "    </tr>\n",
              "  </tbody>\n",
              "</table>\n",
              "</div>"
            ],
            "text/plain": [
              "                   file_name  ...                          hypothesis\n",
              "0  2431470169_0eeba7d602.jpg  ...        [4, 64, 62, 104, 34, 4, 264]\n",
              "1  2869491449_1041485a6b.jpg  ...        [9, 10, 167, 12, 13, 8, 243]\n",
              "2   801607443_f15956d1ce.jpg  ...            [4, 51, 17, 256, 4, 161]\n",
              "3  3716244806_97d5a1fb61.jpg  ...  [4, 164, 19, 112, 104, 34, 4, 161]\n",
              "4  2358898017_24496b80e8.jpg  ...      [4, 25, 5, 17, 12, 13, 8, 243]\n",
              "\n",
              "[5 rows x 3 columns]"
            ]
          },
          "metadata": {
            "tags": []
          },
          "execution_count": 62
        }
      ]
    },
    {
      "cell_type": "code",
      "metadata": {
        "colab": {
          "base_uri": "https://localhost:8080/"
        },
        "id": "eQi_PYyWF869",
        "outputId": "b42ff99e-0295-43c3-944d-c9d85fa0f621"
      },
      "source": [
        "references = {}\n",
        "hypothesis = {}\n",
        "for idx, fname in tqdm(enumerate(df.file_name.unique()), total=df.file_name.nunique()):\n",
        "  hypothesis[idx] = df[df.file_name==fname].hypothesis.to_list()[0]\n",
        "  references[idx] = df[df.file_name==fname].references.to_list()[0]\n",
        "\n",
        "  # references.append(df[df.file_name==fname].references.to_list()[0])\n",
        "  # hypothesis.append(df[df.file_name==fname].hypothesis.to_list()[0])"
      ],
      "execution_count": 105,
      "outputs": [
        {
          "output_type": "stream",
          "text": [
            "100%|██████████| 999/999 [00:01<00:00, 649.02it/s]\n"
          ],
          "name": "stderr"
        }
      ]
    },
    {
      "cell_type": "code",
      "metadata": {
        "id": "uYhzU3mbI5js"
      },
      "source": [
        "hypo = {idx: [tokens] for idx, tokens in enumerate(preds_tokens)}\n",
        "refs = {idx: tokens for idx, tokens in enumerate(refes_tokens)}"
      ],
      "execution_count": 106,
      "outputs": []
    },
    {
      "cell_type": "code",
      "metadata": {
        "colab": {
          "base_uri": "https://localhost:8080/"
        },
        "id": "r894Z90YJ3CV",
        "outputId": "c316338f-9928-46b0-e7f1-5d26591f750d"
      },
      "source": [
        "len(refs), len(refs)"
      ],
      "execution_count": 111,
      "outputs": [
        {
          "output_type": "execute_result",
          "data": {
            "text/plain": [
              "(999, 999)"
            ]
          },
          "metadata": {
            "tags": []
          },
          "execution_count": 111
        }
      ]
    },
    {
      "cell_type": "code",
      "metadata": {
        "colab": {
          "base_uri": "https://localhost:8080/"
        },
        "id": "pn3HpyL1LHKB",
        "outputId": "cde07429-fd49-4db8-d2d0-97441275bf3e"
      },
      "source": [
        "hypo[0], refs[0]"
      ],
      "execution_count": 112,
      "outputs": [
        {
          "output_type": "execute_result",
          "data": {
            "text/plain": [
              "(['a young boy sitting on a bench'],\n",
              " ['a man sitting at an outside table eating lunch marking on a paper',\n",
              "  'a single man sitting at a round table reading outside of a shop',\n",
              "  'man reading a newspaper at an outdoors restaurant',\n",
              "  'man reading in a chair outside',\n",
              "  'the man is taking notes at the table'])"
            ]
          },
          "metadata": {
            "tags": []
          },
          "execution_count": 112
        }
      ]
    },
    {
      "cell_type": "code",
      "metadata": {
        "colab": {
          "base_uri": "https://localhost:8080/"
        },
        "id": "iSawJincKhYs",
        "outputId": "73b1ae1f-4425-4259-c28b-e2d0a3b5c9f7"
      },
      "source": [
        "score, scores = Bleu(4).compute_score(refs, hypo)\n",
        "score"
      ],
      "execution_count": 108,
      "outputs": [
        {
          "output_type": "stream",
          "text": [
            "{'testlen': 10056, 'reflen': 9831, 'guess': [10056, 9057, 8058, 7059], 'correct': [6444, 3057, 1295, 519]}\n",
            "ratio: 1.022886786695044\n"
          ],
          "name": "stdout"
        },
        {
          "output_type": "execute_result",
          "data": {
            "text/plain": [
              "[0.6408114558471916,\n",
              " 0.46507250945996353,\n",
              " 0.326358264116369,\n",
              " 0.22484177484270185]"
            ]
          },
          "metadata": {
            "tags": []
          },
          "execution_count": 108
        }
      ]
    },
    {
      "cell_type": "code",
      "metadata": {
        "colab": {
          "base_uri": "https://localhost:8080/"
        },
        "id": "qsjOdOZXJxgN",
        "outputId": "d085fe29-81e8-47ff-9e65-3a4c43864698"
      },
      "source": [
        "score, scores = Meteor().compute_score(refs, hypo)\n",
        "score"
      ],
      "execution_count": 109,
      "outputs": [
        {
          "output_type": "execute_result",
          "data": {
            "text/plain": [
              "0.20691602590745664"
            ]
          },
          "metadata": {
            "tags": []
          },
          "execution_count": 109
        }
      ]
    },
    {
      "cell_type": "code",
      "metadata": {
        "colab": {
          "base_uri": "https://localhost:8080/"
        },
        "id": "qOyw3-Z6Fsl8",
        "outputId": "57e8a65a-59c7-44b5-a6b2-3f6c688eca61"
      },
      "source": [
        "score, scores = Rouge().compute_score(refs, hypo)\n",
        "score"
      ],
      "execution_count": 113,
      "outputs": [
        {
          "output_type": "execute_result",
          "data": {
            "text/plain": [
              "0.47822837472460644"
            ]
          },
          "metadata": {
            "tags": []
          },
          "execution_count": 113
        }
      ]
    },
    {
      "cell_type": "code",
      "metadata": {
        "colab": {
          "base_uri": "https://localhost:8080/"
        },
        "id": "sInCS3VELPo0",
        "outputId": "fdbbf5e2-2da2-44c7-829f-f2bbf338fd81"
      },
      "source": [
        "score, scores = Cider().compute_score(refs, hypo)\n",
        "score"
      ],
      "execution_count": 114,
      "outputs": [
        {
          "output_type": "execute_result",
          "data": {
            "text/plain": [
              "0.5675836611326015"
            ]
          },
          "metadata": {
            "tags": []
          },
          "execution_count": 114
        }
      ]
    },
    {
      "cell_type": "code",
      "metadata": {
        "colab": {
          "base_uri": "https://localhost:8080/"
        },
        "id": "DCVjye-YLRx8",
        "outputId": "609672c6-3189-4705-914e-3900579ff133"
      },
      "source": [
        "score, scores = Spice().compute_score(refs, hypo)\n",
        "score"
      ],
      "execution_count": 116,
      "outputs": [
        {
          "output_type": "stream",
          "text": [
            "Downloading stanford-corenlp-3.6.0 for SPICE ...\n",
            "Progress: 384.5M / 384.5M (100.0%)\n",
            "Extracting stanford-corenlp-3.6.0 ...\n",
            "Done.\n"
          ],
          "name": "stdout"
        },
        {
          "output_type": "execute_result",
          "data": {
            "text/plain": [
              "0.14836015775933178"
            ]
          },
          "metadata": {
            "tags": []
          },
          "execution_count": 116
        }
      ]
    }
  ]
}