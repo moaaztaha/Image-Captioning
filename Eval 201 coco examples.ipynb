{
 "cells": [
  {
   "cell_type": "code",
   "execution_count": 1,
   "metadata": {
    "execution": {
     "iopub.execute_input": "2021-07-17T13:06:17.133766Z",
     "iopub.status.busy": "2021-07-17T13:06:17.133354Z",
     "iopub.status.idle": "2021-07-17T13:06:17.181700Z",
     "shell.execute_reply": "2021-07-17T13:06:17.180619Z",
     "shell.execute_reply.started": "2021-07-17T13:06:17.133730Z"
    },
    "id": "b4366e4d"
   },
   "outputs": [],
   "source": [
    "%reload_ext autoreload\n",
    "%autoreload 2\n",
    "%matplotlib inline"
   ]
  },
  {
   "cell_type": "code",
   "execution_count": 2,
   "metadata": {
    "execution": {
     "iopub.execute_input": "2021-07-17T13:06:18.808551Z",
     "iopub.status.busy": "2021-07-17T13:06:18.808173Z",
     "iopub.status.idle": "2021-07-17T13:06:23.008079Z",
     "shell.execute_reply": "2021-07-17T13:06:23.007029Z",
     "shell.execute_reply.started": "2021-07-17T13:06:18.808492Z"
    },
    "id": "4034c69e"
   },
   "outputs": [],
   "source": [
    "import time \n",
    "import torch.backends.cudnn as cudnn\n",
    "import torch.optim\n",
    "import torch.utils.data\n",
    "import torchvision.transforms as transforms\n",
    "from torch import nn\n",
    "from torch.nn.utils.rnn import pack_padded_sequence\n",
    "from models import Encoder, DecoderWithAttention\n",
    "from dataset import *\n",
    "from utils import *\n",
    "from train import *\n",
    "from torch.utils.tensorboard import SummaryWriter\n",
    "from os import path as osp"
   ]
  },
  {
   "cell_type": "code",
   "execution_count": 3,
   "metadata": {
    "execution": {
     "iopub.execute_input": "2021-07-17T13:06:38.929331Z",
     "iopub.status.busy": "2021-07-17T13:06:38.928921Z",
     "iopub.status.idle": "2021-07-17T13:06:38.978858Z",
     "shell.execute_reply": "2021-07-17T13:06:38.977752Z",
     "shell.execute_reply.started": "2021-07-17T13:06:38.929301Z"
    },
    "id": "b8ce76f9"
   },
   "outputs": [],
   "source": [
    "# Model parameters\n",
    "encoder_dim = 2048 # resnet101\n",
    "emb_dim = 512  # dimension of word embeddings\n",
    "attention_dim = 512  # dimension of attention linear layers\n",
    "decoder_dim = 512  # dimension of decoder RNN\n",
    "dropout = 0.5\n",
    "device = torch.device(\"cuda\" if torch.cuda.is_available() else \"cpu\")  # sets device for model and PyTorch tensors\n",
    "cudnn.benchmark = True  # set to true only if inputs to model are fixed size; otherwise lot of computational overhead\n",
    "\n",
    "# training parameters\n",
    "epochs = 30  # number of epochs to train for (if early stopping is not triggered)\n",
    "batch_size = 256\n",
    "workers = 2\n",
    "encoder_lr = 1e-4  # learning rate for encoder if fine-tuning\n",
    "decoder_lr = 4e-4  # learning rate for decoder\n",
    "fine_tune_encoder = False  # fine-tune encoder?\n",
    "pretrained_embeddings = False\n",
    "fine_tune_embeddings = False\n",
    "checkpoint = None  # path to checkpoint, None if none"
   ]
  },
  {
   "cell_type": "code",
   "execution_count": 14,
   "metadata": {
    "execution": {
     "iopub.execute_input": "2021-07-17T13:07:02.652391Z",
     "iopub.status.busy": "2021-07-17T13:07:02.652020Z",
     "iopub.status.idle": "2021-07-17T13:07:02.698928Z",
     "shell.execute_reply": "2021-07-17T13:07:02.697758Z",
     "shell.execute_reply.started": "2021-07-17T13:07:02.652357Z"
    },
    "id": "d7a302e3"
   },
   "outputs": [],
   "source": [
    "DATA_JSON_PATH = 'data/ar_data.json'\n",
    "IMGS_PATH = 'images_200/'\n",
    "DATA_NAME = 'TESTING'"
   ]
  },
  {
   "cell_type": "code",
   "execution_count": 15,
   "metadata": {
    "execution": {
     "iopub.execute_input": "2021-07-17T13:07:07.551421Z",
     "iopub.status.busy": "2021-07-17T13:07:07.551059Z",
     "iopub.status.idle": "2021-07-17T13:07:08.027838Z",
     "shell.execute_reply": "2021-07-17T13:07:08.026347Z",
     "shell.execute_reply.started": "2021-07-17T13:07:07.551388Z"
    },
    "id": "a4b1a677",
    "outputId": "9356268d-4297-4f43-c44e-3aef77004680"
   },
   "outputs": [
    {
     "name": "stderr",
     "output_type": "stream",
     "text": [
      "100%|██████████| 24000/24000 [00:00<00:00, 302988.23it/s]\n"
     ]
    },
    {
     "data": {
      "text/plain": [
       "3309"
      ]
     },
     "execution_count": 15,
     "metadata": {},
     "output_type": "execute_result"
    }
   ],
   "source": [
    "max_seq = 65\n",
    "vocab = build_vocab(DATA_JSON_PATH, max_seq=max_seq)\n",
    "vocab_len = len(vocab); vocab_len"
   ]
  },
  {
   "cell_type": "code",
   "execution_count": 16,
   "metadata": {
    "execution": {
     "iopub.execute_input": "2021-07-17T13:07:28.390568Z",
     "iopub.status.busy": "2021-07-17T13:07:28.390150Z",
     "iopub.status.idle": "2021-07-17T13:07:28.442817Z",
     "shell.execute_reply": "2021-07-17T13:07:28.441335Z",
     "shell.execute_reply.started": "2021-07-17T13:07:28.390526Z"
    },
    "id": "ff6df2d0",
    "outputId": "dcf14d12-9a82-49ef-b74b-66b728e23823"
   },
   "outputs": [
    {
     "data": {
      "text/plain": [
       "([0, 1, 2, 3, 4, 5, 6, 7, 8, 9],\n",
       " ['<pad>', '<sos>', '<eos>', '<unk>', '+', 'ة', 'طفل', 'صغير', 'تتسلق', 'إلى'])"
      ]
     },
     "execution_count": 16,
     "metadata": {},
     "output_type": "execute_result"
    }
   ],
   "source": [
    "list(vocab.itos.keys())[:10], list(vocab.itos.values())[:10]"
   ]
  },
  {
   "cell_type": "code",
   "execution_count": 22,
   "metadata": {
    "execution": {
     "iopub.execute_input": "2021-07-17T14:31:30.992363Z",
     "iopub.status.busy": "2021-07-17T14:31:30.991995Z",
     "iopub.status.idle": "2021-07-17T14:31:31.341563Z",
     "shell.execute_reply": "2021-07-17T14:31:31.340228Z",
     "shell.execute_reply.started": "2021-07-17T14:31:30.992328Z"
    },
    "id": "cgtlSQWzjNwz",
    "outputId": "9df0886b-4b65-4a7b-d4bc-36b41f0c9e49"
   },
   "outputs": [
    {
     "name": "stdout",
     "output_type": "stream",
     "text": [
      "Loaded Checkpoint!!\n",
      "Last Epoch: 17\n",
      "Best Bleu-4: 25.49970489970383\n"
     ]
    }
   ],
   "source": [
    "m = load_checkpoint(\"ar_models/BEST_checkpoint_flickr8k_ar_arabert_finetune.pth.tar\")"
   ]
  },
  {
   "cell_type": "code",
   "execution_count": 24,
   "metadata": {},
   "outputs": [],
   "source": [
    "encoder = m['encoder']\n",
    "decoder = m['decoder']"
   ]
  },
  {
   "cell_type": "code",
   "execution_count": 28,
   "metadata": {
    "execution": {
     "iopub.execute_input": "2021-07-17T15:07:27.757142Z",
     "iopub.status.busy": "2021-07-17T15:07:27.756791Z",
     "iopub.status.idle": "2021-07-17T15:21:46.839602Z",
     "shell.execute_reply": "2021-07-17T15:21:46.838395Z",
     "shell.execute_reply.started": "2021-07-17T15:07:27.757112Z"
    },
    "id": "reIYwZ6O6ncg",
    "outputId": "56059b76-ff0b-4176-eef8-67e938da89d4"
   },
   "outputs": [
    {
     "name": "stdout",
     "output_type": "stream",
     "text": [
      "Dataset split: test\n",
      "Unique images: 201\n",
      "Total size: 1005\n"
     ]
    },
    {
     "name": "stderr",
     "output_type": "stream",
     "text": [
      "EVALUATING AT BEAM SIZE 1: 100%|██████████| 1005/1005 [00:41<00:00, 24.50it/s]\n"
     ]
    },
    {
     "name": "stdout",
     "output_type": "stream",
     "text": [
      "----- Bleu-n Scores -----\n",
      "1: 57.26460717331159\n",
      "2: 44.11587054804982\n",
      "3: 31.57337234488357\n",
      "4: 22.521816405336576\n",
      "-------------------------\n",
      "Dataset split: test\n",
      "Unique images: 201\n",
      "Total size: 1005\n"
     ]
    },
    {
     "name": "stderr",
     "output_type": "stream",
     "text": [
      "EVALUATING AT BEAM SIZE 2: 100%|██████████| 1005/1005 [00:51<00:00, 19.70it/s]\n"
     ]
    },
    {
     "name": "stdout",
     "output_type": "stream",
     "text": [
      "----- Bleu-n Scores -----\n",
      "1: 57.481629162500404\n",
      "2: 45.297626072950294\n",
      "3: 33.06811991316908\n",
      "4: 24.007402361039233\n",
      "-------------------------\n",
      "Dataset split: test\n",
      "Unique images: 201\n",
      "Total size: 1005\n"
     ]
    },
    {
     "name": "stderr",
     "output_type": "stream",
     "text": [
      "EVALUATING AT BEAM SIZE 3: 100%|██████████| 1005/1005 [00:58<00:00, 17.07it/s]\n"
     ]
    },
    {
     "name": "stdout",
     "output_type": "stream",
     "text": [
      "----- Bleu-n Scores -----\n",
      "1: 59.57903879112231\n",
      "2: 47.81904879994653\n",
      "3: 35.57908772333811\n",
      "4: 26.300767047425133\n",
      "-------------------------\n",
      "Dataset split: test\n",
      "Unique images: 201\n",
      "Total size: 1005\n"
     ]
    },
    {
     "name": "stderr",
     "output_type": "stream",
     "text": [
      "EVALUATING AT BEAM SIZE 4: 100%|██████████| 1005/1005 [01:09<00:00, 14.38it/s]\n"
     ]
    },
    {
     "name": "stdout",
     "output_type": "stream",
     "text": [
      "----- Bleu-n Scores -----\n",
      "1: 60.2981773061791\n",
      "2: 48.312757135913806\n",
      "3: 35.48037749954152\n",
      "4: 26.245859606761872\n",
      "-------------------------\n",
      "Dataset split: test\n",
      "Unique images: 201\n",
      "Total size: 1005\n"
     ]
    },
    {
     "name": "stderr",
     "output_type": "stream",
     "text": [
      "EVALUATING AT BEAM SIZE 5: 100%|██████████| 1005/1005 [01:13<00:00, 13.76it/s]\n"
     ]
    },
    {
     "name": "stdout",
     "output_type": "stream",
     "text": [
      "----- Bleu-n Scores -----\n",
      "1: 59.49016765408188\n",
      "2: 47.841419654270304\n",
      "3: 35.4434402518133\n",
      "4: 26.157154595107894\n",
      "-------------------------\n"
     ]
    }
   ],
   "source": [
    "from eval import test_score\n",
    "\n",
    "test_dict = {}\n",
    "\n",
    "for i in range(1, 6):\n",
    "    \n",
    "    b1, b2, b3, b4 = test_score(i, encoder, decoder, IMGS_PATH, 'sm_ar_data.json', vocab)\n",
    "    if i == 3:\n",
    "        test_dict['b1'] = b1\n",
    "        test_dict['b2'] = b2\n",
    "        test_dict['b3'] = b3\n",
    "    \n",
    "    test_dict[f'b4-b{i}'] = b4"
   ]
  }
 ],
 "metadata": {
  "kernelspec": {
   "display_name": "Python 3",
   "language": "python",
   "name": "python3"
  },
  "language_info": {
   "codemirror_mode": {
    "name": "ipython",
    "version": 3
   },
   "file_extension": ".py",
   "mimetype": "text/x-python",
   "name": "python",
   "nbconvert_exporter": "python",
   "pygments_lexer": "ipython3",
   "version": "3.6.13"
  }
 },
 "nbformat": 4,
 "nbformat_minor": 4
}
