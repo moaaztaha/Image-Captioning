{
 "cells": [
  {
   "cell_type": "code",
   "execution_count": 1,
   "metadata": {
    "execution": {
     "iopub.execute_input": "2021-07-17T13:06:17.133766Z",
     "iopub.status.busy": "2021-07-17T13:06:17.133354Z",
     "iopub.status.idle": "2021-07-17T13:06:17.181700Z",
     "shell.execute_reply": "2021-07-17T13:06:17.180619Z",
     "shell.execute_reply.started": "2021-07-17T13:06:17.133730Z"
    },
    "id": "b4366e4d"
   },
   "outputs": [],
   "source": [
    "%reload_ext autoreload\n",
    "%autoreload 2\n",
    "%matplotlib inline"
   ]
  },
  {
   "cell_type": "code",
   "execution_count": 2,
   "metadata": {
    "execution": {
     "iopub.execute_input": "2021-07-17T13:06:18.808551Z",
     "iopub.status.busy": "2021-07-17T13:06:18.808173Z",
     "iopub.status.idle": "2021-07-17T13:06:23.008079Z",
     "shell.execute_reply": "2021-07-17T13:06:23.007029Z",
     "shell.execute_reply.started": "2021-07-17T13:06:18.808492Z"
    },
    "id": "4034c69e"
   },
   "outputs": [],
   "source": [
    "import time \n",
    "import torch.backends.cudnn as cudnn\n",
    "import torch.optim\n",
    "import torch.utils.data\n",
    "import torchvision.transforms as transforms\n",
    "from torch import nn\n",
    "from torch.nn.utils.rnn import pack_padded_sequence\n",
    "from models import Encoder, DecoderWithAttention\n",
    "from dataset import *\n",
    "from utils import *\n",
    "from train import *\n",
    "from torch.utils.tensorboard import SummaryWriter\n",
    "from os import path as osp"
   ]
  },
  {
   "cell_type": "code",
   "execution_count": 3,
   "metadata": {},
   "outputs": [
    {
     "name": "stderr",
     "output_type": "stream",
     "text": [
      "[2021-09-28 23:38:17,088 - farasapy_logger - WARNING]: Be careful with large lines as they may break on interactive mode. You may switch to Standalone mode for such cases.\n"
     ]
    }
   ],
   "source": [
    "from arabert.preprocess import ArabertPreprocessor\n",
    "import pyarabic.araby as araby\n",
    "\n",
    "\n",
    "model_name = \"aubmindlab/bert-base-arabertv2\"\n",
    "arabert_prep = ArabertPreprocessor(model_name=model_name)"
   ]
  },
  {
   "cell_type": "markdown",
   "metadata": {},
   "source": [
    "# Model with Arabert Preprocessing to old processing"
   ]
  },
  {
   "cell_type": "code",
   "execution_count": 4,
   "metadata": {
    "execution": {
     "iopub.execute_input": "2021-07-17T13:07:02.652391Z",
     "iopub.status.busy": "2021-07-17T13:07:02.652020Z",
     "iopub.status.idle": "2021-07-17T13:07:02.698928Z",
     "shell.execute_reply": "2021-07-17T13:07:02.697758Z",
     "shell.execute_reply.started": "2021-07-17T13:07:02.652357Z"
    },
    "id": "d7a302e3"
   },
   "outputs": [],
   "source": [
    "DATA_JSON_PATH = 'sm_ar_data.json'\n",
    "IMGS_PATH = 'images_200/'\n",
    "DATA_NAME = 'TESTING'"
   ]
  },
  {
   "cell_type": "code",
   "execution_count": 5,
   "metadata": {
    "execution": {
     "iopub.execute_input": "2021-07-17T13:07:07.551421Z",
     "iopub.status.busy": "2021-07-17T13:07:07.551059Z",
     "iopub.status.idle": "2021-07-17T13:07:08.027838Z",
     "shell.execute_reply": "2021-07-17T13:07:08.026347Z",
     "shell.execute_reply.started": "2021-07-17T13:07:07.551388Z"
    },
    "id": "a4b1a677",
    "outputId": "9356268d-4297-4f43-c44e-3aef77004680"
   },
   "outputs": [
    {
     "name": "stderr",
     "output_type": "stream",
     "text": [
      "100%|██████████| 24000/24000 [00:00<00:00, 290055.83it/s]\n"
     ]
    },
    {
     "data": {
      "text/plain": [
       "3309"
      ]
     },
     "execution_count": 5,
     "metadata": {},
     "output_type": "execute_result"
    }
   ],
   "source": [
    "max_seq = 65\n",
    "vocab = build_vocab('data/ar_data.json', max_seq=max_seq)\n",
    "vocab_len = len(vocab); vocab_len"
   ]
  },
  {
   "cell_type": "code",
   "execution_count": 6,
   "metadata": {
    "execution": {
     "iopub.execute_input": "2021-07-17T13:07:28.390568Z",
     "iopub.status.busy": "2021-07-17T13:07:28.390150Z",
     "iopub.status.idle": "2021-07-17T13:07:28.442817Z",
     "shell.execute_reply": "2021-07-17T13:07:28.441335Z",
     "shell.execute_reply.started": "2021-07-17T13:07:28.390526Z"
    },
    "id": "ff6df2d0",
    "outputId": "dcf14d12-9a82-49ef-b74b-66b728e23823"
   },
   "outputs": [
    {
     "name": "stdout",
     "output_type": "stream",
     "text": [
      "[0, 1, 2, 3, 4, 5, 6, 7, 8, 9]\n",
      "['<pad>', '<sos>', '<eos>', '<unk>', '+', 'ة', 'طفل', 'صغير', 'تتسلق', 'إلى']\n"
     ]
    }
   ],
   "source": [
    "print(list(vocab.itos.keys())[:10]) \n",
    "print(list(vocab.itos.values())[:10])"
   ]
  },
  {
   "cell_type": "code",
   "execution_count": 7,
   "metadata": {
    "execution": {
     "iopub.execute_input": "2021-07-17T14:31:30.992363Z",
     "iopub.status.busy": "2021-07-17T14:31:30.991995Z",
     "iopub.status.idle": "2021-07-17T14:31:31.341563Z",
     "shell.execute_reply": "2021-07-17T14:31:31.340228Z",
     "shell.execute_reply.started": "2021-07-17T14:31:30.992328Z"
    },
    "id": "cgtlSQWzjNwz",
    "outputId": "9df0886b-4b65-4a7b-d4bc-36b41f0c9e49"
   },
   "outputs": [
    {
     "name": "stdout",
     "output_type": "stream",
     "text": [
      "Loaded Checkpoint!!\n",
      "Last Epoch: 17\n",
      "Best Bleu-4: 25.49970489970383\n"
     ]
    }
   ],
   "source": [
    "m = load_checkpoint(\"ar_models/BEST_checkpoint_flickr8k_ar_arabert_finetune.pth.tar\")"
   ]
  },
  {
   "cell_type": "code",
   "execution_count": 8,
   "metadata": {},
   "outputs": [],
   "source": [
    "encoder = m['encoder'].eval()\n",
    "decoder = m['decoder'].eval()"
   ]
  },
  {
   "cell_type": "code",
   "execution_count": 9,
   "metadata": {
    "execution": {
     "iopub.execute_input": "2021-07-17T15:07:27.757142Z",
     "iopub.status.busy": "2021-07-17T15:07:27.756791Z",
     "iopub.status.idle": "2021-07-17T15:21:46.839602Z",
     "shell.execute_reply": "2021-07-17T15:21:46.838395Z",
     "shell.execute_reply.started": "2021-07-17T15:07:27.757112Z"
    },
    "id": "reIYwZ6O6ncg",
    "outputId": "56059b76-ff0b-4176-eef8-67e938da89d4"
   },
   "outputs": [
    {
     "name": "stdout",
     "output_type": "stream",
     "text": [
      "Dataset split: test\n",
      "Unique images: 201\n",
      "Total size: 1005\n"
     ]
    },
    {
     "name": "stderr",
     "output_type": "stream",
     "text": [
      "EVALUATING AT BEAM SIZE 1:   0%|          | 0/201 [00:00<?, ?it/s]/home/kelwa/anaconda3/envs/yolo5/lib/python3.6/site-packages/torch/nn/functional.py:718: UserWarning: Named tensors and all their associated APIs are an experimental feature and subject to change. Please do not use them for anything important until they are released as stable. (Triggered internally at  /pytorch/c10/core/TensorImpl.h:1156.)\n",
      "  return torch.max_pool2d(input, kernel_size, stride, padding, dilation, ceil_mode)\n",
      "/home/kelwa/anaconda3/envs/yolo5/lib/python3.6/site-packages/torch/_tensor.py:575: UserWarning: floor_divide is deprecated, and will be removed in a future version of pytorch. It currently rounds toward 0 (like the 'trunc' function NOT 'floor'). This results in incorrect rounding for negative values.\n",
      "To keep the current behavior, use torch.div(a, b, rounding_mode='trunc'), or for actual floor division, use torch.div(a, b, rounding_mode='floor'). (Triggered internally at  /pytorch/aten/src/ATen/native/BinaryOps.cpp:467.)\n",
      "  return torch.floor_divide(self, other)\n",
      "EVALUATING AT BEAM SIZE 1: 100%|██████████| 201/201 [00:08<00:00, 24.05it/s]\n"
     ]
    },
    {
     "name": "stdout",
     "output_type": "stream",
     "text": [
      "----- Bleu-n Scores -----\n",
      "1: 57.318\n",
      "2: 44.160\n",
      "3: 31.607\n",
      "4: 22.547\n",
      "-------------------------\n",
      "Dataset split: test\n",
      "Unique images: 201\n",
      "Total size: 1005\n"
     ]
    },
    {
     "name": "stderr",
     "output_type": "stream",
     "text": [
      "EVALUATING AT BEAM SIZE 2: 100%|██████████| 201/201 [00:09<00:00, 20.35it/s]\n"
     ]
    },
    {
     "name": "stdout",
     "output_type": "stream",
     "text": [
      "----- Bleu-n Scores -----\n",
      "1: 57.529\n",
      "2: 45.336\n",
      "3: 33.089\n",
      "4: 24.017\n",
      "-------------------------\n",
      "Dataset split: test\n",
      "Unique images: 201\n",
      "Total size: 1005\n"
     ]
    },
    {
     "name": "stderr",
     "output_type": "stream",
     "text": [
      "EVALUATING AT BEAM SIZE 3: 100%|██████████| 201/201 [00:10<00:00, 19.63it/s]\n"
     ]
    },
    {
     "name": "stdout",
     "output_type": "stream",
     "text": [
      "----- Bleu-n Scores -----\n",
      "1: 59.589\n",
      "2: 47.828\n",
      "3: 35.584\n",
      "4: 26.296\n",
      "-------------------------\n",
      "Dataset split: test\n",
      "Unique images: 201\n",
      "Total size: 1005\n"
     ]
    },
    {
     "name": "stderr",
     "output_type": "stream",
     "text": [
      "EVALUATING AT BEAM SIZE 4: 100%|██████████| 201/201 [00:12<00:00, 16.50it/s]\n"
     ]
    },
    {
     "name": "stdout",
     "output_type": "stream",
     "text": [
      "----- Bleu-n Scores -----\n",
      "1: 60.308\n",
      "2: 48.322\n",
      "3: 35.485\n",
      "4: 26.241\n",
      "-------------------------\n",
      "Dataset split: test\n",
      "Unique images: 201\n",
      "Total size: 1005\n"
     ]
    },
    {
     "name": "stderr",
     "output_type": "stream",
     "text": [
      "EVALUATING AT BEAM SIZE 5: 100%|██████████| 201/201 [00:13<00:00, 14.42it/s]"
     ]
    },
    {
     "name": "stdout",
     "output_type": "stream",
     "text": [
      "----- Bleu-n Scores -----\n",
      "1: 59.506\n",
      "2: 47.864\n",
      "3: 35.466\n",
      "4: 26.170\n",
      "-------------------------\n"
     ]
    },
    {
     "name": "stderr",
     "output_type": "stream",
     "text": [
      "\n"
     ]
    }
   ],
   "source": [
    "from eval import test_score\n",
    "\n",
    "test_dict = {}\n",
    "\n",
    "for i in range(1, 6):\n",
    "    \n",
    "    b1, b2, b3, b4 = test_score(i, encoder, decoder, IMGS_PATH, DATA_JSON_PATH, vocab)\n",
    "    if i == 3:\n",
    "        test_dict['b1'] = b1\n",
    "        test_dict['b2'] = b2\n",
    "        test_dict['b3'] = b3\n",
    "    \n",
    "    test_dict[f'b4-b{i}'] = b4"
   ]
  },
  {
   "cell_type": "code",
   "execution_count": 10,
   "metadata": {},
   "outputs": [
    {
     "name": "stdout",
     "output_type": "stream",
     "text": [
      "Dataset split: test\n",
      "Unique images: 201\n",
      "Total size: 1005\n"
     ]
    },
    {
     "name": "stderr",
     "output_type": "stream",
     "text": [
      "EVALUATING AT BEAM SIZE 3: 100%|██████████| 201/201 [00:10<00:00, 18.80it/s]\n"
     ]
    },
    {
     "name": "stdout",
     "output_type": "stream",
     "text": [
      "----- Bleu-n Scores -----\n",
      "1: 59.589\n",
      "2: 47.828\n",
      "3: 35.584\n",
      "4: 26.296\n",
      "-------------------------\n"
     ]
    }
   ],
   "source": [
    "references, hypotheses = test_score(3, encoder, decoder, IMGS_PATH, DATA_JSON_PATH, vocab, return_results=True)"
   ]
  },
  {
   "cell_type": "code",
   "execution_count": 11,
   "metadata": {},
   "outputs": [],
   "source": [
    "references_ara_tokens = [[[vocab.itos[i] for i in refe] for refe in refes] for refes in references]\n",
    "hypotheses_ara_tokens = [[vocab.itos[i] for i in hypo] for hypo in hypotheses]"
   ]
  },
  {
   "cell_type": "code",
   "execution_count": 12,
   "metadata": {},
   "outputs": [],
   "source": [
    "references_sent_tokens = [[arabert_prep.unpreprocess(' '.join(w for w in i)) for i in refe] for refe in references_ara_tokens] \n",
    "hypotheses_sent_tokens = [arabert_prep.unpreprocess(' '.join(w for w in i)) for i in hypotheses_ara_tokens]"
   ]
  },
  {
   "cell_type": "code",
   "execution_count": 13,
   "metadata": {
    "scrolled": true
   },
   "outputs": [],
   "source": [
    "references_old_tokens = [[araby.tokenize(i)  for i in refe] for refe in references_sent_tokens] \n",
    "hypotheses_old_tokens = [araby.tokenize(i)  for i in hypotheses_sent_tokens]"
   ]
  },
  {
   "cell_type": "code",
   "execution_count": 14,
   "metadata": {},
   "outputs": [
    {
     "name": "stdout",
     "output_type": "stream",
     "text": [
      "----- Bleu-n Scores -----\n",
      "1: 20.850\n",
      "2: 11.913\n",
      "3: 5.706\n",
      "4: 2.834\n",
      "-------------------------\n"
     ]
    },
    {
     "data": {
      "text/plain": [
       "(20.85, 11.913, 5.706, 2.834)"
      ]
     },
     "execution_count": 14,
     "metadata": {},
     "output_type": "execute_result"
    }
   ],
   "source": [
    "print_scores(references_old_tokens, hypotheses_old_tokens)"
   ]
  },
  {
   "cell_type": "markdown",
   "metadata": {},
   "source": [
    "# Model with old preprocessing to Arabert "
   ]
  },
  {
   "cell_type": "code",
   "execution_count": 15,
   "metadata": {},
   "outputs": [],
   "source": [
    "DATA_JSON_PATH = 'sm_old_data.json'\n",
    "IMGS_PATH = 'images_200/'"
   ]
  },
  {
   "cell_type": "code",
   "execution_count": 16,
   "metadata": {},
   "outputs": [
    {
     "name": "stderr",
     "output_type": "stream",
     "text": [
      "100%|██████████| 24000/24000 [00:00<00:00, 392542.85it/s]\n"
     ]
    },
    {
     "data": {
      "text/plain": [
       "5788"
      ]
     },
     "execution_count": 16,
     "metadata": {},
     "output_type": "execute_result"
    }
   ],
   "source": [
    "max_seq = 30\n",
    "vocab = build_vocab('old_ar_data.json', max_seq=max_seq)\n",
    "vocab_len = len(vocab); vocab_len"
   ]
  },
  {
   "cell_type": "code",
   "execution_count": 17,
   "metadata": {},
   "outputs": [
    {
     "name": "stdout",
     "output_type": "stream",
     "text": [
      "[0, 1, 2, 3, 4, 5, 6, 7, 8, 9]\n",
      "['<pad>', '<sos>', '<eos>', '<unk>', 'طفلة', 'صغيرة', 'تتسلق', 'إلى', 'كلب', 'أسود']\n"
     ]
    }
   ],
   "source": [
    "print(list(vocab.itos.keys())[:10])\n",
    "print(list(vocab.itos.values())[:10])"
   ]
  },
  {
   "cell_type": "code",
   "execution_count": 18,
   "metadata": {},
   "outputs": [
    {
     "name": "stdout",
     "output_type": "stream",
     "text": [
      "Loaded Checkpoint!!\n",
      "Last Epoch: 19\n",
      "Best Bleu-4: 6.862300456763069\n"
     ]
    }
   ],
   "source": [
    "m = load_checkpoint(\"models/BEST_checkpoint_flickr8k_ar_finetune.pth.tar\")"
   ]
  },
  {
   "cell_type": "code",
   "execution_count": 19,
   "metadata": {},
   "outputs": [],
   "source": [
    "encoder = m['encoder'].eval()\n",
    "decoder = m['decoder'].eval()"
   ]
  },
  {
   "cell_type": "code",
   "execution_count": 20,
   "metadata": {
    "scrolled": false
   },
   "outputs": [
    {
     "name": "stdout",
     "output_type": "stream",
     "text": [
      "Dataset split: test\n",
      "Unique images: 201\n",
      "Total size: 1005\n"
     ]
    },
    {
     "name": "stderr",
     "output_type": "stream",
     "text": [
      "EVALUATING AT BEAM SIZE 1: 100%|██████████| 201/201 [00:05<00:00, 35.24it/s]\n"
     ]
    },
    {
     "name": "stdout",
     "output_type": "stream",
     "text": [
      "----- Bleu-n Scores -----\n",
      "1: 32.438\n",
      "2: 18.206\n",
      "3: 9.580\n",
      "4: 4.769\n",
      "-------------------------\n",
      "Dataset split: test\n",
      "Unique images: 201\n",
      "Total size: 1005\n"
     ]
    },
    {
     "name": "stderr",
     "output_type": "stream",
     "text": [
      "EVALUATING AT BEAM SIZE 2: 100%|██████████| 201/201 [00:06<00:00, 31.06it/s]\n"
     ]
    },
    {
     "name": "stdout",
     "output_type": "stream",
     "text": [
      "----- Bleu-n Scores -----\n",
      "1: 31.200\n",
      "2: 18.209\n",
      "3: 10.695\n",
      "4: 6.155\n",
      "-------------------------\n",
      "Dataset split: test\n",
      "Unique images: 201\n",
      "Total size: 1005\n"
     ]
    },
    {
     "name": "stderr",
     "output_type": "stream",
     "text": [
      "EVALUATING AT BEAM SIZE 3: 100%|██████████| 201/201 [00:06<00:00, 29.66it/s]\n"
     ]
    },
    {
     "name": "stdout",
     "output_type": "stream",
     "text": [
      "----- Bleu-n Scores -----\n",
      "1: 29.399\n",
      "2: 17.839\n",
      "3: 10.332\n",
      "4: 5.624\n",
      "-------------------------\n",
      "Dataset split: test\n",
      "Unique images: 201\n",
      "Total size: 1005\n"
     ]
    },
    {
     "name": "stderr",
     "output_type": "stream",
     "text": [
      "EVALUATING AT BEAM SIZE 4: 100%|██████████| 201/201 [00:08<00:00, 24.93it/s]\n"
     ]
    },
    {
     "name": "stdout",
     "output_type": "stream",
     "text": [
      "----- Bleu-n Scores -----\n",
      "1: 29.092\n",
      "2: 17.522\n",
      "3: 10.122\n",
      "4: 5.572\n",
      "-------------------------\n",
      "Dataset split: test\n",
      "Unique images: 201\n",
      "Total size: 1005\n"
     ]
    },
    {
     "name": "stderr",
     "output_type": "stream",
     "text": [
      "EVALUATING AT BEAM SIZE 5: 100%|██████████| 201/201 [00:08<00:00, 23.89it/s]\n"
     ]
    },
    {
     "name": "stdout",
     "output_type": "stream",
     "text": [
      "----- Bleu-n Scores -----\n",
      "1: 29.474\n",
      "2: 18.720\n",
      "3: 11.352\n",
      "4: 6.647\n",
      "-------------------------\n",
      "Dataset split: test\n",
      "Unique images: 201\n",
      "Total size: 1005\n"
     ]
    },
    {
     "name": "stderr",
     "output_type": "stream",
     "text": [
      "EVALUATING AT BEAM SIZE 6: 100%|██████████| 201/201 [00:08<00:00, 23.80it/s]\n"
     ]
    },
    {
     "name": "stdout",
     "output_type": "stream",
     "text": [
      "----- Bleu-n Scores -----\n",
      "1: 30.284\n",
      "2: 19.220\n",
      "3: 11.792\n",
      "4: 6.848\n",
      "-------------------------\n",
      "Dataset split: test\n",
      "Unique images: 201\n",
      "Total size: 1005\n"
     ]
    },
    {
     "name": "stderr",
     "output_type": "stream",
     "text": [
      "EVALUATING AT BEAM SIZE 7: 100%|██████████| 201/201 [00:09<00:00, 22.33it/s]\n"
     ]
    },
    {
     "name": "stdout",
     "output_type": "stream",
     "text": [
      "----- Bleu-n Scores -----\n",
      "1: 28.765\n",
      "2: 18.126\n",
      "3: 11.146\n",
      "4: 6.598\n",
      "-------------------------\n",
      "Dataset split: test\n",
      "Unique images: 201\n",
      "Total size: 1005\n"
     ]
    },
    {
     "name": "stderr",
     "output_type": "stream",
     "text": [
      "EVALUATING AT BEAM SIZE 8: 100%|██████████| 201/201 [00:09<00:00, 20.75it/s]\n"
     ]
    },
    {
     "name": "stdout",
     "output_type": "stream",
     "text": [
      "----- Bleu-n Scores -----\n",
      "1: 27.838\n",
      "2: 17.593\n",
      "3: 10.837\n",
      "4: 6.478\n",
      "-------------------------\n",
      "Dataset split: test\n",
      "Unique images: 201\n",
      "Total size: 1005\n"
     ]
    },
    {
     "name": "stderr",
     "output_type": "stream",
     "text": [
      "EVALUATING AT BEAM SIZE 9: 100%|██████████| 201/201 [00:10<00:00, 20.03it/s]\n"
     ]
    },
    {
     "name": "stdout",
     "output_type": "stream",
     "text": [
      "----- Bleu-n Scores -----\n",
      "1: 26.872\n",
      "2: 16.970\n",
      "3: 10.359\n",
      "4: 6.029\n",
      "-------------------------\n"
     ]
    }
   ],
   "source": [
    "from eval import test_score\n",
    "\n",
    "for i in range(1, 10):\n",
    "    b1, b2, b3, b4 = test_score(i, encoder, decoder, IMGS_PATH, DATA_JSON_PATH, vocab)"
   ]
  },
  {
   "cell_type": "code",
   "execution_count": 21,
   "metadata": {},
   "outputs": [
    {
     "name": "stdout",
     "output_type": "stream",
     "text": [
      "Dataset split: test\n",
      "Unique images: 201\n",
      "Total size: 1005\n"
     ]
    },
    {
     "name": "stderr",
     "output_type": "stream",
     "text": [
      "EVALUATING AT BEAM SIZE 6: 100%|██████████| 201/201 [00:08<00:00, 24.15it/s]\n"
     ]
    },
    {
     "name": "stdout",
     "output_type": "stream",
     "text": [
      "----- Bleu-n Scores -----\n",
      "1: 30.284\n",
      "2: 19.220\n",
      "3: 11.792\n",
      "4: 6.848\n",
      "-------------------------\n"
     ]
    }
   ],
   "source": [
    "references, hypotheses = test_score(6, encoder, decoder, IMGS_PATH, DATA_JSON_PATH, vocab, return_results=True)"
   ]
  },
  {
   "cell_type": "code",
   "execution_count": 22,
   "metadata": {},
   "outputs": [],
   "source": [
    "references_old_tokens = [[[vocab.itos[i] for i in refe] for refe in refes] for refes in references]\n",
    "hypotheses_old_tokens = [[vocab.itos[i] for i in hypo] for hypo in hypotheses]"
   ]
  },
  {
   "cell_type": "code",
   "execution_count": 23,
   "metadata": {},
   "outputs": [],
   "source": [
    "hypotheses_ara_tokens = [araby.tokenize(arabert_prep.preprocess(\" \".join(i))) for i in hypotheses_old_tokens]\n",
    "references_ara_tokens = [[araby.tokenize(arabert_prep.preprocess(\" \".join(i))) for i in ref] for ref in references_old_tokens]"
   ]
  },
  {
   "cell_type": "code",
   "execution_count": 24,
   "metadata": {},
   "outputs": [
    {
     "name": "stdout",
     "output_type": "stream",
     "text": [
      "----- Bleu-n Scores -----\n",
      "1: 52.961\n",
      "2: 43.629\n",
      "3: 35.132\n",
      "4: 28.185\n",
      "-------------------------\n"
     ]
    },
    {
     "data": {
      "text/plain": [
       "(52.961, 43.629, 35.132, 28.185)"
      ]
     },
     "execution_count": 24,
     "metadata": {},
     "output_type": "execute_result"
    }
   ],
   "source": [
    "print_scores(references_ara_tokens, hypotheses_ara_tokens)"
   ]
  },
  {
   "cell_type": "markdown",
   "metadata": {},
   "source": [
    "# Saving Predictions info\n",
    "- Ground Truth Captions [separete df]\n",
    "- Araby Catpions and Arabert captions with their number of tokens (print the number of words later)"
   ]
  },
  {
   "cell_type": "code",
   "execution_count": 25,
   "metadata": {},
   "outputs": [
    {
     "data": {
      "text/html": [
       "<div>\n",
       "<style scoped>\n",
       "    .dataframe tbody tr th:only-of-type {\n",
       "        vertical-align: middle;\n",
       "    }\n",
       "\n",
       "    .dataframe tbody tr th {\n",
       "        vertical-align: top;\n",
       "    }\n",
       "\n",
       "    .dataframe thead th {\n",
       "        text-align: right;\n",
       "    }\n",
       "</style>\n",
       "<table border=\"1\" class=\"dataframe\">\n",
       "  <thead>\n",
       "    <tr style=\"text-align: right;\">\n",
       "      <th></th>\n",
       "      <th>caption</th>\n",
       "      <th>file_name</th>\n",
       "    </tr>\n",
       "  </thead>\n",
       "  <tbody>\n",
       "    <tr>\n",
       "      <th>0</th>\n",
       "      <td>الناس يعبرون الشارع في بلدة صينية مزدحمة.</td>\n",
       "      <td>000000064183.jpg</td>\n",
       "    </tr>\n",
       "    <tr>\n",
       "      <th>1</th>\n",
       "      <td>شخص يحمل مظلة صفراء يمشي بالقرب من الرصيف.</td>\n",
       "      <td>000000064183.jpg</td>\n",
       "    </tr>\n",
       "    <tr>\n",
       "      <th>2</th>\n",
       "      <td>شخص في الشارع  يجر عربة تسوق  ويحمل مظلة.</td>\n",
       "      <td>000000064183.jpg</td>\n",
       "    </tr>\n",
       "    <tr>\n",
       "      <th>3</th>\n",
       "      <td>امرأة في شارع مزدحم مع عربة تسوق ومظلة.</td>\n",
       "      <td>000000064183.jpg</td>\n",
       "    </tr>\n",
       "    <tr>\n",
       "      <th>4</th>\n",
       "      <td>أشخاص يسيرون وسيارات تسير في شارع بجوار متاجر</td>\n",
       "      <td>000000064183.jpg</td>\n",
       "    </tr>\n",
       "  </tbody>\n",
       "</table>\n",
       "</div>"
      ],
      "text/plain": [
       "                                         caption         file_name\n",
       "0      الناس يعبرون الشارع في بلدة صينية مزدحمة.  000000064183.jpg\n",
       "1     شخص يحمل مظلة صفراء يمشي بالقرب من الرصيف.  000000064183.jpg\n",
       "2      شخص في الشارع  يجر عربة تسوق  ويحمل مظلة.  000000064183.jpg\n",
       "3        امرأة في شارع مزدحم مع عربة تسوق ومظلة.  000000064183.jpg\n",
       "4  أشخاص يسيرون وسيارات تسير في شارع بجوار متاجر  000000064183.jpg"
      ]
     },
     "execution_count": 25,
     "metadata": {},
     "output_type": "execute_result"
    }
   ],
   "source": [
    "import pandas as pd \n",
    "df = pd.read_json('sm_ar_data.json')\n",
    "ground_truth = df[df['split'] == 'test'].drop(['split', 'tokens', 'tok_len'], axis=1)\n",
    "ground_truth.head()"
   ]
  },
  {
   "cell_type": "code",
   "execution_count": 26,
   "metadata": {},
   "outputs": [
    {
     "data": {
      "text/plain": [
       "(1005, 2)"
      ]
     },
     "execution_count": 26,
     "metadata": {},
     "output_type": "execute_result"
    }
   ],
   "source": [
    "ground_truth.shape"
   ]
  },
  {
   "cell_type": "markdown",
   "metadata": {},
   "source": [
    "## Old Predictions "
   ]
  },
  {
   "cell_type": "code",
   "execution_count": 27,
   "metadata": {},
   "outputs": [],
   "source": [
    "from torch.utils.data import DataLoader\n",
    "import torchvision.transforms as transforms\n",
    "from caption import CaptionDataset, caption_image\n",
    "from utils import load_checkpoint, print_scores\n",
    "from dataset import build_vocab\n",
    "import pandas as pd\n",
    "from tqdm import tqdm"
   ]
  },
  {
   "cell_type": "code",
   "execution_count": 28,
   "metadata": {},
   "outputs": [],
   "source": [
    "model_path = 'models/BEST_checkpoint_flickr8k_ar_finetune.pth.tar'\n",
    "IMGS_PATH = 'images_200/'\n",
    "DATA_JSON_PATH = 'sm_old_data.json'"
   ]
  },
  {
   "cell_type": "code",
   "execution_count": 29,
   "metadata": {},
   "outputs": [
    {
     "name": "stderr",
     "output_type": "stream",
     "text": [
      "100%|██████████| 24000/24000 [00:00<00:00, 384021.97it/s]\n"
     ]
    },
    {
     "name": "stdout",
     "output_type": "stream",
     "text": [
      "len: 5788\n",
      "Dataset split: test\n",
      "Unique images: 201\n",
      "Total size: 1005\n",
      "--------------------\n",
      "Loaded Checkpoint!!\n",
      "Last Epoch: 19\n",
      "Best Bleu-4: 6.862300456763069\n"
     ]
    }
   ],
   "source": [
    "vocab = build_vocab('old_ar_data.json')\n",
    "print('len:',len(vocab))\n",
    "\n",
    "transform = transforms.Compose([\n",
    "    transforms.Resize(256),\n",
    "    transforms.CenterCrop(224),\n",
    "    transforms.ToTensor(),\n",
    "    transforms.Normalize(mean=[0.485, 0.456, 0.406], std=[0.229, 0.224, 0.225]),\n",
    "])\n",
    "\n",
    "\n",
    "bs = 1\n",
    "loader = DataLoader(\n",
    "            dataset=CaptionDataset(IMGS_PATH, DATA_JSON_PATH,\n",
    "                                    transforms=transform, vocab=vocab, split='test'),\n",
    "            batch_size=bs,\n",
    "            num_workers=7,\n",
    "            pin_memory=True\n",
    "        )\n",
    "\n",
    "print('-'*20)\n",
    "checkpoint = load_checkpoint(model_path)\n",
    "encoder = checkpoint['encoder'].eval()\n",
    "decoder = checkpoint['decoder'].eval()"
   ]
  },
  {
   "cell_type": "code",
   "execution_count": 30,
   "metadata": {},
   "outputs": [
    {
     "name": "stderr",
     "output_type": "stream",
     "text": [
      "EVALUATING AT BEAM SIZE 6: 100%|██████████| 201/201 [00:08<00:00, 23.70it/s]"
     ]
    },
    {
     "name": "stdout",
     "output_type": "stream",
     "text": [
      "Number of NO COMPLETED:  0\n"
     ]
    },
    {
     "name": "stderr",
     "output_type": "stream",
     "text": [
      "\n"
     ]
    }
   ],
   "source": [
    "references, hypothesis, img_ids = caption_image(loader, vocab, encoder,\n",
    "                                               decoder, 6)"
   ]
  },
  {
   "cell_type": "code",
   "execution_count": 31,
   "metadata": {},
   "outputs": [],
   "source": [
    "hypotheses_tokens = [[vocab.itos[i] for i in hypo] for hypo in hypothesis]"
   ]
  },
  {
   "cell_type": "code",
   "execution_count": 32,
   "metadata": {},
   "outputs": [
    {
     "data": {
      "text/html": [
       "<div>\n",
       "<style scoped>\n",
       "    .dataframe tbody tr th:only-of-type {\n",
       "        vertical-align: middle;\n",
       "    }\n",
       "\n",
       "    .dataframe tbody tr th {\n",
       "        vertical-align: top;\n",
       "    }\n",
       "\n",
       "    .dataframe thead th {\n",
       "        text-align: right;\n",
       "    }\n",
       "</style>\n",
       "<table border=\"1\" class=\"dataframe\">\n",
       "  <thead>\n",
       "    <tr style=\"text-align: right;\">\n",
       "      <th></th>\n",
       "      <th>file_name</th>\n",
       "      <th>old_hypotheses</th>\n",
       "    </tr>\n",
       "  </thead>\n",
       "  <tbody>\n",
       "    <tr>\n",
       "      <th>0</th>\n",
       "      <td>000000064183.jpg</td>\n",
       "      <td>[رجل, يرتدي, سترة, صفراء]</td>\n",
       "    </tr>\n",
       "    <tr>\n",
       "      <th>1</th>\n",
       "      <td>000000065288.jpg</td>\n",
       "      <td>[اثنين, من, الكلاب, يلعبون, في, الثلج]</td>\n",
       "    </tr>\n",
       "    <tr>\n",
       "      <th>2</th>\n",
       "      <td>000000144000.jpg</td>\n",
       "      <td>[مجموعة, من, الناس, يلعبون, كرة, القدم]</td>\n",
       "    </tr>\n",
       "    <tr>\n",
       "      <th>3</th>\n",
       "      <td>000000323789.jpg</td>\n",
       "      <td>[رجل, يجلس, على, مقعد]</td>\n",
       "    </tr>\n",
       "    <tr>\n",
       "      <th>4</th>\n",
       "      <td>000000416098.jpg</td>\n",
       "      <td>[رجل, يركب, دراجة, هوائية]</td>\n",
       "    </tr>\n",
       "  </tbody>\n",
       "</table>\n",
       "</div>"
      ],
      "text/plain": [
       "          file_name                           old_hypotheses\n",
       "0  000000064183.jpg                [رجل, يرتدي, سترة, صفراء]\n",
       "1  000000065288.jpg   [اثنين, من, الكلاب, يلعبون, في, الثلج]\n",
       "2  000000144000.jpg  [مجموعة, من, الناس, يلعبون, كرة, القدم]\n",
       "3  000000323789.jpg                   [رجل, يجلس, على, مقعد]\n",
       "4  000000416098.jpg               [رجل, يركب, دراجة, هوائية]"
      ]
     },
     "execution_count": 32,
     "metadata": {},
     "output_type": "execute_result"
    }
   ],
   "source": [
    "df = pd.DataFrame.from_dict({\"file_name\":img_ids, \"old_hypotheses\": hypotheses_tokens})\n",
    "df.head()"
   ]
  },
  {
   "cell_type": "code",
   "execution_count": 33,
   "metadata": {},
   "outputs": [
    {
     "data": {
      "text/html": [
       "<div>\n",
       "<style scoped>\n",
       "    .dataframe tbody tr th:only-of-type {\n",
       "        vertical-align: middle;\n",
       "    }\n",
       "\n",
       "    .dataframe tbody tr th {\n",
       "        vertical-align: top;\n",
       "    }\n",
       "\n",
       "    .dataframe thead th {\n",
       "        text-align: right;\n",
       "    }\n",
       "</style>\n",
       "<table border=\"1\" class=\"dataframe\">\n",
       "  <thead>\n",
       "    <tr style=\"text-align: right;\">\n",
       "      <th></th>\n",
       "      <th>file_name</th>\n",
       "      <th>old_hypotheses</th>\n",
       "      <th>old_tok_len</th>\n",
       "    </tr>\n",
       "  </thead>\n",
       "  <tbody>\n",
       "    <tr>\n",
       "      <th>0</th>\n",
       "      <td>000000064183.jpg</td>\n",
       "      <td>[رجل, يرتدي, سترة, صفراء]</td>\n",
       "      <td>4</td>\n",
       "    </tr>\n",
       "    <tr>\n",
       "      <th>1</th>\n",
       "      <td>000000065288.jpg</td>\n",
       "      <td>[اثنين, من, الكلاب, يلعبون, في, الثلج]</td>\n",
       "      <td>6</td>\n",
       "    </tr>\n",
       "    <tr>\n",
       "      <th>2</th>\n",
       "      <td>000000144000.jpg</td>\n",
       "      <td>[مجموعة, من, الناس, يلعبون, كرة, القدم]</td>\n",
       "      <td>6</td>\n",
       "    </tr>\n",
       "    <tr>\n",
       "      <th>3</th>\n",
       "      <td>000000323789.jpg</td>\n",
       "      <td>[رجل, يجلس, على, مقعد]</td>\n",
       "      <td>4</td>\n",
       "    </tr>\n",
       "    <tr>\n",
       "      <th>4</th>\n",
       "      <td>000000416098.jpg</td>\n",
       "      <td>[رجل, يركب, دراجة, هوائية]</td>\n",
       "      <td>4</td>\n",
       "    </tr>\n",
       "  </tbody>\n",
       "</table>\n",
       "</div>"
      ],
      "text/plain": [
       "          file_name                           old_hypotheses  old_tok_len\n",
       "0  000000064183.jpg                [رجل, يرتدي, سترة, صفراء]            4\n",
       "1  000000065288.jpg   [اثنين, من, الكلاب, يلعبون, في, الثلج]            6\n",
       "2  000000144000.jpg  [مجموعة, من, الناس, يلعبون, كرة, القدم]            6\n",
       "3  000000323789.jpg                   [رجل, يجلس, على, مقعد]            4\n",
       "4  000000416098.jpg               [رجل, يركب, دراجة, هوائية]            4"
      ]
     },
     "execution_count": 33,
     "metadata": {},
     "output_type": "execute_result"
    }
   ],
   "source": [
    "df['old_tok_len'] = df['old_hypotheses'].apply(lambda x: len(x)).values\n",
    "df.head()"
   ]
  },
  {
   "cell_type": "markdown",
   "metadata": {},
   "source": [
    "### Arabert Predictions "
   ]
  },
  {
   "cell_type": "code",
   "execution_count": 34,
   "metadata": {},
   "outputs": [],
   "source": [
    "model_path = 'ar_models/BEST_checkpoint_flickr8k_ar_arabert_pretrained_finetune.pth.tar'\n",
    "IMGS_PATH = 'images_200/'\n",
    "DATA_JSON_PATH = 'sm_ar_data.json'"
   ]
  },
  {
   "cell_type": "code",
   "execution_count": 35,
   "metadata": {},
   "outputs": [
    {
     "name": "stderr",
     "output_type": "stream",
     "text": [
      "100%|██████████| 24000/24000 [00:00<00:00, 240327.40it/s]\n"
     ]
    },
    {
     "name": "stdout",
     "output_type": "stream",
     "text": [
      "len: 3309\n",
      "Dataset split: test\n",
      "Unique images: 201\n",
      "Total size: 1005\n",
      "--------------------\n",
      "Loaded Checkpoint!!\n",
      "Last Epoch: 9\n",
      "Best Bleu-4: 24.949378413361714\n"
     ]
    }
   ],
   "source": [
    "vocab = build_vocab('data/ar_data.json')\n",
    "print('len:',len(vocab))\n",
    "\n",
    "transform = transforms.Compose([\n",
    "    transforms.Resize(256),\n",
    "    transforms.CenterCrop(224),\n",
    "    transforms.ToTensor(),\n",
    "    transforms.Normalize(mean=[0.485, 0.456, 0.406], std=[0.229, 0.224, 0.225]),\n",
    "])\n",
    "\n",
    "\n",
    "bs = 1\n",
    "loader = DataLoader(\n",
    "            dataset=CaptionDataset(IMGS_PATH, DATA_JSON_PATH,\n",
    "                                    transforms=transform, vocab=vocab, split='test'),\n",
    "            batch_size=bs,\n",
    "            num_workers=7,\n",
    "            pin_memory=True\n",
    "        )\n",
    "\n",
    "print('-'*20)\n",
    "checkpoint = load_checkpoint(model_path)\n",
    "encoder = checkpoint['encoder'].eval()\n",
    "decoder = checkpoint['decoder'].eval()"
   ]
  },
  {
   "cell_type": "code",
   "execution_count": 36,
   "metadata": {},
   "outputs": [
    {
     "name": "stderr",
     "output_type": "stream",
     "text": [
      "EVALUATING AT BEAM SIZE 3: 100%|██████████| 201/201 [00:10<00:00, 19.45it/s]"
     ]
    },
    {
     "name": "stdout",
     "output_type": "stream",
     "text": [
      "Number of NO COMPLETED:  3\n"
     ]
    },
    {
     "name": "stderr",
     "output_type": "stream",
     "text": [
      "\n"
     ]
    }
   ],
   "source": [
    "references, hypothesis, img_ids = caption_image(loader, vocab, encoder,\n",
    "                                               decoder, 3)\n",
    "hypotheses_tokens = [[vocab.itos[i] for i in hypo] for hypo in hypothesis]"
   ]
  },
  {
   "cell_type": "code",
   "execution_count": 37,
   "metadata": {},
   "outputs": [
    {
     "data": {
      "text/html": [
       "<div>\n",
       "<style scoped>\n",
       "    .dataframe tbody tr th:only-of-type {\n",
       "        vertical-align: middle;\n",
       "    }\n",
       "\n",
       "    .dataframe tbody tr th {\n",
       "        vertical-align: top;\n",
       "    }\n",
       "\n",
       "    .dataframe thead th {\n",
       "        text-align: right;\n",
       "    }\n",
       "</style>\n",
       "<table border=\"1\" class=\"dataframe\">\n",
       "  <thead>\n",
       "    <tr style=\"text-align: right;\">\n",
       "      <th></th>\n",
       "      <th>file_name</th>\n",
       "      <th>hypotheses</th>\n",
       "    </tr>\n",
       "  </thead>\n",
       "  <tbody>\n",
       "    <tr>\n",
       "      <th>0</th>\n",
       "      <td>000000064183.jpg</td>\n",
       "      <td>[امرأ, +, ة, في, ال, +, شارع]</td>\n",
       "    </tr>\n",
       "    <tr>\n",
       "      <th>1</th>\n",
       "      <td>000000065288.jpg</td>\n",
       "      <td>[كلب, يقفز, في, ال, +, هواء]</td>\n",
       "    </tr>\n",
       "    <tr>\n",
       "      <th>2</th>\n",
       "      <td>000000144000.jpg</td>\n",
       "      <td>[مجموع, +, ة, من, ال, +, ناس, في, ال, +, شارع]</td>\n",
       "    </tr>\n",
       "    <tr>\n",
       "      <th>3</th>\n",
       "      <td>000000323789.jpg</td>\n",
       "      <td>[صبي, صغير, يرتدي, قميص, +, ا, أحمر, و, +, ال,...</td>\n",
       "    </tr>\n",
       "    <tr>\n",
       "      <th>4</th>\n",
       "      <td>000000416098.jpg</td>\n",
       "      <td>[رجل, يركب, دراج, +, ة, في, ال, +, هواء]</td>\n",
       "    </tr>\n",
       "  </tbody>\n",
       "</table>\n",
       "</div>"
      ],
      "text/plain": [
       "          file_name                                         hypotheses\n",
       "0  000000064183.jpg                      [امرأ, +, ة, في, ال, +, شارع]\n",
       "1  000000065288.jpg                       [كلب, يقفز, في, ال, +, هواء]\n",
       "2  000000144000.jpg     [مجموع, +, ة, من, ال, +, ناس, في, ال, +, شارع]\n",
       "3  000000323789.jpg  [صبي, صغير, يرتدي, قميص, +, ا, أحمر, و, +, ال,...\n",
       "4  000000416098.jpg           [رجل, يركب, دراج, +, ة, في, ال, +, هواء]"
      ]
     },
     "execution_count": 37,
     "metadata": {},
     "output_type": "execute_result"
    }
   ],
   "source": [
    "rest_df = pd.DataFrame.from_dict({\"file_name\":img_ids, \"hypotheses\": hypotheses_tokens})\n",
    "rest_df.head()"
   ]
  },
  {
   "cell_type": "code",
   "execution_count": 38,
   "metadata": {},
   "outputs": [
    {
     "data": {
      "text/html": [
       "<div>\n",
       "<style scoped>\n",
       "    .dataframe tbody tr th:only-of-type {\n",
       "        vertical-align: middle;\n",
       "    }\n",
       "\n",
       "    .dataframe tbody tr th {\n",
       "        vertical-align: top;\n",
       "    }\n",
       "\n",
       "    .dataframe thead th {\n",
       "        text-align: right;\n",
       "    }\n",
       "</style>\n",
       "<table border=\"1\" class=\"dataframe\">\n",
       "  <thead>\n",
       "    <tr style=\"text-align: right;\">\n",
       "      <th></th>\n",
       "      <th>file_name</th>\n",
       "      <th>hypotheses</th>\n",
       "      <th>tok_len</th>\n",
       "    </tr>\n",
       "  </thead>\n",
       "  <tbody>\n",
       "    <tr>\n",
       "      <th>0</th>\n",
       "      <td>000000064183.jpg</td>\n",
       "      <td>[امرأ, +, ة, في, ال, +, شارع]</td>\n",
       "      <td>7</td>\n",
       "    </tr>\n",
       "    <tr>\n",
       "      <th>1</th>\n",
       "      <td>000000065288.jpg</td>\n",
       "      <td>[كلب, يقفز, في, ال, +, هواء]</td>\n",
       "      <td>6</td>\n",
       "    </tr>\n",
       "    <tr>\n",
       "      <th>2</th>\n",
       "      <td>000000144000.jpg</td>\n",
       "      <td>[مجموع, +, ة, من, ال, +, ناس, في, ال, +, شارع]</td>\n",
       "      <td>11</td>\n",
       "    </tr>\n",
       "    <tr>\n",
       "      <th>3</th>\n",
       "      <td>000000323789.jpg</td>\n",
       "      <td>[صبي, صغير, يرتدي, قميص, +, ا, أحمر, و, +, ال,...</td>\n",
       "      <td>39</td>\n",
       "    </tr>\n",
       "    <tr>\n",
       "      <th>4</th>\n",
       "      <td>000000416098.jpg</td>\n",
       "      <td>[رجل, يركب, دراج, +, ة, في, ال, +, هواء]</td>\n",
       "      <td>9</td>\n",
       "    </tr>\n",
       "  </tbody>\n",
       "</table>\n",
       "</div>"
      ],
      "text/plain": [
       "          file_name                                         hypotheses  \\\n",
       "0  000000064183.jpg                      [امرأ, +, ة, في, ال, +, شارع]   \n",
       "1  000000065288.jpg                       [كلب, يقفز, في, ال, +, هواء]   \n",
       "2  000000144000.jpg     [مجموع, +, ة, من, ال, +, ناس, في, ال, +, شارع]   \n",
       "3  000000323789.jpg  [صبي, صغير, يرتدي, قميص, +, ا, أحمر, و, +, ال,...   \n",
       "4  000000416098.jpg           [رجل, يركب, دراج, +, ة, في, ال, +, هواء]   \n",
       "\n",
       "   tok_len  \n",
       "0        7  \n",
       "1        6  \n",
       "2       11  \n",
       "3       39  \n",
       "4        9  "
      ]
     },
     "execution_count": 38,
     "metadata": {},
     "output_type": "execute_result"
    }
   ],
   "source": [
    "rest_df['tok_len'] = rest_df['hypotheses'].apply(lambda x: len(x)).values\n",
    "rest_df.head()"
   ]
  },
  {
   "cell_type": "code",
   "execution_count": 39,
   "metadata": {},
   "outputs": [
    {
     "data": {
      "text/plain": [
       "198"
      ]
     },
     "execution_count": 39,
     "metadata": {},
     "output_type": "execute_result"
    }
   ],
   "source": [
    "rest_df['file_name'].nunique()"
   ]
  },
  {
   "cell_type": "code",
   "execution_count": 40,
   "metadata": {},
   "outputs": [
    {
     "name": "stdout",
     "output_type": "stream",
     "text": [
      "(198, 5)\n"
     ]
    },
    {
     "data": {
      "text/html": [
       "<div>\n",
       "<style scoped>\n",
       "    .dataframe tbody tr th:only-of-type {\n",
       "        vertical-align: middle;\n",
       "    }\n",
       "\n",
       "    .dataframe tbody tr th {\n",
       "        vertical-align: top;\n",
       "    }\n",
       "\n",
       "    .dataframe thead th {\n",
       "        text-align: right;\n",
       "    }\n",
       "</style>\n",
       "<table border=\"1\" class=\"dataframe\">\n",
       "  <thead>\n",
       "    <tr style=\"text-align: right;\">\n",
       "      <th></th>\n",
       "      <th>file_name</th>\n",
       "      <th>old_hypotheses</th>\n",
       "      <th>old_tok_len</th>\n",
       "      <th>hypotheses</th>\n",
       "      <th>tok_len</th>\n",
       "    </tr>\n",
       "  </thead>\n",
       "  <tbody>\n",
       "    <tr>\n",
       "      <th>78</th>\n",
       "      <td>000000231034.jpg</td>\n",
       "      <td>[رجل, يجلس, على, مقعد]</td>\n",
       "      <td>4</td>\n",
       "      <td>[امرأ, +, ة, صغير, +, ة, صغير, +, ة, في, ال, +...</td>\n",
       "      <td>13</td>\n",
       "    </tr>\n",
       "    <tr>\n",
       "      <th>196</th>\n",
       "      <td>000000580172.jpg</td>\n",
       "      <td>[رجل, في, قميص, أصفر]</td>\n",
       "      <td>4</td>\n",
       "      <td>[ال, +, كلب, ال, +, بني, و, +, ال, +, أسود, و,...</td>\n",
       "      <td>21</td>\n",
       "    </tr>\n",
       "    <tr>\n",
       "      <th>87</th>\n",
       "      <td>000000176029.jpg</td>\n",
       "      <td>[سيارة, سباق, &lt;unk&gt;]</td>\n",
       "      <td>3</td>\n",
       "      <td>[سيار, +, ة, من, ال, +, ناس, في, ال, +, شارع]</td>\n",
       "      <td>11</td>\n",
       "    </tr>\n",
       "    <tr>\n",
       "      <th>111</th>\n",
       "      <td>000000021993.jpg</td>\n",
       "      <td>[رجل, يجلس, على, مقعد]</td>\n",
       "      <td>4</td>\n",
       "      <td>[رجل, يرتدي, قميص, +, ا, أحمر, و, +, ال, +, أس...</td>\n",
       "      <td>15</td>\n",
       "    </tr>\n",
       "    <tr>\n",
       "      <th>48</th>\n",
       "      <td>000000356396.jpg</td>\n",
       "      <td>[رجل, يقف, في, الشارع]</td>\n",
       "      <td>4</td>\n",
       "      <td>[سيار, +, ة, من, ال, +, ناس, في, ال, +, شارع]</td>\n",
       "      <td>11</td>\n",
       "    </tr>\n",
       "    <tr>\n",
       "      <th>165</th>\n",
       "      <td>000000569314.jpg</td>\n",
       "      <td>[مجموعة, من, الناس, يجلسون, على, طاولة]</td>\n",
       "      <td>6</td>\n",
       "      <td>[طفل, +, ان, يلعب, +, ان, في, ال, +, هواء]</td>\n",
       "      <td>10</td>\n",
       "    </tr>\n",
       "    <tr>\n",
       "      <th>157</th>\n",
       "      <td>000000346384.jpg</td>\n",
       "      <td>[الناس, في, الشارع]</td>\n",
       "      <td>3</td>\n",
       "      <td>[ال, +, ناس, في, ال, +, شارع]</td>\n",
       "      <td>7</td>\n",
       "    </tr>\n",
       "    <tr>\n",
       "      <th>28</th>\n",
       "      <td>000000465911.jpg</td>\n",
       "      <td>[صبي, صغير, يقفز, في, الهواء]</td>\n",
       "      <td>5</td>\n",
       "      <td>[صبي, صغير, يقفز, في, ال, +, هواء]</td>\n",
       "      <td>7</td>\n",
       "    </tr>\n",
       "    <tr>\n",
       "      <th>94</th>\n",
       "      <td>000000319943.jpg</td>\n",
       "      <td>[راكب, أمواج, يركب, موجة]</td>\n",
       "      <td>4</td>\n",
       "      <td>[راكب, ال, +, أمواج, في, ال, +, ماء]</td>\n",
       "      <td>8</td>\n",
       "    </tr>\n",
       "    <tr>\n",
       "      <th>181</th>\n",
       "      <td>000000172989.jpg</td>\n",
       "      <td>[رجل, يقف, في, الثلج]</td>\n",
       "      <td>4</td>\n",
       "      <td>[رجل, يقف, على, ال, +, ثلج]</td>\n",
       "      <td>6</td>\n",
       "    </tr>\n",
       "    <tr>\n",
       "      <th>177</th>\n",
       "      <td>000000207026.jpg</td>\n",
       "      <td>[مجموعة, من, الناس, يقفون, في, حقل]</td>\n",
       "      <td>6</td>\n",
       "      <td>[رجل, +, ان, على, ال, +, دراج, +, ة]</td>\n",
       "      <td>9</td>\n",
       "    </tr>\n",
       "    <tr>\n",
       "      <th>120</th>\n",
       "      <td>000000321938.jpg</td>\n",
       "      <td>[اثنين, من, الناس, في, مطعم]</td>\n",
       "      <td>5</td>\n",
       "      <td>[ال, +, ناس, في, ال, +, ماء]</td>\n",
       "      <td>7</td>\n",
       "    </tr>\n",
       "    <tr>\n",
       "      <th>22</th>\n",
       "      <td>000000290114.jpg</td>\n",
       "      <td>[رجل, وامرأة, يجلسان, في, الكاميرا]</td>\n",
       "      <td>5</td>\n",
       "      <td>[رجل, و, +, امرأ, +, ة, و, +, امرأ, +, ة, و, +...</td>\n",
       "      <td>16</td>\n",
       "    </tr>\n",
       "    <tr>\n",
       "      <th>51</th>\n",
       "      <td>000000148999.jpg</td>\n",
       "      <td>[مجموعة, من, الناس, في, الهواء]</td>\n",
       "      <td>5</td>\n",
       "      <td>[مجموع, +, ة, من, ال, +, ناس, في, ال, +, شارع]</td>\n",
       "      <td>11</td>\n",
       "    </tr>\n",
       "    <tr>\n",
       "      <th>58</th>\n",
       "      <td>000000544408.jpg</td>\n",
       "      <td>[رجل, يجلس, على, طاولة]</td>\n",
       "      <td>4</td>\n",
       "      <td>[ال, +, عديد, من, ال, +, ناس, في, ال, +, شارع]</td>\n",
       "      <td>11</td>\n",
       "    </tr>\n",
       "    <tr>\n",
       "      <th>136</th>\n",
       "      <td>000000148719.jpg</td>\n",
       "      <td>[سيارة, سيارة, حمراء]</td>\n",
       "      <td>3</td>\n",
       "      <td>[سيار, +, ة, ال, +, سيار, +, ة, في, ال, +, شارع]</td>\n",
       "      <td>12</td>\n",
       "    </tr>\n",
       "    <tr>\n",
       "      <th>170</th>\n",
       "      <td>000000418575.jpg</td>\n",
       "      <td>[صبي, صغير, يجلس, على, الأرض]</td>\n",
       "      <td>5</td>\n",
       "      <td>[امرأ, +, ة, صغير, +, ة, في, قميص, +, ا]</td>\n",
       "      <td>10</td>\n",
       "    </tr>\n",
       "    <tr>\n",
       "      <th>149</th>\n",
       "      <td>000000531441.jpg</td>\n",
       "      <td>[طفل, صغير, يجلس, على, الكاميرا]</td>\n",
       "      <td>5</td>\n",
       "      <td>[فتا, +, ة, صغير, +, ة, صغير, +, ة, صغير, +, ة]</td>\n",
       "      <td>12</td>\n",
       "    </tr>\n",
       "    <tr>\n",
       "      <th>7</th>\n",
       "      <td>000000356060.jpg</td>\n",
       "      <td>[مجموعة, من, الناس, يقفون, في, الشارع]</td>\n",
       "      <td>6</td>\n",
       "      <td>[امرأ, +, ة, في, ال, +, شارع]</td>\n",
       "      <td>7</td>\n",
       "    </tr>\n",
       "    <tr>\n",
       "      <th>98</th>\n",
       "      <td>000000250809.jpg</td>\n",
       "      <td>[رجل, يقف, في, الشارع]</td>\n",
       "      <td>4</td>\n",
       "      <td>[امرأ, +, ة, في, ال, +, شارع]</td>\n",
       "      <td>7</td>\n",
       "    </tr>\n",
       "  </tbody>\n",
       "</table>\n",
       "</div>"
      ],
      "text/plain": [
       "            file_name                           old_hypotheses  old_tok_len  \\\n",
       "78   000000231034.jpg                   [رجل, يجلس, على, مقعد]            4   \n",
       "196  000000580172.jpg                    [رجل, في, قميص, أصفر]            4   \n",
       "87   000000176029.jpg                     [سيارة, سباق, <unk>]            3   \n",
       "111  000000021993.jpg                   [رجل, يجلس, على, مقعد]            4   \n",
       "48   000000356396.jpg                   [رجل, يقف, في, الشارع]            4   \n",
       "165  000000569314.jpg  [مجموعة, من, الناس, يجلسون, على, طاولة]            6   \n",
       "157  000000346384.jpg                      [الناس, في, الشارع]            3   \n",
       "28   000000465911.jpg            [صبي, صغير, يقفز, في, الهواء]            5   \n",
       "94   000000319943.jpg                [راكب, أمواج, يركب, موجة]            4   \n",
       "181  000000172989.jpg                    [رجل, يقف, في, الثلج]            4   \n",
       "177  000000207026.jpg      [مجموعة, من, الناس, يقفون, في, حقل]            6   \n",
       "120  000000321938.jpg             [اثنين, من, الناس, في, مطعم]            5   \n",
       "22   000000290114.jpg      [رجل, وامرأة, يجلسان, في, الكاميرا]            5   \n",
       "51   000000148999.jpg          [مجموعة, من, الناس, في, الهواء]            5   \n",
       "58   000000544408.jpg                  [رجل, يجلس, على, طاولة]            4   \n",
       "136  000000148719.jpg                    [سيارة, سيارة, حمراء]            3   \n",
       "170  000000418575.jpg            [صبي, صغير, يجلس, على, الأرض]            5   \n",
       "149  000000531441.jpg         [طفل, صغير, يجلس, على, الكاميرا]            5   \n",
       "7    000000356060.jpg   [مجموعة, من, الناس, يقفون, في, الشارع]            6   \n",
       "98   000000250809.jpg                   [رجل, يقف, في, الشارع]            4   \n",
       "\n",
       "                                            hypotheses  tok_len  \n",
       "78   [امرأ, +, ة, صغير, +, ة, صغير, +, ة, في, ال, +...       13  \n",
       "196  [ال, +, كلب, ال, +, بني, و, +, ال, +, أسود, و,...       21  \n",
       "87       [سيار, +, ة, من, ال, +, ناس, في, ال, +, شارع]       11  \n",
       "111  [رجل, يرتدي, قميص, +, ا, أحمر, و, +, ال, +, أس...       15  \n",
       "48       [سيار, +, ة, من, ال, +, ناس, في, ال, +, شارع]       11  \n",
       "165         [طفل, +, ان, يلعب, +, ان, في, ال, +, هواء]       10  \n",
       "157                      [ال, +, ناس, في, ال, +, شارع]        7  \n",
       "28                  [صبي, صغير, يقفز, في, ال, +, هواء]        7  \n",
       "94                [راكب, ال, +, أمواج, في, ال, +, ماء]        8  \n",
       "181                        [رجل, يقف, على, ال, +, ثلج]        6  \n",
       "177               [رجل, +, ان, على, ال, +, دراج, +, ة]        9  \n",
       "120                       [ال, +, ناس, في, ال, +, ماء]        7  \n",
       "22   [رجل, و, +, امرأ, +, ة, و, +, امرأ, +, ة, و, +...       16  \n",
       "51      [مجموع, +, ة, من, ال, +, ناس, في, ال, +, شارع]       11  \n",
       "58      [ال, +, عديد, من, ال, +, ناس, في, ال, +, شارع]       11  \n",
       "136   [سيار, +, ة, ال, +, سيار, +, ة, في, ال, +, شارع]       12  \n",
       "170           [امرأ, +, ة, صغير, +, ة, في, قميص, +, ا]       10  \n",
       "149    [فتا, +, ة, صغير, +, ة, صغير, +, ة, صغير, +, ة]       12  \n",
       "7                        [امرأ, +, ة, في, ال, +, شارع]        7  \n",
       "98                       [امرأ, +, ة, في, ال, +, شارع]        7  "
      ]
     },
     "execution_count": 40,
     "metadata": {},
     "output_type": "execute_result"
    }
   ],
   "source": [
    "full_df = df.merge(rest_df, on='file_name')\n",
    "print(full_df.shape)\n",
    "full_df.sample(20)"
   ]
  },
  {
   "cell_type": "code",
   "execution_count": 41,
   "metadata": {},
   "outputs": [
    {
     "data": {
      "text/html": [
       "<div>\n",
       "<style scoped>\n",
       "    .dataframe tbody tr th:only-of-type {\n",
       "        vertical-align: middle;\n",
       "    }\n",
       "\n",
       "    .dataframe tbody tr th {\n",
       "        vertical-align: top;\n",
       "    }\n",
       "\n",
       "    .dataframe thead th {\n",
       "        text-align: right;\n",
       "    }\n",
       "</style>\n",
       "<table border=\"1\" class=\"dataframe\">\n",
       "  <thead>\n",
       "    <tr style=\"text-align: right;\">\n",
       "      <th></th>\n",
       "      <th>file_name</th>\n",
       "      <th>old_hypotheses</th>\n",
       "      <th>old_tok_len</th>\n",
       "      <th>hypotheses</th>\n",
       "      <th>tok_len</th>\n",
       "      <th>old_captions</th>\n",
       "      <th>captions</th>\n",
       "    </tr>\n",
       "  </thead>\n",
       "  <tbody>\n",
       "    <tr>\n",
       "      <th>0</th>\n",
       "      <td>000000064183.jpg</td>\n",
       "      <td>[رجل, يرتدي, سترة, صفراء]</td>\n",
       "      <td>4</td>\n",
       "      <td>[امرأ, +, ة, في, ال, +, شارع]</td>\n",
       "      <td>7</td>\n",
       "      <td>رجل يرتدي سترة صفراء</td>\n",
       "      <td>امرأة في الشارع</td>\n",
       "    </tr>\n",
       "    <tr>\n",
       "      <th>1</th>\n",
       "      <td>000000065288.jpg</td>\n",
       "      <td>[اثنين, من, الكلاب, يلعبون, في, الثلج]</td>\n",
       "      <td>6</td>\n",
       "      <td>[كلب, يقفز, في, ال, +, هواء]</td>\n",
       "      <td>6</td>\n",
       "      <td>اثنين من الكلاب يلعبون في الثلج</td>\n",
       "      <td>كلب يقفز في الهواء</td>\n",
       "    </tr>\n",
       "    <tr>\n",
       "      <th>2</th>\n",
       "      <td>000000144000.jpg</td>\n",
       "      <td>[مجموعة, من, الناس, يلعبون, كرة, القدم]</td>\n",
       "      <td>6</td>\n",
       "      <td>[مجموع, +, ة, من, ال, +, ناس, في, ال, +, شارع]</td>\n",
       "      <td>11</td>\n",
       "      <td>مجموعة من الناس يلعبون كرة القدم</td>\n",
       "      <td>مجموعة من الناس في الشارع</td>\n",
       "    </tr>\n",
       "    <tr>\n",
       "      <th>3</th>\n",
       "      <td>000000323789.jpg</td>\n",
       "      <td>[رجل, يجلس, على, مقعد]</td>\n",
       "      <td>4</td>\n",
       "      <td>[صبي, صغير, يرتدي, قميص, +, ا, أحمر, و, +, ال,...</td>\n",
       "      <td>39</td>\n",
       "      <td>رجل يجلس على مقعد</td>\n",
       "      <td>صبي صغير يرتدي قميصا أحمر واللون الأحمر واللون...</td>\n",
       "    </tr>\n",
       "    <tr>\n",
       "      <th>4</th>\n",
       "      <td>000000416098.jpg</td>\n",
       "      <td>[رجل, يركب, دراجة, هوائية]</td>\n",
       "      <td>4</td>\n",
       "      <td>[رجل, يركب, دراج, +, ة, في, ال, +, هواء]</td>\n",
       "      <td>9</td>\n",
       "      <td>رجل يركب دراجة هوائية</td>\n",
       "      <td>رجل يركب دراجة في الهواء</td>\n",
       "    </tr>\n",
       "  </tbody>\n",
       "</table>\n",
       "</div>"
      ],
      "text/plain": [
       "          file_name                           old_hypotheses  old_tok_len  \\\n",
       "0  000000064183.jpg                [رجل, يرتدي, سترة, صفراء]            4   \n",
       "1  000000065288.jpg   [اثنين, من, الكلاب, يلعبون, في, الثلج]            6   \n",
       "2  000000144000.jpg  [مجموعة, من, الناس, يلعبون, كرة, القدم]            6   \n",
       "3  000000323789.jpg                   [رجل, يجلس, على, مقعد]            4   \n",
       "4  000000416098.jpg               [رجل, يركب, دراجة, هوائية]            4   \n",
       "\n",
       "                                          hypotheses  tok_len  \\\n",
       "0                      [امرأ, +, ة, في, ال, +, شارع]        7   \n",
       "1                       [كلب, يقفز, في, ال, +, هواء]        6   \n",
       "2     [مجموع, +, ة, من, ال, +, ناس, في, ال, +, شارع]       11   \n",
       "3  [صبي, صغير, يرتدي, قميص, +, ا, أحمر, و, +, ال,...       39   \n",
       "4           [رجل, يركب, دراج, +, ة, في, ال, +, هواء]        9   \n",
       "\n",
       "                       old_captions  \\\n",
       "0              رجل يرتدي سترة صفراء   \n",
       "1   اثنين من الكلاب يلعبون في الثلج   \n",
       "2  مجموعة من الناس يلعبون كرة القدم   \n",
       "3                 رجل يجلس على مقعد   \n",
       "4             رجل يركب دراجة هوائية   \n",
       "\n",
       "                                            captions  \n",
       "0                                    امرأة في الشارع  \n",
       "1                                 كلب يقفز في الهواء  \n",
       "2                          مجموعة من الناس في الشارع  \n",
       "3  صبي صغير يرتدي قميصا أحمر واللون الأحمر واللون...  \n",
       "4                           رجل يركب دراجة في الهواء  "
      ]
     },
     "execution_count": 41,
     "metadata": {},
     "output_type": "execute_result"
    }
   ],
   "source": [
    "full_df['old_captions'] = full_df.old_hypotheses.apply(lambda x: \" \".join(i for i in x)).values\n",
    "full_df['captions'] = full_df.hypotheses.apply(lambda x: arabert_prep.unpreprocess(' '.join(w for w in x))).values\n",
    "full_df.head()"
   ]
  },
  {
   "cell_type": "markdown",
   "metadata": {},
   "source": [
    "# Saving individual BLEU scores "
   ]
  },
  {
   "cell_type": "code",
   "execution_count": 42,
   "metadata": {},
   "outputs": [],
   "source": [
    "def calculate_scores(row):\n",
    "    idx = [\"old processing, old results\", \"new processing, new results\", \"new processing, old results\", \"old processing, new results\"]\n",
    "    b1s = []\n",
    "    b2s = []\n",
    "    b3s = []\n",
    "    b4s = []\n",
    "    \n",
    "    # get ground truth \n",
    "    gt = ground_truth[ground_truth.file_name == row['file_name']].caption.values\n",
    "    \n",
    "    # tokenize truth\n",
    "    old_tokens_truth = [araby.tokenize(i) for i in gt]\n",
    "    tokens_truth = [araby.tokenize(arabert_prep.preprocess(i)) for i in gt]\n",
    "    \n",
    "\n",
    "    b1, b2, b3, b4 = print_scores([old_tokens_truth], [row['old_hypotheses']], prnt=False)\n",
    "    b1s.append(b1)\n",
    "    b2s.append(b2)\n",
    "    b3s.append(b3)\n",
    "    b4s.append(b4)\n",
    "\n",
    "    b1, b2, b3, b4 = print_scores([tokens_truth], [row['hypotheses']], prnt=False)\n",
    "    b1s.append(b1)\n",
    "    b2s.append(b2)\n",
    "    b3s.append(b3)\n",
    "    b4s.append(b4)\n",
    "    \n",
    "    # reverse scores\n",
    "    old_hypo = araby.tokenize(arabert_prep.preprocess(row['old_captions']))\n",
    "    hypo = araby.tokenize(row['captions'])\n",
    "    \n",
    "    b1, b2, b3, b4 = print_scores([tokens_truth], [old_hypo], prnt=False)\n",
    "    b1s.append(b1)\n",
    "    b2s.append(b2)\n",
    "    b3s.append(b3)\n",
    "    b4s.append(b4)\n",
    "    \n",
    "    b1, b2, b3, b4 = print_scores([old_tokens_truth], [hypo], prnt=False)\n",
    "    b1s.append(b1)\n",
    "    b2s.append(b2)\n",
    "    b3s.append(b3)\n",
    "    b4s.append(b4)\n",
    "    \n",
    "    out_df = pd.DataFrame({'Exp': idx, 'b1': b1s, 'b2': b2s, 'b3': b3s, 'b4': b4s})\n",
    "    gt_df = ground_truth[ground_truth.file_name == row['file_name']].drop('file_name', axis=1)\n",
    "    return pd.concat([d.reset_index(drop=True) for d in [out_df, gt_df]], axis=1).fillna('_')"
   ]
  },
  {
   "cell_type": "code",
   "execution_count": 43,
   "metadata": {},
   "outputs": [
    {
     "name": "stderr",
     "output_type": "stream",
     "text": [
      "/home/kelwa/anaconda3/envs/yolo5/lib/python3.6/site-packages/nltk/translate/bleu_score.py:516: UserWarning: \n",
      "The hypothesis contains 0 counts of 2-gram overlaps.\n",
      "Therefore the BLEU score evaluates to 0, independently of\n",
      "how many N-gram overlaps of lower order it contains.\n",
      "Consider using lower n-gram order or use SmoothingFunction()\n",
      "  warnings.warn(_msg)\n",
      "/home/kelwa/anaconda3/envs/yolo5/lib/python3.6/site-packages/nltk/translate/bleu_score.py:516: UserWarning: \n",
      "The hypothesis contains 0 counts of 3-gram overlaps.\n",
      "Therefore the BLEU score evaluates to 0, independently of\n",
      "how many N-gram overlaps of lower order it contains.\n",
      "Consider using lower n-gram order or use SmoothingFunction()\n",
      "  warnings.warn(_msg)\n",
      "/home/kelwa/anaconda3/envs/yolo5/lib/python3.6/site-packages/nltk/translate/bleu_score.py:516: UserWarning: \n",
      "The hypothesis contains 0 counts of 4-gram overlaps.\n",
      "Therefore the BLEU score evaluates to 0, independently of\n",
      "how many N-gram overlaps of lower order it contains.\n",
      "Consider using lower n-gram order or use SmoothingFunction()\n",
      "  warnings.warn(_msg)\n"
     ]
    },
    {
     "data": {
      "text/html": [
       "<div>\n",
       "<style scoped>\n",
       "    .dataframe tbody tr th:only-of-type {\n",
       "        vertical-align: middle;\n",
       "    }\n",
       "\n",
       "    .dataframe tbody tr th {\n",
       "        vertical-align: top;\n",
       "    }\n",
       "\n",
       "    .dataframe thead th {\n",
       "        text-align: right;\n",
       "    }\n",
       "</style>\n",
       "<table border=\"1\" class=\"dataframe\">\n",
       "  <thead>\n",
       "    <tr style=\"text-align: right;\">\n",
       "      <th></th>\n",
       "      <th>Exp</th>\n",
       "      <th>b1</th>\n",
       "      <th>b2</th>\n",
       "      <th>b3</th>\n",
       "      <th>b4</th>\n",
       "      <th>caption</th>\n",
       "    </tr>\n",
       "  </thead>\n",
       "  <tbody>\n",
       "    <tr>\n",
       "      <th>0</th>\n",
       "      <td>old processing, old results</td>\n",
       "      <td>9.197</td>\n",
       "      <td>0</td>\n",
       "      <td>0</td>\n",
       "      <td>0</td>\n",
       "      <td>الناس يعبرون الشارع في بلدة صينية مزدحمة.</td>\n",
       "    </tr>\n",
       "    <tr>\n",
       "      <th>1</th>\n",
       "      <td>new processing, new results</td>\n",
       "      <td>27.645</td>\n",
       "      <td>27.645</td>\n",
       "      <td>25.664</td>\n",
       "      <td>21.986</td>\n",
       "      <td>شخص يحمل مظلة صفراء يمشي بالقرب من الرصيف.</td>\n",
       "    </tr>\n",
       "    <tr>\n",
       "      <th>2</th>\n",
       "      <td>new processing, old results</td>\n",
       "      <td>9.444</td>\n",
       "      <td>8.447</td>\n",
       "      <td>6.958</td>\n",
       "      <td>0</td>\n",
       "      <td>شخص في الشارع  يجر عربة تسوق  ويحمل مظلة.</td>\n",
       "    </tr>\n",
       "    <tr>\n",
       "      <th>3</th>\n",
       "      <td>old processing, new results</td>\n",
       "      <td>18.888</td>\n",
       "      <td>18.888</td>\n",
       "      <td>0</td>\n",
       "      <td>0</td>\n",
       "      <td>امرأة في شارع مزدحم مع عربة تسوق ومظلة.</td>\n",
       "    </tr>\n",
       "    <tr>\n",
       "      <th>4</th>\n",
       "      <td>_</td>\n",
       "      <td>_</td>\n",
       "      <td>_</td>\n",
       "      <td>_</td>\n",
       "      <td>_</td>\n",
       "      <td>أشخاص يسيرون وسيارات تسير في شارع بجوار متاجر</td>\n",
       "    </tr>\n",
       "  </tbody>\n",
       "</table>\n",
       "</div>"
      ],
      "text/plain": [
       "                           Exp      b1      b2      b3      b4  \\\n",
       "0  old processing, old results   9.197       0       0       0   \n",
       "1  new processing, new results  27.645  27.645  25.664  21.986   \n",
       "2  new processing, old results   9.444   8.447   6.958       0   \n",
       "3  old processing, new results  18.888  18.888       0       0   \n",
       "4                            _       _       _       _       _   \n",
       "\n",
       "                                         caption  \n",
       "0      الناس يعبرون الشارع في بلدة صينية مزدحمة.  \n",
       "1     شخص يحمل مظلة صفراء يمشي بالقرب من الرصيف.  \n",
       "2      شخص في الشارع  يجر عربة تسوق  ويحمل مظلة.  \n",
       "3        امرأة في شارع مزدحم مع عربة تسوق ومظلة.  \n",
       "4  أشخاص يسيرون وسيارات تسير في شارع بجوار متاجر  "
      ]
     },
     "execution_count": 43,
     "metadata": {},
     "output_type": "execute_result"
    }
   ],
   "source": [
    "calculate_scores(full_df.iloc[0])"
   ]
  },
  {
   "cell_type": "code",
   "execution_count": 44,
   "metadata": {},
   "outputs": [],
   "source": [
    "full_df.to_json('results_comparison_200.json')"
   ]
  },
  {
   "cell_type": "markdown",
   "metadata": {},
   "source": [
    "# Comparing Results "
   ]
  },
  {
   "cell_type": "code",
   "execution_count": 45,
   "metadata": {},
   "outputs": [],
   "source": [
    "# Modules\n",
    "import ipywidgets as widgets\n",
    "from ipywidgets import interact_manual\n",
    "import matplotlib.pyplot as plt\n",
    "\n",
    "import os, shutil\n",
    "\n",
    "# needed to use matplotlib with jupyter widgets\n",
    "%matplotlib notebook\n",
    "\n",
    "from IPython.display import display, clear_output"
   ]
  },
  {
   "cell_type": "code",
   "execution_count": 46,
   "metadata": {},
   "outputs": [],
   "source": [
    "import warnings\n",
    "warnings.filterwarnings(\"ignore\")"
   ]
  },
  {
   "cell_type": "code",
   "execution_count": 47,
   "metadata": {},
   "outputs": [
    {
     "data": {
      "application/javascript": [
       "/* Put everything inside the global mpl namespace */\n",
       "/* global mpl */\n",
       "window.mpl = {};\n",
       "\n",
       "mpl.get_websocket_type = function () {\n",
       "    if (typeof WebSocket !== 'undefined') {\n",
       "        return WebSocket;\n",
       "    } else if (typeof MozWebSocket !== 'undefined') {\n",
       "        return MozWebSocket;\n",
       "    } else {\n",
       "        alert(\n",
       "            'Your browser does not have WebSocket support. ' +\n",
       "                'Please try Chrome, Safari or Firefox ≥ 6. ' +\n",
       "                'Firefox 4 and 5 are also supported but you ' +\n",
       "                'have to enable WebSockets in about:config.'\n",
       "        );\n",
       "    }\n",
       "};\n",
       "\n",
       "mpl.figure = function (figure_id, websocket, ondownload, parent_element) {\n",
       "    this.id = figure_id;\n",
       "\n",
       "    this.ws = websocket;\n",
       "\n",
       "    this.supports_binary = this.ws.binaryType !== undefined;\n",
       "\n",
       "    if (!this.supports_binary) {\n",
       "        var warnings = document.getElementById('mpl-warnings');\n",
       "        if (warnings) {\n",
       "            warnings.style.display = 'block';\n",
       "            warnings.textContent =\n",
       "                'This browser does not support binary websocket messages. ' +\n",
       "                'Performance may be slow.';\n",
       "        }\n",
       "    }\n",
       "\n",
       "    this.imageObj = new Image();\n",
       "\n",
       "    this.context = undefined;\n",
       "    this.message = undefined;\n",
       "    this.canvas = undefined;\n",
       "    this.rubberband_canvas = undefined;\n",
       "    this.rubberband_context = undefined;\n",
       "    this.format_dropdown = undefined;\n",
       "\n",
       "    this.image_mode = 'full';\n",
       "\n",
       "    this.root = document.createElement('div');\n",
       "    this.root.setAttribute('style', 'display: inline-block');\n",
       "    this._root_extra_style(this.root);\n",
       "\n",
       "    parent_element.appendChild(this.root);\n",
       "\n",
       "    this._init_header(this);\n",
       "    this._init_canvas(this);\n",
       "    this._init_toolbar(this);\n",
       "\n",
       "    var fig = this;\n",
       "\n",
       "    this.waiting = false;\n",
       "\n",
       "    this.ws.onopen = function () {\n",
       "        fig.send_message('supports_binary', { value: fig.supports_binary });\n",
       "        fig.send_message('send_image_mode', {});\n",
       "        if (fig.ratio !== 1) {\n",
       "            fig.send_message('set_dpi_ratio', { dpi_ratio: fig.ratio });\n",
       "        }\n",
       "        fig.send_message('refresh', {});\n",
       "    };\n",
       "\n",
       "    this.imageObj.onload = function () {\n",
       "        if (fig.image_mode === 'full') {\n",
       "            // Full images could contain transparency (where diff images\n",
       "            // almost always do), so we need to clear the canvas so that\n",
       "            // there is no ghosting.\n",
       "            fig.context.clearRect(0, 0, fig.canvas.width, fig.canvas.height);\n",
       "        }\n",
       "        fig.context.drawImage(fig.imageObj, 0, 0);\n",
       "    };\n",
       "\n",
       "    this.imageObj.onunload = function () {\n",
       "        fig.ws.close();\n",
       "    };\n",
       "\n",
       "    this.ws.onmessage = this._make_on_message_function(this);\n",
       "\n",
       "    this.ondownload = ondownload;\n",
       "};\n",
       "\n",
       "mpl.figure.prototype._init_header = function () {\n",
       "    var titlebar = document.createElement('div');\n",
       "    titlebar.classList =\n",
       "        'ui-dialog-titlebar ui-widget-header ui-corner-all ui-helper-clearfix';\n",
       "    var titletext = document.createElement('div');\n",
       "    titletext.classList = 'ui-dialog-title';\n",
       "    titletext.setAttribute(\n",
       "        'style',\n",
       "        'width: 100%; text-align: center; padding: 3px;'\n",
       "    );\n",
       "    titlebar.appendChild(titletext);\n",
       "    this.root.appendChild(titlebar);\n",
       "    this.header = titletext;\n",
       "};\n",
       "\n",
       "mpl.figure.prototype._canvas_extra_style = function (_canvas_div) {};\n",
       "\n",
       "mpl.figure.prototype._root_extra_style = function (_canvas_div) {};\n",
       "\n",
       "mpl.figure.prototype._init_canvas = function () {\n",
       "    var fig = this;\n",
       "\n",
       "    var canvas_div = (this.canvas_div = document.createElement('div'));\n",
       "    canvas_div.setAttribute(\n",
       "        'style',\n",
       "        'border: 1px solid #ddd;' +\n",
       "            'box-sizing: content-box;' +\n",
       "            'clear: both;' +\n",
       "            'min-height: 1px;' +\n",
       "            'min-width: 1px;' +\n",
       "            'outline: 0;' +\n",
       "            'overflow: hidden;' +\n",
       "            'position: relative;' +\n",
       "            'resize: both;'\n",
       "    );\n",
       "\n",
       "    function on_keyboard_event_closure(name) {\n",
       "        return function (event) {\n",
       "            return fig.key_event(event, name);\n",
       "        };\n",
       "    }\n",
       "\n",
       "    canvas_div.addEventListener(\n",
       "        'keydown',\n",
       "        on_keyboard_event_closure('key_press')\n",
       "    );\n",
       "    canvas_div.addEventListener(\n",
       "        'keyup',\n",
       "        on_keyboard_event_closure('key_release')\n",
       "    );\n",
       "\n",
       "    this._canvas_extra_style(canvas_div);\n",
       "    this.root.appendChild(canvas_div);\n",
       "\n",
       "    var canvas = (this.canvas = document.createElement('canvas'));\n",
       "    canvas.classList.add('mpl-canvas');\n",
       "    canvas.setAttribute('style', 'box-sizing: content-box;');\n",
       "\n",
       "    this.context = canvas.getContext('2d');\n",
       "\n",
       "    var backingStore =\n",
       "        this.context.backingStorePixelRatio ||\n",
       "        this.context.webkitBackingStorePixelRatio ||\n",
       "        this.context.mozBackingStorePixelRatio ||\n",
       "        this.context.msBackingStorePixelRatio ||\n",
       "        this.context.oBackingStorePixelRatio ||\n",
       "        this.context.backingStorePixelRatio ||\n",
       "        1;\n",
       "\n",
       "    this.ratio = (window.devicePixelRatio || 1) / backingStore;\n",
       "\n",
       "    var rubberband_canvas = (this.rubberband_canvas = document.createElement(\n",
       "        'canvas'\n",
       "    ));\n",
       "    rubberband_canvas.setAttribute(\n",
       "        'style',\n",
       "        'box-sizing: content-box; position: absolute; left: 0; top: 0; z-index: 1;'\n",
       "    );\n",
       "\n",
       "    // Apply a ponyfill if ResizeObserver is not implemented by browser.\n",
       "    if (this.ResizeObserver === undefined) {\n",
       "        if (window.ResizeObserver !== undefined) {\n",
       "            this.ResizeObserver = window.ResizeObserver;\n",
       "        } else {\n",
       "            var obs = _JSXTOOLS_RESIZE_OBSERVER({});\n",
       "            this.ResizeObserver = obs.ResizeObserver;\n",
       "        }\n",
       "    }\n",
       "\n",
       "    this.resizeObserverInstance = new this.ResizeObserver(function (entries) {\n",
       "        var nentries = entries.length;\n",
       "        for (var i = 0; i < nentries; i++) {\n",
       "            var entry = entries[i];\n",
       "            var width, height;\n",
       "            if (entry.contentBoxSize) {\n",
       "                if (entry.contentBoxSize instanceof Array) {\n",
       "                    // Chrome 84 implements new version of spec.\n",
       "                    width = entry.contentBoxSize[0].inlineSize;\n",
       "                    height = entry.contentBoxSize[0].blockSize;\n",
       "                } else {\n",
       "                    // Firefox implements old version of spec.\n",
       "                    width = entry.contentBoxSize.inlineSize;\n",
       "                    height = entry.contentBoxSize.blockSize;\n",
       "                }\n",
       "            } else {\n",
       "                // Chrome <84 implements even older version of spec.\n",
       "                width = entry.contentRect.width;\n",
       "                height = entry.contentRect.height;\n",
       "            }\n",
       "\n",
       "            // Keep the size of the canvas and rubber band canvas in sync with\n",
       "            // the canvas container.\n",
       "            if (entry.devicePixelContentBoxSize) {\n",
       "                // Chrome 84 implements new version of spec.\n",
       "                canvas.setAttribute(\n",
       "                    'width',\n",
       "                    entry.devicePixelContentBoxSize[0].inlineSize\n",
       "                );\n",
       "                canvas.setAttribute(\n",
       "                    'height',\n",
       "                    entry.devicePixelContentBoxSize[0].blockSize\n",
       "                );\n",
       "            } else {\n",
       "                canvas.setAttribute('width', width * fig.ratio);\n",
       "                canvas.setAttribute('height', height * fig.ratio);\n",
       "            }\n",
       "            canvas.setAttribute(\n",
       "                'style',\n",
       "                'width: ' + width + 'px; height: ' + height + 'px;'\n",
       "            );\n",
       "\n",
       "            rubberband_canvas.setAttribute('width', width);\n",
       "            rubberband_canvas.setAttribute('height', height);\n",
       "\n",
       "            // And update the size in Python. We ignore the initial 0/0 size\n",
       "            // that occurs as the element is placed into the DOM, which should\n",
       "            // otherwise not happen due to the minimum size styling.\n",
       "            if (fig.ws.readyState == 1 && width != 0 && height != 0) {\n",
       "                fig.request_resize(width, height);\n",
       "            }\n",
       "        }\n",
       "    });\n",
       "    this.resizeObserverInstance.observe(canvas_div);\n",
       "\n",
       "    function on_mouse_event_closure(name) {\n",
       "        return function (event) {\n",
       "            return fig.mouse_event(event, name);\n",
       "        };\n",
       "    }\n",
       "\n",
       "    rubberband_canvas.addEventListener(\n",
       "        'mousedown',\n",
       "        on_mouse_event_closure('button_press')\n",
       "    );\n",
       "    rubberband_canvas.addEventListener(\n",
       "        'mouseup',\n",
       "        on_mouse_event_closure('button_release')\n",
       "    );\n",
       "    // Throttle sequential mouse events to 1 every 20ms.\n",
       "    rubberband_canvas.addEventListener(\n",
       "        'mousemove',\n",
       "        on_mouse_event_closure('motion_notify')\n",
       "    );\n",
       "\n",
       "    rubberband_canvas.addEventListener(\n",
       "        'mouseenter',\n",
       "        on_mouse_event_closure('figure_enter')\n",
       "    );\n",
       "    rubberband_canvas.addEventListener(\n",
       "        'mouseleave',\n",
       "        on_mouse_event_closure('figure_leave')\n",
       "    );\n",
       "\n",
       "    canvas_div.addEventListener('wheel', function (event) {\n",
       "        if (event.deltaY < 0) {\n",
       "            event.step = 1;\n",
       "        } else {\n",
       "            event.step = -1;\n",
       "        }\n",
       "        on_mouse_event_closure('scroll')(event);\n",
       "    });\n",
       "\n",
       "    canvas_div.appendChild(canvas);\n",
       "    canvas_div.appendChild(rubberband_canvas);\n",
       "\n",
       "    this.rubberband_context = rubberband_canvas.getContext('2d');\n",
       "    this.rubberband_context.strokeStyle = '#000000';\n",
       "\n",
       "    this._resize_canvas = function (width, height, forward) {\n",
       "        if (forward) {\n",
       "            canvas_div.style.width = width + 'px';\n",
       "            canvas_div.style.height = height + 'px';\n",
       "        }\n",
       "    };\n",
       "\n",
       "    // Disable right mouse context menu.\n",
       "    this.rubberband_canvas.addEventListener('contextmenu', function (_e) {\n",
       "        event.preventDefault();\n",
       "        return false;\n",
       "    });\n",
       "\n",
       "    function set_focus() {\n",
       "        canvas.focus();\n",
       "        canvas_div.focus();\n",
       "    }\n",
       "\n",
       "    window.setTimeout(set_focus, 100);\n",
       "};\n",
       "\n",
       "mpl.figure.prototype._init_toolbar = function () {\n",
       "    var fig = this;\n",
       "\n",
       "    var toolbar = document.createElement('div');\n",
       "    toolbar.classList = 'mpl-toolbar';\n",
       "    this.root.appendChild(toolbar);\n",
       "\n",
       "    function on_click_closure(name) {\n",
       "        return function (_event) {\n",
       "            return fig.toolbar_button_onclick(name);\n",
       "        };\n",
       "    }\n",
       "\n",
       "    function on_mouseover_closure(tooltip) {\n",
       "        return function (event) {\n",
       "            if (!event.currentTarget.disabled) {\n",
       "                return fig.toolbar_button_onmouseover(tooltip);\n",
       "            }\n",
       "        };\n",
       "    }\n",
       "\n",
       "    fig.buttons = {};\n",
       "    var buttonGroup = document.createElement('div');\n",
       "    buttonGroup.classList = 'mpl-button-group';\n",
       "    for (var toolbar_ind in mpl.toolbar_items) {\n",
       "        var name = mpl.toolbar_items[toolbar_ind][0];\n",
       "        var tooltip = mpl.toolbar_items[toolbar_ind][1];\n",
       "        var image = mpl.toolbar_items[toolbar_ind][2];\n",
       "        var method_name = mpl.toolbar_items[toolbar_ind][3];\n",
       "\n",
       "        if (!name) {\n",
       "            /* Instead of a spacer, we start a new button group. */\n",
       "            if (buttonGroup.hasChildNodes()) {\n",
       "                toolbar.appendChild(buttonGroup);\n",
       "            }\n",
       "            buttonGroup = document.createElement('div');\n",
       "            buttonGroup.classList = 'mpl-button-group';\n",
       "            continue;\n",
       "        }\n",
       "\n",
       "        var button = (fig.buttons[name] = document.createElement('button'));\n",
       "        button.classList = 'mpl-widget';\n",
       "        button.setAttribute('role', 'button');\n",
       "        button.setAttribute('aria-disabled', 'false');\n",
       "        button.addEventListener('click', on_click_closure(method_name));\n",
       "        button.addEventListener('mouseover', on_mouseover_closure(tooltip));\n",
       "\n",
       "        var icon_img = document.createElement('img');\n",
       "        icon_img.src = '_images/' + image + '.png';\n",
       "        icon_img.srcset = '_images/' + image + '_large.png 2x';\n",
       "        icon_img.alt = tooltip;\n",
       "        button.appendChild(icon_img);\n",
       "\n",
       "        buttonGroup.appendChild(button);\n",
       "    }\n",
       "\n",
       "    if (buttonGroup.hasChildNodes()) {\n",
       "        toolbar.appendChild(buttonGroup);\n",
       "    }\n",
       "\n",
       "    var fmt_picker = document.createElement('select');\n",
       "    fmt_picker.classList = 'mpl-widget';\n",
       "    toolbar.appendChild(fmt_picker);\n",
       "    this.format_dropdown = fmt_picker;\n",
       "\n",
       "    for (var ind in mpl.extensions) {\n",
       "        var fmt = mpl.extensions[ind];\n",
       "        var option = document.createElement('option');\n",
       "        option.selected = fmt === mpl.default_extension;\n",
       "        option.innerHTML = fmt;\n",
       "        fmt_picker.appendChild(option);\n",
       "    }\n",
       "\n",
       "    var status_bar = document.createElement('span');\n",
       "    status_bar.classList = 'mpl-message';\n",
       "    toolbar.appendChild(status_bar);\n",
       "    this.message = status_bar;\n",
       "};\n",
       "\n",
       "mpl.figure.prototype.request_resize = function (x_pixels, y_pixels) {\n",
       "    // Request matplotlib to resize the figure. Matplotlib will then trigger a resize in the client,\n",
       "    // which will in turn request a refresh of the image.\n",
       "    this.send_message('resize', { width: x_pixels, height: y_pixels });\n",
       "};\n",
       "\n",
       "mpl.figure.prototype.send_message = function (type, properties) {\n",
       "    properties['type'] = type;\n",
       "    properties['figure_id'] = this.id;\n",
       "    this.ws.send(JSON.stringify(properties));\n",
       "};\n",
       "\n",
       "mpl.figure.prototype.send_draw_message = function () {\n",
       "    if (!this.waiting) {\n",
       "        this.waiting = true;\n",
       "        this.ws.send(JSON.stringify({ type: 'draw', figure_id: this.id }));\n",
       "    }\n",
       "};\n",
       "\n",
       "mpl.figure.prototype.handle_save = function (fig, _msg) {\n",
       "    var format_dropdown = fig.format_dropdown;\n",
       "    var format = format_dropdown.options[format_dropdown.selectedIndex].value;\n",
       "    fig.ondownload(fig, format);\n",
       "};\n",
       "\n",
       "mpl.figure.prototype.handle_resize = function (fig, msg) {\n",
       "    var size = msg['size'];\n",
       "    if (size[0] !== fig.canvas.width || size[1] !== fig.canvas.height) {\n",
       "        fig._resize_canvas(size[0], size[1], msg['forward']);\n",
       "        fig.send_message('refresh', {});\n",
       "    }\n",
       "};\n",
       "\n",
       "mpl.figure.prototype.handle_rubberband = function (fig, msg) {\n",
       "    var x0 = msg['x0'] / fig.ratio;\n",
       "    var y0 = (fig.canvas.height - msg['y0']) / fig.ratio;\n",
       "    var x1 = msg['x1'] / fig.ratio;\n",
       "    var y1 = (fig.canvas.height - msg['y1']) / fig.ratio;\n",
       "    x0 = Math.floor(x0) + 0.5;\n",
       "    y0 = Math.floor(y0) + 0.5;\n",
       "    x1 = Math.floor(x1) + 0.5;\n",
       "    y1 = Math.floor(y1) + 0.5;\n",
       "    var min_x = Math.min(x0, x1);\n",
       "    var min_y = Math.min(y0, y1);\n",
       "    var width = Math.abs(x1 - x0);\n",
       "    var height = Math.abs(y1 - y0);\n",
       "\n",
       "    fig.rubberband_context.clearRect(\n",
       "        0,\n",
       "        0,\n",
       "        fig.canvas.width / fig.ratio,\n",
       "        fig.canvas.height / fig.ratio\n",
       "    );\n",
       "\n",
       "    fig.rubberband_context.strokeRect(min_x, min_y, width, height);\n",
       "};\n",
       "\n",
       "mpl.figure.prototype.handle_figure_label = function (fig, msg) {\n",
       "    // Updates the figure title.\n",
       "    fig.header.textContent = msg['label'];\n",
       "};\n",
       "\n",
       "mpl.figure.prototype.handle_cursor = function (fig, msg) {\n",
       "    var cursor = msg['cursor'];\n",
       "    switch (cursor) {\n",
       "        case 0:\n",
       "            cursor = 'pointer';\n",
       "            break;\n",
       "        case 1:\n",
       "            cursor = 'default';\n",
       "            break;\n",
       "        case 2:\n",
       "            cursor = 'crosshair';\n",
       "            break;\n",
       "        case 3:\n",
       "            cursor = 'move';\n",
       "            break;\n",
       "    }\n",
       "    fig.rubberband_canvas.style.cursor = cursor;\n",
       "};\n",
       "\n",
       "mpl.figure.prototype.handle_message = function (fig, msg) {\n",
       "    fig.message.textContent = msg['message'];\n",
       "};\n",
       "\n",
       "mpl.figure.prototype.handle_draw = function (fig, _msg) {\n",
       "    // Request the server to send over a new figure.\n",
       "    fig.send_draw_message();\n",
       "};\n",
       "\n",
       "mpl.figure.prototype.handle_image_mode = function (fig, msg) {\n",
       "    fig.image_mode = msg['mode'];\n",
       "};\n",
       "\n",
       "mpl.figure.prototype.handle_history_buttons = function (fig, msg) {\n",
       "    for (var key in msg) {\n",
       "        if (!(key in fig.buttons)) {\n",
       "            continue;\n",
       "        }\n",
       "        fig.buttons[key].disabled = !msg[key];\n",
       "        fig.buttons[key].setAttribute('aria-disabled', !msg[key]);\n",
       "    }\n",
       "};\n",
       "\n",
       "mpl.figure.prototype.handle_navigate_mode = function (fig, msg) {\n",
       "    if (msg['mode'] === 'PAN') {\n",
       "        fig.buttons['Pan'].classList.add('active');\n",
       "        fig.buttons['Zoom'].classList.remove('active');\n",
       "    } else if (msg['mode'] === 'ZOOM') {\n",
       "        fig.buttons['Pan'].classList.remove('active');\n",
       "        fig.buttons['Zoom'].classList.add('active');\n",
       "    } else {\n",
       "        fig.buttons['Pan'].classList.remove('active');\n",
       "        fig.buttons['Zoom'].classList.remove('active');\n",
       "    }\n",
       "};\n",
       "\n",
       "mpl.figure.prototype.updated_canvas_event = function () {\n",
       "    // Called whenever the canvas gets updated.\n",
       "    this.send_message('ack', {});\n",
       "};\n",
       "\n",
       "// A function to construct a web socket function for onmessage handling.\n",
       "// Called in the figure constructor.\n",
       "mpl.figure.prototype._make_on_message_function = function (fig) {\n",
       "    return function socket_on_message(evt) {\n",
       "        if (evt.data instanceof Blob) {\n",
       "            /* FIXME: We get \"Resource interpreted as Image but\n",
       "             * transferred with MIME type text/plain:\" errors on\n",
       "             * Chrome.  But how to set the MIME type?  It doesn't seem\n",
       "             * to be part of the websocket stream */\n",
       "            evt.data.type = 'image/png';\n",
       "\n",
       "            /* Free the memory for the previous frames */\n",
       "            if (fig.imageObj.src) {\n",
       "                (window.URL || window.webkitURL).revokeObjectURL(\n",
       "                    fig.imageObj.src\n",
       "                );\n",
       "            }\n",
       "\n",
       "            fig.imageObj.src = (window.URL || window.webkitURL).createObjectURL(\n",
       "                evt.data\n",
       "            );\n",
       "            fig.updated_canvas_event();\n",
       "            fig.waiting = false;\n",
       "            return;\n",
       "        } else if (\n",
       "            typeof evt.data === 'string' &&\n",
       "            evt.data.slice(0, 21) === 'data:image/png;base64'\n",
       "        ) {\n",
       "            fig.imageObj.src = evt.data;\n",
       "            fig.updated_canvas_event();\n",
       "            fig.waiting = false;\n",
       "            return;\n",
       "        }\n",
       "\n",
       "        var msg = JSON.parse(evt.data);\n",
       "        var msg_type = msg['type'];\n",
       "\n",
       "        // Call the  \"handle_{type}\" callback, which takes\n",
       "        // the figure and JSON message as its only arguments.\n",
       "        try {\n",
       "            var callback = fig['handle_' + msg_type];\n",
       "        } catch (e) {\n",
       "            console.log(\n",
       "                \"No handler for the '\" + msg_type + \"' message type: \",\n",
       "                msg\n",
       "            );\n",
       "            return;\n",
       "        }\n",
       "\n",
       "        if (callback) {\n",
       "            try {\n",
       "                // console.log(\"Handling '\" + msg_type + \"' message: \", msg);\n",
       "                callback(fig, msg);\n",
       "            } catch (e) {\n",
       "                console.log(\n",
       "                    \"Exception inside the 'handler_\" + msg_type + \"' callback:\",\n",
       "                    e,\n",
       "                    e.stack,\n",
       "                    msg\n",
       "                );\n",
       "            }\n",
       "        }\n",
       "    };\n",
       "};\n",
       "\n",
       "// from http://stackoverflow.com/questions/1114465/getting-mouse-location-in-canvas\n",
       "mpl.findpos = function (e) {\n",
       "    //this section is from http://www.quirksmode.org/js/events_properties.html\n",
       "    var targ;\n",
       "    if (!e) {\n",
       "        e = window.event;\n",
       "    }\n",
       "    if (e.target) {\n",
       "        targ = e.target;\n",
       "    } else if (e.srcElement) {\n",
       "        targ = e.srcElement;\n",
       "    }\n",
       "    if (targ.nodeType === 3) {\n",
       "        // defeat Safari bug\n",
       "        targ = targ.parentNode;\n",
       "    }\n",
       "\n",
       "    // pageX,Y are the mouse positions relative to the document\n",
       "    var boundingRect = targ.getBoundingClientRect();\n",
       "    var x = e.pageX - (boundingRect.left + document.body.scrollLeft);\n",
       "    var y = e.pageY - (boundingRect.top + document.body.scrollTop);\n",
       "\n",
       "    return { x: x, y: y };\n",
       "};\n",
       "\n",
       "/*\n",
       " * return a copy of an object with only non-object keys\n",
       " * we need this to avoid circular references\n",
       " * http://stackoverflow.com/a/24161582/3208463\n",
       " */\n",
       "function simpleKeys(original) {\n",
       "    return Object.keys(original).reduce(function (obj, key) {\n",
       "        if (typeof original[key] !== 'object') {\n",
       "            obj[key] = original[key];\n",
       "        }\n",
       "        return obj;\n",
       "    }, {});\n",
       "}\n",
       "\n",
       "mpl.figure.prototype.mouse_event = function (event, name) {\n",
       "    var canvas_pos = mpl.findpos(event);\n",
       "\n",
       "    if (name === 'button_press') {\n",
       "        this.canvas.focus();\n",
       "        this.canvas_div.focus();\n",
       "    }\n",
       "\n",
       "    var x = canvas_pos.x * this.ratio;\n",
       "    var y = canvas_pos.y * this.ratio;\n",
       "\n",
       "    this.send_message(name, {\n",
       "        x: x,\n",
       "        y: y,\n",
       "        button: event.button,\n",
       "        step: event.step,\n",
       "        guiEvent: simpleKeys(event),\n",
       "    });\n",
       "\n",
       "    /* This prevents the web browser from automatically changing to\n",
       "     * the text insertion cursor when the button is pressed.  We want\n",
       "     * to control all of the cursor setting manually through the\n",
       "     * 'cursor' event from matplotlib */\n",
       "    event.preventDefault();\n",
       "    return false;\n",
       "};\n",
       "\n",
       "mpl.figure.prototype._key_event_extra = function (_event, _name) {\n",
       "    // Handle any extra behaviour associated with a key event\n",
       "};\n",
       "\n",
       "mpl.figure.prototype.key_event = function (event, name) {\n",
       "    // Prevent repeat events\n",
       "    if (name === 'key_press') {\n",
       "        if (event.which === this._key) {\n",
       "            return;\n",
       "        } else {\n",
       "            this._key = event.which;\n",
       "        }\n",
       "    }\n",
       "    if (name === 'key_release') {\n",
       "        this._key = null;\n",
       "    }\n",
       "\n",
       "    var value = '';\n",
       "    if (event.ctrlKey && event.which !== 17) {\n",
       "        value += 'ctrl+';\n",
       "    }\n",
       "    if (event.altKey && event.which !== 18) {\n",
       "        value += 'alt+';\n",
       "    }\n",
       "    if (event.shiftKey && event.which !== 16) {\n",
       "        value += 'shift+';\n",
       "    }\n",
       "\n",
       "    value += 'k';\n",
       "    value += event.which.toString();\n",
       "\n",
       "    this._key_event_extra(event, name);\n",
       "\n",
       "    this.send_message(name, { key: value, guiEvent: simpleKeys(event) });\n",
       "    return false;\n",
       "};\n",
       "\n",
       "mpl.figure.prototype.toolbar_button_onclick = function (name) {\n",
       "    if (name === 'download') {\n",
       "        this.handle_save(this, null);\n",
       "    } else {\n",
       "        this.send_message('toolbar_button', { name: name });\n",
       "    }\n",
       "};\n",
       "\n",
       "mpl.figure.prototype.toolbar_button_onmouseover = function (tooltip) {\n",
       "    this.message.textContent = tooltip;\n",
       "};\n",
       "\n",
       "///////////////// REMAINING CONTENT GENERATED BY embed_js.py /////////////////\n",
       "// prettier-ignore\n",
       "var _JSXTOOLS_RESIZE_OBSERVER=function(A){var t,i=new WeakMap,n=new WeakMap,a=new WeakMap,r=new WeakMap,o=new Set;function s(e){if(!(this instanceof s))throw new TypeError(\"Constructor requires 'new' operator\");i.set(this,e)}function h(){throw new TypeError(\"Function is not a constructor\")}function c(e,t,i,n){e=0 in arguments?Number(arguments[0]):0,t=1 in arguments?Number(arguments[1]):0,i=2 in arguments?Number(arguments[2]):0,n=3 in arguments?Number(arguments[3]):0,this.right=(this.x=this.left=e)+(this.width=i),this.bottom=(this.y=this.top=t)+(this.height=n),Object.freeze(this)}function d(){t=requestAnimationFrame(d);var s=new WeakMap,p=new Set;o.forEach((function(t){r.get(t).forEach((function(i){var r=t instanceof window.SVGElement,o=a.get(t),d=r?0:parseFloat(o.paddingTop),f=r?0:parseFloat(o.paddingRight),l=r?0:parseFloat(o.paddingBottom),u=r?0:parseFloat(o.paddingLeft),g=r?0:parseFloat(o.borderTopWidth),m=r?0:parseFloat(o.borderRightWidth),w=r?0:parseFloat(o.borderBottomWidth),b=u+f,F=d+l,v=(r?0:parseFloat(o.borderLeftWidth))+m,W=g+w,y=r?0:t.offsetHeight-W-t.clientHeight,E=r?0:t.offsetWidth-v-t.clientWidth,R=b+v,z=F+W,M=r?t.width:parseFloat(o.width)-R-E,O=r?t.height:parseFloat(o.height)-z-y;if(n.has(t)){var k=n.get(t);if(k[0]===M&&k[1]===O)return}n.set(t,[M,O]);var S=Object.create(h.prototype);S.target=t,S.contentRect=new c(u,d,M,O),s.has(i)||(s.set(i,[]),p.add(i)),s.get(i).push(S)}))})),p.forEach((function(e){i.get(e).call(e,s.get(e),e)}))}return s.prototype.observe=function(i){if(i instanceof window.Element){r.has(i)||(r.set(i,new Set),o.add(i),a.set(i,window.getComputedStyle(i)));var n=r.get(i);n.has(this)||n.add(this),cancelAnimationFrame(t),t=requestAnimationFrame(d)}},s.prototype.unobserve=function(i){if(i instanceof window.Element&&r.has(i)){var n=r.get(i);n.has(this)&&(n.delete(this),n.size||(r.delete(i),o.delete(i))),n.size||r.delete(i),o.size||cancelAnimationFrame(t)}},A.DOMRectReadOnly=c,A.ResizeObserver=s,A.ResizeObserverEntry=h,A}; // eslint-disable-line\n",
       "mpl.toolbar_items = [[\"Home\", \"Reset original view\", \"fa fa-home icon-home\", \"home\"], [\"Back\", \"Back to previous view\", \"fa fa-arrow-left icon-arrow-left\", \"back\"], [\"Forward\", \"Forward to next view\", \"fa fa-arrow-right icon-arrow-right\", \"forward\"], [\"\", \"\", \"\", \"\"], [\"Pan\", \"Left button pans, Right button zooms\\nx/y fixes axis, CTRL fixes aspect\", \"fa fa-arrows icon-move\", \"pan\"], [\"Zoom\", \"Zoom to rectangle\\nx/y fixes axis, CTRL fixes aspect\", \"fa fa-square-o icon-check-empty\", \"zoom\"], [\"\", \"\", \"\", \"\"], [\"Download\", \"Download plot\", \"fa fa-floppy-o icon-save\", \"download\"]];\n",
       "\n",
       "mpl.extensions = [\"eps\", \"jpeg\", \"pdf\", \"png\", \"ps\", \"raw\", \"svg\", \"tif\"];\n",
       "\n",
       "mpl.default_extension = \"png\";/* global mpl */\n",
       "\n",
       "var comm_websocket_adapter = function (comm) {\n",
       "    // Create a \"websocket\"-like object which calls the given IPython comm\n",
       "    // object with the appropriate methods. Currently this is a non binary\n",
       "    // socket, so there is still some room for performance tuning.\n",
       "    var ws = {};\n",
       "\n",
       "    ws.close = function () {\n",
       "        comm.close();\n",
       "    };\n",
       "    ws.send = function (m) {\n",
       "        //console.log('sending', m);\n",
       "        comm.send(m);\n",
       "    };\n",
       "    // Register the callback with on_msg.\n",
       "    comm.on_msg(function (msg) {\n",
       "        //console.log('receiving', msg['content']['data'], msg);\n",
       "        // Pass the mpl event to the overridden (by mpl) onmessage function.\n",
       "        ws.onmessage(msg['content']['data']);\n",
       "    });\n",
       "    return ws;\n",
       "};\n",
       "\n",
       "mpl.mpl_figure_comm = function (comm, msg) {\n",
       "    // This is the function which gets called when the mpl process\n",
       "    // starts-up an IPython Comm through the \"matplotlib\" channel.\n",
       "\n",
       "    var id = msg.content.data.id;\n",
       "    // Get hold of the div created by the display call when the Comm\n",
       "    // socket was opened in Python.\n",
       "    var element = document.getElementById(id);\n",
       "    var ws_proxy = comm_websocket_adapter(comm);\n",
       "\n",
       "    function ondownload(figure, _format) {\n",
       "        window.open(figure.canvas.toDataURL());\n",
       "    }\n",
       "\n",
       "    var fig = new mpl.figure(id, ws_proxy, ondownload, element);\n",
       "\n",
       "    // Call onopen now - mpl needs it, as it is assuming we've passed it a real\n",
       "    // web socket which is closed, not our websocket->open comm proxy.\n",
       "    ws_proxy.onopen();\n",
       "\n",
       "    fig.parent_element = element;\n",
       "    fig.cell_info = mpl.find_output_cell(\"<div id='\" + id + \"'></div>\");\n",
       "    if (!fig.cell_info) {\n",
       "        console.error('Failed to find cell for figure', id, fig);\n",
       "        return;\n",
       "    }\n",
       "    fig.cell_info[0].output_area.element.on(\n",
       "        'cleared',\n",
       "        { fig: fig },\n",
       "        fig._remove_fig_handler\n",
       "    );\n",
       "};\n",
       "\n",
       "mpl.figure.prototype.handle_close = function (fig, msg) {\n",
       "    var width = fig.canvas.width / fig.ratio;\n",
       "    fig.cell_info[0].output_area.element.off(\n",
       "        'cleared',\n",
       "        fig._remove_fig_handler\n",
       "    );\n",
       "    fig.resizeObserverInstance.unobserve(fig.canvas_div);\n",
       "\n",
       "    // Update the output cell to use the data from the current canvas.\n",
       "    fig.push_to_output();\n",
       "    var dataURL = fig.canvas.toDataURL();\n",
       "    // Re-enable the keyboard manager in IPython - without this line, in FF,\n",
       "    // the notebook keyboard shortcuts fail.\n",
       "    IPython.keyboard_manager.enable();\n",
       "    fig.parent_element.innerHTML =\n",
       "        '<img src=\"' + dataURL + '\" width=\"' + width + '\">';\n",
       "    fig.close_ws(fig, msg);\n",
       "};\n",
       "\n",
       "mpl.figure.prototype.close_ws = function (fig, msg) {\n",
       "    fig.send_message('closing', msg);\n",
       "    // fig.ws.close()\n",
       "};\n",
       "\n",
       "mpl.figure.prototype.push_to_output = function (_remove_interactive) {\n",
       "    // Turn the data on the canvas into data in the output cell.\n",
       "    var width = this.canvas.width / this.ratio;\n",
       "    var dataURL = this.canvas.toDataURL();\n",
       "    this.cell_info[1]['text/html'] =\n",
       "        '<img src=\"' + dataURL + '\" width=\"' + width + '\">';\n",
       "};\n",
       "\n",
       "mpl.figure.prototype.updated_canvas_event = function () {\n",
       "    // Tell IPython that the notebook contents must change.\n",
       "    IPython.notebook.set_dirty(true);\n",
       "    this.send_message('ack', {});\n",
       "    var fig = this;\n",
       "    // Wait a second, then push the new image to the DOM so\n",
       "    // that it is saved nicely (might be nice to debounce this).\n",
       "    setTimeout(function () {\n",
       "        fig.push_to_output();\n",
       "    }, 1000);\n",
       "};\n",
       "\n",
       "mpl.figure.prototype._init_toolbar = function () {\n",
       "    var fig = this;\n",
       "\n",
       "    var toolbar = document.createElement('div');\n",
       "    toolbar.classList = 'btn-toolbar';\n",
       "    this.root.appendChild(toolbar);\n",
       "\n",
       "    function on_click_closure(name) {\n",
       "        return function (_event) {\n",
       "            return fig.toolbar_button_onclick(name);\n",
       "        };\n",
       "    }\n",
       "\n",
       "    function on_mouseover_closure(tooltip) {\n",
       "        return function (event) {\n",
       "            if (!event.currentTarget.disabled) {\n",
       "                return fig.toolbar_button_onmouseover(tooltip);\n",
       "            }\n",
       "        };\n",
       "    }\n",
       "\n",
       "    fig.buttons = {};\n",
       "    var buttonGroup = document.createElement('div');\n",
       "    buttonGroup.classList = 'btn-group';\n",
       "    var button;\n",
       "    for (var toolbar_ind in mpl.toolbar_items) {\n",
       "        var name = mpl.toolbar_items[toolbar_ind][0];\n",
       "        var tooltip = mpl.toolbar_items[toolbar_ind][1];\n",
       "        var image = mpl.toolbar_items[toolbar_ind][2];\n",
       "        var method_name = mpl.toolbar_items[toolbar_ind][3];\n",
       "\n",
       "        if (!name) {\n",
       "            /* Instead of a spacer, we start a new button group. */\n",
       "            if (buttonGroup.hasChildNodes()) {\n",
       "                toolbar.appendChild(buttonGroup);\n",
       "            }\n",
       "            buttonGroup = document.createElement('div');\n",
       "            buttonGroup.classList = 'btn-group';\n",
       "            continue;\n",
       "        }\n",
       "\n",
       "        button = fig.buttons[name] = document.createElement('button');\n",
       "        button.classList = 'btn btn-default';\n",
       "        button.href = '#';\n",
       "        button.title = name;\n",
       "        button.innerHTML = '<i class=\"fa ' + image + ' fa-lg\"></i>';\n",
       "        button.addEventListener('click', on_click_closure(method_name));\n",
       "        button.addEventListener('mouseover', on_mouseover_closure(tooltip));\n",
       "        buttonGroup.appendChild(button);\n",
       "    }\n",
       "\n",
       "    if (buttonGroup.hasChildNodes()) {\n",
       "        toolbar.appendChild(buttonGroup);\n",
       "    }\n",
       "\n",
       "    // Add the status bar.\n",
       "    var status_bar = document.createElement('span');\n",
       "    status_bar.classList = 'mpl-message pull-right';\n",
       "    toolbar.appendChild(status_bar);\n",
       "    this.message = status_bar;\n",
       "\n",
       "    // Add the close button to the window.\n",
       "    var buttongrp = document.createElement('div');\n",
       "    buttongrp.classList = 'btn-group inline pull-right';\n",
       "    button = document.createElement('button');\n",
       "    button.classList = 'btn btn-mini btn-primary';\n",
       "    button.href = '#';\n",
       "    button.title = 'Stop Interaction';\n",
       "    button.innerHTML = '<i class=\"fa fa-power-off icon-remove icon-large\"></i>';\n",
       "    button.addEventListener('click', function (_evt) {\n",
       "        fig.handle_close(fig, {});\n",
       "    });\n",
       "    button.addEventListener(\n",
       "        'mouseover',\n",
       "        on_mouseover_closure('Stop Interaction')\n",
       "    );\n",
       "    buttongrp.appendChild(button);\n",
       "    var titlebar = this.root.querySelector('.ui-dialog-titlebar');\n",
       "    titlebar.insertBefore(buttongrp, titlebar.firstChild);\n",
       "};\n",
       "\n",
       "mpl.figure.prototype._remove_fig_handler = function (event) {\n",
       "    var fig = event.data.fig;\n",
       "    if (event.target !== this) {\n",
       "        // Ignore bubbled events from children.\n",
       "        return;\n",
       "    }\n",
       "    fig.close_ws(fig, {});\n",
       "};\n",
       "\n",
       "mpl.figure.prototype._root_extra_style = function (el) {\n",
       "    el.style.boxSizing = 'content-box'; // override notebook setting of border-box.\n",
       "};\n",
       "\n",
       "mpl.figure.prototype._canvas_extra_style = function (el) {\n",
       "    // this is important to make the div 'focusable\n",
       "    el.setAttribute('tabindex', 0);\n",
       "    // reach out to IPython and tell the keyboard manager to turn it's self\n",
       "    // off when our div gets focus\n",
       "\n",
       "    // location in version 3\n",
       "    if (IPython.notebook.keyboard_manager) {\n",
       "        IPython.notebook.keyboard_manager.register_events(el);\n",
       "    } else {\n",
       "        // location in version 2\n",
       "        IPython.keyboard_manager.register_events(el);\n",
       "    }\n",
       "};\n",
       "\n",
       "mpl.figure.prototype._key_event_extra = function (event, _name) {\n",
       "    var manager = IPython.notebook.keyboard_manager;\n",
       "    if (!manager) {\n",
       "        manager = IPython.keyboard_manager;\n",
       "    }\n",
       "\n",
       "    // Check for shift+enter\n",
       "    if (event.shiftKey && event.which === 13) {\n",
       "        this.canvas_div.blur();\n",
       "        // select the cell after this one\n",
       "        var index = IPython.notebook.find_cell_index(this.cell_info[0]);\n",
       "        IPython.notebook.select(index + 1);\n",
       "    }\n",
       "};\n",
       "\n",
       "mpl.figure.prototype.handle_save = function (fig, _msg) {\n",
       "    fig.ondownload(fig, null);\n",
       "};\n",
       "\n",
       "mpl.find_output_cell = function (html_output) {\n",
       "    // Return the cell and output element which can be found *uniquely* in the notebook.\n",
       "    // Note - this is a bit hacky, but it is done because the \"notebook_saving.Notebook\"\n",
       "    // IPython event is triggered only after the cells have been serialised, which for\n",
       "    // our purposes (turning an active figure into a static one), is too late.\n",
       "    var cells = IPython.notebook.get_cells();\n",
       "    var ncells = cells.length;\n",
       "    for (var i = 0; i < ncells; i++) {\n",
       "        var cell = cells[i];\n",
       "        if (cell.cell_type === 'code') {\n",
       "            for (var j = 0; j < cell.output_area.outputs.length; j++) {\n",
       "                var data = cell.output_area.outputs[j];\n",
       "                if (data.data) {\n",
       "                    // IPython >= 3 moved mimebundle to data attribute of output\n",
       "                    data = data.data;\n",
       "                }\n",
       "                if (data['text/html'] === html_output) {\n",
       "                    return [cell, data, j];\n",
       "                }\n",
       "            }\n",
       "        }\n",
       "    }\n",
       "};\n",
       "\n",
       "// Register the function which deals with the matplotlib target/channel.\n",
       "// The kernel may be null if the page has been refreshed.\n",
       "if (IPython.notebook.kernel !== null) {\n",
       "    IPython.notebook.kernel.comm_manager.register_target(\n",
       "        'matplotlib',\n",
       "        mpl.mpl_figure_comm\n",
       "    );\n",
       "}\n"
      ],
      "text/plain": [
       "<IPython.core.display.Javascript object>"
      ]
     },
     "metadata": {},
     "output_type": "display_data"
    },
    {
     "data": {
      "text/html": [
       "<img src=\"data:image/png;base64,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\" width=\"504\">"
      ],
      "text/plain": [
       "<IPython.core.display.HTML object>"
      ]
     },
     "metadata": {},
     "output_type": "display_data"
    },
    {
     "data": {
      "application/vnd.jupyter.widget-view+json": {
       "model_id": "f6c53c3d383b40d2afd3b422dd1fd870",
       "version_major": 2,
       "version_minor": 0
      },
      "text/plain": [
       "HBox(children=(VBox(children=(Button(description='Right', style=ButtonStyle()), Button(description='Left', sty…"
      ]
     },
     "metadata": {},
     "output_type": "display_data"
    }
   ],
   "source": [
    "# Create the widgets\n",
    "left = widgets.Button(description='Left')\n",
    "right = widgets.Button(description='Right')\n",
    "out = widgets.Output()\n",
    "\n",
    "# get the file names\n",
    "DATA_PATH = 'images_200/'\n",
    "full_df = pd.read_json('results_comparison_200.json')\n",
    "\n",
    "# Setting the first and last indexs\n",
    "i=0 # starting index\n",
    "i_max = full_df.shape[0] # ending index\n",
    "\n",
    "# Plot the first picture\n",
    "img = plt.imread(f'{DATA_PATH}/{full_df.iloc[i, 0]}')\n",
    "fig, ax = plt.subplots(1, figsize=(7, 7))\n",
    "ax = plt.imshow(img)\n",
    "plt.suptitle(\"Current sample\")\n",
    "plt.show()\n",
    "with out:\n",
    "    clear_output()\n",
    "    display(full_df.iloc[i:i+1].drop('file_name', axis=1))\n",
    "    display(calculate_scores(full_df.iloc[i]))\n",
    "\n",
    "# plots the next image\n",
    "def plot_next(*args):\n",
    "    global i\n",
    "    i += 1\n",
    "    # stop\n",
    "    if i >= i_max: \n",
    "        print(\"Done\")\n",
    "        return\n",
    "\n",
    "    \n",
    "    # get next image index\n",
    "    img = plt.imread(f'{DATA_PATH}/{full_df.iloc[i, 0]}')\n",
    "    ax.set_data(img)\n",
    "    plt.show()\n",
    "    plt.title(f\"image: {full_df.iloc[i, 0]}\")\n",
    "    with out:\n",
    "        clear_output()\n",
    "        display(full_df.iloc[i:i+1].drop('file_name', axis=1))\n",
    "        display(calculate_scores(full_df.iloc[i]))\n",
    "\n",
    "def plot_previous(*args):\n",
    "    global i\n",
    "    i -= 1\n",
    "    # stop\n",
    "    if i < 0: \n",
    "        print(\"Done\")\n",
    "        return\n",
    "\n",
    "    \n",
    "    \n",
    "    # get next image index\n",
    "    img = plt.imread(f'{DATA_PATH}/{full_df.iloc[i, 0]}')\n",
    "    ax.set_data(img)\n",
    "    plt.show()\n",
    "    plt.title(f\"image: {full_df.iloc[i, 0]}\")\n",
    "\n",
    "    with out:\n",
    "        clear_output()\n",
    "        display(full_df.iloc[i:i+1].drop('file_name', axis=1))\n",
    "        display(calculate_scores(full_df.iloc[i]))\n",
    "    \n",
    "    \n",
    "# attaching the buttons to their callback functions         \n",
    "right.on_click(plot_next)\n",
    "left.on_click(plot_previous)\n",
    "\n",
    "# showing the widgets\n",
    "vb1 = widgets.VBox([right, left])\n",
    "vb2 = widgets.VBox([out])\n",
    "widgets.HBox([vb1, vb2])"
   ]
  }
 ],
 "metadata": {
  "kernelspec": {
   "display_name": "Python 3",
   "language": "python",
   "name": "python3"
  },
  "language_info": {
   "codemirror_mode": {
    "name": "ipython",
    "version": 3
   },
   "file_extension": ".py",
   "mimetype": "text/x-python",
   "name": "python",
   "nbconvert_exporter": "python",
   "pygments_lexer": "ipython3",
   "version": "3.6.13"
  }
 },
 "nbformat": 4,
 "nbformat_minor": 4
}
