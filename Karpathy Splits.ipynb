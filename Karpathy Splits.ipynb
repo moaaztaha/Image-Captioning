{
 "cells": [
  {
   "cell_type": "code",
   "execution_count": 1,
   "metadata": {
    "tags": []
   },
   "outputs": [],
   "source": [
    "import pandas as pd\n",
    "import json\n",
    "from tqdm import tqdm"
   ]
  },
  {
   "cell_type": "markdown",
   "metadata": {
    "heading_collapsed": true,
    "tags": []
   },
   "source": [
    "### Karpathy Splits "
   ]
  },
  {
   "cell_type": "code",
   "execution_count": 2,
   "metadata": {
    "hidden": true
   },
   "outputs": [],
   "source": [
    "file_path = 'dataset_flickr8k.json'\n",
    "with open(file_path, 'r') as f:\n",
    "    data = json.load(f)"
   ]
  },
  {
   "cell_type": "code",
   "execution_count": 3,
   "metadata": {
    "hidden": true,
    "tags": []
   },
   "outputs": [],
   "source": [
    "file_names = []\n",
    "splits = []\n",
    "captions = []\n",
    "\n",
    "for img in data['images']:\n",
    "    for sent in img['sentences']:\n",
    "        file_names.append(img['filename'])\n",
    "        captions.append(sent['raw'])\n",
    "        splits.append(img['split'])"
   ]
  },
  {
   "cell_type": "code",
   "execution_count": 4,
   "metadata": {
    "hidden": true
   },
   "outputs": [],
   "source": [
    "df = pd.DataFrame({\n",
    "    'file_name': file_names,\n",
    "    'split': splits,\n",
    "    'caption': captions\n",
    "})"
   ]
  },
  {
   "cell_type": "code",
   "execution_count": 5,
   "metadata": {
    "hidden": true
   },
   "outputs": [
    {
     "data": {
      "text/html": [
       "<div>\n",
       "<style scoped>\n",
       "    .dataframe tbody tr th:only-of-type {\n",
       "        vertical-align: middle;\n",
       "    }\n",
       "\n",
       "    .dataframe tbody tr th {\n",
       "        vertical-align: top;\n",
       "    }\n",
       "\n",
       "    .dataframe thead th {\n",
       "        text-align: right;\n",
       "    }\n",
       "</style>\n",
       "<table border=\"1\" class=\"dataframe\">\n",
       "  <thead>\n",
       "    <tr style=\"text-align: right;\">\n",
       "      <th></th>\n",
       "      <th>file_name</th>\n",
       "      <th>split</th>\n",
       "      <th>caption</th>\n",
       "    </tr>\n",
       "  </thead>\n",
       "  <tbody>\n",
       "    <tr>\n",
       "      <th>0</th>\n",
       "      <td>2513260012_03d33305cf.jpg</td>\n",
       "      <td>train</td>\n",
       "      <td>A black dog is running after a white dog in th...</td>\n",
       "    </tr>\n",
       "    <tr>\n",
       "      <th>1</th>\n",
       "      <td>2513260012_03d33305cf.jpg</td>\n",
       "      <td>train</td>\n",
       "      <td>Black dog chasing brown dog through snow</td>\n",
       "    </tr>\n",
       "    <tr>\n",
       "      <th>2</th>\n",
       "      <td>2513260012_03d33305cf.jpg</td>\n",
       "      <td>train</td>\n",
       "      <td>Two dogs chase each other across the snowy gro...</td>\n",
       "    </tr>\n",
       "    <tr>\n",
       "      <th>3</th>\n",
       "      <td>2513260012_03d33305cf.jpg</td>\n",
       "      <td>train</td>\n",
       "      <td>Two dogs play together in the snow .</td>\n",
       "    </tr>\n",
       "    <tr>\n",
       "      <th>4</th>\n",
       "      <td>2513260012_03d33305cf.jpg</td>\n",
       "      <td>train</td>\n",
       "      <td>Two dogs running through a low lying body of w...</td>\n",
       "    </tr>\n",
       "    <tr>\n",
       "      <th>5</th>\n",
       "      <td>2903617548_d3e38d7f88.jpg</td>\n",
       "      <td>train</td>\n",
       "      <td>A little baby plays croquet .</td>\n",
       "    </tr>\n",
       "    <tr>\n",
       "      <th>6</th>\n",
       "      <td>2903617548_d3e38d7f88.jpg</td>\n",
       "      <td>train</td>\n",
       "      <td>A little girl plays croquet next to a truck .</td>\n",
       "    </tr>\n",
       "    <tr>\n",
       "      <th>7</th>\n",
       "      <td>2903617548_d3e38d7f88.jpg</td>\n",
       "      <td>train</td>\n",
       "      <td>The child is playing croquette by the truck .</td>\n",
       "    </tr>\n",
       "    <tr>\n",
       "      <th>8</th>\n",
       "      <td>2903617548_d3e38d7f88.jpg</td>\n",
       "      <td>train</td>\n",
       "      <td>The kid is in front of a car with a put and a ...</td>\n",
       "    </tr>\n",
       "    <tr>\n",
       "      <th>9</th>\n",
       "      <td>2903617548_d3e38d7f88.jpg</td>\n",
       "      <td>train</td>\n",
       "      <td>The little boy is playing with a croquet hamme...</td>\n",
       "    </tr>\n",
       "  </tbody>\n",
       "</table>\n",
       "</div>"
      ],
      "text/plain": [
       "                   file_name  split  \\\n",
       "0  2513260012_03d33305cf.jpg  train   \n",
       "1  2513260012_03d33305cf.jpg  train   \n",
       "2  2513260012_03d33305cf.jpg  train   \n",
       "3  2513260012_03d33305cf.jpg  train   \n",
       "4  2513260012_03d33305cf.jpg  train   \n",
       "5  2903617548_d3e38d7f88.jpg  train   \n",
       "6  2903617548_d3e38d7f88.jpg  train   \n",
       "7  2903617548_d3e38d7f88.jpg  train   \n",
       "8  2903617548_d3e38d7f88.jpg  train   \n",
       "9  2903617548_d3e38d7f88.jpg  train   \n",
       "\n",
       "                                             caption  \n",
       "0  A black dog is running after a white dog in th...  \n",
       "1           Black dog chasing brown dog through snow  \n",
       "2  Two dogs chase each other across the snowy gro...  \n",
       "3               Two dogs play together in the snow .  \n",
       "4  Two dogs running through a low lying body of w...  \n",
       "5                      A little baby plays croquet .  \n",
       "6      A little girl plays croquet next to a truck .  \n",
       "7      The child is playing croquette by the truck .  \n",
       "8  The kid is in front of a car with a put and a ...  \n",
       "9  The little boy is playing with a croquet hamme...  "
      ]
     },
     "execution_count": 5,
     "metadata": {},
     "output_type": "execute_result"
    }
   ],
   "source": [
    "df.head(10)"
   ]
  },
  {
   "cell_type": "code",
   "execution_count": 6,
   "metadata": {
    "hidden": true
   },
   "outputs": [
    {
     "data": {
      "text/plain": [
       "array(['train', 'val', 'test'], dtype=object)"
      ]
     },
     "execution_count": 6,
     "metadata": {},
     "output_type": "execute_result"
    }
   ],
   "source": [
    "df['split'].unique()"
   ]
  },
  {
   "cell_type": "code",
   "execution_count": 7,
   "metadata": {
    "hidden": true
   },
   "outputs": [
    {
     "data": {
      "text/plain": [
       "(40000, 3)"
      ]
     },
     "execution_count": 7,
     "metadata": {},
     "output_type": "execute_result"
    }
   ],
   "source": [
    "df.shape"
   ]
  },
  {
   "cell_type": "code",
   "execution_count": 8,
   "metadata": {
    "hidden": true
   },
   "outputs": [
    {
     "data": {
      "text/plain": [
       "8000"
      ]
     },
     "execution_count": 8,
     "metadata": {},
     "output_type": "execute_result"
    }
   ],
   "source": [
    "df.file_name.nunique()"
   ]
  },
  {
   "cell_type": "code",
   "execution_count": 9,
   "metadata": {
    "hidden": true
   },
   "outputs": [
    {
     "name": "stdout",
     "output_type": "stream",
     "text": [
      "6000\n",
      "1000\n",
      "1000\n"
     ]
    }
   ],
   "source": [
    "print(df[df['split'] == 'train'].file_name.nunique())\n",
    "print(df[df['split'] == 'val'].file_name.nunique())\n",
    "print(df[df['split'] == 'test'].file_name.nunique())"
   ]
  },
  {
   "cell_type": "code",
   "execution_count": 10,
   "metadata": {
    "hidden": true
   },
   "outputs": [],
   "source": [
    "df.to_csv(\"data.csv\", index=False)"
   ]
  },
  {
   "cell_type": "markdown",
   "metadata": {},
   "source": [
    "### Arabic"
   ]
  },
  {
   "cell_type": "code",
   "execution_count": 2,
   "metadata": {},
   "outputs": [],
   "source": [
    "# make sure they have the images for the testset\n",
    "df = pd.read_csv('data.csv')"
   ]
  },
  {
   "cell_type": "code",
   "execution_count": 3,
   "metadata": {},
   "outputs": [
    {
     "data": {
      "text/html": [
       "<div>\n",
       "<style scoped>\n",
       "    .dataframe tbody tr th:only-of-type {\n",
       "        vertical-align: middle;\n",
       "    }\n",
       "\n",
       "    .dataframe tbody tr th {\n",
       "        vertical-align: top;\n",
       "    }\n",
       "\n",
       "    .dataframe thead th {\n",
       "        text-align: right;\n",
       "    }\n",
       "</style>\n",
       "<table border=\"1\" class=\"dataframe\">\n",
       "  <thead>\n",
       "    <tr style=\"text-align: right;\">\n",
       "      <th></th>\n",
       "      <th>file_name</th>\n",
       "      <th>caption</th>\n",
       "    </tr>\n",
       "  </thead>\n",
       "  <tbody>\n",
       "    <tr>\n",
       "      <th>0</th>\n",
       "      <td>1000268201_693b08cb0e.jpg#0</td>\n",
       "      <td>طفلة صغيرة تتسلق إلى مسرح خشبي</td>\n",
       "    </tr>\n",
       "    <tr>\n",
       "      <th>1</th>\n",
       "      <td>1000268201_693b08cb0e.jpg#1</td>\n",
       "      <td>طفلة صغيرة تتسلق الدرج إلى منزلها</td>\n",
       "    </tr>\n",
       "    <tr>\n",
       "      <th>2</th>\n",
       "      <td>1000268201_693b08cb0e.jpg#2</td>\n",
       "      <td>فتاة صغيرة في ثوب وردي تذهب إلى المقصورة الخشبية</td>\n",
       "    </tr>\n",
       "    <tr>\n",
       "      <th>3</th>\n",
       "      <td>1001773457_577c3a7d70.jpg#0</td>\n",
       "      <td>كلب أسود وكلب ثلاثي الألوان يلعبان مع بعضهما ا...</td>\n",
       "    </tr>\n",
       "    <tr>\n",
       "      <th>4</th>\n",
       "      <td>1001773457_577c3a7d70.jpg#1</td>\n",
       "      <td>كلب أسود وكلب أبيض ببقع بنية يحدقان في بعضهما ...</td>\n",
       "    </tr>\n",
       "  </tbody>\n",
       "</table>\n",
       "</div>"
      ],
      "text/plain": [
       "                     file_name  \\\n",
       "0  1000268201_693b08cb0e.jpg#0   \n",
       "1  1000268201_693b08cb0e.jpg#1   \n",
       "2  1000268201_693b08cb0e.jpg#2   \n",
       "3  1001773457_577c3a7d70.jpg#0   \n",
       "4  1001773457_577c3a7d70.jpg#1   \n",
       "\n",
       "                                             caption  \n",
       "0                     طفلة صغيرة تتسلق إلى مسرح خشبي  \n",
       "1                  طفلة صغيرة تتسلق الدرج إلى منزلها  \n",
       "2   فتاة صغيرة في ثوب وردي تذهب إلى المقصورة الخشبية  \n",
       "3  كلب أسود وكلب ثلاثي الألوان يلعبان مع بعضهما ا...  \n",
       "4  كلب أسود وكلب أبيض ببقع بنية يحدقان في بعضهما ...  "
      ]
     },
     "execution_count": 3,
     "metadata": {},
     "output_type": "execute_result"
    }
   ],
   "source": [
    "# getting the arabic data\n",
    "ar_df = pd.read_csv('ar_captions_full.txt', sep='\\t', names=['file_name', 'caption'])\n",
    "ar_df.head()"
   ]
  },
  {
   "cell_type": "code",
   "execution_count": 4,
   "metadata": {},
   "outputs": [
    {
     "data": {
      "text/html": [
       "<div>\n",
       "<style scoped>\n",
       "    .dataframe tbody tr th:only-of-type {\n",
       "        vertical-align: middle;\n",
       "    }\n",
       "\n",
       "    .dataframe tbody tr th {\n",
       "        vertical-align: top;\n",
       "    }\n",
       "\n",
       "    .dataframe thead th {\n",
       "        text-align: right;\n",
       "    }\n",
       "</style>\n",
       "<table border=\"1\" class=\"dataframe\">\n",
       "  <thead>\n",
       "    <tr style=\"text-align: right;\">\n",
       "      <th></th>\n",
       "      <th>file_name</th>\n",
       "      <th>caption</th>\n",
       "    </tr>\n",
       "  </thead>\n",
       "  <tbody>\n",
       "    <tr>\n",
       "      <th>0</th>\n",
       "      <td>1000268201_693b08cb0e.jpg</td>\n",
       "      <td>طفلة صغيرة تتسلق إلى مسرح خشبي</td>\n",
       "    </tr>\n",
       "    <tr>\n",
       "      <th>1</th>\n",
       "      <td>1000268201_693b08cb0e.jpg</td>\n",
       "      <td>طفلة صغيرة تتسلق الدرج إلى منزلها</td>\n",
       "    </tr>\n",
       "    <tr>\n",
       "      <th>2</th>\n",
       "      <td>1000268201_693b08cb0e.jpg</td>\n",
       "      <td>فتاة صغيرة في ثوب وردي تذهب إلى المقصورة الخشبية</td>\n",
       "    </tr>\n",
       "    <tr>\n",
       "      <th>3</th>\n",
       "      <td>1001773457_577c3a7d70.jpg</td>\n",
       "      <td>كلب أسود وكلب ثلاثي الألوان يلعبان مع بعضهما ا...</td>\n",
       "    </tr>\n",
       "    <tr>\n",
       "      <th>4</th>\n",
       "      <td>1001773457_577c3a7d70.jpg</td>\n",
       "      <td>كلب أسود وكلب أبيض ببقع بنية يحدقان في بعضهما ...</td>\n",
       "    </tr>\n",
       "  </tbody>\n",
       "</table>\n",
       "</div>"
      ],
      "text/plain": [
       "                   file_name  \\\n",
       "0  1000268201_693b08cb0e.jpg   \n",
       "1  1000268201_693b08cb0e.jpg   \n",
       "2  1000268201_693b08cb0e.jpg   \n",
       "3  1001773457_577c3a7d70.jpg   \n",
       "4  1001773457_577c3a7d70.jpg   \n",
       "\n",
       "                                             caption  \n",
       "0                     طفلة صغيرة تتسلق إلى مسرح خشبي  \n",
       "1                  طفلة صغيرة تتسلق الدرج إلى منزلها  \n",
       "2   فتاة صغيرة في ثوب وردي تذهب إلى المقصورة الخشبية  \n",
       "3  كلب أسود وكلب ثلاثي الألوان يلعبان مع بعضهما ا...  \n",
       "4  كلب أسود وكلب أبيض ببقع بنية يحدقان في بعضهما ...  "
      ]
     },
     "execution_count": 4,
     "metadata": {},
     "output_type": "execute_result"
    }
   ],
   "source": [
    "ar_df.file_name = ar_df.file_name.apply(lambda x: x.split(\"#\")[0])\n",
    "ar_df.head()"
   ]
  },
  {
   "cell_type": "code",
   "execution_count": 5,
   "metadata": {},
   "outputs": [],
   "source": [
    "ar_df['split'] = 'other'"
   ]
  },
  {
   "cell_type": "code",
   "execution_count": 6,
   "metadata": {},
   "outputs": [],
   "source": [
    "def split(x):\n",
    "    \n",
    "    if x in test_names:\n",
    "        return 'test'\n",
    "    elif x in val_names:\n",
    "        return 'val'\n",
    "    elif x in train_names:\n",
    "        return 'train'\n",
    "    else:\n",
    "        print(x)"
   ]
  },
  {
   "cell_type": "code",
   "execution_count": 7,
   "metadata": {},
   "outputs": [
    {
     "data": {
      "text/plain": [
       "(6000, 1000, 1000)"
      ]
     },
     "execution_count": 7,
     "metadata": {},
     "output_type": "execute_result"
    }
   ],
   "source": [
    "test_names = df[df['split'] == 'test'].file_name.unique()\n",
    "val_names = df[df['split'] == 'val'].file_name.unique()\n",
    "train_names = df[df['split'] == 'train'].file_name.unique()\n",
    "len(train_names), len(val_names), len(test_names)"
   ]
  },
  {
   "cell_type": "code",
   "execution_count": 8,
   "metadata": {},
   "outputs": [
    {
     "name": "stdout",
     "output_type": "stream",
     "text": [
      "1155138244_859fd6e079.jpg\n",
      "1155138244_859fd6e079.jpg\n",
      "1155138244_859fd6e079.jpg\n",
      "1468103286_96a6e07029.jpg\n",
      "1468103286_96a6e07029.jpg\n",
      "1468103286_96a6e07029.jpg\n",
      "1479857177_9d4a6f38fd.jpg\n",
      "1479857177_9d4a6f38fd.jpg\n",
      "1479857177_9d4a6f38fd.jpg\n",
      "1643915227_9f48068772.jpg\n",
      "1643915227_9f48068772.jpg\n",
      "1643915227_9f48068772.jpg\n",
      "1797554350_20998753c0.jpg\n",
      "1797554350_20998753c0.jpg\n",
      "1797554350_20998753c0.jpg\n",
      "1808504612_3508f3c9bb.jpg\n",
      "1808504612_3508f3c9bb.jpg\n",
      "1808504612_3508f3c9bb.jpg\n",
      "199463720_329a802206.jpg\n",
      "199463720_329a802206.jpg\n",
      "199463720_329a802206.jpg\n",
      "2058091220_2087270068.jpg\n",
      "2058091220_2087270068.jpg\n",
      "2058091220_2087270068.jpg\n",
      "2087317114_cf06df5aa5.jpg\n",
      "2087317114_cf06df5aa5.jpg\n",
      "2087317114_cf06df5aa5.jpg\n",
      "2136455112_202c093ba4.jpg\n",
      "2136455112_202c093ba4.jpg\n",
      "2136455112_202c093ba4.jpg\n",
      "2221818690_9003756d33.jpg\n",
      "2221818690_9003756d33.jpg\n",
      "2221818690_9003756d33.jpg\n",
      "2319197581_94f807b204.jpg\n",
      "2319197581_94f807b204.jpg\n",
      "2319197581_94f807b204.jpg\n",
      "236095031_5cb17dc54a.jpg\n",
      "236095031_5cb17dc54a.jpg\n",
      "236095031_5cb17dc54a.jpg\n",
      "2394824046_51cec8e5e7.jpg\n",
      "2394824046_51cec8e5e7.jpg\n",
      "2394824046_51cec8e5e7.jpg\n",
      "240696675_7d05193aa0.jpg\n",
      "240696675_7d05193aa0.jpg\n",
      "240696675_7d05193aa0.jpg\n",
      "2410153942_ba4a136358.jpg\n",
      "2410153942_ba4a136358.jpg\n",
      "2410153942_ba4a136358.jpg\n",
      "2428275562_4bde2bc5ea.jpg\n",
      "2428275562_4bde2bc5ea.jpg\n",
      "2428275562_4bde2bc5ea.jpg\n",
      "2553619107_d382a820f9.jpg\n",
      "2553619107_d382a820f9.jpg\n",
      "2553619107_d382a820f9.jpg\n",
      "2557972410_6925fe695c.jpg\n",
      "2557972410_6925fe695c.jpg\n",
      "2557972410_6925fe695c.jpg\n",
      "2582390123_71120edb0c.jpg\n",
      "2582390123_71120edb0c.jpg\n",
      "2582390123_71120edb0c.jpg\n",
      "2616508003_fa5ca5780d.jpg\n",
      "2616508003_fa5ca5780d.jpg\n",
      "2616508003_fa5ca5780d.jpg\n",
      "2714703706_d21c5cb8df.jpg\n",
      "2714703706_d21c5cb8df.jpg\n",
      "2714703706_d21c5cb8df.jpg\n",
      "2719101587_4ba70dee14.jpg\n",
      "2719101587_4ba70dee14.jpg\n",
      "2719101587_4ba70dee14.jpg\n",
      "2747714500_49476225c6.jpg\n",
      "2747714500_49476225c6.jpg\n",
      "2747714500_49476225c6.jpg\n",
      "2755314937_1e974bf2b5.jpg\n",
      "2755314937_1e974bf2b5.jpg\n",
      "2755314937_1e974bf2b5.jpg\n",
      "2792195540_af5fb95caa.jpg\n",
      "2792195540_af5fb95caa.jpg\n",
      "2792195540_af5fb95caa.jpg\n",
      "2831578193_3c997ae330.jpg\n",
      "2831578193_3c997ae330.jpg\n",
      "2831578193_3c997ae330.jpg\n",
      "2838085973_42b6e9b5b1.jpg\n",
      "2838085973_42b6e9b5b1.jpg\n",
      "2838085973_42b6e9b5b1.jpg\n",
      "2895966469_53e0b29295.jpg\n",
      "2895966469_53e0b29295.jpg\n",
      "2895966469_53e0b29295.jpg\n",
      "2973269132_252bfd0160.jpg\n",
      "2973269132_252bfd0160.jpg\n",
      "2973269132_252bfd0160.jpg\n",
      "2978236380_fb24c43f1e.jpg\n",
      "2978236380_fb24c43f1e.jpg\n",
      "2978236380_fb24c43f1e.jpg\n",
      "2998861375_02817e0147.jpg\n",
      "2998861375_02817e0147.jpg\n",
      "2998861375_02817e0147.jpg\n",
      "3005123298_d3017d5f5d.jpg\n",
      "3005123298_d3017d5f5d.jpg\n",
      "3005123298_d3017d5f5d.jpg\n",
      "3016708786_3591106cca.jpg\n",
      "3016708786_3591106cca.jpg\n",
      "3016708786_3591106cca.jpg\n",
      "3033825101_44a4390f16.jpg\n",
      "3033825101_44a4390f16.jpg\n",
      "3033825101_44a4390f16.jpg\n",
      "3056569684_c264c88d00.jpg\n",
      "3056569684_c264c88d00.jpg\n",
      "3056569684_c264c88d00.jpg\n",
      "3086507638_d8a2cd0ac3.jpg\n",
      "3086507638_d8a2cd0ac3.jpg\n",
      "3086507638_d8a2cd0ac3.jpg\n",
      "3088074124_481139dc92.jpg\n",
      "3088074124_481139dc92.jpg\n",
      "3088074124_481139dc92.jpg\n",
      "3099091086_f75f0ce09d.jpg\n",
      "3099091086_f75f0ce09d.jpg\n",
      "3099091086_f75f0ce09d.jpg\n",
      "3131990048_369b081021.jpg\n",
      "3131990048_369b081021.jpg\n",
      "3131990048_369b081021.jpg\n",
      "3136688093_568b053bdf.jpg\n",
      "3136688093_568b053bdf.jpg\n",
      "3136688093_568b053bdf.jpg\n",
      "3155400369_69e3d6d70f.jpg\n",
      "3155400369_69e3d6d70f.jpg\n",
      "3155400369_69e3d6d70f.jpg\n",
      "3160531982_37f5636b8a.jpg\n",
      "3160531982_37f5636b8a.jpg\n",
      "3160531982_37f5636b8a.jpg\n",
      "3196100539_102fe877b3.jpg\n",
      "3196100539_102fe877b3.jpg\n",
      "3196100539_102fe877b3.jpg\n",
      "3225058391_a12d38d911.jpg\n",
      "3225058391_a12d38d911.jpg\n",
      "3225058391_a12d38d911.jpg\n",
      "3231237864_8cb1c6d863.jpg\n",
      "3231237864_8cb1c6d863.jpg\n",
      "3231237864_8cb1c6d863.jpg\n",
      "3239866450_3f8cfb0c83.jpg\n",
      "3239866450_3f8cfb0c83.jpg\n",
      "3239866450_3f8cfb0c83.jpg\n",
      "3246804978_ea2c9e56f2.jpg\n",
      "3246804978_ea2c9e56f2.jpg\n",
      "3246804978_ea2c9e56f2.jpg\n",
      "3269661567_faf190885a.jpg\n",
      "3269661567_faf190885a.jpg\n",
      "3269661567_faf190885a.jpg\n",
      "3274691778_94bb57bba3.jpg\n",
      "3274691778_94bb57bba3.jpg\n",
      "3274691778_94bb57bba3.jpg\n",
      "3295418287_5d590dac43.jpg\n",
      "3295418287_5d590dac43.jpg\n",
      "3295418287_5d590dac43.jpg\n",
      "3300679815_2c6c2301cb.jpg\n",
      "3300679815_2c6c2301cb.jpg\n",
      "3300679815_2c6c2301cb.jpg\n",
      "3314900697_c5c5ae9af6.jpg\n",
      "3314900697_c5c5ae9af6.jpg\n",
      "3314900697_c5c5ae9af6.jpg\n",
      "3315726723_64c9b0a945.jpg\n",
      "3315726723_64c9b0a945.jpg\n",
      "3315726723_64c9b0a945.jpg\n",
      "3333039854_461329aac2.jpg\n",
      "3333039854_461329aac2.jpg\n",
      "3333039854_461329aac2.jpg\n",
      "3335501468_628655d608.jpg\n",
      "3335501468_628655d608.jpg\n",
      "3335501468_628655d608.jpg\n",
      "3338590946_f25b76cbc7.jpg\n",
      "3338590946_f25b76cbc7.jpg\n",
      "3338590946_f25b76cbc7.jpg\n",
      "3354489242_dd529ffa1f.jpg\n",
      "3354489242_dd529ffa1f.jpg\n",
      "3354489242_dd529ffa1f.jpg\n",
      "3366571152_20afb88ac1.jpg\n",
      "3366571152_20afb88ac1.jpg\n",
      "3366571152_20afb88ac1.jpg\n",
      "3375134059_7e9eb2ef01.jpg\n",
      "3375134059_7e9eb2ef01.jpg\n",
      "3375134059_7e9eb2ef01.jpg\n",
      "3409326324_a704565e8f.jpg\n",
      "3409326324_a704565e8f.jpg\n",
      "3409326324_a704565e8f.jpg\n",
      "3409947123_a8d07edecf.jpg\n",
      "3409947123_a8d07edecf.jpg\n",
      "3409947123_a8d07edecf.jpg\n",
      "3430782104_34da558eba.jpg\n",
      "3430782104_34da558eba.jpg\n",
      "3430782104_34da558eba.jpg\n",
      "3434526008_02359881a0.jpg\n",
      "3434526008_02359881a0.jpg\n",
      "3434526008_02359881a0.jpg\n",
      "3470008804_0ca36a7a09.jpg\n",
      "3470008804_0ca36a7a09.jpg\n",
      "3470008804_0ca36a7a09.jpg\n",
      "3479245321_6a5bc470f8.jpg\n",
      "3479245321_6a5bc470f8.jpg\n",
      "3479245321_6a5bc470f8.jpg\n",
      "3491607076_922ec561d9.jpg\n",
      "3491607076_922ec561d9.jpg\n",
      "3491607076_922ec561d9.jpg\n",
      "3504479370_ff2d89a043.jpg\n",
      "3504479370_ff2d89a043.jpg\n",
      "3504479370_ff2d89a043.jpg\n",
      "3517056462_483ee5a914.jpg\n",
      "3517056462_483ee5a914.jpg\n",
      "3517056462_483ee5a914.jpg\n",
      "3518687038_964c523958.jpg\n",
      "3518687038_964c523958.jpg\n",
      "3518687038_964c523958.jpg\n",
      "3525453732_f74a38f111.jpg\n",
      "3525453732_f74a38f111.jpg\n",
      "3525453732_f74a38f111.jpg\n",
      "3535664885_c848c0faee.jpg\n",
      "3535664885_c848c0faee.jpg\n",
      "3535664885_c848c0faee.jpg\n",
      "3551281733_b43bf6f870.jpg\n",
      "3551281733_b43bf6f870.jpg\n",
      "3551281733_b43bf6f870.jpg\n",
      "3561543598_3c1b572f9b.jpg\n",
      "3561543598_3c1b572f9b.jpg\n",
      "3561543598_3c1b572f9b.jpg\n",
      "3564907603_14ccc655f1.jpg\n",
      "3564907603_14ccc655f1.jpg\n",
      "3564907603_14ccc655f1.jpg\n",
      "3574930742_9081bd2426.jpg\n",
      "3574930742_9081bd2426.jpg\n",
      "3574930742_9081bd2426.jpg\n",
      "3582048078_7bac2d8473.jpg\n",
      "3582048078_7bac2d8473.jpg\n",
      "3582048078_7bac2d8473.jpg\n",
      "358875403_f357f03713.jpg\n",
      "358875403_f357f03713.jpg\n",
      "358875403_f357f03713.jpg\n",
      "3591461782_687e320042.jpg\n",
      "3591461782_687e320042.jpg\n",
      "3591461782_687e320042.jpg\n",
      "3599392711_8264881de2.jpg\n",
      "3599392711_8264881de2.jpg\n",
      "3599392711_8264881de2.jpg\n",
      "3619232550_0b1e1fd4e4.jpg\n",
      "3619232550_0b1e1fd4e4.jpg\n",
      "3619232550_0b1e1fd4e4.jpg\n",
      "3640109324_3ce89e4d1a.jpg\n",
      "3640109324_3ce89e4d1a.jpg\n",
      "3640109324_3ce89e4d1a.jpg\n",
      "3640443200_b8066f37f6.jpg\n",
      "3640443200_b8066f37f6.jpg\n",
      "3640443200_b8066f37f6.jpg\n",
      "3664928753_7b0437fedf.jpg\n",
      "3664928753_7b0437fedf.jpg\n",
      "3664928753_7b0437fedf.jpg\n",
      "3736786640_70df13be2c.jpg\n",
      "3736786640_70df13be2c.jpg\n",
      "3736786640_70df13be2c.jpg\n",
      "394563330_68b566368c.jpg\n",
      "394563330_68b566368c.jpg\n",
      "394563330_68b566368c.jpg\n",
      "423066487_07757b2b49.jpg\n",
      "423066487_07757b2b49.jpg\n",
      "423066487_07757b2b49.jpg\n",
      "عيدا في المنطقة المشجرة\n",
      "482088914_e6ea4501e9.jpg\n",
      "482088914_e6ea4501e9.jpg\n",
      "482088914_e6ea4501e9.jpg\n",
      "531197115_2be4d5034b.jpg\n",
      "531197115_2be4d5034b.jpg\n",
      "531197115_2be4d5034b.jpg\n",
      "61209225_8512e1dad5.jpg\n",
      "61209225_8512e1dad5.jpg\n",
      "61209225_8512e1dad5.jpg\n",
      "843616798_5ab0ecb525.jpg\n",
      "843616798_5ab0ecb525.jpg\n",
      "843616798_5ab0ecb525.jpg\n"
     ]
    },
    {
     "data": {
      "text/html": [
       "<div>\n",
       "<style scoped>\n",
       "    .dataframe tbody tr th:only-of-type {\n",
       "        vertical-align: middle;\n",
       "    }\n",
       "\n",
       "    .dataframe tbody tr th {\n",
       "        vertical-align: top;\n",
       "    }\n",
       "\n",
       "    .dataframe thead th {\n",
       "        text-align: right;\n",
       "    }\n",
       "</style>\n",
       "<table border=\"1\" class=\"dataframe\">\n",
       "  <thead>\n",
       "    <tr style=\"text-align: right;\">\n",
       "      <th></th>\n",
       "      <th>file_name</th>\n",
       "      <th>caption</th>\n",
       "      <th>split</th>\n",
       "    </tr>\n",
       "  </thead>\n",
       "  <tbody>\n",
       "    <tr>\n",
       "      <th>9276</th>\n",
       "      <td>2844846111_8c1cbfc75d.jpg</td>\n",
       "      <td>شخص يتسلق صخرة بينما يقف الآخرون ويراقبون</td>\n",
       "      <td>train</td>\n",
       "    </tr>\n",
       "    <tr>\n",
       "      <th>434</th>\n",
       "      <td>115684808_cb01227802.jpg</td>\n",
       "      <td>ثلاثة اشخاص وزلاجة</td>\n",
       "      <td>test</td>\n",
       "    </tr>\n",
       "    <tr>\n",
       "      <th>21612</th>\n",
       "      <td>414773731_c3f5bf43d5.jpg</td>\n",
       "      <td>كلب أسود يركض في الثلج</td>\n",
       "      <td>val</td>\n",
       "    </tr>\n",
       "    <tr>\n",
       "      <th>7331</th>\n",
       "      <td>261737543_b8fdc24671.jpg</td>\n",
       "      <td>شخص يقفز من صخرة عالية</td>\n",
       "      <td>train</td>\n",
       "    </tr>\n",
       "    <tr>\n",
       "      <th>22958</th>\n",
       "      <td>532036676_e88b13e0a1.jpg</td>\n",
       "      <td>طفل في قميص أبيض وجينز</td>\n",
       "      <td>train</td>\n",
       "    </tr>\n",
       "  </tbody>\n",
       "</table>\n",
       "</div>"
      ],
      "text/plain": [
       "                       file_name                                    caption  \\\n",
       "9276   2844846111_8c1cbfc75d.jpg  شخص يتسلق صخرة بينما يقف الآخرون ويراقبون   \n",
       "434     115684808_cb01227802.jpg                         ثلاثة اشخاص وزلاجة   \n",
       "21612   414773731_c3f5bf43d5.jpg                     كلب أسود يركض في الثلج   \n",
       "7331    261737543_b8fdc24671.jpg                     شخص يقفز من صخرة عالية   \n",
       "22958   532036676_e88b13e0a1.jpg                     طفل في قميص أبيض وجينز   \n",
       "\n",
       "       split  \n",
       "9276   train  \n",
       "434     test  \n",
       "21612    val  \n",
       "7331   train  \n",
       "22958  train  "
      ]
     },
     "execution_count": 8,
     "metadata": {},
     "output_type": "execute_result"
    }
   ],
   "source": [
    "ar_df['split'] = ar_df['file_name'].apply(lambda row: split(row))\n",
    "ar_df.sample(5)"
   ]
  },
  {
   "cell_type": "code",
   "execution_count": 9,
   "metadata": {},
   "outputs": [
    {
     "data": {
      "text/plain": [
       "(6000, (18000, 3))"
      ]
     },
     "execution_count": 9,
     "metadata": {},
     "output_type": "execute_result"
    }
   ],
   "source": [
    "ar_df[ar_df['split'] == 'train'].file_name.nunique() , ar_df[ar_df['split'] == 'train'].shape"
   ]
  },
  {
   "cell_type": "code",
   "execution_count": 10,
   "metadata": {},
   "outputs": [
    {
     "data": {
      "text/plain": [
       "(6000, (30000, 3))"
      ]
     },
     "execution_count": 10,
     "metadata": {},
     "output_type": "execute_result"
    }
   ],
   "source": [
    "df[df['split'] == 'train'].file_name.nunique() , df[df['split'] == 'train'].shape"
   ]
  },
  {
   "cell_type": "code",
   "execution_count": 11,
   "metadata": {},
   "outputs": [
    {
     "data": {
      "text/plain": [
       "(1000, (3000, 3))"
      ]
     },
     "execution_count": 11,
     "metadata": {},
     "output_type": "execute_result"
    }
   ],
   "source": [
    "ar_df[ar_df['split'] == 'val'].file_name.nunique() , ar_df[ar_df['split'] == 'val'].shape"
   ]
  },
  {
   "cell_type": "code",
   "execution_count": 12,
   "metadata": {},
   "outputs": [
    {
     "data": {
      "text/plain": [
       "(1000, (5000, 3))"
      ]
     },
     "execution_count": 12,
     "metadata": {},
     "output_type": "execute_result"
    }
   ],
   "source": [
    "df[df['split'] == 'val'].file_name.nunique() , df[df['split'] == 'val'].shape"
   ]
  },
  {
   "cell_type": "code",
   "execution_count": 13,
   "metadata": {},
   "outputs": [
    {
     "data": {
      "text/plain": [
       "(1000, (3000, 3))"
      ]
     },
     "execution_count": 13,
     "metadata": {},
     "output_type": "execute_result"
    }
   ],
   "source": [
    "ar_df[ar_df['split'] == 'test'].file_name.nunique() , ar_df[ar_df['split'] == 'test'].shape"
   ]
  },
  {
   "cell_type": "code",
   "execution_count": 14,
   "metadata": {},
   "outputs": [
    {
     "data": {
      "text/plain": [
       "(1000, (5000, 3))"
      ]
     },
     "execution_count": 14,
     "metadata": {},
     "output_type": "execute_result"
    }
   ],
   "source": [
    "df[df['split'] == 'test'].file_name.nunique() , df[df['split'] == 'test'].shape"
   ]
  },
  {
   "cell_type": "code",
   "execution_count": 17,
   "metadata": {},
   "outputs": [],
   "source": [
    "# save arabic data file\n",
    "ar_df.to_csv('ar_data.csv', index=False)"
   ]
  }
 ],
 "metadata": {
  "kernelspec": {
   "display_name": "Python 3",
   "language": "python",
   "name": "python3"
  },
  "language_info": {
   "codemirror_mode": {
    "name": "ipython",
    "version": 3
   },
   "file_extension": ".py",
   "mimetype": "text/x-python",
   "name": "python",
   "nbconvert_exporter": "python",
   "pygments_lexer": "ipython3",
   "version": "3.6.13"
  }
 },
 "nbformat": 4,
 "nbformat_minor": 4
}
