{
  "nbformat": 4,
  "nbformat_minor": 5,
  "metadata": {
    "kernelspec": {
      "display_name": "Python 3",
      "language": "python",
      "name": "python3"
    },
    "language_info": {
      "codemirror_mode": {
        "name": "ipython",
        "version": 3
      },
      "file_extension": ".py",
      "mimetype": "text/x-python",
      "name": "python",
      "nbconvert_exporter": "python",
      "pygments_lexer": "ipython3",
      "version": "3.7.9"
    },
    "colab": {
      "name": "Arabic_30maxlen.ipynb",
      "provenance": [],
      "collapsed_sections": []
    },
    "accelerator": "GPU",
    "widgets": {
      "application/vnd.jupyter.widget-state+json": {
        "bc64aa5989bb4b96b142960368164baa": {
          "model_module": "@jupyter-widgets/controls",
          "model_name": "HBoxModel",
          "state": {
            "_view_name": "HBoxView",
            "_dom_classes": [],
            "_model_name": "HBoxModel",
            "_view_module": "@jupyter-widgets/controls",
            "_model_module_version": "1.5.0",
            "_view_count": null,
            "_view_module_version": "1.5.0",
            "box_style": "",
            "layout": "IPY_MODEL_9e6493ef99b54cf28ebc608928daf13e",
            "_model_module": "@jupyter-widgets/controls",
            "children": [
              "IPY_MODEL_96deeb1709a3439ab898f2c99aa7cba1",
              "IPY_MODEL_f40abb365e2048d991ef3f48f46c9e93"
            ]
          }
        },
        "9e6493ef99b54cf28ebc608928daf13e": {
          "model_module": "@jupyter-widgets/base",
          "model_name": "LayoutModel",
          "state": {
            "_view_name": "LayoutView",
            "grid_template_rows": null,
            "right": null,
            "justify_content": null,
            "_view_module": "@jupyter-widgets/base",
            "overflow": null,
            "_model_module_version": "1.2.0",
            "_view_count": null,
            "flex_flow": null,
            "width": null,
            "min_width": null,
            "border": null,
            "align_items": null,
            "bottom": null,
            "_model_module": "@jupyter-widgets/base",
            "top": null,
            "grid_column": null,
            "overflow_y": null,
            "overflow_x": null,
            "grid_auto_flow": null,
            "grid_area": null,
            "grid_template_columns": null,
            "flex": null,
            "_model_name": "LayoutModel",
            "justify_items": null,
            "grid_row": null,
            "max_height": null,
            "align_content": null,
            "visibility": null,
            "align_self": null,
            "height": null,
            "min_height": null,
            "padding": null,
            "grid_auto_rows": null,
            "grid_gap": null,
            "max_width": null,
            "order": null,
            "_view_module_version": "1.2.0",
            "grid_template_areas": null,
            "object_position": null,
            "object_fit": null,
            "grid_auto_columns": null,
            "margin": null,
            "display": null,
            "left": null
          }
        },
        "96deeb1709a3439ab898f2c99aa7cba1": {
          "model_module": "@jupyter-widgets/controls",
          "model_name": "FloatProgressModel",
          "state": {
            "_view_name": "ProgressView",
            "style": "IPY_MODEL_39e8213caa774110ac227665927db4c7",
            "_dom_classes": [],
            "description": "100%",
            "_model_name": "FloatProgressModel",
            "bar_style": "success",
            "max": 178793939,
            "_view_module": "@jupyter-widgets/controls",
            "_model_module_version": "1.5.0",
            "value": 178793939,
            "_view_count": null,
            "_view_module_version": "1.5.0",
            "orientation": "horizontal",
            "min": 0,
            "description_tooltip": null,
            "_model_module": "@jupyter-widgets/controls",
            "layout": "IPY_MODEL_95e0c9b5adfb4ed5a4ee2b69aab4220d"
          }
        },
        "f40abb365e2048d991ef3f48f46c9e93": {
          "model_module": "@jupyter-widgets/controls",
          "model_name": "HTMLModel",
          "state": {
            "_view_name": "HTMLView",
            "style": "IPY_MODEL_6ef04beebf5c4c0e9c04f0cad319394e",
            "_dom_classes": [],
            "description": "",
            "_model_name": "HTMLModel",
            "placeholder": "​",
            "_view_module": "@jupyter-widgets/controls",
            "_model_module_version": "1.5.0",
            "value": " 171M/171M [00:01&lt;00:00, 152MB/s]",
            "_view_count": null,
            "_view_module_version": "1.5.0",
            "description_tooltip": null,
            "_model_module": "@jupyter-widgets/controls",
            "layout": "IPY_MODEL_59c29b01b7e84eafaf099f474460b5e1"
          }
        },
        "39e8213caa774110ac227665927db4c7": {
          "model_module": "@jupyter-widgets/controls",
          "model_name": "ProgressStyleModel",
          "state": {
            "_view_name": "StyleView",
            "_model_name": "ProgressStyleModel",
            "description_width": "initial",
            "_view_module": "@jupyter-widgets/base",
            "_model_module_version": "1.5.0",
            "_view_count": null,
            "_view_module_version": "1.2.0",
            "bar_color": null,
            "_model_module": "@jupyter-widgets/controls"
          }
        },
        "95e0c9b5adfb4ed5a4ee2b69aab4220d": {
          "model_module": "@jupyter-widgets/base",
          "model_name": "LayoutModel",
          "state": {
            "_view_name": "LayoutView",
            "grid_template_rows": null,
            "right": null,
            "justify_content": null,
            "_view_module": "@jupyter-widgets/base",
            "overflow": null,
            "_model_module_version": "1.2.0",
            "_view_count": null,
            "flex_flow": null,
            "width": null,
            "min_width": null,
            "border": null,
            "align_items": null,
            "bottom": null,
            "_model_module": "@jupyter-widgets/base",
            "top": null,
            "grid_column": null,
            "overflow_y": null,
            "overflow_x": null,
            "grid_auto_flow": null,
            "grid_area": null,
            "grid_template_columns": null,
            "flex": null,
            "_model_name": "LayoutModel",
            "justify_items": null,
            "grid_row": null,
            "max_height": null,
            "align_content": null,
            "visibility": null,
            "align_self": null,
            "height": null,
            "min_height": null,
            "padding": null,
            "grid_auto_rows": null,
            "grid_gap": null,
            "max_width": null,
            "order": null,
            "_view_module_version": "1.2.0",
            "grid_template_areas": null,
            "object_position": null,
            "object_fit": null,
            "grid_auto_columns": null,
            "margin": null,
            "display": null,
            "left": null
          }
        },
        "6ef04beebf5c4c0e9c04f0cad319394e": {
          "model_module": "@jupyter-widgets/controls",
          "model_name": "DescriptionStyleModel",
          "state": {
            "_view_name": "StyleView",
            "_model_name": "DescriptionStyleModel",
            "description_width": "",
            "_view_module": "@jupyter-widgets/base",
            "_model_module_version": "1.5.0",
            "_view_count": null,
            "_view_module_version": "1.2.0",
            "_model_module": "@jupyter-widgets/controls"
          }
        },
        "59c29b01b7e84eafaf099f474460b5e1": {
          "model_module": "@jupyter-widgets/base",
          "model_name": "LayoutModel",
          "state": {
            "_view_name": "LayoutView",
            "grid_template_rows": null,
            "right": null,
            "justify_content": null,
            "_view_module": "@jupyter-widgets/base",
            "overflow": null,
            "_model_module_version": "1.2.0",
            "_view_count": null,
            "flex_flow": null,
            "width": null,
            "min_width": null,
            "border": null,
            "align_items": null,
            "bottom": null,
            "_model_module": "@jupyter-widgets/base",
            "top": null,
            "grid_column": null,
            "overflow_y": null,
            "overflow_x": null,
            "grid_auto_flow": null,
            "grid_area": null,
            "grid_template_columns": null,
            "flex": null,
            "_model_name": "LayoutModel",
            "justify_items": null,
            "grid_row": null,
            "max_height": null,
            "align_content": null,
            "visibility": null,
            "align_self": null,
            "height": null,
            "min_height": null,
            "padding": null,
            "grid_auto_rows": null,
            "grid_gap": null,
            "max_width": null,
            "order": null,
            "_view_module_version": "1.2.0",
            "grid_template_areas": null,
            "object_position": null,
            "object_fit": null,
            "grid_auto_columns": null,
            "margin": null,
            "display": null,
            "left": null
          }
        }
      }
    }
  },
  "cells": [
    {
      "cell_type": "code",
      "metadata": {
        "colab": {
          "base_uri": "https://localhost:8080/"
        },
        "id": "7AmLihjzYLns",
        "outputId": "c7ee98ce-7c09-4ab9-85cd-e0602890f71e"
      },
      "source": [
        "!nvidia-smi"
      ],
      "id": "7AmLihjzYLns",
      "execution_count": null,
      "outputs": [
        {
          "output_type": "stream",
          "text": [
            "Sat Jun 26 08:13:05 2021       \n",
            "+-----------------------------------------------------------------------------+\n",
            "| NVIDIA-SMI 465.27       Driver Version: 460.32.03    CUDA Version: 11.2     |\n",
            "|-------------------------------+----------------------+----------------------+\n",
            "| GPU  Name        Persistence-M| Bus-Id        Disp.A | Volatile Uncorr. ECC |\n",
            "| Fan  Temp  Perf  Pwr:Usage/Cap|         Memory-Usage | GPU-Util  Compute M. |\n",
            "|                               |                      |               MIG M. |\n",
            "|===============================+======================+======================|\n",
            "|   0  Tesla T4            Off  | 00000000:00:04.0 Off |                    0 |\n",
            "| N/A   49C    P8    10W /  70W |      0MiB / 15109MiB |      0%      Default |\n",
            "|                               |                      |                  N/A |\n",
            "+-------------------------------+----------------------+----------------------+\n",
            "                                                                               \n",
            "+-----------------------------------------------------------------------------+\n",
            "| Processes:                                                                  |\n",
            "|  GPU   GI   CI        PID   Type   Process name                  GPU Memory |\n",
            "|        ID   ID                                                   Usage      |\n",
            "|=============================================================================|\n",
            "|  No running processes found                                                 |\n",
            "+-----------------------------------------------------------------------------+\n"
          ],
          "name": "stdout"
        }
      ]
    },
    {
      "cell_type": "code",
      "metadata": {
        "colab": {
          "base_uri": "https://localhost:8080/"
        },
        "id": "LlaI1FrTYRx2",
        "outputId": "29bfb2a1-9dca-4252-c98d-9259460a3091"
      },
      "source": [
        "from google.colab import drive\n",
        "drive.mount('/content/drive')"
      ],
      "id": "LlaI1FrTYRx2",
      "execution_count": null,
      "outputs": [
        {
          "output_type": "stream",
          "text": [
            "Mounted at /content/drive\n"
          ],
          "name": "stdout"
        }
      ]
    },
    {
      "cell_type": "code",
      "metadata": {
        "id": "ujXdcntcYVtb"
      },
      "source": [
        "!mkdir /root/.kaggle\n",
        "!mv kaggle.json /root/.kaggle\n",
        "!chmod 600 /root/.kaggle/kaggle.json"
      ],
      "id": "ujXdcntcYVtb",
      "execution_count": null,
      "outputs": []
    },
    {
      "cell_type": "code",
      "metadata": {
        "colab": {
          "base_uri": "https://localhost:8080/"
        },
        "id": "IJjId046YcBy",
        "outputId": "43b872bf-fc73-4f9c-bddb-fe10e5ecf1a7"
      },
      "source": [
        "!pip install kaggle -q\n",
        "!kaggle datasets download -d aladdinpersson/flickr8kimagescaptions\n",
        "!unzip -q flickr8kimagescaptions.zip"
      ],
      "id": "IJjId046YcBy",
      "execution_count": null,
      "outputs": [
        {
          "output_type": "stream",
          "text": [
            "Downloading flickr8kimagescaptions.zip to /content\n",
            " 99% 1.03G/1.04G [00:12<00:00, 127MB/s]\n",
            "100% 1.04G/1.04G [00:12<00:00, 88.5MB/s]\n"
          ],
          "name": "stdout"
        }
      ]
    },
    {
      "cell_type": "code",
      "metadata": {
        "colab": {
          "base_uri": "https://localhost:8080/"
        },
        "id": "vCxFJ5wQYehR",
        "outputId": "07cee57f-39b5-4f7b-f4d4-fd9f830f68a8"
      },
      "source": [
        "# get the code form github\n",
        "!git clone https://github.com/moaaztaha/Image-Captioning\n",
        "py_files_path = 'Image-Captioning/'\n",
        "import sys\n",
        "sys.path.append(py_files_path)"
      ],
      "id": "vCxFJ5wQYehR",
      "execution_count": null,
      "outputs": [
        {
          "output_type": "stream",
          "text": [
            "Cloning into 'Image-Captioning'...\n",
            "remote: Enumerating objects: 547, done.\u001b[K\n",
            "remote: Counting objects: 100% (547/547), done.\u001b[K\n",
            "remote: Compressing objects: 100% (248/248), done.\u001b[K\n",
            "remote: Total 547 (delta 333), reused 505 (delta 291), pack-reused 0\u001b[K\n",
            "Receiving objects: 100% (547/547), 38.27 MiB | 23.52 MiB/s, done.\n",
            "Resolving deltas: 100% (333/333), done.\n"
          ],
          "name": "stdout"
        }
      ]
    },
    {
      "cell_type": "code",
      "metadata": {
        "id": "b4366e4d"
      },
      "source": [
        "%reload_ext autoreload\n",
        "%autoreload 2\n",
        "%matplotlib inline"
      ],
      "id": "b4366e4d",
      "execution_count": null,
      "outputs": []
    },
    {
      "cell_type": "code",
      "metadata": {
        "id": "4034c69e"
      },
      "source": [
        "import time \n",
        "import torch.backends.cudnn as cudnn\n",
        "import torch.optim\n",
        "import torch.utils.data\n",
        "import torchvision.transforms as transforms\n",
        "from torch import nn\n",
        "from torch.nn.utils.rnn import pack_padded_sequence\n",
        "from models import Encoder, DecoderWithAttention\n",
        "from dataset import *\n",
        "from utils import *\n",
        "from train import *\n",
        "from torch.utils.tensorboard import SummaryWriter\n",
        "from os import path as osp"
      ],
      "id": "4034c69e",
      "execution_count": null,
      "outputs": []
    },
    {
      "cell_type": "code",
      "metadata": {
        "id": "b8ce76f9"
      },
      "source": [
        "# Model parameters\n",
        "encoder_dim = 2048 # resnet101\n",
        "emb_dim = 512  # dimension of word embeddings\n",
        "attention_dim = 512  # dimension of attention linear layers\n",
        "decoder_dim = 512  # dimension of decoder RNN\n",
        "dropout = 0.5\n",
        "device = torch.device(\"cuda\" if torch.cuda.is_available() else \"cpu\")  # sets device for model and PyTorch tensors\n",
        "cudnn.benchmark = True  # set to true only if inputs to model are fixed size; otherwise lot of computational overhead\n",
        "\n",
        "# training parameters\n",
        "epochs = 30  # number of epochs to train for (if early stopping is not triggered)\n",
        "batch_size = 256\n",
        "workers = 2\n",
        "encoder_lr = 1e-4  # learning rate for encoder if fine-tuning\n",
        "decoder_lr = 4e-4  # learning rate for decoder\n",
        "fine_tune_encoder = False  # fine-tune encoder?\n",
        "pretrained_embeddings = False\n",
        "fine_tune_embeddings = False\n",
        "checkpoint = None  # path to checkpoint, None if none\n"
      ],
      "id": "b8ce76f9",
      "execution_count": null,
      "outputs": []
    },
    {
      "cell_type": "code",
      "metadata": {
        "id": "d7a302e3"
      },
      "source": [
        "DATA_NAME = 'flickr8k_ar'\n",
        "\n",
        "# local\n",
        "# DATA_JSON_PATH = 'ar_data.json'\n",
        "# IMGS_PATH = 'flickr/Images/'\n",
        "# kaggle paths\n",
        "# DATA_JSON_PATH = '/kaggle/working/Image-Captioning/data.json'\n",
        "# IMGS_PATH = '../input/flickr8kimagescaptions/flickr8k/images/'\n",
        "#colab\n",
        "DATA_JSON_PATH = 'Image-Captioning/ar_data.json'\n",
        "IMGS_PATH = 'flickr8k/images/'"
      ],
      "id": "d7a302e3",
      "execution_count": null,
      "outputs": []
    },
    {
      "cell_type": "code",
      "metadata": {
        "colab": {
          "base_uri": "https://localhost:8080/"
        },
        "id": "a4b1a677",
        "outputId": "9356268d-4297-4f43-c44e-3aef77004680"
      },
      "source": [
        "max_seq = 30\n",
        "vocab = build_vocab(DATA_JSON_PATH, max_seq=max_seq)\n",
        "vocab_len = len(vocab); vocab_len"
      ],
      "id": "a4b1a677",
      "execution_count": null,
      "outputs": [
        {
          "output_type": "stream",
          "text": [
            "100%|██████████| 24000/24000 [00:00<00:00, 380040.76it/s]\n"
          ],
          "name": "stderr"
        },
        {
          "output_type": "execute_result",
          "data": {
            "text/plain": [
              "5788"
            ]
          },
          "metadata": {
            "tags": []
          },
          "execution_count": 11
        }
      ]
    },
    {
      "cell_type": "code",
      "metadata": {
        "colab": {
          "base_uri": "https://localhost:8080/"
        },
        "id": "ff6df2d0",
        "outputId": "dcf14d12-9a82-49ef-b74b-66b728e23823"
      },
      "source": [
        "list(vocab.itos.keys())[:10], list(vocab.itos.values())[:10]"
      ],
      "id": "ff6df2d0",
      "execution_count": null,
      "outputs": [
        {
          "output_type": "execute_result",
          "data": {
            "text/plain": [
              "([0, 1, 2, 3, 4, 5, 6, 7, 8, 9],\n",
              " ['<pad>',\n",
              "  '<sos>',\n",
              "  '<eos>',\n",
              "  '<unk>',\n",
              "  'طفلة',\n",
              "  'صغيرة',\n",
              "  'تتسلق',\n",
              "  'إلى',\n",
              "  'كلب',\n",
              "  'أسود'])"
            ]
          },
          "metadata": {
            "tags": []
          },
          "execution_count": 12
        }
      ]
    },
    {
      "cell_type": "code",
      "metadata": {
        "id": "6fb11e8e"
      },
      "source": [
        "t_params = {\n",
        "    'data_name': DATA_NAME,\n",
        "    'imgs_path': IMGS_PATH,\n",
        "    'df_path': DATA_JSON_PATH,\n",
        "    'vocab': vocab,\n",
        "    'epochs': epochs,\n",
        "    'batch_size': batch_size,\n",
        "    'workers': workers,\n",
        "    'decoder_lr': decoder_lr,\n",
        "    'encoder_lr': encoder_lr,\n",
        "    'fine_tune_encoder': fine_tune_encoder,\n",
        "    'pretrained_embeddings': pretrained_embeddings,\n",
        "}\n",
        "\n",
        "m_params = {\n",
        "    'attention_dim': attention_dim,\n",
        "    'embed_dim': emb_dim,\n",
        "    'decoder_dim': decoder_dim,\n",
        "    'encoder_dim': encoder_dim,\n",
        "    'dropout': dropout\n",
        "}\n",
        "\n",
        "logger_dic = {\n",
        "    'decoder_lr': decoder_lr,\n",
        "    'encoder_lr': encoder_lr,\n",
        "    'fine_tune_encoder': fine_tune_encoder,\n",
        "    'pretrained_embeddings': pretrained_embeddings,\n",
        "    'max_seq_length': max_seq,\n",
        "    'vocab_size': vocab_len,\n",
        "    'enocder': 'resnet101',\n",
        "    'dropout': dropout,\n",
        "    'attention_dim': attention_dim,\n",
        "    'embed_dim': emb_dim,\n",
        "    'decoder_dim': decoder_dim,\n",
        "    'encoder_dim': encoder_dim \n",
        "    \n",
        "}"
      ],
      "id": "6fb11e8e",
      "execution_count": null,
      "outputs": []
    },
    {
      "cell_type": "code",
      "metadata": {
        "scrolled": true,
        "colab": {
          "base_uri": "https://localhost:8080/"
        },
        "id": "97209564",
        "outputId": "2c1ad799-d780-426e-ed30-13c17e8011dc"
      },
      "source": [
        "t_params"
      ],
      "id": "97209564",
      "execution_count": null,
      "outputs": [
        {
          "output_type": "execute_result",
          "data": {
            "text/plain": [
              "{'batch_size': 256,\n",
              " 'data_name': 'flickr8k_ar',\n",
              " 'decoder_lr': 0.0004,\n",
              " 'df_path': 'Image-Captioning/ar_data.json',\n",
              " 'encoder_lr': 0.0001,\n",
              " 'epochs': 30,\n",
              " 'fine_tune_encoder': False,\n",
              " 'imgs_path': 'flickr8k/images/',\n",
              " 'pretrained_embeddings': False,\n",
              " 'vocab': <dataset.Vocabulary at 0x7f7e18aaefd0>,\n",
              " 'workers': 2}"
            ]
          },
          "metadata": {
            "tags": []
          },
          "execution_count": 14
        }
      ]
    },
    {
      "cell_type": "code",
      "metadata": {
        "id": "8d8e8ebf"
      },
      "source": [
        "# experiment name\n",
        "name = DATA_NAME + \"\"\n",
        "# path\n",
        "log_dir = '/content/drive/MyDrive/ImageCaptioning/flickr8_ar/experiments'\n",
        "\n",
        "logger = SummaryWriter(log_dir=osp.join(log_dir, name))"
      ],
      "id": "8d8e8ebf",
      "execution_count": null,
      "outputs": []
    },
    {
      "cell_type": "code",
      "metadata": {
        "colab": {
          "base_uri": "https://localhost:8080/",
          "height": 1000,
          "referenced_widgets": [
            "bc64aa5989bb4b96b142960368164baa",
            "9e6493ef99b54cf28ebc608928daf13e",
            "96deeb1709a3439ab898f2c99aa7cba1",
            "f40abb365e2048d991ef3f48f46c9e93",
            "39e8213caa774110ac227665927db4c7",
            "95e0c9b5adfb4ed5a4ee2b69aab4220d",
            "6ef04beebf5c4c0e9c04f0cad319394e",
            "59c29b01b7e84eafaf099f474460b5e1"
          ]
        },
        "id": "DIOlt7gxZAbd",
        "outputId": "d8462eb2-4195-427d-9d40-9e334ce3d173"
      },
      "source": [
        "fit(t_params=t_params, m_params=m_params, logger=logger)"
      ],
      "id": "DIOlt7gxZAbd",
      "execution_count": 18,
      "outputs": [
        {
          "output_type": "stream",
          "text": [
            "Downloading: \"https://download.pytorch.org/models/resnet101-63fe2227.pth\" to /root/.cache/torch/hub/checkpoints/resnet101-63fe2227.pth\n"
          ],
          "name": "stderr"
        },
        {
          "output_type": "display_data",
          "data": {
            "application/vnd.jupyter.widget-view+json": {
              "model_id": "bc64aa5989bb4b96b142960368164baa",
              "version_major": 2,
              "version_minor": 0
            },
            "text/plain": [
              "HBox(children=(FloatProgress(value=0.0, max=178793939.0), HTML(value='')))"
            ]
          },
          "metadata": {
            "tags": []
          }
        },
        {
          "output_type": "stream",
          "text": [
            "\n",
            "Loading Data\n",
            "Dataset split: train\n",
            "Unique images: 6000\n",
            "Total size: 18000\n",
            "Dataset split: val\n",
            "Unique images: 1000\n",
            "Total size: 3000\n",
            "__________________________________________________\n",
            "-------------------- Fitting --------------------\n",
            "__________________________________________________\n",
            "-------------------- Training --------------------\n"
          ],
          "name": "stdout"
        },
        {
          "output_type": "stream",
          "text": [
            "/usr/local/lib/python3.7/dist-packages/torch/nn/functional.py:718: UserWarning: Named tensors and all their associated APIs are an experimental feature and subject to change. Please do not use them for anything important until they are released as stable. (Triggered internally at  /pytorch/c10/core/TensorImpl.h:1156.)\n",
            "  return torch.max_pool2d(input, kernel_size, stride, padding, dilation, ceil_mode)\n"
          ],
          "name": "stderr"
        },
        {
          "output_type": "stream",
          "text": [
            "Epoch: [0][0/71]\tBatch Time 8.471 (8.471)\tData Load Time 3.622 (3.622)\tLoss 9.6074 (9.6074)\tTop-5 Accuracy 0.144 (0.144)\n",
            "Epoch train time 154.997 (epoch_time.avg:.3f)\n",
            "-------------------- Validation --------------------\n",
            "Validation: [0/12]\tBatch Time 5.519 (5.519)\tLoss 6.4465 (6.4465)\tTop-5 Accuracy 36.128 (36.128)\t\n",
            "----- Bleu-n Scores -----\n",
            "1: 34.28116163569975\n",
            "2: 15.004966110980616\n",
            "3: 5.752228240109723\n",
            "4: 2.3468998100455627\n",
            "-------------------------\n",
            "\n",
            " * LOSS - 6.468, TOP-5 ACCURACY - 35.838, BLEU-4 - 2.3468998100455627\n",
            "\n",
            "Epoch validation time 32.159 (epoch_time.avg:.3f)\n",
            "__________________________________________________\n",
            "-------------------- Training --------------------\n",
            "Epoch: [1][0/71]\tBatch Time 5.749 (5.749)\tData Load Time 3.375 (3.375)\tLoss 5.9978 (5.9978)\tTop-5 Accuracy 40.631 (40.631)\n",
            "Epoch train time 154.220 (epoch_time.avg:.3f)\n",
            "-------------------- Validation --------------------\n",
            "Validation: [0/12]\tBatch Time 5.638 (5.638)\tLoss 6.0548 (6.0548)\tTop-5 Accuracy 42.096 (42.096)\t\n",
            "----- Bleu-n Scores -----\n",
            "1: 38.444137922102925\n",
            "2: 18.09580414520245\n",
            "3: 8.0011925286946\n",
            "4: 3.438689631465634\n",
            "-------------------------\n",
            "\n",
            " * LOSS - 6.124, TOP-5 ACCURACY - 41.494, BLEU-4 - 3.438689631465634\n",
            "\n",
            "Epoch validation time 30.035 (epoch_time.avg:.3f)\n",
            "__________________________________________________\n",
            "-------------------- Training --------------------\n",
            "Epoch: [2][0/71]\tBatch Time 5.560 (5.560)\tData Load Time 3.290 (3.290)\tLoss 5.3905 (5.3905)\tTop-5 Accuracy 46.878 (46.878)\n",
            "Epoch train time 154.038 (epoch_time.avg:.3f)\n",
            "-------------------- Validation --------------------\n",
            "Validation: [0/12]\tBatch Time 5.569 (5.569)\tLoss 5.9298 (5.9298)\tTop-5 Accuracy 42.374 (42.374)\t\n",
            "----- Bleu-n Scores -----\n",
            "1: 40.38369625394221\n",
            "2: 20.004745974146577\n",
            "3: 9.32609921088762\n",
            "4: 4.209693382617643\n",
            "-------------------------\n",
            "\n",
            " * LOSS - 5.873, TOP-5 ACCURACY - 44.965, BLEU-4 - 4.209693382617643\n",
            "\n",
            "Epoch validation time 29.381 (epoch_time.avg:.3f)\n",
            "__________________________________________________\n",
            "-------------------- Training --------------------\n",
            "Epoch: [3][0/71]\tBatch Time 5.502 (5.502)\tData Load Time 3.272 (3.272)\tLoss 5.0857 (5.0857)\tTop-5 Accuracy 51.269 (51.269)\n",
            "Epoch train time 153.554 (epoch_time.avg:.3f)\n",
            "-------------------- Validation --------------------\n",
            "Validation: [0/12]\tBatch Time 5.477 (5.477)\tLoss 5.6955 (5.6955)\tTop-5 Accuracy 46.671 (46.671)\t\n",
            "----- Bleu-n Scores -----\n",
            "1: 42.4394522165709\n",
            "2: 21.479128686459397\n",
            "3: 10.45499191955578\n",
            "4: 5.188099852335082\n",
            "-------------------------\n",
            "\n",
            " * LOSS - 5.753, TOP-5 ACCURACY - 46.707, BLEU-4 - 5.188099852335082\n",
            "\n",
            "Epoch validation time 29.507 (epoch_time.avg:.3f)\n",
            "Epoch     4: reducing learning rate of group 0 to 4.0000e-05.\n",
            "__________________________________________________\n",
            "-------------------- Training --------------------\n",
            "Epoch: [4][0/71]\tBatch Time 5.705 (5.705)\tData Load Time 3.460 (3.460)\tLoss 4.8705 (4.8705)\tTop-5 Accuracy 54.511 (54.511)\n",
            "Epoch train time 154.917 (epoch_time.avg:.3f)\n",
            "-------------------- Validation --------------------\n",
            "Validation: [0/12]\tBatch Time 5.496 (5.496)\tLoss 5.6626 (5.6626)\tTop-5 Accuracy 46.704 (46.704)\t\n",
            "----- Bleu-n Scores -----\n",
            "1: 43.10559851393783\n",
            "2: 22.525051002602723\n",
            "3: 10.97126571821386\n",
            "4: 5.456883811571083\n",
            "-------------------------\n",
            "\n",
            " * LOSS - 5.687, TOP-5 ACCURACY - 47.631, BLEU-4 - 5.456883811571083\n",
            "\n",
            "Epoch validation time 29.828 (epoch_time.avg:.3f)\n",
            "__________________________________________________\n",
            "-------------------- Training --------------------\n",
            "Epoch: [5][0/71]\tBatch Time 5.759 (5.759)\tData Load Time 3.318 (3.318)\tLoss 4.9809 (4.9809)\tTop-5 Accuracy 51.738 (51.738)\n",
            "Epoch train time 153.832 (epoch_time.avg:.3f)\n",
            "-------------------- Validation --------------------\n",
            "Validation: [0/12]\tBatch Time 5.537 (5.537)\tLoss 5.7328 (5.7328)\tTop-5 Accuracy 46.793 (46.793)\t\n",
            "----- Bleu-n Scores -----\n",
            "1: 43.04345356493659\n",
            "2: 22.411417918792285\n",
            "3: 10.948934929992433\n",
            "4: 5.561617770189953\n",
            "-------------------------\n",
            "\n",
            " * LOSS - 5.685, TOP-5 ACCURACY - 47.741, BLEU-4 - 5.561617770189953\n",
            "\n",
            "Epoch validation time 29.641 (epoch_time.avg:.3f)\n",
            "__________________________________________________\n",
            "-------------------- Training --------------------\n",
            "Epoch: [6][0/71]\tBatch Time 5.767 (5.767)\tData Load Time 3.475 (3.475)\tLoss 4.7939 (4.7939)\tTop-5 Accuracy 53.493 (53.493)\n",
            "Epoch train time 153.916 (epoch_time.avg:.3f)\n",
            "-------------------- Validation --------------------\n",
            "Validation: [0/12]\tBatch Time 5.658 (5.658)\tLoss 5.6200 (5.6200)\tTop-5 Accuracy 49.815 (49.815)\t\n",
            "----- Bleu-n Scores -----\n",
            "1: 43.307244485557796\n",
            "2: 22.654440972911537\n",
            "3: 11.051705938969027\n",
            "4: 5.593613636531956\n",
            "-------------------------\n",
            "\n",
            " * LOSS - 5.670, TOP-5 ACCURACY - 47.975, BLEU-4 - 5.593613636531956\n",
            "\n",
            "Epoch validation time 29.875 (epoch_time.avg:.3f)\n",
            "Epoch     7: reducing learning rate of group 0 to 4.0000e-06.\n",
            "__________________________________________________\n",
            "-------------------- Training --------------------\n",
            "Epoch: [7][0/71]\tBatch Time 5.626 (5.626)\tData Load Time 3.359 (3.359)\tLoss 4.8951 (4.8951)\tTop-5 Accuracy 53.825 (53.825)\n",
            "Epoch train time 153.699 (epoch_time.avg:.3f)\n",
            "-------------------- Validation --------------------\n",
            "Validation: [0/12]\tBatch Time 5.512 (5.512)\tLoss 5.7279 (5.7279)\tTop-5 Accuracy 47.204 (47.204)\t\n",
            "----- Bleu-n Scores -----\n",
            "1: 43.36249081713578\n",
            "2: 22.622579495122828\n",
            "3: 10.974473557026982\n",
            "4: 5.591239879413449\n",
            "-------------------------\n",
            "\n",
            " * LOSS - 5.672, TOP-5 ACCURACY - 47.981, BLEU-4 - 5.591239879413449\n",
            "\n",
            "Epoch validation time 29.473 (epoch_time.avg:.3f)\n",
            "\n",
            "Epochs since last improvement: (1,)\n",
            "__________________________________________________\n",
            "-------------------- Training --------------------\n",
            "Epoch: [8][0/71]\tBatch Time 5.521 (5.521)\tData Load Time 3.212 (3.212)\tLoss 4.8365 (4.8365)\tTop-5 Accuracy 53.282 (53.282)\n",
            "Epoch train time 153.506 (epoch_time.avg:.3f)\n",
            "-------------------- Validation --------------------\n",
            "Validation: [0/12]\tBatch Time 5.534 (5.534)\tLoss 5.5495 (5.5495)\tTop-5 Accuracy 46.992 (46.992)\t\n",
            "----- Bleu-n Scores -----\n",
            "1: 43.294891356704\n",
            "2: 22.65823573565543\n",
            "3: 11.114597330563353\n",
            "4: 5.715176451490768\n",
            "-------------------------\n",
            "\n",
            " * LOSS - 5.674, TOP-5 ACCURACY - 48.001, BLEU-4 - 5.715176451490768\n",
            "\n",
            "Epoch validation time 29.721 (epoch_time.avg:.3f)\n",
            "__________________________________________________\n",
            "-------------------- Training --------------------\n",
            "Epoch: [9][0/71]\tBatch Time 5.664 (5.664)\tData Load Time 3.351 (3.351)\tLoss 4.8868 (4.8868)\tTop-5 Accuracy 53.560 (53.560)\n",
            "Epoch train time 153.557 (epoch_time.avg:.3f)\n",
            "-------------------- Validation --------------------\n",
            "Validation: [0/12]\tBatch Time 5.845 (5.845)\tLoss 5.8155 (5.8155)\tTop-5 Accuracy 46.267 (46.267)\t\n",
            "----- Bleu-n Scores -----\n",
            "1: 43.23810970755203\n",
            "2: 22.62131308253866\n",
            "3: 11.01868721331772\n",
            "4: 5.559010734409675\n",
            "-------------------------\n",
            "\n",
            " * LOSS - 5.673, TOP-5 ACCURACY - 48.012, BLEU-4 - 5.559010734409675\n",
            "\n",
            "Epoch validation time 30.757 (epoch_time.avg:.3f)\n",
            "\n",
            "Epochs since last improvement: (1,)\n",
            "Epoch    10: reducing learning rate of group 0 to 4.0000e-07.\n",
            "__________________________________________________\n",
            "-------------------- Training --------------------\n",
            "Epoch: [10][0/71]\tBatch Time 5.543 (5.543)\tData Load Time 3.271 (3.271)\tLoss 4.7788 (4.7788)\tTop-5 Accuracy 54.449 (54.449)\n",
            "Epoch train time 153.431 (epoch_time.avg:.3f)\n",
            "-------------------- Validation --------------------\n",
            "Validation: [0/12]\tBatch Time 5.531 (5.531)\tLoss 5.5944 (5.5944)\tTop-5 Accuracy 50.578 (50.578)\t\n",
            "----- Bleu-n Scores -----\n",
            "1: 43.38747408624325\n",
            "2: 22.659008552893862\n",
            "3: 11.064905097228069\n",
            "4: 5.667065918912568\n",
            "-------------------------\n",
            "\n",
            " * LOSS - 5.673, TOP-5 ACCURACY - 47.981, BLEU-4 - 5.667065918912568\n",
            "\n",
            "Epoch validation time 29.617 (epoch_time.avg:.3f)\n",
            "\n",
            "Epochs since last improvement: (2,)\n",
            "__________________________________________________\n",
            "-------------------- Training --------------------\n",
            "Epoch: [11][0/71]\tBatch Time 5.737 (5.737)\tData Load Time 3.351 (3.351)\tLoss 4.8177 (4.8177)\tTop-5 Accuracy 53.245 (53.245)\n",
            "Epoch train time 153.296 (epoch_time.avg:.3f)\n",
            "-------------------- Validation --------------------\n",
            "Validation: [0/12]\tBatch Time 5.565 (5.565)\tLoss 5.8499 (5.8499)\tTop-5 Accuracy 47.530 (47.530)\t\n",
            "----- Bleu-n Scores -----\n",
            "1: 43.384202551814866\n",
            "2: 22.656568487557983\n",
            "3: 11.029099541626993\n",
            "4: 5.586120522686282\n",
            "-------------------------\n",
            "\n",
            " * LOSS - 5.674, TOP-5 ACCURACY - 48.012, BLEU-4 - 5.586120522686282\n",
            "\n",
            "Epoch validation time 29.485 (epoch_time.avg:.3f)\n",
            "\n",
            "Epochs since last improvement: (3,)\n",
            "__________________________________________________\n",
            "-------------------- Training --------------------\n",
            "Epoch: [12][0/71]\tBatch Time 5.593 (5.593)\tData Load Time 3.337 (3.337)\tLoss 4.8056 (4.8056)\tTop-5 Accuracy 53.832 (53.832)\n",
            "Epoch train time 153.517 (epoch_time.avg:.3f)\n",
            "-------------------- Validation --------------------\n",
            "Validation: [0/12]\tBatch Time 5.475 (5.475)\tLoss 5.5317 (5.5317)\tTop-5 Accuracy 49.873 (49.873)\t\n",
            "----- Bleu-n Scores -----\n",
            "1: 43.31183458911912\n",
            "2: 22.58759601588741\n",
            "3: 10.995664705293931\n",
            "4: 5.6202021912377855\n",
            "-------------------------\n",
            "\n",
            " * LOSS - 5.674, TOP-5 ACCURACY - 47.991, BLEU-4 - 5.6202021912377855\n",
            "\n",
            "Epoch validation time 29.576 (epoch_time.avg:.3f)\n",
            "\n",
            "Epochs since last improvement: (4,)\n",
            "Epoch    13: reducing learning rate of group 0 to 4.0000e-08.\n",
            "__________________________________________________\n",
            "-------------------- Training --------------------\n",
            "Epoch: [13][0/71]\tBatch Time 5.600 (5.600)\tData Load Time 3.320 (3.320)\tLoss 4.8558 (4.8558)\tTop-5 Accuracy 54.187 (54.187)\n",
            "Epoch train time 153.624 (epoch_time.avg:.3f)\n",
            "-------------------- Validation --------------------\n",
            "Validation: [0/12]\tBatch Time 5.606 (5.606)\tLoss 5.8585 (5.8585)\tTop-5 Accuracy 47.653 (47.653)\t\n",
            "----- Bleu-n Scores -----\n",
            "1: 43.309806013625895\n",
            "2: 22.645138435125602\n",
            "3: 11.09728529158207\n",
            "4: 5.656832528686827\n",
            "-------------------------\n",
            "\n",
            " * LOSS - 5.673, TOP-5 ACCURACY - 48.001, BLEU-4 - 5.656832528686827\n",
            "\n",
            "Epoch validation time 29.500 (epoch_time.avg:.3f)\n",
            "\n",
            "Epochs since last improvement: (5,)\n",
            "No improvement for 5 consecutive epochs, terminating...\n"
          ],
          "name": "stdout"
        }
      ]
    },
    {
      "cell_type": "code",
      "metadata": {
        "colab": {
          "base_uri": "https://localhost:8080/"
        },
        "id": "cgtlSQWzjNwz",
        "outputId": "9df0886b-4b65-4a7b-d4bc-36b41f0c9e49"
      },
      "source": [
        "m = load_checkpoint(\"/content/BEST_checkpoint_flickr8k_ar.pth.tar\")"
      ],
      "id": "cgtlSQWzjNwz",
      "execution_count": 19,
      "outputs": [
        {
          "output_type": "stream",
          "text": [
            "Loaded Checkpoint!!\n",
            "Last Epoch: 8\n",
            "Best Bleu-4: 5.715176451490768\n"
          ],
          "name": "stdout"
        }
      ]
    },
    {
      "cell_type": "code",
      "metadata": {
        "id": "NJAelDR8ZDsk",
        "colab": {
          "base_uri": "https://localhost:8080/"
        },
        "outputId": "2481356c-e943-460c-b469-81ebd04b8d0d"
      },
      "source": [
        "batch_size = 64\n",
        "fine_tune_encoder = True\n",
        "checkpoint = '/content/BEST_checkpoint_flickr8k_ar.pth.tar'\n",
        "# epochs = 30\n",
        "\n",
        "t_params['batch_size'] = batch_size\n",
        "t_params['data_name'] = t_params['data_name'] + \"_finetune\" \n",
        "t_params['fine_tune_encoder'] = True\n",
        "t_params['decoder_lr'] = t_params['decoder_lr'] / 10\n",
        "# t_params['epochs'] = epochs\n",
        "t_params"
      ],
      "id": "NJAelDR8ZDsk",
      "execution_count": 20,
      "outputs": [
        {
          "output_type": "execute_result",
          "data": {
            "text/plain": [
              "{'batch_size': 64,\n",
              " 'data_name': 'flickr8k_ar_finetune',\n",
              " 'decoder_lr': 4e-05,\n",
              " 'df_path': 'Image-Captioning/ar_data.json',\n",
              " 'encoder_lr': 0.0001,\n",
              " 'epochs': 30,\n",
              " 'fine_tune_encoder': True,\n",
              " 'imgs_path': 'flickr8k/images/',\n",
              " 'pretrained_embeddings': False,\n",
              " 'vocab': <dataset.Vocabulary at 0x7f7e18aaefd0>,\n",
              " 'workers': 2}"
            ]
          },
          "metadata": {
            "tags": []
          },
          "execution_count": 20
        }
      ]
    },
    {
      "cell_type": "code",
      "metadata": {
        "colab": {
          "base_uri": "https://localhost:8080/"
        },
        "id": "uYhbvtifjXD6",
        "outputId": "f9b64c2c-6000-4397-f0ec-a2bea5317a28"
      },
      "source": [
        "fit(t_params, checkpoint=checkpoint, m_params=m_params, logger=logger)"
      ],
      "id": "uYhbvtifjXD6",
      "execution_count": 21,
      "outputs": [
        {
          "output_type": "stream",
          "text": [
            "Loaded Checkpoint!!\n",
            "Starting Epoch: 9\n",
            "Loading Data\n",
            "Dataset split: train\n",
            "Unique images: 6000\n",
            "Total size: 18000\n",
            "Dataset split: val\n",
            "Unique images: 1000\n",
            "Total size: 3000\n",
            "__________________________________________________\n",
            "-------------------- Fitting --------------------\n",
            "__________________________________________________\n",
            "-------------------- Training --------------------\n",
            "Epoch: [9][0/282]\tBatch Time 4.199 (4.199)\tData Load Time 0.960 (0.960)\tLoss 4.9865 (4.9865)\tTop-5 Accuracy 52.319 (52.319)\n",
            "Epoch: [9][100/282]\tBatch Time 1.235 (1.233)\tData Load Time 0.001 (0.010)\tLoss 5.1665 (4.9120)\tTop-5 Accuracy 49.912 (52.423)\n",
            "Epoch: [9][200/282]\tBatch Time 1.229 (1.217)\tData Load Time 0.001 (0.006)\tLoss 4.8351 (4.8706)\tTop-5 Accuracy 53.012 (53.206)\n",
            "Epoch train time 341.644 (epoch_time.avg:.3f)\n",
            "-------------------- Validation --------------------\n",
            "Validation: [0/47]\tBatch Time 1.474 (1.474)\tLoss 5.5957 (5.5957)\tTop-5 Accuracy 45.269 (45.269)\t\n",
            "----- Bleu-n Scores -----\n",
            "1: 43.30506294300831\n",
            "2: 22.758277354606076\n",
            "3: 11.500573254391245\n",
            "4: 5.944498679194787\n",
            "-------------------------\n",
            "\n",
            " * LOSS - 5.673, TOP-5 ACCURACY - 48.142, BLEU-4 - 5.944498679194787\n",
            "\n",
            "Epoch validation time 28.506 (epoch_time.avg:.3f)\n",
            "__________________________________________________\n",
            "-------------------- Training --------------------\n",
            "Epoch: [10][0/282]\tBatch Time 2.223 (2.223)\tData Load Time 0.964 (0.964)\tLoss 4.7377 (4.7377)\tTop-5 Accuracy 55.979 (55.979)\n",
            "Epoch: [10][100/282]\tBatch Time 1.182 (1.211)\tData Load Time 0.001 (0.011)\tLoss 4.8153 (4.7155)\tTop-5 Accuracy 54.887 (55.573)\n",
            "Epoch: [10][200/282]\tBatch Time 1.220 (1.203)\tData Load Time 0.001 (0.006)\tLoss 4.5277 (4.7151)\tTop-5 Accuracy 56.618 (55.515)\n",
            "Epoch train time 337.989 (epoch_time.avg:.3f)\n",
            "-------------------- Validation --------------------\n",
            "Validation: [0/47]\tBatch Time 1.491 (1.491)\tLoss 5.6328 (5.6328)\tTop-5 Accuracy 51.889 (51.889)\t\n",
            "----- Bleu-n Scores -----\n",
            "1: 43.93385127480546\n",
            "2: 23.30900328578608\n",
            "3: 12.065313535030805\n",
            "4: 6.548837359956475\n",
            "-------------------------\n",
            "\n",
            " * LOSS - 5.659, TOP-5 ACCURACY - 48.742, BLEU-4 - 6.548837359956475\n",
            "\n",
            "Epoch validation time 27.744 (epoch_time.avg:.3f)\n",
            "__________________________________________________\n",
            "-------------------- Training --------------------\n",
            "Epoch: [11][0/282]\tBatch Time 2.156 (2.156)\tData Load Time 0.914 (0.914)\tLoss 4.5571 (4.5571)\tTop-5 Accuracy 56.283 (56.283)\n",
            "Epoch: [11][100/282]\tBatch Time 1.191 (1.211)\tData Load Time 0.001 (0.010)\tLoss 4.4649 (4.6241)\tTop-5 Accuracy 58.382 (57.004)\n",
            "Epoch: [11][200/282]\tBatch Time 1.198 (1.204)\tData Load Time 0.002 (0.006)\tLoss 4.8600 (4.6273)\tTop-5 Accuracy 56.425 (56.936)\n",
            "Epoch train time 338.219 (epoch_time.avg:.3f)\n",
            "-------------------- Validation --------------------\n",
            "Validation: [0/47]\tBatch Time 1.420 (1.420)\tLoss 5.7171 (5.7171)\tTop-5 Accuracy 46.959 (46.959)\t\n",
            "----- Bleu-n Scores -----\n",
            "1: 43.95227377709844\n",
            "2: 23.501618430063786\n",
            "3: 12.150551788760072\n",
            "4: 6.279030731015584\n",
            "-------------------------\n",
            "\n",
            " * LOSS - 5.680, TOP-5 ACCURACY - 48.560, BLEU-4 - 6.279030731015584\n",
            "\n",
            "Epoch validation time 27.724 (epoch_time.avg:.3f)\n",
            "\n",
            "Epochs since last improvement: (1,)\n",
            "__________________________________________________\n",
            "-------------------- Training --------------------\n",
            "Epoch: [12][0/282]\tBatch Time 2.217 (2.217)\tData Load Time 0.989 (0.989)\tLoss 4.5592 (4.5592)\tTop-5 Accuracy 58.835 (58.835)\n",
            "Epoch: [12][100/282]\tBatch Time 1.190 (1.210)\tData Load Time 0.006 (0.011)\tLoss 4.6393 (4.5495)\tTop-5 Accuracy 57.864 (58.024)\n",
            "Epoch: [12][200/282]\tBatch Time 1.181 (1.203)\tData Load Time 0.001 (0.006)\tLoss 4.6528 (4.5691)\tTop-5 Accuracy 56.309 (57.740)\n",
            "Epoch train time 337.672 (epoch_time.avg:.3f)\n",
            "-------------------- Validation --------------------\n",
            "Validation: [0/47]\tBatch Time 1.437 (1.437)\tLoss 5.5651 (5.5651)\tTop-5 Accuracy 50.118 (50.118)\t\n",
            "----- Bleu-n Scores -----\n",
            "1: 44.09576613691824\n",
            "2: 23.527054543897506\n",
            "3: 12.071378734897028\n",
            "4: 5.993335447047885\n",
            "-------------------------\n",
            "\n",
            " * LOSS - 5.665, TOP-5 ACCURACY - 48.815, BLEU-4 - 5.993335447047885\n",
            "\n",
            "Epoch validation time 27.588 (epoch_time.avg:.3f)\n",
            "\n",
            "Epochs since last improvement: (2,)\n",
            "Epoch     4: reducing learning rate of group 0 to 4.0000e-07.\n",
            "Epoch     4: reducing learning rate of group 0 to 1.0000e-05.\n",
            "__________________________________________________\n",
            "-------------------- Training --------------------\n",
            "Epoch: [13][0/282]\tBatch Time 2.217 (2.217)\tData Load Time 0.953 (0.953)\tLoss 4.4901 (4.4901)\tTop-5 Accuracy 58.696 (58.696)\n",
            "Epoch: [13][100/282]\tBatch Time 1.202 (1.207)\tData Load Time 0.004 (0.010)\tLoss 4.5141 (4.4567)\tTop-5 Accuracy 56.401 (59.407)\n",
            "Epoch: [13][200/282]\tBatch Time 1.195 (1.204)\tData Load Time 0.001 (0.006)\tLoss 4.4724 (4.4538)\tTop-5 Accuracy 59.083 (59.486)\n",
            "Epoch train time 338.298 (epoch_time.avg:.3f)\n",
            "-------------------- Validation --------------------\n",
            "Validation: [0/47]\tBatch Time 1.427 (1.427)\tLoss 5.9123 (5.9123)\tTop-5 Accuracy 45.926 (45.926)\t\n",
            "----- Bleu-n Scores -----\n",
            "1: 44.84804603022567\n",
            "2: 24.209545682634737\n",
            "3: 12.527182122463854\n",
            "4: 6.565714423841207\n",
            "-------------------------\n",
            "\n",
            " * LOSS - 5.643, TOP-5 ACCURACY - 49.301, BLEU-4 - 6.565714423841207\n",
            "\n",
            "Epoch validation time 27.916 (epoch_time.avg:.3f)\n",
            "__________________________________________________\n",
            "-------------------- Training --------------------\n",
            "Epoch: [14][0/282]\tBatch Time 2.246 (2.246)\tData Load Time 0.970 (0.970)\tLoss 4.6406 (4.6406)\tTop-5 Accuracy 57.241 (57.241)\n",
            "Epoch: [14][100/282]\tBatch Time 1.194 (1.207)\tData Load Time 0.001 (0.011)\tLoss 4.6145 (4.4401)\tTop-5 Accuracy 58.712 (59.606)\n",
            "Epoch: [14][200/282]\tBatch Time 1.184 (1.204)\tData Load Time 0.001 (0.006)\tLoss 4.1887 (4.4163)\tTop-5 Accuracy 62.823 (59.974)\n",
            "Epoch train time 338.339 (epoch_time.avg:.3f)\n",
            "-------------------- Validation --------------------\n",
            "Validation: [0/47]\tBatch Time 1.426 (1.426)\tLoss 5.6393 (5.6393)\tTop-5 Accuracy 48.434 (48.434)\t\n",
            "----- Bleu-n Scores -----\n",
            "1: 44.868307290612115\n",
            "2: 24.22371406264588\n",
            "3: 12.60321181580523\n",
            "4: 6.539334600451053\n",
            "-------------------------\n",
            "\n",
            " * LOSS - 5.646, TOP-5 ACCURACY - 49.134, BLEU-4 - 6.539334600451053\n",
            "\n",
            "Epoch validation time 27.976 (epoch_time.avg:.3f)\n",
            "\n",
            "Epochs since last improvement: (1,)\n",
            "__________________________________________________\n",
            "-------------------- Training --------------------\n",
            "Epoch: [15][0/282]\tBatch Time 2.180 (2.180)\tData Load Time 0.930 (0.930)\tLoss 4.4729 (4.4729)\tTop-5 Accuracy 60.662 (60.662)\n",
            "Epoch: [15][100/282]\tBatch Time 1.186 (1.210)\tData Load Time 0.003 (0.010)\tLoss 4.2848 (4.4001)\tTop-5 Accuracy 61.100 (60.474)\n",
            "Epoch: [15][200/282]\tBatch Time 1.217 (1.204)\tData Load Time 0.001 (0.006)\tLoss 4.4612 (4.3946)\tTop-5 Accuracy 57.741 (60.527)\n",
            "Epoch train time 337.991 (epoch_time.avg:.3f)\n",
            "-------------------- Validation --------------------\n",
            "Validation: [0/47]\tBatch Time 1.448 (1.448)\tLoss 5.4057 (5.4057)\tTop-5 Accuracy 50.860 (50.860)\t\n",
            "----- Bleu-n Scores -----\n",
            "1: 44.895994388100526\n",
            "2: 24.276251003102484\n",
            "3: 12.727723367045407\n",
            "4: 6.835326770837444\n",
            "-------------------------\n",
            "\n",
            " * LOSS - 5.647, TOP-5 ACCURACY - 49.191, BLEU-4 - 6.835326770837444\n",
            "\n",
            "Epoch validation time 27.812 (epoch_time.avg:.3f)\n",
            "Epoch     7: reducing learning rate of group 0 to 4.0000e-08.\n",
            "Epoch     7: reducing learning rate of group 0 to 1.0000e-06.\n",
            "__________________________________________________\n",
            "-------------------- Training --------------------\n",
            "Epoch: [16][0/282]\tBatch Time 2.157 (2.157)\tData Load Time 0.944 (0.944)\tLoss 4.4307 (4.4307)\tTop-5 Accuracy 59.363 (59.363)\n",
            "Epoch: [16][100/282]\tBatch Time 1.188 (1.209)\tData Load Time 0.001 (0.010)\tLoss 4.1747 (4.3831)\tTop-5 Accuracy 62.477 (60.415)\n",
            "Epoch: [16][200/282]\tBatch Time 1.234 (1.204)\tData Load Time 0.001 (0.006)\tLoss 4.2995 (4.3711)\tTop-5 Accuracy 61.765 (60.646)\n",
            "Epoch train time 338.134 (epoch_time.avg:.3f)\n",
            "-------------------- Validation --------------------\n",
            "Validation: [0/47]\tBatch Time 1.458 (1.458)\tLoss 5.8836 (5.8836)\tTop-5 Accuracy 46.959 (46.959)\t\n",
            "----- Bleu-n Scores -----\n",
            "1: 44.768914522064826\n",
            "2: 24.127058174169225\n",
            "3: 12.64113774552623\n",
            "4: 6.7471346786492665\n",
            "-------------------------\n",
            "\n",
            " * LOSS - 5.650, TOP-5 ACCURACY - 49.149, BLEU-4 - 6.7471346786492665\n",
            "\n",
            "Epoch validation time 27.353 (epoch_time.avg:.3f)\n",
            "\n",
            "Epochs since last improvement: (1,)\n",
            "__________________________________________________\n",
            "-------------------- Training --------------------\n",
            "Epoch: [17][0/282]\tBatch Time 2.180 (2.180)\tData Load Time 0.933 (0.933)\tLoss 4.4191 (4.4191)\tTop-5 Accuracy 60.522 (60.522)\n",
            "Epoch: [17][100/282]\tBatch Time 1.172 (1.206)\tData Load Time 0.001 (0.010)\tLoss 4.4357 (4.3711)\tTop-5 Accuracy 58.790 (60.718)\n",
            "Epoch: [17][200/282]\tBatch Time 1.210 (1.202)\tData Load Time 0.001 (0.006)\tLoss 4.2698 (4.3674)\tTop-5 Accuracy 62.271 (60.752)\n",
            "Epoch train time 337.814 (epoch_time.avg:.3f)\n",
            "-------------------- Validation --------------------\n",
            "Validation: [0/47]\tBatch Time 1.403 (1.403)\tLoss 5.9920 (5.9920)\tTop-5 Accuracy 45.985 (45.985)\t\n",
            "----- Bleu-n Scores -----\n",
            "1: 44.7754216493221\n",
            "2: 24.149272000272557\n",
            "3: 12.7099465141428\n",
            "4: 6.844132409051729\n",
            "-------------------------\n",
            "\n",
            " * LOSS - 5.653, TOP-5 ACCURACY - 49.170, BLEU-4 - 6.844132409051729\n",
            "\n",
            "Epoch validation time 27.177 (epoch_time.avg:.3f)\n",
            "__________________________________________________\n",
            "-------------------- Training --------------------\n",
            "Epoch: [18][0/282]\tBatch Time 2.213 (2.213)\tData Load Time 0.937 (0.937)\tLoss 4.2270 (4.2270)\tTop-5 Accuracy 62.546 (62.546)\n",
            "Epoch: [18][100/282]\tBatch Time 1.202 (1.209)\tData Load Time 0.001 (0.010)\tLoss 4.2152 (4.3566)\tTop-5 Accuracy 63.873 (60.900)\n",
            "Epoch: [18][200/282]\tBatch Time 1.200 (1.203)\tData Load Time 0.001 (0.006)\tLoss 4.4310 (4.3506)\tTop-5 Accuracy 59.279 (61.102)\n",
            "Epoch train time 338.036 (epoch_time.avg:.3f)\n",
            "-------------------- Validation --------------------\n",
            "Validation: [0/47]\tBatch Time 1.478 (1.478)\tLoss 5.2504 (5.2504)\tTop-5 Accuracy 52.344 (52.344)\t\n",
            "----- Bleu-n Scores -----\n",
            "1: 44.6458348095694\n",
            "2: 24.117560853207035\n",
            "3: 12.704989070264238\n",
            "4: 6.813854707234168\n",
            "-------------------------\n",
            "\n",
            " * LOSS - 5.653, TOP-5 ACCURACY - 49.280, BLEU-4 - 6.813854707234168\n",
            "\n",
            "Epoch validation time 27.496 (epoch_time.avg:.3f)\n",
            "\n",
            "Epochs since last improvement: (1,)\n",
            "Epoch    10: reducing learning rate of group 0 to 4.0000e-09.\n",
            "Epoch    10: reducing learning rate of group 0 to 1.0000e-07.\n",
            "__________________________________________________\n",
            "-------------------- Training --------------------\n",
            "Epoch: [19][0/282]\tBatch Time 2.255 (2.255)\tData Load Time 1.029 (1.029)\tLoss 4.0657 (4.0657)\tTop-5 Accuracy 66.539 (66.539)\n",
            "Epoch: [19][100/282]\tBatch Time 1.202 (1.212)\tData Load Time 0.001 (0.011)\tLoss 4.2044 (4.3776)\tTop-5 Accuracy 63.121 (60.482)\n",
            "Epoch: [19][200/282]\tBatch Time 1.194 (1.205)\tData Load Time 0.001 (0.006)\tLoss 4.0944 (4.3600)\tTop-5 Accuracy 63.109 (60.743)\n",
            "Epoch train time 338.167 (epoch_time.avg:.3f)\n",
            "-------------------- Validation --------------------\n",
            "Validation: [0/47]\tBatch Time 1.417 (1.417)\tLoss 5.7161 (5.7161)\tTop-5 Accuracy 48.586 (48.586)\t\n",
            "----- Bleu-n Scores -----\n",
            "1: 44.787180336018345\n",
            "2: 24.238548843932517\n",
            "3: 12.804109232369083\n",
            "4: 6.862300456763069\n",
            "-------------------------\n",
            "\n",
            " * LOSS - 5.651, TOP-5 ACCURACY - 49.196, BLEU-4 - 6.862300456763069\n",
            "\n",
            "Epoch validation time 27.159 (epoch_time.avg:.3f)\n",
            "__________________________________________________\n",
            "-------------------- Training --------------------\n",
            "Epoch: [20][0/282]\tBatch Time 2.280 (2.280)\tData Load Time 1.011 (1.011)\tLoss 4.4788 (4.4788)\tTop-5 Accuracy 60.221 (60.221)\n",
            "Epoch: [20][100/282]\tBatch Time 1.212 (1.210)\tData Load Time 0.001 (0.011)\tLoss 4.3401 (4.3683)\tTop-5 Accuracy 61.174 (60.753)\n",
            "Epoch: [20][200/282]\tBatch Time 1.184 (1.202)\tData Load Time 0.001 (0.006)\tLoss 4.2914 (4.3634)\tTop-5 Accuracy 63.810 (60.812)\n",
            "Epoch train time 338.123 (epoch_time.avg:.3f)\n",
            "-------------------- Validation --------------------\n",
            "Validation: [0/47]\tBatch Time 1.464 (1.464)\tLoss 5.6230 (5.6230)\tTop-5 Accuracy 51.325 (51.325)\t\n",
            "----- Bleu-n Scores -----\n",
            "1: 44.707412794035186\n",
            "2: 24.22180696406201\n",
            "3: 12.72703405592358\n",
            "4: 6.753699836656701\n",
            "-------------------------\n",
            "\n",
            " * LOSS - 5.652, TOP-5 ACCURACY - 49.207, BLEU-4 - 6.753699836656701\n",
            "\n",
            "Epoch validation time 27.177 (epoch_time.avg:.3f)\n",
            "\n",
            "Epochs since last improvement: (1,)\n",
            "__________________________________________________\n",
            "-------------------- Training --------------------\n",
            "Epoch: [21][0/282]\tBatch Time 2.143 (2.143)\tData Load Time 0.913 (0.913)\tLoss 4.2466 (4.2466)\tTop-5 Accuracy 62.840 (62.840)\n",
            "Epoch: [21][100/282]\tBatch Time 1.178 (1.207)\tData Load Time 0.001 (0.010)\tLoss 4.2649 (4.3564)\tTop-5 Accuracy 64.008 (60.929)\n",
            "Epoch: [21][200/282]\tBatch Time 1.189 (1.202)\tData Load Time 0.001 (0.006)\tLoss 4.3272 (4.3573)\tTop-5 Accuracy 60.566 (60.868)\n",
            "Epoch train time 337.976 (epoch_time.avg:.3f)\n",
            "-------------------- Validation --------------------\n",
            "Validation: [0/47]\tBatch Time 1.474 (1.474)\tLoss 5.5625 (5.5625)\tTop-5 Accuracy 50.120 (50.120)\t\n",
            "----- Bleu-n Scores -----\n",
            "1: 44.58985527254057\n",
            "2: 24.116316217634136\n",
            "3: 12.68338394803169\n",
            "4: 6.738267158981621\n",
            "-------------------------\n",
            "\n",
            " * LOSS - 5.650, TOP-5 ACCURACY - 49.181, BLEU-4 - 6.738267158981621\n",
            "\n",
            "Epoch validation time 27.264 (epoch_time.avg:.3f)\n",
            "\n",
            "Epochs since last improvement: (2,)\n",
            "Epoch    13: reducing learning rate of group 0 to 1.0000e-08.\n",
            "__________________________________________________\n",
            "-------------------- Training --------------------\n",
            "Epoch: [22][0/282]\tBatch Time 2.168 (2.168)\tData Load Time 0.941 (0.941)\tLoss 4.5648 (4.5648)\tTop-5 Accuracy 56.806 (56.806)\n",
            "Epoch: [22][100/282]\tBatch Time 1.172 (1.209)\tData Load Time 0.003 (0.010)\tLoss 4.3715 (4.3607)\tTop-5 Accuracy 59.959 (60.771)\n",
            "Epoch: [22][200/282]\tBatch Time 1.212 (1.203)\tData Load Time 0.001 (0.006)\tLoss 4.6162 (4.3626)\tTop-5 Accuracy 57.374 (60.848)\n",
            "Epoch train time 338.029 (epoch_time.avg:.3f)\n",
            "-------------------- Validation --------------------\n",
            "Validation: [0/47]\tBatch Time 1.402 (1.402)\tLoss 5.4947 (5.4947)\tTop-5 Accuracy 50.378 (50.378)\t\n",
            "----- Bleu-n Scores -----\n",
            "1: 44.721671903262965\n",
            "2: 24.11645415671106\n",
            "3: 12.525851059791151\n",
            "4: 6.611119173359686\n",
            "-------------------------\n",
            "\n",
            " * LOSS - 5.652, TOP-5 ACCURACY - 49.202, BLEU-4 - 6.611119173359686\n",
            "\n",
            "Epoch validation time 27.253 (epoch_time.avg:.3f)\n",
            "\n",
            "Epochs since last improvement: (3,)\n",
            "__________________________________________________\n",
            "-------------------- Training --------------------\n",
            "Epoch: [23][0/282]\tBatch Time 2.165 (2.165)\tData Load Time 0.917 (0.917)\tLoss 4.2614 (4.2614)\tTop-5 Accuracy 61.922 (61.922)\n",
            "Epoch: [23][100/282]\tBatch Time 1.200 (1.209)\tData Load Time 0.003 (0.010)\tLoss 4.5093 (4.3591)\tTop-5 Accuracy 59.375 (60.787)\n",
            "Epoch: [23][200/282]\tBatch Time 1.194 (1.203)\tData Load Time 0.001 (0.006)\tLoss 4.3041 (4.3656)\tTop-5 Accuracy 62.991 (60.772)\n",
            "Epoch train time 338.130 (epoch_time.avg:.3f)\n",
            "-------------------- Validation --------------------\n",
            "Validation: [0/47]\tBatch Time 1.432 (1.432)\tLoss 5.8433 (5.8433)\tTop-5 Accuracy 47.532 (47.532)\t\n",
            "----- Bleu-n Scores -----\n",
            "1: 44.74809780069365\n",
            "2: 24.200440344746973\n",
            "3: 12.677243654232505\n",
            "4: 6.754605133782575\n",
            "-------------------------\n",
            "\n",
            " * LOSS - 5.652, TOP-5 ACCURACY - 49.191, BLEU-4 - 6.754605133782575\n",
            "\n",
            "Epoch validation time 27.579 (epoch_time.avg:.3f)\n",
            "\n",
            "Epochs since last improvement: (4,)\n",
            "__________________________________________________\n",
            "-------------------- Training --------------------\n",
            "Epoch: [24][0/282]\tBatch Time 2.162 (2.162)\tData Load Time 0.911 (0.911)\tLoss 4.4468 (4.4468)\tTop-5 Accuracy 61.111 (61.111)\n",
            "Epoch: [24][100/282]\tBatch Time 1.196 (1.208)\tData Load Time 0.001 (0.010)\tLoss 4.2793 (4.3528)\tTop-5 Accuracy 60.949 (61.010)\n",
            "Epoch: [24][200/282]\tBatch Time 1.196 (1.203)\tData Load Time 0.001 (0.006)\tLoss 4.2618 (4.3617)\tTop-5 Accuracy 62.004 (60.832)\n",
            "Epoch train time 338.163 (epoch_time.avg:.3f)\n",
            "-------------------- Validation --------------------\n",
            "Validation: [0/47]\tBatch Time 1.399 (1.399)\tLoss 5.9218 (5.9218)\tTop-5 Accuracy 45.682 (45.682)\t\n",
            "----- Bleu-n Scores -----\n",
            "1: 44.78705926163313\n",
            "2: 24.262523421724623\n",
            "3: 12.714692018373016\n",
            "4: 6.765237356682744\n",
            "-------------------------\n",
            "\n",
            " * LOSS - 5.653, TOP-5 ACCURACY - 49.249, BLEU-4 - 6.765237356682744\n",
            "\n",
            "Epoch validation time 27.493 (epoch_time.avg:.3f)\n",
            "\n",
            "Epochs since last improvement: (5,)\n",
            "No improvement for 5 consecutive epochs, terminating...\n"
          ],
          "name": "stdout"
        }
      ]
    },
    {
      "cell_type": "code",
      "metadata": {
        "id": "4akCez3Z6UNp"
      },
      "source": [
        "!cp BEST_checkpoint_flickr8k_ar_finetune.pth.tar /content/drive/MyDrive/ImageCaptioning/flickr8_ar"
      ],
      "id": "4akCez3Z6UNp",
      "execution_count": 22,
      "outputs": []
    },
    {
      "cell_type": "code",
      "metadata": {
        "colab": {
          "base_uri": "https://localhost:8080/"
        },
        "id": "knnG-VzB6gu7",
        "outputId": "335350b2-dc51-4b19-f005-5c08e56ab4a9"
      },
      "source": [
        "checkpoint = load_checkpoint(\"BEST_checkpoint_flickr8k_ar_finetune.pth.tar\")\n",
        "decoder = checkpoint['decoder']\n",
        "decoder = decoder.to(device)\n",
        "decoder.eval()\n",
        "encoder = checkpoint['encoder']\n",
        "encoder = encoder.to(device)\n",
        "encoder.eval();"
      ],
      "id": "knnG-VzB6gu7",
      "execution_count": 23,
      "outputs": [
        {
          "output_type": "stream",
          "text": [
            "Loaded Checkpoint!!\n",
            "Last Epoch: 19\n",
            "Best Bleu-4: 6.862300456763069\n"
          ],
          "name": "stdout"
        }
      ]
    },
    {
      "cell_type": "code",
      "metadata": {
        "colab": {
          "base_uri": "https://localhost:8080/"
        },
        "id": "reIYwZ6O6ncg",
        "outputId": "56059b76-ff0b-4176-eef8-67e938da89d4"
      },
      "source": [
        "from eval import test_score\n",
        "\n",
        "test_dict = {}\n",
        "\n",
        "for i in [1, 3, 5]:\n",
        "    \n",
        "    b1, b2, b3, b4 = test_score(i, encoder, decoder, IMGS_PATH, DATA_JSON_PATH, vocab)\n",
        "    if i == 3:\n",
        "        test_dict['b1'] = b1\n",
        "        test_dict['b2'] = b2\n",
        "        test_dict['b3'] = b3\n",
        "    \n",
        "    test_dict[f'b4-b{i}'] = b4"
      ],
      "id": "reIYwZ6O6ncg",
      "execution_count": 24,
      "outputs": [
        {
          "output_type": "stream",
          "text": [
            "/usr/local/lib/python3.7/dist-packages/torch/utils/data/dataloader.py:481: UserWarning: This DataLoader will create 8 worker processes in total. Our suggested max number of worker in current system is 2, which is smaller than what this DataLoader is going to create. Please be aware that excessive worker creation might get DataLoader running slow or even freeze, lower the worker number to avoid potential slowness/freeze if necessary.\n",
            "  cpuset_checked))\n",
            "\rEVALUATING AT BEAM SIZE 1:   0%|          | 0/3000 [00:00<?, ?it/s]"
          ],
          "name": "stderr"
        },
        {
          "output_type": "stream",
          "text": [
            "Dataset split: test\n",
            "Unique images: 1000\n",
            "Total size: 3000\n"
          ],
          "name": "stdout"
        },
        {
          "output_type": "stream",
          "text": [
            "/usr/local/lib/python3.7/dist-packages/torch/_tensor.py:575: UserWarning: floor_divide is deprecated, and will be removed in a future version of pytorch. It currently rounds toward 0 (like the 'trunc' function NOT 'floor'). This results in incorrect rounding for negative values.\n",
            "To keep the current behavior, use torch.div(a, b, rounding_mode='trunc'), or for actual floor division, use torch.div(a, b, rounding_mode='floor'). (Triggered internally at  /pytorch/aten/src/ATen/native/BinaryOps.cpp:467.)\n",
            "  return torch.floor_divide(self, other)\n",
            "EVALUATING AT BEAM SIZE 1: 100%|██████████| 3000/3000 [01:26<00:00, 34.86it/s]\n"
          ],
          "name": "stderr"
        },
        {
          "output_type": "stream",
          "text": [
            "----- Bleu-n Scores -----\n",
            "1: 39.95516959427624\n",
            "2: 25.77931292578018\n",
            "3: 15.10781606368901\n",
            "4: 8.64667118061901\n",
            "-------------------------\n"
          ],
          "name": "stdout"
        },
        {
          "output_type": "stream",
          "text": [
            "/usr/local/lib/python3.7/dist-packages/torch/utils/data/dataloader.py:481: UserWarning: This DataLoader will create 8 worker processes in total. Our suggested max number of worker in current system is 2, which is smaller than what this DataLoader is going to create. Please be aware that excessive worker creation might get DataLoader running slow or even freeze, lower the worker number to avoid potential slowness/freeze if necessary.\n",
            "  cpuset_checked))\n",
            "\rEVALUATING AT BEAM SIZE 3:   0%|          | 0/3000 [00:00<?, ?it/s]"
          ],
          "name": "stderr"
        },
        {
          "output_type": "stream",
          "text": [
            "Dataset split: test\n",
            "Unique images: 1000\n",
            "Total size: 3000\n"
          ],
          "name": "stdout"
        },
        {
          "output_type": "stream",
          "text": [
            "EVALUATING AT BEAM SIZE 3: 100%|██████████| 3000/3000 [01:34<00:00, 31.81it/s]\n"
          ],
          "name": "stderr"
        },
        {
          "output_type": "stream",
          "text": [
            "----- Bleu-n Scores -----\n"
          ],
          "name": "stdout"
        },
        {
          "output_type": "stream",
          "text": [
            "/usr/local/lib/python3.7/dist-packages/torch/utils/data/dataloader.py:481: UserWarning: This DataLoader will create 8 worker processes in total. Our suggested max number of worker in current system is 2, which is smaller than what this DataLoader is going to create. Please be aware that excessive worker creation might get DataLoader running slow or even freeze, lower the worker number to avoid potential slowness/freeze if necessary.\n",
            "  cpuset_checked))\n",
            "\rEVALUATING AT BEAM SIZE 5:   0%|          | 0/3000 [00:00<?, ?it/s]"
          ],
          "name": "stderr"
        },
        {
          "output_type": "stream",
          "text": [
            "1: 40.373911854332825\n",
            "2: 26.615634981477243\n",
            "3: 16.09711443584611\n",
            "4: 9.384744789396482\n",
            "-------------------------\n",
            "Dataset split: test\n",
            "Unique images: 1000\n",
            "Total size: 3000\n"
          ],
          "name": "stdout"
        },
        {
          "output_type": "stream",
          "text": [
            "EVALUATING AT BEAM SIZE 5: 100%|██████████| 3000/3000 [01:43<00:00, 28.92it/s]\n"
          ],
          "name": "stderr"
        },
        {
          "output_type": "stream",
          "text": [
            "----- Bleu-n Scores -----\n",
            "1: 39.84779810028518\n",
            "2: 26.47471808239697\n",
            "3: 15.929967050767372\n",
            "4: 9.330062157193685\n",
            "-------------------------\n"
          ],
          "name": "stdout"
        }
      ]
    },
    {
      "cell_type": "code",
      "metadata": {
        "colab": {
          "base_uri": "https://localhost:8080/"
        },
        "id": "ZzgkO1EF6p_R",
        "outputId": "e698ff4a-1ffc-4d42-cd78-ac892c644849"
      },
      "source": [
        "test_dict"
      ],
      "id": "ZzgkO1EF6p_R",
      "execution_count": 25,
      "outputs": [
        {
          "output_type": "execute_result",
          "data": {
            "text/plain": [
              "{'b1': 40.373911854332825,\n",
              " 'b2': 26.615634981477243,\n",
              " 'b3': 16.09711443584611,\n",
              " 'b4-b1': 8.64667118061901,\n",
              " 'b4-b3': 9.384744789396482,\n",
              " 'b4-b5': 9.330062157193685}"
            ]
          },
          "metadata": {
            "tags": []
          },
          "execution_count": 25
        }
      ]
    },
    {
      "cell_type": "code",
      "metadata": {
        "id": "_i5rSOU78FlS"
      },
      "source": [
        "# final results -> different from training and validation scalars\n",
        "results_dic =  {\n",
        "    # train & valid\n",
        "    'total_epochs': 5.653,\n",
        "    'b-1/test': test_dict['b1'],\n",
        "    'b-2/test': test_dict['b2'],\n",
        "    'b-3/test': test_dict['b3'],\n",
        "    'b-4/b3': test_dict['b4-b3'],\n",
        "    'b-4/b1': test_dict['b4-b1'],\n",
        "    'b-4/b5': test_dict['b4-b5']\n",
        "}"
      ],
      "id": "_i5rSOU78FlS",
      "execution_count": 26,
      "outputs": []
    },
    {
      "cell_type": "code",
      "metadata": {
        "id": "mStUSnYm8fPC"
      },
      "source": [
        "logger.add_hparams(logger_dic, results_dic, run_name='Arabic_30maxlen')"
      ],
      "id": "mStUSnYm8fPC",
      "execution_count": 27,
      "outputs": []
    }
  ]
}