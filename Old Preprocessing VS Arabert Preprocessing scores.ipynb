{
 "cells": [
  {
   "cell_type": "code",
   "execution_count": 1,
   "metadata": {
    "execution": {
     "iopub.execute_input": "2021-07-17T13:06:17.133766Z",
     "iopub.status.busy": "2021-07-17T13:06:17.133354Z",
     "iopub.status.idle": "2021-07-17T13:06:17.181700Z",
     "shell.execute_reply": "2021-07-17T13:06:17.180619Z",
     "shell.execute_reply.started": "2021-07-17T13:06:17.133730Z"
    },
    "id": "b4366e4d"
   },
   "outputs": [],
   "source": [
    "%reload_ext autoreload\n",
    "%autoreload 2\n",
    "%matplotlib inline"
   ]
  },
  {
   "cell_type": "code",
   "execution_count": 2,
   "metadata": {
    "execution": {
     "iopub.execute_input": "2021-07-17T13:06:18.808551Z",
     "iopub.status.busy": "2021-07-17T13:06:18.808173Z",
     "iopub.status.idle": "2021-07-17T13:06:23.008079Z",
     "shell.execute_reply": "2021-07-17T13:06:23.007029Z",
     "shell.execute_reply.started": "2021-07-17T13:06:18.808492Z"
    },
    "id": "4034c69e"
   },
   "outputs": [],
   "source": [
    "import time \n",
    "import torch.backends.cudnn as cudnn\n",
    "import torch.optim\n",
    "import torch.utils.data\n",
    "import torchvision.transforms as transforms\n",
    "from torch import nn\n",
    "from torch.nn.utils.rnn import pack_padded_sequence\n",
    "from models import Encoder, DecoderWithAttention\n",
    "from dataset import *\n",
    "from utils import *\n",
    "from train import *\n",
    "from torch.utils.tensorboard import SummaryWriter\n",
    "from os import path as osp"
   ]
  },
  {
   "cell_type": "code",
   "execution_count": 3,
   "metadata": {
    "execution": {
     "iopub.execute_input": "2021-07-17T13:06:38.929331Z",
     "iopub.status.busy": "2021-07-17T13:06:38.928921Z",
     "iopub.status.idle": "2021-07-17T13:06:38.978858Z",
     "shell.execute_reply": "2021-07-17T13:06:38.977752Z",
     "shell.execute_reply.started": "2021-07-17T13:06:38.929301Z"
    },
    "id": "b8ce76f9"
   },
   "outputs": [],
   "source": [
    "# Model parameters\n",
    "encoder_dim = 2048 # resnet101\n",
    "emb_dim = 512  # dimension of word embeddings\n",
    "attention_dim = 512  # dimension of attention linear layers\n",
    "decoder_dim = 512  # dimension of decoder RNN\n",
    "dropout = 0.5\n",
    "device = torch.device(\"cuda\" if torch.cuda.is_available() else \"cpu\")  # sets device for model and PyTorch tensors\n",
    "cudnn.benchmark = True  # set to true only if inputs to model are fixed size; otherwise lot of computational overhead\n",
    "\n",
    "# training parameters\n",
    "epochs = 30  # number of epochs to train for (if early stopping is not triggered)\n",
    "batch_size = 256\n",
    "workers = 2\n",
    "encoder_lr = 1e-4  # learning rate for encoder if fine-tuning\n",
    "decoder_lr = 4e-4  # learning rate for decoder\n",
    "fine_tune_encoder = False  # fine-tune encoder?\n",
    "pretrained_embeddings = False\n",
    "fine_tune_embeddings = False\n",
    "checkpoint = None  # path to checkpoint, None if none"
   ]
  },
  {
   "cell_type": "markdown",
   "metadata": {},
   "source": [
    "# Old Preprocessing to Arabert  "
   ]
  },
  {
   "cell_type": "code",
   "execution_count": 4,
   "metadata": {
    "execution": {
     "iopub.execute_input": "2021-07-17T13:07:02.652391Z",
     "iopub.status.busy": "2021-07-17T13:07:02.652020Z",
     "iopub.status.idle": "2021-07-17T13:07:02.698928Z",
     "shell.execute_reply": "2021-07-17T13:07:02.697758Z",
     "shell.execute_reply.started": "2021-07-17T13:07:02.652357Z"
    },
    "id": "d7a302e3"
   },
   "outputs": [],
   "source": [
    "DATA_JSON_PATH = 'old_ar_data.json'\n",
    "IMGS_PATH = 'flickr/Images/'\n",
    "DATA_NAME = 'TESTING'"
   ]
  },
  {
   "cell_type": "code",
   "execution_count": 5,
   "metadata": {
    "execution": {
     "iopub.execute_input": "2021-07-17T13:07:07.551421Z",
     "iopub.status.busy": "2021-07-17T13:07:07.551059Z",
     "iopub.status.idle": "2021-07-17T13:07:08.027838Z",
     "shell.execute_reply": "2021-07-17T13:07:08.026347Z",
     "shell.execute_reply.started": "2021-07-17T13:07:07.551388Z"
    },
    "id": "a4b1a677",
    "outputId": "9356268d-4297-4f43-c44e-3aef77004680"
   },
   "outputs": [
    {
     "name": "stderr",
     "output_type": "stream",
     "text": [
      "100%|██████████| 24000/24000 [00:00<00:00, 312155.55it/s]\n"
     ]
    },
    {
     "data": {
      "text/plain": [
       "5788"
      ]
     },
     "execution_count": 5,
     "metadata": {},
     "output_type": "execute_result"
    }
   ],
   "source": [
    "max_seq = 30\n",
    "vocab = build_vocab(DATA_JSON_PATH, max_seq=max_seq)\n",
    "vocab_len = len(vocab); vocab_len"
   ]
  },
  {
   "cell_type": "code",
   "execution_count": 6,
   "metadata": {
    "execution": {
     "iopub.execute_input": "2021-07-17T13:07:28.390568Z",
     "iopub.status.busy": "2021-07-17T13:07:28.390150Z",
     "iopub.status.idle": "2021-07-17T13:07:28.442817Z",
     "shell.execute_reply": "2021-07-17T13:07:28.441335Z",
     "shell.execute_reply.started": "2021-07-17T13:07:28.390526Z"
    },
    "id": "ff6df2d0",
    "outputId": "dcf14d12-9a82-49ef-b74b-66b728e23823"
   },
   "outputs": [
    {
     "data": {
      "text/plain": [
       "([0, 1, 2, 3, 4, 5, 6, 7, 8, 9],\n",
       " ['<pad>',\n",
       "  '<sos>',\n",
       "  '<eos>',\n",
       "  '<unk>',\n",
       "  'طفلة',\n",
       "  'صغيرة',\n",
       "  'تتسلق',\n",
       "  'إلى',\n",
       "  'كلب',\n",
       "  'أسود'])"
      ]
     },
     "execution_count": 6,
     "metadata": {},
     "output_type": "execute_result"
    }
   ],
   "source": [
    "list(vocab.itos.keys())[:10], list(vocab.itos.values())[:10]"
   ]
  },
  {
   "cell_type": "code",
   "execution_count": 7,
   "metadata": {
    "execution": {
     "iopub.execute_input": "2021-07-17T14:31:30.992363Z",
     "iopub.status.busy": "2021-07-17T14:31:30.991995Z",
     "iopub.status.idle": "2021-07-17T14:31:31.341563Z",
     "shell.execute_reply": "2021-07-17T14:31:31.340228Z",
     "shell.execute_reply.started": "2021-07-17T14:31:30.992328Z"
    },
    "id": "cgtlSQWzjNwz",
    "outputId": "9df0886b-4b65-4a7b-d4bc-36b41f0c9e49"
   },
   "outputs": [
    {
     "name": "stdout",
     "output_type": "stream",
     "text": [
      "Loaded Checkpoint!!\n",
      "Last Epoch: 19\n",
      "Best Bleu-4: 6.862300456763069\n"
     ]
    }
   ],
   "source": [
    "m = load_checkpoint(\"models/BEST_checkpoint_flickr8k_ar_finetune.pth.tar\")"
   ]
  },
  {
   "cell_type": "code",
   "execution_count": 8,
   "metadata": {},
   "outputs": [],
   "source": [
    "encoder = m['encoder'].eval()\n",
    "decoder = m['decoder'].eval()"
   ]
  },
  {
   "cell_type": "code",
   "execution_count": 9,
   "metadata": {
    "execution": {
     "iopub.execute_input": "2021-07-17T15:07:27.757142Z",
     "iopub.status.busy": "2021-07-17T15:07:27.756791Z",
     "iopub.status.idle": "2021-07-17T15:21:46.839602Z",
     "shell.execute_reply": "2021-07-17T15:21:46.838395Z",
     "shell.execute_reply.started": "2021-07-17T15:07:27.757112Z"
    },
    "id": "reIYwZ6O6ncg",
    "outputId": "56059b76-ff0b-4176-eef8-67e938da89d4"
   },
   "outputs": [
    {
     "name": "stdout",
     "output_type": "stream",
     "text": [
      "Dataset split: test\n",
      "Unique images: 1000\n",
      "Total size: 3000\n"
     ]
    },
    {
     "name": "stderr",
     "output_type": "stream",
     "text": [
      "EVALUATING AT BEAM SIZE 1:   0%|          | 0/1000 [00:00<?, ?it/s]/home/kelwa/anaconda3/envs/yolo5/lib/python3.6/site-packages/torch/nn/functional.py:718: UserWarning: Named tensors and all their associated APIs are an experimental feature and subject to change. Please do not use them for anything important until they are released as stable. (Triggered internally at  /pytorch/c10/core/TensorImpl.h:1156.)\n",
      "  return torch.max_pool2d(input, kernel_size, stride, padding, dilation, ceil_mode)\n",
      "/home/kelwa/anaconda3/envs/yolo5/lib/python3.6/site-packages/torch/_tensor.py:575: UserWarning: floor_divide is deprecated, and will be removed in a future version of pytorch. It currently rounds toward 0 (like the 'trunc' function NOT 'floor'). This results in incorrect rounding for negative values.\n",
      "To keep the current behavior, use torch.div(a, b, rounding_mode='trunc'), or for actual floor division, use torch.div(a, b, rounding_mode='floor'). (Triggered internally at  /pytorch/aten/src/ATen/native/BinaryOps.cpp:467.)\n",
      "  return torch.floor_divide(self, other)\n",
      "EVALUATING AT BEAM SIZE 1: 100%|██████████| 1000/1000 [00:26<00:00, 37.96it/s]\n"
     ]
    },
    {
     "name": "stdout",
     "output_type": "stream",
     "text": [
      "----- Bleu-n Scores -----\n",
      "1: 39.955\n",
      "2: 25.779\n",
      "3: 15.108\n",
      "4: 8.647\n",
      "-------------------------\n",
      "Dataset split: test\n",
      "Unique images: 1000\n",
      "Total size: 3000\n"
     ]
    },
    {
     "name": "stderr",
     "output_type": "stream",
     "text": [
      "EVALUATING AT BEAM SIZE 2: 100%|██████████| 1000/1000 [00:28<00:00, 35.00it/s]\n"
     ]
    },
    {
     "name": "stdout",
     "output_type": "stream",
     "text": [
      "----- Bleu-n Scores -----\n",
      "1: 40.689\n",
      "2: 26.983\n",
      "3: 16.460\n",
      "4: 9.632\n",
      "-------------------------\n",
      "Dataset split: test\n",
      "Unique images: 1000\n",
      "Total size: 3000\n"
     ]
    },
    {
     "name": "stderr",
     "output_type": "stream",
     "text": [
      "EVALUATING AT BEAM SIZE 3: 100%|██████████| 1000/1000 [00:31<00:00, 31.47it/s]\n"
     ]
    },
    {
     "name": "stdout",
     "output_type": "stream",
     "text": [
      "----- Bleu-n Scores -----\n",
      "1: 40.374\n",
      "2: 26.616\n",
      "3: 16.097\n",
      "4: 9.385\n",
      "-------------------------\n",
      "Dataset split: test\n",
      "Unique images: 1000\n",
      "Total size: 3000\n"
     ]
    },
    {
     "name": "stderr",
     "output_type": "stream",
     "text": [
      "EVALUATING AT BEAM SIZE 4: 100%|██████████| 1000/1000 [00:34<00:00, 29.30it/s]\n"
     ]
    },
    {
     "name": "stdout",
     "output_type": "stream",
     "text": [
      "----- Bleu-n Scores -----\n",
      "1: 40.489\n",
      "2: 26.861\n",
      "3: 16.300\n",
      "4: 9.621\n",
      "-------------------------\n",
      "Dataset split: test\n",
      "Unique images: 1000\n",
      "Total size: 3000\n"
     ]
    },
    {
     "name": "stderr",
     "output_type": "stream",
     "text": [
      "EVALUATING AT BEAM SIZE 5: 100%|██████████| 1000/1000 [00:37<00:00, 26.78it/s]\n"
     ]
    },
    {
     "name": "stdout",
     "output_type": "stream",
     "text": [
      "----- Bleu-n Scores -----\n",
      "1: 39.848\n",
      "2: 26.475\n",
      "3: 15.930\n",
      "4: 9.330\n",
      "-------------------------\n"
     ]
    }
   ],
   "source": [
    "from eval import test_score\n",
    "\n",
    "for i in range(1, 6):\n",
    "    b1, b2, b3, b4 = test_score(i, encoder, decoder, IMGS_PATH, DATA_JSON_PATH, vocab)"
   ]
  },
  {
   "cell_type": "markdown",
   "metadata": {},
   "source": [
    "### Saving the results of the best beam size "
   ]
  },
  {
   "cell_type": "code",
   "execution_count": 10,
   "metadata": {},
   "outputs": [
    {
     "name": "stdout",
     "output_type": "stream",
     "text": [
      "Dataset split: test\n",
      "Unique images: 1000\n",
      "Total size: 3000\n"
     ]
    },
    {
     "name": "stderr",
     "output_type": "stream",
     "text": [
      "EVALUATING AT BEAM SIZE 2: 100%|██████████| 1000/1000 [00:28<00:00, 35.15it/s]\n"
     ]
    },
    {
     "name": "stdout",
     "output_type": "stream",
     "text": [
      "----- Bleu-n Scores -----\n",
      "1: 40.689\n",
      "2: 26.983\n",
      "3: 16.460\n",
      "4: 9.632\n",
      "-------------------------\n"
     ]
    }
   ],
   "source": [
    "references, hypotheses = test_score(2, encoder, decoder, IMGS_PATH, DATA_JSON_PATH, vocab, return_results=True)"
   ]
  },
  {
   "cell_type": "code",
   "execution_count": 11,
   "metadata": {},
   "outputs": [],
   "source": [
    "references_old_tokens = [[[vocab.itos[i] for i in refe] for refe in refes] for refes in references]\n",
    "hypotheses_old_tokens = [[vocab.itos[i] for i in hypo] for hypo in hypotheses]"
   ]
  },
  {
   "cell_type": "code",
   "execution_count": 11,
   "metadata": {},
   "outputs": [
    {
     "name": "stderr",
     "output_type": "stream",
     "text": [
      "[2021-09-29 19:11:24,539 - farasapy_logger - WARNING]: Be careful with large lines as they may break on interactive mode. You may switch to Standalone mode for such cases.\n"
     ]
    }
   ],
   "source": [
    "from arabert.preprocess import ArabertPreprocessor\n",
    "import pyarabic.araby as araby\n",
    "\n",
    "\n",
    "model_name = \"aubmindlab/bert-base-arabertv2\"\n",
    "arabert_prep = ArabertPreprocessor(model_name=model_name)"
   ]
  },
  {
   "cell_type": "code",
   "execution_count": 13,
   "metadata": {},
   "outputs": [],
   "source": [
    "hypotheses_ara_tokens = [araby.tokenize(arabert_prep.preprocess(\" \".join(i))) for i in hypotheses_old_tokens]\n",
    "references_ara_tokens = [[araby.tokenize(arabert_prep.preprocess(\" \".join(i))) for i in ref] for ref in references_old_tokens]"
   ]
  },
  {
   "cell_type": "code",
   "execution_count": 14,
   "metadata": {},
   "outputs": [
    {
     "name": "stdout",
     "output_type": "stream",
     "text": [
      "----- Bleu-n Scores -----\n",
      "1: 54.853\n",
      "2: 43.938\n",
      "3: 34.767\n",
      "4: 27.802\n",
      "-------------------------\n"
     ]
    },
    {
     "data": {
      "text/plain": [
       "(54.853, 43.938, 34.767, 27.802)"
      ]
     },
     "execution_count": 14,
     "metadata": {},
     "output_type": "execute_result"
    }
   ],
   "source": [
    "print_scores(references_ara_tokens, hypotheses_ara_tokens)"
   ]
  },
  {
   "cell_type": "markdown",
   "metadata": {},
   "source": [
    "# Arabet to old Preprocessing "
   ]
  },
  {
   "cell_type": "code",
   "execution_count": 15,
   "metadata": {},
   "outputs": [],
   "source": [
    "DATA_JSON_PATH = 'data/ar_data.json'\n",
    "IMGS_PATH = 'flickr/Images/'\n",
    "DATA_NAME = 'TESTING'"
   ]
  },
  {
   "cell_type": "code",
   "execution_count": 16,
   "metadata": {},
   "outputs": [
    {
     "name": "stderr",
     "output_type": "stream",
     "text": [
      "100%|██████████| 24000/24000 [00:00<00:00, 255904.98it/s]\n"
     ]
    },
    {
     "data": {
      "text/plain": [
       "3309"
      ]
     },
     "execution_count": 16,
     "metadata": {},
     "output_type": "execute_result"
    }
   ],
   "source": [
    "max_seq = 65\n",
    "vocab = build_vocab(DATA_JSON_PATH, max_seq=max_seq)\n",
    "vocab_len = len(vocab); vocab_len"
   ]
  },
  {
   "cell_type": "code",
   "execution_count": 17,
   "metadata": {},
   "outputs": [
    {
     "data": {
      "text/plain": [
       "([0, 1, 2, 3, 4, 5, 6, 7, 8, 9],\n",
       " ['<pad>', '<sos>', '<eos>', '<unk>', '+', 'ة', 'طفل', 'صغير', 'تتسلق', 'إلى'])"
      ]
     },
     "execution_count": 17,
     "metadata": {},
     "output_type": "execute_result"
    }
   ],
   "source": [
    "list(vocab.itos.keys())[:10], list(vocab.itos.values())[:10]"
   ]
  },
  {
   "cell_type": "code",
   "execution_count": 18,
   "metadata": {},
   "outputs": [
    {
     "name": "stdout",
     "output_type": "stream",
     "text": [
      "Loaded Checkpoint!!\n",
      "Last Epoch: 9\n",
      "Best Bleu-4: 24.949378413361714\n"
     ]
    }
   ],
   "source": [
    "m = load_checkpoint(\"ar_models/BEST_checkpoint_flickr8k_ar_arabert_pretrained_finetune.pth.tar\")\n",
    "encoder = m['encoder'].eval()\n",
    "decoder = m['decoder'].eval()"
   ]
  },
  {
   "cell_type": "code",
   "execution_count": 19,
   "metadata": {},
   "outputs": [
    {
     "name": "stdout",
     "output_type": "stream",
     "text": [
      "Dataset split: test\n",
      "Unique images: 1000\n",
      "Total size: 3000\n"
     ]
    },
    {
     "name": "stderr",
     "output_type": "stream",
     "text": [
      "EVALUATING AT BEAM SIZE 1: 100%|██████████| 1000/1000 [00:40<00:00, 24.86it/s]\n"
     ]
    },
    {
     "name": "stdout",
     "output_type": "stream",
     "text": [
      "----- Bleu-n Scores -----\n",
      "1: 59.271\n",
      "2: 45.524\n",
      "3: 33.589\n",
      "4: 24.919\n",
      "-------------------------\n",
      "Dataset split: test\n",
      "Unique images: 1000\n",
      "Total size: 3000\n"
     ]
    },
    {
     "name": "stderr",
     "output_type": "stream",
     "text": [
      "EVALUATING AT BEAM SIZE 2: 100%|██████████| 1000/1000 [00:44<00:00, 22.54it/s]\n"
     ]
    },
    {
     "name": "stdout",
     "output_type": "stream",
     "text": [
      "----- Bleu-n Scores -----\n",
      "1: 59.686\n",
      "2: 46.882\n",
      "3: 35.446\n",
      "4: 26.922\n",
      "-------------------------\n",
      "Dataset split: test\n",
      "Unique images: 1000\n",
      "Total size: 3000\n"
     ]
    },
    {
     "name": "stderr",
     "output_type": "stream",
     "text": [
      "EVALUATING AT BEAM SIZE 3: 100%|██████████| 1000/1000 [00:52<00:00, 19.14it/s]\n"
     ]
    },
    {
     "name": "stdout",
     "output_type": "stream",
     "text": [
      "----- Bleu-n Scores -----\n",
      "1: 60.326\n",
      "2: 47.554\n",
      "3: 36.147\n",
      "4: 27.524\n",
      "-------------------------\n",
      "Dataset split: test\n",
      "Unique images: 1000\n",
      "Total size: 3000\n"
     ]
    },
    {
     "name": "stderr",
     "output_type": "stream",
     "text": [
      "EVALUATING AT BEAM SIZE 4: 100%|██████████| 1000/1000 [01:00<00:00, 16.49it/s]\n"
     ]
    },
    {
     "name": "stdout",
     "output_type": "stream",
     "text": [
      "----- Bleu-n Scores -----\n",
      "1: 59.512\n",
      "2: 47.318\n",
      "3: 36.330\n",
      "4: 27.893\n",
      "-------------------------\n",
      "Dataset split: test\n",
      "Unique images: 1000\n",
      "Total size: 3000\n"
     ]
    },
    {
     "name": "stderr",
     "output_type": "stream",
     "text": [
      "EVALUATING AT BEAM SIZE 5: 100%|██████████| 1000/1000 [01:03<00:00, 15.68it/s]\n"
     ]
    },
    {
     "name": "stdout",
     "output_type": "stream",
     "text": [
      "----- Bleu-n Scores -----\n",
      "1: 58.678\n",
      "2: 46.857\n",
      "3: 36.146\n",
      "4: 27.864\n",
      "-------------------------\n"
     ]
    }
   ],
   "source": [
    "from eval import test_score\n",
    "for i in range(1, 6):\n",
    "    b1, b2, b3, b4 = test_score(i, encoder, decoder, IMGS_PATH, DATA_JSON_PATH, vocab)"
   ]
  },
  {
   "cell_type": "code",
   "execution_count": 20,
   "metadata": {},
   "outputs": [
    {
     "name": "stdout",
     "output_type": "stream",
     "text": [
      "Dataset split: test\n",
      "Unique images: 1000\n",
      "Total size: 3000\n"
     ]
    },
    {
     "name": "stderr",
     "output_type": "stream",
     "text": [
      "EVALUATING AT BEAM SIZE 4: 100%|██████████| 1000/1000 [01:00<00:00, 16.41it/s]\n"
     ]
    },
    {
     "name": "stdout",
     "output_type": "stream",
     "text": [
      "----- Bleu-n Scores -----\n",
      "1: 59.512\n",
      "2: 47.318\n",
      "3: 36.330\n",
      "4: 27.893\n",
      "-------------------------\n"
     ]
    }
   ],
   "source": [
    "references, hypotheses = test_score(4, encoder, decoder, IMGS_PATH, DATA_JSON_PATH, vocab, return_results=True)"
   ]
  },
  {
   "cell_type": "code",
   "execution_count": 21,
   "metadata": {},
   "outputs": [],
   "source": [
    "references_ara_tokens = [[[vocab.itos[i] for i in refe] for refe in refes] for refes in references]\n",
    "hypotheses_ara_tokens = [[vocab.itos[i] for i in hypo] for hypo in hypotheses]"
   ]
  },
  {
   "cell_type": "code",
   "execution_count": 22,
   "metadata": {},
   "outputs": [],
   "source": [
    "references_sent_tokens = [[arabert_prep.unpreprocess(' '.join(w for w in i)) for i in refe] for refe in references_ara_tokens] \n",
    "hypotheses_sent_tokens = [arabert_prep.unpreprocess(' '.join(w for w in i)) for i in hypotheses_ara_tokens]\n",
    "assert len(references_sent_tokens) == len(hypotheses_sent_tokens)"
   ]
  },
  {
   "cell_type": "code",
   "execution_count": 23,
   "metadata": {},
   "outputs": [],
   "source": [
    "references_old_tokens = [[araby.tokenize(i)  for i in refe] for refe in references_sent_tokens] \n",
    "hypotheses_old_tokens = [araby.tokenize(i)  for i in hypotheses_sent_tokens]\n",
    "assert len(references_old_tokens) == len(hypotheses_old_tokens)"
   ]
  },
  {
   "cell_type": "code",
   "execution_count": 24,
   "metadata": {},
   "outputs": [
    {
     "name": "stdout",
     "output_type": "stream",
     "text": [
      "----- Bleu-n Scores -----\n",
      "1: 32.268\n",
      "2: 20.747\n",
      "3: 11.739\n",
      "4: 6.022\n",
      "-------------------------\n"
     ]
    },
    {
     "data": {
      "text/plain": [
       "(32.268, 20.747, 11.739, 6.022)"
      ]
     },
     "execution_count": 24,
     "metadata": {},
     "output_type": "execute_result"
    }
   ],
   "source": [
    "print_scores(references_old_tokens, hypotheses_old_tokens)"
   ]
  },
  {
   "cell_type": "markdown",
   "metadata": {},
   "source": [
    "# Saving Predictions info\n",
    "- Ground Truth Captions [separete df]\n",
    "- Araby Catpions and Arabert captions with their number of tokens (print the number of words later)"
   ]
  },
  {
   "cell_type": "markdown",
   "metadata": {},
   "source": [
    "### Getting the ground truth captions  "
   ]
  },
  {
   "cell_type": "code",
   "execution_count": 9,
   "metadata": {},
   "outputs": [
    {
     "data": {
      "text/html": [
       "<div>\n",
       "<style scoped>\n",
       "    .dataframe tbody tr th:only-of-type {\n",
       "        vertical-align: middle;\n",
       "    }\n",
       "\n",
       "    .dataframe tbody tr th {\n",
       "        vertical-align: top;\n",
       "    }\n",
       "\n",
       "    .dataframe thead th {\n",
       "        text-align: right;\n",
       "    }\n",
       "</style>\n",
       "<table border=\"1\" class=\"dataframe\">\n",
       "  <thead>\n",
       "    <tr style=\"text-align: right;\">\n",
       "      <th></th>\n",
       "      <th>file_name</th>\n",
       "      <th>caption</th>\n",
       "      <th>tok_len</th>\n",
       "    </tr>\n",
       "  </thead>\n",
       "  <tbody>\n",
       "    <tr>\n",
       "      <th>126</th>\n",
       "      <td>1056338697_4f7d7ce270.jpg</td>\n",
       "      <td>امرأة شقراء في قميص أزرق تنتظر رحلة</td>\n",
       "      <td>7</td>\n",
       "    </tr>\n",
       "    <tr>\n",
       "      <th>127</th>\n",
       "      <td>1056338697_4f7d7ce270.jpg</td>\n",
       "      <td>امرأة شقراء في الشارع تشير الى سيارة أجرة</td>\n",
       "      <td>8</td>\n",
       "    </tr>\n",
       "    <tr>\n",
       "      <th>128</th>\n",
       "      <td>1056338697_4f7d7ce270.jpg</td>\n",
       "      <td>المرأة في الثوب الأزرق تمد بذراعها لحركة المرو...</td>\n",
       "      <td>9</td>\n",
       "    </tr>\n",
       "    <tr>\n",
       "      <th>144</th>\n",
       "      <td>106490881_5a2dd9b7bd.jpg</td>\n",
       "      <td>صبي في ملابس السباحة الزرقاء على الشاطئ</td>\n",
       "      <td>7</td>\n",
       "    </tr>\n",
       "    <tr>\n",
       "      <th>145</th>\n",
       "      <td>106490881_5a2dd9b7bd.jpg</td>\n",
       "      <td>صبي يبتسم للكاميرا على الشاطئ</td>\n",
       "      <td>5</td>\n",
       "    </tr>\n",
       "  </tbody>\n",
       "</table>\n",
       "</div>"
      ],
      "text/plain": [
       "                     file_name  \\\n",
       "126  1056338697_4f7d7ce270.jpg   \n",
       "127  1056338697_4f7d7ce270.jpg   \n",
       "128  1056338697_4f7d7ce270.jpg   \n",
       "144   106490881_5a2dd9b7bd.jpg   \n",
       "145   106490881_5a2dd9b7bd.jpg   \n",
       "\n",
       "                                               caption  tok_len  \n",
       "126                امرأة شقراء في قميص أزرق تنتظر رحلة        7  \n",
       "127          امرأة شقراء في الشارع تشير الى سيارة أجرة        8  \n",
       "128  المرأة في الثوب الأزرق تمد بذراعها لحركة المرو...        9  \n",
       "144            صبي في ملابس السباحة الزرقاء على الشاطئ        7  \n",
       "145                      صبي يبتسم للكاميرا على الشاطئ        5  "
      ]
     },
     "execution_count": 9,
     "metadata": {},
     "output_type": "execute_result"
    }
   ],
   "source": [
    "import pandas as pd \n",
    "df = pd.read_json('old_ar_data.json')\n",
    "ground_truth = df[df['split'] == 'test'].drop(['split', 'tokens'], axis=1)\n",
    "ground_truth.head()"
   ]
  },
  {
   "cell_type": "markdown",
   "metadata": {},
   "source": [
    "## Old Predictions "
   ]
  },
  {
   "cell_type": "code",
   "execution_count": 3,
   "metadata": {},
   "outputs": [],
   "source": [
    "from torch.utils.data import DataLoader\n",
    "import torchvision.transforms as transforms\n",
    "from caption import CaptionDataset, caption_image\n",
    "from utils import load_checkpoint, print_scores\n",
    "from dataset import build_vocab\n",
    "import pandas as pd\n",
    "from tqdm import tqdm"
   ]
  },
  {
   "cell_type": "code",
   "execution_count": 27,
   "metadata": {},
   "outputs": [],
   "source": [
    "model_path = 'models/BEST_checkpoint_flickr8k_ar_finetune.pth.tar'\n",
    "IMGS_PATH = 'flickr/Images/'\n",
    "DATA_JSON_PATH = 'old_ar_data.json'"
   ]
  },
  {
   "cell_type": "code",
   "execution_count": 28,
   "metadata": {},
   "outputs": [
    {
     "name": "stderr",
     "output_type": "stream",
     "text": [
      "100%|██████████| 24000/24000 [00:00<00:00, 446297.51it/s]\n"
     ]
    },
    {
     "name": "stdout",
     "output_type": "stream",
     "text": [
      "len: 5788\n",
      "Dataset split: test\n",
      "Unique images: 1000\n",
      "Total size: 3000\n",
      "--------------------\n",
      "Loaded Checkpoint!!\n",
      "Last Epoch: 19\n",
      "Best Bleu-4: 6.862300456763069\n"
     ]
    }
   ],
   "source": [
    "vocab = build_vocab(DATA_JSON_PATH)\n",
    "print('len:',len(vocab))\n",
    "\n",
    "transform = transforms.Compose([\n",
    "    transforms.Resize(256),\n",
    "    transforms.CenterCrop(224),\n",
    "    transforms.ToTensor(),\n",
    "    transforms.Normalize(mean=[0.485, 0.456, 0.406], std=[0.229, 0.224, 0.225]),\n",
    "])\n",
    "\n",
    "\n",
    "bs = 1\n",
    "loader = DataLoader(\n",
    "            dataset=CaptionDataset(IMGS_PATH, DATA_JSON_PATH,\n",
    "                                    transforms=transform, vocab=vocab, split='test'),\n",
    "            batch_size=bs,\n",
    "            num_workers=7,\n",
    "            pin_memory=True\n",
    "        )\n",
    "\n",
    "print('-'*20)\n",
    "checkpoint = load_checkpoint(model_path)\n",
    "encoder = checkpoint['encoder'].eval()\n",
    "decoder = checkpoint['decoder'].eval()"
   ]
  },
  {
   "cell_type": "code",
   "execution_count": 29,
   "metadata": {},
   "outputs": [
    {
     "name": "stderr",
     "output_type": "stream",
     "text": [
      "EVALUATING AT BEAM SIZE 2: 100%|██████████| 1000/1000 [00:30<00:00, 32.81it/s]"
     ]
    },
    {
     "name": "stdout",
     "output_type": "stream",
     "text": [
      "Number of NO COMPLETED:  0\n"
     ]
    },
    {
     "name": "stderr",
     "output_type": "stream",
     "text": [
      "\n"
     ]
    }
   ],
   "source": [
    "references, hypothesis, img_ids = caption_image(loader, vocab, encoder,\n",
    "                                               decoder, 2)"
   ]
  },
  {
   "cell_type": "code",
   "execution_count": 30,
   "metadata": {},
   "outputs": [],
   "source": [
    "hypotheses_tokens = [[vocab.itos[i] for i in hypo] for hypo in hypothesis]"
   ]
  },
  {
   "cell_type": "code",
   "execution_count": 31,
   "metadata": {
    "scrolled": true
   },
   "outputs": [
    {
     "data": {
      "text/html": [
       "<div>\n",
       "<style scoped>\n",
       "    .dataframe tbody tr th:only-of-type {\n",
       "        vertical-align: middle;\n",
       "    }\n",
       "\n",
       "    .dataframe tbody tr th {\n",
       "        vertical-align: top;\n",
       "    }\n",
       "\n",
       "    .dataframe thead th {\n",
       "        text-align: right;\n",
       "    }\n",
       "</style>\n",
       "<table border=\"1\" class=\"dataframe\">\n",
       "  <thead>\n",
       "    <tr style=\"text-align: right;\">\n",
       "      <th></th>\n",
       "      <th>file_name</th>\n",
       "      <th>old_hypotheses</th>\n",
       "    </tr>\n",
       "  </thead>\n",
       "  <tbody>\n",
       "    <tr>\n",
       "      <th>0</th>\n",
       "      <td>1056338697_4f7d7ce270.jpg</td>\n",
       "      <td>[رجل, في, قميص, أزرق, يقفز, في, الهواء]</td>\n",
       "    </tr>\n",
       "    <tr>\n",
       "      <th>1</th>\n",
       "      <td>106490881_5a2dd9b7bd.jpg</td>\n",
       "      <td>[صبي, صغير, في, قميص, أزرق, يركض, على, الشاطئ]</td>\n",
       "    </tr>\n",
       "    <tr>\n",
       "      <th>2</th>\n",
       "      <td>1082379191_ec1e53f996.jpg</td>\n",
       "      <td>[رجل, يجلس, على, لوح, التزلج, في, الهواء]</td>\n",
       "    </tr>\n",
       "    <tr>\n",
       "      <th>3</th>\n",
       "      <td>1084040636_97d9633581.jpg</td>\n",
       "      <td>[كلب, أبيض, يركض, على, العشب]</td>\n",
       "    </tr>\n",
       "    <tr>\n",
       "      <th>4</th>\n",
       "      <td>1096395242_fc69f0ae5a.jpg</td>\n",
       "      <td>[صبي, صغير, يلعب, في, الشارع]</td>\n",
       "    </tr>\n",
       "  </tbody>\n",
       "</table>\n",
       "</div>"
      ],
      "text/plain": [
       "                   file_name                                  old_hypotheses\n",
       "0  1056338697_4f7d7ce270.jpg         [رجل, في, قميص, أزرق, يقفز, في, الهواء]\n",
       "1   106490881_5a2dd9b7bd.jpg  [صبي, صغير, في, قميص, أزرق, يركض, على, الشاطئ]\n",
       "2  1082379191_ec1e53f996.jpg       [رجل, يجلس, على, لوح, التزلج, في, الهواء]\n",
       "3  1084040636_97d9633581.jpg                   [كلب, أبيض, يركض, على, العشب]\n",
       "4  1096395242_fc69f0ae5a.jpg                   [صبي, صغير, يلعب, في, الشارع]"
      ]
     },
     "execution_count": 31,
     "metadata": {},
     "output_type": "execute_result"
    }
   ],
   "source": [
    "df = pd.DataFrame.from_dict({\"file_name\":img_ids, \"old_hypotheses\": hypotheses_tokens})\n",
    "df.head()"
   ]
  },
  {
   "cell_type": "code",
   "execution_count": 32,
   "metadata": {},
   "outputs": [
    {
     "data": {
      "text/html": [
       "<div>\n",
       "<style scoped>\n",
       "    .dataframe tbody tr th:only-of-type {\n",
       "        vertical-align: middle;\n",
       "    }\n",
       "\n",
       "    .dataframe tbody tr th {\n",
       "        vertical-align: top;\n",
       "    }\n",
       "\n",
       "    .dataframe thead th {\n",
       "        text-align: right;\n",
       "    }\n",
       "</style>\n",
       "<table border=\"1\" class=\"dataframe\">\n",
       "  <thead>\n",
       "    <tr style=\"text-align: right;\">\n",
       "      <th></th>\n",
       "      <th>file_name</th>\n",
       "      <th>old_hypotheses</th>\n",
       "      <th>old_tok_len</th>\n",
       "    </tr>\n",
       "  </thead>\n",
       "  <tbody>\n",
       "    <tr>\n",
       "      <th>0</th>\n",
       "      <td>1056338697_4f7d7ce270.jpg</td>\n",
       "      <td>[رجل, في, قميص, أزرق, يقفز, في, الهواء]</td>\n",
       "      <td>7</td>\n",
       "    </tr>\n",
       "    <tr>\n",
       "      <th>1</th>\n",
       "      <td>106490881_5a2dd9b7bd.jpg</td>\n",
       "      <td>[صبي, صغير, في, قميص, أزرق, يركض, على, الشاطئ]</td>\n",
       "      <td>8</td>\n",
       "    </tr>\n",
       "    <tr>\n",
       "      <th>2</th>\n",
       "      <td>1082379191_ec1e53f996.jpg</td>\n",
       "      <td>[رجل, يجلس, على, لوح, التزلج, في, الهواء]</td>\n",
       "      <td>7</td>\n",
       "    </tr>\n",
       "    <tr>\n",
       "      <th>3</th>\n",
       "      <td>1084040636_97d9633581.jpg</td>\n",
       "      <td>[كلب, أبيض, يركض, على, العشب]</td>\n",
       "      <td>5</td>\n",
       "    </tr>\n",
       "    <tr>\n",
       "      <th>4</th>\n",
       "      <td>1096395242_fc69f0ae5a.jpg</td>\n",
       "      <td>[صبي, صغير, يلعب, في, الشارع]</td>\n",
       "      <td>5</td>\n",
       "    </tr>\n",
       "  </tbody>\n",
       "</table>\n",
       "</div>"
      ],
      "text/plain": [
       "                   file_name                                  old_hypotheses  \\\n",
       "0  1056338697_4f7d7ce270.jpg         [رجل, في, قميص, أزرق, يقفز, في, الهواء]   \n",
       "1   106490881_5a2dd9b7bd.jpg  [صبي, صغير, في, قميص, أزرق, يركض, على, الشاطئ]   \n",
       "2  1082379191_ec1e53f996.jpg       [رجل, يجلس, على, لوح, التزلج, في, الهواء]   \n",
       "3  1084040636_97d9633581.jpg                   [كلب, أبيض, يركض, على, العشب]   \n",
       "4  1096395242_fc69f0ae5a.jpg                   [صبي, صغير, يلعب, في, الشارع]   \n",
       "\n",
       "   old_tok_len  \n",
       "0            7  \n",
       "1            8  \n",
       "2            7  \n",
       "3            5  \n",
       "4            5  "
      ]
     },
     "execution_count": 32,
     "metadata": {},
     "output_type": "execute_result"
    }
   ],
   "source": [
    "df['old_tok_len'] = df['old_hypotheses'].apply(lambda x: len(x)).values\n",
    "df.head()"
   ]
  },
  {
   "cell_type": "code",
   "execution_count": 33,
   "metadata": {},
   "outputs": [
    {
     "data": {
      "text/plain": [
       "1000"
      ]
     },
     "execution_count": 33,
     "metadata": {},
     "output_type": "execute_result"
    }
   ],
   "source": [
    "df['file_name'].nunique()"
   ]
  },
  {
   "cell_type": "markdown",
   "metadata": {},
   "source": [
    "## Arabert Predictions  "
   ]
  },
  {
   "cell_type": "code",
   "execution_count": 34,
   "metadata": {},
   "outputs": [],
   "source": [
    "model_path = 'ar_models/BEST_checkpoint_flickr8k_ar_arabert_pretrained_finetune.pth.tar'\n",
    "IMGS_PATH = 'flickr/Images/'\n",
    "DATA_JSON_PATH = 'data/ar_data.json'"
   ]
  },
  {
   "cell_type": "code",
   "execution_count": 35,
   "metadata": {},
   "outputs": [
    {
     "name": "stderr",
     "output_type": "stream",
     "text": [
      "100%|██████████| 24000/24000 [00:00<00:00, 232893.97it/s]\n"
     ]
    },
    {
     "name": "stdout",
     "output_type": "stream",
     "text": [
      "len: 3309\n",
      "Dataset split: test\n",
      "Unique images: 1000\n",
      "Total size: 3000\n",
      "--------------------\n",
      "Loaded Checkpoint!!\n",
      "Last Epoch: 9\n",
      "Best Bleu-4: 24.949378413361714\n"
     ]
    }
   ],
   "source": [
    "vocab = build_vocab(DATA_JSON_PATH)\n",
    "print('len:',len(vocab))\n",
    "\n",
    "transform = transforms.Compose([\n",
    "    transforms.Resize(256),\n",
    "    transforms.CenterCrop(224),\n",
    "    transforms.ToTensor(),\n",
    "    transforms.Normalize(mean=[0.485, 0.456, 0.406], std=[0.229, 0.224, 0.225]),\n",
    "])\n",
    "\n",
    "\n",
    "bs = 1\n",
    "loader = DataLoader(\n",
    "            dataset=CaptionDataset(IMGS_PATH, DATA_JSON_PATH,\n",
    "                                    transforms=transform, vocab=vocab, split='test'),\n",
    "            batch_size=bs,\n",
    "            num_workers=7,\n",
    "            pin_memory=True\n",
    "        )\n",
    "\n",
    "print('-'*20)\n",
    "checkpoint = load_checkpoint(model_path)\n",
    "encoder = checkpoint['encoder'].eval()\n",
    "decoder = checkpoint['decoder'].eval()"
   ]
  },
  {
   "cell_type": "code",
   "execution_count": 36,
   "metadata": {},
   "outputs": [
    {
     "name": "stderr",
     "output_type": "stream",
     "text": [
      "EVALUATING AT BEAM SIZE 4: 100%|██████████| 1000/1000 [01:00<00:00, 16.44it/s]"
     ]
    },
    {
     "name": "stdout",
     "output_type": "stream",
     "text": [
      "Number of NO COMPLETED:  25\n"
     ]
    },
    {
     "name": "stderr",
     "output_type": "stream",
     "text": [
      "\n"
     ]
    }
   ],
   "source": [
    "references, hypothesis, img_ids = caption_image(loader, vocab, encoder,\n",
    "                                               decoder, 4)\n",
    "hypotheses_tokens = [[vocab.itos[i] for i in hypo] for hypo in hypothesis]"
   ]
  },
  {
   "cell_type": "code",
   "execution_count": 37,
   "metadata": {},
   "outputs": [
    {
     "data": {
      "text/html": [
       "<div>\n",
       "<style scoped>\n",
       "    .dataframe tbody tr th:only-of-type {\n",
       "        vertical-align: middle;\n",
       "    }\n",
       "\n",
       "    .dataframe tbody tr th {\n",
       "        vertical-align: top;\n",
       "    }\n",
       "\n",
       "    .dataframe thead th {\n",
       "        text-align: right;\n",
       "    }\n",
       "</style>\n",
       "<table border=\"1\" class=\"dataframe\">\n",
       "  <thead>\n",
       "    <tr style=\"text-align: right;\">\n",
       "      <th></th>\n",
       "      <th>file_name</th>\n",
       "      <th>hypotheses</th>\n",
       "    </tr>\n",
       "  </thead>\n",
       "  <tbody>\n",
       "    <tr>\n",
       "      <th>0</th>\n",
       "      <td>1056338697_4f7d7ce270.jpg</td>\n",
       "      <td>[فتا, +, ة, صغير, +, ة, في, ال, +, هواء]</td>\n",
       "    </tr>\n",
       "    <tr>\n",
       "      <th>1</th>\n",
       "      <td>106490881_5a2dd9b7bd.jpg</td>\n",
       "      <td>[صبي, صغير, يقفز, في, ال, +, ماء]</td>\n",
       "    </tr>\n",
       "    <tr>\n",
       "      <th>2</th>\n",
       "      <td>1082379191_ec1e53f996.jpg</td>\n",
       "      <td>[رجل, و, +, امرأ, +, ة, يقف, +, ان, في, ال, +,...</td>\n",
       "    </tr>\n",
       "    <tr>\n",
       "      <th>3</th>\n",
       "      <td>1084040636_97d9633581.jpg</td>\n",
       "      <td>[ال, +, كلب, ال, +, كلب, ال, +, بني, و, +, ال,...</td>\n",
       "    </tr>\n",
       "    <tr>\n",
       "      <th>4</th>\n",
       "      <td>1096395242_fc69f0ae5a.jpg</td>\n",
       "      <td>[فتا, +, ة, صغير, +, ة, صغير, +, ة, صغير, +, ة...</td>\n",
       "    </tr>\n",
       "  </tbody>\n",
       "</table>\n",
       "</div>"
      ],
      "text/plain": [
       "                   file_name  \\\n",
       "0  1056338697_4f7d7ce270.jpg   \n",
       "1   106490881_5a2dd9b7bd.jpg   \n",
       "2  1082379191_ec1e53f996.jpg   \n",
       "3  1084040636_97d9633581.jpg   \n",
       "4  1096395242_fc69f0ae5a.jpg   \n",
       "\n",
       "                                          hypotheses  \n",
       "0           [فتا, +, ة, صغير, +, ة, في, ال, +, هواء]  \n",
       "1                  [صبي, صغير, يقفز, في, ال, +, ماء]  \n",
       "2  [رجل, و, +, امرأ, +, ة, يقف, +, ان, في, ال, +,...  \n",
       "3  [ال, +, كلب, ال, +, كلب, ال, +, بني, و, +, ال,...  \n",
       "4  [فتا, +, ة, صغير, +, ة, صغير, +, ة, صغير, +, ة...  "
      ]
     },
     "execution_count": 37,
     "metadata": {},
     "output_type": "execute_result"
    }
   ],
   "source": [
    "rest_df = pd.DataFrame.from_dict({\"file_name\":img_ids, \"hypotheses\": hypotheses_tokens})\n",
    "rest_df.head()"
   ]
  },
  {
   "cell_type": "code",
   "execution_count": 38,
   "metadata": {},
   "outputs": [
    {
     "data": {
      "text/html": [
       "<div>\n",
       "<style scoped>\n",
       "    .dataframe tbody tr th:only-of-type {\n",
       "        vertical-align: middle;\n",
       "    }\n",
       "\n",
       "    .dataframe tbody tr th {\n",
       "        vertical-align: top;\n",
       "    }\n",
       "\n",
       "    .dataframe thead th {\n",
       "        text-align: right;\n",
       "    }\n",
       "</style>\n",
       "<table border=\"1\" class=\"dataframe\">\n",
       "  <thead>\n",
       "    <tr style=\"text-align: right;\">\n",
       "      <th></th>\n",
       "      <th>file_name</th>\n",
       "      <th>hypotheses</th>\n",
       "      <th>tok_len</th>\n",
       "    </tr>\n",
       "  </thead>\n",
       "  <tbody>\n",
       "    <tr>\n",
       "      <th>0</th>\n",
       "      <td>1056338697_4f7d7ce270.jpg</td>\n",
       "      <td>[فتا, +, ة, صغير, +, ة, في, ال, +, هواء]</td>\n",
       "      <td>10</td>\n",
       "    </tr>\n",
       "    <tr>\n",
       "      <th>1</th>\n",
       "      <td>106490881_5a2dd9b7bd.jpg</td>\n",
       "      <td>[صبي, صغير, يقفز, في, ال, +, ماء]</td>\n",
       "      <td>7</td>\n",
       "    </tr>\n",
       "    <tr>\n",
       "      <th>2</th>\n",
       "      <td>1082379191_ec1e53f996.jpg</td>\n",
       "      <td>[رجل, و, +, امرأ, +, ة, يقف, +, ان, في, ال, +,...</td>\n",
       "      <td>13</td>\n",
       "    </tr>\n",
       "    <tr>\n",
       "      <th>3</th>\n",
       "      <td>1084040636_97d9633581.jpg</td>\n",
       "      <td>[ال, +, كلب, ال, +, كلب, ال, +, بني, و, +, ال,...</td>\n",
       "      <td>19</td>\n",
       "    </tr>\n",
       "    <tr>\n",
       "      <th>4</th>\n",
       "      <td>1096395242_fc69f0ae5a.jpg</td>\n",
       "      <td>[فتا, +, ة, صغير, +, ة, صغير, +, ة, صغير, +, ة...</td>\n",
       "      <td>19</td>\n",
       "    </tr>\n",
       "  </tbody>\n",
       "</table>\n",
       "</div>"
      ],
      "text/plain": [
       "                   file_name  \\\n",
       "0  1056338697_4f7d7ce270.jpg   \n",
       "1   106490881_5a2dd9b7bd.jpg   \n",
       "2  1082379191_ec1e53f996.jpg   \n",
       "3  1084040636_97d9633581.jpg   \n",
       "4  1096395242_fc69f0ae5a.jpg   \n",
       "\n",
       "                                          hypotheses  tok_len  \n",
       "0           [فتا, +, ة, صغير, +, ة, في, ال, +, هواء]       10  \n",
       "1                  [صبي, صغير, يقفز, في, ال, +, ماء]        7  \n",
       "2  [رجل, و, +, امرأ, +, ة, يقف, +, ان, في, ال, +,...       13  \n",
       "3  [ال, +, كلب, ال, +, كلب, ال, +, بني, و, +, ال,...       19  \n",
       "4  [فتا, +, ة, صغير, +, ة, صغير, +, ة, صغير, +, ة...       19  "
      ]
     },
     "execution_count": 38,
     "metadata": {},
     "output_type": "execute_result"
    }
   ],
   "source": [
    "rest_df['tok_len'] = rest_df['hypotheses'].apply(lambda x: len(x)).values\n",
    "rest_df.head()"
   ]
  },
  {
   "cell_type": "code",
   "execution_count": 39,
   "metadata": {},
   "outputs": [
    {
     "data": {
      "text/plain": [
       "975"
      ]
     },
     "execution_count": 39,
     "metadata": {},
     "output_type": "execute_result"
    }
   ],
   "source": [
    "rest_df['file_name'].nunique()"
   ]
  },
  {
   "cell_type": "code",
   "execution_count": 40,
   "metadata": {},
   "outputs": [],
   "source": [
    "full_df = df.merge(rest_df, on='file_name')"
   ]
  },
  {
   "cell_type": "code",
   "execution_count": 41,
   "metadata": {},
   "outputs": [
    {
     "data": {
      "text/html": [
       "<div>\n",
       "<style scoped>\n",
       "    .dataframe tbody tr th:only-of-type {\n",
       "        vertical-align: middle;\n",
       "    }\n",
       "\n",
       "    .dataframe tbody tr th {\n",
       "        vertical-align: top;\n",
       "    }\n",
       "\n",
       "    .dataframe thead th {\n",
       "        text-align: right;\n",
       "    }\n",
       "</style>\n",
       "<table border=\"1\" class=\"dataframe\">\n",
       "  <thead>\n",
       "    <tr style=\"text-align: right;\">\n",
       "      <th></th>\n",
       "      <th>file_name</th>\n",
       "      <th>old_hypotheses</th>\n",
       "      <th>old_tok_len</th>\n",
       "      <th>hypotheses</th>\n",
       "      <th>tok_len</th>\n",
       "    </tr>\n",
       "  </thead>\n",
       "  <tbody>\n",
       "    <tr>\n",
       "      <th>829</th>\n",
       "      <td>3692593096_fbaea67476.jpg</td>\n",
       "      <td>[شخص, يقف, على, قمة, الجبل]</td>\n",
       "      <td>5</td>\n",
       "      <td>[راكب, ال, +, دراج, +, ة, في, ال, +, هواء]</td>\n",
       "      <td>10</td>\n",
       "    </tr>\n",
       "    <tr>\n",
       "      <th>521</th>\n",
       "      <td>3135504530_0f4130d8f8.jpg</td>\n",
       "      <td>[امرأة, في, قميص, أبيض]</td>\n",
       "      <td>4</td>\n",
       "      <td>[امرأ, +, ة, صغير, +, ة, في, ال, +, شارع]</td>\n",
       "      <td>10</td>\n",
       "    </tr>\n",
       "    <tr>\n",
       "      <th>29</th>\n",
       "      <td>1311388430_4ab0cd1a1f.jpg</td>\n",
       "      <td>[شخص, يقفز, في, الهواء]</td>\n",
       "      <td>4</td>\n",
       "      <td>[فتا, +, ة, في, ال, +, هواء]</td>\n",
       "      <td>7</td>\n",
       "    </tr>\n",
       "    <tr>\n",
       "      <th>459</th>\n",
       "      <td>3006093003_c211737232.jpg</td>\n",
       "      <td>[رجل, يرتدي, سترة, سوداء, وقبعة, &lt;unk&gt;]</td>\n",
       "      <td>6</td>\n",
       "      <td>[رجل, و, +, امرأ, +, ة, يقف, +, ان, في, ال, +,...</td>\n",
       "      <td>13</td>\n",
       "    </tr>\n",
       "    <tr>\n",
       "      <th>35</th>\n",
       "      <td>1339596997_8ac29c1841.jpg</td>\n",
       "      <td>[امرأة, ترتدي, ملابس, سوداء, في, الشارع]</td>\n",
       "      <td>6</td>\n",
       "      <td>[مجموع, +, ة, من, ال, +, ناس, في, ال, +, شارع]</td>\n",
       "      <td>11</td>\n",
       "    </tr>\n",
       "    <tr>\n",
       "      <th>737</th>\n",
       "      <td>3506560025_8d0f4f9ac4.jpg</td>\n",
       "      <td>[امرأة, في, قميص, أزرق]</td>\n",
       "      <td>4</td>\n",
       "      <td>[فتا, +, ة, صغير, +, ة, ترتدي, قميص, +, ا, أزر...</td>\n",
       "      <td>16</td>\n",
       "    </tr>\n",
       "    <tr>\n",
       "      <th>671</th>\n",
       "      <td>3393926562_66cc01b001.jpg</td>\n",
       "      <td>[رجل, يرتدي, سترة, سوداء, يقف, على, الرصيف]</td>\n",
       "      <td>7</td>\n",
       "      <td>[امرأ, +, ة, صغير, +, ة, في, ال, +, شارع]</td>\n",
       "      <td>10</td>\n",
       "    </tr>\n",
       "    <tr>\n",
       "      <th>784</th>\n",
       "      <td>3585598356_8ce815bbb9.jpg</td>\n",
       "      <td>[امرأة, في, ثوب, السباحة]</td>\n",
       "      <td>4</td>\n",
       "      <td>[مجموع, +, ة, من, ال, +, ناس, في, ال, +, ماء]</td>\n",
       "      <td>11</td>\n",
       "    </tr>\n",
       "    <tr>\n",
       "      <th>613</th>\n",
       "      <td>326456451_effadbbe49.jpg</td>\n",
       "      <td>[كلب, أسود, يقفز, في, الهواء]</td>\n",
       "      <td>5</td>\n",
       "      <td>[كلب, بني, يقفز, في, ال, +, هواء]</td>\n",
       "      <td>7</td>\n",
       "    </tr>\n",
       "    <tr>\n",
       "      <th>631</th>\n",
       "      <td>3317073508_7e13565c1b.jpg</td>\n",
       "      <td>[مجموعة, من, لاعبي, كرة, القدم]</td>\n",
       "      <td>5</td>\n",
       "      <td>[مجموع, +, ة, من, لاعب, +, ي, كر, +, ة, ال, +,...</td>\n",
       "      <td>13</td>\n",
       "    </tr>\n",
       "    <tr>\n",
       "      <th>616</th>\n",
       "      <td>3275704430_a75828048f.jpg</td>\n",
       "      <td>[امرأة, ترتدي, قبعة, &lt;unk&gt;, &lt;unk&gt;]</td>\n",
       "      <td>5</td>\n",
       "      <td>[فتا, +, ة, صغير, +, ة, في, ال, +, هواء]</td>\n",
       "      <td>10</td>\n",
       "    </tr>\n",
       "    <tr>\n",
       "      <th>564</th>\n",
       "      <td>3213992947_3f3f967a9f.jpg</td>\n",
       "      <td>[امرأة, في, سترة, حمراء]</td>\n",
       "      <td>4</td>\n",
       "      <td>[امرأ, +, ة, صغير, +, ة, في, ال, +, هواء]</td>\n",
       "      <td>10</td>\n",
       "    </tr>\n",
       "    <tr>\n",
       "      <th>648</th>\n",
       "      <td>3354330935_de75be9d2f.jpg</td>\n",
       "      <td>[رجل, يتزلج, على, الجليد]</td>\n",
       "      <td>4</td>\n",
       "      <td>[رجل, في, ال, +, ثلج]</td>\n",
       "      <td>5</td>\n",
       "    </tr>\n",
       "    <tr>\n",
       "      <th>746</th>\n",
       "      <td>352382023_7605223d1c.jpg</td>\n",
       "      <td>[كلب, بني, في, الماء]</td>\n",
       "      <td>4</td>\n",
       "      <td>[كلب, بني, يركض, في, ال, +, ماء]</td>\n",
       "      <td>7</td>\n",
       "    </tr>\n",
       "    <tr>\n",
       "      <th>821</th>\n",
       "      <td>3657016761_d553e514d9.jpg</td>\n",
       "      <td>[فتاة, صغيرة, في, ثوب, السباحة]</td>\n",
       "      <td>5</td>\n",
       "      <td>[فتا, +, ة, صغير, +, ة, صغير, +, ة, في, ال, +,...</td>\n",
       "      <td>13</td>\n",
       "    </tr>\n",
       "    <tr>\n",
       "      <th>871</th>\n",
       "      <td>430173345_86388d8822.jpg</td>\n",
       "      <td>[كلب, بني, يركض, على, العشب]</td>\n",
       "      <td>5</td>\n",
       "      <td>[كلب, بني, يركض, في, ال, +, عشب]</td>\n",
       "      <td>7</td>\n",
       "    </tr>\n",
       "    <tr>\n",
       "      <th>279</th>\n",
       "      <td>2533642917_a5eace85e6.jpg</td>\n",
       "      <td>[رجل, في, قميص, أزرق, يقفز, في, الماء]</td>\n",
       "      <td>7</td>\n",
       "      <td>[فتا, +, ة, صغير, +, ة, في, ال, +, ماء]</td>\n",
       "      <td>10</td>\n",
       "    </tr>\n",
       "    <tr>\n",
       "      <th>892</th>\n",
       "      <td>476759700_8911f087f8.jpg</td>\n",
       "      <td>[صبي, صغير, يرتدي, سترة, حمراء]</td>\n",
       "      <td>5</td>\n",
       "      <td>[رجل, يرتدي, قميص, +, ا, أحمر, و, +, قبع, +, ة...</td>\n",
       "      <td>15</td>\n",
       "    </tr>\n",
       "    <tr>\n",
       "      <th>593</th>\n",
       "      <td>3244747165_17028936e0.jpg</td>\n",
       "      <td>[رجل, وامرأة, يجلسان, على, الكاميرا]</td>\n",
       "      <td>5</td>\n",
       "      <td>[امرأ, +, ة, صغير, +, ة, ترتدي, قبع, +, ة, و, ...</td>\n",
       "      <td>15</td>\n",
       "    </tr>\n",
       "    <tr>\n",
       "      <th>213</th>\n",
       "      <td>2384353160_f395e9a54b.jpg</td>\n",
       "      <td>[رجل, يرتدي, قبعة, سوداء]</td>\n",
       "      <td>4</td>\n",
       "      <td>[رجل, يرتدي, قميص, +, ا, أزرق, و, +, قبع, +, ة]</td>\n",
       "      <td>11</td>\n",
       "    </tr>\n",
       "  </tbody>\n",
       "</table>\n",
       "</div>"
      ],
      "text/plain": [
       "                     file_name                               old_hypotheses  \\\n",
       "829  3692593096_fbaea67476.jpg                  [شخص, يقف, على, قمة, الجبل]   \n",
       "521  3135504530_0f4130d8f8.jpg                      [امرأة, في, قميص, أبيض]   \n",
       "29   1311388430_4ab0cd1a1f.jpg                      [شخص, يقفز, في, الهواء]   \n",
       "459  3006093003_c211737232.jpg      [رجل, يرتدي, سترة, سوداء, وقبعة, <unk>]   \n",
       "35   1339596997_8ac29c1841.jpg     [امرأة, ترتدي, ملابس, سوداء, في, الشارع]   \n",
       "737  3506560025_8d0f4f9ac4.jpg                      [امرأة, في, قميص, أزرق]   \n",
       "671  3393926562_66cc01b001.jpg  [رجل, يرتدي, سترة, سوداء, يقف, على, الرصيف]   \n",
       "784  3585598356_8ce815bbb9.jpg                    [امرأة, في, ثوب, السباحة]   \n",
       "613   326456451_effadbbe49.jpg                [كلب, أسود, يقفز, في, الهواء]   \n",
       "631  3317073508_7e13565c1b.jpg              [مجموعة, من, لاعبي, كرة, القدم]   \n",
       "616  3275704430_a75828048f.jpg           [امرأة, ترتدي, قبعة, <unk>, <unk>]   \n",
       "564  3213992947_3f3f967a9f.jpg                     [امرأة, في, سترة, حمراء]   \n",
       "648  3354330935_de75be9d2f.jpg                    [رجل, يتزلج, على, الجليد]   \n",
       "746   352382023_7605223d1c.jpg                        [كلب, بني, في, الماء]   \n",
       "821  3657016761_d553e514d9.jpg              [فتاة, صغيرة, في, ثوب, السباحة]   \n",
       "871   430173345_86388d8822.jpg                 [كلب, بني, يركض, على, العشب]   \n",
       "279  2533642917_a5eace85e6.jpg       [رجل, في, قميص, أزرق, يقفز, في, الماء]   \n",
       "892   476759700_8911f087f8.jpg              [صبي, صغير, يرتدي, سترة, حمراء]   \n",
       "593  3244747165_17028936e0.jpg         [رجل, وامرأة, يجلسان, على, الكاميرا]   \n",
       "213  2384353160_f395e9a54b.jpg                    [رجل, يرتدي, قبعة, سوداء]   \n",
       "\n",
       "     old_tok_len                                         hypotheses  tok_len  \n",
       "829            5         [راكب, ال, +, دراج, +, ة, في, ال, +, هواء]       10  \n",
       "521            4          [امرأ, +, ة, صغير, +, ة, في, ال, +, شارع]       10  \n",
       "29             4                       [فتا, +, ة, في, ال, +, هواء]        7  \n",
       "459            6  [رجل, و, +, امرأ, +, ة, يقف, +, ان, في, ال, +,...       13  \n",
       "35             6     [مجموع, +, ة, من, ال, +, ناس, في, ال, +, شارع]       11  \n",
       "737            4  [فتا, +, ة, صغير, +, ة, ترتدي, قميص, +, ا, أزر...       16  \n",
       "671            7          [امرأ, +, ة, صغير, +, ة, في, ال, +, شارع]       10  \n",
       "784            4      [مجموع, +, ة, من, ال, +, ناس, في, ال, +, ماء]       11  \n",
       "613            5                  [كلب, بني, يقفز, في, ال, +, هواء]        7  \n",
       "631            5  [مجموع, +, ة, من, لاعب, +, ي, كر, +, ة, ال, +,...       13  \n",
       "616            5           [فتا, +, ة, صغير, +, ة, في, ال, +, هواء]       10  \n",
       "564            4          [امرأ, +, ة, صغير, +, ة, في, ال, +, هواء]       10  \n",
       "648            4                              [رجل, في, ال, +, ثلج]        5  \n",
       "746            4                   [كلب, بني, يركض, في, ال, +, ماء]        7  \n",
       "821            5  [فتا, +, ة, صغير, +, ة, صغير, +, ة, في, ال, +,...       13  \n",
       "871            5                   [كلب, بني, يركض, في, ال, +, عشب]        7  \n",
       "279            7            [فتا, +, ة, صغير, +, ة, في, ال, +, ماء]       10  \n",
       "892            5  [رجل, يرتدي, قميص, +, ا, أحمر, و, +, قبع, +, ة...       15  \n",
       "593            5  [امرأ, +, ة, صغير, +, ة, ترتدي, قبع, +, ة, و, ...       15  \n",
       "213            4    [رجل, يرتدي, قميص, +, ا, أزرق, و, +, قبع, +, ة]       11  "
      ]
     },
     "execution_count": 41,
     "metadata": {},
     "output_type": "execute_result"
    }
   ],
   "source": [
    "full_df.sample(20)"
   ]
  },
  {
   "cell_type": "code",
   "execution_count": 42,
   "metadata": {},
   "outputs": [],
   "source": [
    "full_df['old_captions'] = full_df.old_hypotheses.apply(lambda x: \" \".join(i for i in x)).values"
   ]
  },
  {
   "cell_type": "code",
   "execution_count": 43,
   "metadata": {},
   "outputs": [],
   "source": [
    "full_df['captions'] = full_df.hypotheses.apply(lambda x: arabert_prep.unpreprocess(' '.join(w for w in x))).values"
   ]
  },
  {
   "cell_type": "code",
   "execution_count": 44,
   "metadata": {},
   "outputs": [
    {
     "data": {
      "text/html": [
       "<div>\n",
       "<style scoped>\n",
       "    .dataframe tbody tr th:only-of-type {\n",
       "        vertical-align: middle;\n",
       "    }\n",
       "\n",
       "    .dataframe tbody tr th {\n",
       "        vertical-align: top;\n",
       "    }\n",
       "\n",
       "    .dataframe thead th {\n",
       "        text-align: right;\n",
       "    }\n",
       "</style>\n",
       "<table border=\"1\" class=\"dataframe\">\n",
       "  <thead>\n",
       "    <tr style=\"text-align: right;\">\n",
       "      <th></th>\n",
       "      <th>file_name</th>\n",
       "      <th>old_hypotheses</th>\n",
       "      <th>old_tok_len</th>\n",
       "      <th>hypotheses</th>\n",
       "      <th>tok_len</th>\n",
       "      <th>old_captions</th>\n",
       "      <th>captions</th>\n",
       "    </tr>\n",
       "  </thead>\n",
       "  <tbody>\n",
       "    <tr>\n",
       "      <th>0</th>\n",
       "      <td>1056338697_4f7d7ce270.jpg</td>\n",
       "      <td>[رجل, في, قميص, أزرق, يقفز, في, الهواء]</td>\n",
       "      <td>7</td>\n",
       "      <td>[فتا, +, ة, صغير, +, ة, في, ال, +, هواء]</td>\n",
       "      <td>10</td>\n",
       "      <td>رجل في قميص أزرق يقفز في الهواء</td>\n",
       "      <td>فتاة صغيرة في الهواء</td>\n",
       "    </tr>\n",
       "    <tr>\n",
       "      <th>1</th>\n",
       "      <td>106490881_5a2dd9b7bd.jpg</td>\n",
       "      <td>[صبي, صغير, في, قميص, أزرق, يركض, على, الشاطئ]</td>\n",
       "      <td>8</td>\n",
       "      <td>[صبي, صغير, يقفز, في, ال, +, ماء]</td>\n",
       "      <td>7</td>\n",
       "      <td>صبي صغير في قميص أزرق يركض على الشاطئ</td>\n",
       "      <td>صبي صغير يقفز في الماء</td>\n",
       "    </tr>\n",
       "    <tr>\n",
       "      <th>2</th>\n",
       "      <td>1082379191_ec1e53f996.jpg</td>\n",
       "      <td>[رجل, يجلس, على, لوح, التزلج, في, الهواء]</td>\n",
       "      <td>7</td>\n",
       "      <td>[رجل, و, +, امرأ, +, ة, يقف, +, ان, في, ال, +,...</td>\n",
       "      <td>13</td>\n",
       "      <td>رجل يجلس على لوح التزلج في الهواء</td>\n",
       "      <td>رجل وامرأة يقفان في الماء</td>\n",
       "    </tr>\n",
       "    <tr>\n",
       "      <th>3</th>\n",
       "      <td>1084040636_97d9633581.jpg</td>\n",
       "      <td>[كلب, أبيض, يركض, على, العشب]</td>\n",
       "      <td>5</td>\n",
       "      <td>[ال, +, كلب, ال, +, كلب, ال, +, بني, و, +, ال,...</td>\n",
       "      <td>19</td>\n",
       "      <td>كلب أبيض يركض على العشب</td>\n",
       "      <td>الكلب الكلب البني والأبيض والأبيض</td>\n",
       "    </tr>\n",
       "    <tr>\n",
       "      <th>4</th>\n",
       "      <td>1096395242_fc69f0ae5a.jpg</td>\n",
       "      <td>[صبي, صغير, يلعب, في, الشارع]</td>\n",
       "      <td>5</td>\n",
       "      <td>[فتا, +, ة, صغير, +, ة, صغير, +, ة, صغير, +, ة...</td>\n",
       "      <td>19</td>\n",
       "      <td>صبي صغير يلعب في الشارع</td>\n",
       "      <td>فتاة صغيرة صغيرة صغيرة صغيرة في الشارع</td>\n",
       "    </tr>\n",
       "  </tbody>\n",
       "</table>\n",
       "</div>"
      ],
      "text/plain": [
       "                   file_name                                  old_hypotheses  \\\n",
       "0  1056338697_4f7d7ce270.jpg         [رجل, في, قميص, أزرق, يقفز, في, الهواء]   \n",
       "1   106490881_5a2dd9b7bd.jpg  [صبي, صغير, في, قميص, أزرق, يركض, على, الشاطئ]   \n",
       "2  1082379191_ec1e53f996.jpg       [رجل, يجلس, على, لوح, التزلج, في, الهواء]   \n",
       "3  1084040636_97d9633581.jpg                   [كلب, أبيض, يركض, على, العشب]   \n",
       "4  1096395242_fc69f0ae5a.jpg                   [صبي, صغير, يلعب, في, الشارع]   \n",
       "\n",
       "   old_tok_len                                         hypotheses  tok_len  \\\n",
       "0            7           [فتا, +, ة, صغير, +, ة, في, ال, +, هواء]       10   \n",
       "1            8                  [صبي, صغير, يقفز, في, ال, +, ماء]        7   \n",
       "2            7  [رجل, و, +, امرأ, +, ة, يقف, +, ان, في, ال, +,...       13   \n",
       "3            5  [ال, +, كلب, ال, +, كلب, ال, +, بني, و, +, ال,...       19   \n",
       "4            5  [فتا, +, ة, صغير, +, ة, صغير, +, ة, صغير, +, ة...       19   \n",
       "\n",
       "                            old_captions  \\\n",
       "0        رجل في قميص أزرق يقفز في الهواء   \n",
       "1  صبي صغير في قميص أزرق يركض على الشاطئ   \n",
       "2      رجل يجلس على لوح التزلج في الهواء   \n",
       "3                كلب أبيض يركض على العشب   \n",
       "4                صبي صغير يلعب في الشارع   \n",
       "\n",
       "                                 captions  \n",
       "0                    فتاة صغيرة في الهواء  \n",
       "1                  صبي صغير يقفز في الماء  \n",
       "2               رجل وامرأة يقفان في الماء  \n",
       "3       الكلب الكلب البني والأبيض والأبيض  \n",
       "4  فتاة صغيرة صغيرة صغيرة صغيرة في الشارع  "
      ]
     },
     "execution_count": 44,
     "metadata": {},
     "output_type": "execute_result"
    }
   ],
   "source": [
    "full_df.head()"
   ]
  },
  {
   "cell_type": "markdown",
   "metadata": {},
   "source": [
    "# Saving individual BLEU scores "
   ]
  },
  {
   "cell_type": "code",
   "execution_count": 14,
   "metadata": {},
   "outputs": [],
   "source": [
    "def calculate_scores(row):\n",
    "    idx = [\"old processing, old results\", \"new processing, new results\", \"new processing, old results\", \"old processing, new results\"]\n",
    "    b1s = []\n",
    "    b2s = []\n",
    "    b3s = []\n",
    "    b4s = []\n",
    "    \n",
    "    # get ground truth \n",
    "    gt = ground_truth[ground_truth.file_name == row['file_name']].caption.values\n",
    "    \n",
    "    # tokenize truth\n",
    "    old_tokens_truth = [araby.tokenize(i) for i in gt]\n",
    "    tokens_truth = [araby.tokenize(arabert_prep.preprocess(i)) for i in gt]\n",
    "    \n",
    "\n",
    "    b1, b2, b3, b4 = print_scores([old_tokens_truth], [row['old_hypotheses']], prnt=False)\n",
    "    b1s.append(b1)\n",
    "    b2s.append(b2)\n",
    "    b3s.append(b3)\n",
    "    b4s.append(b4)\n",
    "\n",
    "    b1, b2, b3, b4 = print_scores([tokens_truth], [row['hypotheses']], prnt=False)\n",
    "    b1s.append(b1)\n",
    "    b2s.append(b2)\n",
    "    b3s.append(b3)\n",
    "    b4s.append(b4)\n",
    "    \n",
    "    # reverse scores\n",
    "    old_hypo = araby.tokenize(arabert_prep.preprocess(row['old_captions']))\n",
    "    hypo = araby.tokenize(row['captions'])\n",
    "    \n",
    "    b1, b2, b3, b4 = print_scores([tokens_truth], [old_hypo], prnt=False)\n",
    "    b1s.append(b1)\n",
    "    b2s.append(b2)\n",
    "    b3s.append(b3)\n",
    "    b4s.append(b4)\n",
    "    \n",
    "    b1, b2, b3, b4 = print_scores([old_tokens_truth], [hypo], prnt=False)\n",
    "    b1s.append(b1)\n",
    "    b2s.append(b2)\n",
    "    b3s.append(b3)\n",
    "    b4s.append(b4)\n",
    "    \n",
    "    out_df = pd.DataFrame({'Exp': idx, 'b1': b1s, 'b2': b2s, 'b3': b3s, 'b4': b4s})\n",
    "    gt_df = ground_truth[ground_truth.file_name == row['file_name']]\n",
    "    return pd.concat([d.reset_index(drop=True) for d in [out_df, gt_df]], axis=1).fillna('_')"
   ]
  },
  {
   "cell_type": "code",
   "execution_count": 46,
   "metadata": {},
   "outputs": [
    {
     "name": "stderr",
     "output_type": "stream",
     "text": [
      "/home/kelwa/anaconda3/envs/yolo5/lib/python3.6/site-packages/nltk/translate/bleu_score.py:516: UserWarning: \n",
      "The hypothesis contains 0 counts of 4-gram overlaps.\n",
      "Therefore the BLEU score evaluates to 0, independently of\n",
      "how many N-gram overlaps of lower order it contains.\n",
      "Consider using lower n-gram order or use SmoothingFunction()\n",
      "  warnings.warn(_msg)\n",
      "/home/kelwa/anaconda3/envs/yolo5/lib/python3.6/site-packages/nltk/translate/bleu_score.py:516: UserWarning: \n",
      "The hypothesis contains 0 counts of 2-gram overlaps.\n",
      "Therefore the BLEU score evaluates to 0, independently of\n",
      "how many N-gram overlaps of lower order it contains.\n",
      "Consider using lower n-gram order or use SmoothingFunction()\n",
      "  warnings.warn(_msg)\n",
      "/home/kelwa/anaconda3/envs/yolo5/lib/python3.6/site-packages/nltk/translate/bleu_score.py:516: UserWarning: \n",
      "The hypothesis contains 0 counts of 3-gram overlaps.\n",
      "Therefore the BLEU score evaluates to 0, independently of\n",
      "how many N-gram overlaps of lower order it contains.\n",
      "Consider using lower n-gram order or use SmoothingFunction()\n",
      "  warnings.warn(_msg)\n"
     ]
    },
    {
     "data": {
      "text/html": [
       "<div>\n",
       "<style scoped>\n",
       "    .dataframe tbody tr th:only-of-type {\n",
       "        vertical-align: middle;\n",
       "    }\n",
       "\n",
       "    .dataframe tbody tr th {\n",
       "        vertical-align: top;\n",
       "    }\n",
       "\n",
       "    .dataframe thead th {\n",
       "        text-align: right;\n",
       "    }\n",
       "</style>\n",
       "<table border=\"1\" class=\"dataframe\">\n",
       "  <thead>\n",
       "    <tr style=\"text-align: right;\">\n",
       "      <th></th>\n",
       "      <th>Exp</th>\n",
       "      <th>b1</th>\n",
       "      <th>b2</th>\n",
       "      <th>b3</th>\n",
       "      <th>b4</th>\n",
       "      <th>caption</th>\n",
       "      <th>tok_len</th>\n",
       "    </tr>\n",
       "  </thead>\n",
       "  <tbody>\n",
       "    <tr>\n",
       "      <th>0</th>\n",
       "      <td>old processing, old results</td>\n",
       "      <td>42.857</td>\n",
       "      <td>37.796</td>\n",
       "      <td>30.571</td>\n",
       "      <td>0.000</td>\n",
       "      <td>امرأة شقراء في قميص أزرق تنتظر رحلة</td>\n",
       "      <td>7</td>\n",
       "    </tr>\n",
       "    <tr>\n",
       "      <th>1</th>\n",
       "      <td>new processing, new results</td>\n",
       "      <td>63.339</td>\n",
       "      <td>56.427</td>\n",
       "      <td>47.627</td>\n",
       "      <td>40.881</td>\n",
       "      <td>امرأة شقراء في الشارع تشير الى سيارة أجرة</td>\n",
       "      <td>8</td>\n",
       "    </tr>\n",
       "    <tr>\n",
       "      <th>2</th>\n",
       "      <td>new processing, old results</td>\n",
       "      <td>44.485</td>\n",
       "      <td>42.203</td>\n",
       "      <td>34.411</td>\n",
       "      <td>0.000</td>\n",
       "      <td>المرأة في الثوب الأزرق تمد بذراعها لحركة المرو...</td>\n",
       "      <td>9</td>\n",
       "    </tr>\n",
       "    <tr>\n",
       "      <th>3</th>\n",
       "      <td>old processing, new results</td>\n",
       "      <td>11.809</td>\n",
       "      <td>0.000</td>\n",
       "      <td>0.000</td>\n",
       "      <td>0.000</td>\n",
       "      <td>_</td>\n",
       "      <td>_</td>\n",
       "    </tr>\n",
       "  </tbody>\n",
       "</table>\n",
       "</div>"
      ],
      "text/plain": [
       "                           Exp      b1      b2      b3      b4  \\\n",
       "0  old processing, old results  42.857  37.796  30.571   0.000   \n",
       "1  new processing, new results  63.339  56.427  47.627  40.881   \n",
       "2  new processing, old results  44.485  42.203  34.411   0.000   \n",
       "3  old processing, new results  11.809   0.000   0.000   0.000   \n",
       "\n",
       "                                             caption tok_len  \n",
       "0                امرأة شقراء في قميص أزرق تنتظر رحلة       7  \n",
       "1          امرأة شقراء في الشارع تشير الى سيارة أجرة       8  \n",
       "2  المرأة في الثوب الأزرق تمد بذراعها لحركة المرو...       9  \n",
       "3                                                  _       _  "
      ]
     },
     "execution_count": 46,
     "metadata": {},
     "output_type": "execute_result"
    }
   ],
   "source": [
    "calculate_scores(full_df.iloc[0])"
   ]
  },
  {
   "cell_type": "code",
   "execution_count": 47,
   "metadata": {},
   "outputs": [],
   "source": [
    "full_df.to_json('results_comparison.json')"
   ]
  },
  {
   "cell_type": "code",
   "execution_count": 5,
   "metadata": {},
   "outputs": [],
   "source": [
    "full_df = pd.read_json('results_comparison.json')"
   ]
  },
  {
   "cell_type": "markdown",
   "metadata": {},
   "source": [
    "# Comparing Results "
   ]
  },
  {
   "cell_type": "code",
   "execution_count": 6,
   "metadata": {},
   "outputs": [],
   "source": [
    "# Modules\n",
    "import ipywidgets as widgets\n",
    "from ipywidgets import interact_manual\n",
    "import matplotlib.pyplot as plt\n",
    "\n",
    "import os, shutil\n",
    "\n",
    "# needed to use matplotlib with jupyter widgets\n",
    "%matplotlib notebook\n",
    "\n",
    "from IPython.display import display, clear_output"
   ]
  },
  {
   "cell_type": "code",
   "execution_count": 7,
   "metadata": {},
   "outputs": [],
   "source": [
    "import warnings\n",
    "warnings.filterwarnings(\"ignore\")"
   ]
  },
  {
   "cell_type": "code",
   "execution_count": 16,
   "metadata": {
    "scrolled": false
   },
   "outputs": [
    {
     "data": {
      "application/javascript": [
       "/* Put everything inside the global mpl namespace */\n",
       "/* global mpl */\n",
       "window.mpl = {};\n",
       "\n",
       "mpl.get_websocket_type = function () {\n",
       "    if (typeof WebSocket !== 'undefined') {\n",
       "        return WebSocket;\n",
       "    } else if (typeof MozWebSocket !== 'undefined') {\n",
       "        return MozWebSocket;\n",
       "    } else {\n",
       "        alert(\n",
       "            'Your browser does not have WebSocket support. ' +\n",
       "                'Please try Chrome, Safari or Firefox ≥ 6. ' +\n",
       "                'Firefox 4 and 5 are also supported but you ' +\n",
       "                'have to enable WebSockets in about:config.'\n",
       "        );\n",
       "    }\n",
       "};\n",
       "\n",
       "mpl.figure = function (figure_id, websocket, ondownload, parent_element) {\n",
       "    this.id = figure_id;\n",
       "\n",
       "    this.ws = websocket;\n",
       "\n",
       "    this.supports_binary = this.ws.binaryType !== undefined;\n",
       "\n",
       "    if (!this.supports_binary) {\n",
       "        var warnings = document.getElementById('mpl-warnings');\n",
       "        if (warnings) {\n",
       "            warnings.style.display = 'block';\n",
       "            warnings.textContent =\n",
       "                'This browser does not support binary websocket messages. ' +\n",
       "                'Performance may be slow.';\n",
       "        }\n",
       "    }\n",
       "\n",
       "    this.imageObj = new Image();\n",
       "\n",
       "    this.context = undefined;\n",
       "    this.message = undefined;\n",
       "    this.canvas = undefined;\n",
       "    this.rubberband_canvas = undefined;\n",
       "    this.rubberband_context = undefined;\n",
       "    this.format_dropdown = undefined;\n",
       "\n",
       "    this.image_mode = 'full';\n",
       "\n",
       "    this.root = document.createElement('div');\n",
       "    this.root.setAttribute('style', 'display: inline-block');\n",
       "    this._root_extra_style(this.root);\n",
       "\n",
       "    parent_element.appendChild(this.root);\n",
       "\n",
       "    this._init_header(this);\n",
       "    this._init_canvas(this);\n",
       "    this._init_toolbar(this);\n",
       "\n",
       "    var fig = this;\n",
       "\n",
       "    this.waiting = false;\n",
       "\n",
       "    this.ws.onopen = function () {\n",
       "        fig.send_message('supports_binary', { value: fig.supports_binary });\n",
       "        fig.send_message('send_image_mode', {});\n",
       "        if (fig.ratio !== 1) {\n",
       "            fig.send_message('set_dpi_ratio', { dpi_ratio: fig.ratio });\n",
       "        }\n",
       "        fig.send_message('refresh', {});\n",
       "    };\n",
       "\n",
       "    this.imageObj.onload = function () {\n",
       "        if (fig.image_mode === 'full') {\n",
       "            // Full images could contain transparency (where diff images\n",
       "            // almost always do), so we need to clear the canvas so that\n",
       "            // there is no ghosting.\n",
       "            fig.context.clearRect(0, 0, fig.canvas.width, fig.canvas.height);\n",
       "        }\n",
       "        fig.context.drawImage(fig.imageObj, 0, 0);\n",
       "    };\n",
       "\n",
       "    this.imageObj.onunload = function () {\n",
       "        fig.ws.close();\n",
       "    };\n",
       "\n",
       "    this.ws.onmessage = this._make_on_message_function(this);\n",
       "\n",
       "    this.ondownload = ondownload;\n",
       "};\n",
       "\n",
       "mpl.figure.prototype._init_header = function () {\n",
       "    var titlebar = document.createElement('div');\n",
       "    titlebar.classList =\n",
       "        'ui-dialog-titlebar ui-widget-header ui-corner-all ui-helper-clearfix';\n",
       "    var titletext = document.createElement('div');\n",
       "    titletext.classList = 'ui-dialog-title';\n",
       "    titletext.setAttribute(\n",
       "        'style',\n",
       "        'width: 100%; text-align: center; padding: 3px;'\n",
       "    );\n",
       "    titlebar.appendChild(titletext);\n",
       "    this.root.appendChild(titlebar);\n",
       "    this.header = titletext;\n",
       "};\n",
       "\n",
       "mpl.figure.prototype._canvas_extra_style = function (_canvas_div) {};\n",
       "\n",
       "mpl.figure.prototype._root_extra_style = function (_canvas_div) {};\n",
       "\n",
       "mpl.figure.prototype._init_canvas = function () {\n",
       "    var fig = this;\n",
       "\n",
       "    var canvas_div = (this.canvas_div = document.createElement('div'));\n",
       "    canvas_div.setAttribute(\n",
       "        'style',\n",
       "        'border: 1px solid #ddd;' +\n",
       "            'box-sizing: content-box;' +\n",
       "            'clear: both;' +\n",
       "            'min-height: 1px;' +\n",
       "            'min-width: 1px;' +\n",
       "            'outline: 0;' +\n",
       "            'overflow: hidden;' +\n",
       "            'position: relative;' +\n",
       "            'resize: both;'\n",
       "    );\n",
       "\n",
       "    function on_keyboard_event_closure(name) {\n",
       "        return function (event) {\n",
       "            return fig.key_event(event, name);\n",
       "        };\n",
       "    }\n",
       "\n",
       "    canvas_div.addEventListener(\n",
       "        'keydown',\n",
       "        on_keyboard_event_closure('key_press')\n",
       "    );\n",
       "    canvas_div.addEventListener(\n",
       "        'keyup',\n",
       "        on_keyboard_event_closure('key_release')\n",
       "    );\n",
       "\n",
       "    this._canvas_extra_style(canvas_div);\n",
       "    this.root.appendChild(canvas_div);\n",
       "\n",
       "    var canvas = (this.canvas = document.createElement('canvas'));\n",
       "    canvas.classList.add('mpl-canvas');\n",
       "    canvas.setAttribute('style', 'box-sizing: content-box;');\n",
       "\n",
       "    this.context = canvas.getContext('2d');\n",
       "\n",
       "    var backingStore =\n",
       "        this.context.backingStorePixelRatio ||\n",
       "        this.context.webkitBackingStorePixelRatio ||\n",
       "        this.context.mozBackingStorePixelRatio ||\n",
       "        this.context.msBackingStorePixelRatio ||\n",
       "        this.context.oBackingStorePixelRatio ||\n",
       "        this.context.backingStorePixelRatio ||\n",
       "        1;\n",
       "\n",
       "    this.ratio = (window.devicePixelRatio || 1) / backingStore;\n",
       "\n",
       "    var rubberband_canvas = (this.rubberband_canvas = document.createElement(\n",
       "        'canvas'\n",
       "    ));\n",
       "    rubberband_canvas.setAttribute(\n",
       "        'style',\n",
       "        'box-sizing: content-box; position: absolute; left: 0; top: 0; z-index: 1;'\n",
       "    );\n",
       "\n",
       "    // Apply a ponyfill if ResizeObserver is not implemented by browser.\n",
       "    if (this.ResizeObserver === undefined) {\n",
       "        if (window.ResizeObserver !== undefined) {\n",
       "            this.ResizeObserver = window.ResizeObserver;\n",
       "        } else {\n",
       "            var obs = _JSXTOOLS_RESIZE_OBSERVER({});\n",
       "            this.ResizeObserver = obs.ResizeObserver;\n",
       "        }\n",
       "    }\n",
       "\n",
       "    this.resizeObserverInstance = new this.ResizeObserver(function (entries) {\n",
       "        var nentries = entries.length;\n",
       "        for (var i = 0; i < nentries; i++) {\n",
       "            var entry = entries[i];\n",
       "            var width, height;\n",
       "            if (entry.contentBoxSize) {\n",
       "                if (entry.contentBoxSize instanceof Array) {\n",
       "                    // Chrome 84 implements new version of spec.\n",
       "                    width = entry.contentBoxSize[0].inlineSize;\n",
       "                    height = entry.contentBoxSize[0].blockSize;\n",
       "                } else {\n",
       "                    // Firefox implements old version of spec.\n",
       "                    width = entry.contentBoxSize.inlineSize;\n",
       "                    height = entry.contentBoxSize.blockSize;\n",
       "                }\n",
       "            } else {\n",
       "                // Chrome <84 implements even older version of spec.\n",
       "                width = entry.contentRect.width;\n",
       "                height = entry.contentRect.height;\n",
       "            }\n",
       "\n",
       "            // Keep the size of the canvas and rubber band canvas in sync with\n",
       "            // the canvas container.\n",
       "            if (entry.devicePixelContentBoxSize) {\n",
       "                // Chrome 84 implements new version of spec.\n",
       "                canvas.setAttribute(\n",
       "                    'width',\n",
       "                    entry.devicePixelContentBoxSize[0].inlineSize\n",
       "                );\n",
       "                canvas.setAttribute(\n",
       "                    'height',\n",
       "                    entry.devicePixelContentBoxSize[0].blockSize\n",
       "                );\n",
       "            } else {\n",
       "                canvas.setAttribute('width', width * fig.ratio);\n",
       "                canvas.setAttribute('height', height * fig.ratio);\n",
       "            }\n",
       "            canvas.setAttribute(\n",
       "                'style',\n",
       "                'width: ' + width + 'px; height: ' + height + 'px;'\n",
       "            );\n",
       "\n",
       "            rubberband_canvas.setAttribute('width', width);\n",
       "            rubberband_canvas.setAttribute('height', height);\n",
       "\n",
       "            // And update the size in Python. We ignore the initial 0/0 size\n",
       "            // that occurs as the element is placed into the DOM, which should\n",
       "            // otherwise not happen due to the minimum size styling.\n",
       "            if (fig.ws.readyState == 1 && width != 0 && height != 0) {\n",
       "                fig.request_resize(width, height);\n",
       "            }\n",
       "        }\n",
       "    });\n",
       "    this.resizeObserverInstance.observe(canvas_div);\n",
       "\n",
       "    function on_mouse_event_closure(name) {\n",
       "        return function (event) {\n",
       "            return fig.mouse_event(event, name);\n",
       "        };\n",
       "    }\n",
       "\n",
       "    rubberband_canvas.addEventListener(\n",
       "        'mousedown',\n",
       "        on_mouse_event_closure('button_press')\n",
       "    );\n",
       "    rubberband_canvas.addEventListener(\n",
       "        'mouseup',\n",
       "        on_mouse_event_closure('button_release')\n",
       "    );\n",
       "    // Throttle sequential mouse events to 1 every 20ms.\n",
       "    rubberband_canvas.addEventListener(\n",
       "        'mousemove',\n",
       "        on_mouse_event_closure('motion_notify')\n",
       "    );\n",
       "\n",
       "    rubberband_canvas.addEventListener(\n",
       "        'mouseenter',\n",
       "        on_mouse_event_closure('figure_enter')\n",
       "    );\n",
       "    rubberband_canvas.addEventListener(\n",
       "        'mouseleave',\n",
       "        on_mouse_event_closure('figure_leave')\n",
       "    );\n",
       "\n",
       "    canvas_div.addEventListener('wheel', function (event) {\n",
       "        if (event.deltaY < 0) {\n",
       "            event.step = 1;\n",
       "        } else {\n",
       "            event.step = -1;\n",
       "        }\n",
       "        on_mouse_event_closure('scroll')(event);\n",
       "    });\n",
       "\n",
       "    canvas_div.appendChild(canvas);\n",
       "    canvas_div.appendChild(rubberband_canvas);\n",
       "\n",
       "    this.rubberband_context = rubberband_canvas.getContext('2d');\n",
       "    this.rubberband_context.strokeStyle = '#000000';\n",
       "\n",
       "    this._resize_canvas = function (width, height, forward) {\n",
       "        if (forward) {\n",
       "            canvas_div.style.width = width + 'px';\n",
       "            canvas_div.style.height = height + 'px';\n",
       "        }\n",
       "    };\n",
       "\n",
       "    // Disable right mouse context menu.\n",
       "    this.rubberband_canvas.addEventListener('contextmenu', function (_e) {\n",
       "        event.preventDefault();\n",
       "        return false;\n",
       "    });\n",
       "\n",
       "    function set_focus() {\n",
       "        canvas.focus();\n",
       "        canvas_div.focus();\n",
       "    }\n",
       "\n",
       "    window.setTimeout(set_focus, 100);\n",
       "};\n",
       "\n",
       "mpl.figure.prototype._init_toolbar = function () {\n",
       "    var fig = this;\n",
       "\n",
       "    var toolbar = document.createElement('div');\n",
       "    toolbar.classList = 'mpl-toolbar';\n",
       "    this.root.appendChild(toolbar);\n",
       "\n",
       "    function on_click_closure(name) {\n",
       "        return function (_event) {\n",
       "            return fig.toolbar_button_onclick(name);\n",
       "        };\n",
       "    }\n",
       "\n",
       "    function on_mouseover_closure(tooltip) {\n",
       "        return function (event) {\n",
       "            if (!event.currentTarget.disabled) {\n",
       "                return fig.toolbar_button_onmouseover(tooltip);\n",
       "            }\n",
       "        };\n",
       "    }\n",
       "\n",
       "    fig.buttons = {};\n",
       "    var buttonGroup = document.createElement('div');\n",
       "    buttonGroup.classList = 'mpl-button-group';\n",
       "    for (var toolbar_ind in mpl.toolbar_items) {\n",
       "        var name = mpl.toolbar_items[toolbar_ind][0];\n",
       "        var tooltip = mpl.toolbar_items[toolbar_ind][1];\n",
       "        var image = mpl.toolbar_items[toolbar_ind][2];\n",
       "        var method_name = mpl.toolbar_items[toolbar_ind][3];\n",
       "\n",
       "        if (!name) {\n",
       "            /* Instead of a spacer, we start a new button group. */\n",
       "            if (buttonGroup.hasChildNodes()) {\n",
       "                toolbar.appendChild(buttonGroup);\n",
       "            }\n",
       "            buttonGroup = document.createElement('div');\n",
       "            buttonGroup.classList = 'mpl-button-group';\n",
       "            continue;\n",
       "        }\n",
       "\n",
       "        var button = (fig.buttons[name] = document.createElement('button'));\n",
       "        button.classList = 'mpl-widget';\n",
       "        button.setAttribute('role', 'button');\n",
       "        button.setAttribute('aria-disabled', 'false');\n",
       "        button.addEventListener('click', on_click_closure(method_name));\n",
       "        button.addEventListener('mouseover', on_mouseover_closure(tooltip));\n",
       "\n",
       "        var icon_img = document.createElement('img');\n",
       "        icon_img.src = '_images/' + image + '.png';\n",
       "        icon_img.srcset = '_images/' + image + '_large.png 2x';\n",
       "        icon_img.alt = tooltip;\n",
       "        button.appendChild(icon_img);\n",
       "\n",
       "        buttonGroup.appendChild(button);\n",
       "    }\n",
       "\n",
       "    if (buttonGroup.hasChildNodes()) {\n",
       "        toolbar.appendChild(buttonGroup);\n",
       "    }\n",
       "\n",
       "    var fmt_picker = document.createElement('select');\n",
       "    fmt_picker.classList = 'mpl-widget';\n",
       "    toolbar.appendChild(fmt_picker);\n",
       "    this.format_dropdown = fmt_picker;\n",
       "\n",
       "    for (var ind in mpl.extensions) {\n",
       "        var fmt = mpl.extensions[ind];\n",
       "        var option = document.createElement('option');\n",
       "        option.selected = fmt === mpl.default_extension;\n",
       "        option.innerHTML = fmt;\n",
       "        fmt_picker.appendChild(option);\n",
       "    }\n",
       "\n",
       "    var status_bar = document.createElement('span');\n",
       "    status_bar.classList = 'mpl-message';\n",
       "    toolbar.appendChild(status_bar);\n",
       "    this.message = status_bar;\n",
       "};\n",
       "\n",
       "mpl.figure.prototype.request_resize = function (x_pixels, y_pixels) {\n",
       "    // Request matplotlib to resize the figure. Matplotlib will then trigger a resize in the client,\n",
       "    // which will in turn request a refresh of the image.\n",
       "    this.send_message('resize', { width: x_pixels, height: y_pixels });\n",
       "};\n",
       "\n",
       "mpl.figure.prototype.send_message = function (type, properties) {\n",
       "    properties['type'] = type;\n",
       "    properties['figure_id'] = this.id;\n",
       "    this.ws.send(JSON.stringify(properties));\n",
       "};\n",
       "\n",
       "mpl.figure.prototype.send_draw_message = function () {\n",
       "    if (!this.waiting) {\n",
       "        this.waiting = true;\n",
       "        this.ws.send(JSON.stringify({ type: 'draw', figure_id: this.id }));\n",
       "    }\n",
       "};\n",
       "\n",
       "mpl.figure.prototype.handle_save = function (fig, _msg) {\n",
       "    var format_dropdown = fig.format_dropdown;\n",
       "    var format = format_dropdown.options[format_dropdown.selectedIndex].value;\n",
       "    fig.ondownload(fig, format);\n",
       "};\n",
       "\n",
       "mpl.figure.prototype.handle_resize = function (fig, msg) {\n",
       "    var size = msg['size'];\n",
       "    if (size[0] !== fig.canvas.width || size[1] !== fig.canvas.height) {\n",
       "        fig._resize_canvas(size[0], size[1], msg['forward']);\n",
       "        fig.send_message('refresh', {});\n",
       "    }\n",
       "};\n",
       "\n",
       "mpl.figure.prototype.handle_rubberband = function (fig, msg) {\n",
       "    var x0 = msg['x0'] / fig.ratio;\n",
       "    var y0 = (fig.canvas.height - msg['y0']) / fig.ratio;\n",
       "    var x1 = msg['x1'] / fig.ratio;\n",
       "    var y1 = (fig.canvas.height - msg['y1']) / fig.ratio;\n",
       "    x0 = Math.floor(x0) + 0.5;\n",
       "    y0 = Math.floor(y0) + 0.5;\n",
       "    x1 = Math.floor(x1) + 0.5;\n",
       "    y1 = Math.floor(y1) + 0.5;\n",
       "    var min_x = Math.min(x0, x1);\n",
       "    var min_y = Math.min(y0, y1);\n",
       "    var width = Math.abs(x1 - x0);\n",
       "    var height = Math.abs(y1 - y0);\n",
       "\n",
       "    fig.rubberband_context.clearRect(\n",
       "        0,\n",
       "        0,\n",
       "        fig.canvas.width / fig.ratio,\n",
       "        fig.canvas.height / fig.ratio\n",
       "    );\n",
       "\n",
       "    fig.rubberband_context.strokeRect(min_x, min_y, width, height);\n",
       "};\n",
       "\n",
       "mpl.figure.prototype.handle_figure_label = function (fig, msg) {\n",
       "    // Updates the figure title.\n",
       "    fig.header.textContent = msg['label'];\n",
       "};\n",
       "\n",
       "mpl.figure.prototype.handle_cursor = function (fig, msg) {\n",
       "    var cursor = msg['cursor'];\n",
       "    switch (cursor) {\n",
       "        case 0:\n",
       "            cursor = 'pointer';\n",
       "            break;\n",
       "        case 1:\n",
       "            cursor = 'default';\n",
       "            break;\n",
       "        case 2:\n",
       "            cursor = 'crosshair';\n",
       "            break;\n",
       "        case 3:\n",
       "            cursor = 'move';\n",
       "            break;\n",
       "    }\n",
       "    fig.rubberband_canvas.style.cursor = cursor;\n",
       "};\n",
       "\n",
       "mpl.figure.prototype.handle_message = function (fig, msg) {\n",
       "    fig.message.textContent = msg['message'];\n",
       "};\n",
       "\n",
       "mpl.figure.prototype.handle_draw = function (fig, _msg) {\n",
       "    // Request the server to send over a new figure.\n",
       "    fig.send_draw_message();\n",
       "};\n",
       "\n",
       "mpl.figure.prototype.handle_image_mode = function (fig, msg) {\n",
       "    fig.image_mode = msg['mode'];\n",
       "};\n",
       "\n",
       "mpl.figure.prototype.handle_history_buttons = function (fig, msg) {\n",
       "    for (var key in msg) {\n",
       "        if (!(key in fig.buttons)) {\n",
       "            continue;\n",
       "        }\n",
       "        fig.buttons[key].disabled = !msg[key];\n",
       "        fig.buttons[key].setAttribute('aria-disabled', !msg[key]);\n",
       "    }\n",
       "};\n",
       "\n",
       "mpl.figure.prototype.handle_navigate_mode = function (fig, msg) {\n",
       "    if (msg['mode'] === 'PAN') {\n",
       "        fig.buttons['Pan'].classList.add('active');\n",
       "        fig.buttons['Zoom'].classList.remove('active');\n",
       "    } else if (msg['mode'] === 'ZOOM') {\n",
       "        fig.buttons['Pan'].classList.remove('active');\n",
       "        fig.buttons['Zoom'].classList.add('active');\n",
       "    } else {\n",
       "        fig.buttons['Pan'].classList.remove('active');\n",
       "        fig.buttons['Zoom'].classList.remove('active');\n",
       "    }\n",
       "};\n",
       "\n",
       "mpl.figure.prototype.updated_canvas_event = function () {\n",
       "    // Called whenever the canvas gets updated.\n",
       "    this.send_message('ack', {});\n",
       "};\n",
       "\n",
       "// A function to construct a web socket function for onmessage handling.\n",
       "// Called in the figure constructor.\n",
       "mpl.figure.prototype._make_on_message_function = function (fig) {\n",
       "    return function socket_on_message(evt) {\n",
       "        if (evt.data instanceof Blob) {\n",
       "            /* FIXME: We get \"Resource interpreted as Image but\n",
       "             * transferred with MIME type text/plain:\" errors on\n",
       "             * Chrome.  But how to set the MIME type?  It doesn't seem\n",
       "             * to be part of the websocket stream */\n",
       "            evt.data.type = 'image/png';\n",
       "\n",
       "            /* Free the memory for the previous frames */\n",
       "            if (fig.imageObj.src) {\n",
       "                (window.URL || window.webkitURL).revokeObjectURL(\n",
       "                    fig.imageObj.src\n",
       "                );\n",
       "            }\n",
       "\n",
       "            fig.imageObj.src = (window.URL || window.webkitURL).createObjectURL(\n",
       "                evt.data\n",
       "            );\n",
       "            fig.updated_canvas_event();\n",
       "            fig.waiting = false;\n",
       "            return;\n",
       "        } else if (\n",
       "            typeof evt.data === 'string' &&\n",
       "            evt.data.slice(0, 21) === 'data:image/png;base64'\n",
       "        ) {\n",
       "            fig.imageObj.src = evt.data;\n",
       "            fig.updated_canvas_event();\n",
       "            fig.waiting = false;\n",
       "            return;\n",
       "        }\n",
       "\n",
       "        var msg = JSON.parse(evt.data);\n",
       "        var msg_type = msg['type'];\n",
       "\n",
       "        // Call the  \"handle_{type}\" callback, which takes\n",
       "        // the figure and JSON message as its only arguments.\n",
       "        try {\n",
       "            var callback = fig['handle_' + msg_type];\n",
       "        } catch (e) {\n",
       "            console.log(\n",
       "                \"No handler for the '\" + msg_type + \"' message type: \",\n",
       "                msg\n",
       "            );\n",
       "            return;\n",
       "        }\n",
       "\n",
       "        if (callback) {\n",
       "            try {\n",
       "                // console.log(\"Handling '\" + msg_type + \"' message: \", msg);\n",
       "                callback(fig, msg);\n",
       "            } catch (e) {\n",
       "                console.log(\n",
       "                    \"Exception inside the 'handler_\" + msg_type + \"' callback:\",\n",
       "                    e,\n",
       "                    e.stack,\n",
       "                    msg\n",
       "                );\n",
       "            }\n",
       "        }\n",
       "    };\n",
       "};\n",
       "\n",
       "// from http://stackoverflow.com/questions/1114465/getting-mouse-location-in-canvas\n",
       "mpl.findpos = function (e) {\n",
       "    //this section is from http://www.quirksmode.org/js/events_properties.html\n",
       "    var targ;\n",
       "    if (!e) {\n",
       "        e = window.event;\n",
       "    }\n",
       "    if (e.target) {\n",
       "        targ = e.target;\n",
       "    } else if (e.srcElement) {\n",
       "        targ = e.srcElement;\n",
       "    }\n",
       "    if (targ.nodeType === 3) {\n",
       "        // defeat Safari bug\n",
       "        targ = targ.parentNode;\n",
       "    }\n",
       "\n",
       "    // pageX,Y are the mouse positions relative to the document\n",
       "    var boundingRect = targ.getBoundingClientRect();\n",
       "    var x = e.pageX - (boundingRect.left + document.body.scrollLeft);\n",
       "    var y = e.pageY - (boundingRect.top + document.body.scrollTop);\n",
       "\n",
       "    return { x: x, y: y };\n",
       "};\n",
       "\n",
       "/*\n",
       " * return a copy of an object with only non-object keys\n",
       " * we need this to avoid circular references\n",
       " * http://stackoverflow.com/a/24161582/3208463\n",
       " */\n",
       "function simpleKeys(original) {\n",
       "    return Object.keys(original).reduce(function (obj, key) {\n",
       "        if (typeof original[key] !== 'object') {\n",
       "            obj[key] = original[key];\n",
       "        }\n",
       "        return obj;\n",
       "    }, {});\n",
       "}\n",
       "\n",
       "mpl.figure.prototype.mouse_event = function (event, name) {\n",
       "    var canvas_pos = mpl.findpos(event);\n",
       "\n",
       "    if (name === 'button_press') {\n",
       "        this.canvas.focus();\n",
       "        this.canvas_div.focus();\n",
       "    }\n",
       "\n",
       "    var x = canvas_pos.x * this.ratio;\n",
       "    var y = canvas_pos.y * this.ratio;\n",
       "\n",
       "    this.send_message(name, {\n",
       "        x: x,\n",
       "        y: y,\n",
       "        button: event.button,\n",
       "        step: event.step,\n",
       "        guiEvent: simpleKeys(event),\n",
       "    });\n",
       "\n",
       "    /* This prevents the web browser from automatically changing to\n",
       "     * the text insertion cursor when the button is pressed.  We want\n",
       "     * to control all of the cursor setting manually through the\n",
       "     * 'cursor' event from matplotlib */\n",
       "    event.preventDefault();\n",
       "    return false;\n",
       "};\n",
       "\n",
       "mpl.figure.prototype._key_event_extra = function (_event, _name) {\n",
       "    // Handle any extra behaviour associated with a key event\n",
       "};\n",
       "\n",
       "mpl.figure.prototype.key_event = function (event, name) {\n",
       "    // Prevent repeat events\n",
       "    if (name === 'key_press') {\n",
       "        if (event.which === this._key) {\n",
       "            return;\n",
       "        } else {\n",
       "            this._key = event.which;\n",
       "        }\n",
       "    }\n",
       "    if (name === 'key_release') {\n",
       "        this._key = null;\n",
       "    }\n",
       "\n",
       "    var value = '';\n",
       "    if (event.ctrlKey && event.which !== 17) {\n",
       "        value += 'ctrl+';\n",
       "    }\n",
       "    if (event.altKey && event.which !== 18) {\n",
       "        value += 'alt+';\n",
       "    }\n",
       "    if (event.shiftKey && event.which !== 16) {\n",
       "        value += 'shift+';\n",
       "    }\n",
       "\n",
       "    value += 'k';\n",
       "    value += event.which.toString();\n",
       "\n",
       "    this._key_event_extra(event, name);\n",
       "\n",
       "    this.send_message(name, { key: value, guiEvent: simpleKeys(event) });\n",
       "    return false;\n",
       "};\n",
       "\n",
       "mpl.figure.prototype.toolbar_button_onclick = function (name) {\n",
       "    if (name === 'download') {\n",
       "        this.handle_save(this, null);\n",
       "    } else {\n",
       "        this.send_message('toolbar_button', { name: name });\n",
       "    }\n",
       "};\n",
       "\n",
       "mpl.figure.prototype.toolbar_button_onmouseover = function (tooltip) {\n",
       "    this.message.textContent = tooltip;\n",
       "};\n",
       "\n",
       "///////////////// REMAINING CONTENT GENERATED BY embed_js.py /////////////////\n",
       "// prettier-ignore\n",
       "var _JSXTOOLS_RESIZE_OBSERVER=function(A){var t,i=new WeakMap,n=new WeakMap,a=new WeakMap,r=new WeakMap,o=new Set;function s(e){if(!(this instanceof s))throw new TypeError(\"Constructor requires 'new' operator\");i.set(this,e)}function h(){throw new TypeError(\"Function is not a constructor\")}function c(e,t,i,n){e=0 in arguments?Number(arguments[0]):0,t=1 in arguments?Number(arguments[1]):0,i=2 in arguments?Number(arguments[2]):0,n=3 in arguments?Number(arguments[3]):0,this.right=(this.x=this.left=e)+(this.width=i),this.bottom=(this.y=this.top=t)+(this.height=n),Object.freeze(this)}function d(){t=requestAnimationFrame(d);var s=new WeakMap,p=new Set;o.forEach((function(t){r.get(t).forEach((function(i){var r=t instanceof window.SVGElement,o=a.get(t),d=r?0:parseFloat(o.paddingTop),f=r?0:parseFloat(o.paddingRight),l=r?0:parseFloat(o.paddingBottom),u=r?0:parseFloat(o.paddingLeft),g=r?0:parseFloat(o.borderTopWidth),m=r?0:parseFloat(o.borderRightWidth),w=r?0:parseFloat(o.borderBottomWidth),b=u+f,F=d+l,v=(r?0:parseFloat(o.borderLeftWidth))+m,W=g+w,y=r?0:t.offsetHeight-W-t.clientHeight,E=r?0:t.offsetWidth-v-t.clientWidth,R=b+v,z=F+W,M=r?t.width:parseFloat(o.width)-R-E,O=r?t.height:parseFloat(o.height)-z-y;if(n.has(t)){var k=n.get(t);if(k[0]===M&&k[1]===O)return}n.set(t,[M,O]);var S=Object.create(h.prototype);S.target=t,S.contentRect=new c(u,d,M,O),s.has(i)||(s.set(i,[]),p.add(i)),s.get(i).push(S)}))})),p.forEach((function(e){i.get(e).call(e,s.get(e),e)}))}return s.prototype.observe=function(i){if(i instanceof window.Element){r.has(i)||(r.set(i,new Set),o.add(i),a.set(i,window.getComputedStyle(i)));var n=r.get(i);n.has(this)||n.add(this),cancelAnimationFrame(t),t=requestAnimationFrame(d)}},s.prototype.unobserve=function(i){if(i instanceof window.Element&&r.has(i)){var n=r.get(i);n.has(this)&&(n.delete(this),n.size||(r.delete(i),o.delete(i))),n.size||r.delete(i),o.size||cancelAnimationFrame(t)}},A.DOMRectReadOnly=c,A.ResizeObserver=s,A.ResizeObserverEntry=h,A}; // eslint-disable-line\n",
       "mpl.toolbar_items = [[\"Home\", \"Reset original view\", \"fa fa-home icon-home\", \"home\"], [\"Back\", \"Back to previous view\", \"fa fa-arrow-left icon-arrow-left\", \"back\"], [\"Forward\", \"Forward to next view\", \"fa fa-arrow-right icon-arrow-right\", \"forward\"], [\"\", \"\", \"\", \"\"], [\"Pan\", \"Left button pans, Right button zooms\\nx/y fixes axis, CTRL fixes aspect\", \"fa fa-arrows icon-move\", \"pan\"], [\"Zoom\", \"Zoom to rectangle\\nx/y fixes axis, CTRL fixes aspect\", \"fa fa-square-o icon-check-empty\", \"zoom\"], [\"\", \"\", \"\", \"\"], [\"Download\", \"Download plot\", \"fa fa-floppy-o icon-save\", \"download\"]];\n",
       "\n",
       "mpl.extensions = [\"eps\", \"jpeg\", \"pdf\", \"png\", \"ps\", \"raw\", \"svg\", \"tif\"];\n",
       "\n",
       "mpl.default_extension = \"png\";/* global mpl */\n",
       "\n",
       "var comm_websocket_adapter = function (comm) {\n",
       "    // Create a \"websocket\"-like object which calls the given IPython comm\n",
       "    // object with the appropriate methods. Currently this is a non binary\n",
       "    // socket, so there is still some room for performance tuning.\n",
       "    var ws = {};\n",
       "\n",
       "    ws.close = function () {\n",
       "        comm.close();\n",
       "    };\n",
       "    ws.send = function (m) {\n",
       "        //console.log('sending', m);\n",
       "        comm.send(m);\n",
       "    };\n",
       "    // Register the callback with on_msg.\n",
       "    comm.on_msg(function (msg) {\n",
       "        //console.log('receiving', msg['content']['data'], msg);\n",
       "        // Pass the mpl event to the overridden (by mpl) onmessage function.\n",
       "        ws.onmessage(msg['content']['data']);\n",
       "    });\n",
       "    return ws;\n",
       "};\n",
       "\n",
       "mpl.mpl_figure_comm = function (comm, msg) {\n",
       "    // This is the function which gets called when the mpl process\n",
       "    // starts-up an IPython Comm through the \"matplotlib\" channel.\n",
       "\n",
       "    var id = msg.content.data.id;\n",
       "    // Get hold of the div created by the display call when the Comm\n",
       "    // socket was opened in Python.\n",
       "    var element = document.getElementById(id);\n",
       "    var ws_proxy = comm_websocket_adapter(comm);\n",
       "\n",
       "    function ondownload(figure, _format) {\n",
       "        window.open(figure.canvas.toDataURL());\n",
       "    }\n",
       "\n",
       "    var fig = new mpl.figure(id, ws_proxy, ondownload, element);\n",
       "\n",
       "    // Call onopen now - mpl needs it, as it is assuming we've passed it a real\n",
       "    // web socket which is closed, not our websocket->open comm proxy.\n",
       "    ws_proxy.onopen();\n",
       "\n",
       "    fig.parent_element = element;\n",
       "    fig.cell_info = mpl.find_output_cell(\"<div id='\" + id + \"'></div>\");\n",
       "    if (!fig.cell_info) {\n",
       "        console.error('Failed to find cell for figure', id, fig);\n",
       "        return;\n",
       "    }\n",
       "    fig.cell_info[0].output_area.element.on(\n",
       "        'cleared',\n",
       "        { fig: fig },\n",
       "        fig._remove_fig_handler\n",
       "    );\n",
       "};\n",
       "\n",
       "mpl.figure.prototype.handle_close = function (fig, msg) {\n",
       "    var width = fig.canvas.width / fig.ratio;\n",
       "    fig.cell_info[0].output_area.element.off(\n",
       "        'cleared',\n",
       "        fig._remove_fig_handler\n",
       "    );\n",
       "    fig.resizeObserverInstance.unobserve(fig.canvas_div);\n",
       "\n",
       "    // Update the output cell to use the data from the current canvas.\n",
       "    fig.push_to_output();\n",
       "    var dataURL = fig.canvas.toDataURL();\n",
       "    // Re-enable the keyboard manager in IPython - without this line, in FF,\n",
       "    // the notebook keyboard shortcuts fail.\n",
       "    IPython.keyboard_manager.enable();\n",
       "    fig.parent_element.innerHTML =\n",
       "        '<img src=\"' + dataURL + '\" width=\"' + width + '\">';\n",
       "    fig.close_ws(fig, msg);\n",
       "};\n",
       "\n",
       "mpl.figure.prototype.close_ws = function (fig, msg) {\n",
       "    fig.send_message('closing', msg);\n",
       "    // fig.ws.close()\n",
       "};\n",
       "\n",
       "mpl.figure.prototype.push_to_output = function (_remove_interactive) {\n",
       "    // Turn the data on the canvas into data in the output cell.\n",
       "    var width = this.canvas.width / this.ratio;\n",
       "    var dataURL = this.canvas.toDataURL();\n",
       "    this.cell_info[1]['text/html'] =\n",
       "        '<img src=\"' + dataURL + '\" width=\"' + width + '\">';\n",
       "};\n",
       "\n",
       "mpl.figure.prototype.updated_canvas_event = function () {\n",
       "    // Tell IPython that the notebook contents must change.\n",
       "    IPython.notebook.set_dirty(true);\n",
       "    this.send_message('ack', {});\n",
       "    var fig = this;\n",
       "    // Wait a second, then push the new image to the DOM so\n",
       "    // that it is saved nicely (might be nice to debounce this).\n",
       "    setTimeout(function () {\n",
       "        fig.push_to_output();\n",
       "    }, 1000);\n",
       "};\n",
       "\n",
       "mpl.figure.prototype._init_toolbar = function () {\n",
       "    var fig = this;\n",
       "\n",
       "    var toolbar = document.createElement('div');\n",
       "    toolbar.classList = 'btn-toolbar';\n",
       "    this.root.appendChild(toolbar);\n",
       "\n",
       "    function on_click_closure(name) {\n",
       "        return function (_event) {\n",
       "            return fig.toolbar_button_onclick(name);\n",
       "        };\n",
       "    }\n",
       "\n",
       "    function on_mouseover_closure(tooltip) {\n",
       "        return function (event) {\n",
       "            if (!event.currentTarget.disabled) {\n",
       "                return fig.toolbar_button_onmouseover(tooltip);\n",
       "            }\n",
       "        };\n",
       "    }\n",
       "\n",
       "    fig.buttons = {};\n",
       "    var buttonGroup = document.createElement('div');\n",
       "    buttonGroup.classList = 'btn-group';\n",
       "    var button;\n",
       "    for (var toolbar_ind in mpl.toolbar_items) {\n",
       "        var name = mpl.toolbar_items[toolbar_ind][0];\n",
       "        var tooltip = mpl.toolbar_items[toolbar_ind][1];\n",
       "        var image = mpl.toolbar_items[toolbar_ind][2];\n",
       "        var method_name = mpl.toolbar_items[toolbar_ind][3];\n",
       "\n",
       "        if (!name) {\n",
       "            /* Instead of a spacer, we start a new button group. */\n",
       "            if (buttonGroup.hasChildNodes()) {\n",
       "                toolbar.appendChild(buttonGroup);\n",
       "            }\n",
       "            buttonGroup = document.createElement('div');\n",
       "            buttonGroup.classList = 'btn-group';\n",
       "            continue;\n",
       "        }\n",
       "\n",
       "        button = fig.buttons[name] = document.createElement('button');\n",
       "        button.classList = 'btn btn-default';\n",
       "        button.href = '#';\n",
       "        button.title = name;\n",
       "        button.innerHTML = '<i class=\"fa ' + image + ' fa-lg\"></i>';\n",
       "        button.addEventListener('click', on_click_closure(method_name));\n",
       "        button.addEventListener('mouseover', on_mouseover_closure(tooltip));\n",
       "        buttonGroup.appendChild(button);\n",
       "    }\n",
       "\n",
       "    if (buttonGroup.hasChildNodes()) {\n",
       "        toolbar.appendChild(buttonGroup);\n",
       "    }\n",
       "\n",
       "    // Add the status bar.\n",
       "    var status_bar = document.createElement('span');\n",
       "    status_bar.classList = 'mpl-message pull-right';\n",
       "    toolbar.appendChild(status_bar);\n",
       "    this.message = status_bar;\n",
       "\n",
       "    // Add the close button to the window.\n",
       "    var buttongrp = document.createElement('div');\n",
       "    buttongrp.classList = 'btn-group inline pull-right';\n",
       "    button = document.createElement('button');\n",
       "    button.classList = 'btn btn-mini btn-primary';\n",
       "    button.href = '#';\n",
       "    button.title = 'Stop Interaction';\n",
       "    button.innerHTML = '<i class=\"fa fa-power-off icon-remove icon-large\"></i>';\n",
       "    button.addEventListener('click', function (_evt) {\n",
       "        fig.handle_close(fig, {});\n",
       "    });\n",
       "    button.addEventListener(\n",
       "        'mouseover',\n",
       "        on_mouseover_closure('Stop Interaction')\n",
       "    );\n",
       "    buttongrp.appendChild(button);\n",
       "    var titlebar = this.root.querySelector('.ui-dialog-titlebar');\n",
       "    titlebar.insertBefore(buttongrp, titlebar.firstChild);\n",
       "};\n",
       "\n",
       "mpl.figure.prototype._remove_fig_handler = function (event) {\n",
       "    var fig = event.data.fig;\n",
       "    if (event.target !== this) {\n",
       "        // Ignore bubbled events from children.\n",
       "        return;\n",
       "    }\n",
       "    fig.close_ws(fig, {});\n",
       "};\n",
       "\n",
       "mpl.figure.prototype._root_extra_style = function (el) {\n",
       "    el.style.boxSizing = 'content-box'; // override notebook setting of border-box.\n",
       "};\n",
       "\n",
       "mpl.figure.prototype._canvas_extra_style = function (el) {\n",
       "    // this is important to make the div 'focusable\n",
       "    el.setAttribute('tabindex', 0);\n",
       "    // reach out to IPython and tell the keyboard manager to turn it's self\n",
       "    // off when our div gets focus\n",
       "\n",
       "    // location in version 3\n",
       "    if (IPython.notebook.keyboard_manager) {\n",
       "        IPython.notebook.keyboard_manager.register_events(el);\n",
       "    } else {\n",
       "        // location in version 2\n",
       "        IPython.keyboard_manager.register_events(el);\n",
       "    }\n",
       "};\n",
       "\n",
       "mpl.figure.prototype._key_event_extra = function (event, _name) {\n",
       "    var manager = IPython.notebook.keyboard_manager;\n",
       "    if (!manager) {\n",
       "        manager = IPython.keyboard_manager;\n",
       "    }\n",
       "\n",
       "    // Check for shift+enter\n",
       "    if (event.shiftKey && event.which === 13) {\n",
       "        this.canvas_div.blur();\n",
       "        // select the cell after this one\n",
       "        var index = IPython.notebook.find_cell_index(this.cell_info[0]);\n",
       "        IPython.notebook.select(index + 1);\n",
       "    }\n",
       "};\n",
       "\n",
       "mpl.figure.prototype.handle_save = function (fig, _msg) {\n",
       "    fig.ondownload(fig, null);\n",
       "};\n",
       "\n",
       "mpl.find_output_cell = function (html_output) {\n",
       "    // Return the cell and output element which can be found *uniquely* in the notebook.\n",
       "    // Note - this is a bit hacky, but it is done because the \"notebook_saving.Notebook\"\n",
       "    // IPython event is triggered only after the cells have been serialised, which for\n",
       "    // our purposes (turning an active figure into a static one), is too late.\n",
       "    var cells = IPython.notebook.get_cells();\n",
       "    var ncells = cells.length;\n",
       "    for (var i = 0; i < ncells; i++) {\n",
       "        var cell = cells[i];\n",
       "        if (cell.cell_type === 'code') {\n",
       "            for (var j = 0; j < cell.output_area.outputs.length; j++) {\n",
       "                var data = cell.output_area.outputs[j];\n",
       "                if (data.data) {\n",
       "                    // IPython >= 3 moved mimebundle to data attribute of output\n",
       "                    data = data.data;\n",
       "                }\n",
       "                if (data['text/html'] === html_output) {\n",
       "                    return [cell, data, j];\n",
       "                }\n",
       "            }\n",
       "        }\n",
       "    }\n",
       "};\n",
       "\n",
       "// Register the function which deals with the matplotlib target/channel.\n",
       "// The kernel may be null if the page has been refreshed.\n",
       "if (IPython.notebook.kernel !== null) {\n",
       "    IPython.notebook.kernel.comm_manager.register_target(\n",
       "        'matplotlib',\n",
       "        mpl.mpl_figure_comm\n",
       "    );\n",
       "}\n"
      ],
      "text/plain": [
       "<IPython.core.display.Javascript object>"
      ]
     },
     "metadata": {},
     "output_type": "display_data"
    },
    {
     "data": {
      "text/html": [
       "<img src=\"data:image/png;base64,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\" width=\"504\">"
      ],
      "text/plain": [
       "<IPython.core.display.HTML object>"
      ]
     },
     "metadata": {},
     "output_type": "display_data"
    },
    {
     "data": {
      "application/vnd.jupyter.widget-view+json": {
       "model_id": "2cdaeed96f5147bcaa36eac13145f055",
       "version_major": 2,
       "version_minor": 0
      },
      "text/plain": [
       "HBox(children=(VBox(children=(Button(description='Right', style=ButtonStyle()), Button(description='Left', sty…"
      ]
     },
     "metadata": {},
     "output_type": "display_data"
    }
   ],
   "source": [
    "# Create the widgets\n",
    "left = widgets.Button(description='Left')\n",
    "right = widgets.Button(description='Right')\n",
    "out = widgets.Output()\n",
    "\n",
    "# get the file names\n",
    "DATA_PATH = 'flickr/Images/'\n",
    "full_df = pd.read_json('results_comparison.json')\n",
    "\n",
    "# Setting the first and last indexs\n",
    "i=0 # starting index\n",
    "i_max = full_df.shape[0] # ending index\n",
    "\n",
    "# Plot the first picture\n",
    "img = plt.imread(f'{DATA_PATH}/{full_df.iloc[i, 0]}')\n",
    "fig, ax = plt.subplots(1, figsize=(7, 7))\n",
    "ax = plt.imshow(img)\n",
    "plt.suptitle(\"Current sample\")\n",
    "plt.show()\n",
    "with out:\n",
    "    clear_output()\n",
    "    display(full_df.iloc[i:i+1].drop('file_name', axis=1))\n",
    "    display(calculate_scores(full_df.iloc[i]))\n",
    "\n",
    "# plots the next image\n",
    "def plot_next(*args):\n",
    "    global i\n",
    "    i += 1\n",
    "    # stop\n",
    "    if i >= i_max: \n",
    "        print(\"Done\")\n",
    "        return\n",
    "\n",
    "    \n",
    "    # get next image index\n",
    "    img = plt.imread(f'{DATA_PATH}/{full_df.iloc[i, 0]}')\n",
    "    ax.set_data(img)\n",
    "    plt.show()\n",
    "    plt.title(f\"image: {full_df.iloc[i, 0]}\")\n",
    "    with out:\n",
    "        clear_output()\n",
    "        display(full_df.iloc[i:i+1])\n",
    "        display(calculate_scores(full_df.iloc[i]))\n",
    "\n",
    "def plot_previous(*args):\n",
    "    global i\n",
    "    i -= 1\n",
    "    # stop\n",
    "    if i < 0: \n",
    "        print(\"Done\")\n",
    "        return\n",
    "\n",
    "    \n",
    "    \n",
    "    # get next image index\n",
    "    img = plt.imread(f'{DATA_PATH}/{full_df.iloc[i, 0]}')\n",
    "    ax.set_data(img)\n",
    "    plt.show()\n",
    "    plt.title(f\"image: {full_df.iloc[i, 0]}\")\n",
    "\n",
    "    with out:\n",
    "        clear_output()\n",
    "        display(full_df.iloc[i:i+1])\n",
    "        display(calculate_scores(full_df.iloc[i]))\n",
    "    \n",
    "    \n",
    "# attaching the buttons to their callback functions         \n",
    "right.on_click(plot_next)\n",
    "left.on_click(plot_previous)\n",
    "\n",
    "# showing the widgets\n",
    "vb1 = widgets.VBox([right, left])\n",
    "vb2 = widgets.VBox([out])\n",
    "widgets.HBox([vb1, vb2])"
   ]
  },
  {
   "cell_type": "code",
   "execution_count": null,
   "metadata": {},
   "outputs": [],
   "source": []
  }
 ],
 "metadata": {
  "kernelspec": {
   "display_name": "Python 3",
   "language": "python",
   "name": "python3"
  },
  "language_info": {
   "codemirror_mode": {
    "name": "ipython",
    "version": 3
   },
   "file_extension": ".py",
   "mimetype": "text/x-python",
   "name": "python",
   "nbconvert_exporter": "python",
   "pygments_lexer": "ipython3",
   "version": "3.6.13"
  }
 },
 "nbformat": 4,
 "nbformat_minor": 4
}
