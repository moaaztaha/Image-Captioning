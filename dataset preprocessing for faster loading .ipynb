{
 "cells": [
  {
   "cell_type": "code",
   "execution_count": 23,
   "metadata": {},
   "outputs": [],
   "source": [
    "import pandas as pd\n",
    "import json\n",
    "from tqdm import tqdm\n",
    "from collections import Counter"
   ]
  },
  {
   "cell_type": "code",
   "execution_count": 34,
   "metadata": {},
   "outputs": [],
   "source": [
    "file_path = 'dataset_coco.json'\n",
    "with open(file_path, 'r') as f:\n",
    "    data = json.load(f)"
   ]
  },
  {
   "cell_type": "code",
   "execution_count": 35,
   "metadata": {},
   "outputs": [
    {
     "name": "stderr",
     "output_type": "stream",
     "text": [
      "100%|██████████| 123287/123287 [00:00<00:00, 246969.10it/s]\n"
     ]
    }
   ],
   "source": [
    "file_names = []\n",
    "splits = []\n",
    "captions = []\n",
    "tokens = []\n",
    "tok_len = []\n",
    "word_freq = Counter()\n",
    "max_len = 100\n",
    "\n",
    "for img in tqdm(data['images'], position=0):\n",
    "    for sent in img['sentences']:\n",
    "        file_names.append(img['filename'])\n",
    "        captions.append(sent['raw'])\n",
    "        splits.append(img['split'])\n",
    "        \n",
    "        ## tokens\n",
    "        if len(sent['tokens']) <= max_len:\n",
    "            tokens.append(sent['tokens'])\n",
    "            tok_len.append(len(sent['tokens']))"
   ]
  },
  {
   "cell_type": "code",
   "execution_count": 36,
   "metadata": {},
   "outputs": [
    {
     "data": {
      "text/plain": [
       "616767"
      ]
     },
     "execution_count": 36,
     "metadata": {},
     "output_type": "execute_result"
    }
   ],
   "source": [
    "len(tok_len)"
   ]
  },
  {
   "cell_type": "code",
   "execution_count": 37,
   "metadata": {},
   "outputs": [],
   "source": [
    "df = pd.DataFrame({\n",
    "    'file_name': file_names,\n",
    "    'split': splits,\n",
    "    'caption': captions,\n",
    "    'tok_len': tok_len,\n",
    "    'tokens': tokens\n",
    "})"
   ]
  },
  {
   "cell_type": "code",
   "execution_count": 38,
   "metadata": {},
   "outputs": [
    {
     "data": {
      "text/html": [
       "<div>\n",
       "<style scoped>\n",
       "    .dataframe tbody tr th:only-of-type {\n",
       "        vertical-align: middle;\n",
       "    }\n",
       "\n",
       "    .dataframe tbody tr th {\n",
       "        vertical-align: top;\n",
       "    }\n",
       "\n",
       "    .dataframe thead th {\n",
       "        text-align: right;\n",
       "    }\n",
       "</style>\n",
       "<table border=\"1\" class=\"dataframe\">\n",
       "  <thead>\n",
       "    <tr style=\"text-align: right;\">\n",
       "      <th></th>\n",
       "      <th>file_name</th>\n",
       "      <th>split</th>\n",
       "      <th>caption</th>\n",
       "      <th>tok_len</th>\n",
       "      <th>tokens</th>\n",
       "    </tr>\n",
       "  </thead>\n",
       "  <tbody>\n",
       "    <tr>\n",
       "      <th>0</th>\n",
       "      <td>COCO_val2014_000000391895.jpg</td>\n",
       "      <td>test</td>\n",
       "      <td>A man with a red helmet on a small moped on a ...</td>\n",
       "      <td>14</td>\n",
       "      <td>[a, man, with, a, red, helmet, on, a, small, m...</td>\n",
       "    </tr>\n",
       "    <tr>\n",
       "      <th>1</th>\n",
       "      <td>COCO_val2014_000000391895.jpg</td>\n",
       "      <td>test</td>\n",
       "      <td>Man riding a motor bike on a dirt road on the ...</td>\n",
       "      <td>12</td>\n",
       "      <td>[man, riding, a, motor, bike, on, a, dirt, roa...</td>\n",
       "    </tr>\n",
       "    <tr>\n",
       "      <th>2</th>\n",
       "      <td>COCO_val2014_000000391895.jpg</td>\n",
       "      <td>test</td>\n",
       "      <td>A man riding on the back of a motorcycle.</td>\n",
       "      <td>9</td>\n",
       "      <td>[a, man, riding, on, the, back, of, a, motorcy...</td>\n",
       "    </tr>\n",
       "    <tr>\n",
       "      <th>3</th>\n",
       "      <td>COCO_val2014_000000391895.jpg</td>\n",
       "      <td>test</td>\n",
       "      <td>A dirt path with a young person on a motor bik...</td>\n",
       "      <td>29</td>\n",
       "      <td>[a, dirt, path, with, a, young, person, on, a,...</td>\n",
       "    </tr>\n",
       "    <tr>\n",
       "      <th>4</th>\n",
       "      <td>COCO_val2014_000000391895.jpg</td>\n",
       "      <td>test</td>\n",
       "      <td>A man in a red shirt and a red hat is on a mot...</td>\n",
       "      <td>18</td>\n",
       "      <td>[a, man, in, a, red, shirt, and, a, red, hat, ...</td>\n",
       "    </tr>\n",
       "  </tbody>\n",
       "</table>\n",
       "</div>"
      ],
      "text/plain": [
       "                       file_name split  \\\n",
       "0  COCO_val2014_000000391895.jpg  test   \n",
       "1  COCO_val2014_000000391895.jpg  test   \n",
       "2  COCO_val2014_000000391895.jpg  test   \n",
       "3  COCO_val2014_000000391895.jpg  test   \n",
       "4  COCO_val2014_000000391895.jpg  test   \n",
       "\n",
       "                                             caption  tok_len  \\\n",
       "0  A man with a red helmet on a small moped on a ...       14   \n",
       "1  Man riding a motor bike on a dirt road on the ...       12   \n",
       "2          A man riding on the back of a motorcycle.        9   \n",
       "3  A dirt path with a young person on a motor bik...       29   \n",
       "4  A man in a red shirt and a red hat is on a mot...       18   \n",
       "\n",
       "                                              tokens  \n",
       "0  [a, man, with, a, red, helmet, on, a, small, m...  \n",
       "1  [man, riding, a, motor, bike, on, a, dirt, roa...  \n",
       "2  [a, man, riding, on, the, back, of, a, motorcy...  \n",
       "3  [a, dirt, path, with, a, young, person, on, a,...  \n",
       "4  [a, man, in, a, red, shirt, and, a, red, hat, ...  "
      ]
     },
     "execution_count": 38,
     "metadata": {},
     "output_type": "execute_result"
    }
   ],
   "source": [
    "df.head()"
   ]
  },
  {
   "cell_type": "code",
   "execution_count": 39,
   "metadata": {},
   "outputs": [
    {
     "data": {
      "text/plain": [
       "<AxesSubplot:>"
      ]
     },
     "execution_count": 39,
     "metadata": {},
     "output_type": "execute_result"
    },
    {
     "data": {
      "image/png": "[encoded data removed]",
      "text/plain": [
       "<Figure size 432x288 with 1 Axes>"
      ]
     },
     "metadata": {
      "needs_background": "light"
     },
     "output_type": "display_data"
    }
   ],
   "source": [
    "df.tok_len.hist()"
   ]
  },
  {
   "cell_type": "code",
   "execution_count": 40,
   "metadata": {},
   "outputs": [
    {
     "data": {
      "text/plain": [
       "49"
      ]
     },
     "execution_count": 40,
     "metadata": {},
     "output_type": "execute_result"
    }
   ],
   "source": [
    "df.tok_len.max()"
   ]
  },
  {
   "cell_type": "code",
   "execution_count": 41,
   "metadata": {},
   "outputs": [],
   "source": [
    "df.to_json(\"coco.json\")"
   ]
  },
  {
   "cell_type": "code",
   "execution_count": 52,
   "metadata": {},
   "outputs": [
    {
     "data": {
      "text/html": [
       "<div>\n",
       "<style scoped>\n",
       "    .dataframe tbody tr th:only-of-type {\n",
       "        vertical-align: middle;\n",
       "    }\n",
       "\n",
       "    .dataframe tbody tr th {\n",
       "        vertical-align: top;\n",
       "    }\n",
       "\n",
       "    .dataframe thead th {\n",
       "        text-align: right;\n",
       "    }\n",
       "</style>\n",
       "<table border=\"1\" class=\"dataframe\">\n",
       "  <thead>\n",
       "    <tr style=\"text-align: right;\">\n",
       "      <th></th>\n",
       "      <th>file_name</th>\n",
       "      <th>split</th>\n",
       "      <th>caption</th>\n",
       "      <th>tok_len</th>\n",
       "      <th>tokens</th>\n",
       "    </tr>\n",
       "  </thead>\n",
       "  <tbody>\n",
       "    <tr>\n",
       "      <th>0</th>\n",
       "      <td>1000092795.jpg</td>\n",
       "      <td>train</td>\n",
       "      <td>Two young guys with shaggy hair look at their ...</td>\n",
       "      <td>16</td>\n",
       "      <td>[two, young, guys, with, shaggy, hair, look, a...</td>\n",
       "    </tr>\n",
       "    <tr>\n",
       "      <th>1</th>\n",
       "      <td>1000092795.jpg</td>\n",
       "      <td>train</td>\n",
       "      <td>Two young, White males are outside near many b...</td>\n",
       "      <td>9</td>\n",
       "      <td>[two, young, white, males, are, outside, near,...</td>\n",
       "    </tr>\n",
       "    <tr>\n",
       "      <th>2</th>\n",
       "      <td>1000092795.jpg</td>\n",
       "      <td>train</td>\n",
       "      <td>Two men in green shirts are standing in a yard.</td>\n",
       "      <td>10</td>\n",
       "      <td>[two, men, in, green, shirts, are, standing, i...</td>\n",
       "    </tr>\n",
       "    <tr>\n",
       "      <th>3</th>\n",
       "      <td>1000092795.jpg</td>\n",
       "      <td>train</td>\n",
       "      <td>A man in a blue shirt standing in a garden.</td>\n",
       "      <td>10</td>\n",
       "      <td>[a, man, in, a, blue, shirt, standing, in, a, ...</td>\n",
       "    </tr>\n",
       "    <tr>\n",
       "      <th>4</th>\n",
       "      <td>1000092795.jpg</td>\n",
       "      <td>train</td>\n",
       "      <td>Two friends enjoy time spent together.</td>\n",
       "      <td>6</td>\n",
       "      <td>[two, friends, enjoy, time, spent, together]</td>\n",
       "    </tr>\n",
       "    <tr>\n",
       "      <th>5</th>\n",
       "      <td>10002456.jpg</td>\n",
       "      <td>train</td>\n",
       "      <td>Several men in hard hats are operating a giant...</td>\n",
       "      <td>11</td>\n",
       "      <td>[several, men, in, hard, hats, are, operating,...</td>\n",
       "    </tr>\n",
       "    <tr>\n",
       "      <th>6</th>\n",
       "      <td>10002456.jpg</td>\n",
       "      <td>train</td>\n",
       "      <td>Workers look down from up above on a piece of ...</td>\n",
       "      <td>11</td>\n",
       "      <td>[workers, look, down, from, up, above, on, a, ...</td>\n",
       "    </tr>\n",
       "    <tr>\n",
       "      <th>7</th>\n",
       "      <td>10002456.jpg</td>\n",
       "      <td>train</td>\n",
       "      <td>Two men working on a machine wearing hard hats.</td>\n",
       "      <td>9</td>\n",
       "      <td>[two, men, working, on, a, machine, wearing, h...</td>\n",
       "    </tr>\n",
       "    <tr>\n",
       "      <th>8</th>\n",
       "      <td>10002456.jpg</td>\n",
       "      <td>train</td>\n",
       "      <td>Four men on top of a tall structure.</td>\n",
       "      <td>8</td>\n",
       "      <td>[four, men, on, top, of, a, tall, structure]</td>\n",
       "    </tr>\n",
       "    <tr>\n",
       "      <th>9</th>\n",
       "      <td>10002456.jpg</td>\n",
       "      <td>train</td>\n",
       "      <td>Three men on a large rig.</td>\n",
       "      <td>6</td>\n",
       "      <td>[three, men, on, a, large, rig]</td>\n",
       "    </tr>\n",
       "  </tbody>\n",
       "</table>\n",
       "</div>"
      ],
      "text/plain": [
       "        file_name  split                                            caption  \\\n",
       "0  1000092795.jpg  train  Two young guys with shaggy hair look at their ...   \n",
       "1  1000092795.jpg  train  Two young, White males are outside near many b...   \n",
       "2  1000092795.jpg  train    Two men in green shirts are standing in a yard.   \n",
       "3  1000092795.jpg  train        A man in a blue shirt standing in a garden.   \n",
       "4  1000092795.jpg  train             Two friends enjoy time spent together.   \n",
       "5    10002456.jpg  train  Several men in hard hats are operating a giant...   \n",
       "6    10002456.jpg  train  Workers look down from up above on a piece of ...   \n",
       "7    10002456.jpg  train    Two men working on a machine wearing hard hats.   \n",
       "8    10002456.jpg  train               Four men on top of a tall structure.   \n",
       "9    10002456.jpg  train                          Three men on a large rig.   \n",
       "\n",
       "   tok_len                                             tokens  \n",
       "0       16  [two, young, guys, with, shaggy, hair, look, a...  \n",
       "1        9  [two, young, white, males, are, outside, near,...  \n",
       "2       10  [two, men, in, green, shirts, are, standing, i...  \n",
       "3       10  [a, man, in, a, blue, shirt, standing, in, a, ...  \n",
       "4        6       [two, friends, enjoy, time, spent, together]  \n",
       "5       11  [several, men, in, hard, hats, are, operating,...  \n",
       "6       11  [workers, look, down, from, up, above, on, a, ...  \n",
       "7        9  [two, men, working, on, a, machine, wearing, h...  \n",
       "8        8       [four, men, on, top, of, a, tall, structure]  \n",
       "9        6                    [three, men, on, a, large, rig]  "
      ]
     },
     "execution_count": 52,
     "metadata": {},
     "output_type": "execute_result"
    }
   ],
   "source": [
    "df = pd.read_json(\"data30.json\")\n",
    "df.head(10)"
   ]
  },
  {
   "cell_type": "code",
   "execution_count": 53,
   "metadata": {},
   "outputs": [
    {
     "data": {
      "text/plain": [
       "(78, 2)"
      ]
     },
     "execution_count": 53,
     "metadata": {},
     "output_type": "execute_result"
    }
   ],
   "source": [
    "df.tok_len.max(), df.tok_len.min()"
   ]
  },
  {
   "cell_type": "code",
   "execution_count": 54,
   "metadata": {},
   "outputs": [
    {
     "data": {
      "text/plain": [
       "<AxesSubplot:>"
      ]
     },
     "execution_count": 54,
     "metadata": {},
     "output_type": "execute_result"
    },
    {
     "data": {
      "image/png": "[encoded data removed]",
      "text/plain": [
       "<Figure size 432x288 with 1 Axes>"
      ]
     },
     "metadata": {
      "needs_background": "light"
     },
     "output_type": "display_data"
    }
   ],
   "source": [
    "df.tok_len.hist()"
   ]
  },
  {
   "cell_type": "code",
   "execution_count": 55,
   "metadata": {},
   "outputs": [
    {
     "data": {
      "text/plain": [
       "'Two young guys with shaggy hair look at their hands while hanging out in the yard.'"
      ]
     },
     "execution_count": 55,
     "metadata": {},
     "output_type": "execute_result"
    }
   ],
   "source": [
    "df.iloc[0,:]['caption']"
   ]
  },
  {
   "cell_type": "code",
   "execution_count": 56,
   "metadata": {},
   "outputs": [
    {
     "data": {
      "text/plain": [
       "['two',\n",
       " 'young',\n",
       " 'guys',\n",
       " 'with',\n",
       " 'shaggy',\n",
       " 'hair',\n",
       " 'look',\n",
       " 'at',\n",
       " 'their',\n",
       " 'hands',\n",
       " 'while',\n",
       " 'hanging',\n",
       " 'out',\n",
       " 'in',\n",
       " 'the',\n",
       " 'yard']"
      ]
     },
     "execution_count": 56,
     "metadata": {},
     "output_type": "execute_result"
    }
   ],
   "source": [
    "df.iloc[0,:]['tokens']"
   ]
  },
  {
   "cell_type": "code",
   "execution_count": 13,
   "metadata": {},
   "outputs": [
    {
     "name": "stderr",
     "output_type": "stream",
     "text": [
      "100%|██████████| 145000/145000 [00:00<00:00, 323220.39it/s]\n"
     ]
    },
    {
     "data": {
      "text/plain": [
       "<dataset.Vocabulary at 0x7f290542d9d0>"
      ]
     },
     "execution_count": 13,
     "metadata": {},
     "output_type": "execute_result"
    }
   ],
   "source": [
    "build_vocab('data30.json')"
   ]
  }
 ],
 "metadata": {
  "kernelspec": {
   "display_name": "Python 3",
   "language": "python",
   "name": "python3"
  },
  "language_info": {
   "codemirror_mode": {
    "name": "ipython",
    "version": 3
   },
   "file_extension": ".py",
   "mimetype": "text/x-python",
   "name": "python",
   "nbconvert_exporter": "python",
   "pygments_lexer": "ipython3",
   "version": "3.7.9"
  }
 },
 "nbformat": 4,
 "nbformat_minor": 4
}
