{
 "cells": [
  {
   "cell_type": "code",
   "execution_count": 1,
   "metadata": {},
   "outputs": [],
   "source": [
    "%reload_ext autoreload\n",
    "%autoreload 2\n",
    "%matplotlib inline"
   ]
  },
  {
   "cell_type": "code",
   "execution_count": 2,
   "metadata": {},
   "outputs": [],
   "source": [
    "py_files_path = '../'\n",
    "import sys\n",
    "sys.path.append(py_files_path)"
   ]
  },
  {
   "cell_type": "code",
   "execution_count": 3,
   "metadata": {},
   "outputs": [],
   "source": [
    "import time \n",
    "import torch.backends.cudnn as cudnn\n",
    "import torch.optim\n",
    "import torch.utils.data\n",
    "import torchvision.transforms as transforms\n",
    "from torch import nn\n",
    "from torch.nn.utils.rnn import pack_padded_sequence\n",
    "from models import Encoder, DecoderWithAttention\n",
    "from dataset import *\n",
    "from utils import *\n",
    "from utils import adjust_learning_rate\n",
    "from train import fit\n",
    "from nltk.translate.bleu_score import corpus_bleu"
   ]
  },
  {
   "cell_type": "code",
   "execution_count": 4,
   "metadata": {},
   "outputs": [],
   "source": [
    "# Model parameters\n",
    "encoder_dim = 512\n",
    "emb_dim = 256  # dimension of word embeddings\n",
    "attention_dim = 256  # dimension of attention linear layers\n",
    "decoder_dim = 256  # dimension of decoder RNN\n",
    "dropout = 0.5\n",
    "device = torch.device(\"cuda\" if torch.cuda.is_available() else \"cpu\")  # sets device for model and PyTorch tensors\n",
    "cudnn.benchmark = True  # set to true only if inputs to model are fixed size; otherwise lot of computational overhead\n",
    "\n",
    "# training parameters\n",
    "epochs = 10  # number of epochs to train for (if early stopping is not triggered)\n",
    "batch_size = 64\n",
    "workers = 4\n",
    "encoder_lr = 1e-4  # learning rate for encoder if fine-tuning\n",
    "decoder_lr = 4e-4  # learning rate for decoder\n",
    "fine_tune_encoder = False  # fine-tune encoder?\n",
    "checkpoint = None  # path to checkpoint, None if none"
   ]
  },
  {
   "cell_type": "code",
   "execution_count": 5,
   "metadata": {},
   "outputs": [
    {
     "name": "stderr",
     "output_type": "stream",
     "text": [
      "100%|██████████| 30000/30000 [00:00<00:00, 355924.06it/s]\n"
     ]
    }
   ],
   "source": [
    "# load vocab\n",
    "vocab = build_vocab('../data.json')"
   ]
  },
  {
   "cell_type": "code",
   "execution_count": 6,
   "metadata": {},
   "outputs": [
    {
     "data": {
      "text/plain": [
       "4451"
      ]
     },
     "execution_count": 6,
     "metadata": {},
     "output_type": "execute_result"
    }
   ],
   "source": [
    "len(vocab)"
   ]
  },
  {
   "cell_type": "code",
   "execution_count": 9,
   "metadata": {},
   "outputs": [
    {
     "name": "stdout",
     "output_type": "stream",
     "text": [
      "Loading Data\n",
      "Dataset split: train\n",
      "Unique images: 6000\n",
      "Total size: 30000\n",
      "Dataset split: val\n",
      "Unique images: 1000\n",
      "Total size: 5000\n",
      "__________________________________________________\n",
      "-------------------- Fitting --------------------\n",
      "Epoch: [0][0/469]\tBatch Time 1.247 (1.247)\tData Load Time 0.908 (0.908)\tLoss 9.3561 (9.3561)\tTop-5 Accuracy 0.000 (0.000)\n",
      "Epoch: [0][100/469]\tBatch Time 0.298 (0.318)\tData Load Time 0.000 (0.009)\tLoss 6.0188 (6.6589)\tTop-5 Accuracy 35.126 (29.721)\n",
      "Epoch: [0][200/469]\tBatch Time 0.265 (0.314)\tData Load Time 0.000 (0.005)\tLoss 5.3723 (6.2308)\tTop-5 Accuracy 44.607 (33.889)\n",
      "Epoch: [0][300/469]\tBatch Time 0.311 (0.313)\tData Load Time 0.000 (0.003)\tLoss 5.4370 (5.9596)\tTop-5 Accuracy 45.771 (37.649)\n",
      "Epoch: [0][400/469]\tBatch Time 0.299 (0.313)\tData Load Time 0.000 (0.002)\tLoss 5.1125 (5.7697)\tTop-5 Accuracy 50.083 (40.444)\n",
      "Validation: [0/79]\tBatch Time 1.375 (1.375)\tLoss 5.4618 (5.4618)\tTop-5 Accuracy 48.590 (48.590)\t\n",
      "\n",
      " * LOSS - 5.756, TOP-5 ACCURACY - 46.976, BLEU-4 - 0.004241447352154385\n",
      "\n",
      "Epoch: [1][0/469]\tBatch Time 1.351 (1.351)\tData Load Time 1.013 (1.013)\tLoss 5.1428 (5.1428)\tTop-5 Accuracy 50.912 (50.912)\n",
      "Epoch: [1][100/469]\tBatch Time 0.327 (0.327)\tData Load Time 0.000 (0.010)\tLoss 4.8986 (4.8919)\tTop-5 Accuracy 53.869 (52.969)\n",
      "Epoch: [1][200/469]\tBatch Time 0.307 (0.321)\tData Load Time 0.000 (0.005)\tLoss 4.7882 (4.8434)\tTop-5 Accuracy 55.954 (53.638)\n",
      "Epoch: [1][300/469]\tBatch Time 0.337 (0.319)\tData Load Time 0.000 (0.004)\tLoss 4.6135 (4.8027)\tTop-5 Accuracy 55.640 (54.139)\n",
      "Epoch: [1][400/469]\tBatch Time 0.282 (0.318)\tData Load Time 0.000 (0.003)\tLoss 4.4625 (4.7698)\tTop-5 Accuracy 58.833 (54.588)\n",
      "Validation: [0/79]\tBatch Time 1.292 (1.292)\tLoss 5.6769 (5.6769)\tTop-5 Accuracy 51.935 (51.935)\t\n",
      "\n",
      " * LOSS - 5.550, TOP-5 ACCURACY - 51.555, BLEU-4 - 0.005317208066292184\n",
      "\n",
      "Epoch: [2][0/469]\tBatch Time 1.276 (1.276)\tData Load Time 0.937 (0.937)\tLoss 4.5620 (4.5620)\tTop-5 Accuracy 57.240 (57.240)\n",
      "Epoch: [2][100/469]\tBatch Time 0.280 (0.326)\tData Load Time 0.000 (0.009)\tLoss 4.6829 (4.5289)\tTop-5 Accuracy 54.045 (57.704)\n",
      "Epoch: [2][200/469]\tBatch Time 0.332 (0.321)\tData Load Time 0.000 (0.005)\tLoss 4.5107 (4.5019)\tTop-5 Accuracy 56.462 (58.061)\n",
      "Epoch: [2][300/469]\tBatch Time 0.301 (0.320)\tData Load Time 0.000 (0.003)\tLoss 4.3927 (4.4849)\tTop-5 Accuracy 59.464 (58.265)\n",
      "Epoch: [2][400/469]\tBatch Time 0.327 (0.319)\tData Load Time 0.000 (0.002)\tLoss 4.4370 (4.4716)\tTop-5 Accuracy 59.882 (58.404)\n",
      "Validation: [0/79]\tBatch Time 1.312 (1.312)\tLoss 5.1057 (5.1057)\tTop-5 Accuracy 55.699 (55.699)\t\n",
      "\n",
      " * LOSS - 5.454, TOP-5 ACCURACY - 53.651, BLEU-4 - 0.005965172239785585\n",
      "\n",
      "Epoch: [3][0/469]\tBatch Time 1.306 (1.306)\tData Load Time 0.982 (0.982)\tLoss 4.4329 (4.4329)\tTop-5 Accuracy 57.621 (57.621)\n",
      "Epoch: [3][100/469]\tBatch Time 0.319 (0.325)\tData Load Time 0.000 (0.010)\tLoss 4.3453 (4.3333)\tTop-5 Accuracy 60.177 (60.092)\n",
      "Epoch: [3][200/469]\tBatch Time 0.311 (0.320)\tData Load Time 0.000 (0.005)\tLoss 4.0563 (4.3090)\tTop-5 Accuracy 63.898 (60.371)\n",
      "Epoch: [3][300/469]\tBatch Time 0.302 (0.319)\tData Load Time 0.000 (0.003)\tLoss 4.1149 (4.2943)\tTop-5 Accuracy 63.811 (60.542)\n",
      "Epoch: [3][400/469]\tBatch Time 0.288 (0.318)\tData Load Time 0.000 (0.003)\tLoss 4.1947 (4.2877)\tTop-5 Accuracy 62.239 (60.598)\n",
      "Validation: [0/79]\tBatch Time 1.256 (1.256)\tLoss 4.9321 (4.9321)\tTop-5 Accuracy 56.260 (56.260)\t\n",
      "\n",
      " * LOSS - 5.428, TOP-5 ACCURACY - 54.851, BLEU-4 - 0.0061185470233367425\n",
      "\n",
      "Epoch: [4][0/469]\tBatch Time 1.194 (1.194)\tData Load Time 0.840 (0.840)\tLoss 4.0529 (4.0529)\tTop-5 Accuracy 64.499 (64.499)\n",
      "Epoch: [4][100/469]\tBatch Time 0.303 (0.324)\tData Load Time 0.000 (0.008)\tLoss 4.0654 (4.1923)\tTop-5 Accuracy 61.197 (61.759)\n",
      "Epoch: [4][200/469]\tBatch Time 0.290 (0.320)\tData Load Time 0.000 (0.004)\tLoss 4.3456 (4.1772)\tTop-5 Accuracy 59.969 (62.035)\n",
      "Epoch: [4][300/469]\tBatch Time 0.350 (0.319)\tData Load Time 0.000 (0.003)\tLoss 4.1521 (4.1585)\tTop-5 Accuracy 61.481 (62.338)\n",
      "Epoch: [4][400/469]\tBatch Time 0.323 (0.318)\tData Load Time 0.000 (0.002)\tLoss 4.0341 (4.1501)\tTop-5 Accuracy 64.364 (62.482)\n",
      "Validation: [0/79]\tBatch Time 1.436 (1.436)\tLoss 5.1610 (5.1610)\tTop-5 Accuracy 57.311 (57.311)\t\n",
      "\n",
      " * LOSS - 5.387, TOP-5 ACCURACY - 55.652, BLEU-4 - 0.006321249111936633\n",
      "\n",
      "Epoch: [5][0/469]\tBatch Time 1.253 (1.253)\tData Load Time 0.878 (0.878)\tLoss 4.0187 (4.0187)\tTop-5 Accuracy 62.426 (62.426)\n",
      "Epoch: [5][100/469]\tBatch Time 0.290 (0.325)\tData Load Time 0.000 (0.009)\tLoss 3.9525 (4.0388)\tTop-5 Accuracy 64.330 (63.674)\n",
      "Epoch: [5][200/469]\tBatch Time 0.321 (0.320)\tData Load Time 0.000 (0.005)\tLoss 3.7879 (4.0413)\tTop-5 Accuracy 67.700 (63.616)\n",
      "Epoch: [5][300/469]\tBatch Time 0.320 (0.319)\tData Load Time 0.000 (0.003)\tLoss 4.1533 (4.0463)\tTop-5 Accuracy 62.560 (63.699)\n",
      "Epoch: [5][400/469]\tBatch Time 0.303 (0.319)\tData Load Time 0.000 (0.002)\tLoss 3.9015 (4.0415)\tTop-5 Accuracy 64.226 (63.779)\n",
      "Validation: [0/79]\tBatch Time 1.423 (1.423)\tLoss 5.1156 (5.1156)\tTop-5 Accuracy 57.580 (57.580)\t\n",
      "\n",
      " * LOSS - 5.382, TOP-5 ACCURACY - 56.428, BLEU-4 - 0.006485716746550509\n",
      "\n",
      "Epoch: [6][0/469]\tBatch Time 1.266 (1.266)\tData Load Time 0.916 (0.916)\tLoss 3.7082 (3.7082)\tTop-5 Accuracy 66.312 (66.312)\n",
      "Epoch: [6][100/469]\tBatch Time 0.326 (0.326)\tData Load Time 0.000 (0.009)\tLoss 3.9830 (3.9496)\tTop-5 Accuracy 62.013 (64.794)\n",
      "Epoch: [6][200/469]\tBatch Time 0.307 (0.320)\tData Load Time 0.000 (0.005)\tLoss 3.9739 (3.9602)\tTop-5 Accuracy 63.810 (64.717)\n",
      "Epoch: [6][300/469]\tBatch Time 0.301 (0.319)\tData Load Time 0.000 (0.003)\tLoss 3.9611 (3.9543)\tTop-5 Accuracy 63.715 (64.886)\n",
      "Epoch: [6][400/469]\tBatch Time 0.301 (0.319)\tData Load Time 0.000 (0.002)\tLoss 4.0221 (3.9498)\tTop-5 Accuracy 63.528 (64.960)\n",
      "Validation: [0/79]\tBatch Time 1.353 (1.353)\tLoss 5.0368 (5.0368)\tTop-5 Accuracy 61.774 (61.774)\t\n",
      "\n",
      " * LOSS - 5.407, TOP-5 ACCURACY - 56.898, BLEU-4 - 0.006469798365863242\n",
      "\n",
      "\n",
      "Epochs since last improvement: (1,)\n",
      "Epoch: [7][0/469]\tBatch Time 1.305 (1.305)\tData Load Time 0.940 (0.940)\tLoss 3.8485 (3.8485)\tTop-5 Accuracy 64.800 (64.800)\n",
      "Epoch: [7][100/469]\tBatch Time 0.301 (0.327)\tData Load Time 0.000 (0.009)\tLoss 3.8270 (3.8685)\tTop-5 Accuracy 67.288 (65.875)\n",
      "Epoch: [7][200/469]\tBatch Time 0.310 (0.322)\tData Load Time 0.000 (0.005)\tLoss 3.8726 (3.8679)\tTop-5 Accuracy 64.874 (65.982)\n",
      "Epoch: [7][300/469]\tBatch Time 0.299 (0.319)\tData Load Time 0.000 (0.003)\tLoss 3.6978 (3.8735)\tTop-5 Accuracy 67.504 (65.856)\n",
      "Epoch: [7][400/469]\tBatch Time 0.309 (0.319)\tData Load Time 0.000 (0.002)\tLoss 3.8774 (3.8720)\tTop-5 Accuracy 65.878 (65.938)\n",
      "Validation: [0/79]\tBatch Time 1.283 (1.283)\tLoss 5.3224 (5.3224)\tTop-5 Accuracy 56.537 (56.537)\t\n",
      "\n",
      " * LOSS - 5.419, TOP-5 ACCURACY - 57.231, BLEU-4 - 0.006555097734925625\n",
      "\n",
      "Epoch: [8][0/469]\tBatch Time 1.272 (1.272)\tData Load Time 0.903 (0.903)\tLoss 3.6314 (3.6314)\tTop-5 Accuracy 68.960 (68.960)\n",
      "Epoch: [8][100/469]\tBatch Time 0.270 (0.324)\tData Load Time 0.000 (0.009)\tLoss 3.7823 (3.8141)\tTop-5 Accuracy 67.179 (66.522)\n",
      "Epoch: [8][200/469]\tBatch Time 0.302 (0.321)\tData Load Time 0.000 (0.005)\tLoss 3.7258 (3.8016)\tTop-5 Accuracy 67.374 (66.781)\n",
      "Epoch: [8][300/469]\tBatch Time 0.396 (0.320)\tData Load Time 0.000 (0.003)\tLoss 4.2249 (3.8072)\tTop-5 Accuracy 60.323 (66.698)\n",
      "Epoch: [8][400/469]\tBatch Time 0.312 (0.319)\tData Load Time 0.000 (0.002)\tLoss 3.8873 (3.8069)\tTop-5 Accuracy 66.667 (66.728)\n",
      "Validation: [0/79]\tBatch Time 1.344 (1.344)\tLoss 5.5281 (5.5281)\tTop-5 Accuracy 58.111 (58.111)\t\n",
      "\n",
      " * LOSS - 5.430, TOP-5 ACCURACY - 57.454, BLEU-4 - 0.006656018870708248\n",
      "\n",
      "Epoch: [9][0/469]\tBatch Time 1.286 (1.286)\tData Load Time 0.975 (0.975)\tLoss 3.7751 (3.7751)\tTop-5 Accuracy 68.536 (68.536)\n",
      "Epoch: [9][100/469]\tBatch Time 0.354 (0.326)\tData Load Time 0.000 (0.010)\tLoss 3.8385 (3.7316)\tTop-5 Accuracy 65.438 (67.871)\n",
      "Epoch: [9][200/469]\tBatch Time 0.330 (0.321)\tData Load Time 0.000 (0.005)\tLoss 3.8226 (3.7286)\tTop-5 Accuracy 65.700 (67.896)\n",
      "Epoch: [9][300/469]\tBatch Time 0.359 (0.320)\tData Load Time 0.000 (0.003)\tLoss 3.7230 (3.7330)\tTop-5 Accuracy 66.821 (67.795)\n",
      "Epoch: [9][400/469]\tBatch Time 0.305 (0.319)\tData Load Time 0.000 (0.003)\tLoss 3.5679 (3.7333)\tTop-5 Accuracy 70.567 (67.776)\n",
      "Validation: [0/79]\tBatch Time 1.331 (1.331)\tLoss 4.7275 (4.7275)\tTop-5 Accuracy 64.495 (64.495)\t\n",
      "\n",
      " * LOSS - 5.434, TOP-5 ACCURACY - 57.598, BLEU-4 - 0.006665910891130466\n",
      "\n"
     ]
    }
   ],
   "source": [
    "t_params = {\n",
    "    'data_name': 'flickr8k_5_cap_per_img_2_min_word_freq',\n",
    "    'imgs_path': '../flickr/Images/',\n",
    "    'df_path': '../data.json',\n",
    "    'vocab': vocab,\n",
    "    'epochs': epochs,\n",
    "    'batch_size': batch_size,\n",
    "    'workers': workers,\n",
    "    'decoder_lr': decoder_lr,\n",
    "    'encoder_lr': encoder_lr,\n",
    "    'fine_tune_encoder': fine_tune_encoder\n",
    "}\n",
    "\n",
    "m_params = {\n",
    "    'attention_dim': attention_dim,\n",
    "    'embed_dim': emb_dim,\n",
    "    'decoder_dim': decoder_dim,\n",
    "    'encoder_dim': encoder_dim,\n",
    "    'dropout': dropout\n",
    "}\n",
    "\n",
    "epochs=100\n",
    "fit(t_params=t_params, m_params=m_params)"
   ]
  },
  {
   "cell_type": "code",
   "execution_count": null,
   "metadata": {},
   "outputs": [],
   "source": []
  }
 ],
 "metadata": {
  "kernelspec": {
   "display_name": "Python 3",
   "language": "python",
   "name": "python3"
  },
  "language_info": {
   "codemirror_mode": {
    "name": "ipython",
    "version": 3
   },
   "file_extension": ".py",
   "mimetype": "text/x-python",
   "name": "python",
   "nbconvert_exporter": "python",
   "pygments_lexer": "ipython3",
   "version": "3.7.6"
  }
 },
 "nbformat": 4,
 "nbformat_minor": 4
}
