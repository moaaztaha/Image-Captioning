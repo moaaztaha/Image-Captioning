{
 "cells": [
  {
   "cell_type": "code",
   "execution_count": 1,
   "metadata": {},
   "outputs": [],
   "source": [
    "py_files_path = '../'\n",
    "import sys\n",
    "sys.path.append(py_files_path)"
   ]
  },
  {
   "cell_type": "code",
   "execution_count": 14,
   "metadata": {},
   "outputs": [],
   "source": [
    "import pandas as pd\n",
    "import json\n",
    "from tqdm import tqdm\n",
    "from collections import Counter\n",
    "\n",
    "from datasets import build_vocab"
   ]
  },
  {
   "cell_type": "code",
   "execution_count": 15,
   "metadata": {},
   "outputs": [],
   "source": [
    "file_path = '../dataset_flickr8k.json'\n",
    "with open(file_path, 'r') as f:\n",
    "    data = json.load(f)"
   ]
  },
  {
   "cell_type": "code",
   "execution_count": 16,
   "metadata": {},
   "outputs": [
    {
     "data": {
      "text/html": [
       "<div>\n",
       "<style scoped>\n",
       "    .dataframe tbody tr th:only-of-type {\n",
       "        vertical-align: middle;\n",
       "    }\n",
       "\n",
       "    .dataframe tbody tr th {\n",
       "        vertical-align: top;\n",
       "    }\n",
       "\n",
       "    .dataframe thead th {\n",
       "        text-align: right;\n",
       "    }\n",
       "</style>\n",
       "<table border=\"1\" class=\"dataframe\">\n",
       "  <thead>\n",
       "    <tr style=\"text-align: right;\">\n",
       "      <th></th>\n",
       "      <th>file_name</th>\n",
       "      <th>split</th>\n",
       "      <th>caption</th>\n",
       "    </tr>\n",
       "  </thead>\n",
       "  <tbody>\n",
       "    <tr>\n",
       "      <th>0</th>\n",
       "      <td>2513260012_03d33305cf.jpg</td>\n",
       "      <td>train</td>\n",
       "      <td>A black dog is running after a white dog in th...</td>\n",
       "    </tr>\n",
       "    <tr>\n",
       "      <th>1</th>\n",
       "      <td>2513260012_03d33305cf.jpg</td>\n",
       "      <td>train</td>\n",
       "      <td>Black dog chasing brown dog through snow</td>\n",
       "    </tr>\n",
       "    <tr>\n",
       "      <th>2</th>\n",
       "      <td>2513260012_03d33305cf.jpg</td>\n",
       "      <td>train</td>\n",
       "      <td>Two dogs chase each other across the snowy gro...</td>\n",
       "    </tr>\n",
       "    <tr>\n",
       "      <th>3</th>\n",
       "      <td>2513260012_03d33305cf.jpg</td>\n",
       "      <td>train</td>\n",
       "      <td>Two dogs play together in the snow .</td>\n",
       "    </tr>\n",
       "    <tr>\n",
       "      <th>4</th>\n",
       "      <td>2513260012_03d33305cf.jpg</td>\n",
       "      <td>train</td>\n",
       "      <td>Two dogs running through a low lying body of w...</td>\n",
       "    </tr>\n",
       "  </tbody>\n",
       "</table>\n",
       "</div>"
      ],
      "text/plain": [
       "                   file_name  split  \\\n",
       "0  2513260012_03d33305cf.jpg  train   \n",
       "1  2513260012_03d33305cf.jpg  train   \n",
       "2  2513260012_03d33305cf.jpg  train   \n",
       "3  2513260012_03d33305cf.jpg  train   \n",
       "4  2513260012_03d33305cf.jpg  train   \n",
       "\n",
       "                                             caption  \n",
       "0  A black dog is running after a white dog in th...  \n",
       "1           Black dog chasing brown dog through snow  \n",
       "2  Two dogs chase each other across the snowy gro...  \n",
       "3               Two dogs play together in the snow .  \n",
       "4  Two dogs running through a low lying body of w...  "
      ]
     },
     "execution_count": 16,
     "metadata": {},
     "output_type": "execute_result"
    }
   ],
   "source": [
    "df = pd.read_csv(\"../data.csv\")\n",
    "df.head()"
   ]
  },
  {
   "cell_type": "code",
   "execution_count": 17,
   "metadata": {},
   "outputs": [],
   "source": [
    "vocab = build_vocab('../data.csv')"
   ]
  },
  {
   "cell_type": "code",
   "execution_count": 18,
   "metadata": {},
   "outputs": [],
   "source": [
    "capt = df['caption'][0]"
   ]
  },
  {
   "cell_type": "code",
   "execution_count": 19,
   "metadata": {
    "scrolled": true
   },
   "outputs": [
    {
     "data": {
      "text/plain": [
       "['a',\n",
       " 'black',\n",
       " 'dog',\n",
       " 'is',\n",
       " 'running',\n",
       " 'after',\n",
       " 'a',\n",
       " 'white',\n",
       " 'dog',\n",
       " 'in',\n",
       " 'the',\n",
       " 'snow',\n",
       " '.']"
      ]
     },
     "execution_count": 19,
     "metadata": {},
     "output_type": "execute_result"
    }
   ],
   "source": [
    "vocab.tokenize_en(capt)"
   ]
  },
  {
   "cell_type": "code",
   "execution_count": 37,
   "metadata": {},
   "outputs": [
    {
     "name": "stderr",
     "output_type": "stream",
     "text": [
      "100%|██████████| 8000/8000 [00:00<00:00, 167735.26it/s]\n"
     ]
    }
   ],
   "source": [
    "file_names = []\n",
    "splits = []\n",
    "captions = []\n",
    "tokens = []\n",
    "tok_len = []\n",
    "word_freq = Counter()\n",
    "max_len = 100\n",
    "\n",
    "for img in tqdm(data['images'], position=0):\n",
    "    for sent in img['sentences']:\n",
    "        file_names.append(img['filename'])\n",
    "        captions.append(sent['raw'])\n",
    "        splits.append(img['split'])\n",
    "        \n",
    "        ## tokens\n",
    "        if len(sent['tokens']) <= max_len:\n",
    "            tokens.append(sent['tokens'])\n",
    "            tok_len.append(len(sent['tokens']))"
   ]
  },
  {
   "cell_type": "code",
   "execution_count": 38,
   "metadata": {},
   "outputs": [],
   "source": [
    "df = pd.DataFrame({\n",
    "    'file_name': file_names,\n",
    "    'split': splits,\n",
    "    'caption': captions,\n",
    "    'tok_len': tok_len,\n",
    "    'tokens': tokens\n",
    "})"
   ]
  },
  {
   "cell_type": "code",
   "execution_count": 39,
   "metadata": {},
   "outputs": [
    {
     "data": {
      "text/html": [
       "<div>\n",
       "<style scoped>\n",
       "    .dataframe tbody tr th:only-of-type {\n",
       "        vertical-align: middle;\n",
       "    }\n",
       "\n",
       "    .dataframe tbody tr th {\n",
       "        vertical-align: top;\n",
       "    }\n",
       "\n",
       "    .dataframe thead th {\n",
       "        text-align: right;\n",
       "    }\n",
       "</style>\n",
       "<table border=\"1\" class=\"dataframe\">\n",
       "  <thead>\n",
       "    <tr style=\"text-align: right;\">\n",
       "      <th></th>\n",
       "      <th>file_name</th>\n",
       "      <th>split</th>\n",
       "      <th>caption</th>\n",
       "      <th>tok_len</th>\n",
       "      <th>tokens</th>\n",
       "    </tr>\n",
       "  </thead>\n",
       "  <tbody>\n",
       "    <tr>\n",
       "      <th>0</th>\n",
       "      <td>2513260012_03d33305cf.jpg</td>\n",
       "      <td>train</td>\n",
       "      <td>A black dog is running after a white dog in th...</td>\n",
       "      <td>12</td>\n",
       "      <td>[a, black, dog, is, running, after, a, white, ...</td>\n",
       "    </tr>\n",
       "    <tr>\n",
       "      <th>1</th>\n",
       "      <td>2513260012_03d33305cf.jpg</td>\n",
       "      <td>train</td>\n",
       "      <td>Black dog chasing brown dog through snow</td>\n",
       "      <td>7</td>\n",
       "      <td>[black, dog, chasing, brown, dog, through, snow]</td>\n",
       "    </tr>\n",
       "    <tr>\n",
       "      <th>2</th>\n",
       "      <td>2513260012_03d33305cf.jpg</td>\n",
       "      <td>train</td>\n",
       "      <td>Two dogs chase each other across the snowy gro...</td>\n",
       "      <td>9</td>\n",
       "      <td>[two, dogs, chase, each, other, across, the, s...</td>\n",
       "    </tr>\n",
       "    <tr>\n",
       "      <th>3</th>\n",
       "      <td>2513260012_03d33305cf.jpg</td>\n",
       "      <td>train</td>\n",
       "      <td>Two dogs play together in the snow .</td>\n",
       "      <td>7</td>\n",
       "      <td>[two, dogs, play, together, in, the, snow]</td>\n",
       "    </tr>\n",
       "    <tr>\n",
       "      <th>4</th>\n",
       "      <td>2513260012_03d33305cf.jpg</td>\n",
       "      <td>train</td>\n",
       "      <td>Two dogs running through a low lying body of w...</td>\n",
       "      <td>10</td>\n",
       "      <td>[two, dogs, running, through, a, low, lying, b...</td>\n",
       "    </tr>\n",
       "  </tbody>\n",
       "</table>\n",
       "</div>"
      ],
      "text/plain": [
       "                   file_name  split  \\\n",
       "0  2513260012_03d33305cf.jpg  train   \n",
       "1  2513260012_03d33305cf.jpg  train   \n",
       "2  2513260012_03d33305cf.jpg  train   \n",
       "3  2513260012_03d33305cf.jpg  train   \n",
       "4  2513260012_03d33305cf.jpg  train   \n",
       "\n",
       "                                             caption  tok_len  \\\n",
       "0  A black dog is running after a white dog in th...       12   \n",
       "1           Black dog chasing brown dog through snow        7   \n",
       "2  Two dogs chase each other across the snowy gro...        9   \n",
       "3               Two dogs play together in the snow .        7   \n",
       "4  Two dogs running through a low lying body of w...       10   \n",
       "\n",
       "                                              tokens  \n",
       "0  [a, black, dog, is, running, after, a, white, ...  \n",
       "1   [black, dog, chasing, brown, dog, through, snow]  \n",
       "2  [two, dogs, chase, each, other, across, the, s...  \n",
       "3         [two, dogs, play, together, in, the, snow]  \n",
       "4  [two, dogs, running, through, a, low, lying, b...  "
      ]
     },
     "execution_count": 39,
     "metadata": {},
     "output_type": "execute_result"
    }
   ],
   "source": [
    "df.head()"
   ]
  },
  {
   "cell_type": "code",
   "execution_count": 40,
   "metadata": {},
   "outputs": [
    {
     "data": {
      "text/plain": [
       "<matplotlib.axes._subplots.AxesSubplot at 0x7f8658ec0f90>"
      ]
     },
     "execution_count": 40,
     "metadata": {},
     "output_type": "execute_result"
    },
    {
     "data": {
      "image/png": "[encoded data removed]",
      "text/plain": [
       "<Figure size 432x288 with 1 Axes>"
      ]
     },
     "metadata": {
      "needs_background": "light"
     },
     "output_type": "display_data"
    }
   ],
   "source": [
    "df.tok_len.hist()"
   ]
  },
  {
   "cell_type": "code",
   "execution_count": 41,
   "metadata": {},
   "outputs": [],
   "source": [
    "df.to_csv(\"../data.csv\", index=False)"
   ]
  },
  {
   "cell_type": "code",
   "execution_count": 42,
   "metadata": {},
   "outputs": [
    {
     "data": {
      "text/html": [
       "<div>\n",
       "<style scoped>\n",
       "    .dataframe tbody tr th:only-of-type {\n",
       "        vertical-align: middle;\n",
       "    }\n",
       "\n",
       "    .dataframe tbody tr th {\n",
       "        vertical-align: top;\n",
       "    }\n",
       "\n",
       "    .dataframe thead th {\n",
       "        text-align: right;\n",
       "    }\n",
       "</style>\n",
       "<table border=\"1\" class=\"dataframe\">\n",
       "  <thead>\n",
       "    <tr style=\"text-align: right;\">\n",
       "      <th></th>\n",
       "      <th>file_name</th>\n",
       "      <th>split</th>\n",
       "      <th>caption</th>\n",
       "      <th>tok_len</th>\n",
       "      <th>tokens</th>\n",
       "    </tr>\n",
       "  </thead>\n",
       "  <tbody>\n",
       "    <tr>\n",
       "      <th>0</th>\n",
       "      <td>2513260012_03d33305cf.jpg</td>\n",
       "      <td>train</td>\n",
       "      <td>A black dog is running after a white dog in th...</td>\n",
       "      <td>12</td>\n",
       "      <td>['a', 'black', 'dog', 'is', 'running', 'after'...</td>\n",
       "    </tr>\n",
       "    <tr>\n",
       "      <th>1</th>\n",
       "      <td>2513260012_03d33305cf.jpg</td>\n",
       "      <td>train</td>\n",
       "      <td>Black dog chasing brown dog through snow</td>\n",
       "      <td>7</td>\n",
       "      <td>['black', 'dog', 'chasing', 'brown', 'dog', 't...</td>\n",
       "    </tr>\n",
       "    <tr>\n",
       "      <th>2</th>\n",
       "      <td>2513260012_03d33305cf.jpg</td>\n",
       "      <td>train</td>\n",
       "      <td>Two dogs chase each other across the snowy gro...</td>\n",
       "      <td>9</td>\n",
       "      <td>['two', 'dogs', 'chase', 'each', 'other', 'acr...</td>\n",
       "    </tr>\n",
       "    <tr>\n",
       "      <th>3</th>\n",
       "      <td>2513260012_03d33305cf.jpg</td>\n",
       "      <td>train</td>\n",
       "      <td>Two dogs play together in the snow .</td>\n",
       "      <td>7</td>\n",
       "      <td>['two', 'dogs', 'play', 'together', 'in', 'the...</td>\n",
       "    </tr>\n",
       "    <tr>\n",
       "      <th>4</th>\n",
       "      <td>2513260012_03d33305cf.jpg</td>\n",
       "      <td>train</td>\n",
       "      <td>Two dogs running through a low lying body of w...</td>\n",
       "      <td>10</td>\n",
       "      <td>['two', 'dogs', 'running', 'through', 'a', 'lo...</td>\n",
       "    </tr>\n",
       "  </tbody>\n",
       "</table>\n",
       "</div>"
      ],
      "text/plain": [
       "                   file_name  split  \\\n",
       "0  2513260012_03d33305cf.jpg  train   \n",
       "1  2513260012_03d33305cf.jpg  train   \n",
       "2  2513260012_03d33305cf.jpg  train   \n",
       "3  2513260012_03d33305cf.jpg  train   \n",
       "4  2513260012_03d33305cf.jpg  train   \n",
       "\n",
       "                                             caption  tok_len  \\\n",
       "0  A black dog is running after a white dog in th...       12   \n",
       "1           Black dog chasing brown dog through snow        7   \n",
       "2  Two dogs chase each other across the snowy gro...        9   \n",
       "3               Two dogs play together in the snow .        7   \n",
       "4  Two dogs running through a low lying body of w...       10   \n",
       "\n",
       "                                              tokens  \n",
       "0  ['a', 'black', 'dog', 'is', 'running', 'after'...  \n",
       "1  ['black', 'dog', 'chasing', 'brown', 'dog', 't...  \n",
       "2  ['two', 'dogs', 'chase', 'each', 'other', 'acr...  \n",
       "3  ['two', 'dogs', 'play', 'together', 'in', 'the...  \n",
       "4  ['two', 'dogs', 'running', 'through', 'a', 'lo...  "
      ]
     },
     "execution_count": 42,
     "metadata": {},
     "output_type": "execute_result"
    }
   ],
   "source": [
    "df = pd.read_csv(\"../data.csv\")\n",
    "df.head()"
   ]
  }
 ],
 "metadata": {
  "kernelspec": {
   "display_name": "Python 3",
   "language": "python",
   "name": "python3"
  },
  "language_info": {
   "codemirror_mode": {
    "name": "ipython",
    "version": 3
   },
   "file_extension": ".py",
   "mimetype": "text/x-python",
   "name": "python",
   "nbconvert_exporter": "python",
   "pygments_lexer": "ipython3",
   "version": "3.7.6"
  }
 },
 "nbformat": 4,
 "nbformat_minor": 4
}
