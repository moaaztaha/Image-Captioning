{
  "cells": [
    {
      "cell_type": "markdown",
      "metadata": {
        "id": "view-in-github",
        "colab_type": "text"
      },
      "source": [
        "<a href=\"https://colab.research.google.com/github/moaaztaha/Image-Captioning/blob/main/skipgram_Ar_pretrained_with_old_preprocessing.ipynb\" target=\"_parent\"><img src=\"https://colab.research.google.com/assets/colab-badge.svg\" alt=\"Open In Colab\"/></a>"
      ]
    },
    {
      "cell_type": "code",
      "execution_count": 1,
      "metadata": {
        "colab": {
          "base_uri": "https://localhost:8080/"
        },
        "execution": {
          "iopub.execute_input": "2021-07-02T08:08:40.785208Z",
          "iopub.status.busy": "2021-07-02T08:08:40.784744Z",
          "iopub.status.idle": "2021-07-02T08:08:41.472198Z",
          "shell.execute_reply": "2021-07-02T08:08:41.471085Z",
          "shell.execute_reply.started": "2021-07-02T08:08:40.785118Z"
        },
        "id": "7AmLihjzYLns",
        "outputId": "85897918-709a-420b-f086-6b603ea6a9d8"
      },
      "outputs": [
        {
          "output_type": "stream",
          "name": "stdout",
          "text": [
            "Sun May 29 14:54:47 2022       \n",
            "+-----------------------------------------------------------------------------+\n",
            "| NVIDIA-SMI 460.32.03    Driver Version: 460.32.03    CUDA Version: 11.2     |\n",
            "|-------------------------------+----------------------+----------------------+\n",
            "| GPU  Name        Persistence-M| Bus-Id        Disp.A | Volatile Uncorr. ECC |\n",
            "| Fan  Temp  Perf  Pwr:Usage/Cap|         Memory-Usage | GPU-Util  Compute M. |\n",
            "|                               |                      |               MIG M. |\n",
            "|===============================+======================+======================|\n",
            "|   0  Tesla T4            Off  | 00000000:00:04.0 Off |                    0 |\n",
            "| N/A   61C    P8    10W /  70W |      0MiB / 15109MiB |      0%      Default |\n",
            "|                               |                      |                  N/A |\n",
            "+-------------------------------+----------------------+----------------------+\n",
            "                                                                               \n",
            "+-----------------------------------------------------------------------------+\n",
            "| Processes:                                                                  |\n",
            "|  GPU   GI   CI        PID   Type   Process name                  GPU Memory |\n",
            "|        ID   ID                                                   Usage      |\n",
            "|=============================================================================|\n",
            "|  No running processes found                                                 |\n",
            "+-----------------------------------------------------------------------------+\n"
          ]
        }
      ],
      "source": [
        "!nvidia-smi"
      ]
    },
    {
      "cell_type": "code",
      "execution_count": 2,
      "metadata": {
        "colab": {
          "base_uri": "https://localhost:8080/"
        },
        "id": "_V6nYIdcluzJ",
        "outputId": "13904a01-ae9e-4d43-a1e6-5cba3d81be5e"
      },
      "outputs": [
        {
          "output_type": "stream",
          "name": "stdout",
          "text": [
            "Mounted at /content/drive\n"
          ]
        }
      ],
      "source": [
        "from google.colab import drive\n",
        "drive.mount('/content/drive')"
      ]
    },
    {
      "cell_type": "code",
      "execution_count": 3,
      "metadata": {
        "colab": {
          "base_uri": "https://localhost:8080/"
        },
        "id": "UpqIAlbHmLZV",
        "outputId": "7df3fb81-2f18-41b0-8a16-c2e01a71ec27"
      },
      "outputs": [
        {
          "output_type": "stream",
          "name": "stdout",
          "text": [
            "Downloading flickr8kimagescaptions.zip to /content\n",
            " 98% 1.02G/1.04G [00:06<00:00, 139MB/s]\n",
            "100% 1.04G/1.04G [00:06<00:00, 166MB/s]\n"
          ]
        }
      ],
      "source": [
        "# setting up kaggle json\n",
        "!mkdir /root/.kaggle\n",
        "!cp /content/drive/MyDrive/kaggle.json /root/.kaggle\n",
        "!chmod 600 /root/.kaggle/kaggle.json\n",
        "\n",
        "# downloading dataset from kaggle\n",
        "!pip install kaggle -q\n",
        "!kaggle datasets download -d aladdinpersson/flickr8kimagescaptions\n",
        "!unzip -q flickr8kimagescaptions.zip"
      ]
    },
    {
      "cell_type": "code",
      "execution_count": 4,
      "metadata": {
        "colab": {
          "base_uri": "https://localhost:8080/"
        },
        "execution": {
          "iopub.execute_input": "2021-07-02T08:08:42.111882Z",
          "iopub.status.busy": "2021-07-02T08:08:42.111492Z",
          "iopub.status.idle": "2021-07-02T08:08:47.713294Z",
          "shell.execute_reply": "2021-07-02T08:08:47.712289Z",
          "shell.execute_reply.started": "2021-07-02T08:08:42.111845Z"
        },
        "id": "vCxFJ5wQYehR",
        "outputId": "51fc93e9-366c-412d-9046-8e85fe548bbc"
      },
      "outputs": [
        {
          "output_type": "stream",
          "name": "stdout",
          "text": [
            "Cloning into 'Image-Captioning'...\n",
            "remote: Enumerating objects: 785, done.\u001b[K\n",
            "remote: Counting objects: 100% (7/7), done.\u001b[K\n",
            "remote: Compressing objects: 100% (7/7), done.\u001b[K\n",
            "remote: Total 785 (delta 1), reused 5 (delta 0), pack-reused 778\u001b[K\n",
            "Receiving objects: 100% (785/785), 62.42 MiB | 18.95 MiB/s, done.\n",
            "Resolving deltas: 100% (472/472), done.\n",
            "Checking out files: 100% (143/143), done.\n"
          ]
        }
      ],
      "source": [
        "# get the code form github\n",
        "!git clone https://github.com/moaaztaha/Image-Captioning\n",
        "py_files_path = 'Image-Captioning/'\n",
        "import sys\n",
        "sys.path.append(py_files_path)"
      ]
    },
    {
      "cell_type": "code",
      "execution_count": 5,
      "metadata": {
        "execution": {
          "iopub.execute_input": "2021-07-02T08:08:47.715119Z",
          "iopub.status.busy": "2021-07-02T08:08:47.714804Z",
          "iopub.status.idle": "2021-07-02T08:08:47.759010Z",
          "shell.execute_reply": "2021-07-02T08:08:47.758232Z",
          "shell.execute_reply.started": "2021-07-02T08:08:47.715085Z"
        },
        "id": "b4366e4d"
      },
      "outputs": [],
      "source": [
        "%reload_ext autoreload\n",
        "%autoreload 2\n",
        "%matplotlib inline"
      ]
    },
    {
      "cell_type": "code",
      "execution_count": 6,
      "metadata": {
        "execution": {
          "iopub.execute_input": "2021-07-02T08:08:47.760937Z",
          "iopub.status.busy": "2021-07-02T08:08:47.760609Z",
          "iopub.status.idle": "2021-07-02T08:08:50.957077Z",
          "shell.execute_reply": "2021-07-02T08:08:50.956238Z",
          "shell.execute_reply.started": "2021-07-02T08:08:47.760902Z"
        },
        "id": "4034c69e"
      },
      "outputs": [],
      "source": [
        "import time \n",
        "import torch.backends.cudnn as cudnn\n",
        "import torch.optim\n",
        "import torch.utils.data\n",
        "import torchvision.transforms as transforms\n",
        "from torch import nn\n",
        "from torch.nn.utils.rnn import pack_padded_sequence\n",
        "from models import Encoder, DecoderWithAttention\n",
        "from dataset import *\n",
        "from utils import *\n",
        "from train import *\n",
        "from torch.utils.tensorboard import SummaryWriter\n",
        "from os import path as osp"
      ]
    },
    {
      "cell_type": "code",
      "execution_count": 7,
      "metadata": {
        "execution": {
          "iopub.execute_input": "2021-07-02T08:15:32.509464Z",
          "iopub.status.busy": "2021-07-02T08:15:32.509089Z",
          "iopub.status.idle": "2021-07-02T08:15:32.575815Z",
          "shell.execute_reply": "2021-07-02T08:15:32.574892Z",
          "shell.execute_reply.started": "2021-07-02T08:15:32.509427Z"
        },
        "id": "b8ce76f9"
      },
      "outputs": [],
      "source": [
        "# Model parameters\n",
        "encoder_dim = 2048 # resnet101\n",
        "emb_dim = 300  # dimension of word embeddings\n",
        "attention_dim = 300  # dimension of attention linear layers\n",
        "decoder_dim = 300  # dimension of decoder RNN\n",
        "dropout = 0.5\n",
        "device = torch.device(\"cuda\" if torch.cuda.is_available() else \"cpu\")  # sets device for model and PyTorch tensors\n",
        "cudnn.benchmark = True  # set to true only if inputs to model are fixed size; otherwise lot of computational overhead\n",
        "\n",
        "# training parameters\n",
        "epochs = 30  # number of epochs to train for (if early stopping is not triggered)\n",
        "batch_size = 256\n",
        "workers = 2\n",
        "encoder_lr = 1e-4  # learning rate for encoder if fine-tuning\n",
        "decoder_lr = 4e-4  # learning rate for decoder\n",
        "fine_tune_encoder = False  # fine-tune encoder?\n",
        "pretrained_embeddings = True\n",
        "fine_tune_embeddings = True\n",
        "checkpoint = None  # path to checkpoint, None if none"
      ]
    },
    {
      "cell_type": "code",
      "execution_count": 8,
      "metadata": {
        "execution": {
          "iopub.execute_input": "2021-07-02T08:15:35.354151Z",
          "iopub.status.busy": "2021-07-02T08:15:35.353793Z",
          "iopub.status.idle": "2021-07-02T08:15:35.418158Z",
          "shell.execute_reply": "2021-07-02T08:15:35.417368Z",
          "shell.execute_reply.started": "2021-07-02T08:15:35.354120Z"
        },
        "id": "d7a302e3"
      },
      "outputs": [],
      "source": [
        "DATA_NAME = 'flickr8k_skipgram_pretrained'\n",
        "\n",
        "# local\n",
        "# DATA_JSON_PATH = 'ar_data.json'\n",
        "# IMGS_PATH = 'flickr/Images/'\n",
        "# kaggle paths\n",
        "# DATA_JSON_PATH = '/kaggle/working/Image-Captioning/data.json'\n",
        "# IMGS_PATH = '../input/flickr8kimagescaptions/flickr8k/images/'\n",
        "#colab\n",
        "DATA_JSON_PATH = '/content/Image-Captioning/old_ar_data.json'\n",
        "IMGS_PATH = 'flickr8k/images/'"
      ]
    },
    {
      "cell_type": "code",
      "execution_count": 9,
      "metadata": {
        "colab": {
          "base_uri": "https://localhost:8080/"
        },
        "execution": {
          "iopub.execute_input": "2021-07-02T08:15:35.714173Z",
          "iopub.status.busy": "2021-07-02T08:15:35.713846Z",
          "iopub.status.idle": "2021-07-02T08:15:36.283325Z",
          "shell.execute_reply": "2021-07-02T08:15:36.282393Z",
          "shell.execute_reply.started": "2021-07-02T08:15:35.714136Z"
        },
        "id": "a4b1a677",
        "outputId": "edd507b2-1314-4443-dda1-63378b5d9bbf"
      },
      "outputs": [
        {
          "output_type": "stream",
          "name": "stderr",
          "text": [
            "100%|██████████| 24000/24000 [00:00<00:00, 158977.77it/s]\n"
          ]
        },
        {
          "output_type": "execute_result",
          "data": {
            "text/plain": [
              "5788"
            ]
          },
          "metadata": {},
          "execution_count": 9
        }
      ],
      "source": [
        "max_seq = 65\n",
        "vocab = build_vocab(DATA_JSON_PATH, max_seq=max_seq)\n",
        "vocab_len = len(vocab); vocab_len"
      ]
    },
    {
      "cell_type": "code",
      "execution_count": 10,
      "metadata": {
        "colab": {
          "base_uri": "https://localhost:8080/"
        },
        "execution": {
          "iopub.execute_input": "2021-07-02T08:08:54.944397Z",
          "iopub.status.busy": "2021-07-02T08:08:54.943953Z",
          "iopub.status.idle": "2021-07-02T08:08:54.991849Z",
          "shell.execute_reply": "2021-07-02T08:08:54.990814Z",
          "shell.execute_reply.started": "2021-07-02T08:08:54.944344Z"
        },
        "id": "ff6df2d0",
        "outputId": "5d72f4d4-7b8f-46ce-8eca-38321d203126"
      },
      "outputs": [
        {
          "output_type": "execute_result",
          "data": {
            "text/plain": [
              "([0, 1, 2, 3, 4, 5, 6, 7, 8, 9],\n",
              " ['<pad>',\n",
              "  '<sos>',\n",
              "  '<eos>',\n",
              "  '<unk>',\n",
              "  'طفلة',\n",
              "  'صغيرة',\n",
              "  'تتسلق',\n",
              "  'إلى',\n",
              "  'كلب',\n",
              "  'أسود'])"
            ]
          },
          "metadata": {},
          "execution_count": 10
        }
      ],
      "source": [
        "list(vocab.itos.keys())[:10], list(vocab.itos.values())[:10]"
      ]
    },
    {
      "cell_type": "markdown",
      "metadata": {
        "id": "DCmeibRBTIsx"
      },
      "source": [
        "### Pre-trained Arabic Embeddings"
      ]
    },
    {
      "cell_type": "code",
      "execution_count": 11,
      "metadata": {
        "colab": {
          "base_uri": "https://localhost:8080/"
        },
        "execution": {
          "iopub.execute_input": "2021-07-02T08:09:06.578734Z",
          "iopub.status.busy": "2021-07-02T08:09:06.578331Z",
          "iopub.status.idle": "2021-07-02T08:09:58.217824Z",
          "shell.execute_reply": "2021-07-02T08:09:58.216636Z",
          "shell.execute_reply.started": "2021-07-02T08:09:06.578703Z"
        },
        "id": "Chu2ZhbITIsx",
        "outputId": "f801d742-5a63-4ea6-a807-9248a349a039"
      },
      "outputs": [
        {
          "output_type": "stream",
          "name": "stdout",
          "text": [
            "--2022-05-29 14:55:52--  https://bakrianoo.ewr1.vultrobjects.com/aravec/full_grams_sg_300_wiki.zip\n",
            "Resolving bakrianoo.ewr1.vultrobjects.com (bakrianoo.ewr1.vultrobjects.com)... 108.61.0.122, 2001:19f0:0:22::100\n",
            "Connecting to bakrianoo.ewr1.vultrobjects.com (bakrianoo.ewr1.vultrobjects.com)|108.61.0.122|:443... connected.\n",
            "HTTP request sent, awaiting response... 200 OK\n",
            "Length: 1488871452 (1.4G) [application/zip]\n",
            "Saving to: ‘full_grams_sg_300_wiki.zip’\n",
            "\n",
            "full_grams_sg_300_w 100%[===================>]   1.39G   105MB/s    in 14s     \n",
            "\n",
            "2022-05-29 14:56:06 (98.6 MB/s) - ‘full_grams_sg_300_wiki.zip’ saved [1488871452/1488871452]\n",
            "\n"
          ]
        }
      ],
      "source": [
        "# downloading arabic skipgrams pretrained word embedings\n",
        "! wget https://bakrianoo.ewr1.vultrobjects.com/aravec/full_grams_sg_300_wiki.zip\n",
        "! unzip -q full_grams_sg_300_wiki.zip"
      ]
    },
    {
      "cell_type": "code",
      "execution_count": 12,
      "metadata": {
        "execution": {
          "iopub.execute_input": "2021-07-02T08:09:58.220009Z",
          "iopub.status.busy": "2021-07-02T08:09:58.219669Z",
          "iopub.status.idle": "2021-07-02T08:10:21.606181Z",
          "shell.execute_reply": "2021-07-02T08:10:21.605224Z",
          "shell.execute_reply.started": "2021-07-02T08:09:58.219970Z"
        },
        "id": "qqgnuOdjTIsy"
      },
      "outputs": [],
      "source": [
        "import gensim\n",
        "model = gensim.models.Word2Vec.load(\"./full_grams_sg_300_wiki.mdl\")\n",
        "model.wv.save_word2vec_format(\"aravec.txt\")"
      ]
    },
    {
      "cell_type": "code",
      "execution_count": 13,
      "metadata": {
        "execution": {
          "iopub.execute_input": "2021-07-02T08:12:59.760849Z",
          "iopub.status.busy": "2021-07-02T08:12:59.760345Z",
          "iopub.status.idle": "2021-07-02T08:12:59.829858Z",
          "shell.execute_reply": "2021-07-02T08:12:59.828999Z",
          "shell.execute_reply.started": "2021-07-02T08:12:59.760810Z"
        },
        "id": "v4s40HCRTIsz"
      },
      "outputs": [],
      "source": [
        "import numpy as np\n",
        "def get_weights(embedding_path):\n",
        "    embeddings_index = {}\n",
        "    with open(embedding_path) as f:\n",
        "        for line in f:\n",
        "            word, coefs = line.split(maxsplit=1)\n",
        "            coefs = np.fromstring(coefs, \"f\", sep=\" \")\n",
        "            embeddings_index[word] = coefs\n",
        "    print(\"Found %s word vectors.\" % len(dict(embeddings_index)))\n",
        "    \n",
        "    num_tokens = len(vocab)\n",
        "    embedding_dim = 300\n",
        "    hits = 0\n",
        "    misses = 0\n",
        "    embedding_matrix = np.zeros((num_tokens, embedding_dim))\n",
        "    for word, index in tqdm(vocab.stoi.items()):\n",
        "        if word in embeddings_index:\n",
        "            embedding_matrix[index] = embeddings_index[word]\n",
        "            hits+=1\n",
        "        else:\n",
        "            misses+=1\n",
        "            embedding_matrix[index] = np.random.uniform(-.1, .1, size=embedding_dim)\n",
        "    print(\"Hist:\", hits, \" | Misses:\", misses)\n",
        "    return embedding_matrix"
      ]
    },
    {
      "cell_type": "code",
      "execution_count": 14,
      "metadata": {
        "colab": {
          "base_uri": "https://localhost:8080/"
        },
        "execution": {
          "iopub.execute_input": "2021-07-02T08:12:59.831555Z",
          "iopub.status.busy": "2021-07-02T08:12:59.831186Z",
          "iopub.status.idle": "2021-07-02T08:14:06.350237Z",
          "shell.execute_reply": "2021-07-02T08:14:06.349371Z",
          "shell.execute_reply.started": "2021-07-02T08:12:59.831520Z"
        },
        "id": "dfybi4X2TIsz",
        "outputId": "4de6ddbd-0724-4962-8e8c-821ae6b0f947"
      },
      "outputs": [
        {
          "output_type": "stream",
          "name": "stdout",
          "text": [
            "Found 662110 word vectors.\n"
          ]
        },
        {
          "output_type": "stream",
          "name": "stderr",
          "text": [
            "100%|██████████| 5788/5788 [00:00<00:00, 189496.85it/s]"
          ]
        },
        {
          "output_type": "stream",
          "name": "stdout",
          "text": [
            "Hist: 3746  | Misses: 2042\n"
          ]
        },
        {
          "output_type": "stream",
          "name": "stderr",
          "text": [
            "\n"
          ]
        }
      ],
      "source": [
        "embedding_matrix = get_weights(\"./aravec.txt\")"
      ]
    },
    {
      "cell_type": "code",
      "execution_count": 15,
      "metadata": {
        "colab": {
          "base_uri": "https://localhost:8080/"
        },
        "execution": {
          "iopub.execute_input": "2021-07-02T08:14:06.352355Z",
          "iopub.status.busy": "2021-07-02T08:14:06.351704Z",
          "iopub.status.idle": "2021-07-02T08:14:06.394518Z",
          "shell.execute_reply": "2021-07-02T08:14:06.393269Z",
          "shell.execute_reply.started": "2021-07-02T08:14:06.352315Z"
        },
        "id": "DiYr4Kk_TIs0",
        "outputId": "3a7bf1eb-36bd-4cd3-816a-0a820f743377"
      },
      "outputs": [
        {
          "output_type": "execute_result",
          "data": {
            "text/plain": [
              "(5788, 300)"
            ]
          },
          "metadata": {},
          "execution_count": 15
        }
      ],
      "source": [
        "embedding_matrix.shape"
      ]
    },
    {
      "cell_type": "code",
      "execution_count": 16,
      "metadata": {
        "colab": {
          "base_uri": "https://localhost:8080/"
        },
        "execution": {
          "iopub.execute_input": "2021-07-02T08:14:06.397532Z",
          "iopub.status.busy": "2021-07-02T08:14:06.397087Z",
          "iopub.status.idle": "2021-07-02T08:14:06.440650Z",
          "shell.execute_reply": "2021-07-02T08:14:06.439760Z",
          "shell.execute_reply.started": "2021-07-02T08:14:06.397490Z"
        },
        "id": "Cu0DsLMpTIs0",
        "outputId": "3ea865ba-a130-46be-ec3a-59f230de9d38"
      },
      "outputs": [
        {
          "output_type": "execute_result",
          "data": {
            "text/plain": [
              "5788"
            ]
          },
          "metadata": {},
          "execution_count": 16
        }
      ],
      "source": [
        "len(vocab.itos)"
      ]
    },
    {
      "cell_type": "code",
      "execution_count": 17,
      "metadata": {
        "colab": {
          "base_uri": "https://localhost:8080/"
        },
        "execution": {
          "iopub.execute_input": "2021-07-02T08:15:39.426932Z",
          "iopub.status.busy": "2021-07-02T08:15:39.426587Z",
          "iopub.status.idle": "2021-07-02T08:15:39.505800Z",
          "shell.execute_reply": "2021-07-02T08:15:39.504856Z",
          "shell.execute_reply.started": "2021-07-02T08:15:39.426904Z"
        },
        "id": "6fb11e8e",
        "outputId": "b808b917-f657-44ea-d052-43d12d62c57b"
      },
      "outputs": [
        {
          "output_type": "execute_result",
          "data": {
            "text/plain": [
              "{'batch_size': 256,\n",
              " 'data_name': 'flickr8k_skipgram_pretrained',\n",
              " 'decoder_lr': 0.0004,\n",
              " 'df_path': '/content/Image-Captioning/old_ar_data.json',\n",
              " 'encoder_lr': 0.0001,\n",
              " 'epochs': 30,\n",
              " 'fine_tune_embeddings': True,\n",
              " 'fine_tune_encoder': False,\n",
              " 'imgs_path': 'flickr8k/images/',\n",
              " 'pretrained_embeddings': True,\n",
              " 'vocab': <dataset.Vocabulary at 0x7f545b275990>,\n",
              " 'workers': 2}"
            ]
          },
          "metadata": {},
          "execution_count": 17
        }
      ],
      "source": [
        "t_params = {\n",
        "    'data_name': DATA_NAME,\n",
        "    'imgs_path': IMGS_PATH,\n",
        "    'df_path': DATA_JSON_PATH,\n",
        "    'vocab': vocab,\n",
        "    'epochs': epochs,\n",
        "    'batch_size': batch_size,\n",
        "    'workers': workers,\n",
        "    'decoder_lr': decoder_lr,\n",
        "    'encoder_lr': encoder_lr,\n",
        "    'fine_tune_encoder': fine_tune_encoder,\n",
        "    'pretrained_embeddings': pretrained_embeddings,\n",
        "    'fine_tune_embeddings': fine_tune_embeddings,\n",
        "}\n",
        "\n",
        "m_params = {\n",
        "    'attention_dim': attention_dim,\n",
        "    'embed_dim': emb_dim,\n",
        "    'decoder_dim': decoder_dim,\n",
        "    'encoder_dim': encoder_dim,\n",
        "    'dropout': dropout,\n",
        "    'embeddings_matrix': embedding_matrix\n",
        "}\n",
        "\n",
        "logger_dic = {\n",
        "    'decoder_lr': decoder_lr,\n",
        "    'encoder_lr': encoder_lr,\n",
        "    'fine_tune_encoder': fine_tune_encoder,\n",
        "    'pretrained_embeddings': pretrained_embeddings,\n",
        "    'max_seq_length': max_seq,\n",
        "    'vocab_size': vocab_len,\n",
        "    'enocder': 'resnet101',\n",
        "    'dropout': dropout,\n",
        "    'attention_dim': attention_dim,\n",
        "    'embed_dim': emb_dim,\n",
        "    'decoder_dim': decoder_dim,\n",
        "    'encoder_dim': encoder_dim \n",
        "    \n",
        "}\n",
        "\n",
        "\n",
        "t_params"
      ]
    },
    {
      "cell_type": "code",
      "execution_count": 18,
      "metadata": {
        "execution": {
          "iopub.execute_input": "2021-07-02T08:15:40.200687Z",
          "iopub.status.busy": "2021-07-02T08:15:40.200341Z",
          "iopub.status.idle": "2021-07-02T08:15:40.266679Z",
          "shell.execute_reply": "2021-07-02T08:15:40.265764Z",
          "shell.execute_reply.started": "2021-07-02T08:15:40.200657Z"
        },
        "id": "8d8e8ebf"
      },
      "outputs": [],
      "source": [
        "# experiment name\n",
        "name = DATA_NAME\n",
        "# path\n",
        "log_dir = 'experiments'\n",
        "\n",
        "logger = SummaryWriter(log_dir=osp.join(log_dir, name))"
      ]
    },
    {
      "cell_type": "code",
      "execution_count": 21,
      "metadata": {
        "colab": {
          "base_uri": "https://localhost:8080/"
        },
        "execution": {
          "iopub.execute_input": "2021-07-02T08:15:41.100810Z",
          "iopub.status.busy": "2021-07-02T08:15:41.100495Z",
          "iopub.status.idle": "2021-07-02T08:47:52.200137Z",
          "shell.execute_reply": "2021-07-02T08:47:52.199139Z",
          "shell.execute_reply.started": "2021-07-02T08:15:41.100783Z"
        },
        "id": "DIOlt7gxZAbd",
        "outputId": "ec89d911-0150-41b3-811e-836191467296"
      },
      "outputs": [
        {
          "output_type": "stream",
          "name": "stdout",
          "text": [
            "Loading Data\n",
            "Dataset split: train\n",
            "Unique images: 6000\n",
            "Total size: 18000\n",
            "Dataset split: val\n",
            "Unique images: 1000\n",
            "Total size: 3000\n",
            "__________________________________________________\n",
            "-------------------- Fitting --------------------\n",
            "__________________________________________________\n",
            "-------------------- Training --------------------\n",
            "Epoch: [0][0/71]\tBatch Time 10.695 (10.695)\tData Load Time 4.792 (4.792)\tLoss 9.5726 (9.5726)\tTop-5 Accuracy 0.000 (0.000)\n",
            "Epoch train time 168.402 (epoch_time.avg:.3f)\n",
            "-------------------- Validation --------------------\n",
            "Validation: [0/12]\tBatch Time 6.011 (6.011)\tLoss 6.5247 (6.5247)\tTop-5 Accuracy 35.127 (35.127)\t\n",
            "----- Bleu-n Scores -----\n",
            "1: 34.641\n",
            "2: 14.431\n",
            "3: 5.855\n",
            "4: 2.909\n",
            "-------------------------\n",
            "\n",
            " * LOSS - 6.603, TOP-5 ACCURACY - 33.855, BLEU-4 - 2.909\n",
            "\n",
            "Epoch validation time 34.883 (epoch_time.avg:.3f)\n",
            "__________________________________________________\n",
            "-------------------- Training --------------------\n",
            "Epoch: [1][0/71]\tBatch Time 5.820 (5.820)\tData Load Time 3.722 (3.722)\tLoss 6.2324 (6.2324)\tTop-5 Accuracy 37.072 (37.072)\n",
            "Epoch train time 161.193 (epoch_time.avg:.3f)\n",
            "-------------------- Validation --------------------\n",
            "Validation: [0/12]\tBatch Time 5.784 (5.784)\tLoss 6.1587 (6.1587)\tTop-5 Accuracy 41.317 (41.317)\t\n",
            "----- Bleu-n Scores -----\n",
            "1: 38.260\n",
            "2: 17.895\n",
            "3: 7.514\n",
            "4: 3.620\n",
            "-------------------------\n",
            "\n",
            " * LOSS - 6.321, TOP-5 ACCURACY - 38.343, BLEU-4 - 3.62\n",
            "\n",
            "Epoch validation time 31.497 (epoch_time.avg:.3f)\n",
            "__________________________________________________\n",
            "-------------------- Training --------------------\n",
            "Epoch: [2][0/71]\tBatch Time 5.807 (5.807)\tData Load Time 3.701 (3.701)\tLoss 5.7567 (5.7567)\tTop-5 Accuracy 43.078 (43.078)\n",
            "Epoch train time 160.176 (epoch_time.avg:.3f)\n",
            "-------------------- Validation --------------------\n",
            "Validation: [0/12]\tBatch Time 5.920 (5.920)\tLoss 6.1805 (6.1805)\tTop-5 Accuracy 39.271 (39.271)\t\n",
            "----- Bleu-n Scores -----\n",
            "1: 40.154\n",
            "2: 19.536\n",
            "3: 8.719\n",
            "4: 4.088\n",
            "-------------------------\n",
            "\n",
            " * LOSS - 6.078, TOP-5 ACCURACY - 41.599, BLEU-4 - 4.088\n",
            "\n",
            "Epoch validation time 31.331 (epoch_time.avg:.3f)\n",
            "__________________________________________________\n",
            "-------------------- Training --------------------\n",
            "Epoch: [3][0/71]\tBatch Time 5.635 (5.635)\tData Load Time 3.616 (3.616)\tLoss 5.5310 (5.5310)\tTop-5 Accuracy 46.422 (46.422)\n",
            "Epoch train time 158.372 (epoch_time.avg:.3f)\n",
            "-------------------- Validation --------------------\n",
            "Validation: [0/12]\tBatch Time 5.705 (5.705)\tLoss 5.9368 (5.9368)\tTop-5 Accuracy 43.060 (43.060)\t\n",
            "----- Bleu-n Scores -----\n",
            "1: 40.221\n",
            "2: 19.947\n",
            "3: 9.002\n",
            "4: 3.954\n",
            "-------------------------\n",
            "\n",
            " * LOSS - 6.001, TOP-5 ACCURACY - 43.524, BLEU-4 - 3.954\n",
            "\n",
            "Epoch validation time 31.390 (epoch_time.avg:.3f)\n",
            "\n",
            "Epochs since last improvement: (1,)\n",
            "Epoch 00004: reducing learning rate of group 0 to 4.0000e-05.\n",
            "__________________________________________________\n",
            "-------------------- Training --------------------\n",
            "Epoch: [4][0/71]\tBatch Time 5.880 (5.880)\tData Load Time 3.706 (3.706)\tLoss 5.2421 (5.2421)\tTop-5 Accuracy 48.478 (48.478)\n",
            "Epoch train time 160.451 (epoch_time.avg:.3f)\n",
            "-------------------- Validation --------------------\n",
            "Validation: [0/12]\tBatch Time 5.811 (5.811)\tLoss 5.8734 (5.8734)\tTop-5 Accuracy 44.244 (44.244)\t\n",
            "----- Bleu-n Scores -----\n",
            "1: 41.891\n",
            "2: 21.310\n",
            "3: 9.863\n",
            "4: 4.419\n",
            "-------------------------\n",
            "\n",
            " * LOSS - 5.899, TOP-5 ACCURACY - 44.521, BLEU-4 - 4.419\n",
            "\n",
            "Epoch validation time 31.425 (epoch_time.avg:.3f)\n",
            "__________________________________________________\n",
            "-------------------- Training --------------------\n",
            "Epoch: [5][0/71]\tBatch Time 5.646 (5.646)\tData Load Time 3.550 (3.550)\tLoss 5.1707 (5.1707)\tTop-5 Accuracy 49.279 (49.279)\n",
            "Epoch train time 160.931 (epoch_time.avg:.3f)\n",
            "-------------------- Validation --------------------\n",
            "Validation: [0/12]\tBatch Time 5.701 (5.701)\tLoss 5.7472 (5.7472)\tTop-5 Accuracy 45.921 (45.921)\t\n",
            "----- Bleu-n Scores -----\n",
            "1: 42.091\n",
            "2: 21.417\n",
            "3: 9.838\n",
            "4: 4.506\n",
            "-------------------------\n",
            "\n",
            " * LOSS - 5.887, TOP-5 ACCURACY - 44.782, BLEU-4 - 4.506\n",
            "\n",
            "Epoch validation time 31.165 (epoch_time.avg:.3f)\n",
            "__________________________________________________\n",
            "-------------------- Training --------------------\n",
            "Epoch: [6][0/71]\tBatch Time 5.834 (5.834)\tData Load Time 3.629 (3.629)\tLoss 5.0666 (5.0666)\tTop-5 Accuracy 50.757 (50.757)\n",
            "Epoch train time 158.539 (epoch_time.avg:.3f)\n",
            "-------------------- Validation --------------------\n",
            "Validation: [0/12]\tBatch Time 5.845 (5.845)\tLoss 5.7241 (5.7241)\tTop-5 Accuracy 46.815 (46.815)\t\n",
            "----- Bleu-n Scores -----\n",
            "1: 42.061\n",
            "2: 21.554\n",
            "3: 10.188\n",
            "4: 4.786\n",
            "-------------------------\n",
            "\n",
            " * LOSS - 5.877, TOP-5 ACCURACY - 45.095, BLEU-4 - 4.786\n",
            "\n",
            "Epoch validation time 31.326 (epoch_time.avg:.3f)\n",
            "Epoch 00007: reducing learning rate of group 0 to 4.0000e-06.\n",
            "__________________________________________________\n",
            "-------------------- Training --------------------\n",
            "Epoch: [7][0/71]\tBatch Time 6.025 (6.025)\tData Load Time 3.926 (3.926)\tLoss 5.2109 (5.2109)\tTop-5 Accuracy 49.701 (49.701)\n",
            "Epoch train time 158.921 (epoch_time.avg:.3f)\n",
            "-------------------- Validation --------------------\n",
            "Validation: [0/12]\tBatch Time 5.637 (5.637)\tLoss 5.8147 (5.8147)\tTop-5 Accuracy 46.026 (46.026)\t\n",
            "----- Bleu-n Scores -----\n",
            "1: 42.098\n",
            "2: 21.736\n",
            "3: 10.259\n",
            "4: 4.811\n",
            "-------------------------\n",
            "\n",
            " * LOSS - 5.878, TOP-5 ACCURACY - 45.017, BLEU-4 - 4.811\n",
            "\n",
            "Epoch validation time 31.425 (epoch_time.avg:.3f)\n",
            "__________________________________________________\n",
            "-------------------- Training --------------------\n",
            "Epoch: [8][0/71]\tBatch Time 5.678 (5.678)\tData Load Time 3.675 (3.675)\tLoss 5.1422 (5.1422)\tTop-5 Accuracy 49.838 (49.838)\n",
            "Epoch train time 157.876 (epoch_time.avg:.3f)\n",
            "-------------------- Validation --------------------\n",
            "Validation: [0/12]\tBatch Time 5.847 (5.847)\tLoss 5.8546 (5.8546)\tTop-5 Accuracy 44.678 (44.678)\t\n",
            "----- Bleu-n Scores -----\n",
            "1: 42.186\n",
            "2: 21.737\n",
            "3: 10.272\n",
            "4: 4.815\n",
            "-------------------------\n",
            "\n",
            " * LOSS - 5.878, TOP-5 ACCURACY - 45.027, BLEU-4 - 4.815\n",
            "\n",
            "Epoch validation time 31.739 (epoch_time.avg:.3f)\n",
            "__________________________________________________\n",
            "-------------------- Training --------------------\n",
            "Epoch: [9][0/71]\tBatch Time 5.626 (5.626)\tData Load Time 3.587 (3.587)\tLoss 5.0877 (5.0877)\tTop-5 Accuracy 50.479 (50.479)\n",
            "Epoch train time 159.532 (epoch_time.avg:.3f)\n",
            "-------------------- Validation --------------------\n",
            "Validation: [0/12]\tBatch Time 6.021 (6.021)\tLoss 5.7426 (5.7426)\tTop-5 Accuracy 45.723 (45.723)\t\n",
            "----- Bleu-n Scores -----\n",
            "1: 42.107\n",
            "2: 21.652\n",
            "3: 10.211\n",
            "4: 4.790\n",
            "-------------------------\n",
            "\n",
            " * LOSS - 5.876, TOP-5 ACCURACY - 45.038, BLEU-4 - 4.79\n",
            "\n",
            "Epoch validation time 31.790 (epoch_time.avg:.3f)\n",
            "\n",
            "Epochs since last improvement: (1,)\n",
            "Epoch 00010: reducing learning rate of group 0 to 4.0000e-07.\n",
            "__________________________________________________\n",
            "-------------------- Training --------------------\n",
            "Epoch: [10][0/71]\tBatch Time 5.752 (5.752)\tData Load Time 3.718 (3.718)\tLoss 5.0908 (5.0908)\tTop-5 Accuracy 51.614 (51.614)\n",
            "Epoch train time 160.841 (epoch_time.avg:.3f)\n",
            "-------------------- Validation --------------------\n",
            "Validation: [0/12]\tBatch Time 5.767 (5.767)\tLoss 5.7329 (5.7329)\tTop-5 Accuracy 46.727 (46.727)\t\n",
            "----- Bleu-n Scores -----\n",
            "1: 42.104\n",
            "2: 21.653\n",
            "3: 10.257\n",
            "4: 4.808\n",
            "-------------------------\n",
            "\n",
            " * LOSS - 5.877, TOP-5 ACCURACY - 45.017, BLEU-4 - 4.808\n",
            "\n",
            "Epoch validation time 31.497 (epoch_time.avg:.3f)\n",
            "\n",
            "Epochs since last improvement: (2,)\n",
            "__________________________________________________\n",
            "-------------------- Training --------------------\n",
            "Epoch: [11][0/71]\tBatch Time 5.567 (5.567)\tData Load Time 3.540 (3.540)\tLoss 5.2476 (5.2476)\tTop-5 Accuracy 48.861 (48.861)\n",
            "Epoch train time 160.697 (epoch_time.avg:.3f)\n",
            "-------------------- Validation --------------------\n",
            "Validation: [0/12]\tBatch Time 5.665 (5.665)\tLoss 5.9020 (5.9020)\tTop-5 Accuracy 46.389 (46.389)\t\n",
            "----- Bleu-n Scores -----\n",
            "1: 42.154\n",
            "2: 21.650\n",
            "3: 10.213\n",
            "4: 4.792\n",
            "-------------------------\n",
            "\n",
            " * LOSS - 5.877, TOP-5 ACCURACY - 45.064, BLEU-4 - 4.792\n",
            "\n",
            "Epoch validation time 31.762 (epoch_time.avg:.3f)\n",
            "\n",
            "Epochs since last improvement: (3,)\n",
            "__________________________________________________\n",
            "-------------------- Training --------------------\n",
            "Epoch: [12][0/71]\tBatch Time 5.861 (5.861)\tData Load Time 3.763 (3.763)\tLoss 5.2033 (5.2033)\tTop-5 Accuracy 49.929 (49.929)\n",
            "Epoch train time 158.846 (epoch_time.avg:.3f)\n",
            "-------------------- Validation --------------------\n",
            "Validation: [0/12]\tBatch Time 5.744 (5.744)\tLoss 5.8410 (5.8410)\tTop-5 Accuracy 45.892 (45.892)\t\n",
            "----- Bleu-n Scores -----\n",
            "1: 42.131\n",
            "2: 21.614\n",
            "3: 10.234\n",
            "4: 4.801\n",
            "-------------------------\n",
            "\n",
            " * LOSS - 5.877, TOP-5 ACCURACY - 45.011, BLEU-4 - 4.801\n",
            "\n",
            "Epoch validation time 31.365 (epoch_time.avg:.3f)\n",
            "\n",
            "Epochs since last improvement: (4,)\n",
            "Epoch 00013: reducing learning rate of group 0 to 4.0000e-08.\n",
            "__________________________________________________\n",
            "-------------------- Training --------------------\n",
            "Epoch: [13][0/71]\tBatch Time 5.746 (5.746)\tData Load Time 3.678 (3.678)\tLoss 5.0709 (5.0709)\tTop-5 Accuracy 51.410 (51.410)\n"
          ]
        },
        {
          "output_type": "stream",
          "name": "stderr",
          "text": [
            "Exception ignored in: <function _MultiProcessingDataLoaderIter.__del__ at 0x7f53a223c560>\n",
            "Traceback (most recent call last):\n",
            "  File \"/usr/local/lib/python3.7/dist-packages/torch/utils/data/dataloader.py\", line 1358, in __del__\n",
            "    self._shutdown_workers()\n",
            "  File \"/usr/local/lib/python3.7/dist-packages/torch/utils/data/dataloader.py\", line 1341, in _shutdown_workers\n",
            "    if w.is_alive():\n",
            "  File \"/usr/lib/python3.7/multiprocessing/process.py\", line 151, in is_alive\n",
            "    assert self._parent_pid == os.getpid(), 'can only test a child process'\n",
            "AssertionError: can only test a child process\n",
            "Exception ignored in: <function _MultiProcessingDataLoaderIter.__del__ at 0x7f53a223c560>\n",
            "    self._shutdown_workers()\n",
            "Traceback (most recent call last):\n",
            "  File \"/usr/local/lib/python3.7/dist-packages/torch/utils/data/dataloader.py\", line 1358, in __del__\n",
            "  File \"/usr/local/lib/python3.7/dist-packages/torch/utils/data/dataloader.py\", line 1341, in _shutdown_workers\n",
            "    if w.is_alive():\n",
            "  File \"/usr/lib/python3.7/multiprocessing/process.py\", line 151, in is_alive\n",
            "    assert self._parent_pid == os.getpid(), 'can only test a child process'\n",
            "AssertionError: can only test a child process\n"
          ]
        },
        {
          "output_type": "stream",
          "name": "stdout",
          "text": [
            "Epoch train time 162.067 (epoch_time.avg:.3f)\n",
            "-------------------- Validation --------------------\n",
            "Validation: [0/12]\tBatch Time 5.665 (5.665)\tLoss 5.8351 (5.8351)\tTop-5 Accuracy 45.133 (45.133)\t\n",
            "----- Bleu-n Scores -----\n",
            "1: 42.146\n",
            "2: 21.693\n",
            "3: 10.283\n",
            "4: 4.817\n",
            "-------------------------\n",
            "\n",
            " * LOSS - 5.877, TOP-5 ACCURACY - 44.996, BLEU-4 - 4.817\n",
            "\n",
            "Epoch validation time 31.444 (epoch_time.avg:.3f)\n",
            "__________________________________________________\n",
            "-------------------- Training --------------------\n",
            "Epoch: [14][0/71]\tBatch Time 5.709 (5.709)\tData Load Time 3.626 (3.626)\tLoss 5.2041 (5.2041)\tTop-5 Accuracy 49.738 (49.738)\n",
            "Epoch train time 157.119 (epoch_time.avg:.3f)\n",
            "-------------------- Validation --------------------\n",
            "Validation: [0/12]\tBatch Time 5.862 (5.862)\tLoss 5.9848 (5.9848)\tTop-5 Accuracy 43.844 (43.844)\t\n",
            "----- Bleu-n Scores -----\n",
            "1: 42.135\n",
            "2: 21.681\n",
            "3: 10.223\n",
            "4: 4.796\n",
            "-------------------------\n",
            "\n",
            " * LOSS - 5.877, TOP-5 ACCURACY - 45.032, BLEU-4 - 4.796\n",
            "\n",
            "Epoch validation time 31.206 (epoch_time.avg:.3f)\n",
            "\n",
            "Epochs since last improvement: (1,)\n",
            "__________________________________________________\n",
            "-------------------- Training --------------------\n",
            "Epoch: [15][0/71]\tBatch Time 5.609 (5.609)\tData Load Time 3.556 (3.556)\tLoss 5.1787 (5.1787)\tTop-5 Accuracy 49.720 (49.720)\n",
            "Epoch train time 158.456 (epoch_time.avg:.3f)\n",
            "-------------------- Validation --------------------\n",
            "Validation: [0/12]\tBatch Time 5.877 (5.877)\tLoss 5.9529 (5.9529)\tTop-5 Accuracy 43.910 (43.910)\t\n",
            "----- Bleu-n Scores -----\n",
            "1: 42.174\n",
            "2: 21.702\n",
            "3: 10.270\n",
            "4: 4.811\n",
            "-------------------------\n",
            "\n",
            " * LOSS - 5.877, TOP-5 ACCURACY - 45.022, BLEU-4 - 4.811\n",
            "\n",
            "Epoch validation time 31.260 (epoch_time.avg:.3f)\n",
            "\n",
            "Epochs since last improvement: (2,)\n",
            "Epoch 00016: reducing learning rate of group 0 to 4.0000e-09.\n",
            "__________________________________________________\n",
            "-------------------- Training --------------------\n",
            "Epoch: [16][0/71]\tBatch Time 5.837 (5.837)\tData Load Time 3.710 (3.710)\tLoss 5.1843 (5.1843)\tTop-5 Accuracy 49.087 (49.087)\n",
            "Epoch train time 159.836 (epoch_time.avg:.3f)\n",
            "-------------------- Validation --------------------\n",
            "Validation: [0/12]\tBatch Time 5.772 (5.772)\tLoss 5.7164 (5.7164)\tTop-5 Accuracy 46.317 (46.317)\t\n",
            "----- Bleu-n Scores -----\n",
            "1: 42.206\n",
            "2: 21.638\n",
            "3: 10.238\n",
            "4: 4.801\n",
            "-------------------------\n",
            "\n",
            " * LOSS - 5.877, TOP-5 ACCURACY - 45.069, BLEU-4 - 4.801\n",
            "\n",
            "Epoch validation time 31.408 (epoch_time.avg:.3f)\n",
            "\n",
            "Epochs since last improvement: (3,)\n",
            "__________________________________________________\n",
            "-------------------- Training --------------------\n",
            "Epoch: [17][0/71]\tBatch Time 5.767 (5.767)\tData Load Time 3.744 (3.744)\tLoss 5.1643 (5.1643)\tTop-5 Accuracy 48.927 (48.927)\n",
            "Epoch train time 159.884 (epoch_time.avg:.3f)\n",
            "-------------------- Validation --------------------\n",
            "Validation: [0/12]\tBatch Time 5.713 (5.713)\tLoss 5.5932 (5.5932)\tTop-5 Accuracy 47.508 (47.508)\t\n",
            "----- Bleu-n Scores -----\n",
            "1: 42.123\n",
            "2: 21.652\n",
            "3: 10.225\n",
            "4: 4.795\n",
            "-------------------------\n",
            "\n",
            " * LOSS - 5.876, TOP-5 ACCURACY - 45.038, BLEU-4 - 4.795\n",
            "\n",
            "Epoch validation time 31.013 (epoch_time.avg:.3f)\n",
            "\n",
            "Epochs since last improvement: (4,)\n",
            "__________________________________________________\n",
            "-------------------- Training --------------------\n",
            "Epoch: [18][0/71]\tBatch Time 5.667 (5.667)\tData Load Time 3.575 (3.575)\tLoss 5.1801 (5.1801)\tTop-5 Accuracy 49.507 (49.507)\n",
            "Epoch train time 159.032 (epoch_time.avg:.3f)\n",
            "-------------------- Validation --------------------\n",
            "Validation: [0/12]\tBatch Time 5.884 (5.884)\tLoss 6.0303 (6.0303)\tTop-5 Accuracy 42.431 (42.431)\t\n",
            "----- Bleu-n Scores -----\n",
            "1: 42.084\n",
            "2: 21.618\n",
            "3: 10.188\n",
            "4: 4.783\n",
            "-------------------------\n",
            "\n",
            " * LOSS - 5.877, TOP-5 ACCURACY - 45.006, BLEU-4 - 4.783\n",
            "\n",
            "Epoch validation time 31.358 (epoch_time.avg:.3f)\n",
            "\n",
            "Epochs since last improvement: (5,)\n",
            "No improvement for 5 consecutive epochs, terminating...\n"
          ]
        }
      ],
      "source": [
        "fit(t_params=t_params, m_params=m_params, logger=logger)"
      ]
    },
    {
      "cell_type": "code",
      "execution_count": null,
      "metadata": {
        "execution": {
          "iopub.execute_input": "2021-07-02T09:07:59.798068Z",
          "iopub.status.busy": "2021-07-02T09:07:59.797661Z",
          "iopub.status.idle": "2021-07-02T09:08:00.766078Z",
          "shell.execute_reply": "2021-07-02T09:08:00.765167Z",
          "shell.execute_reply.started": "2021-07-02T09:07:59.798032Z"
        },
        "id": "k_MBtdppTIs2"
      },
      "outputs": [],
      "source": [
        "!ls"
      ]
    },
    {
      "cell_type": "code",
      "execution_count": 22,
      "metadata": {
        "colab": {
          "base_uri": "https://localhost:8080/"
        },
        "execution": {
          "iopub.execute_input": "2021-07-02T09:08:22.120013Z",
          "iopub.status.busy": "2021-07-02T09:08:22.119697Z",
          "iopub.status.idle": "2021-07-02T09:08:22.495609Z",
          "shell.execute_reply": "2021-07-02T09:08:22.494672Z",
          "shell.execute_reply.started": "2021-07-02T09:08:22.119986Z"
        },
        "id": "cgtlSQWzjNwz",
        "outputId": "c8ca3eeb-5dd5-43f4-d01a-f3736d29afd2"
      },
      "outputs": [
        {
          "output_type": "stream",
          "name": "stdout",
          "text": [
            "Loaded Checkpoint!!\n",
            "Last Epoch: 13\n",
            "Best Bleu-4: 4.817\n"
          ]
        }
      ],
      "source": [
        "m = load_checkpoint(\"BEST_checkpoint_flickr8k_skipgram_pretrained.pth.tar\")"
      ]
    },
    {
      "cell_type": "code",
      "execution_count": 23,
      "metadata": {
        "colab": {
          "base_uri": "https://localhost:8080/"
        },
        "execution": {
          "iopub.execute_input": "2021-07-02T09:08:43.083173Z",
          "iopub.status.busy": "2021-07-02T09:08:43.082843Z",
          "iopub.status.idle": "2021-07-02T09:08:43.153713Z",
          "shell.execute_reply": "2021-07-02T09:08:43.152656Z",
          "shell.execute_reply.started": "2021-07-02T09:08:43.083143Z"
        },
        "id": "NJAelDR8ZDsk",
        "outputId": "5e587d36-e575-47d6-da5a-080ab1d4ae58"
      },
      "outputs": [
        {
          "output_type": "execute_result",
          "data": {
            "text/plain": [
              "{'batch_size': 64,\n",
              " 'data_name': 'flickr8k_skipgram_pretrained_finetune',\n",
              " 'decoder_lr': 4e-05,\n",
              " 'df_path': '/content/Image-Captioning/old_ar_data.json',\n",
              " 'encoder_lr': 0.0001,\n",
              " 'epochs': 30,\n",
              " 'fine_tune_embeddings': True,\n",
              " 'fine_tune_encoder': True,\n",
              " 'imgs_path': 'flickr8k/images/',\n",
              " 'pretrained_embeddings': True,\n",
              " 'vocab': <dataset.Vocabulary at 0x7f545b275990>,\n",
              " 'workers': 2}"
            ]
          },
          "metadata": {},
          "execution_count": 23
        }
      ],
      "source": [
        "batch_size = 64\n",
        "fine_tune_encoder = True\n",
        "checkpoint = 'BEST_checkpoint_flickr8k_skipgram_pretrained.pth.tar'\n",
        "# epochs = 30\n",
        "\n",
        "t_params['batch_size'] = batch_size\n",
        "t_params['data_name'] = t_params['data_name'] + \"_finetune\" \n",
        "t_params['fine_tune_encoder'] = True\n",
        "t_params['decoder_lr'] = t_params['decoder_lr'] / 10\n",
        "# t_params['epochs'] = epochs\n",
        "t_params"
      ]
    },
    {
      "cell_type": "code",
      "execution_count": 24,
      "metadata": {
        "colab": {
          "base_uri": "https://localhost:8080/"
        },
        "execution": {
          "iopub.execute_input": "2021-07-02T09:08:46.126466Z",
          "iopub.status.busy": "2021-07-02T09:08:46.126090Z",
          "iopub.status.idle": "2021-07-02T09:34:21.399955Z",
          "shell.execute_reply": "2021-07-02T09:34:21.398331Z",
          "shell.execute_reply.started": "2021-07-02T09:08:46.126433Z"
        },
        "id": "uYhbvtifjXD6",
        "outputId": "50a8d191-079d-4a07-8ad6-9aeed9761d44"
      },
      "outputs": [
        {
          "output_type": "stream",
          "name": "stdout",
          "text": [
            "Loaded Checkpoint!!\n",
            "Starting Epoch: 14\n",
            "Loading Data\n",
            "Dataset split: train\n",
            "Unique images: 6000\n",
            "Total size: 18000\n",
            "Dataset split: val\n",
            "Unique images: 1000\n",
            "Total size: 3000\n",
            "__________________________________________________\n",
            "-------------------- Fitting --------------------\n",
            "__________________________________________________\n",
            "-------------------- Training --------------------\n",
            "Epoch: [14][0/282]\tBatch Time 4.885 (4.885)\tData Load Time 1.055 (1.055)\tLoss 5.2484 (5.2484)\tTop-5 Accuracy 46.892 (46.892)\n",
            "Epoch: [14][100/282]\tBatch Time 1.166 (1.200)\tData Load Time 0.001 (0.011)\tLoss 5.4407 (5.2406)\tTop-5 Accuracy 47.963 (48.885)\n",
            "Epoch: [14][200/282]\tBatch Time 1.144 (1.177)\tData Load Time 0.001 (0.006)\tLoss 5.2289 (5.2074)\tTop-5 Accuracy 49.815 (49.409)\n",
            "Epoch train time 330.390 (epoch_time.avg:.3f)\n",
            "-------------------- Validation --------------------\n",
            "Validation: [0/47]\tBatch Time 1.560 (1.560)\tLoss 5.7792 (5.7792)\tTop-5 Accuracy 44.110 (44.110)\t\n",
            "----- Bleu-n Scores -----\n",
            "1: 42.337\n",
            "2: 22.268\n",
            "3: 11.034\n",
            "4: 5.480\n",
            "-------------------------\n",
            "\n",
            " * LOSS - 5.862, TOP-5 ACCURACY - 45.528, BLEU-4 - 5.48\n",
            "\n",
            "Epoch validation time 30.133 (epoch_time.avg:.3f)\n",
            "__________________________________________________\n",
            "-------------------- Training --------------------\n",
            "Epoch: [15][0/282]\tBatch Time 2.348 (2.348)\tData Load Time 1.113 (1.113)\tLoss 5.1875 (5.1875)\tTop-5 Accuracy 50.556 (50.556)\n",
            "Epoch: [15][100/282]\tBatch Time 1.149 (1.168)\tData Load Time 0.001 (0.012)\tLoss 5.1179 (5.0690)\tTop-5 Accuracy 50.370 (51.472)\n",
            "Epoch: [15][200/282]\tBatch Time 1.146 (1.161)\tData Load Time 0.001 (0.006)\tLoss 4.9597 (5.0677)\tTop-5 Accuracy 54.580 (51.419)\n",
            "Epoch train time 326.019 (epoch_time.avg:.3f)\n",
            "-------------------- Validation --------------------\n",
            "Validation: [0/47]\tBatch Time 1.560 (1.560)\tLoss 6.0175 (6.0175)\tTop-5 Accuracy 44.524 (44.524)\t\n",
            "----- Bleu-n Scores -----\n",
            "1: 42.251\n",
            "2: 22.084\n",
            "3: 10.774\n",
            "4: 4.931\n",
            "-------------------------\n",
            "\n",
            " * LOSS - 5.854, TOP-5 ACCURACY - 45.669, BLEU-4 - 4.931\n",
            "\n",
            "Epoch validation time 29.358 (epoch_time.avg:.3f)\n",
            "\n",
            "Epochs since last improvement: (1,)\n",
            "__________________________________________________\n",
            "-------------------- Training --------------------\n",
            "Epoch: [16][0/282]\tBatch Time 2.355 (2.355)\tData Load Time 1.098 (1.098)\tLoss 5.0624 (5.0624)\tTop-5 Accuracy 50.977 (50.977)\n",
            "Epoch: [16][100/282]\tBatch Time 1.158 (1.168)\tData Load Time 0.001 (0.012)\tLoss 5.1604 (5.0036)\tTop-5 Accuracy 49.365 (52.535)\n",
            "Epoch: [16][200/282]\tBatch Time 1.138 (1.161)\tData Load Time 0.001 (0.007)\tLoss 5.1421 (5.0168)\tTop-5 Accuracy 49.904 (52.356)\n",
            "Epoch train time 326.099 (epoch_time.avg:.3f)\n",
            "-------------------- Validation --------------------\n",
            "Validation: [0/47]\tBatch Time 1.579 (1.579)\tLoss 5.8647 (5.8647)\tTop-5 Accuracy 46.479 (46.479)\t\n",
            "----- Bleu-n Scores -----\n",
            "1: 42.402\n",
            "2: 22.321\n",
            "3: 10.881\n",
            "4: 5.245\n",
            "-------------------------\n",
            "\n",
            " * LOSS - 5.860, TOP-5 ACCURACY - 45.601, BLEU-4 - 5.245\n",
            "\n",
            "Epoch validation time 29.458 (epoch_time.avg:.3f)\n",
            "\n",
            "Epochs since last improvement: (2,)\n",
            "__________________________________________________\n",
            "-------------------- Training --------------------\n",
            "Epoch: [17][0/282]\tBatch Time 2.279 (2.279)\tData Load Time 1.027 (1.027)\tLoss 5.0612 (5.0612)\tTop-5 Accuracy 52.242 (52.242)\n",
            "Epoch: [17][100/282]\tBatch Time 1.161 (1.168)\tData Load Time 0.001 (0.011)\tLoss 5.0704 (4.9469)\tTop-5 Accuracy 49.553 (53.256)\n",
            "Epoch: [17][200/282]\tBatch Time 1.139 (1.160)\tData Load Time 0.001 (0.006)\tLoss 4.9497 (4.9636)\tTop-5 Accuracy 52.427 (52.985)\n",
            "Epoch train time 325.867 (epoch_time.avg:.3f)\n",
            "-------------------- Validation --------------------\n",
            "Validation: [0/47]\tBatch Time 1.518 (1.518)\tLoss 6.2987 (6.2987)\tTop-5 Accuracy 40.899 (40.899)\t\n",
            "----- Bleu-n Scores -----\n",
            "1: 42.085\n",
            "2: 22.073\n",
            "3: 10.821\n",
            "4: 5.134\n",
            "-------------------------\n",
            "\n",
            " * LOSS - 5.871, TOP-5 ACCURACY - 45.653, BLEU-4 - 5.134\n",
            "\n",
            "Epoch validation time 29.456 (epoch_time.avg:.3f)\n",
            "\n",
            "Epochs since last improvement: (3,)\n",
            "__________________________________________________\n",
            "-------------------- Training --------------------\n",
            "Epoch: [18][0/282]\tBatch Time 2.258 (2.258)\tData Load Time 1.036 (1.036)\tLoss 4.8257 (4.8257)\tTop-5 Accuracy 56.767 (56.767)\n",
            "Epoch: [18][100/282]\tBatch Time 1.154 (1.168)\tData Load Time 0.001 (0.011)\tLoss 5.0556 (4.9244)\tTop-5 Accuracy 53.480 (53.769)\n",
            "Epoch: [18][200/282]\tBatch Time 1.152 (1.160)\tData Load Time 0.001 (0.006)\tLoss 5.0884 (4.9311)\tTop-5 Accuracy 51.619 (53.645)\n",
            "Epoch train time 326.033 (epoch_time.avg:.3f)\n",
            "-------------------- Validation --------------------\n",
            "Validation: [0/47]\tBatch Time 1.648 (1.648)\tLoss 5.9160 (5.9160)\tTop-5 Accuracy 47.696 (47.696)\t\n",
            "----- Bleu-n Scores -----\n",
            "1: 42.503\n",
            "2: 22.555\n",
            "3: 11.270\n",
            "4: 5.225\n",
            "-------------------------\n",
            "\n",
            " * LOSS - 5.854, TOP-5 ACCURACY - 45.946, BLEU-4 - 5.225\n",
            "\n",
            "Epoch validation time 29.416 (epoch_time.avg:.3f)\n",
            "\n",
            "Epochs since last improvement: (4,)\n",
            "Epoch 00005: reducing learning rate of group 0 to 4.0000e-09.\n",
            "Epoch 00005: reducing learning rate of group 0 to 1.0000e-05.\n",
            "__________________________________________________\n",
            "-------------------- Training --------------------\n",
            "Epoch: [19][0/282]\tBatch Time 2.224 (2.224)\tData Load Time 1.023 (1.023)\tLoss 4.6937 (4.6937)\tTop-5 Accuracy 57.749 (57.749)\n",
            "Epoch: [19][100/282]\tBatch Time 1.151 (1.165)\tData Load Time 0.001 (0.011)\tLoss 4.9315 (4.8507)\tTop-5 Accuracy 52.710 (54.643)\n",
            "Epoch: [19][200/282]\tBatch Time 1.147 (1.159)\tData Load Time 0.001 (0.006)\tLoss 4.9618 (4.8538)\tTop-5 Accuracy 56.121 (54.671)\n",
            "Epoch train time 325.728 (epoch_time.avg:.3f)\n",
            "-------------------- Validation --------------------\n",
            "Validation: [0/47]\tBatch Time 1.560 (1.560)\tLoss 6.1145 (6.1145)\tTop-5 Accuracy 43.534 (43.534)\t\n",
            "----- Bleu-n Scores -----\n",
            "1: 42.882\n",
            "2: 22.992\n",
            "3: 11.425\n",
            "4: 5.156\n",
            "-------------------------\n",
            "\n",
            " * LOSS - 5.836, TOP-5 ACCURACY - 46.113, BLEU-4 - 5.156\n",
            "\n",
            "Epoch validation time 29.040 (epoch_time.avg:.3f)\n",
            "\n",
            "Epochs since last improvement: (5,)\n",
            "No improvement for 5 consecutive epochs, terminating...\n"
          ]
        }
      ],
      "source": [
        "fit(t_params, checkpoint=checkpoint, m_params=m_params, logger=logger)"
      ]
    },
    {
      "cell_type": "code",
      "source": [
        "!ls"
      ],
      "metadata": {
        "id": "LeXG397won_X"
      },
      "execution_count": null,
      "outputs": []
    },
    {
      "cell_type": "markdown",
      "metadata": {
        "id": "EMMO_K-2LaYR"
      },
      "source": [
        "### Test Scores"
      ]
    },
    {
      "cell_type": "code",
      "source": [
        "!cp BEST_checkpoint_flickr8k_skipgram_pretrained_finetune.pth.tar /content/drive/MyDrive/ImageCaptioning/skipgram/"
      ],
      "metadata": {
        "id": "C7AJQiEDqko4"
      },
      "execution_count": 25,
      "outputs": []
    },
    {
      "cell_type": "code",
      "execution_count": 26,
      "metadata": {
        "execution": {
          "iopub.execute_input": "2021-07-02T09:52:17.735973Z",
          "iopub.status.busy": "2021-07-02T09:52:17.735653Z",
          "iopub.status.idle": "2021-07-02T09:52:18.162418Z",
          "shell.execute_reply": "2021-07-02T09:52:18.161492Z",
          "shell.execute_reply.started": "2021-07-02T09:52:17.735943Z"
        },
        "id": "knnG-VzB6gu7",
        "colab": {
          "base_uri": "https://localhost:8080/"
        },
        "outputId": "7081e098-ef0e-41ee-b199-08957ed15db3"
      },
      "outputs": [
        {
          "output_type": "stream",
          "name": "stdout",
          "text": [
            "Loaded Checkpoint!!\n",
            "Last Epoch: 14\n",
            "Best Bleu-4: 5.48\n"
          ]
        }
      ],
      "source": [
        "checkpoint = load_checkpoint(\"BEST_checkpoint_flickr8k_skipgram_pretrained_finetune.pth.tar\")\n",
        "decoder = checkpoint['decoder']\n",
        "decoder = decoder.to(device)\n",
        "decoder.eval()\n",
        "encoder = checkpoint['encoder']\n",
        "encoder = encoder.to(device)\n",
        "encoder.eval();"
      ]
    },
    {
      "cell_type": "code",
      "execution_count": 27,
      "metadata": {
        "execution": {
          "iopub.execute_input": "2021-07-02T09:52:35.780129Z",
          "iopub.status.busy": "2021-07-02T09:52:35.779796Z",
          "iopub.status.idle": "2021-07-02T09:59:00.851666Z",
          "shell.execute_reply": "2021-07-02T09:59:00.850406Z",
          "shell.execute_reply.started": "2021-07-02T09:52:35.780099Z"
        },
        "id": "reIYwZ6O6ncg",
        "colab": {
          "base_uri": "https://localhost:8080/"
        },
        "outputId": "ebf42a22-ec74-48b0-f46a-21432acfc505"
      },
      "outputs": [
        {
          "output_type": "stream",
          "name": "stderr",
          "text": [
            "/usr/local/lib/python3.7/dist-packages/torch/utils/data/dataloader.py:490: UserWarning: This DataLoader will create 8 worker processes in total. Our suggested max number of worker in current system is 2, which is smaller than what this DataLoader is going to create. Please be aware that excessive worker creation might get DataLoader running slow or even freeze, lower the worker number to avoid potential slowness/freeze if necessary.\n",
            "  cpuset_checked))\n"
          ]
        },
        {
          "output_type": "stream",
          "name": "stdout",
          "text": [
            "Dataset split: test\n",
            "Unique images: 1000\n",
            "Total size: 3000\n"
          ]
        },
        {
          "output_type": "stream",
          "name": "stderr",
          "text": [
            "EVALUATING AT BEAM SIZE 1:   0%|          | 0/1000 [00:00<?, ?it/s]Image-Captioning/eval.py:93: UserWarning: __floordiv__ is deprecated, and its behavior will change in a future version of pytorch. It currently rounds toward 0 (like the 'trunc' function NOT 'floor'). This results in incorrect rounding for negative values. To keep the current behavior, use torch.div(a, b, rounding_mode='trunc'), or for actual floor division, use torch.div(a, b, rounding_mode='floor').\n",
            "  prev_word_inds = top_k_words // vocab_size  # (s)\n",
            "EVALUATING AT BEAM SIZE 1: 100%|██████████| 1000/1000 [00:43<00:00, 23.20it/s]\n"
          ]
        },
        {
          "output_type": "stream",
          "name": "stdout",
          "text": [
            "----- Bleu-n Scores -----\n",
            "1: 39.012\n",
            "2: 24.454\n",
            "3: 13.011\n",
            "4: 7.276\n",
            "-------------------------\n",
            "Dataset split: test\n",
            "Unique images: 1000\n",
            "Total size: 3000\n"
          ]
        },
        {
          "output_type": "stream",
          "name": "stderr",
          "text": [
            "EVALUATING AT BEAM SIZE 3: 100%|██████████| 1000/1000 [00:43<00:00, 22.96it/s]\n"
          ]
        },
        {
          "output_type": "stream",
          "name": "stdout",
          "text": [
            "----- Bleu-n Scores -----\n",
            "1: 40.103\n",
            "2: 25.582\n",
            "3: 14.280\n",
            "4: 7.898\n",
            "-------------------------\n",
            "Dataset split: test\n",
            "Unique images: 1000\n",
            "Total size: 3000\n"
          ]
        },
        {
          "output_type": "stream",
          "name": "stderr",
          "text": [
            "EVALUATING AT BEAM SIZE 5: 100%|██████████| 1000/1000 [00:45<00:00, 22.03it/s]\n"
          ]
        },
        {
          "output_type": "stream",
          "name": "stdout",
          "text": [
            "----- Bleu-n Scores -----\n",
            "1: 39.108\n",
            "2: 25.131\n",
            "3: 13.962\n",
            "4: 8.129\n",
            "-------------------------\n"
          ]
        }
      ],
      "source": [
        "from eval import test_score\n",
        "\n",
        "test_dict = {}\n",
        "\n",
        "for i in [1, 3, 5]:\n",
        "    \n",
        "    b1, b2, b3, b4 = test_score(i, encoder, decoder, IMGS_PATH, DATA_JSON_PATH, vocab)\n",
        "    if i == 3:\n",
        "        test_dict['b1'] = b1\n",
        "        test_dict['b2'] = b2\n",
        "        test_dict['b3'] = b3\n",
        "    \n",
        "    test_dict[f'b4-b{i}'] = b4"
      ]
    }
  ],
  "metadata": {
    "accelerator": "GPU",
    "colab": {
      "collapsed_sections": [],
      "name": "skipgram - Ar pretrained with old preprocessing.ipynb",
      "provenance": [],
      "include_colab_link": true
    },
    "kernelspec": {
      "display_name": "Python 3",
      "language": "python",
      "name": "python3"
    },
    "language_info": {
      "codemirror_mode": {
        "name": "ipython",
        "version": 3
      },
      "file_extension": ".py",
      "mimetype": "text/x-python",
      "name": "python",
      "nbconvert_exporter": "python",
      "pygments_lexer": "ipython3",
      "version": "3.6.13"
    }
  },
  "nbformat": 4,
  "nbformat_minor": 0
}