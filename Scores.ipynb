{
 "cells": [
  {
   "cell_type": "code",
   "execution_count": 1,
   "id": "ad4502eb",
   "metadata": {},
   "outputs": [],
   "source": [
    "%reload_ext autoreload\n",
    "%autoreload 2\n",
    "%matplotlib inline"
   ]
  },
  {
   "cell_type": "code",
   "execution_count": 2,
   "id": "1d68be61",
   "metadata": {},
   "outputs": [],
   "source": [
    "import torch\n",
    "import torch.nn.functional as F\n",
    "import torchvision.transforms as transforms\n",
    "from utils import load_checkpoint\n",
    "from dataset import build_vocab, get_loaders\n",
    "from tqdm import tqdm\n",
    "\n",
    "from utils import *\n",
    "from dataset import *\n",
    "from train import *"
   ]
  },
  {
   "cell_type": "code",
   "execution_count": 3,
   "id": "1bf2898d",
   "metadata": {},
   "outputs": [],
   "source": [
    "# paths\n",
    "MODEL_PATH = 'models/BEST_checkpoint_flickr8k_5_cap_per_img_2_min_word_freq_resnet101_fullvocab_fix_ds_rmsprop_finetune.pth.tar'\n",
    "DATA_PATH = 'data.json'\n",
    "IMGS_PATH = 'flickr/Images/'"
   ]
  },
  {
   "cell_type": "code",
   "execution_count": 4,
   "id": "566e5b74",
   "metadata": {},
   "outputs": [
    {
     "name": "stderr",
     "output_type": "stream",
     "text": [
      "100%|██████████| 40000/40000 [00:00<00:00, 405330.96it/s]\n"
     ]
    },
    {
     "name": "stdout",
     "output_type": "stream",
     "text": [
      "Loaded Checkpoint!!\n",
      "Last Epoch: 12\n",
      "Best Bleu-4: 0.1655661704030113\n"
     ]
    }
   ],
   "source": [
    "# transforms\n",
    "transform = transforms.Compose([\n",
    "    transforms.Resize(256),\n",
    "    transforms.CenterCrop(224),\n",
    "    transforms.ToTensor(),\n",
    "    transforms.Normalize(mean=[0.485, 0.456, 0.406], std=[0.229, 0.224, 0.225]),\n",
    "])\n",
    "\n",
    "# vocab\n",
    "vocab = build_vocab(DATA_PATH)\n",
    "# checkpoint\n",
    "checkpoint = load_checkpoint(MODEL_PATH)"
   ]
  },
  {
   "cell_type": "code",
   "execution_count": 5,
   "id": "ba7f0160",
   "metadata": {},
   "outputs": [
    {
     "name": "stdout",
     "output_type": "stream",
     "text": [
      "Dataset split: test\n",
      "Unique images: 1000\n",
      "Total size: 5000\n"
     ]
    }
   ],
   "source": [
    "test_loader = get_loaders(256, IMGS_PATH, DATA_PATH, transform, vocab, test=True, n_workers=4)"
   ]
  },
  {
   "cell_type": "code",
   "execution_count": 6,
   "id": "7410884e",
   "metadata": {},
   "outputs": [
    {
     "data": {
      "text/plain": [
       "'cuda'"
      ]
     },
     "execution_count": 6,
     "metadata": {},
     "output_type": "execute_result"
    }
   ],
   "source": [
    "device = 'cuda' if torch.cuda.is_available() else 'cpu'\n",
    "device"
   ]
  },
  {
   "cell_type": "code",
   "execution_count": 7,
   "id": "57429326",
   "metadata": {},
   "outputs": [],
   "source": [
    "encoder = checkpoint['encoder'].to(device)\n",
    "decoder = checkpoint['decoder'].to(device)\n",
    "criterion = nn.CrossEntropyLoss().to(device)"
   ]
  },
  {
   "cell_type": "code",
   "execution_count": 9,
   "id": "5cc23a3e",
   "metadata": {},
   "outputs": [
    {
     "name": "stdout",
     "output_type": "stream",
     "text": [
      "Validation: [0/20]\tBatch Time 6.599 (6.599)\tLoss 5.2896 (5.2896)\tTop-5 Accuracy 62.193 (62.193)\t\n",
      "----- Bleu-n Scores -----\n",
      "1: 66.80474123326347\n",
      "2: 43.31300850079059\n",
      "3: 26.938996244889484\n",
      "4: 16.409407808472437\n",
      "-------------------------\n",
      "\n",
      " * LOSS - 5.270, TOP-5 ACCURACY - 63.094, BLEU-4 - 0.1653368117869597\n",
      "\n"
     ]
    },
    {
     "data": {
      "text/plain": [
       "0.1653368117869597"
      ]
     },
     "execution_count": 9,
     "metadata": {},
     "output_type": "execute_result"
    }
   ],
   "source": [
    "validate(test_loader, encoder, decoder, criterion, vocab)"
   ]
  }
 ],
 "metadata": {
  "kernelspec": {
   "display_name": "Python 3",
   "language": "python",
   "name": "python3"
  },
  "language_info": {
   "codemirror_mode": {
    "name": "ipython",
    "version": 3
   },
   "file_extension": ".py",
   "mimetype": "text/x-python",
   "name": "python",
   "nbconvert_exporter": "python",
   "pygments_lexer": "ipython3",
   "version": "3.7.6"
  }
 },
 "nbformat": 4,
 "nbformat_minor": 5
}
